{
 "cells": [
  {
   "cell_type": "markdown",
   "id": "72eef902",
   "metadata": {},
   "source": [
    "# Demonstration of the Available Metrics\n",
    "\n",
    "For a complete list of metrics and their documentation, please see the API Metrics [documentation](../API/simulation_api.md#metrics-computation).\n",
    "\n",
    "This demonstration will rely on the results produced in the \"How To\" notebook and serves as an extension of the API documentation to show what the results will look like depending on what inputs are provided."
   ]
  },
  {
   "cell_type": "code",
   "execution_count": 1,
   "id": "50472045",
   "metadata": {
    "tags": [
     "output_scroll"
    ]
   },
   "outputs": [],
   "source": [
    "from pprint import pprint\n",
    "from functools import partial\n",
    "\n",
    "import pandas as pd\n",
    "from pandas.io.formats.style import Styler\n",
    "\n",
    "from wombat.core import Simulation, Metrics\n",
    "\n",
    "# Clean up the aesthetics for the pandas outputs\n",
    "pd.set_option(\"display.max_rows\", 30)\n",
    "pd.set_option(\"display.max_columns\", 10)\n",
    "style = partial(\n",
    "  Styler,\n",
    "  table_attributes='style=\"font-size: 14px; grid-column-count: 6\"',\n",
    "  precision=2,\n",
    "  thousands=\",\",\n",
    ")"
   ]
  },
  {
   "cell_type": "markdown",
   "id": "bb6ff33a",
   "metadata": {},
   "source": [
    "## Table of Contents\n",
    "\n",
    "Below is a list of top-level sections to demonstrate how to use WOMBAT's `Metrics` class methods and an explanation of each individual metric.\n",
    " - [Setup](#setup): Running a simulation to gather the results\n",
    " - [Common Parameters](#common-parameter-explanations): Explanation of frequently used parameter settings\n",
    " - [Availability](#availability): Time-based and energy-based availability\n",
    " - [Capacity Factor](#capacity-factor): Gross and net capacity factor\n",
    " - [Task Completion Rate](#task-completion-rate): Task completion metrics\n",
    " - [Equipment Costs](#equipment-costs): Cost breakdowns by servicing equipment\n",
    " - [Service Equipment Utilization Rate](#service-equipment-utilization-rate): Utilization of servicing equipment\n",
    " - [Vessel-Crew Hours at Sea](#vessel-crew-hours-at-sea): Number of crew or vessel hours spent at sea\n",
    " - [Number of Tows](#number-of-tows): Number of tows breakdowns\n",
    " - [Labor Costs](#labor-costs): Breakdown of labor costs\n",
    " - [Equipment and Labor Costs](#equipment-and-labor-costs): Combined servicing equipment and labor cost breakdown\n",
    " - [Component Costs](#component-costs): Materials costs\n",
    " - [Fixed Cost Impacts](#fixed-cost-impacts): Total fixed costs\n",
    " - [OpEx](#opex): Project OpEx\n",
    " - [Process Times](#process-times): Timing of various stages of repair and maintenance\n",
    " - [Power Production](#power-production): Potential and actually produced power\n",
    " - [Net Present Value](#net-present-value): Project NPV calculator\n",
    " - [PySAM-Powered Results](#pysam-powered-results): PySAM results, if configuration is provided\n",
    "\n",
    "\n",
    "(setup)=\n",
    "## Setup\n",
    "\n",
    "The simulations from the How To notebook are going to be rerun as it is not recommended to create a Metrics class from scratch due to the\n",
    "large number of inputs that are required and the initialization is provided in the simulation API's run method.\n",
    "\n",
    "To simplify this process, a feature has been added to save the simulation outputs required to generate the Metrics inputs and a method to reload those outputs as inputs."
   ]
  },
  {
   "cell_type": "code",
   "execution_count": 2,
   "id": "d32315d4",
   "metadata": {
    "tags": [
     "output_scroll"
    ]
   },
   "outputs": [
    {
     "ename": "TypeError",
     "evalue": "__init__() missing 1 required positional argument: 'substation_turbine_map'",
     "output_type": "error",
     "traceback": [
      "\u001b[0;31m---------------------------------------------------------------------------\u001b[0m",
      "\u001b[0;31mTypeError\u001b[0m                                 Traceback (most recent call last)",
      "Cell \u001b[0;32mIn [2], line 9\u001b[0m\n\u001b[1;32m      7\u001b[0m fpath \u001b[38;5;241m=\u001b[39m sim\u001b[38;5;241m.\u001b[39menv\u001b[38;5;241m.\u001b[39mmetrics_input_fname\u001b[38;5;241m.\u001b[39mparent\n\u001b[1;32m      8\u001b[0m fname \u001b[38;5;241m=\u001b[39m sim\u001b[38;5;241m.\u001b[39menv\u001b[38;5;241m.\u001b[39mmetrics_input_fname\u001b[38;5;241m.\u001b[39mname\n\u001b[0;32m----> 9\u001b[0m metrics \u001b[38;5;241m=\u001b[39m \u001b[43mMetrics\u001b[49m\u001b[38;5;241;43m.\u001b[39;49m\u001b[43mfrom_simulation_outputs\u001b[49m\u001b[43m(\u001b[49m\u001b[43mfpath\u001b[49m\u001b[43m,\u001b[49m\u001b[43m \u001b[49m\u001b[43mfname\u001b[49m\u001b[43m)\u001b[49m\n\u001b[1;32m     11\u001b[0m \u001b[38;5;66;03m# Delete the log files now that they're loaded in\u001b[39;00m\n\u001b[1;32m     12\u001b[0m sim\u001b[38;5;241m.\u001b[39menv\u001b[38;5;241m.\u001b[39mcleanup_log_files()\n",
      "File \u001b[0;32m~/Documents/GitHub/WOMBAT/wombat/core/post_processor.py:255\u001b[0m, in \u001b[0;36mMetrics.from_simulation_outputs\u001b[0;34m(cls, fpath, fname)\u001b[0m\n\u001b[1;32m    238\u001b[0m \u001b[38;5;124;03m\"\"\"Creates the Metrics class from the saved outputs of a simulation for ease of\u001b[39;00m\n\u001b[1;32m    239\u001b[0m \u001b[38;5;124;03mrevisiting the calculated metrics.\u001b[39;00m\n\u001b[1;32m    240\u001b[0m \n\u001b[0;32m   (...)\u001b[0m\n\u001b[1;32m    252\u001b[0m \u001b[38;5;124;03m    The class object.\u001b[39;00m\n\u001b[1;32m    253\u001b[0m \u001b[38;5;124;03m\"\"\"\u001b[39;00m\n\u001b[1;32m    254\u001b[0m data \u001b[38;5;241m=\u001b[39m load_yaml(fpath, fname)\n\u001b[0;32m--> 255\u001b[0m metrics \u001b[38;5;241m=\u001b[39m \u001b[38;5;28;43mcls\u001b[39;49m\u001b[43m(\u001b[49m\u001b[38;5;241;43m*\u001b[39;49m\u001b[38;5;241;43m*\u001b[39;49m\u001b[43mdata\u001b[49m\u001b[43m)\u001b[49m\n\u001b[1;32m    256\u001b[0m \u001b[38;5;28;01mreturn\u001b[39;00m metrics\n",
      "\u001b[0;31mTypeError\u001b[0m: __init__() missing 1 required positional argument: 'substation_turbine_map'"
     ]
    }
   ],
   "source": [
    "sim = Simulation(\"DINWOODIE\", \"base.yaml\")\n",
    "\n",
    "# Both of these parameters are True by default for convenience\n",
    "sim.run(1000, create_metrics=True, save_metrics_inputs=True)\n",
    "\n",
    "# Load the metrics data\n",
    "fpath = sim.env.metrics_input_fname.parent\n",
    "fname = sim.env.metrics_input_fname.name\n",
    "metrics = Metrics.from_simulation_outputs(fpath, fname)\n",
    "\n",
    "# Delete the log files now that they're loaded in\n",
    "sim.env.cleanup_log_files()\n",
    "\n",
    "# Alternatively, in this case because the simulation was run, we can use the\n",
    "# following for convenience convenience only\n",
    "metrics = sim.metrics"
   ]
  },
  {
   "cell_type": "markdown",
   "id": "b14666ac",
   "metadata": {},
   "source": [
    "## Common Parameter Explanations\n",
    "\n",
    "Before diving into each and every metric, and how they can be customized, it is is worth noting some of the most common parameters used throughout, and their meanings to reduce redundancy. The varying output forms are demonstrated in the [availability](#availability) section below.\n",
    "\n",
    "#### `frequency`\n",
    "\n",
    "  project\n",
    "  : Computed across the whole simulation, with the resulting `DataFrame` having an empty index.\n",
    "\n",
    "  annual\n",
    "  : Summary of each year in the simulation, with the resulting `DataFrame` having \"year\" as the index.\n",
    "\n",
    "  monthly\n",
    "  : Summary of each month of the year, aggregated across years, with the resulting `DataFrame` having \"month\" as the index.\n",
    "\n",
    "  month-year\n",
    "  : computed on a month-by-year basis, producing the results for every month of the simulation, with the resulting `DataFrame` having \"year\" and \"month\" as the index.\n",
    "\n",
    "#### `by`\n",
    "\n",
    "  windfarm\n",
    "  : Aggregated across all turbines, with the resulting `DataFrame` having only \"windfarm\" as a column\n",
    "\n",
    "  turbine\n",
    "  : Computed for each turbine, with the resulting `DataFrame` having a column for each turbine\n",
    "\n",
    "## Availability\n",
    "\n",
    "There are two methods to produce availability, which have their own function calls:\n",
    " - energy: actual power produced divided by potential power produced\n",
    "   - {py:meth}`wombat.core.post_processor.Metrics.production_based_availability`\n",
    " - time: The ratio of all non-zero hours to all hours in the simulation, or the proportion of the simulation where turbines are operating\n",
    "   - {py:meth}`wombat.core.post_processor.Metrics.time_based_availability`\n",
    "\n",
    "Here, we will go through the various input definitions to get time-based availability data as both methods use the same inputs, and provide outputs in the same format.\n",
    "\n",
    "**Inputs**:\n",
    "\n",
    "- `frequency`, as explained [above](#common-parameter-explanations) options: \"project\", \"annual\", \"monthly\", and \"month-year\"\n",
    "- `by`, as explained [above](#common-parameter-explanations) options: \"windfarm\" and \"turbine\"\n",
    "\n",
    "\n",
    "Below is a demonstration of the variations on `frequency` and `by` for `time_based_availability`."
   ]
  },
  {
   "cell_type": "code",
   "execution_count": 3,
   "id": "71f00fea",
   "metadata": {
    "tags": [
     "output_scroll"
    ]
   },
   "outputs": [
    {
     "ename": "NameError",
     "evalue": "name 'metrics' is not defined",
     "output_type": "error",
     "traceback": [
      "\u001b[0;31m---------------------------------------------------------------------------\u001b[0m",
      "\u001b[0;31mNameError\u001b[0m                                 Traceback (most recent call last)",
      "Cell \u001b[0;32mIn [3], line 1\u001b[0m\n\u001b[0;32m----> 1\u001b[0m style(\u001b[43mmetrics\u001b[49m\u001b[38;5;241m.\u001b[39mtime_based_availability(frequency\u001b[38;5;241m=\u001b[39m\u001b[38;5;124m\"\u001b[39m\u001b[38;5;124mproject\u001b[39m\u001b[38;5;124m\"\u001b[39m, by\u001b[38;5;241m=\u001b[39m\u001b[38;5;124m\"\u001b[39m\u001b[38;5;124mwindfarm\u001b[39m\u001b[38;5;124m\"\u001b[39m))\n",
      "\u001b[0;31mNameError\u001b[0m: name 'metrics' is not defined"
     ]
    }
   ],
   "source": [
    "style(metrics.time_based_availability(frequency=\"project\", by=\"windfarm\"))"
   ]
  },
  {
   "cell_type": "code",
   "execution_count": 4,
   "id": "1fd52f66",
   "metadata": {
    "tags": [
     "output_scroll"
    ]
   },
   "outputs": [
    {
     "ename": "NameError",
     "evalue": "name 'metrics' is not defined",
     "output_type": "error",
     "traceback": [
      "\u001b[0;31m---------------------------------------------------------------------------\u001b[0m",
      "\u001b[0;31mNameError\u001b[0m                                 Traceback (most recent call last)",
      "Cell \u001b[0;32mIn [4], line 1\u001b[0m\n\u001b[0;32m----> 1\u001b[0m style(\u001b[43mmetrics\u001b[49m\u001b[38;5;241m.\u001b[39mproduction_based_availability(frequency\u001b[38;5;241m=\u001b[39m\u001b[38;5;124m\"\u001b[39m\u001b[38;5;124mproject\u001b[39m\u001b[38;5;124m\"\u001b[39m, by\u001b[38;5;241m=\u001b[39m\u001b[38;5;124m\"\u001b[39m\u001b[38;5;124mwindfarm\u001b[39m\u001b[38;5;124m\"\u001b[39m))\n",
      "\u001b[0;31mNameError\u001b[0m: name 'metrics' is not defined"
     ]
    }
   ],
   "source": [
    "style(metrics.production_based_availability(frequency=\"project\", by=\"windfarm\"))"
   ]
  },
  {
   "cell_type": "markdown",
   "id": "33c763ff",
   "metadata": {},
   "source": [
    "Note that in the two above examples, that the values are equal. This is due to the fact that the example simulation does not have any operating reduction applied to failures, unless it's a catastrophic failure, so\n",
    "there is be no expected difference."
   ]
  },
  {
   "cell_type": "code",
   "execution_count": 5,
   "id": "d12b3e8b",
   "metadata": {
    "tags": [
     "output_scroll"
    ]
   },
   "outputs": [
    {
     "ename": "NameError",
     "evalue": "name 'metrics' is not defined",
     "output_type": "error",
     "traceback": [
      "\u001b[0;31m---------------------------------------------------------------------------\u001b[0m",
      "\u001b[0;31mNameError\u001b[0m                                 Traceback (most recent call last)",
      "Cell \u001b[0;32mIn [5], line 2\u001b[0m\n\u001b[1;32m      1\u001b[0m \u001b[38;5;66;03m# Demonstrate the by turbine granularity\u001b[39;00m\n\u001b[0;32m----> 2\u001b[0m style(\u001b[43mmetrics\u001b[49m\u001b[38;5;241m.\u001b[39mtime_based_availability(frequency\u001b[38;5;241m=\u001b[39m\u001b[38;5;124m\"\u001b[39m\u001b[38;5;124mproject\u001b[39m\u001b[38;5;124m\"\u001b[39m, by\u001b[38;5;241m=\u001b[39m\u001b[38;5;124m\"\u001b[39m\u001b[38;5;124mturbine\u001b[39m\u001b[38;5;124m\"\u001b[39m))\n",
      "\u001b[0;31mNameError\u001b[0m: name 'metrics' is not defined"
     ]
    }
   ],
   "source": [
    "# Demonstrate the by turbine granularity\n",
    "style(metrics.time_based_availability(frequency=\"project\", by=\"turbine\"))"
   ]
  },
  {
   "cell_type": "code",
   "execution_count": 6,
   "id": "57f73b0d",
   "metadata": {
    "tags": [
     "output_scroll"
    ]
   },
   "outputs": [
    {
     "ename": "NameError",
     "evalue": "name 'metrics' is not defined",
     "output_type": "error",
     "traceback": [
      "\u001b[0;31m---------------------------------------------------------------------------\u001b[0m",
      "\u001b[0;31mNameError\u001b[0m                                 Traceback (most recent call last)",
      "Cell \u001b[0;32mIn [6], line 2\u001b[0m\n\u001b[1;32m      1\u001b[0m \u001b[38;5;66;03m# Demonstrate the annualized outputs\u001b[39;00m\n\u001b[0;32m----> 2\u001b[0m style(\u001b[43mmetrics\u001b[49m\u001b[38;5;241m.\u001b[39mtime_based_availability(frequency\u001b[38;5;241m=\u001b[39m\u001b[38;5;124m\"\u001b[39m\u001b[38;5;124mannual\u001b[39m\u001b[38;5;124m\"\u001b[39m, by\u001b[38;5;241m=\u001b[39m\u001b[38;5;124m\"\u001b[39m\u001b[38;5;124mwindfarm\u001b[39m\u001b[38;5;124m\"\u001b[39m))\n",
      "\u001b[0;31mNameError\u001b[0m: name 'metrics' is not defined"
     ]
    }
   ],
   "source": [
    "# Demonstrate the annualized outputs\n",
    "style(metrics.time_based_availability(frequency=\"annual\", by=\"windfarm\"))"
   ]
  },
  {
   "cell_type": "code",
   "execution_count": 7,
   "id": "53a1e906",
   "metadata": {
    "tags": [
     "output_scroll"
    ]
   },
   "outputs": [
    {
     "ename": "NameError",
     "evalue": "name 'metrics' is not defined",
     "output_type": "error",
     "traceback": [
      "\u001b[0;31m---------------------------------------------------------------------------\u001b[0m",
      "\u001b[0;31mNameError\u001b[0m                                 Traceback (most recent call last)",
      "Cell \u001b[0;32mIn [7], line 2\u001b[0m\n\u001b[1;32m      1\u001b[0m \u001b[38;5;66;03m# Demonstrate the month aggregations\u001b[39;00m\n\u001b[0;32m----> 2\u001b[0m style(\u001b[43mmetrics\u001b[49m\u001b[38;5;241m.\u001b[39mtime_based_availability(frequency\u001b[38;5;241m=\u001b[39m\u001b[38;5;124m\"\u001b[39m\u001b[38;5;124mmonthly\u001b[39m\u001b[38;5;124m\"\u001b[39m, by\u001b[38;5;241m=\u001b[39m\u001b[38;5;124m\"\u001b[39m\u001b[38;5;124mwindfarm\u001b[39m\u001b[38;5;124m\"\u001b[39m))\n",
      "\u001b[0;31mNameError\u001b[0m: name 'metrics' is not defined"
     ]
    }
   ],
   "source": [
    "# Demonstrate the month aggregations\n",
    "style(metrics.time_based_availability(frequency=\"monthly\", by=\"windfarm\"))"
   ]
  },
  {
   "cell_type": "code",
   "execution_count": 8,
   "id": "c1171845",
   "metadata": {
    "tags": [
     "output_scroll"
    ]
   },
   "outputs": [
    {
     "ename": "NameError",
     "evalue": "name 'metrics' is not defined",
     "output_type": "error",
     "traceback": [
      "\u001b[0;31m---------------------------------------------------------------------------\u001b[0m",
      "\u001b[0;31mNameError\u001b[0m                                 Traceback (most recent call last)",
      "Cell \u001b[0;32mIn [8], line 2\u001b[0m\n\u001b[1;32m      1\u001b[0m \u001b[38;5;66;03m# Demonstrate the granular monthly reporting\u001b[39;00m\n\u001b[0;32m----> 2\u001b[0m style(\u001b[43mmetrics\u001b[49m\u001b[38;5;241m.\u001b[39mtime_based_availability(frequency\u001b[38;5;241m=\u001b[39m\u001b[38;5;124m\"\u001b[39m\u001b[38;5;124mmonth-year\u001b[39m\u001b[38;5;124m\"\u001b[39m, by\u001b[38;5;241m=\u001b[39m\u001b[38;5;124m\"\u001b[39m\u001b[38;5;124mwindfarm\u001b[39m\u001b[38;5;124m\"\u001b[39m))\n",
      "\u001b[0;31mNameError\u001b[0m: name 'metrics' is not defined"
     ]
    }
   ],
   "source": [
    "# Demonstrate the granular monthly reporting\n",
    "style(metrics.time_based_availability(frequency=\"month-year\", by=\"windfarm\"))"
   ]
  },
  {
   "cell_type": "markdown",
   "id": "a22a38d0",
   "metadata": {},
   "source": [
    "## Capacity Factor\n",
    "\n",
    "The capacity factor is the ratio of actual (net) or potential (gross) energy production divided by the project's capacity. For further documentation, see the API docs here: {py:meth}`wombat.core.post_processor.Metrics.capacity_factor`.\n",
    "\n",
    "**Inputs**:\n",
    "\n",
    "- `which`\n",
    "  - \"net\": net capcity factor, actual production divided by the plant capacity\n",
    "  - \"gross\": gross capacity factor, potential production divided by the plant capacity\n",
    "- `frequency`, as explained [above](#common-parameter-explanations), options: \"project\", \"annual\", \"monthly\", and \"month-year\"\n",
    "- `by`, as explained [above](#common-parameter-explanations), options: \"windfarm\" and \"turbine\"\n",
    "\n",
    "**Example Usage**:"
   ]
  },
  {
   "cell_type": "code",
   "execution_count": 9,
   "id": "24246d74",
   "metadata": {
    "tags": [
     "output_scroll"
    ]
   },
   "outputs": [
    {
     "ename": "NameError",
     "evalue": "name 'metrics' is not defined",
     "output_type": "error",
     "traceback": [
      "\u001b[0;31m---------------------------------------------------------------------------\u001b[0m",
      "\u001b[0;31mNameError\u001b[0m                                 Traceback (most recent call last)",
      "Cell \u001b[0;32mIn [9], line 1\u001b[0m\n\u001b[0;32m----> 1\u001b[0m net_cf \u001b[38;5;241m=\u001b[39m \u001b[43mmetrics\u001b[49m\u001b[38;5;241m.\u001b[39mcapacity_factor(which\u001b[38;5;241m=\u001b[39m\u001b[38;5;124m\"\u001b[39m\u001b[38;5;124mnet\u001b[39m\u001b[38;5;124m\"\u001b[39m, frequency\u001b[38;5;241m=\u001b[39m\u001b[38;5;124m\"\u001b[39m\u001b[38;5;124mproject\u001b[39m\u001b[38;5;124m\"\u001b[39m, by\u001b[38;5;241m=\u001b[39m\u001b[38;5;124m\"\u001b[39m\u001b[38;5;124mwindfarm\u001b[39m\u001b[38;5;124m\"\u001b[39m)\u001b[38;5;241m.\u001b[39mvalues[\u001b[38;5;241m0\u001b[39m][\u001b[38;5;241m0\u001b[39m]\n\u001b[1;32m      2\u001b[0m gross_cf \u001b[38;5;241m=\u001b[39m metrics\u001b[38;5;241m.\u001b[39mcapacity_factor(which\u001b[38;5;241m=\u001b[39m\u001b[38;5;124m\"\u001b[39m\u001b[38;5;124mgross\u001b[39m\u001b[38;5;124m\"\u001b[39m, frequency\u001b[38;5;241m=\u001b[39m\u001b[38;5;124m\"\u001b[39m\u001b[38;5;124mproject\u001b[39m\u001b[38;5;124m\"\u001b[39m, by\u001b[38;5;241m=\u001b[39m\u001b[38;5;124m\"\u001b[39m\u001b[38;5;124mwindfarm\u001b[39m\u001b[38;5;124m\"\u001b[39m)\u001b[38;5;241m.\u001b[39mvalues[\u001b[38;5;241m0\u001b[39m][\u001b[38;5;241m0\u001b[39m]\n\u001b[1;32m      3\u001b[0m \u001b[38;5;28mprint\u001b[39m(\u001b[38;5;124mf\u001b[39m\u001b[38;5;124m\"\u001b[39m\u001b[38;5;124m  Net capacity factor: \u001b[39m\u001b[38;5;132;01m{\u001b[39;00mnet_cf\u001b[38;5;132;01m:\u001b[39;00m\u001b[38;5;124m.2%\u001b[39m\u001b[38;5;132;01m}\u001b[39;00m\u001b[38;5;124m\"\u001b[39m)\n",
      "\u001b[0;31mNameError\u001b[0m: name 'metrics' is not defined"
     ]
    }
   ],
   "source": [
    "net_cf = metrics.capacity_factor(which=\"net\", frequency=\"project\", by=\"windfarm\").values[0][0]\n",
    "gross_cf = metrics.capacity_factor(which=\"gross\", frequency=\"project\", by=\"windfarm\").values[0][0]\n",
    "print(f\"  Net capacity factor: {net_cf:.2%}\")\n",
    "print(f\"Gross capacity factor: {gross_cf:.2%}\")"
   ]
  },
  {
   "cell_type": "markdown",
   "id": "9c9cf9f3",
   "metadata": {},
   "source": [
    "## Task Completion Rate\n",
    "\n",
    "The task completion rate is the ratio of tasks completed aggregated to the desired `frequency`. It is possible to have a >100% completion rate if all maintenance and failure requests submitted in a time period were completed in addition to those that went unfinished in prior time periods. For further documentation, see the API docs here: {py:meth}`wombat.core.post_processor.Metrics.task_completion_rate`.\n",
    "\n",
    "**Inputs**:\n",
    "\n",
    "- `which`\n",
    "  - \"scheduled\": scheduled maintenance only (classified as maintenace tasks in inputs)\n",
    "  - \"unscheduled\": unscheduled maintenance only (classified as failure events in inputs)\n",
    "  - \"both\": Combined completion rate for all tasks\n",
    "- `frequency`, as explained [above](#common-parameter-explanations), options: \"project\", \"annual\", \"monthly\", and \"month-year\"\n",
    "\n",
    "**Example Usage**:"
   ]
  },
  {
   "cell_type": "code",
   "execution_count": 10,
   "id": "9f3dae79",
   "metadata": {
    "tags": [
     "output_scroll"
    ]
   },
   "outputs": [
    {
     "ename": "NameError",
     "evalue": "name 'metrics' is not defined",
     "output_type": "error",
     "traceback": [
      "\u001b[0;31m---------------------------------------------------------------------------\u001b[0m",
      "\u001b[0;31mNameError\u001b[0m                                 Traceback (most recent call last)",
      "Cell \u001b[0;32mIn [10], line 1\u001b[0m\n\u001b[0;32m----> 1\u001b[0m scheduled \u001b[38;5;241m=\u001b[39m \u001b[43mmetrics\u001b[49m\u001b[38;5;241m.\u001b[39mtask_completion_rate(which\u001b[38;5;241m=\u001b[39m\u001b[38;5;124m\"\u001b[39m\u001b[38;5;124mscheduled\u001b[39m\u001b[38;5;124m\"\u001b[39m, frequency\u001b[38;5;241m=\u001b[39m\u001b[38;5;124m\"\u001b[39m\u001b[38;5;124mproject\u001b[39m\u001b[38;5;124m\"\u001b[39m)\u001b[38;5;241m.\u001b[39mvalues[\u001b[38;5;241m0\u001b[39m][\u001b[38;5;241m0\u001b[39m]\n\u001b[1;32m      2\u001b[0m unscheduled \u001b[38;5;241m=\u001b[39m metrics\u001b[38;5;241m.\u001b[39mtask_completion_rate(which\u001b[38;5;241m=\u001b[39m\u001b[38;5;124m\"\u001b[39m\u001b[38;5;124munscheduled\u001b[39m\u001b[38;5;124m\"\u001b[39m, frequency\u001b[38;5;241m=\u001b[39m\u001b[38;5;124m\"\u001b[39m\u001b[38;5;124mproject\u001b[39m\u001b[38;5;124m\"\u001b[39m)\u001b[38;5;241m.\u001b[39mvalues[\u001b[38;5;241m0\u001b[39m][\u001b[38;5;241m0\u001b[39m]\n\u001b[1;32m      3\u001b[0m combined \u001b[38;5;241m=\u001b[39m metrics\u001b[38;5;241m.\u001b[39mtask_completion_rate(which\u001b[38;5;241m=\u001b[39m\u001b[38;5;124m\"\u001b[39m\u001b[38;5;124mboth\u001b[39m\u001b[38;5;124m\"\u001b[39m, frequency\u001b[38;5;241m=\u001b[39m\u001b[38;5;124m\"\u001b[39m\u001b[38;5;124mproject\u001b[39m\u001b[38;5;124m\"\u001b[39m)\u001b[38;5;241m.\u001b[39mvalues[\u001b[38;5;241m0\u001b[39m][\u001b[38;5;241m0\u001b[39m]\n",
      "\u001b[0;31mNameError\u001b[0m: name 'metrics' is not defined"
     ]
    }
   ],
   "source": [
    "scheduled = metrics.task_completion_rate(which=\"scheduled\", frequency=\"project\").values[0][0]\n",
    "unscheduled = metrics.task_completion_rate(which=\"unscheduled\", frequency=\"project\").values[0][0]\n",
    "combined = metrics.task_completion_rate(which=\"both\", frequency=\"project\").values[0][0]\n",
    "print(f\"  Scheduled Task Completion Rate: {scheduled:.2%}\")\n",
    "print(f\"Unscheduled Task Completion Rate: {unscheduled:.2%}\")\n",
    "print(f\"    Overall Task Completion Rate: {combined:.2%}\")"
   ]
  },
  {
   "cell_type": "markdown",
   "id": "7a562292",
   "metadata": {},
   "source": [
    "## Equipment Costs\n",
    "\n",
    "Sum of the costs associated with a simulation's servicing equipment, which excludes materials, downtime, etc. For further documentation, see the API docs here: {py:meth}`wombat.core.post_processor.Metrics.equipment_costs`.\n",
    "\n",
    "**Inputs**:\n",
    "\n",
    "- `frequency`, as explained [above](#common-parameter-explanations), options: \"project\", \"annual\", \"monthly\", and \"month-year\"\n",
    "- `by_equipment`\n",
    "  - `True`: Aggregates all equipment into a single cost\n",
    "  - `False`: Computes for each unit of servicing equipment\n",
    "\n",
    "**Example Usage**:"
   ]
  },
  {
   "cell_type": "code",
   "execution_count": 11,
   "id": "f4370029",
   "metadata": {
    "tags": [
     "output_scroll"
    ]
   },
   "outputs": [
    {
     "ename": "NameError",
     "evalue": "name 'metrics' is not defined",
     "output_type": "error",
     "traceback": [
      "\u001b[0;31m---------------------------------------------------------------------------\u001b[0m",
      "\u001b[0;31mNameError\u001b[0m                                 Traceback (most recent call last)",
      "Cell \u001b[0;32mIn [11], line 2\u001b[0m\n\u001b[1;32m      1\u001b[0m \u001b[38;5;66;03m# Project total at the whole wind farm level\u001b[39;00m\n\u001b[0;32m----> 2\u001b[0m style(\u001b[43mmetrics\u001b[49m\u001b[38;5;241m.\u001b[39mequipment_costs(frequency\u001b[38;5;241m=\u001b[39m\u001b[38;5;124m\"\u001b[39m\u001b[38;5;124mproject\u001b[39m\u001b[38;5;124m\"\u001b[39m, by_equipment\u001b[38;5;241m=\u001b[39m\u001b[38;5;28;01mFalse\u001b[39;00m))\n",
      "\u001b[0;31mNameError\u001b[0m: name 'metrics' is not defined"
     ]
    }
   ],
   "source": [
    "# Project total at the whole wind farm level\n",
    "style(metrics.equipment_costs(frequency=\"project\", by_equipment=False))"
   ]
  },
  {
   "cell_type": "code",
   "execution_count": 12,
   "id": "737805ca",
   "metadata": {
    "tags": [
     "output_scroll"
    ]
   },
   "outputs": [
    {
     "ename": "NameError",
     "evalue": "name 'metrics' is not defined",
     "output_type": "error",
     "traceback": [
      "\u001b[0;31m---------------------------------------------------------------------------\u001b[0m",
      "\u001b[0;31mNameError\u001b[0m                                 Traceback (most recent call last)",
      "Cell \u001b[0;32mIn [12], line 2\u001b[0m\n\u001b[1;32m      1\u001b[0m \u001b[38;5;66;03m# Project totals at servicing equipment level\u001b[39;00m\n\u001b[0;32m----> 2\u001b[0m style(\u001b[43mmetrics\u001b[49m\u001b[38;5;241m.\u001b[39mequipment_costs(frequency\u001b[38;5;241m=\u001b[39m\u001b[38;5;124m\"\u001b[39m\u001b[38;5;124mproject\u001b[39m\u001b[38;5;124m\"\u001b[39m, by_equipment\u001b[38;5;241m=\u001b[39m\u001b[38;5;28;01mTrue\u001b[39;00m))\n",
      "\u001b[0;31mNameError\u001b[0m: name 'metrics' is not defined"
     ]
    }
   ],
   "source": [
    "# Project totals at servicing equipment level\n",
    "style(metrics.equipment_costs(frequency=\"project\", by_equipment=True))"
   ]
  },
  {
   "cell_type": "markdown",
   "id": "c871234b",
   "metadata": {},
   "source": [
    "## Service Equipment Utilization Rate\n",
    "\n",
    "Ratio of days when the servicing equipment is in use (not delayed for a whole day due to either weather or lack of repairs to be completed) to the number of days it's present in the simulation. For further documentation, see the API docs here: {py:meth}`wombat.core.post_processor.Metrics.service_equipment_utilization`.\n",
    "\n",
    "**Inputs**:\n",
    "\n",
    "- `frequency`, as explained [above](#common-parameter-explanations), options: \"project\" and \"annual\"\n",
    "\n",
    "**Example Usage**:"
   ]
  },
  {
   "cell_type": "code",
   "execution_count": 13,
   "id": "1b5709b8",
   "metadata": {
    "tags": [
     "output_scroll"
    ]
   },
   "outputs": [
    {
     "ename": "NameError",
     "evalue": "name 'metrics' is not defined",
     "output_type": "error",
     "traceback": [
      "\u001b[0;31m---------------------------------------------------------------------------\u001b[0m",
      "\u001b[0;31mNameError\u001b[0m                                 Traceback (most recent call last)",
      "Cell \u001b[0;32mIn [13], line 2\u001b[0m\n\u001b[1;32m      1\u001b[0m \u001b[38;5;66;03m# Project totals\u001b[39;00m\n\u001b[0;32m----> 2\u001b[0m style(\u001b[43mmetrics\u001b[49m\u001b[38;5;241m.\u001b[39mservice_equipment_utilization(frequency\u001b[38;5;241m=\u001b[39m\u001b[38;5;124m\"\u001b[39m\u001b[38;5;124mproject\u001b[39m\u001b[38;5;124m\"\u001b[39m))\n",
      "\u001b[0;31mNameError\u001b[0m: name 'metrics' is not defined"
     ]
    }
   ],
   "source": [
    "# Project totals\n",
    "style(metrics.service_equipment_utilization(frequency=\"project\"))"
   ]
  },
  {
   "cell_type": "markdown",
   "id": "600bb20f",
   "metadata": {},
   "source": [
    "## Vessel-Crew Hours at Sea\n",
    "\n",
    "The number of vessel hours or crew hours at sea for offshore wind power plant simulations. For further documentation, see the API docs here: {py:meth}`wombat.core.post_processor.Metrics.vessel_crew_hours_at_sea`.\n",
    "\n",
    "**Inputs**:\n",
    "\n",
    "- `frequency`, as explained [above](#common-parameter-explanations), options: \"project\", \"annual\", \"monthly\", and \"month-year\"\n",
    "- `by_equipment`\n",
    "  - `True`: Aggregates all equipment into a single cost\n",
    "  - `False`: Computes for each unit of servicing equipment\n",
    "- `vessel_crew_assumption`: A dictionary of vessel names (`ServiceEquipment.settings.name`, but also found at `Metrics.service_equipment_names`) and the number of crew onboard at any given time. The application of this assumption transforms the results from vessel hours at sea to crew hours at sea.\n",
    "\n",
    "**Example Usage**:"
   ]
  },
  {
   "cell_type": "code",
   "execution_count": 14,
   "id": "efbc6adc",
   "metadata": {
    "tags": [
     "output_scroll"
    ]
   },
   "outputs": [
    {
     "ename": "NameError",
     "evalue": "name 'metrics' is not defined",
     "output_type": "error",
     "traceback": [
      "\u001b[0;31m---------------------------------------------------------------------------\u001b[0m",
      "\u001b[0;31mNameError\u001b[0m                                 Traceback (most recent call last)",
      "Cell \u001b[0;32mIn [14], line 2\u001b[0m\n\u001b[1;32m      1\u001b[0m \u001b[38;5;66;03m# Project total, not broken out by vessel\u001b[39;00m\n\u001b[0;32m----> 2\u001b[0m style(\u001b[43mmetrics\u001b[49m\u001b[38;5;241m.\u001b[39mvessel_crew_hours_at_sea(frequency\u001b[38;5;241m=\u001b[39m\u001b[38;5;124m\"\u001b[39m\u001b[38;5;124mproject\u001b[39m\u001b[38;5;124m\"\u001b[39m, by_equipment\u001b[38;5;241m=\u001b[39m\u001b[38;5;28;01mFalse\u001b[39;00m))\n",
      "\u001b[0;31mNameError\u001b[0m: name 'metrics' is not defined"
     ]
    }
   ],
   "source": [
    "# Project total, not broken out by vessel\n",
    "style(metrics.vessel_crew_hours_at_sea(frequency=\"project\", by_equipment=False))"
   ]
  },
  {
   "cell_type": "code",
   "execution_count": 15,
   "id": "291e4323",
   "metadata": {
    "tags": [
     "output_scroll"
    ]
   },
   "outputs": [
    {
     "ename": "NameError",
     "evalue": "name 'metrics' is not defined",
     "output_type": "error",
     "traceback": [
      "\u001b[0;31m---------------------------------------------------------------------------\u001b[0m",
      "\u001b[0;31mNameError\u001b[0m                                 Traceback (most recent call last)",
      "Cell \u001b[0;32mIn [15], line 2\u001b[0m\n\u001b[1;32m      1\u001b[0m \u001b[38;5;66;03m# Annual project totals, broken out by vessel\u001b[39;00m\n\u001b[0;32m----> 2\u001b[0m style(\u001b[43mmetrics\u001b[49m\u001b[38;5;241m.\u001b[39mvessel_crew_hours_at_sea(frequency\u001b[38;5;241m=\u001b[39m\u001b[38;5;124m\"\u001b[39m\u001b[38;5;124mannual\u001b[39m\u001b[38;5;124m\"\u001b[39m, by_equipment\u001b[38;5;241m=\u001b[39m\u001b[38;5;28;01mTrue\u001b[39;00m))\n",
      "\u001b[0;31mNameError\u001b[0m: name 'metrics' is not defined"
     ]
    }
   ],
   "source": [
    "# Annual project totals, broken out by vessel\n",
    "style(metrics.vessel_crew_hours_at_sea(frequency=\"annual\", by_equipment=True))"
   ]
  },
  {
   "cell_type": "markdown",
   "id": "4d9c5cbd",
   "metadata": {},
   "source": [
    "## Number of Tows\n",
    "\n",
    "The number of tows performed during the simulation. If tow-to-port was not used in the simulation, a DataFrame with a single value of 0 will be returned. For further documentation, see the API docs here: {py:meth}`wombat.core.post_processor.Metrics.number_of_tows`.\n",
    "\n",
    "**Inputs**:\n",
    "\n",
    "- `frequency`, as explained [above](#common-parameter-explanations), options: \"project\", \"annual\", \"monthly\", and \"month-year\"\n",
    "- `by_tug`\n",
    "  - `True`: Computed for each tugboat (towing vessel)\n",
    "  - `False`: Aggregates all the tugboats\n",
    "- `by_direction`\n",
    "  - `True`: Computed for each direction a tow was performed (to port or to site)\n",
    "  - `False`: Aggregates to the total number of tows\n",
    "\n",
    "**Example Usage**:"
   ]
  },
  {
   "cell_type": "code",
   "execution_count": 16,
   "id": "cfe503cc",
   "metadata": {
    "tags": [
     "output_scroll"
    ]
   },
   "outputs": [
    {
     "ename": "NameError",
     "evalue": "name 'metrics' is not defined",
     "output_type": "error",
     "traceback": [
      "\u001b[0;31m---------------------------------------------------------------------------\u001b[0m",
      "\u001b[0;31mNameError\u001b[0m                                 Traceback (most recent call last)",
      "Cell \u001b[0;32mIn [16], line 3\u001b[0m\n\u001b[1;32m      1\u001b[0m \u001b[38;5;66;03m# Project Total\u001b[39;00m\n\u001b[1;32m      2\u001b[0m \u001b[38;5;66;03m# NOTE: This example has no towing, so it will return 0\u001b[39;00m\n\u001b[0;32m----> 3\u001b[0m style(\u001b[43mmetrics\u001b[49m\u001b[38;5;241m.\u001b[39mnumber_of_tows(frequency\u001b[38;5;241m=\u001b[39m\u001b[38;5;124m\"\u001b[39m\u001b[38;5;124mproject\u001b[39m\u001b[38;5;124m\"\u001b[39m))\n",
      "\u001b[0;31mNameError\u001b[0m: name 'metrics' is not defined"
     ]
    }
   ],
   "source": [
    "# Project Total\n",
    "# NOTE: This example has no towing, so it will return 0\n",
    "style(metrics.number_of_tows(frequency=\"project\"))"
   ]
  },
  {
   "cell_type": "markdown",
   "id": "81cb496e",
   "metadata": {},
   "source": [
    "## Labor Costs\n",
    "\n",
    "Sum of all labor costs associated with servicing equipment, excluding the labor defined in the fixed costs, which can be broken out by type. For further documentation, see the API docs here: {py:meth}`wombat.core.post_processor.Metrics.labor_costs`.\n",
    "\n",
    "**Inputs**:\n",
    "\n",
    "- `frequency`, as explained [above](#common-parameter-explanations), options: \"project\", \"annual\", \"monthly\", and \"month-year\"\n",
    "- `by_type`\n",
    "  - `True`: Computed for each labor type (salary and hourly)\n",
    "  - `False`: Aggregates all the labor costs\n",
    "\n",
    "**Example Usage**:"
   ]
  },
  {
   "cell_type": "code",
   "execution_count": 17,
   "id": "ff0ce04b",
   "metadata": {
    "tags": [
     "output_scroll"
    ]
   },
   "outputs": [
    {
     "ename": "NameError",
     "evalue": "name 'metrics' is not defined",
     "output_type": "error",
     "traceback": [
      "\u001b[0;31m---------------------------------------------------------------------------\u001b[0m",
      "\u001b[0;31mNameError\u001b[0m                                 Traceback (most recent call last)",
      "Cell \u001b[0;32mIn [17], line 2\u001b[0m\n\u001b[1;32m      1\u001b[0m \u001b[38;5;66;03m# Project total at the whole wind farm level\u001b[39;00m\n\u001b[0;32m----> 2\u001b[0m total \u001b[38;5;241m=\u001b[39m \u001b[43mmetrics\u001b[49m\u001b[38;5;241m.\u001b[39mlabor_costs(frequency\u001b[38;5;241m=\u001b[39m\u001b[38;5;124m\"\u001b[39m\u001b[38;5;124mproject\u001b[39m\u001b[38;5;124m\"\u001b[39m, by_type\u001b[38;5;241m=\u001b[39m\u001b[38;5;28;01mFalse\u001b[39;00m)\n\u001b[1;32m      3\u001b[0m \u001b[38;5;28mprint\u001b[39m(\u001b[38;5;124mf\u001b[39m\u001b[38;5;124m\"\u001b[39m\u001b[38;5;124mProject total: $\u001b[39m\u001b[38;5;132;01m{\u001b[39;00mtotal\u001b[38;5;241m.\u001b[39mvalues[\u001b[38;5;241m0\u001b[39m][\u001b[38;5;241m0\u001b[39m] \u001b[38;5;241m/\u001b[39m metrics\u001b[38;5;241m.\u001b[39mproject_capacity\u001b[38;5;132;01m:\u001b[39;00m\u001b[38;5;124m,.2f\u001b[39m\u001b[38;5;132;01m}\u001b[39;00m\u001b[38;5;124m/MW\u001b[39m\u001b[38;5;124m\"\u001b[39m)\n",
      "\u001b[0;31mNameError\u001b[0m: name 'metrics' is not defined"
     ]
    }
   ],
   "source": [
    "# Project total at the whole wind farm level\n",
    "total = metrics.labor_costs(frequency=\"project\", by_type=False)\n",
    "print(f\"Project total: ${total.values[0][0] / metrics.project_capacity:,.2f}/MW\")"
   ]
  },
  {
   "cell_type": "code",
   "execution_count": 18,
   "id": "a35d28b0",
   "metadata": {
    "tags": [
     "output_scroll"
    ]
   },
   "outputs": [
    {
     "ename": "NameError",
     "evalue": "name 'metrics' is not defined",
     "output_type": "error",
     "traceback": [
      "\u001b[0;31m---------------------------------------------------------------------------\u001b[0m",
      "\u001b[0;31mNameError\u001b[0m                                 Traceback (most recent call last)",
      "Cell \u001b[0;32mIn [18], line 3\u001b[0m\n\u001b[1;32m      1\u001b[0m \u001b[38;5;66;03m# Project totals for each type of labor\u001b[39;00m\n\u001b[1;32m      2\u001b[0m \u001b[38;5;66;03m# NOTE: this simulation relies on using a fixed labor cost, so this is still $0\u001b[39;00m\n\u001b[0;32m----> 3\u001b[0m style(\u001b[43mmetrics\u001b[49m\u001b[38;5;241m.\u001b[39mlabor_costs(frequency\u001b[38;5;241m=\u001b[39m\u001b[38;5;124m\"\u001b[39m\u001b[38;5;124mproject\u001b[39m\u001b[38;5;124m\"\u001b[39m, by_type\u001b[38;5;241m=\u001b[39m\u001b[38;5;28;01mTrue\u001b[39;00m))\n",
      "\u001b[0;31mNameError\u001b[0m: name 'metrics' is not defined"
     ]
    }
   ],
   "source": [
    "# Project totals for each type of labor\n",
    "# NOTE: this simulation relies on using a fixed labor cost, so this is still $0\n",
    "style(metrics.labor_costs(frequency=\"project\", by_type=True))"
   ]
  },
  {
   "cell_type": "markdown",
   "id": "dd0f79f6",
   "metadata": {},
   "source": [
    "## Equipment and Labor Costs\n",
    "\n",
    "Sum of all labor and servicing equipment costs, excluding the labor defined in the fixed costs, which can be broken out by each category. For further documentation, see the API docs here: {py:meth}`wombat.core.post_processor.Metrics.equipment_labor_cost_breakdown`.\n",
    "\n",
    "**Inputs**:\n",
    "\n",
    "- `frequency`, as explained [above](#common-parameter-explanations), options: \"project\", \"annual\", \"monthly\", and \"month-year\"\n",
    "- `by_category`\n",
    "  - `True`: Computed for each unit servicing equipment and labor category\n",
    "  - `False`: Aggregated to the sum of all costs\n",
    "\n",
    "`reason` definitions:\n",
    " - Maintenance: routine maintenance, or events defined as a {py:class}`wombat.core.data_classes.Maintenance`\n",
    " - Repair: unscheduled maintenance, ranging from inspections to replacements, or events defined as a {py:class}`wombat.core.data_classes.Failure`\n",
    " - Mobilization: Cost of mobilizing servicing equipment\n",
    " - Crew Transfer: Costs incurred while crew are transfering between a turbine or substation and the servicing equipment\n",
    " - Site Travel: Costs incurred while transiting to/from the site and while at the site\n",
    " - Weather Delay: Any delays caused by unsafe weather conditions\n",
    " - No Requests: Equipment and labor is active, but there are no repairs or maintenance tasks to be completed\n",
    " - Not in Shift: Any time outside of the operating hours of the wind farm (or the servicing equipment's specific operating hours)\n",
    "\n",
    "**Example Usage**:"
   ]
  },
  {
   "cell_type": "code",
   "execution_count": 19,
   "id": "2755ff79",
   "metadata": {
    "tags": [
     "output_scroll"
    ]
   },
   "outputs": [
    {
     "ename": "NameError",
     "evalue": "name 'metrics' is not defined",
     "output_type": "error",
     "traceback": [
      "\u001b[0;31m---------------------------------------------------------------------------\u001b[0m",
      "\u001b[0;31mNameError\u001b[0m                                 Traceback (most recent call last)",
      "Cell \u001b[0;32mIn [19], line 2\u001b[0m\n\u001b[1;32m      1\u001b[0m \u001b[38;5;66;03m# Project totals\u001b[39;00m\n\u001b[0;32m----> 2\u001b[0m style(\u001b[43mmetrics\u001b[49m\u001b[38;5;241m.\u001b[39mequipment_labor_cost_breakdowns(frequency\u001b[38;5;241m=\u001b[39m\u001b[38;5;124m\"\u001b[39m\u001b[38;5;124mproject\u001b[39m\u001b[38;5;124m\"\u001b[39m, by_category\u001b[38;5;241m=\u001b[39m\u001b[38;5;28;01mFalse\u001b[39;00m))\n",
      "\u001b[0;31mNameError\u001b[0m: name 'metrics' is not defined"
     ]
    }
   ],
   "source": [
    "# Project totals\n",
    "style(metrics.equipment_labor_cost_breakdowns(frequency=\"project\", by_category=False))"
   ]
  },
  {
   "cell_type": "code",
   "execution_count": 20,
   "id": "97f92ac6",
   "metadata": {
    "tags": [
     "output_scroll"
    ]
   },
   "outputs": [
    {
     "ename": "NameError",
     "evalue": "name 'metrics' is not defined",
     "output_type": "error",
     "traceback": [
      "\u001b[0;31m---------------------------------------------------------------------------\u001b[0m",
      "\u001b[0;31mNameError\u001b[0m                                 Traceback (most recent call last)",
      "Cell \u001b[0;32mIn [20], line 2\u001b[0m\n\u001b[1;32m      1\u001b[0m \u001b[38;5;66;03m# Project totals by each category\u001b[39;00m\n\u001b[0;32m----> 2\u001b[0m style(\u001b[43mmetrics\u001b[49m\u001b[38;5;241m.\u001b[39mequipment_labor_cost_breakdowns(frequency\u001b[38;5;241m=\u001b[39m\u001b[38;5;124m\"\u001b[39m\u001b[38;5;124mproject\u001b[39m\u001b[38;5;124m\"\u001b[39m, by_category\u001b[38;5;241m=\u001b[39m\u001b[38;5;28;01mTrue\u001b[39;00m))\n",
      "\u001b[0;31mNameError\u001b[0m: name 'metrics' is not defined"
     ]
    }
   ],
   "source": [
    "# Project totals by each category\n",
    "style(metrics.equipment_labor_cost_breakdowns(frequency=\"project\", by_category=True))"
   ]
  },
  {
   "cell_type": "markdown",
   "id": "bd13d459",
   "metadata": {},
   "source": [
    "## Component Costs\n",
    "\n",
    "All of the costs associated with maintenance and failure events during the simulation, including delays incurred during the repair process, but excluding costs not directly tied to a repair. For further documentation, see the API docs here: {py:meth}`wombat.core.post_processor.Metrics.component_costs`.\n",
    "\n",
    "**Inputs**:\n",
    "\n",
    "- `frequency`, as explained [above](#common-parameter-explanations), options: \"project\", \"annual\", \"monthly\", and \"month-year\"\n",
    "- `by_category`\n",
    "  - `True`: Computed across each cost category\n",
    "  - `False`: Aggregated to the sum of all categories\n",
    "- `by_action`\n",
    "  - `True`: Computed by each of \"repair\", \"maintenance\", and \"delay\", and is included in the MultiIndex\n",
    "  - `False`: Aggregated as the sum of all actions\n",
    "\n",
    "`action` definitions:\n",
    " - maintenance: routine maintenance\n",
    " - repair: unscheduled maintenance, ranging from inspections to replacements\n",
    " - delay: Any delays caused by unsafe weather conditions or not being able to finish a process within a single shift\n",
    "\n",
    "**Example Usage**:"
   ]
  },
  {
   "cell_type": "code",
   "execution_count": 21,
   "id": "3536ecfd",
   "metadata": {
    "tags": [
     "output_scroll"
    ]
   },
   "outputs": [
    {
     "ename": "NameError",
     "evalue": "name 'metrics' is not defined",
     "output_type": "error",
     "traceback": [
      "\u001b[0;31m---------------------------------------------------------------------------\u001b[0m",
      "\u001b[0;31mNameError\u001b[0m                                 Traceback (most recent call last)",
      "Cell \u001b[0;32mIn [21], line 2\u001b[0m\n\u001b[1;32m      1\u001b[0m \u001b[38;5;66;03m# Project totals by component\u001b[39;00m\n\u001b[0;32m----> 2\u001b[0m style(\u001b[43mmetrics\u001b[49m\u001b[38;5;241m.\u001b[39mcomponent_costs(frequency\u001b[38;5;241m=\u001b[39m\u001b[38;5;124m\"\u001b[39m\u001b[38;5;124mproject\u001b[39m\u001b[38;5;124m\"\u001b[39m, by_category\u001b[38;5;241m=\u001b[39m\u001b[38;5;28;01mFalse\u001b[39;00m, by_action\u001b[38;5;241m=\u001b[39m\u001b[38;5;28;01mFalse\u001b[39;00m))\n",
      "\u001b[0;31mNameError\u001b[0m: name 'metrics' is not defined"
     ]
    }
   ],
   "source": [
    "# Project totals by component\n",
    "style(metrics.component_costs(frequency=\"project\", by_category=False, by_action=False))"
   ]
  },
  {
   "cell_type": "code",
   "execution_count": 22,
   "id": "6e52cbe0",
   "metadata": {
    "tags": [
     "output_scroll"
    ]
   },
   "outputs": [
    {
     "ename": "NameError",
     "evalue": "name 'metrics' is not defined",
     "output_type": "error",
     "traceback": [
      "\u001b[0;31m---------------------------------------------------------------------------\u001b[0m",
      "\u001b[0;31mNameError\u001b[0m                                 Traceback (most recent call last)",
      "Cell \u001b[0;32mIn [22], line 2\u001b[0m\n\u001b[1;32m      1\u001b[0m \u001b[38;5;66;03m# Project totals by each category and action type\u001b[39;00m\n\u001b[0;32m----> 2\u001b[0m style(\u001b[43mmetrics\u001b[49m\u001b[38;5;241m.\u001b[39mcomponent_costs(frequency\u001b[38;5;241m=\u001b[39m\u001b[38;5;124m\"\u001b[39m\u001b[38;5;124mproject\u001b[39m\u001b[38;5;124m\"\u001b[39m, by_category\u001b[38;5;241m=\u001b[39m\u001b[38;5;28;01mTrue\u001b[39;00m, by_action\u001b[38;5;241m=\u001b[39m\u001b[38;5;28;01mTrue\u001b[39;00m))\n",
      "\u001b[0;31mNameError\u001b[0m: name 'metrics' is not defined"
     ]
    }
   ],
   "source": [
    "# Project totals by each category and action type\n",
    "style(metrics.component_costs(frequency=\"project\", by_category=True, by_action=True))"
   ]
  },
  {
   "cell_type": "markdown",
   "id": "f24130a8",
   "metadata": {},
   "source": [
    "## Fixed Cost Impacts\n",
    "\n",
    "Computes the total costs of the fixed costs categories. For further documentation, see the defintion docs, here: {py:class}`wombat.core.data_classes.FixedCosts`, or the API docs here: {py:meth}`wombat.core.post_processor.Metrics.fixed_costs`.\n",
    "\n",
    "**Inputs**:\n",
    "\n",
    "- `frequency`, as explained [above](#common-parameter-explanations), options: \"project\", \"annual\", \"monthly\", and \"month-year\"\n",
    "- `resolution` (also, demonstrated below)\n",
    "  - \"high\": Computed across the most granular cost levels\n",
    "  - \"medium\": Computed for each general cost category\n",
    "  - \"low\": Aggregated to a single sum of costs"
   ]
  },
  {
   "cell_type": "code",
   "execution_count": 23,
   "id": "fb83aaf4",
   "metadata": {
    "tags": [
     "output_scroll"
    ]
   },
   "outputs": [
    {
     "ename": "NameError",
     "evalue": "name 'metrics' is not defined",
     "output_type": "error",
     "traceback": [
      "\u001b[0;31m---------------------------------------------------------------------------\u001b[0m",
      "\u001b[0;31mNameError\u001b[0m                                 Traceback (most recent call last)",
      "Cell \u001b[0;32mIn [23], line 1\u001b[0m\n\u001b[0;32m----> 1\u001b[0m pprint(\u001b[43mmetrics\u001b[49m\u001b[38;5;241m.\u001b[39mfixed_costs\u001b[38;5;241m.\u001b[39mhierarchy)\n",
      "\u001b[0;31mNameError\u001b[0m: name 'metrics' is not defined"
     ]
    }
   ],
   "source": [
    "pprint(metrics.fixed_costs.hierarchy)"
   ]
  },
  {
   "cell_type": "markdown",
   "id": "36aff22a",
   "metadata": {},
   "source": [
    "**Example Usage**:"
   ]
  },
  {
   "cell_type": "code",
   "execution_count": 24,
   "id": "58600463",
   "metadata": {
    "tags": [
     "output_scroll"
    ]
   },
   "outputs": [
    {
     "ename": "NameError",
     "evalue": "name 'metrics' is not defined",
     "output_type": "error",
     "traceback": [
      "\u001b[0;31m---------------------------------------------------------------------------\u001b[0m",
      "\u001b[0;31mNameError\u001b[0m                                 Traceback (most recent call last)",
      "Cell \u001b[0;32mIn [24], line 4\u001b[0m\n\u001b[1;32m      1\u001b[0m \u001b[38;5;66;03m# Project totals at the highest level\u001b[39;00m\n\u001b[1;32m      2\u001b[0m \u001b[38;5;66;03m# NOTE: there were no fixed costs defined in this example, so all values will be 0, so\u001b[39;00m\n\u001b[1;32m      3\u001b[0m \u001b[38;5;66;03m#       this will just be demonstrating the output format\u001b[39;00m\n\u001b[0;32m----> 4\u001b[0m style(\u001b[43mmetrics\u001b[49m\u001b[38;5;241m.\u001b[39mproject_fixed_costs(frequency\u001b[38;5;241m=\u001b[39m\u001b[38;5;124m\"\u001b[39m\u001b[38;5;124mproject\u001b[39m\u001b[38;5;124m\"\u001b[39m, resolution\u001b[38;5;241m=\u001b[39m\u001b[38;5;124m\"\u001b[39m\u001b[38;5;124mlow\u001b[39m\u001b[38;5;124m\"\u001b[39m))\n",
      "\u001b[0;31mNameError\u001b[0m: name 'metrics' is not defined"
     ]
    }
   ],
   "source": [
    "# Project totals at the highest level\n",
    "# NOTE: there were no fixed costs defined in this example, so all values will be 0, so\n",
    "#       this will just be demonstrating the output format\n",
    "style(metrics.project_fixed_costs(frequency=\"project\", resolution=\"low\"))"
   ]
  },
  {
   "cell_type": "code",
   "execution_count": 25,
   "id": "078c6982",
   "metadata": {
    "tags": [
     "output_scroll"
    ]
   },
   "outputs": [
    {
     "ename": "NameError",
     "evalue": "name 'metrics' is not defined",
     "output_type": "error",
     "traceback": [
      "\u001b[0;31m---------------------------------------------------------------------------\u001b[0m",
      "\u001b[0;31mNameError\u001b[0m                                 Traceback (most recent call last)",
      "Cell \u001b[0;32mIn [25], line 2\u001b[0m\n\u001b[1;32m      1\u001b[0m \u001b[38;5;66;03m# Project totals at the medium level\u001b[39;00m\n\u001b[0;32m----> 2\u001b[0m style(\u001b[43mmetrics\u001b[49m\u001b[38;5;241m.\u001b[39mproject_fixed_costs(frequency\u001b[38;5;241m=\u001b[39m\u001b[38;5;124m\"\u001b[39m\u001b[38;5;124mproject\u001b[39m\u001b[38;5;124m\"\u001b[39m, resolution\u001b[38;5;241m=\u001b[39m\u001b[38;5;124m\"\u001b[39m\u001b[38;5;124mmedium\u001b[39m\u001b[38;5;124m\"\u001b[39m))\n",
      "\u001b[0;31mNameError\u001b[0m: name 'metrics' is not defined"
     ]
    }
   ],
   "source": [
    "# Project totals at the medium level\n",
    "style(metrics.project_fixed_costs(frequency=\"project\", resolution=\"medium\"))"
   ]
  },
  {
   "cell_type": "code",
   "execution_count": 26,
   "id": "5a9c4318",
   "metadata": {
    "tags": [
     "output_scroll"
    ]
   },
   "outputs": [
    {
     "ename": "NameError",
     "evalue": "name 'metrics' is not defined",
     "output_type": "error",
     "traceback": [
      "\u001b[0;31m---------------------------------------------------------------------------\u001b[0m",
      "\u001b[0;31mNameError\u001b[0m                                 Traceback (most recent call last)",
      "Cell \u001b[0;32mIn [26], line 2\u001b[0m\n\u001b[1;32m      1\u001b[0m \u001b[38;5;66;03m# Project totals at the lowest level\u001b[39;00m\n\u001b[0;32m----> 2\u001b[0m style(\u001b[43mmetrics\u001b[49m\u001b[38;5;241m.\u001b[39mproject_fixed_costs(frequency\u001b[38;5;241m=\u001b[39m\u001b[38;5;124m\"\u001b[39m\u001b[38;5;124mproject\u001b[39m\u001b[38;5;124m\"\u001b[39m, resolution\u001b[38;5;241m=\u001b[39m\u001b[38;5;124m\"\u001b[39m\u001b[38;5;124mhigh\u001b[39m\u001b[38;5;124m\"\u001b[39m))\n",
      "\u001b[0;31mNameError\u001b[0m: name 'metrics' is not defined"
     ]
    }
   ],
   "source": [
    "# Project totals at the lowest level\n",
    "style(metrics.project_fixed_costs(frequency=\"project\", resolution=\"high\"))"
   ]
  },
  {
   "cell_type": "markdown",
   "id": "8048205e",
   "metadata": {},
   "source": [
    "## OpEx\n",
    "\n",
    "Computes the total cost of all operating expenditures for the duration of the simulation, including fixed costs. For further documentation, see the API docs here: {py:meth}`wombat.core.post_processor.Metrics.opex`.\n",
    "**Inputs**:\n",
    "\n",
    "- `frequency`, as explained [above](#common-parameter-explanations), options: \"project\", \"annual\", \"monthly\", and \"month-year\"\n",
    "\n",
    "**Example Usage**:"
   ]
  },
  {
   "cell_type": "code",
   "execution_count": 27,
   "id": "afd8b751",
   "metadata": {
    "tags": [
     "output_scroll"
    ]
   },
   "outputs": [
    {
     "ename": "NameError",
     "evalue": "name 'metrics' is not defined",
     "output_type": "error",
     "traceback": [
      "\u001b[0;31m---------------------------------------------------------------------------\u001b[0m",
      "\u001b[0;31mNameError\u001b[0m                                 Traceback (most recent call last)",
      "Cell \u001b[0;32mIn [27], line 1\u001b[0m\n\u001b[0;32m----> 1\u001b[0m style(\u001b[43mmetrics\u001b[49m\u001b[38;5;241m.\u001b[39mopex(\u001b[38;5;124m\"\u001b[39m\u001b[38;5;124mannual\u001b[39m\u001b[38;5;124m\"\u001b[39m))\n",
      "\u001b[0;31mNameError\u001b[0m: name 'metrics' is not defined"
     ]
    }
   ],
   "source": [
    "style(metrics.opex(\"annual\"))"
   ]
  },
  {
   "cell_type": "markdown",
   "id": "6be91d60",
   "metadata": {},
   "source": [
    "## Process Times\n",
    "\n",
    "Computes the total number of hours spent from repair request submission to completion, performing repairs, and the number of rquest for each repair category. For further documentation, see the API docs here: {py:meth}`wombat.core.post_processor.Metrics.process_times`.\n",
    "\n",
    "**Example Usage**:"
   ]
  },
  {
   "cell_type": "code",
   "execution_count": 28,
   "id": "a8bda96a",
   "metadata": {
    "tags": [
     "output_scroll"
    ]
   },
   "outputs": [
    {
     "ename": "NameError",
     "evalue": "name 'metrics' is not defined",
     "output_type": "error",
     "traceback": [
      "\u001b[0;31m---------------------------------------------------------------------------\u001b[0m",
      "\u001b[0;31mNameError\u001b[0m                                 Traceback (most recent call last)",
      "Cell \u001b[0;32mIn [28], line 1\u001b[0m\n\u001b[0;32m----> 1\u001b[0m style(\u001b[43mmetrics\u001b[49m\u001b[38;5;241m.\u001b[39mprocess_times())\n",
      "\u001b[0;31mNameError\u001b[0m: name 'metrics' is not defined"
     ]
    }
   ],
   "source": [
    "style(metrics.process_times())"
   ]
  },
  {
   "cell_type": "markdown",
   "id": "b4647c9c",
   "metadata": {},
   "source": [
    "## Power Production\n",
    "\n",
    "Computes the total power production for the wind farm. For further documentation, see the API docs here: {py:meth}`wombat.core.post_processor.Metrics.power_production`.\n",
    "**Inputs**:\n",
    "\n",
    "- `frequency`, as explained [above](#common-parameter-explanations), options: \"project\", \"annual\", \"monthly\", and \"month-year\"\n",
    "- `by`, as explained [above](#common-parameter-explanations) options: \"windfarm\" and \"turbine\"\n",
    "- `units`\n",
    "  - \"kwh\": kilowatt-hours (kWh)\n",
    "  - \"mwh\": megawatt-hours (MWh)\n",
    "  - \"gwh\": gigawatt-hours (GWh)\n",
    "\n",
    "**Example Usage**:"
   ]
  },
  {
   "cell_type": "code",
   "execution_count": 29,
   "id": "714a40a9",
   "metadata": {
    "tags": [
     "output_scroll"
    ]
   },
   "outputs": [
    {
     "ename": "NameError",
     "evalue": "name 'metrics' is not defined",
     "output_type": "error",
     "traceback": [
      "\u001b[0;31m---------------------------------------------------------------------------\u001b[0m",
      "\u001b[0;31mNameError\u001b[0m                                 Traceback (most recent call last)",
      "Cell \u001b[0;32mIn [29], line 2\u001b[0m\n\u001b[1;32m      1\u001b[0m \u001b[38;5;66;03m# Project totals, in kWh, at the wind farm level\u001b[39;00m\n\u001b[0;32m----> 2\u001b[0m style(\u001b[43mmetrics\u001b[49m\u001b[38;5;241m.\u001b[39mpower_production(frequency\u001b[38;5;241m=\u001b[39m\u001b[38;5;124m\"\u001b[39m\u001b[38;5;124mproject\u001b[39m\u001b[38;5;124m\"\u001b[39m, by\u001b[38;5;241m=\u001b[39m\u001b[38;5;124m\"\u001b[39m\u001b[38;5;124mwindfarm\u001b[39m\u001b[38;5;124m\"\u001b[39m, units\u001b[38;5;241m=\u001b[39m\u001b[38;5;124m\"\u001b[39m\u001b[38;5;124mkwh\u001b[39m\u001b[38;5;124m\"\u001b[39m))\n",
      "\u001b[0;31mNameError\u001b[0m: name 'metrics' is not defined"
     ]
    }
   ],
   "source": [
    "# Project totals, in kWh, at the wind farm level\n",
    "style(metrics.power_production(frequency=\"project\", by=\"windfarm\", units=\"kwh\"))"
   ]
  },
  {
   "cell_type": "code",
   "execution_count": 30,
   "id": "e1e40c69",
   "metadata": {
    "tags": [
     "output_scroll"
    ]
   },
   "outputs": [
    {
     "ename": "NameError",
     "evalue": "name 'metrics' is not defined",
     "output_type": "error",
     "traceback": [
      "\u001b[0;31m---------------------------------------------------------------------------\u001b[0m",
      "\u001b[0;31mNameError\u001b[0m                                 Traceback (most recent call last)",
      "Cell \u001b[0;32mIn [30], line 2\u001b[0m\n\u001b[1;32m      1\u001b[0m \u001b[38;5;66;03m# Project totals, in MWh, at the wind farm level\u001b[39;00m\n\u001b[0;32m----> 2\u001b[0m (\u001b[43mmetrics\u001b[49m\u001b[38;5;241m.\u001b[39mpower_production(frequency\u001b[38;5;241m=\u001b[39m\u001b[38;5;124m\"\u001b[39m\u001b[38;5;124mproject\u001b[39m\u001b[38;5;124m\"\u001b[39m, units\u001b[38;5;241m=\u001b[39m\u001b[38;5;124m\"\u001b[39m\u001b[38;5;124mmwh\u001b[39m\u001b[38;5;124m\"\u001b[39m))\n",
      "\u001b[0;31mNameError\u001b[0m: name 'metrics' is not defined"
     ]
    }
   ],
   "source": [
    "# Project totals, in MWh, at the wind farm level\n",
    "(metrics.power_production(frequency=\"project\", units=\"mwh\"))"
   ]
  },
  {
   "cell_type": "code",
   "execution_count": 31,
   "id": "67e46ed8",
   "metadata": {
    "tags": [
     "output_scroll"
    ]
   },
   "outputs": [
    {
     "ename": "NameError",
     "evalue": "name 'metrics' is not defined",
     "output_type": "error",
     "traceback": [
      "\u001b[0;31m---------------------------------------------------------------------------\u001b[0m",
      "\u001b[0;31mNameError\u001b[0m                                 Traceback (most recent call last)",
      "Cell \u001b[0;32mIn [31], line 2\u001b[0m\n\u001b[1;32m      1\u001b[0m \u001b[38;5;66;03m# Project totals, in GWh, at the wind farm level\u001b[39;00m\n\u001b[0;32m----> 2\u001b[0m style(\u001b[43mmetrics\u001b[49m\u001b[38;5;241m.\u001b[39mpower_production(frequency\u001b[38;5;241m=\u001b[39m\u001b[38;5;124m\"\u001b[39m\u001b[38;5;124mproject\u001b[39m\u001b[38;5;124m\"\u001b[39m))\n",
      "\u001b[0;31mNameError\u001b[0m: name 'metrics' is not defined"
     ]
    }
   ],
   "source": [
    "# Project totals, in GWh, at the wind farm level\n",
    "style(metrics.power_production(frequency=\"project\"))"
   ]
  },
  {
   "cell_type": "markdown",
   "id": "66b7340e",
   "metadata": {},
   "source": [
    "## Net Present Value\n",
    "\n",
    "Calcualtes the net present value (NPV) for the project, as $NPV = (Power * OfftakePrice - OpEx) / (1 + DiscountRate)$. For further documentation, see the API docs here: {py:meth}`wombat.core.post_processor.Metrics.npv`.\n",
    "\n",
    "**Inputs**:\n",
    "\n",
    "- `frequency`, as explained [above](#common-parameter-explanations), options: \"project\", \"annual\", \"monthly\", and \"month-year\"\n",
    "- `discount_rate`: The rate of return that could be earned on alternative investments, by default 0.025.\n",
    "- `offtake_price`: Price of energy, per MWh, by default 80."
   ]
  },
  {
   "cell_type": "code",
   "execution_count": 32,
   "id": "ff86ff04",
   "metadata": {
    "tags": [
     "output_scroll"
    ]
   },
   "outputs": [
    {
     "ename": "NameError",
     "evalue": "name 'metrics' is not defined",
     "output_type": "error",
     "traceback": [
      "\u001b[0;31m---------------------------------------------------------------------------\u001b[0m",
      "\u001b[0;31mNameError\u001b[0m                                 Traceback (most recent call last)",
      "Cell \u001b[0;32mIn [32], line 1\u001b[0m\n\u001b[0;32m----> 1\u001b[0m style(\u001b[43mmetrics\u001b[49m\u001b[38;5;241m.\u001b[39mopex(\u001b[38;5;124m\"\u001b[39m\u001b[38;5;124mannual\u001b[39m\u001b[38;5;124m\"\u001b[39m))\n",
      "\u001b[0;31mNameError\u001b[0m: name 'metrics' is not defined"
     ]
    }
   ],
   "source": [
    "style(metrics.opex(\"annual\"))"
   ]
  },
  {
   "cell_type": "markdown",
   "id": "0cf408bf",
   "metadata": {},
   "source": [
    "## PySAM-Powered Results\n",
    "\n",
    "For a number of project financial metrics, the PySAM library is utilized.\n",
    "\n",
    "```{warning}\n",
    "If a \"SAM_settings\" file is not provided to the simulation, then the following metrics will not be able to be calculated and will raise a `NotImplementedError`.\n",
    "```\n",
    "```{warning}\n",
    "All PySAM integrations will raise a `NotImplementedError` because the API needs to be re-mapped for PySAM v3.0+.\n",
    "```\n",
    "\n",
    "### Net Present Value (NPV)"
   ]
  },
  {
   "cell_type": "code",
   "execution_count": 33,
   "id": "64ac7477",
   "metadata": {
    "tags": [
     "raises-exception"
    ]
   },
   "outputs": [
    {
     "ename": "NameError",
     "evalue": "name 'metrics' is not defined",
     "output_type": "error",
     "traceback": [
      "\u001b[0;31m---------------------------------------------------------------------------\u001b[0m",
      "\u001b[0;31mNameError\u001b[0m                                 Traceback (most recent call last)",
      "Cell \u001b[0;32mIn [33], line 1\u001b[0m\n\u001b[0;32m----> 1\u001b[0m \u001b[43mmetrics\u001b[49m\u001b[38;5;241m.\u001b[39mpysam_npv()\n",
      "\u001b[0;31mNameError\u001b[0m: name 'metrics' is not defined"
     ]
    }
   ],
   "source": [
    "metrics.pysam_npv()"
   ]
  },
  {
   "cell_type": "markdown",
   "id": "20ef750b",
   "metadata": {},
   "source": [
    "### Real Levelized Cost of Energy (LCOE)"
   ]
  },
  {
   "cell_type": "code",
   "execution_count": 34,
   "id": "a0f820bc",
   "metadata": {
    "tags": [
     "raises-exception"
    ]
   },
   "outputs": [
    {
     "ename": "NameError",
     "evalue": "name 'metrics' is not defined",
     "output_type": "error",
     "traceback": [
      "\u001b[0;31m---------------------------------------------------------------------------\u001b[0m",
      "\u001b[0;31mNameError\u001b[0m                                 Traceback (most recent call last)",
      "Cell \u001b[0;32mIn [34], line 1\u001b[0m\n\u001b[0;32m----> 1\u001b[0m \u001b[43mmetrics\u001b[49m\u001b[38;5;241m.\u001b[39mpysam_lcoe_real()\n",
      "\u001b[0;31mNameError\u001b[0m: name 'metrics' is not defined"
     ]
    }
   ],
   "source": [
    "metrics.pysam_lcoe_real()"
   ]
  },
  {
   "cell_type": "markdown",
   "id": "0bdb25c6",
   "metadata": {},
   "source": [
    "### Nominal Levelized Cost of Energy (LCOE)"
   ]
  },
  {
   "cell_type": "code",
   "execution_count": 35,
   "id": "5ce728fa",
   "metadata": {
    "tags": [
     "raises-exception"
    ]
   },
   "outputs": [
    {
     "ename": "NameError",
     "evalue": "name 'metrics' is not defined",
     "output_type": "error",
     "traceback": [
      "\u001b[0;31m---------------------------------------------------------------------------\u001b[0m",
      "\u001b[0;31mNameError\u001b[0m                                 Traceback (most recent call last)",
      "Cell \u001b[0;32mIn [35], line 1\u001b[0m\n\u001b[0;32m----> 1\u001b[0m \u001b[43mmetrics\u001b[49m\u001b[38;5;241m.\u001b[39mpysam_lcoe_nominal()\n",
      "\u001b[0;31mNameError\u001b[0m: name 'metrics' is not defined"
     ]
    }
   ],
   "source": [
    "metrics.pysam_lcoe_nominal()"
   ]
  },
  {
   "cell_type": "markdown",
   "id": "94df7d77",
   "metadata": {},
   "source": [
    "### After-tax Internal Return Rate (IRR)"
   ]
  },
  {
   "cell_type": "code",
   "execution_count": 36,
   "id": "7d27ab1c",
   "metadata": {
    "tags": [
     "raises-exception"
    ]
   },
   "outputs": [
    {
     "ename": "NameError",
     "evalue": "name 'metrics' is not defined",
     "output_type": "error",
     "traceback": [
      "\u001b[0;31m---------------------------------------------------------------------------\u001b[0m",
      "\u001b[0;31mNameError\u001b[0m                                 Traceback (most recent call last)",
      "Cell \u001b[0;32mIn [36], line 1\u001b[0m\n\u001b[0;32m----> 1\u001b[0m \u001b[43mmetrics\u001b[49m\u001b[38;5;241m.\u001b[39mpysam_irr()\n",
      "\u001b[0;31mNameError\u001b[0m: name 'metrics' is not defined"
     ]
    }
   ],
   "source": [
    "metrics.pysam_irr()"
   ]
  },
  {
   "cell_type": "markdown",
   "id": "fb364857",
   "metadata": {},
   "source": [
    "### Combined PySAM Outputs"
   ]
  },
  {
   "cell_type": "code",
   "execution_count": 37,
   "id": "e1518f2a",
   "metadata": {
    "tags": [
     "raises-exception"
    ]
   },
   "outputs": [
    {
     "ename": "NameError",
     "evalue": "name 'metrics' is not defined",
     "output_type": "error",
     "traceback": [
      "\u001b[0;31m---------------------------------------------------------------------------\u001b[0m",
      "\u001b[0;31mNameError\u001b[0m                                 Traceback (most recent call last)",
      "Cell \u001b[0;32mIn [37], line 1\u001b[0m\n\u001b[0;32m----> 1\u001b[0m \u001b[43mmetrics\u001b[49m\u001b[38;5;241m.\u001b[39mpysam_all_outputs()\n",
      "\u001b[0;31mNameError\u001b[0m: name 'metrics' is not defined"
     ]
    }
   ],
   "source": [
    "metrics.pysam_all_outputs()"
   ]
  }
 ],
 "metadata": {
  "jupytext": {
   "formats": "md:myst",
   "text_representation": {
    "extension": ".md",
    "format_name": "myst"
   }
  },
  "kernelspec": {
   "display_name": "Python 3",
   "language": "python",
   "name": "python3"
  },
  "language_info": {
   "codemirror_mode": {
    "name": "ipython",
    "version": 3
   },
   "file_extension": ".py",
   "mimetype": "text/x-python",
   "name": "python",
   "nbconvert_exporter": "python",
   "pygments_lexer": "ipython3",
   "version": "3.8.8"
  },
  "source_map": [
   11,
   20,
   39,
   72,
   90,
   136,
   141,
   144,
   149,
   154,
   159,
   164,
   168,
   186,
   192,
   208,
   216,
   231,
   236,
   240,
   252,
   256,
   272,
   277,
   281,
   299,
   304,
   319,
   326,
   331,
   356,
   361,
   365,
   388,
   393,
   397,
   411,
   414,
   418,
   425,
   430,
   434,
   445,
   448,
   456,
   459,
   475,
   480,
   485,
   489,
   502,
   505,
   520,
   524,
   528,
   532,
   536,
   540,
   544,
   548,
   551
  ]
 },
 "nbformat": 4,
 "nbformat_minor": 5
}
