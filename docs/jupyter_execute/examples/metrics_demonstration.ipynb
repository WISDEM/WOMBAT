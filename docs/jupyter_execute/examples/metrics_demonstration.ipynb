{
 "cells": [
  {
   "cell_type": "markdown",
   "id": "670c1e9c",
   "metadata": {},
   "source": [
    "# Demonstration of the Available Metrics\n",
    "\n",
    "For a complete list of metrics and their documentation, please see the API Metrics [documentation](../API/simulation_api.md#metrics-computation).\n",
    "\n",
    "This demonstration will rely on the results produced in the \"How To\" notebook and serves as an extension of the API documentation to show what the results will look like depending on what inputs are provided."
   ]
  },
  {
   "cell_type": "code",
   "execution_count": 1,
   "id": "4d330767",
   "metadata": {
    "tags": [
     "output_scroll"
    ]
   },
   "outputs": [],
   "source": [
    "from pprint import pprint\n",
    "from functools import partial\n",
    "\n",
    "import pandas as pd\n",
    "from pandas.io.formats.style import Styler\n",
    "\n",
    "from wombat.core import Simulation, Metrics\n",
    "\n",
    "# Clean up the aesthetics for the pandas outputs\n",
    "pd.set_option(\"display.max_rows\", 30)\n",
    "pd.set_option(\"display.max_columns\", 10)\n",
    "style = partial(\n",
    "  Styler,\n",
    "  table_attributes='style=\"font-size: 14px; grid-column-count: 6\"',\n",
    "  precision=2,\n",
    "  thousands=\",\",\n",
    ")"
   ]
  },
  {
   "cell_type": "markdown",
   "id": "388e04fc",
   "metadata": {},
   "source": [
    "## Table of Contents\n",
    "\n",
    "Below is a list of top-level sections to demonstrate how to use WOMBAT's `Metrics` class methods and an explanation of each individual metric.\n",
    "\n",
    "If you don't see a metric or result computation that is core to your work, please submit\n",
    "an [issue](https://github.com/WISDEM/WOMBAT/issues/new) with details on what the metric\n",
    "is, and how it should be computed.\n",
    "\n",
    " - [Setup](#setup): Running a simulation to gather the results\n",
    " - [Common Parameters](#common-parameter-explanations): Explanation of frequently used parameter settings\n",
    " - [Availability](#availability): Time-based and energy-based availability\n",
    " - [Capacity Factor](#capacity-factor): Gross and net capacity factor\n",
    " - [Task Completion Rate](#task-completion-rate): Task completion metrics\n",
    " - [Equipment Costs](#equipment-costs): Cost breakdowns by servicing equipment\n",
    " - [Service Equipment Utilization Rate](#service-equipment-utilization-rate): Utilization of servicing equipment\n",
    " - [Vessel-Crew Hours at Sea](#vessel-crew-hours-at-sea): Number of crew or vessel hours spent at sea\n",
    " - [Number of Tows](#number-of-tows): Number of tows breakdowns\n",
    " - [Labor Costs](#labor-costs): Breakdown of labor costs\n",
    " - [Equipment and Labor Costs](#equipment-and-labor-costs): Combined servicing equipment and labor cost breakdown\n",
    " - [Component Costs](#component-costs): Materials costs\n",
    " - [Fixed Cost Impacts](#fixed-cost-impacts): Total fixed costs\n",
    " - [OpEx](#opex): Project OpEx\n",
    " - [Process Times](#process-times): Timing of various stages of repair and maintenance\n",
    " - [Power Production](#power-production): Potential and actually produced power\n",
    " - [Net Present Value](#net-present-value): Project NPV calculator\n",
    " - [PySAM-Powered Results](#pysam-powered-results): PySAM results, if configuration is provided--currently unavailable\n",
    "\n",
    "\n",
    "(setup)=\n",
    "## Setup\n",
    "\n",
    "The simulations from the How To notebook are going to be rerun as it is not recommended to create a Metrics class from scratch due to the\n",
    "large number of inputs that are required and the initialization is provided in the simulation API's run method.\n",
    "\n",
    "To simplify this process, a feature has been added to save the simulation outputs required to generate the Metrics inputs and a method to reload those outputs as inputs."
   ]
  },
  {
   "cell_type": "code",
   "execution_count": 2,
   "id": "91b76a2e",
   "metadata": {
    "tags": [
     "output_scroll"
    ]
   },
   "outputs": [],
   "source": [
    "sim = Simulation(\"DINWOODIE\", \"base.yaml\")\n",
    "\n",
    "# Both of these parameters are True by default for convenience\n",
    "sim.run(1000, create_metrics=True, save_metrics_inputs=True)\n",
    "\n",
    "# Load the metrics data\n",
    "fpath = sim.env.metrics_input_fname.parent\n",
    "fname = sim.env.metrics_input_fname.name\n",
    "metrics = Metrics.from_simulation_outputs(fpath, fname)\n",
    "\n",
    "# Delete the log files now that they're loaded in\n",
    "sim.env.cleanup_log_files()\n",
    "\n",
    "# Alternatively, in this case because the simulation was run, we can use the\n",
    "# following for convenience convenience only\n",
    "metrics = sim.metrics"
   ]
  },
  {
   "cell_type": "markdown",
   "id": "2c111805",
   "metadata": {},
   "source": [
    "## Common Parameter Explanations\n",
    "\n",
    "Before diving into each and every metric, and how they can be customized, it is is worth noting some of the most common parameters used throughout, and their meanings to reduce redundancy. The varying output forms are demonstrated in the [availability](#availability) section below.\n",
    "\n",
    "### `frequency`\n",
    "\n",
    "  project\n",
    "  : Computed across the whole simulation, with the resulting `DataFrame` having an empty index.\n",
    "\n",
    "  annual\n",
    "  : Summary of each year in the simulation, with the resulting `DataFrame` having \"year\" as the index.\n",
    "\n",
    "  monthly\n",
    "  : Summary of each month of the year, aggregated across years, with the resulting `DataFrame` having \"month\" as the index.\n",
    "\n",
    "  month-year\n",
    "  : computed on a month-by-year basis, producing the results for every month of the simulation, with the resulting `DataFrame` having \"year\" and \"month\" as the index.\n",
    "\n",
    "### `by`\n",
    "\n",
    "  windfarm\n",
    "  : Aggregated across all turbines, with the resulting `DataFrame` having only \"windfarm\" as a column\n",
    "\n",
    "  turbine\n",
    "  : Computed for each turbine, with the resulting `DataFrame` having a column for each turbine\n",
    "\n",
    "## Availability\n",
    "\n",
    "There are two methods to produce availability, which have their own function calls:\n",
    " - energy: actual power produced divided by potential power produced\n",
    "   - {py:meth}`wombat.core.post_processor.Metrics.production_based_availability`\n",
    " - time: The ratio of all non-zero hours to all hours in the simulation, or the proportion of the simulation where turbines are operating\n",
    "   - {py:meth}`wombat.core.post_processor.Metrics.time_based_availability`\n",
    "\n",
    "Here, we will go through the various input definitions to get time-based availability data as both methods use the same inputs, and provide outputs in the same format.\n",
    "\n",
    "**Inputs**:\n",
    "\n",
    "- `frequency`, as explained [above](#common-parameter-explanations) options: \"project\", \"annual\", \"monthly\", and \"month-year\"\n",
    "- `by`, as explained [above](#common-parameter-explanations) options: \"windfarm\" and \"turbine\"\n",
    "\n",
    "\n",
    "Below is a demonstration of the variations on `frequency` and `by` for `time_based_availability`."
   ]
  },
  {
   "cell_type": "code",
   "execution_count": 3,
   "id": "1c474a8d",
   "metadata": {
    "tags": [
     "output_scroll"
    ]
   },
   "outputs": [
    {
     "data": {
      "text/html": [
       "<style type=\"text/css\">\n",
       "</style>\n",
       "<table id=\"T_e4575\" style=\"font-size: 14px; grid-column-count: 6\">\n",
       "  <thead>\n",
       "    <tr>\n",
       "      <th class=\"blank level0\" >&nbsp;</th>\n",
       "      <th id=\"T_e4575_level0_col0\" class=\"col_heading level0 col0\" >windfarm</th>\n",
       "    </tr>\n",
       "  </thead>\n",
       "  <tbody>\n",
       "    <tr>\n",
       "      <th id=\"T_e4575_level0_row0\" class=\"row_heading level0 row0\" >0</th>\n",
       "      <td id=\"T_e4575_row0_col0\" class=\"data row0 col0\" >0.98</td>\n",
       "    </tr>\n",
       "  </tbody>\n",
       "</table>\n"
      ],
      "text/plain": [
       "<pandas.io.formats.style.Styler at 0x7fa4619e8eb0>"
      ]
     },
     "execution_count": 3,
     "metadata": {},
     "output_type": "execute_result"
    }
   ],
   "source": [
    "style(metrics.time_based_availability(frequency=\"project\", by=\"windfarm\"))"
   ]
  },
  {
   "cell_type": "code",
   "execution_count": 4,
   "id": "3275a03a",
   "metadata": {
    "tags": [
     "output_scroll"
    ]
   },
   "outputs": [
    {
     "data": {
      "text/html": [
       "<style type=\"text/css\">\n",
       "</style>\n",
       "<table id=\"T_75afb\" style=\"font-size: 14px; grid-column-count: 6\">\n",
       "  <thead>\n",
       "    <tr>\n",
       "      <th class=\"blank level0\" >&nbsp;</th>\n",
       "      <th id=\"T_75afb_level0_col0\" class=\"col_heading level0 col0\" >windfarm</th>\n",
       "    </tr>\n",
       "  </thead>\n",
       "  <tbody>\n",
       "    <tr>\n",
       "      <th id=\"T_75afb_level0_row0\" class=\"row_heading level0 row0\" >0</th>\n",
       "      <td id=\"T_75afb_row0_col0\" class=\"data row0 col0\" >0.98</td>\n",
       "    </tr>\n",
       "  </tbody>\n",
       "</table>\n"
      ],
      "text/plain": [
       "<pandas.io.formats.style.Styler at 0x7fa461fc9640>"
      ]
     },
     "execution_count": 4,
     "metadata": {},
     "output_type": "execute_result"
    }
   ],
   "source": [
    "style(metrics.production_based_availability(frequency=\"project\", by=\"windfarm\"))"
   ]
  },
  {
   "cell_type": "markdown",
   "id": "a3981cd1",
   "metadata": {},
   "source": [
    "Note that in the two above examples, that the values are equal. This is due to the fact that the example simulation does not have any operating reduction applied to failures, unless it's a catastrophic failure, so\n",
    "there is be no expected difference."
   ]
  },
  {
   "cell_type": "code",
   "execution_count": 5,
   "id": "3b9a33ef",
   "metadata": {
    "tags": [
     "output_scroll"
    ]
   },
   "outputs": [
    {
     "data": {
      "text/html": [
       "<style type=\"text/css\">\n",
       "</style>\n",
       "<table id=\"T_19a7d\" style=\"font-size: 14px; grid-column-count: 6\">\n",
       "  <thead>\n",
       "    <tr>\n",
       "      <th class=\"blank level0\" >&nbsp;</th>\n",
       "      <th id=\"T_19a7d_level0_col0\" class=\"col_heading level0 col0\" >S00T1</th>\n",
       "      <th id=\"T_19a7d_level0_col1\" class=\"col_heading level0 col1\" >S00T2</th>\n",
       "      <th id=\"T_19a7d_level0_col2\" class=\"col_heading level0 col2\" >S00T3</th>\n",
       "      <th id=\"T_19a7d_level0_col3\" class=\"col_heading level0 col3\" >S00T4</th>\n",
       "      <th id=\"T_19a7d_level0_col4\" class=\"col_heading level0 col4\" >S00T5</th>\n",
       "      <th id=\"T_19a7d_level0_col5\" class=\"col_heading level0 col5\" >S00T6</th>\n",
       "      <th id=\"T_19a7d_level0_col6\" class=\"col_heading level0 col6\" >S00T7</th>\n",
       "      <th id=\"T_19a7d_level0_col7\" class=\"col_heading level0 col7\" >S00T8</th>\n",
       "      <th id=\"T_19a7d_level0_col8\" class=\"col_heading level0 col8\" >S00T9</th>\n",
       "      <th id=\"T_19a7d_level0_col9\" class=\"col_heading level0 col9\" >S00T10</th>\n",
       "      <th id=\"T_19a7d_level0_col10\" class=\"col_heading level0 col10\" >S00T11</th>\n",
       "      <th id=\"T_19a7d_level0_col11\" class=\"col_heading level0 col11\" >S00T12</th>\n",
       "      <th id=\"T_19a7d_level0_col12\" class=\"col_heading level0 col12\" >S00T13</th>\n",
       "      <th id=\"T_19a7d_level0_col13\" class=\"col_heading level0 col13\" >S00T14</th>\n",
       "      <th id=\"T_19a7d_level0_col14\" class=\"col_heading level0 col14\" >S00T15</th>\n",
       "      <th id=\"T_19a7d_level0_col15\" class=\"col_heading level0 col15\" >S00T16</th>\n",
       "      <th id=\"T_19a7d_level0_col16\" class=\"col_heading level0 col16\" >S00T17</th>\n",
       "      <th id=\"T_19a7d_level0_col17\" class=\"col_heading level0 col17\" >S00T18</th>\n",
       "      <th id=\"T_19a7d_level0_col18\" class=\"col_heading level0 col18\" >S00T19</th>\n",
       "      <th id=\"T_19a7d_level0_col19\" class=\"col_heading level0 col19\" >S00T20</th>\n",
       "      <th id=\"T_19a7d_level0_col20\" class=\"col_heading level0 col20\" >S00T21</th>\n",
       "      <th id=\"T_19a7d_level0_col21\" class=\"col_heading level0 col21\" >S00T22</th>\n",
       "      <th id=\"T_19a7d_level0_col22\" class=\"col_heading level0 col22\" >S00T23</th>\n",
       "      <th id=\"T_19a7d_level0_col23\" class=\"col_heading level0 col23\" >S00T24</th>\n",
       "      <th id=\"T_19a7d_level0_col24\" class=\"col_heading level0 col24\" >S00T25</th>\n",
       "      <th id=\"T_19a7d_level0_col25\" class=\"col_heading level0 col25\" >S00T26</th>\n",
       "      <th id=\"T_19a7d_level0_col26\" class=\"col_heading level0 col26\" >S00T27</th>\n",
       "      <th id=\"T_19a7d_level0_col27\" class=\"col_heading level0 col27\" >S00T28</th>\n",
       "      <th id=\"T_19a7d_level0_col28\" class=\"col_heading level0 col28\" >S00T29</th>\n",
       "      <th id=\"T_19a7d_level0_col29\" class=\"col_heading level0 col29\" >S00T30</th>\n",
       "      <th id=\"T_19a7d_level0_col30\" class=\"col_heading level0 col30\" >S00T31</th>\n",
       "      <th id=\"T_19a7d_level0_col31\" class=\"col_heading level0 col31\" >S00T32</th>\n",
       "      <th id=\"T_19a7d_level0_col32\" class=\"col_heading level0 col32\" >S00T33</th>\n",
       "      <th id=\"T_19a7d_level0_col33\" class=\"col_heading level0 col33\" >S00T34</th>\n",
       "      <th id=\"T_19a7d_level0_col34\" class=\"col_heading level0 col34\" >S00T35</th>\n",
       "      <th id=\"T_19a7d_level0_col35\" class=\"col_heading level0 col35\" >S00T36</th>\n",
       "      <th id=\"T_19a7d_level0_col36\" class=\"col_heading level0 col36\" >S00T37</th>\n",
       "      <th id=\"T_19a7d_level0_col37\" class=\"col_heading level0 col37\" >S00T38</th>\n",
       "      <th id=\"T_19a7d_level0_col38\" class=\"col_heading level0 col38\" >S00T39</th>\n",
       "      <th id=\"T_19a7d_level0_col39\" class=\"col_heading level0 col39\" >S00T40</th>\n",
       "      <th id=\"T_19a7d_level0_col40\" class=\"col_heading level0 col40\" >S00T41</th>\n",
       "      <th id=\"T_19a7d_level0_col41\" class=\"col_heading level0 col41\" >S00T42</th>\n",
       "      <th id=\"T_19a7d_level0_col42\" class=\"col_heading level0 col42\" >S00T43</th>\n",
       "      <th id=\"T_19a7d_level0_col43\" class=\"col_heading level0 col43\" >S00T44</th>\n",
       "      <th id=\"T_19a7d_level0_col44\" class=\"col_heading level0 col44\" >S00T45</th>\n",
       "      <th id=\"T_19a7d_level0_col45\" class=\"col_heading level0 col45\" >S00T46</th>\n",
       "      <th id=\"T_19a7d_level0_col46\" class=\"col_heading level0 col46\" >S00T47</th>\n",
       "      <th id=\"T_19a7d_level0_col47\" class=\"col_heading level0 col47\" >S00T48</th>\n",
       "      <th id=\"T_19a7d_level0_col48\" class=\"col_heading level0 col48\" >S00T49</th>\n",
       "      <th id=\"T_19a7d_level0_col49\" class=\"col_heading level0 col49\" >S00T50</th>\n",
       "      <th id=\"T_19a7d_level0_col50\" class=\"col_heading level0 col50\" >S00T51</th>\n",
       "      <th id=\"T_19a7d_level0_col51\" class=\"col_heading level0 col51\" >S00T52</th>\n",
       "      <th id=\"T_19a7d_level0_col52\" class=\"col_heading level0 col52\" >S00T53</th>\n",
       "      <th id=\"T_19a7d_level0_col53\" class=\"col_heading level0 col53\" >S00T54</th>\n",
       "      <th id=\"T_19a7d_level0_col54\" class=\"col_heading level0 col54\" >S00T55</th>\n",
       "      <th id=\"T_19a7d_level0_col55\" class=\"col_heading level0 col55\" >S00T56</th>\n",
       "      <th id=\"T_19a7d_level0_col56\" class=\"col_heading level0 col56\" >S00T57</th>\n",
       "      <th id=\"T_19a7d_level0_col57\" class=\"col_heading level0 col57\" >S00T58</th>\n",
       "      <th id=\"T_19a7d_level0_col58\" class=\"col_heading level0 col58\" >S00T59</th>\n",
       "      <th id=\"T_19a7d_level0_col59\" class=\"col_heading level0 col59\" >S00T60</th>\n",
       "      <th id=\"T_19a7d_level0_col60\" class=\"col_heading level0 col60\" >S00T61</th>\n",
       "      <th id=\"T_19a7d_level0_col61\" class=\"col_heading level0 col61\" >S00T62</th>\n",
       "      <th id=\"T_19a7d_level0_col62\" class=\"col_heading level0 col62\" >S00T63</th>\n",
       "      <th id=\"T_19a7d_level0_col63\" class=\"col_heading level0 col63\" >S00T64</th>\n",
       "      <th id=\"T_19a7d_level0_col64\" class=\"col_heading level0 col64\" >S00T65</th>\n",
       "      <th id=\"T_19a7d_level0_col65\" class=\"col_heading level0 col65\" >S00T66</th>\n",
       "      <th id=\"T_19a7d_level0_col66\" class=\"col_heading level0 col66\" >S00T67</th>\n",
       "      <th id=\"T_19a7d_level0_col67\" class=\"col_heading level0 col67\" >S00T68</th>\n",
       "      <th id=\"T_19a7d_level0_col68\" class=\"col_heading level0 col68\" >S00T69</th>\n",
       "      <th id=\"T_19a7d_level0_col69\" class=\"col_heading level0 col69\" >S00T70</th>\n",
       "      <th id=\"T_19a7d_level0_col70\" class=\"col_heading level0 col70\" >S00T71</th>\n",
       "      <th id=\"T_19a7d_level0_col71\" class=\"col_heading level0 col71\" >S00T72</th>\n",
       "      <th id=\"T_19a7d_level0_col72\" class=\"col_heading level0 col72\" >S00T73</th>\n",
       "      <th id=\"T_19a7d_level0_col73\" class=\"col_heading level0 col73\" >S00T74</th>\n",
       "      <th id=\"T_19a7d_level0_col74\" class=\"col_heading level0 col74\" >S00T75</th>\n",
       "      <th id=\"T_19a7d_level0_col75\" class=\"col_heading level0 col75\" >S00T76</th>\n",
       "      <th id=\"T_19a7d_level0_col76\" class=\"col_heading level0 col76\" >S00T77</th>\n",
       "      <th id=\"T_19a7d_level0_col77\" class=\"col_heading level0 col77\" >S00T78</th>\n",
       "      <th id=\"T_19a7d_level0_col78\" class=\"col_heading level0 col78\" >S00T79</th>\n",
       "      <th id=\"T_19a7d_level0_col79\" class=\"col_heading level0 col79\" >S00T80</th>\n",
       "    </tr>\n",
       "  </thead>\n",
       "  <tbody>\n",
       "    <tr>\n",
       "      <th id=\"T_19a7d_level0_row0\" class=\"row_heading level0 row0\" >0</th>\n",
       "      <td id=\"T_19a7d_row0_col0\" class=\"data row0 col0\" >1.00</td>\n",
       "      <td id=\"T_19a7d_row0_col1\" class=\"data row0 col1\" >1.00</td>\n",
       "      <td id=\"T_19a7d_row0_col2\" class=\"data row0 col2\" >1.00</td>\n",
       "      <td id=\"T_19a7d_row0_col3\" class=\"data row0 col3\" >0.99</td>\n",
       "      <td id=\"T_19a7d_row0_col4\" class=\"data row0 col4\" >1.00</td>\n",
       "      <td id=\"T_19a7d_row0_col5\" class=\"data row0 col5\" >1.00</td>\n",
       "      <td id=\"T_19a7d_row0_col6\" class=\"data row0 col6\" >1.00</td>\n",
       "      <td id=\"T_19a7d_row0_col7\" class=\"data row0 col7\" >0.98</td>\n",
       "      <td id=\"T_19a7d_row0_col8\" class=\"data row0 col8\" >0.97</td>\n",
       "      <td id=\"T_19a7d_row0_col9\" class=\"data row0 col9\" >1.00</td>\n",
       "      <td id=\"T_19a7d_row0_col10\" class=\"data row0 col10\" >0.99</td>\n",
       "      <td id=\"T_19a7d_row0_col11\" class=\"data row0 col11\" >0.98</td>\n",
       "      <td id=\"T_19a7d_row0_col12\" class=\"data row0 col12\" >0.97</td>\n",
       "      <td id=\"T_19a7d_row0_col13\" class=\"data row0 col13\" >1.00</td>\n",
       "      <td id=\"T_19a7d_row0_col14\" class=\"data row0 col14\" >1.00</td>\n",
       "      <td id=\"T_19a7d_row0_col15\" class=\"data row0 col15\" >1.00</td>\n",
       "      <td id=\"T_19a7d_row0_col16\" class=\"data row0 col16\" >1.00</td>\n",
       "      <td id=\"T_19a7d_row0_col17\" class=\"data row0 col17\" >0.98</td>\n",
       "      <td id=\"T_19a7d_row0_col18\" class=\"data row0 col18\" >0.98</td>\n",
       "      <td id=\"T_19a7d_row0_col19\" class=\"data row0 col19\" >0.85</td>\n",
       "      <td id=\"T_19a7d_row0_col20\" class=\"data row0 col20\" >0.81</td>\n",
       "      <td id=\"T_19a7d_row0_col21\" class=\"data row0 col21\" >0.88</td>\n",
       "      <td id=\"T_19a7d_row0_col22\" class=\"data row0 col22\" >1.00</td>\n",
       "      <td id=\"T_19a7d_row0_col23\" class=\"data row0 col23\" >1.00</td>\n",
       "      <td id=\"T_19a7d_row0_col24\" class=\"data row0 col24\" >0.99</td>\n",
       "      <td id=\"T_19a7d_row0_col25\" class=\"data row0 col25\" >0.95</td>\n",
       "      <td id=\"T_19a7d_row0_col26\" class=\"data row0 col26\" >0.90</td>\n",
       "      <td id=\"T_19a7d_row0_col27\" class=\"data row0 col27\" >0.99</td>\n",
       "      <td id=\"T_19a7d_row0_col28\" class=\"data row0 col28\" >1.00</td>\n",
       "      <td id=\"T_19a7d_row0_col29\" class=\"data row0 col29\" >1.00</td>\n",
       "      <td id=\"T_19a7d_row0_col30\" class=\"data row0 col30\" >0.97</td>\n",
       "      <td id=\"T_19a7d_row0_col31\" class=\"data row0 col31\" >0.99</td>\n",
       "      <td id=\"T_19a7d_row0_col32\" class=\"data row0 col32\" >0.99</td>\n",
       "      <td id=\"T_19a7d_row0_col33\" class=\"data row0 col33\" >0.97</td>\n",
       "      <td id=\"T_19a7d_row0_col34\" class=\"data row0 col34\" >0.98</td>\n",
       "      <td id=\"T_19a7d_row0_col35\" class=\"data row0 col35\" >1.00</td>\n",
       "      <td id=\"T_19a7d_row0_col36\" class=\"data row0 col36\" >0.99</td>\n",
       "      <td id=\"T_19a7d_row0_col37\" class=\"data row0 col37\" >1.00</td>\n",
       "      <td id=\"T_19a7d_row0_col38\" class=\"data row0 col38\" >1.00</td>\n",
       "      <td id=\"T_19a7d_row0_col39\" class=\"data row0 col39\" >0.99</td>\n",
       "      <td id=\"T_19a7d_row0_col40\" class=\"data row0 col40\" >1.00</td>\n",
       "      <td id=\"T_19a7d_row0_col41\" class=\"data row0 col41\" >1.00</td>\n",
       "      <td id=\"T_19a7d_row0_col42\" class=\"data row0 col42\" >1.00</td>\n",
       "      <td id=\"T_19a7d_row0_col43\" class=\"data row0 col43\" >1.00</td>\n",
       "      <td id=\"T_19a7d_row0_col44\" class=\"data row0 col44\" >1.00</td>\n",
       "      <td id=\"T_19a7d_row0_col45\" class=\"data row0 col45\" >1.00</td>\n",
       "      <td id=\"T_19a7d_row0_col46\" class=\"data row0 col46\" >0.97</td>\n",
       "      <td id=\"T_19a7d_row0_col47\" class=\"data row0 col47\" >1.00</td>\n",
       "      <td id=\"T_19a7d_row0_col48\" class=\"data row0 col48\" >0.96</td>\n",
       "      <td id=\"T_19a7d_row0_col49\" class=\"data row0 col49\" >1.00</td>\n",
       "      <td id=\"T_19a7d_row0_col50\" class=\"data row0 col50\" >1.00</td>\n",
       "      <td id=\"T_19a7d_row0_col51\" class=\"data row0 col51\" >1.00</td>\n",
       "      <td id=\"T_19a7d_row0_col52\" class=\"data row0 col52\" >1.00</td>\n",
       "      <td id=\"T_19a7d_row0_col53\" class=\"data row0 col53\" >1.00</td>\n",
       "      <td id=\"T_19a7d_row0_col54\" class=\"data row0 col54\" >0.97</td>\n",
       "      <td id=\"T_19a7d_row0_col55\" class=\"data row0 col55\" >0.98</td>\n",
       "      <td id=\"T_19a7d_row0_col56\" class=\"data row0 col56\" >1.00</td>\n",
       "      <td id=\"T_19a7d_row0_col57\" class=\"data row0 col57\" >1.00</td>\n",
       "      <td id=\"T_19a7d_row0_col58\" class=\"data row0 col58\" >0.99</td>\n",
       "      <td id=\"T_19a7d_row0_col59\" class=\"data row0 col59\" >0.99</td>\n",
       "      <td id=\"T_19a7d_row0_col60\" class=\"data row0 col60\" >0.84</td>\n",
       "      <td id=\"T_19a7d_row0_col61\" class=\"data row0 col61\" >1.00</td>\n",
       "      <td id=\"T_19a7d_row0_col62\" class=\"data row0 col62\" >1.00</td>\n",
       "      <td id=\"T_19a7d_row0_col63\" class=\"data row0 col63\" >0.98</td>\n",
       "      <td id=\"T_19a7d_row0_col64\" class=\"data row0 col64\" >0.99</td>\n",
       "      <td id=\"T_19a7d_row0_col65\" class=\"data row0 col65\" >0.98</td>\n",
       "      <td id=\"T_19a7d_row0_col66\" class=\"data row0 col66\" >1.00</td>\n",
       "      <td id=\"T_19a7d_row0_col67\" class=\"data row0 col67\" >0.97</td>\n",
       "      <td id=\"T_19a7d_row0_col68\" class=\"data row0 col68\" >0.88</td>\n",
       "      <td id=\"T_19a7d_row0_col69\" class=\"data row0 col69\" >1.00</td>\n",
       "      <td id=\"T_19a7d_row0_col70\" class=\"data row0 col70\" >0.99</td>\n",
       "      <td id=\"T_19a7d_row0_col71\" class=\"data row0 col71\" >0.97</td>\n",
       "      <td id=\"T_19a7d_row0_col72\" class=\"data row0 col72\" >1.00</td>\n",
       "      <td id=\"T_19a7d_row0_col73\" class=\"data row0 col73\" >0.98</td>\n",
       "      <td id=\"T_19a7d_row0_col74\" class=\"data row0 col74\" >0.99</td>\n",
       "      <td id=\"T_19a7d_row0_col75\" class=\"data row0 col75\" >1.00</td>\n",
       "      <td id=\"T_19a7d_row0_col76\" class=\"data row0 col76\" >0.92</td>\n",
       "      <td id=\"T_19a7d_row0_col77\" class=\"data row0 col77\" >1.00</td>\n",
       "      <td id=\"T_19a7d_row0_col78\" class=\"data row0 col78\" >1.00</td>\n",
       "      <td id=\"T_19a7d_row0_col79\" class=\"data row0 col79\" >1.00</td>\n",
       "    </tr>\n",
       "  </tbody>\n",
       "</table>\n"
      ],
      "text/plain": [
       "<pandas.io.formats.style.Styler at 0x7fa461c7ee50>"
      ]
     },
     "execution_count": 5,
     "metadata": {},
     "output_type": "execute_result"
    }
   ],
   "source": [
    "# Demonstrate the by turbine granularity\n",
    "style(metrics.time_based_availability(frequency=\"project\", by=\"turbine\"))"
   ]
  },
  {
   "cell_type": "code",
   "execution_count": 6,
   "id": "1edc20ec",
   "metadata": {
    "tags": [
     "output_scroll"
    ]
   },
   "outputs": [
    {
     "data": {
      "text/html": [
       "<style type=\"text/css\">\n",
       "</style>\n",
       "<table id=\"T_bea4c\" style=\"font-size: 14px; grid-column-count: 6\">\n",
       "  <thead>\n",
       "    <tr>\n",
       "      <th class=\"blank level0\" >&nbsp;</th>\n",
       "      <th id=\"T_bea4c_level0_col0\" class=\"col_heading level0 col0\" >windfarm</th>\n",
       "    </tr>\n",
       "    <tr>\n",
       "      <th class=\"index_name level0\" >year</th>\n",
       "      <th class=\"blank col0\" >&nbsp;</th>\n",
       "    </tr>\n",
       "  </thead>\n",
       "  <tbody>\n",
       "    <tr>\n",
       "      <th id=\"T_bea4c_level0_row0\" class=\"row_heading level0 row0\" >2003</th>\n",
       "      <td id=\"T_bea4c_row0_col0\" class=\"data row0 col0\" >0.98</td>\n",
       "    </tr>\n",
       "  </tbody>\n",
       "</table>\n"
      ],
      "text/plain": [
       "<pandas.io.formats.style.Styler at 0x7fa4619461c0>"
      ]
     },
     "execution_count": 6,
     "metadata": {},
     "output_type": "execute_result"
    }
   ],
   "source": [
    "# Demonstrate the annualized outputs\n",
    "style(metrics.time_based_availability(frequency=\"annual\", by=\"windfarm\"))"
   ]
  },
  {
   "cell_type": "code",
   "execution_count": 7,
   "id": "8855510b",
   "metadata": {
    "tags": [
     "output_scroll"
    ]
   },
   "outputs": [
    {
     "data": {
      "text/html": [
       "<style type=\"text/css\">\n",
       "</style>\n",
       "<table id=\"T_3c605\" style=\"font-size: 14px; grid-column-count: 6\">\n",
       "  <thead>\n",
       "    <tr>\n",
       "      <th class=\"blank level0\" >&nbsp;</th>\n",
       "      <th id=\"T_3c605_level0_col0\" class=\"col_heading level0 col0\" >windfarm</th>\n",
       "    </tr>\n",
       "    <tr>\n",
       "      <th class=\"index_name level0\" >month</th>\n",
       "      <th class=\"blank col0\" >&nbsp;</th>\n",
       "    </tr>\n",
       "  </thead>\n",
       "  <tbody>\n",
       "    <tr>\n",
       "      <th id=\"T_3c605_level0_row0\" class=\"row_heading level0 row0\" >1</th>\n",
       "      <td id=\"T_3c605_row0_col0\" class=\"data row0 col0\" >0.99</td>\n",
       "    </tr>\n",
       "    <tr>\n",
       "      <th id=\"T_3c605_level0_row1\" class=\"row_heading level0 row1\" >2</th>\n",
       "      <td id=\"T_3c605_row1_col0\" class=\"data row1 col0\" >0.96</td>\n",
       "    </tr>\n",
       "  </tbody>\n",
       "</table>\n"
      ],
      "text/plain": [
       "<pandas.io.formats.style.Styler at 0x7fa461c44af0>"
      ]
     },
     "execution_count": 7,
     "metadata": {},
     "output_type": "execute_result"
    }
   ],
   "source": [
    "# Demonstrate the month aggregations\n",
    "style(metrics.time_based_availability(frequency=\"monthly\", by=\"windfarm\"))"
   ]
  },
  {
   "cell_type": "code",
   "execution_count": 8,
   "id": "ff8523e2",
   "metadata": {
    "tags": [
     "output_scroll"
    ]
   },
   "outputs": [
    {
     "data": {
      "text/html": [
       "<style type=\"text/css\">\n",
       "</style>\n",
       "<table id=\"T_13ada\" style=\"font-size: 14px; grid-column-count: 6\">\n",
       "  <thead>\n",
       "    <tr>\n",
       "      <th class=\"blank\" >&nbsp;</th>\n",
       "      <th class=\"blank level0\" >&nbsp;</th>\n",
       "      <th id=\"T_13ada_level0_col0\" class=\"col_heading level0 col0\" >windfarm</th>\n",
       "    </tr>\n",
       "    <tr>\n",
       "      <th class=\"index_name level0\" >year</th>\n",
       "      <th class=\"index_name level1\" >month</th>\n",
       "      <th class=\"blank col0\" >&nbsp;</th>\n",
       "    </tr>\n",
       "  </thead>\n",
       "  <tbody>\n",
       "    <tr>\n",
       "      <th id=\"T_13ada_level0_row0\" class=\"row_heading level0 row0\" rowspan=\"2\">2003</th>\n",
       "      <th id=\"T_13ada_level1_row0\" class=\"row_heading level1 row0\" >1</th>\n",
       "      <td id=\"T_13ada_row0_col0\" class=\"data row0 col0\" >0.99</td>\n",
       "    </tr>\n",
       "    <tr>\n",
       "      <th id=\"T_13ada_level1_row1\" class=\"row_heading level1 row1\" >2</th>\n",
       "      <td id=\"T_13ada_row1_col0\" class=\"data row1 col0\" >0.96</td>\n",
       "    </tr>\n",
       "  </tbody>\n",
       "</table>\n"
      ],
      "text/plain": [
       "<pandas.io.formats.style.Styler at 0x7fa461b7e880>"
      ]
     },
     "execution_count": 8,
     "metadata": {},
     "output_type": "execute_result"
    }
   ],
   "source": [
    "# Demonstrate the granular monthly reporting\n",
    "style(metrics.time_based_availability(frequency=\"month-year\", by=\"windfarm\"))"
   ]
  },
  {
   "cell_type": "markdown",
   "id": "60345e43",
   "metadata": {},
   "source": [
    "## Capacity Factor\n",
    "\n",
    "The capacity factor is the ratio of actual (net) or potential (gross) energy production divided by the project's capacity. For further documentation, see the API docs here: {py:meth}`wombat.core.post_processor.Metrics.capacity_factor`.\n",
    "\n",
    "**Inputs**:\n",
    "\n",
    "- `which`\n",
    "  - \"net\": net capcity factor, actual production divided by the plant capacity\n",
    "  - \"gross\": gross capacity factor, potential production divided by the plant capacity\n",
    "- `frequency`, as explained [above](#common-parameter-explanations), options: \"project\", \"annual\", \"monthly\", and \"month-year\"\n",
    "- `by`, as explained [above](#common-parameter-explanations), options: \"windfarm\" and \"turbine\"\n",
    "\n",
    "**Example Usage**:"
   ]
  },
  {
   "cell_type": "code",
   "execution_count": 9,
   "id": "0dc4e4d8",
   "metadata": {
    "tags": [
     "output_scroll"
    ]
   },
   "outputs": [
    {
     "name": "stdout",
     "output_type": "stream",
     "text": [
      "  Net capacity factor: 59.12%\n",
      "Gross capacity factor: 60.36%\n"
     ]
    }
   ],
   "source": [
    "net_cf = metrics.capacity_factor(which=\"net\", frequency=\"project\", by=\"windfarm\").values[0][0]\n",
    "gross_cf = metrics.capacity_factor(which=\"gross\", frequency=\"project\", by=\"windfarm\").values[0][0]\n",
    "print(f\"  Net capacity factor: {net_cf:.2%}\")\n",
    "print(f\"Gross capacity factor: {gross_cf:.2%}\")"
   ]
  },
  {
   "cell_type": "markdown",
   "id": "3f3f5081",
   "metadata": {},
   "source": [
    "## Task Completion Rate\n",
    "\n",
    "The task completion rate is the ratio of tasks completed aggregated to the desired `frequency`. It is possible to have a >100% completion rate if all maintenance and failure requests submitted in a time period were completed in addition to those that went unfinished in prior time periods. For further documentation, see the API docs here: {py:meth}`wombat.core.post_processor.Metrics.task_completion_rate`.\n",
    "\n",
    "**Inputs**:\n",
    "\n",
    "- `which`\n",
    "  - \"scheduled\": scheduled maintenance only (classified as maintenace tasks in inputs)\n",
    "  - \"unscheduled\": unscheduled maintenance only (classified as failure events in inputs)\n",
    "  - \"both\": Combined completion rate for all tasks\n",
    "- `frequency`, as explained [above](#common-parameter-explanations), options: \"project\", \"annual\", \"monthly\", and \"month-year\"\n",
    "\n",
    "**Example Usage**:"
   ]
  },
  {
   "cell_type": "code",
   "execution_count": 10,
   "id": "a1f1d0bf",
   "metadata": {
    "tags": [
     "output_scroll"
    ]
   },
   "outputs": [
    {
     "name": "stdout",
     "output_type": "stream",
     "text": [
      "  Scheduled Task Completion Rate: 0.00%\n",
      "Unscheduled Task Completion Rate: 99.06%\n",
      "    Overall Task Completion Rate: 99.06%\n"
     ]
    }
   ],
   "source": [
    "scheduled = metrics.task_completion_rate(which=\"scheduled\", frequency=\"project\").values[0][0]\n",
    "unscheduled = metrics.task_completion_rate(which=\"unscheduled\", frequency=\"project\").values[0][0]\n",
    "combined = metrics.task_completion_rate(which=\"both\", frequency=\"project\").values[0][0]\n",
    "print(f\"  Scheduled Task Completion Rate: {scheduled:.2%}\")\n",
    "print(f\"Unscheduled Task Completion Rate: {unscheduled:.2%}\")\n",
    "print(f\"    Overall Task Completion Rate: {combined:.2%}\")"
   ]
  },
  {
   "cell_type": "markdown",
   "id": "dfe496aa",
   "metadata": {},
   "source": [
    "## Equipment Costs\n",
    "\n",
    "Sum of the costs associated with a simulation's servicing equipment, which excludes materials, downtime, etc. For further documentation, see the API docs here: {py:meth}`wombat.core.post_processor.Metrics.equipment_costs`.\n",
    "\n",
    "**Inputs**:\n",
    "\n",
    "- `frequency`, as explained [above](#common-parameter-explanations), options: \"project\", \"annual\", \"monthly\", and \"month-year\"\n",
    "- `by_equipment`\n",
    "  - `True`: Aggregates all equipment into a single cost\n",
    "  - `False`: Computes for each unit of servicing equipment\n",
    "\n",
    "**Example Usage**:"
   ]
  },
  {
   "cell_type": "code",
   "execution_count": 11,
   "id": "9e4ede98",
   "metadata": {
    "tags": [
     "output_scroll"
    ]
   },
   "outputs": [
    {
     "data": {
      "text/html": [
       "<style type=\"text/css\">\n",
       "</style>\n",
       "<table id=\"T_07fd8\" style=\"font-size: 14px; grid-column-count: 6\">\n",
       "  <thead>\n",
       "    <tr>\n",
       "      <th class=\"blank level0\" >&nbsp;</th>\n",
       "      <th id=\"T_07fd8_level0_col0\" class=\"col_heading level0 col0\" >equipment_cost</th>\n",
       "    </tr>\n",
       "  </thead>\n",
       "  <tbody>\n",
       "    <tr>\n",
       "      <th id=\"T_07fd8_level0_row0\" class=\"row_heading level0 row0\" >0</th>\n",
       "      <td id=\"T_07fd8_row0_col0\" class=\"data row0 col0\" >203,236.98</td>\n",
       "    </tr>\n",
       "  </tbody>\n",
       "</table>\n"
      ],
      "text/plain": [
       "<pandas.io.formats.style.Styler at 0x7fa461ad03a0>"
      ]
     },
     "execution_count": 11,
     "metadata": {},
     "output_type": "execute_result"
    }
   ],
   "source": [
    "# Project total at the whole wind farm level\n",
    "style(metrics.equipment_costs(frequency=\"project\", by_equipment=False))"
   ]
  },
  {
   "cell_type": "code",
   "execution_count": 12,
   "id": "2fbd1678",
   "metadata": {
    "tags": [
     "output_scroll"
    ]
   },
   "outputs": [
    {
     "data": {
      "text/html": [
       "<style type=\"text/css\">\n",
       "</style>\n",
       "<table id=\"T_2ed19\" style=\"font-size: 14px; grid-column-count: 6\">\n",
       "  <thead>\n",
       "    <tr>\n",
       "      <th class=\"blank level0\" >&nbsp;</th>\n",
       "      <th id=\"T_2ed19_level0_col0\" class=\"col_heading level0 col0\" >Crew Transfer Vessel 1</th>\n",
       "      <th id=\"T_2ed19_level0_col1\" class=\"col_heading level0 col1\" >Crew Transfer Vessel 2</th>\n",
       "      <th id=\"T_2ed19_level0_col2\" class=\"col_heading level0 col2\" >Crew Transfer Vessel 3</th>\n",
       "    </tr>\n",
       "  </thead>\n",
       "  <tbody>\n",
       "    <tr>\n",
       "      <th id=\"T_2ed19_level0_row0\" class=\"row_heading level0 row0\" >0</th>\n",
       "      <td id=\"T_2ed19_row0_col0\" class=\"data row0 col0\" >68,523.44</td>\n",
       "      <td id=\"T_2ed19_row0_col1\" class=\"data row0 col1\" >68,596.35</td>\n",
       "      <td id=\"T_2ed19_row0_col2\" class=\"data row0 col2\" >66,117.19</td>\n",
       "    </tr>\n",
       "  </tbody>\n",
       "</table>\n"
      ],
      "text/plain": [
       "<pandas.io.formats.style.Styler at 0x7fa461bf2130>"
      ]
     },
     "execution_count": 12,
     "metadata": {},
     "output_type": "execute_result"
    }
   ],
   "source": [
    "# Project totals at servicing equipment level\n",
    "style(metrics.equipment_costs(frequency=\"project\", by_equipment=True))"
   ]
  },
  {
   "cell_type": "markdown",
   "id": "f14babec",
   "metadata": {},
   "source": [
    "## Service Equipment Utilization Rate\n",
    "\n",
    "Ratio of days when the servicing equipment is in use (not delayed for a whole day due to either weather or lack of repairs to be completed) to the number of days it's present in the simulation. For further documentation, see the API docs here: {py:meth}`wombat.core.post_processor.Metrics.service_equipment_utilization`.\n",
    "\n",
    "**Inputs**:\n",
    "\n",
    "- `frequency`, as explained [above](#common-parameter-explanations), options: \"project\" and \"annual\"\n",
    "\n",
    "**Example Usage**:"
   ]
  },
  {
   "cell_type": "code",
   "execution_count": 13,
   "id": "f907600c",
   "metadata": {
    "tags": [
     "output_scroll"
    ]
   },
   "outputs": [
    {
     "data": {
      "text/html": [
       "<style type=\"text/css\">\n",
       "</style>\n",
       "<table id=\"T_ad356\" style=\"font-size: 14px; grid-column-count: 6\">\n",
       "  <thead>\n",
       "    <tr>\n",
       "      <th class=\"blank level0\" >&nbsp;</th>\n",
       "      <th id=\"T_ad356_level0_col0\" class=\"col_heading level0 col0\" >Crew Transfer Vessel 1</th>\n",
       "      <th id=\"T_ad356_level0_col1\" class=\"col_heading level0 col1\" >Crew Transfer Vessel 2</th>\n",
       "      <th id=\"T_ad356_level0_col2\" class=\"col_heading level0 col2\" >Crew Transfer Vessel 3</th>\n",
       "      <th id=\"T_ad356_level0_col3\" class=\"col_heading level0 col3\" >Field Support Vessel</th>\n",
       "      <th id=\"T_ad356_level0_col4\" class=\"col_heading level0 col4\" >Heavy Lift Vessel</th>\n",
       "    </tr>\n",
       "  </thead>\n",
       "  <tbody>\n",
       "    <tr>\n",
       "      <th id=\"T_ad356_level0_row0\" class=\"row_heading level0 row0\" >0</th>\n",
       "      <td id=\"T_ad356_row0_col0\" class=\"data row0 col0\" >1.00</td>\n",
       "      <td id=\"T_ad356_row0_col1\" class=\"data row0 col1\" >1.00</td>\n",
       "      <td id=\"T_ad356_row0_col2\" class=\"data row0 col2\" >1.00</td>\n",
       "      <td id=\"T_ad356_row0_col3\" class=\"data row0 col3\" >0.00</td>\n",
       "      <td id=\"T_ad356_row0_col4\" class=\"data row0 col4\" >0.00</td>\n",
       "    </tr>\n",
       "  </tbody>\n",
       "</table>\n"
      ],
      "text/plain": [
       "<pandas.io.formats.style.Styler at 0x7fa4619b4b20>"
      ]
     },
     "execution_count": 13,
     "metadata": {},
     "output_type": "execute_result"
    }
   ],
   "source": [
    "# Project totals\n",
    "style(metrics.service_equipment_utilization(frequency=\"project\"))"
   ]
  },
  {
   "cell_type": "markdown",
   "id": "f78da226",
   "metadata": {},
   "source": [
    "## Vessel-Crew Hours at Sea\n",
    "\n",
    "The number of vessel hours or crew hours at sea for offshore wind power plant simulations. For further documentation, see the API docs here: {py:meth}`wombat.core.post_processor.Metrics.vessel_crew_hours_at_sea`.\n",
    "\n",
    "**Inputs**:\n",
    "\n",
    "- `frequency`, as explained [above](#common-parameter-explanations), options: \"project\", \"annual\", \"monthly\", and \"month-year\"\n",
    "- `by_equipment`\n",
    "  - `True`: Aggregates all equipment into a single cost\n",
    "  - `False`: Computes for each unit of servicing equipment\n",
    "- `vessel_crew_assumption`: A dictionary of vessel names (`ServiceEquipment.settings.name`, but also found at `Metrics.service_equipment_names`) and the number of crew onboard at any given time. The application of this assumption transforms the results from vessel hours at sea to crew hours at sea.\n",
    "\n",
    "**Example Usage**:"
   ]
  },
  {
   "cell_type": "code",
   "execution_count": 14,
   "id": "9f403ef7",
   "metadata": {
    "tags": [
     "output_scroll"
    ]
   },
   "outputs": [
    {
     "data": {
      "text/html": [
       "<style type=\"text/css\">\n",
       "</style>\n",
       "<table id=\"T_213ab\" style=\"font-size: 14px; grid-column-count: 6\">\n",
       "  <thead>\n",
       "    <tr>\n",
       "      <th class=\"blank level0\" >&nbsp;</th>\n",
       "      <th id=\"T_213ab_level0_col0\" class=\"col_heading level0 col0\" >Total Crew Hours at Sea</th>\n",
       "    </tr>\n",
       "  </thead>\n",
       "  <tbody>\n",
       "    <tr>\n",
       "      <th id=\"T_213ab_level0_row0\" class=\"row_heading level0 row0\" >0</th>\n",
       "      <td id=\"T_213ab_row0_col0\" class=\"data row0 col0\" >637.50</td>\n",
       "    </tr>\n",
       "  </tbody>\n",
       "</table>\n"
      ],
      "text/plain": [
       "<pandas.io.formats.style.Styler at 0x7fa45c1fda30>"
      ]
     },
     "execution_count": 14,
     "metadata": {},
     "output_type": "execute_result"
    }
   ],
   "source": [
    "# Project total, not broken out by vessel\n",
    "style(metrics.vessel_crew_hours_at_sea(frequency=\"project\", by_equipment=False))"
   ]
  },
  {
   "cell_type": "code",
   "execution_count": 15,
   "id": "4533e021",
   "metadata": {
    "tags": [
     "output_scroll"
    ]
   },
   "outputs": [
    {
     "data": {
      "text/html": [
       "<style type=\"text/css\">\n",
       "</style>\n",
       "<table id=\"T_57b99\" style=\"font-size: 14px; grid-column-count: 6\">\n",
       "  <thead>\n",
       "    <tr>\n",
       "      <th class=\"blank level0\" >&nbsp;</th>\n",
       "      <th id=\"T_57b99_level0_col0\" class=\"col_heading level0 col0\" >year</th>\n",
       "      <th id=\"T_57b99_level0_col1\" class=\"col_heading level0 col1\" >Total Crew Hours at Sea</th>\n",
       "      <th id=\"T_57b99_level0_col2\" class=\"col_heading level0 col2\" >Crew Transfer Vessel 1</th>\n",
       "      <th id=\"T_57b99_level0_col3\" class=\"col_heading level0 col3\" >Crew Transfer Vessel 2</th>\n",
       "      <th id=\"T_57b99_level0_col4\" class=\"col_heading level0 col4\" >Crew Transfer Vessel 3</th>\n",
       "    </tr>\n",
       "  </thead>\n",
       "  <tbody>\n",
       "    <tr>\n",
       "      <th id=\"T_57b99_level0_row0\" class=\"row_heading level0 row0\" >0</th>\n",
       "      <td id=\"T_57b99_row0_col0\" class=\"data row0 col0\" >2,003</td>\n",
       "      <td id=\"T_57b99_row0_col1\" class=\"data row0 col1\" >637.50</td>\n",
       "      <td id=\"T_57b99_row0_col2\" class=\"data row0 col2\" >213.00</td>\n",
       "      <td id=\"T_57b99_row0_col3\" class=\"data row0 col3\" >197.00</td>\n",
       "      <td id=\"T_57b99_row0_col4\" class=\"data row0 col4\" >227.50</td>\n",
       "    </tr>\n",
       "  </tbody>\n",
       "</table>\n"
      ],
      "text/plain": [
       "<pandas.io.formats.style.Styler at 0x7fa461c44b80>"
      ]
     },
     "execution_count": 15,
     "metadata": {},
     "output_type": "execute_result"
    }
   ],
   "source": [
    "# Annual project totals, broken out by vessel\n",
    "style(metrics.vessel_crew_hours_at_sea(frequency=\"annual\", by_equipment=True))"
   ]
  },
  {
   "cell_type": "markdown",
   "id": "1304f637",
   "metadata": {},
   "source": [
    "## Number of Tows\n",
    "\n",
    "The number of tows performed during the simulation. If tow-to-port was not used in the simulation, a DataFrame with a single value of 0 will be returned. For further documentation, see the API docs here: {py:meth}`wombat.core.post_processor.Metrics.number_of_tows`.\n",
    "\n",
    "**Inputs**:\n",
    "\n",
    "- `frequency`, as explained [above](#common-parameter-explanations), options: \"project\", \"annual\", \"monthly\", and \"month-year\"\n",
    "- `by_tug`\n",
    "  - `True`: Computed for each tugboat (towing vessel)\n",
    "  - `False`: Aggregates all the tugboats\n",
    "- `by_direction`\n",
    "  - `True`: Computed for each direction a tow was performed (to port or to site)\n",
    "  - `False`: Aggregates to the total number of tows\n",
    "\n",
    "**Example Usage**:"
   ]
  },
  {
   "cell_type": "code",
   "execution_count": 16,
   "id": "b6f2dfd5",
   "metadata": {
    "tags": [
     "output_scroll"
    ]
   },
   "outputs": [
    {
     "data": {
      "text/html": [
       "<style type=\"text/css\">\n",
       "</style>\n",
       "<table id=\"T_8fa51\" style=\"font-size: 14px; grid-column-count: 6\">\n",
       "  <thead>\n",
       "    <tr>\n",
       "      <th class=\"blank level0\" >&nbsp;</th>\n",
       "      <th id=\"T_8fa51_level0_col0\" class=\"col_heading level0 col0\" >total_tows</th>\n",
       "    </tr>\n",
       "  </thead>\n",
       "  <tbody>\n",
       "    <tr>\n",
       "      <th id=\"T_8fa51_level0_row0\" class=\"row_heading level0 row0\" >0</th>\n",
       "      <td id=\"T_8fa51_row0_col0\" class=\"data row0 col0\" >0</td>\n",
       "    </tr>\n",
       "  </tbody>\n",
       "</table>\n"
      ],
      "text/plain": [
       "<pandas.io.formats.style.Styler at 0x7fa461f67850>"
      ]
     },
     "execution_count": 16,
     "metadata": {},
     "output_type": "execute_result"
    }
   ],
   "source": [
    "# Project Total\n",
    "# NOTE: This example has no towing, so it will return 0\n",
    "style(metrics.number_of_tows(frequency=\"project\"))"
   ]
  },
  {
   "cell_type": "markdown",
   "id": "f340bcfe",
   "metadata": {},
   "source": [
    "## Labor Costs\n",
    "\n",
    "Sum of all labor costs associated with servicing equipment, excluding the labor defined in the fixed costs, which can be broken out by type. For further documentation, see the API docs here: {py:meth}`wombat.core.post_processor.Metrics.labor_costs`.\n",
    "\n",
    "**Inputs**:\n",
    "\n",
    "- `frequency`, as explained [above](#common-parameter-explanations), options: \"project\", \"annual\", \"monthly\", and \"month-year\"\n",
    "- `by_type`\n",
    "  - `True`: Computed for each labor type (salary and hourly)\n",
    "  - `False`: Aggregates all the labor costs\n",
    "\n",
    "**Example Usage**:"
   ]
  },
  {
   "cell_type": "code",
   "execution_count": 17,
   "id": "9ef332d8",
   "metadata": {
    "tags": [
     "output_scroll"
    ]
   },
   "outputs": [
    {
     "name": "stdout",
     "output_type": "stream",
     "text": [
      "Project total: $0.00/MW\n"
     ]
    }
   ],
   "source": [
    "# Project total at the whole wind farm level\n",
    "total = metrics.labor_costs(frequency=\"project\", by_type=False)\n",
    "print(f\"Project total: ${total.values[0][0] / metrics.project_capacity:,.2f}/MW\")"
   ]
  },
  {
   "cell_type": "code",
   "execution_count": 18,
   "id": "fdfb7b47",
   "metadata": {
    "tags": [
     "output_scroll"
    ]
   },
   "outputs": [
    {
     "data": {
      "text/html": [
       "<style type=\"text/css\">\n",
       "</style>\n",
       "<table id=\"T_84845\" style=\"font-size: 14px; grid-column-count: 6\">\n",
       "  <thead>\n",
       "    <tr>\n",
       "      <th class=\"blank level0\" >&nbsp;</th>\n",
       "      <th id=\"T_84845_level0_col0\" class=\"col_heading level0 col0\" >hourly_labor_cost</th>\n",
       "      <th id=\"T_84845_level0_col1\" class=\"col_heading level0 col1\" >salary_labor_cost</th>\n",
       "      <th id=\"T_84845_level0_col2\" class=\"col_heading level0 col2\" >total_labor_cost</th>\n",
       "    </tr>\n",
       "  </thead>\n",
       "  <tbody>\n",
       "    <tr>\n",
       "      <th id=\"T_84845_level0_row0\" class=\"row_heading level0 row0\" >0</th>\n",
       "      <td id=\"T_84845_row0_col0\" class=\"data row0 col0\" >0</td>\n",
       "      <td id=\"T_84845_row0_col1\" class=\"data row0 col1\" >0</td>\n",
       "      <td id=\"T_84845_row0_col2\" class=\"data row0 col2\" >0</td>\n",
       "    </tr>\n",
       "  </tbody>\n",
       "</table>\n"
      ],
      "text/plain": [
       "<pandas.io.formats.style.Styler at 0x7fa461fb6e80>"
      ]
     },
     "execution_count": 18,
     "metadata": {},
     "output_type": "execute_result"
    }
   ],
   "source": [
    "# Project totals for each type of labor\n",
    "# NOTE: this simulation relies on using a fixed labor cost, so this is still $0\n",
    "style(metrics.labor_costs(frequency=\"project\", by_type=True))"
   ]
  },
  {
   "cell_type": "markdown",
   "id": "19034b8e",
   "metadata": {},
   "source": [
    "## Equipment and Labor Costs\n",
    "\n",
    "Sum of all labor and servicing equipment costs, excluding the labor defined in the fixed costs, which can be broken out by each category. For further documentation, see the API docs here: {py:meth}`wombat.core.post_processor.Metrics.equipment_labor_cost_breakdown`.\n",
    "\n",
    "**Inputs**:\n",
    "\n",
    "- `frequency`, as explained [above](#common-parameter-explanations), options: \"project\", \"annual\", \"monthly\", and \"month-year\"\n",
    "- `by_category`\n",
    "  - `True`: Computed for each unit servicing equipment and labor category\n",
    "  - `False`: Aggregated to the sum of all costs\n",
    "\n",
    "`reason` definitions:\n",
    " - Maintenance: routine maintenance, or events defined as a {py:class}`wombat.core.data_classes.Maintenance`\n",
    " - Repair: unscheduled maintenance, ranging from inspections to replacements, or events defined as a {py:class}`wombat.core.data_classes.Failure`\n",
    " - Mobilization: Cost of mobilizing servicing equipment\n",
    " - Crew Transfer: Costs incurred while crew are transfering between a turbine or substation and the servicing equipment\n",
    " - Site Travel: Costs incurred while transiting to/from the site and while at the site\n",
    " - Weather Delay: Any delays caused by unsafe weather conditions\n",
    " - No Requests: Equipment and labor is active, but there are no repairs or maintenance tasks to be completed\n",
    " - Not in Shift: Any time outside of the operating hours of the wind farm (or the servicing equipment's specific operating hours)\n",
    "\n",
    "**Example Usage**:"
   ]
  },
  {
   "cell_type": "code",
   "execution_count": 19,
   "id": "0601fa2d",
   "metadata": {
    "tags": [
     "output_scroll"
    ]
   },
   "outputs": [
    {
     "data": {
      "text/html": [
       "<style type=\"text/css\">\n",
       "</style>\n",
       "<table id=\"T_2df6b\" style=\"font-size: 14px; grid-column-count: 6\">\n",
       "  <thead>\n",
       "    <tr>\n",
       "      <th class=\"blank level0\" >&nbsp;</th>\n",
       "      <th id=\"T_2df6b_level0_col0\" class=\"col_heading level0 col0\" >total_cost</th>\n",
       "    </tr>\n",
       "    <tr>\n",
       "      <th class=\"index_name level0\" >reason</th>\n",
       "      <th class=\"blank col0\" >&nbsp;</th>\n",
       "    </tr>\n",
       "  </thead>\n",
       "  <tbody>\n",
       "    <tr>\n",
       "      <th id=\"T_2df6b_level0_row0\" class=\"row_heading level0 row0\" >Repair</th>\n",
       "      <td id=\"T_2df6b_row0_col0\" class=\"data row0 col0\" >36,348.96</td>\n",
       "    </tr>\n",
       "    <tr>\n",
       "      <th id=\"T_2df6b_level0_row1\" class=\"row_heading level0 row1\" >Crew Transfer</th>\n",
       "      <td id=\"T_2df6b_row1_col0\" class=\"data row1 col0\" >4,593.75</td>\n",
       "    </tr>\n",
       "    <tr>\n",
       "      <th id=\"T_2df6b_level0_row2\" class=\"row_heading level0 row2\" >Site Travel</th>\n",
       "      <td id=\"T_2df6b_row2_col0\" class=\"data row2 col0\" >0.00</td>\n",
       "    </tr>\n",
       "    <tr>\n",
       "      <th id=\"T_2df6b_level0_row3\" class=\"row_heading level0 row3\" >Weather Delay</th>\n",
       "      <td id=\"T_2df6b_row3_col0\" class=\"data row3 col0\" >37,041.67</td>\n",
       "    </tr>\n",
       "    <tr>\n",
       "      <th id=\"T_2df6b_level0_row4\" class=\"row_heading level0 row4\" >No Requests</th>\n",
       "      <td id=\"T_2df6b_row4_col0\" class=\"data row4 col0\" >101,007.81</td>\n",
       "    </tr>\n",
       "    <tr>\n",
       "      <th id=\"T_2df6b_level0_row5\" class=\"row_heading level0 row5\" >Not in Shift</th>\n",
       "      <td id=\"T_2df6b_row5_col0\" class=\"data row5 col0\" >24,244.79</td>\n",
       "    </tr>\n",
       "  </tbody>\n",
       "</table>\n"
      ],
      "text/plain": [
       "<pandas.io.formats.style.Styler at 0x7fa461b104f0>"
      ]
     },
     "execution_count": 19,
     "metadata": {},
     "output_type": "execute_result"
    }
   ],
   "source": [
    "# Project totals\n",
    "style(metrics.equipment_labor_cost_breakdowns(frequency=\"project\", by_category=False))"
   ]
  },
  {
   "cell_type": "code",
   "execution_count": 20,
   "id": "4a41d111",
   "metadata": {
    "tags": [
     "output_scroll"
    ]
   },
   "outputs": [
    {
     "data": {
      "text/html": [
       "<style type=\"text/css\">\n",
       "</style>\n",
       "<table id=\"T_8c3c9\" style=\"font-size: 14px; grid-column-count: 6\">\n",
       "  <thead>\n",
       "    <tr>\n",
       "      <th class=\"blank level0\" >&nbsp;</th>\n",
       "      <th id=\"T_8c3c9_level0_col0\" class=\"col_heading level0 col0\" >hourly_labor_cost</th>\n",
       "      <th id=\"T_8c3c9_level0_col1\" class=\"col_heading level0 col1\" >salary_labor_cost</th>\n",
       "      <th id=\"T_8c3c9_level0_col2\" class=\"col_heading level0 col2\" >total_labor_cost</th>\n",
       "      <th id=\"T_8c3c9_level0_col3\" class=\"col_heading level0 col3\" >equipment_cost</th>\n",
       "      <th id=\"T_8c3c9_level0_col4\" class=\"col_heading level0 col4\" >total_cost</th>\n",
       "    </tr>\n",
       "    <tr>\n",
       "      <th class=\"index_name level0\" >reason</th>\n",
       "      <th class=\"blank col0\" >&nbsp;</th>\n",
       "      <th class=\"blank col1\" >&nbsp;</th>\n",
       "      <th class=\"blank col2\" >&nbsp;</th>\n",
       "      <th class=\"blank col3\" >&nbsp;</th>\n",
       "      <th class=\"blank col4\" >&nbsp;</th>\n",
       "    </tr>\n",
       "  </thead>\n",
       "  <tbody>\n",
       "    <tr>\n",
       "      <th id=\"T_8c3c9_level0_row0\" class=\"row_heading level0 row0\" >Repair</th>\n",
       "      <td id=\"T_8c3c9_row0_col0\" class=\"data row0 col0\" >0</td>\n",
       "      <td id=\"T_8c3c9_row0_col1\" class=\"data row0 col1\" >0</td>\n",
       "      <td id=\"T_8c3c9_row0_col2\" class=\"data row0 col2\" >0</td>\n",
       "      <td id=\"T_8c3c9_row0_col3\" class=\"data row0 col3\" >36,348.96</td>\n",
       "      <td id=\"T_8c3c9_row0_col4\" class=\"data row0 col4\" >36,348.96</td>\n",
       "    </tr>\n",
       "    <tr>\n",
       "      <th id=\"T_8c3c9_level0_row1\" class=\"row_heading level0 row1\" >Crew Transfer</th>\n",
       "      <td id=\"T_8c3c9_row1_col0\" class=\"data row1 col0\" >0</td>\n",
       "      <td id=\"T_8c3c9_row1_col1\" class=\"data row1 col1\" >0</td>\n",
       "      <td id=\"T_8c3c9_row1_col2\" class=\"data row1 col2\" >0</td>\n",
       "      <td id=\"T_8c3c9_row1_col3\" class=\"data row1 col3\" >4,593.75</td>\n",
       "      <td id=\"T_8c3c9_row1_col4\" class=\"data row1 col4\" >4,593.75</td>\n",
       "    </tr>\n",
       "    <tr>\n",
       "      <th id=\"T_8c3c9_level0_row2\" class=\"row_heading level0 row2\" >Site Travel</th>\n",
       "      <td id=\"T_8c3c9_row2_col0\" class=\"data row2 col0\" >0</td>\n",
       "      <td id=\"T_8c3c9_row2_col1\" class=\"data row2 col1\" >0</td>\n",
       "      <td id=\"T_8c3c9_row2_col2\" class=\"data row2 col2\" >0</td>\n",
       "      <td id=\"T_8c3c9_row2_col3\" class=\"data row2 col3\" >0.00</td>\n",
       "      <td id=\"T_8c3c9_row2_col4\" class=\"data row2 col4\" >0.00</td>\n",
       "    </tr>\n",
       "    <tr>\n",
       "      <th id=\"T_8c3c9_level0_row3\" class=\"row_heading level0 row3\" >Weather Delay</th>\n",
       "      <td id=\"T_8c3c9_row3_col0\" class=\"data row3 col0\" >0</td>\n",
       "      <td id=\"T_8c3c9_row3_col1\" class=\"data row3 col1\" >0</td>\n",
       "      <td id=\"T_8c3c9_row3_col2\" class=\"data row3 col2\" >0</td>\n",
       "      <td id=\"T_8c3c9_row3_col3\" class=\"data row3 col3\" >37,041.67</td>\n",
       "      <td id=\"T_8c3c9_row3_col4\" class=\"data row3 col4\" >37,041.67</td>\n",
       "    </tr>\n",
       "    <tr>\n",
       "      <th id=\"T_8c3c9_level0_row4\" class=\"row_heading level0 row4\" >No Requests</th>\n",
       "      <td id=\"T_8c3c9_row4_col0\" class=\"data row4 col0\" >0</td>\n",
       "      <td id=\"T_8c3c9_row4_col1\" class=\"data row4 col1\" >0</td>\n",
       "      <td id=\"T_8c3c9_row4_col2\" class=\"data row4 col2\" >0</td>\n",
       "      <td id=\"T_8c3c9_row4_col3\" class=\"data row4 col3\" >101,007.81</td>\n",
       "      <td id=\"T_8c3c9_row4_col4\" class=\"data row4 col4\" >101,007.81</td>\n",
       "    </tr>\n",
       "    <tr>\n",
       "      <th id=\"T_8c3c9_level0_row5\" class=\"row_heading level0 row5\" >Not in Shift</th>\n",
       "      <td id=\"T_8c3c9_row5_col0\" class=\"data row5 col0\" >0</td>\n",
       "      <td id=\"T_8c3c9_row5_col1\" class=\"data row5 col1\" >0</td>\n",
       "      <td id=\"T_8c3c9_row5_col2\" class=\"data row5 col2\" >0</td>\n",
       "      <td id=\"T_8c3c9_row5_col3\" class=\"data row5 col3\" >24,244.79</td>\n",
       "      <td id=\"T_8c3c9_row5_col4\" class=\"data row5 col4\" >24,244.79</td>\n",
       "    </tr>\n",
       "  </tbody>\n",
       "</table>\n"
      ],
      "text/plain": [
       "<pandas.io.formats.style.Styler at 0x7fa461b8fcd0>"
      ]
     },
     "execution_count": 20,
     "metadata": {},
     "output_type": "execute_result"
    }
   ],
   "source": [
    "# Project totals by each category\n",
    "style(metrics.equipment_labor_cost_breakdowns(frequency=\"project\", by_category=True))"
   ]
  },
  {
   "cell_type": "markdown",
   "id": "813a1110",
   "metadata": {},
   "source": [
    "## Component Costs\n",
    "\n",
    "All of the costs associated with maintenance and failure events during the simulation, including delays incurred during the repair process, but excluding costs not directly tied to a repair. For further documentation, see the API docs here: {py:meth}`wombat.core.post_processor.Metrics.component_costs`.\n",
    "\n",
    "**Inputs**:\n",
    "\n",
    "- `frequency`, as explained [above](#common-parameter-explanations), options: \"project\", \"annual\", \"monthly\", and \"month-year\"\n",
    "- `by_category`\n",
    "  - `True`: Computed across each cost category\n",
    "  - `False`: Aggregated to the sum of all categories\n",
    "- `by_action`\n",
    "  - `True`: Computed by each of \"repair\", \"maintenance\", and \"delay\", and is included in the MultiIndex\n",
    "  - `False`: Aggregated as the sum of all actions\n",
    "\n",
    "`action` definitions:\n",
    " - maintenance: routine maintenance\n",
    " - repair: unscheduled maintenance, ranging from inspections to replacements\n",
    " - delay: Any delays caused by unsafe weather conditions or not being able to finish a process within a single shift\n",
    "\n",
    "**Example Usage**:"
   ]
  },
  {
   "cell_type": "code",
   "execution_count": 21,
   "id": "c5958e4a",
   "metadata": {
    "tags": [
     "output_scroll"
    ]
   },
   "outputs": [
    {
     "data": {
      "text/html": [
       "<style type=\"text/css\">\n",
       "</style>\n",
       "<table id=\"T_6d898\" style=\"font-size: 14px; grid-column-count: 6\">\n",
       "  <thead>\n",
       "    <tr>\n",
       "      <th class=\"blank level0\" >&nbsp;</th>\n",
       "      <th id=\"T_6d898_level0_col0\" class=\"col_heading level0 col0\" >total_cost</th>\n",
       "    </tr>\n",
       "    <tr>\n",
       "      <th class=\"index_name level0\" >component</th>\n",
       "      <th class=\"blank col0\" >&nbsp;</th>\n",
       "    </tr>\n",
       "  </thead>\n",
       "  <tbody>\n",
       "    <tr>\n",
       "      <th id=\"T_6d898_level0_row0\" class=\"row_heading level0 row0\" >turbine</th>\n",
       "      <td id=\"T_6d898_row0_col0\" class=\"data row0 col0\" >185,322.92</td>\n",
       "    </tr>\n",
       "  </tbody>\n",
       "</table>\n"
      ],
      "text/plain": [
       "<pandas.io.formats.style.Styler at 0x7fa461ac35b0>"
      ]
     },
     "execution_count": 21,
     "metadata": {},
     "output_type": "execute_result"
    }
   ],
   "source": [
    "# Project totals by component\n",
    "style(metrics.component_costs(frequency=\"project\", by_category=False, by_action=False))"
   ]
  },
  {
   "cell_type": "code",
   "execution_count": 22,
   "id": "521b52dc",
   "metadata": {
    "tags": [
     "output_scroll"
    ]
   },
   "outputs": [
    {
     "data": {
      "text/html": [
       "<style type=\"text/css\">\n",
       "</style>\n",
       "<table id=\"T_a169a\" style=\"font-size: 14px; grid-column-count: 6\">\n",
       "  <thead>\n",
       "    <tr>\n",
       "      <th class=\"blank\" >&nbsp;</th>\n",
       "      <th class=\"blank level0\" >&nbsp;</th>\n",
       "      <th id=\"T_a169a_level0_col0\" class=\"col_heading level0 col0\" >materials_cost</th>\n",
       "      <th id=\"T_a169a_level0_col1\" class=\"col_heading level0 col1\" >total_labor_cost</th>\n",
       "      <th id=\"T_a169a_level0_col2\" class=\"col_heading level0 col2\" >equipment_cost</th>\n",
       "      <th id=\"T_a169a_level0_col3\" class=\"col_heading level0 col3\" >total_cost</th>\n",
       "    </tr>\n",
       "    <tr>\n",
       "      <th class=\"index_name level0\" >component</th>\n",
       "      <th class=\"index_name level1\" >action</th>\n",
       "      <th class=\"blank col0\" >&nbsp;</th>\n",
       "      <th class=\"blank col1\" >&nbsp;</th>\n",
       "      <th class=\"blank col2\" >&nbsp;</th>\n",
       "      <th class=\"blank col3\" >&nbsp;</th>\n",
       "    </tr>\n",
       "  </thead>\n",
       "  <tbody>\n",
       "    <tr>\n",
       "      <th id=\"T_a169a_level0_row0\" class=\"row_heading level0 row0\" rowspan=\"2\">turbine</th>\n",
       "      <th id=\"T_a169a_level1_row0\" class=\"row_heading level1 row0\" >delay</th>\n",
       "      <td id=\"T_a169a_row0_col0\" class=\"data row0 col0\" >0</td>\n",
       "      <td id=\"T_a169a_row0_col1\" class=\"data row0 col1\" >0</td>\n",
       "      <td id=\"T_a169a_row0_col2\" class=\"data row0 col2\" >58,880.21</td>\n",
       "      <td id=\"T_a169a_row0_col3\" class=\"data row0 col3\" >58,880.21</td>\n",
       "    </tr>\n",
       "    <tr>\n",
       "      <th id=\"T_a169a_level1_row1\" class=\"row_heading level1 row1\" >repair</th>\n",
       "      <td id=\"T_a169a_row1_col0\" class=\"data row1 col0\" >0</td>\n",
       "      <td id=\"T_a169a_row1_col1\" class=\"data row1 col1\" >0</td>\n",
       "      <td id=\"T_a169a_row1_col2\" class=\"data row1 col2\" >36,348.96</td>\n",
       "      <td id=\"T_a169a_row1_col3\" class=\"data row1 col3\" >36,348.96</td>\n",
       "    </tr>\n",
       "  </tbody>\n",
       "</table>\n"
      ],
      "text/plain": [
       "<pandas.io.formats.style.Styler at 0x7fa45c214fd0>"
      ]
     },
     "execution_count": 22,
     "metadata": {},
     "output_type": "execute_result"
    }
   ],
   "source": [
    "# Project totals by each category and action type\n",
    "style(metrics.component_costs(frequency=\"project\", by_category=True, by_action=True))"
   ]
  },
  {
   "cell_type": "markdown",
   "id": "f4ad81cf",
   "metadata": {},
   "source": [
    "## Fixed Cost Impacts\n",
    "\n",
    "Computes the total costs of the fixed costs categories. For further documentation, see the defintion docs, here: {py:class}`wombat.core.data_classes.FixedCosts`, or the API docs here: {py:meth}`wombat.core.post_processor.Metrics.fixed_costs`.\n",
    "\n",
    "**Inputs**:\n",
    "\n",
    "- `frequency`, as explained [above](#common-parameter-explanations), options: \"project\", \"annual\", \"monthly\", and \"month-year\"\n",
    "- `resolution` (also, demonstrated below)\n",
    "  - \"high\": Computed across the most granular cost levels\n",
    "  - \"medium\": Computed for each general cost category\n",
    "  - \"low\": Aggregated to a single sum of costs"
   ]
  },
  {
   "cell_type": "code",
   "execution_count": 23,
   "id": "e90b6541",
   "metadata": {
    "tags": [
     "output_scroll"
    ]
   },
   "outputs": [
    {
     "name": "stdout",
     "output_type": "stream",
     "text": [
      "{'operations': {'annual_leases_fees': ['submerge_land_lease_costs',\n",
      "                                       'transmission_charges_rights'],\n",
      "                'environmental_health_safety_monitoring': [],\n",
      "                'insurance': ['brokers_fee',\n",
      "                              'operations_all_risk',\n",
      "                              'business_interruption',\n",
      "                              'third_party_liability',\n",
      "                              'storm_coverage'],\n",
      "                'labor': [],\n",
      "                'onshore_electrical_maintenance': [],\n",
      "                'operating_facilities': [],\n",
      "                'operations_management_administration': ['project_management_administration',\n",
      "                                                         'marine_management',\n",
      "                                                         'weather_forecasting',\n",
      "                                                         'condition_monitoring']}}\n"
     ]
    }
   ],
   "source": [
    "pprint(metrics.fixed_costs.hierarchy)"
   ]
  },
  {
   "cell_type": "markdown",
   "id": "758e4179",
   "metadata": {},
   "source": [
    "**Example Usage**:"
   ]
  },
  {
   "cell_type": "code",
   "execution_count": 24,
   "id": "5f8bd526",
   "metadata": {
    "tags": [
     "output_scroll"
    ]
   },
   "outputs": [
    {
     "data": {
      "text/html": [
       "<style type=\"text/css\">\n",
       "</style>\n",
       "<table id=\"T_ee7ff\" style=\"font-size: 14px; grid-column-count: 6\">\n",
       "  <thead>\n",
       "    <tr>\n",
       "      <th class=\"blank level0\" >&nbsp;</th>\n",
       "      <th id=\"T_ee7ff_level0_col0\" class=\"col_heading level0 col0\" >operations</th>\n",
       "    </tr>\n",
       "  </thead>\n",
       "  <tbody>\n",
       "    <tr>\n",
       "      <th id=\"T_ee7ff_level0_row0\" class=\"row_heading level0 row0\" >0</th>\n",
       "      <td id=\"T_ee7ff_row0_col0\" class=\"data row0 col0\" >182,649.32</td>\n",
       "    </tr>\n",
       "  </tbody>\n",
       "</table>\n"
      ],
      "text/plain": [
       "<pandas.io.formats.style.Styler at 0x7fa461cba580>"
      ]
     },
     "execution_count": 24,
     "metadata": {},
     "output_type": "execute_result"
    }
   ],
   "source": [
    "# Project totals at the highest level\n",
    "# NOTE: there were no fixed costs defined in this example, so all values will be 0, so\n",
    "#       this will just be demonstrating the output format\n",
    "style(metrics.project_fixed_costs(frequency=\"project\", resolution=\"low\"))"
   ]
  },
  {
   "cell_type": "code",
   "execution_count": 25,
   "id": "546bf6b2",
   "metadata": {
    "tags": [
     "output_scroll"
    ]
   },
   "outputs": [
    {
     "data": {
      "text/html": [
       "<style type=\"text/css\">\n",
       "</style>\n",
       "<table id=\"T_e332b\" style=\"font-size: 14px; grid-column-count: 6\">\n",
       "  <thead>\n",
       "    <tr>\n",
       "      <th class=\"blank level0\" >&nbsp;</th>\n",
       "      <th id=\"T_e332b_level0_col0\" class=\"col_heading level0 col0\" >operations_management_administration</th>\n",
       "      <th id=\"T_e332b_level0_col1\" class=\"col_heading level0 col1\" >insurance</th>\n",
       "      <th id=\"T_e332b_level0_col2\" class=\"col_heading level0 col2\" >annual_leases_fees</th>\n",
       "      <th id=\"T_e332b_level0_col3\" class=\"col_heading level0 col3\" >operating_facilities</th>\n",
       "      <th id=\"T_e332b_level0_col4\" class=\"col_heading level0 col4\" >environmental_health_safety_monitoring</th>\n",
       "      <th id=\"T_e332b_level0_col5\" class=\"col_heading level0 col5\" >onshore_electrical_maintenance</th>\n",
       "      <th id=\"T_e332b_level0_col6\" class=\"col_heading level0 col6\" >labor</th>\n",
       "    </tr>\n",
       "  </thead>\n",
       "  <tbody>\n",
       "    <tr>\n",
       "      <th id=\"T_e332b_level0_row0\" class=\"row_heading level0 row0\" >0</th>\n",
       "      <td id=\"T_e332b_row0_col0\" class=\"data row0 col0\" >0.00</td>\n",
       "      <td id=\"T_e332b_row0_col1\" class=\"data row0 col1\" >0.00</td>\n",
       "      <td id=\"T_e332b_row0_col2\" class=\"data row0 col2\" >0.00</td>\n",
       "      <td id=\"T_e332b_row0_col3\" class=\"data row0 col3\" >0.00</td>\n",
       "      <td id=\"T_e332b_row0_col4\" class=\"data row0 col4\" >0.00</td>\n",
       "      <td id=\"T_e332b_row0_col5\" class=\"data row0 col5\" >0.00</td>\n",
       "      <td id=\"T_e332b_row0_col6\" class=\"data row0 col6\" >182,649.32</td>\n",
       "    </tr>\n",
       "  </tbody>\n",
       "</table>\n"
      ],
      "text/plain": [
       "<pandas.io.formats.style.Styler at 0x7fa461bd15e0>"
      ]
     },
     "execution_count": 25,
     "metadata": {},
     "output_type": "execute_result"
    }
   ],
   "source": [
    "# Project totals at the medium level\n",
    "style(metrics.project_fixed_costs(frequency=\"project\", resolution=\"medium\"))"
   ]
  },
  {
   "cell_type": "code",
   "execution_count": 26,
   "id": "4553c01c",
   "metadata": {
    "tags": [
     "output_scroll"
    ]
   },
   "outputs": [
    {
     "data": {
      "text/html": [
       "<style type=\"text/css\">\n",
       "</style>\n",
       "<table id=\"T_82027\" style=\"font-size: 14px; grid-column-count: 6\">\n",
       "  <thead>\n",
       "    <tr>\n",
       "      <th class=\"blank level0\" >&nbsp;</th>\n",
       "      <th id=\"T_82027_level0_col0\" class=\"col_heading level0 col0\" >project_management_administration</th>\n",
       "      <th id=\"T_82027_level0_col1\" class=\"col_heading level0 col1\" >marine_management</th>\n",
       "      <th id=\"T_82027_level0_col2\" class=\"col_heading level0 col2\" >weather_forecasting</th>\n",
       "      <th id=\"T_82027_level0_col3\" class=\"col_heading level0 col3\" >condition_monitoring</th>\n",
       "      <th id=\"T_82027_level0_col4\" class=\"col_heading level0 col4\" >brokers_fee</th>\n",
       "      <th id=\"T_82027_level0_col5\" class=\"col_heading level0 col5\" >operations_all_risk</th>\n",
       "      <th id=\"T_82027_level0_col6\" class=\"col_heading level0 col6\" >business_interruption</th>\n",
       "      <th id=\"T_82027_level0_col7\" class=\"col_heading level0 col7\" >third_party_liability</th>\n",
       "      <th id=\"T_82027_level0_col8\" class=\"col_heading level0 col8\" >storm_coverage</th>\n",
       "      <th id=\"T_82027_level0_col9\" class=\"col_heading level0 col9\" >submerge_land_lease_costs</th>\n",
       "      <th id=\"T_82027_level0_col10\" class=\"col_heading level0 col10\" >transmission_charges_rights</th>\n",
       "      <th id=\"T_82027_level0_col11\" class=\"col_heading level0 col11\" >operating_facilities</th>\n",
       "      <th id=\"T_82027_level0_col12\" class=\"col_heading level0 col12\" >environmental_health_safety_monitoring</th>\n",
       "      <th id=\"T_82027_level0_col13\" class=\"col_heading level0 col13\" >onshore_electrical_maintenance</th>\n",
       "      <th id=\"T_82027_level0_col14\" class=\"col_heading level0 col14\" >labor</th>\n",
       "    </tr>\n",
       "  </thead>\n",
       "  <tbody>\n",
       "    <tr>\n",
       "      <th id=\"T_82027_level0_row0\" class=\"row_heading level0 row0\" >0</th>\n",
       "      <td id=\"T_82027_row0_col0\" class=\"data row0 col0\" >0.00</td>\n",
       "      <td id=\"T_82027_row0_col1\" class=\"data row0 col1\" >0.00</td>\n",
       "      <td id=\"T_82027_row0_col2\" class=\"data row0 col2\" >0.00</td>\n",
       "      <td id=\"T_82027_row0_col3\" class=\"data row0 col3\" >0.00</td>\n",
       "      <td id=\"T_82027_row0_col4\" class=\"data row0 col4\" >0.00</td>\n",
       "      <td id=\"T_82027_row0_col5\" class=\"data row0 col5\" >0.00</td>\n",
       "      <td id=\"T_82027_row0_col6\" class=\"data row0 col6\" >0.00</td>\n",
       "      <td id=\"T_82027_row0_col7\" class=\"data row0 col7\" >0.00</td>\n",
       "      <td id=\"T_82027_row0_col8\" class=\"data row0 col8\" >0.00</td>\n",
       "      <td id=\"T_82027_row0_col9\" class=\"data row0 col9\" >0.00</td>\n",
       "      <td id=\"T_82027_row0_col10\" class=\"data row0 col10\" >0.00</td>\n",
       "      <td id=\"T_82027_row0_col11\" class=\"data row0 col11\" >0.00</td>\n",
       "      <td id=\"T_82027_row0_col12\" class=\"data row0 col12\" >0.00</td>\n",
       "      <td id=\"T_82027_row0_col13\" class=\"data row0 col13\" >0.00</td>\n",
       "      <td id=\"T_82027_row0_col14\" class=\"data row0 col14\" >182,649.32</td>\n",
       "    </tr>\n",
       "  </tbody>\n",
       "</table>\n"
      ],
      "text/plain": [
       "<pandas.io.formats.style.Styler at 0x7fa45d03e790>"
      ]
     },
     "execution_count": 26,
     "metadata": {},
     "output_type": "execute_result"
    }
   ],
   "source": [
    "# Project totals at the lowest level\n",
    "style(metrics.project_fixed_costs(frequency=\"project\", resolution=\"high\"))"
   ]
  },
  {
   "cell_type": "markdown",
   "id": "b02c84b5",
   "metadata": {},
   "source": [
    "## OpEx\n",
    "\n",
    "Computes the total cost of all operating expenditures for the duration of the simulation, including fixed costs. For further documentation, see the API docs here: {py:meth}`wombat.core.post_processor.Metrics.opex`.\n",
    "**Inputs**:\n",
    "\n",
    "- `frequency`, as explained [above](#common-parameter-explanations), options: \"project\", \"annual\", \"monthly\", and \"month-year\"\n",
    "\n",
    "**Example Usage**:"
   ]
  },
  {
   "cell_type": "code",
   "execution_count": 27,
   "id": "5306f0aa",
   "metadata": {
    "tags": [
     "output_scroll"
    ]
   },
   "outputs": [
    {
     "data": {
      "text/html": [
       "<style type=\"text/css\">\n",
       "</style>\n",
       "<table id=\"T_ff8a0\" style=\"font-size: 14px; grid-column-count: 6\">\n",
       "  <thead>\n",
       "    <tr>\n",
       "      <th class=\"blank level0\" >&nbsp;</th>\n",
       "      <th id=\"T_ff8a0_level0_col0\" class=\"col_heading level0 col0\" >OpEx</th>\n",
       "    </tr>\n",
       "    <tr>\n",
       "      <th class=\"index_name level0\" >year</th>\n",
       "      <th class=\"blank col0\" >&nbsp;</th>\n",
       "    </tr>\n",
       "  </thead>\n",
       "  <tbody>\n",
       "    <tr>\n",
       "      <th id=\"T_ff8a0_level0_row0\" class=\"row_heading level0 row0\" >2003</th>\n",
       "      <td id=\"T_ff8a0_row0_col0\" class=\"data row0 col0\" >471,386.29</td>\n",
       "    </tr>\n",
       "  </tbody>\n",
       "</table>\n"
      ],
      "text/plain": [
       "<pandas.io.formats.style.Styler at 0x7fa461aabdc0>"
      ]
     },
     "execution_count": 27,
     "metadata": {},
     "output_type": "execute_result"
    }
   ],
   "source": [
    "style(metrics.opex(\"annual\"))"
   ]
  },
  {
   "cell_type": "markdown",
   "id": "f4e6dce0",
   "metadata": {},
   "source": [
    "## Process Times\n",
    "\n",
    "Computes the total number of hours spent from repair request submission to completion, performing repairs, and the number of rquest for each repair category. For further documentation, see the API docs here: {py:meth}`wombat.core.post_processor.Metrics.process_times`.\n",
    "\n",
    "**Example Usage**:"
   ]
  },
  {
   "cell_type": "code",
   "execution_count": 28,
   "id": "d568efba",
   "metadata": {
    "tags": [
     "output_scroll"
    ]
   },
   "outputs": [
    {
     "data": {
      "text/html": [
       "<style type=\"text/css\">\n",
       "</style>\n",
       "<table id=\"T_d365b\" style=\"font-size: 14px; grid-column-count: 6\">\n",
       "  <thead>\n",
       "    <tr>\n",
       "      <th class=\"blank level0\" >&nbsp;</th>\n",
       "      <th id=\"T_d365b_level0_col0\" class=\"col_heading level0 col0\" >time_to_completion</th>\n",
       "      <th id=\"T_d365b_level0_col1\" class=\"col_heading level0 col1\" >process_time</th>\n",
       "      <th id=\"T_d365b_level0_col2\" class=\"col_heading level0 col2\" >downtime</th>\n",
       "    </tr>\n",
       "    <tr>\n",
       "      <th class=\"index_name level0\" >category</th>\n",
       "      <th class=\"blank col0\" >&nbsp;</th>\n",
       "      <th class=\"blank col1\" >&nbsp;</th>\n",
       "      <th class=\"blank col2\" >&nbsp;</th>\n",
       "    </tr>\n",
       "  </thead>\n",
       "  <tbody>\n",
       "    <tr>\n",
       "      <th id=\"T_d365b_level0_row0\" class=\"row_heading level0 row0\" >major repair</th>\n",
       "      <td id=\"T_d365b_row0_col0\" class=\"data row0 col0\" >0.00</td>\n",
       "      <td id=\"T_d365b_row0_col1\" class=\"data row0 col1\" >0.00</td>\n",
       "      <td id=\"T_d365b_row0_col2\" class=\"data row0 col2\" >0.00</td>\n",
       "    </tr>\n",
       "    <tr>\n",
       "      <th id=\"T_d365b_level0_row1\" class=\"row_heading level0 row1\" >manual reset</th>\n",
       "      <td id=\"T_d365b_row1_col0\" class=\"data row1 col0\" >4,077.25</td>\n",
       "      <td id=\"T_d365b_row1_col1\" class=\"data row1 col1\" >499.75</td>\n",
       "      <td id=\"T_d365b_row1_col2\" class=\"data row1 col2\" >511.50</td>\n",
       "    </tr>\n",
       "    <tr>\n",
       "      <th id=\"T_d365b_level0_row2\" class=\"row_heading level0 row2\" >medium repair</th>\n",
       "      <td id=\"T_d365b_row2_col0\" class=\"data row2 col0\" >203.02</td>\n",
       "      <td id=\"T_d365b_row2_col1\" class=\"data row2 col1\" >153.75</td>\n",
       "      <td id=\"T_d365b_row2_col2\" class=\"data row2 col2\" >178.75</td>\n",
       "    </tr>\n",
       "    <tr>\n",
       "      <th id=\"T_d365b_level0_row3\" class=\"row_heading level0 row3\" >minor repair</th>\n",
       "      <td id=\"T_d365b_row3_col0\" class=\"data row3 col0\" >1,448.56</td>\n",
       "      <td id=\"T_d365b_row3_col1\" class=\"data row3 col1\" >715.50</td>\n",
       "      <td id=\"T_d365b_row3_col2\" class=\"data row3 col2\" >911.25</td>\n",
       "    </tr>\n",
       "  </tbody>\n",
       "</table>\n"
      ],
      "text/plain": [
       "<pandas.io.formats.style.Styler at 0x7fa461fd6220>"
      ]
     },
     "execution_count": 28,
     "metadata": {},
     "output_type": "execute_result"
    }
   ],
   "source": [
    "style(metrics.process_times())"
   ]
  },
  {
   "cell_type": "markdown",
   "id": "e8d61c06",
   "metadata": {},
   "source": [
    "## Power Production\n",
    "\n",
    "Computes the total power production for the wind farm. For further documentation, see the API docs here: {py:meth}`wombat.core.post_processor.Metrics.power_production`.\n",
    "**Inputs**:\n",
    "\n",
    "- `frequency`, as explained [above](#common-parameter-explanations), options: \"project\", \"annual\", \"monthly\", and \"month-year\"\n",
    "- `by`, as explained [above](#common-parameter-explanations) options: \"windfarm\" and \"turbine\"\n",
    "- `units`\n",
    "  - \"kwh\": kilowatt-hours (kWh)\n",
    "  - \"mwh\": megawatt-hours (MWh)\n",
    "  - \"gwh\": gigawatt-hours (GWh)\n",
    "\n",
    "**Example Usage**:"
   ]
  },
  {
   "cell_type": "code",
   "execution_count": 29,
   "id": "e4824320",
   "metadata": {
    "tags": [
     "output_scroll"
    ]
   },
   "outputs": [
    {
     "data": {
      "text/html": [
       "<style type=\"text/css\">\n",
       "</style>\n",
       "<table id=\"T_1cec0\" style=\"font-size: 14px; grid-column-count: 6\">\n",
       "  <thead>\n",
       "    <tr>\n",
       "      <th class=\"blank level0\" >&nbsp;</th>\n",
       "      <th id=\"T_1cec0_level0_col0\" class=\"col_heading level0 col0\" >windfarm</th>\n",
       "    </tr>\n",
       "  </thead>\n",
       "  <tbody>\n",
       "    <tr>\n",
       "      <th id=\"T_1cec0_level0_row0\" class=\"row_heading level0 row0\" >Project Energy Production (kWh)</th>\n",
       "      <td id=\"T_1cec0_row0_col0\" class=\"data row0 col0\" >141,882,115.00</td>\n",
       "    </tr>\n",
       "  </tbody>\n",
       "</table>\n"
      ],
      "text/plain": [
       "<pandas.io.formats.style.Styler at 0x7fa461ed5d00>"
      ]
     },
     "execution_count": 29,
     "metadata": {},
     "output_type": "execute_result"
    }
   ],
   "source": [
    "# Project totals, in kWh, at the wind farm level\n",
    "style(metrics.power_production(frequency=\"project\", by=\"windfarm\", units=\"kwh\"))"
   ]
  },
  {
   "cell_type": "code",
   "execution_count": 30,
   "id": "4364c844",
   "metadata": {
    "tags": [
     "output_scroll"
    ]
   },
   "outputs": [
    {
     "data": {
      "text/html": [
       "<style type=\"text/css\">\n",
       "</style>\n",
       "<table id=\"T_bd542\" style=\"font-size: 14px; grid-column-count: 6\">\n",
       "  <thead>\n",
       "    <tr>\n",
       "      <th class=\"blank level0\" >&nbsp;</th>\n",
       "      <th id=\"T_bd542_level0_col0\" class=\"col_heading level0 col0\" >windfarm</th>\n",
       "    </tr>\n",
       "  </thead>\n",
       "  <tbody>\n",
       "    <tr>\n",
       "      <th id=\"T_bd542_level0_row0\" class=\"row_heading level0 row0\" >Project Energy Production (MWh)</th>\n",
       "      <td id=\"T_bd542_row0_col0\" class=\"data row0 col0\" >141,882.11</td>\n",
       "    </tr>\n",
       "  </tbody>\n",
       "</table>\n"
      ],
      "text/plain": [
       "<pandas.io.formats.style.Styler at 0x7fa461eb3940>"
      ]
     },
     "execution_count": 30,
     "metadata": {},
     "output_type": "execute_result"
    }
   ],
   "source": [
    "# Project totals, in MWh, at the wind farm level\n",
    "style(metrics.power_production(frequency=\"project\", units=\"mwh\"))"
   ]
  },
  {
   "cell_type": "code",
   "execution_count": 31,
   "id": "15eb61a5",
   "metadata": {
    "tags": [
     "output_scroll"
    ]
   },
   "outputs": [
    {
     "data": {
      "text/html": [
       "<style type=\"text/css\">\n",
       "</style>\n",
       "<table id=\"T_2679a\" style=\"font-size: 14px; grid-column-count: 6\">\n",
       "  <thead>\n",
       "    <tr>\n",
       "      <th class=\"blank level0\" >&nbsp;</th>\n",
       "      <th id=\"T_2679a_level0_col0\" class=\"col_heading level0 col0\" >windfarm</th>\n",
       "    </tr>\n",
       "  </thead>\n",
       "  <tbody>\n",
       "    <tr>\n",
       "      <th id=\"T_2679a_level0_row0\" class=\"row_heading level0 row0\" >Project Energy Production (GWh)</th>\n",
       "      <td id=\"T_2679a_row0_col0\" class=\"data row0 col0\" >141.88</td>\n",
       "    </tr>\n",
       "  </tbody>\n",
       "</table>\n"
      ],
      "text/plain": [
       "<pandas.io.formats.style.Styler at 0x7fa461ed5ac0>"
      ]
     },
     "execution_count": 31,
     "metadata": {},
     "output_type": "execute_result"
    }
   ],
   "source": [
    "# Project totals, in GWh, at the wind farm level\n",
    "style(metrics.power_production(frequency=\"project\"))"
   ]
  },
  {
   "cell_type": "markdown",
   "id": "ed50a9bf",
   "metadata": {},
   "source": [
    "## Net Present Value\n",
    "\n",
    "Calcualtes the net present value (NPV) for the project, as $NPV = (Power * OfftakePrice - OpEx) / (1 + DiscountRate)$.\n",
    "\n",
    "For further documentation, see the API docs here: {py:meth}`wombat.core.post_processor.Metrics.npv`.\n",
    "\n",
    "**Inputs**:\n",
    "\n",
    "- `frequency`, as explained [above](#common-parameter-explanations), options: \"project\", \"annual\", \"monthly\", and \"month-year\"\n",
    "- `discount_rate`: The rate of return that could be earned on alternative investments, by default 0.025.\n",
    "- `offtake_price`: Price of energy, per MWh, by default 80."
   ]
  },
  {
   "cell_type": "code",
   "execution_count": 32,
   "id": "02a293db",
   "metadata": {
    "tags": [
     "output_scroll"
    ]
   },
   "outputs": [
    {
     "data": {
      "text/html": [
       "<style type=\"text/css\">\n",
       "</style>\n",
       "<table id=\"T_4b4ab\" style=\"font-size: 14px; grid-column-count: 6\">\n",
       "  <thead>\n",
       "    <tr>\n",
       "      <th class=\"blank level0\" >&nbsp;</th>\n",
       "      <th id=\"T_4b4ab_level0_col0\" class=\"col_heading level0 col0\" >OpEx</th>\n",
       "    </tr>\n",
       "    <tr>\n",
       "      <th class=\"index_name level0\" >year</th>\n",
       "      <th class=\"blank col0\" >&nbsp;</th>\n",
       "    </tr>\n",
       "  </thead>\n",
       "  <tbody>\n",
       "    <tr>\n",
       "      <th id=\"T_4b4ab_level0_row0\" class=\"row_heading level0 row0\" >2003</th>\n",
       "      <td id=\"T_4b4ab_row0_col0\" class=\"data row0 col0\" >471,386.29</td>\n",
       "    </tr>\n",
       "  </tbody>\n",
       "</table>\n"
      ],
      "text/plain": [
       "<pandas.io.formats.style.Styler at 0x7fa4619e8e20>"
      ]
     },
     "execution_count": 32,
     "metadata": {},
     "output_type": "execute_result"
    }
   ],
   "source": [
    "style(metrics.opex(\"annual\"))"
   ]
  },
  {
   "cell_type": "markdown",
   "id": "65b8d376",
   "metadata": {},
   "source": [
    "## PySAM-Powered Results\n",
    "\n",
    "For a number of project financial metrics, the PySAM library is utilized.\n",
    "\n",
    "```{warning}\n",
    "If a \"SAM_settings\" file is not provided to the simulation, then the following metrics will not be able to be calculated and will raise a `NotImplementedError`.\n",
    "```\n",
    "```{warning}\n",
    "All PySAM integrations will raise a `NotImplementedError` because the API needs to be re-mapped for PySAM v3.0+.\n",
    "```\n",
    "\n",
    "### Net Present Value (NPV)"
   ]
  },
  {
   "cell_type": "code",
   "execution_count": 33,
   "id": "83afc9c8",
   "metadata": {
    "tags": [
     "raises-exception"
    ]
   },
   "outputs": [
    {
     "ename": "NotImplementedError",
     "evalue": "No SAM inputs were provided, and 'pysam_npv()' cannot be calculated!",
     "output_type": "error",
     "traceback": [
      "\u001b[0;31m---------------------------------------------------------------------------\u001b[0m",
      "\u001b[0;31mNotImplementedError\u001b[0m                       Traceback (most recent call last)",
      "Cell \u001b[0;32mIn [33], line 1\u001b[0m\n\u001b[0;32m----> 1\u001b[0m \u001b[43mmetrics\u001b[49m\u001b[38;5;241;43m.\u001b[39;49m\u001b[43mpysam_npv\u001b[49m\u001b[43m(\u001b[49m\u001b[43m)\u001b[49m\n",
      "File \u001b[0;32m~/Documents/GitHub/WOMBAT/wombat/core/post_processor.py:1991\u001b[0m, in \u001b[0;36mMetrics.pysam_npv\u001b[0;34m(self)\u001b[0m\n\u001b[1;32m   1973\u001b[0m \u001b[38;5;124;03m\"\"\"Returns the project-level after-tax net present values (NPV).\u001b[39;00m\n\u001b[1;32m   1974\u001b[0m \n\u001b[1;32m   1975\u001b[0m \u001b[38;5;124;03mSee here for more: https://nrel-pysam.readthedocs.io/en/master/modules/Singleowner.html#PySAM.Singleowner.Singleowner.Outputs.cf_project_return_aftertax_npv\u001b[39;00m\n\u001b[0;32m   (...)\u001b[0m\n\u001b[1;32m   1988\u001b[0m \u001b[38;5;124;03m    Final, project-level NPV, in $.\u001b[39;00m\n\u001b[1;32m   1989\u001b[0m \u001b[38;5;124;03m\"\"\"\u001b[39;00m\n\u001b[1;32m   1990\u001b[0m \u001b[38;5;28;01mif\u001b[39;00m \u001b[38;5;28mself\u001b[39m\u001b[38;5;241m.\u001b[39mfinancial_model \u001b[38;5;129;01mis\u001b[39;00m \u001b[38;5;28;01mNone\u001b[39;00m:\n\u001b[0;32m-> 1991\u001b[0m     \u001b[38;5;28;01mraise\u001b[39;00m \u001b[38;5;167;01mNotImplementedError\u001b[39;00m(\n\u001b[1;32m   1992\u001b[0m         \u001b[38;5;124m\"\u001b[39m\u001b[38;5;124mNo SAM inputs were provided, and \u001b[39m\u001b[38;5;124m'\u001b[39m\u001b[38;5;124mpysam_npv()\u001b[39m\u001b[38;5;124m'\u001b[39m\u001b[38;5;124m cannot be calculated!\u001b[39m\u001b[38;5;124m\"\u001b[39m\n\u001b[1;32m   1993\u001b[0m     )\n\u001b[1;32m   1994\u001b[0m npv \u001b[38;5;241m=\u001b[39m \u001b[38;5;28mself\u001b[39m\u001b[38;5;241m.\u001b[39mfinancial_model\u001b[38;5;241m.\u001b[39mOutputs\u001b[38;5;241m.\u001b[39mcf_project_return_aftertax_npv\n\u001b[1;32m   1995\u001b[0m npv \u001b[38;5;241m=\u001b[39m npv[\u001b[38;5;28mlen\u001b[39m(\u001b[38;5;28mself\u001b[39m\u001b[38;5;241m.\u001b[39myears)]\n",
      "\u001b[0;31mNotImplementedError\u001b[0m: No SAM inputs were provided, and 'pysam_npv()' cannot be calculated!"
     ]
    }
   ],
   "source": [
    "metrics.pysam_npv()"
   ]
  },
  {
   "cell_type": "markdown",
   "id": "bc34ce53",
   "metadata": {},
   "source": [
    "### Real Levelized Cost of Energy (LCOE)"
   ]
  },
  {
   "cell_type": "code",
   "execution_count": 34,
   "id": "ced97206",
   "metadata": {
    "tags": [
     "raises-exception"
    ]
   },
   "outputs": [
    {
     "ename": "NotImplementedError",
     "evalue": "No SAM inputs were provided, and 'pysam_lcoe_real()' cannot be calculated!",
     "output_type": "error",
     "traceback": [
      "\u001b[0;31m---------------------------------------------------------------------------\u001b[0m",
      "\u001b[0;31mNotImplementedError\u001b[0m                       Traceback (most recent call last)",
      "Cell \u001b[0;32mIn [34], line 1\u001b[0m\n\u001b[0;32m----> 1\u001b[0m \u001b[43mmetrics\u001b[49m\u001b[38;5;241;43m.\u001b[39;49m\u001b[43mpysam_lcoe_real\u001b[49m\u001b[43m(\u001b[49m\u001b[43m)\u001b[49m\n",
      "File \u001b[0;32m~/Documents/GitHub/WOMBAT/wombat/core/post_processor.py:2017\u001b[0m, in \u001b[0;36mMetrics.pysam_lcoe_real\u001b[0;34m(self)\u001b[0m\n\u001b[1;32m   1999\u001b[0m \u001b[38;5;124;03m\"\"\"Returns the real levelized cost of energy (LCOE) from PySAM.\u001b[39;00m\n\u001b[1;32m   2000\u001b[0m \n\u001b[1;32m   2001\u001b[0m \u001b[38;5;124;03mSee here for more: https://nrel-pysam.readthedocs.io/en/master/modules/Singleowner.html#PySAM.Singleowner.Singleowner.Outputs.lcoe_real\u001b[39;00m\n\u001b[0;32m   (...)\u001b[0m\n\u001b[1;32m   2014\u001b[0m \u001b[38;5;124;03m    Real LCOE, in $/kW.\u001b[39;00m\n\u001b[1;32m   2015\u001b[0m \u001b[38;5;124;03m\"\"\"\u001b[39;00m\n\u001b[1;32m   2016\u001b[0m \u001b[38;5;28;01mif\u001b[39;00m \u001b[38;5;28mself\u001b[39m\u001b[38;5;241m.\u001b[39mfinancial_model \u001b[38;5;129;01mis\u001b[39;00m \u001b[38;5;28;01mNone\u001b[39;00m:\n\u001b[0;32m-> 2017\u001b[0m     \u001b[38;5;28;01mraise\u001b[39;00m \u001b[38;5;167;01mNotImplementedError\u001b[39;00m(\n\u001b[1;32m   2018\u001b[0m         \u001b[38;5;124m\"\u001b[39m\u001b[38;5;124mNo SAM inputs were provided, and \u001b[39m\u001b[38;5;124m'\u001b[39m\u001b[38;5;124mpysam_lcoe_real()\u001b[39m\u001b[38;5;124m'\u001b[39m\u001b[38;5;124m cannot be calculated!\u001b[39m\u001b[38;5;124m\"\u001b[39m\n\u001b[1;32m   2019\u001b[0m     )\n\u001b[1;32m   2020\u001b[0m \u001b[38;5;28;01mreturn\u001b[39;00m \u001b[38;5;28mself\u001b[39m\u001b[38;5;241m.\u001b[39mfinancial_model\u001b[38;5;241m.\u001b[39mOutputs\u001b[38;5;241m.\u001b[39mlcoe_real \u001b[38;5;241m/\u001b[39m \u001b[38;5;241m100.0\u001b[39m\n",
      "\u001b[0;31mNotImplementedError\u001b[0m: No SAM inputs were provided, and 'pysam_lcoe_real()' cannot be calculated!"
     ]
    }
   ],
   "source": [
    "metrics.pysam_lcoe_real()"
   ]
  },
  {
   "cell_type": "markdown",
   "id": "d00c7eb2",
   "metadata": {},
   "source": [
    "### Nominal Levelized Cost of Energy (LCOE)"
   ]
  },
  {
   "cell_type": "code",
   "execution_count": 35,
   "id": "6efba725",
   "metadata": {
    "tags": [
     "raises-exception"
    ]
   },
   "outputs": [
    {
     "ename": "NotImplementedError",
     "evalue": "No SAM inputs were provided, and 'pysam_lcoe_nominal()' cannot be calculated!",
     "output_type": "error",
     "traceback": [
      "\u001b[0;31m---------------------------------------------------------------------------\u001b[0m",
      "\u001b[0;31mNotImplementedError\u001b[0m                       Traceback (most recent call last)",
      "Cell \u001b[0;32mIn [35], line 1\u001b[0m\n\u001b[0;32m----> 1\u001b[0m \u001b[43mmetrics\u001b[49m\u001b[38;5;241;43m.\u001b[39;49m\u001b[43mpysam_lcoe_nominal\u001b[49m\u001b[43m(\u001b[49m\u001b[43m)\u001b[49m\n",
      "File \u001b[0;32m~/Documents/GitHub/WOMBAT/wombat/core/post_processor.py:2041\u001b[0m, in \u001b[0;36mMetrics.pysam_lcoe_nominal\u001b[0;34m(self)\u001b[0m\n\u001b[1;32m   2023\u001b[0m \u001b[38;5;124;03m\"\"\"Returns the nominal levelized cost of energy (LCOE) from PySAM.\u001b[39;00m\n\u001b[1;32m   2024\u001b[0m \n\u001b[1;32m   2025\u001b[0m \u001b[38;5;124;03mSee here for more: https://nrel-pysam.readthedocs.io/en/master/modules/Singleowner.html#PySAM.Singleowner.Singleowner.Outputs.lcoe_nom\u001b[39;00m\n\u001b[0;32m   (...)\u001b[0m\n\u001b[1;32m   2038\u001b[0m \u001b[38;5;124;03m    Nominal LCOE, in $/kW.\u001b[39;00m\n\u001b[1;32m   2039\u001b[0m \u001b[38;5;124;03m\"\"\"\u001b[39;00m\n\u001b[1;32m   2040\u001b[0m \u001b[38;5;28;01mif\u001b[39;00m \u001b[38;5;28mself\u001b[39m\u001b[38;5;241m.\u001b[39mfinancial_model \u001b[38;5;129;01mis\u001b[39;00m \u001b[38;5;28;01mNone\u001b[39;00m:\n\u001b[0;32m-> 2041\u001b[0m     \u001b[38;5;28;01mraise\u001b[39;00m \u001b[38;5;167;01mNotImplementedError\u001b[39;00m(\n\u001b[1;32m   2042\u001b[0m         \u001b[38;5;124m\"\u001b[39m\u001b[38;5;124mNo SAM inputs were provided, and \u001b[39m\u001b[38;5;124m'\u001b[39m\u001b[38;5;124mpysam_lcoe_nominal()\u001b[39m\u001b[38;5;124m'\u001b[39m\u001b[38;5;124m cannot be calculated!\u001b[39m\u001b[38;5;124m\"\u001b[39m\n\u001b[1;32m   2043\u001b[0m     )\n\u001b[1;32m   2044\u001b[0m \u001b[38;5;28;01mreturn\u001b[39;00m \u001b[38;5;28mself\u001b[39m\u001b[38;5;241m.\u001b[39mfinancial_model\u001b[38;5;241m.\u001b[39mOutputs\u001b[38;5;241m.\u001b[39mlcoe_nom \u001b[38;5;241m/\u001b[39m \u001b[38;5;241m100.0\u001b[39m\n",
      "\u001b[0;31mNotImplementedError\u001b[0m: No SAM inputs were provided, and 'pysam_lcoe_nominal()' cannot be calculated!"
     ]
    }
   ],
   "source": [
    "metrics.pysam_lcoe_nominal()"
   ]
  },
  {
   "cell_type": "markdown",
   "id": "68fd6e77",
   "metadata": {},
   "source": [
    "### After-tax Internal Return Rate (IRR)"
   ]
  },
  {
   "cell_type": "code",
   "execution_count": 36,
   "id": "3ff8af51",
   "metadata": {
    "tags": [
     "raises-exception"
    ]
   },
   "outputs": [
    {
     "ename": "NotImplementedError",
     "evalue": "No SAM inputs were provided, and 'pysam_irr()' cannot be calculated!",
     "output_type": "error",
     "traceback": [
      "\u001b[0;31m---------------------------------------------------------------------------\u001b[0m",
      "\u001b[0;31mNotImplementedError\u001b[0m                       Traceback (most recent call last)",
      "Cell \u001b[0;32mIn [36], line 1\u001b[0m\n\u001b[0;32m----> 1\u001b[0m \u001b[43mmetrics\u001b[49m\u001b[38;5;241;43m.\u001b[39;49m\u001b[43mpysam_irr\u001b[49m\u001b[43m(\u001b[49m\u001b[43m)\u001b[49m\n",
      "File \u001b[0;32m~/Documents/GitHub/WOMBAT/wombat/core/post_processor.py:2065\u001b[0m, in \u001b[0;36mMetrics.pysam_irr\u001b[0;34m(self)\u001b[0m\n\u001b[1;32m   2047\u001b[0m \u001b[38;5;124;03m\"\"\"Returns the project-level after-tax internal return rate (IRR).\u001b[39;00m\n\u001b[1;32m   2048\u001b[0m \n\u001b[1;32m   2049\u001b[0m \u001b[38;5;124;03mSee here for more: https://nrel-pysam.readthedocs.io/en/master/modules/Singleowner.html#PySAM.Singleowner.Singleowner.Outputs.cf_project_return_aftertax_irr\u001b[39;00m\n\u001b[0;32m   (...)\u001b[0m\n\u001b[1;32m   2062\u001b[0m \u001b[38;5;124;03m    Annual after-tax IRR value, in %.\u001b[39;00m\n\u001b[1;32m   2063\u001b[0m \u001b[38;5;124;03m\"\"\"\u001b[39;00m\n\u001b[1;32m   2064\u001b[0m \u001b[38;5;28;01mif\u001b[39;00m \u001b[38;5;28mself\u001b[39m\u001b[38;5;241m.\u001b[39mfinancial_model \u001b[38;5;129;01mis\u001b[39;00m \u001b[38;5;28;01mNone\u001b[39;00m:\n\u001b[0;32m-> 2065\u001b[0m     \u001b[38;5;28;01mraise\u001b[39;00m \u001b[38;5;167;01mNotImplementedError\u001b[39;00m(\n\u001b[1;32m   2066\u001b[0m         \u001b[38;5;124m\"\u001b[39m\u001b[38;5;124mNo SAM inputs were provided, and \u001b[39m\u001b[38;5;124m'\u001b[39m\u001b[38;5;124mpysam_irr()\u001b[39m\u001b[38;5;124m'\u001b[39m\u001b[38;5;124m cannot be calculated!\u001b[39m\u001b[38;5;124m\"\u001b[39m\n\u001b[1;32m   2067\u001b[0m     )\n\u001b[1;32m   2068\u001b[0m irr \u001b[38;5;241m=\u001b[39m \u001b[38;5;28mself\u001b[39m\u001b[38;5;241m.\u001b[39mfinancial_model\u001b[38;5;241m.\u001b[39mOutputs\u001b[38;5;241m.\u001b[39mcf_project_return_aftertax_irr\n\u001b[1;32m   2069\u001b[0m irr \u001b[38;5;241m=\u001b[39m irr[\u001b[38;5;28mlen\u001b[39m(\u001b[38;5;28mself\u001b[39m\u001b[38;5;241m.\u001b[39myears)]\n",
      "\u001b[0;31mNotImplementedError\u001b[0m: No SAM inputs were provided, and 'pysam_irr()' cannot be calculated!"
     ]
    }
   ],
   "source": [
    "metrics.pysam_irr()"
   ]
  },
  {
   "cell_type": "markdown",
   "id": "812e54d8",
   "metadata": {},
   "source": [
    "### Combined PySAM Outputs"
   ]
  },
  {
   "cell_type": "code",
   "execution_count": 37,
   "id": "7c4688be",
   "metadata": {
    "tags": [
     "raises-exception"
    ]
   },
   "outputs": [
    {
     "ename": "NotImplementedError",
     "evalue": "No SAM inputs were provided, and 'pysam_all_outputs()' cannot be calculated!",
     "output_type": "error",
     "traceback": [
      "\u001b[0;31m---------------------------------------------------------------------------\u001b[0m",
      "\u001b[0;31mNotImplementedError\u001b[0m                       Traceback (most recent call last)",
      "Cell \u001b[0;32mIn [37], line 1\u001b[0m\n\u001b[0;32m----> 1\u001b[0m \u001b[43mmetrics\u001b[49m\u001b[38;5;241;43m.\u001b[39;49m\u001b[43mpysam_all_outputs\u001b[49m\u001b[43m(\u001b[49m\u001b[43m)\u001b[49m\n",
      "File \u001b[0;32m~/Documents/GitHub/WOMBAT/wombat/core/post_processor.py:2095\u001b[0m, in \u001b[0;36mMetrics.pysam_all_outputs\u001b[0;34m(self)\u001b[0m\n\u001b[1;32m   2073\u001b[0m \u001b[38;5;124;03m\"\"\"Returns all the possible PySAM outputs that are included in this module as\u001b[39;00m\n\u001b[1;32m   2074\u001b[0m \u001b[38;5;124;03mcolumns in the following order:\u001b[39;00m\n\u001b[1;32m   2075\u001b[0m \n\u001b[0;32m   (...)\u001b[0m\n\u001b[1;32m   2092\u001b[0m \u001b[38;5;124;03m    Project financial values values.\u001b[39;00m\n\u001b[1;32m   2093\u001b[0m \u001b[38;5;124;03m\"\"\"\u001b[39;00m\n\u001b[1;32m   2094\u001b[0m \u001b[38;5;28;01mif\u001b[39;00m \u001b[38;5;28mself\u001b[39m\u001b[38;5;241m.\u001b[39mfinancial_model \u001b[38;5;129;01mis\u001b[39;00m \u001b[38;5;28;01mNone\u001b[39;00m:\n\u001b[0;32m-> 2095\u001b[0m     \u001b[38;5;28;01mraise\u001b[39;00m \u001b[38;5;167;01mNotImplementedError\u001b[39;00m(\n\u001b[1;32m   2096\u001b[0m         \u001b[38;5;124m\"\u001b[39m\u001b[38;5;124mNo SAM inputs were provided, and \u001b[39m\u001b[38;5;124m'\u001b[39m\u001b[38;5;124mpysam_all_outputs()\u001b[39m\u001b[38;5;124m'\u001b[39m\u001b[38;5;124m cannot be calculated!\u001b[39m\u001b[38;5;124m\"\u001b[39m\n\u001b[1;32m   2097\u001b[0m     )\n\u001b[1;32m   2098\u001b[0m financials \u001b[38;5;241m=\u001b[39m [\n\u001b[1;32m   2099\u001b[0m     \u001b[38;5;28mself\u001b[39m\u001b[38;5;241m.\u001b[39mpysam_npv(),\n\u001b[1;32m   2100\u001b[0m     \u001b[38;5;28mself\u001b[39m\u001b[38;5;241m.\u001b[39mpysam_lcoe_nominal(),\n\u001b[1;32m   2101\u001b[0m     \u001b[38;5;28mself\u001b[39m\u001b[38;5;241m.\u001b[39mpysam_lcoe_real(),\n\u001b[1;32m   2102\u001b[0m     \u001b[38;5;28mself\u001b[39m\u001b[38;5;241m.\u001b[39mpysam_irr(),\n\u001b[1;32m   2103\u001b[0m ]\n\u001b[1;32m   2104\u001b[0m descriptions \u001b[38;5;241m=\u001b[39m [\n\u001b[1;32m   2105\u001b[0m     \u001b[38;5;124m\"\u001b[39m\u001b[38;5;124mAfter Tax NPV ($)\u001b[39m\u001b[38;5;124m\"\u001b[39m,\n\u001b[1;32m   2106\u001b[0m     \u001b[38;5;124m\"\u001b[39m\u001b[38;5;124mNominal LCOE ($/kW)\u001b[39m\u001b[38;5;124m\"\u001b[39m,\n\u001b[1;32m   2107\u001b[0m     \u001b[38;5;124m\"\u001b[39m\u001b[38;5;124mReal LCOE ($/kW)\u001b[39m\u001b[38;5;124m\"\u001b[39m,\n\u001b[1;32m   2108\u001b[0m     \u001b[38;5;124m\"\u001b[39m\u001b[38;5;124mAfter Tax IRR (\u001b[39m\u001b[38;5;124m%\u001b[39m\u001b[38;5;124m)\u001b[39m\u001b[38;5;124m\"\u001b[39m,\n\u001b[1;32m   2109\u001b[0m ]\n",
      "\u001b[0;31mNotImplementedError\u001b[0m: No SAM inputs were provided, and 'pysam_all_outputs()' cannot be calculated!"
     ]
    }
   ],
   "source": [
    "metrics.pysam_all_outputs()"
   ]
  }
 ],
 "metadata": {
  "jupytext": {
   "formats": "md:myst",
   "text_representation": {
    "extension": ".md",
    "format_name": "myst"
   }
  },
  "kernelspec": {
   "display_name": "Python 3",
   "language": "python",
   "name": "python3"
  },
  "language_info": {
   "codemirror_mode": {
    "name": "ipython",
    "version": 3
   },
   "file_extension": ".py",
   "mimetype": "text/x-python",
   "name": "python",
   "nbconvert_exporter": "python",
   "pygments_lexer": "ipython3",
   "version": "3.8.8"
  },
  "source_map": [
   11,
   20,
   39,
   77,
   95,
   141,
   146,
   149,
   154,
   159,
   164,
   169,
   173,
   191,
   197,
   213,
   221,
   236,
   241,
   245,
   257,
   261,
   277,
   282,
   286,
   304,
   309,
   324,
   331,
   336,
   361,
   366,
   370,
   393,
   398,
   402,
   416,
   419,
   423,
   430,
   435,
   439,
   450,
   453,
   461,
   464,
   480,
   485,
   490,
   494,
   509,
   512,
   527,
   531,
   535,
   539,
   543,
   547,
   551,
   555,
   558
  ]
 },
 "nbformat": 4,
 "nbformat_minor": 5
}
