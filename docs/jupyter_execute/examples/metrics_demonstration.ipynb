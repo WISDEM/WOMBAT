{
 "cells": [
  {
   "cell_type": "markdown",
   "id": "416b211c",
   "metadata": {},
   "source": [
    "# Demonstration of the Available Metrics\n",
    "\n",
    "For a complete list of metrics and their documentation, please see the API Metrics [documentation](../API/simulation_api.md#metrics-computation).\n",
    "\n",
    "This demonstration will rely on the results produced in the \"How To\" notebook and serves as an extension of the API documentation to show what the results will look like depending on what inputs are provided."
   ]
  },
  {
   "cell_type": "code",
   "execution_count": null,
   "id": "45bd7c4e",
   "metadata": {
    "tags": [
     "output_scroll"
    ]
   },
   "outputs": [],
   "source": [
    "from pprint import pprint\n",
    "from functools import partial\n",
    "\n",
    "import pandas as pd\n",
    "from pandas.io.formats.style import Styler\n",
    "\n",
    "from wombat.core import Simulation, Metrics\n",
    "\n",
    "# Clean up the aesthetics for the pandas outputs\n",
    "pd.set_option(\"display.max_rows\", 30)\n",
    "pd.set_option(\"display.max_columns\", 10)\n",
    "style = partial(\n",
    "  Styler,\n",
    "  table_attributes='style=\"font-size: 14px; grid-column-count: 6\"',\n",
    "  precision=2,\n",
    "  thousands=\",\",\n",
    ")"
   ]
  },
  {
   "cell_type": "markdown",
   "id": "40ba9b3c",
   "metadata": {},
   "source": [
    "## Table of Contents\n",
    "\n",
    "Below is a list of top-level sections to demonstrate how to use WOMBAT's `Metrics` class methods and an explanation of each individual metric.\n",
    "\n",
    "If you don't see a metric or result computation that is core to your work, please submit\n",
    "an [issue](https://github.com/WISDEM/WOMBAT/issues/new) with details on what the metric\n",
    "is, and how it should be computed.\n",
    "\n",
    " - [Setup](#setup): Running a simulation to gather the results\n",
    " - [Common Parameters](#common-parameter-explanations): Explanation of frequently used parameter settings\n",
    " - [Availability](#availability): Time-based and energy-based availability\n",
    " - [Capacity Factor](#capacity-factor): Gross and net capacity factor\n",
    " - [Task Completion Rate](#task-completion-rate): Task completion metrics\n",
    " - [Equipment Costs](#equipment-costs): Cost breakdowns by servicing equipment\n",
    " - [Service Equipment Utilization Rate](#service-equipment-utilization-rate): Utilization of servicing equipment\n",
    " - [Vessel-Crew Hours at Sea](#vessel-crew-hours-at-sea): Number of crew or vessel hours spent at sea\n",
    " - [Number of Tows](#number-of-tows): Number of tows breakdowns\n",
    " - [Labor Costs](#labor-costs): Breakdown of labor costs\n",
    " - [Equipment and Labor Costs](#equipment-and-labor-costs): Combined servicing equipment and labor cost breakdown\n",
    " - [Emissions](#emissions): Emissions of servicing equipment based on activity\n",
    " - [Component Costs](#component-costs): Materials costs\n",
    " - [Fixed Cost Impacts](#fixed-cost-impacts): Total fixed costs\n",
    " - [OpEx](#opex): Project OpEx\n",
    " - [Process Times](#process-times): Timing of various stages of repair and maintenance\n",
    " - [Power Production](#power-production): Potential and actually produced power\n",
    " - [Net Present Value](#net-present-value): Project NPV calculator\n",
    " - [PySAM-Powered Results](#pysam-powered-results): PySAM results, if configuration is provided--currently unavailable\n",
    "\n",
    "\n",
    "(setup)=\n",
    "## Setup\n",
    "\n",
    "The simulations from the How To notebook are going to be rerun as it is not recommended to create a Metrics class from scratch due to the\n",
    "large number of inputs that are required and the initialization is provided in the simulation API's run method.\n",
    "\n",
    "To simplify this process, a feature has been added to save the simulation outputs required to generate the Metrics inputs and a method to reload those outputs as inputs."
   ]
  },
  {
   "cell_type": "code",
   "execution_count": null,
   "id": "9c16c50f",
   "metadata": {
    "tags": [
     "output_scroll"
    ]
   },
   "outputs": [],
   "source": [
    "sim = Simulation(\"DINWOODIE\", \"base.yaml\")\n",
    "\n",
    "# Both of these parameters are True by default for convenience\n",
    "sim.run(create_metrics=True, save_metrics_inputs=True)\n",
    "\n",
    "# Load the metrics data\n",
    "fpath = sim.env.metrics_input_fname.parent\n",
    "fname = sim.env.metrics_input_fname.name\n",
    "metrics = Metrics.from_simulation_outputs(fpath, fname)\n",
    "\n",
    "# Delete the log files now that they're loaded in\n",
    "sim.env.cleanup_log_files()\n",
    "\n",
    "# Alternatively, in this case because the simulation was run, we can use the\n",
    "# following for convenience convenience only\n",
    "metrics = sim.metrics"
   ]
  },
  {
   "cell_type": "markdown",
   "id": "d63f33ec",
   "metadata": {},
   "source": [
    "## Common Parameter Explanations\n",
    "\n",
    "Before diving into each and every metric, and how they can be customized, it is is worth noting some of the most common parameters used throughout, and their meanings to reduce redundancy. The varying output forms are demonstrated in the [availability](#availability) section below.\n",
    "\n",
    "### `frequency`\n",
    "\n",
    "  project\n",
    "  : Computed across the whole simulation, with the resulting `DataFrame` having an empty index.\n",
    "\n",
    "  annual\n",
    "  : Summary of each year in the simulation, with the resulting `DataFrame` having \"year\" as the index.\n",
    "\n",
    "  monthly\n",
    "  : Summary of each month of the year, aggregated across years, with the resulting `DataFrame` having \"month\" as the index.\n",
    "\n",
    "  month-year\n",
    "  : computed on a month-by-year basis, producing the results for every month of the simulation, with the resulting `DataFrame` having \"year\" and \"month\" as the index.\n",
    "\n",
    "### `by`\n",
    "\n",
    "  windfarm\n",
    "  : Aggregated across all turbines, with the resulting `DataFrame` having only \"windfarm\" as a column\n",
    "\n",
    "  turbine\n",
    "  : Computed for each turbine, with the resulting `DataFrame` having a column for each turbine\n",
    "\n",
    "## Availability\n",
    "\n",
    "There are two methods to produce availability, which have their own function calls:\n",
    " - energy: actual power produced divided by potential power produced\n",
    "   - {py:meth}`wombat.core.post_processor.Metrics.production_based_availability`\n",
    " - time: The ratio of all non-zero hours to all hours in the simulation, or the proportion of the simulation where turbines are operating\n",
    "   - {py:meth}`wombat.core.post_processor.Metrics.time_based_availability`\n",
    "\n",
    "Here, we will go through the various input definitions to get time-based availability data as both methods use the same inputs, and provide outputs in the same format.\n",
    "\n",
    "**Inputs**:\n",
    "\n",
    "- `frequency`, as explained [above](#common-parameter-explanations) options: \"project\", \"annual\", \"monthly\", and \"month-year\"\n",
    "- `by`, as explained [above](#common-parameter-explanations) options: \"windfarm\" and \"turbine\"\n",
    "\n",
    "\n",
    "Below is a demonstration of the variations on `frequency` and `by` for `time_based_availability`."
   ]
  },
  {
   "cell_type": "code",
   "execution_count": null,
   "id": "e56eeab4",
   "metadata": {
    "tags": [
     "output_scroll"
    ]
   },
   "outputs": [],
   "source": [
    "style(metrics.time_based_availability(frequency=\"project\", by=\"windfarm\"))"
   ]
  },
  {
   "cell_type": "code",
   "execution_count": null,
   "id": "199b321d",
   "metadata": {
    "tags": [
     "output_scroll"
    ]
   },
   "outputs": [],
   "source": [
    "style(metrics.production_based_availability(frequency=\"project\", by=\"windfarm\"))"
   ]
  },
  {
   "cell_type": "markdown",
   "id": "26f18885",
   "metadata": {},
   "source": [
    "Note that in the two above examples, that the values are equal. This is due to the fact that the example simulation does not have any operating reduction applied to failures, unless it's a catastrophic failure, so\n",
    "there is be no expected difference."
   ]
  },
  {
   "cell_type": "code",
   "execution_count": null,
   "id": "8139fcb1",
   "metadata": {
    "tags": [
     "output_scroll"
    ]
   },
   "outputs": [],
   "source": [
    "# Demonstrate the by turbine granularity\n",
    "style(metrics.time_based_availability(frequency=\"project\", by=\"turbine\"))"
   ]
  },
  {
   "cell_type": "code",
   "execution_count": null,
   "id": "1edc3776",
   "metadata": {
    "tags": [
     "output_scroll"
    ]
   },
   "outputs": [],
   "source": [
    "# Demonstrate the annualized outputs\n",
    "style(metrics.time_based_availability(frequency=\"annual\", by=\"windfarm\"))"
   ]
  },
  {
   "cell_type": "code",
   "execution_count": null,
   "id": "25c72b0e",
   "metadata": {
    "tags": [
     "output_scroll"
    ]
   },
   "outputs": [],
   "source": [
    "# Demonstrate the month aggregations\n",
    "style(metrics.time_based_availability(frequency=\"monthly\", by=\"windfarm\"))"
   ]
  },
  {
   "cell_type": "code",
   "execution_count": null,
   "id": "ddded56e",
   "metadata": {
    "tags": [
     "output_scroll"
    ]
   },
   "outputs": [],
   "source": [
    "# Demonstrate the granular monthly reporting\n",
    "style(metrics.time_based_availability(frequency=\"month-year\", by=\"windfarm\"))"
   ]
  },
  {
   "cell_type": "markdown",
   "id": "c1658858",
   "metadata": {},
   "source": [
    "## Capacity Factor\n",
    "\n",
    "The capacity factor is the ratio of actual (net) or potential (gross) energy production divided by the project's capacity. For further documentation, see the API docs here: {py:meth}`wombat.core.post_processor.Metrics.capacity_factor`.\n",
    "\n",
    "**Inputs**:\n",
    "\n",
    "- `which`\n",
    "  - \"net\": net capcity factor, actual production divided by the plant capacity\n",
    "  - \"gross\": gross capacity factor, potential production divided by the plant capacity\n",
    "- `frequency`, as explained [above](#common-parameter-explanations), options: \"project\", \"annual\", \"monthly\", and \"month-year\"\n",
    "- `by`, as explained [above](#common-parameter-explanations), options: \"windfarm\" and \"turbine\"\n",
    "\n",
    "**Example Usage**:"
   ]
  },
  {
   "cell_type": "code",
   "execution_count": null,
   "id": "bac470d5",
   "metadata": {
    "tags": [
     "output_scroll"
    ]
   },
   "outputs": [],
   "source": [
    "net_cf = metrics.capacity_factor(which=\"net\", frequency=\"project\", by=\"windfarm\").values[0][0]\n",
    "gross_cf = metrics.capacity_factor(which=\"gross\", frequency=\"project\", by=\"windfarm\").values[0][0]\n",
    "print(f\"  Net capacity factor: {net_cf:.2%}\")\n",
    "print(f\"Gross capacity factor: {gross_cf:.2%}\")"
   ]
  },
  {
   "cell_type": "markdown",
   "id": "0328e5f3",
   "metadata": {},
   "source": [
    "## Task Completion Rate\n",
    "\n",
    "The task completion rate is the ratio of tasks completed aggregated to the desired `frequency`. It is possible to have a >100% completion rate if all maintenance and failure requests submitted in a time period were completed in addition to those that went unfinished in prior time periods. For further documentation, see the API docs here: {py:meth}`wombat.core.post_processor.Metrics.task_completion_rate`.\n",
    "\n",
    "**Inputs**:\n",
    "\n",
    "- `which`\n",
    "  - \"scheduled\": scheduled maintenance only (classified as maintenace tasks in inputs)\n",
    "  - \"unscheduled\": unscheduled maintenance only (classified as failure events in inputs)\n",
    "  - \"both\": Combined completion rate for all tasks\n",
    "- `frequency`, as explained [above](#common-parameter-explanations), options: \"project\", \"annual\", \"monthly\", and \"month-year\"\n",
    "\n",
    "**Example Usage**:"
   ]
  },
  {
   "cell_type": "code",
   "execution_count": null,
   "id": "30a2ceb4",
   "metadata": {
    "tags": [
     "output_scroll"
    ]
   },
   "outputs": [],
   "source": [
    "scheduled = metrics.task_completion_rate(which=\"scheduled\", frequency=\"project\").values[0][0]\n",
    "unscheduled = metrics.task_completion_rate(which=\"unscheduled\", frequency=\"project\").values[0][0]\n",
    "combined = metrics.task_completion_rate(which=\"both\", frequency=\"project\").values[0][0]\n",
    "print(f\"  Scheduled Task Completion Rate: {scheduled:.2%}\")\n",
    "print(f\"Unscheduled Task Completion Rate: {unscheduled:.2%}\")\n",
    "print(f\"    Overall Task Completion Rate: {combined:.2%}\")"
   ]
  },
  {
   "cell_type": "markdown",
   "id": "fe18e1da",
   "metadata": {},
   "source": [
    "## Equipment Costs\n",
    "\n",
    "Sum of the costs associated with a simulation's servicing equipment, which excludes materials, downtime, etc. For further documentation, see the API docs here: {py:meth}`wombat.core.post_processor.Metrics.equipment_costs`.\n",
    "\n",
    "**Inputs**:\n",
    "\n",
    "- `frequency`, as explained [above](#common-parameter-explanations), options: \"project\", \"annual\", \"monthly\", and \"month-year\"\n",
    "- `by_equipment`\n",
    "  - `True`: Aggregates all equipment into a single cost\n",
    "  - `False`: Computes for each unit of servicing equipment\n",
    "\n",
    "**Example Usage**:"
   ]
  },
  {
   "cell_type": "code",
   "execution_count": null,
   "id": "57dd4892",
   "metadata": {
    "tags": [
     "output_scroll"
    ]
   },
   "outputs": [],
   "source": [
    "# Project total at the whole wind farm level\n",
    "style(metrics.equipment_costs(frequency=\"project\", by_equipment=False))"
   ]
  },
  {
   "cell_type": "code",
   "execution_count": null,
   "id": "571a631e",
   "metadata": {
    "tags": [
     "output_scroll"
    ]
   },
   "outputs": [],
   "source": [
    "# Project totals at servicing equipment level\n",
    "style(metrics.equipment_costs(frequency=\"project\", by_equipment=True))"
   ]
  },
  {
   "cell_type": "markdown",
   "id": "2840d17e",
   "metadata": {},
   "source": [
    "## Service Equipment Utilization Rate\n",
    "\n",
    "Ratio of days when the servicing equipment is in use (not delayed for a whole day due to either weather or lack of repairs to be completed) to the number of days it's present in the simulation. For further documentation, see the API docs here: {py:meth}`wombat.core.post_processor.Metrics.service_equipment_utilization`.\n",
    "\n",
    "**Inputs**:\n",
    "\n",
    "- `frequency`, as explained [above](#common-parameter-explanations), options: \"project\" and \"annual\"\n",
    "\n",
    "**Example Usage**:"
   ]
  },
  {
   "cell_type": "code",
   "execution_count": null,
   "id": "54564dd4",
   "metadata": {
    "tags": [
     "output_scroll"
    ]
   },
   "outputs": [],
   "source": [
    "# Project totals\n",
    "style(metrics.service_equipment_utilization(frequency=\"project\"))"
   ]
  },
  {
   "cell_type": "markdown",
   "id": "35bd766e",
   "metadata": {},
   "source": [
    "## Vessel-Crew Hours at Sea\n",
    "\n",
    "The number of vessel hours or crew hours at sea for offshore wind power plant simulations. For further documentation, see the API docs here: {py:meth}`wombat.core.post_processor.Metrics.vessel_crew_hours_at_sea`.\n",
    "\n",
    "**Inputs**:\n",
    "\n",
    "- `frequency`, as explained [above](#common-parameter-explanations), options: \"project\", \"annual\", \"monthly\", and \"month-year\"\n",
    "- `by_equipment`\n",
    "  - `True`: Aggregates all equipment into a single cost\n",
    "  - `False`: Computes for each unit of servicing equipment\n",
    "- `vessel_crew_assumption`: A dictionary of vessel names (`ServiceEquipment.settings.name`, but also found at `Metrics.service_equipment_names`) and the number of crew onboard at any given time. The application of this assumption transforms the results from vessel hours at sea to crew hours at sea.\n",
    "\n",
    "**Example Usage**:"
   ]
  },
  {
   "cell_type": "code",
   "execution_count": null,
   "id": "9dae7668",
   "metadata": {
    "tags": [
     "output_scroll"
    ]
   },
   "outputs": [],
   "source": [
    "# Project total, not broken out by vessel\n",
    "style(metrics.vessel_crew_hours_at_sea(frequency=\"project\", by_equipment=False))"
   ]
  },
  {
   "cell_type": "code",
   "execution_count": null,
   "id": "be0092a7",
   "metadata": {
    "tags": [
     "output_scroll"
    ]
   },
   "outputs": [],
   "source": [
    "# Annual project totals, broken out by vessel\n",
    "style(metrics.vessel_crew_hours_at_sea(frequency=\"annual\", by_equipment=True))"
   ]
  },
  {
   "cell_type": "markdown",
   "id": "4dfad5e5",
   "metadata": {},
   "source": [
    "## Number of Tows\n",
    "\n",
    "The number of tows performed during the simulation. If tow-to-port was not used in the simulation, a DataFrame with a single value of 0 will be returned. For further documentation, see the API docs here: {py:meth}`wombat.core.post_processor.Metrics.number_of_tows`.\n",
    "\n",
    "**Inputs**:\n",
    "\n",
    "- `frequency`, as explained [above](#common-parameter-explanations), options: \"project\", \"annual\", \"monthly\", and \"month-year\"\n",
    "- `by_tug`\n",
    "  - `True`: Computed for each tugboat (towing vessel)\n",
    "  - `False`: Aggregates all the tugboats\n",
    "- `by_direction`\n",
    "  - `True`: Computed for each direction a tow was performed (to port or to site)\n",
    "  - `False`: Aggregates to the total number of tows\n",
    "\n",
    "**Example Usage**:"
   ]
  },
  {
   "cell_type": "code",
   "execution_count": null,
   "id": "d9b5d4fe",
   "metadata": {
    "tags": [
     "output_scroll"
    ]
   },
   "outputs": [],
   "source": [
    "# Project Total\n",
    "# NOTE: This example has no towing, so it will return 0\n",
    "style(metrics.number_of_tows(frequency=\"project\"))"
   ]
  },
  {
   "cell_type": "markdown",
   "id": "c84c9672",
   "metadata": {},
   "source": [
    "## Labor Costs\n",
    "\n",
    "Sum of all labor costs associated with servicing equipment, excluding the labor defined in the fixed costs, which can be broken out by type. For further documentation, see the API docs here: {py:meth}`wombat.core.post_processor.Metrics.labor_costs`.\n",
    "\n",
    "**Inputs**:\n",
    "\n",
    "- `frequency`, as explained [above](#common-parameter-explanations), options: \"project\", \"annual\", \"monthly\", and \"month-year\"\n",
    "- `by_type`\n",
    "  - `True`: Computed for each labor type (salary and hourly)\n",
    "  - `False`: Aggregates all the labor costs\n",
    "\n",
    "**Example Usage**:"
   ]
  },
  {
   "cell_type": "code",
   "execution_count": null,
   "id": "048db2d9",
   "metadata": {
    "tags": [
     "output_scroll"
    ]
   },
   "outputs": [],
   "source": [
    "# Project total at the whole wind farm level\n",
    "total = metrics.labor_costs(frequency=\"project\", by_type=False)\n",
    "print(f\"Project total: ${total.values[0][0] / metrics.project_capacity:,.2f}/MW\")"
   ]
  },
  {
   "cell_type": "code",
   "execution_count": null,
   "id": "e4d61be4",
   "metadata": {
    "tags": [
     "output_scroll"
    ]
   },
   "outputs": [],
   "source": [
    "# Project totals for each type of labor\n",
    "# NOTE: this simulation relies on using a fixed labor cost, so this is still $0\n",
    "style(metrics.labor_costs(frequency=\"project\", by_type=True))"
   ]
  },
  {
   "cell_type": "markdown",
   "id": "a68b4713",
   "metadata": {},
   "source": [
    "## Equipment and Labor Costs\n",
    "\n",
    "Sum of all labor and servicing equipment costs, excluding the labor defined in the fixed costs, which can be broken out by each category. For further documentation, see the API docs here: {py:meth}`wombat.core.post_processor.Metrics.equipment_labor_cost_breakdown`.\n",
    "\n",
    "**Inputs**:\n",
    "\n",
    "- `frequency`, as explained [above](#common-parameter-explanations), options: \"project\", \"annual\", \"monthly\", and \"month-year\"\n",
    "- `by_category`\n",
    "  - `True`: Computed for each unit servicing equipment and labor category\n",
    "  - `False`: Aggregated to the sum of all costs\n",
    "\n",
    "`reason` definitions:\n",
    " - Maintenance: routine maintenance, or events defined as a {py:class}`wombat.core.data_classes.Maintenance`\n",
    " - Repair: unscheduled maintenance, ranging from inspections to replacements, or events defined as a {py:class}`wombat.core.data_classes.Failure`\n",
    " - Mobilization: Cost of mobilizing servicing equipment\n",
    " - Crew Transfer: Costs incurred while crew are transfering between a turbine or substation and the servicing equipment\n",
    " - Site Travel: Costs incurred while transiting to/from the site and while at the site\n",
    " - Weather Delay: Any delays caused by unsafe weather conditions\n",
    " - No Requests: Equipment and labor is active, but there are no repairs or maintenance tasks to be completed\n",
    " - Not in Shift: Any time outside of the operating hours of the wind farm (or the servicing equipment's specific operating hours)\n",
    "\n",
    "**Example Usage**:"
   ]
  },
  {
   "cell_type": "code",
   "execution_count": null,
   "id": "8ff78b0f",
   "metadata": {
    "tags": [
     "output_scroll"
    ]
   },
   "outputs": [],
   "source": [
    "# Project totals\n",
    "style(metrics.equipment_labor_cost_breakdowns(frequency=\"project\", by_category=False))"
   ]
  },
  {
   "cell_type": "code",
   "execution_count": null,
   "id": "f57968b6",
   "metadata": {
    "tags": [
     "output_scroll"
    ]
   },
   "outputs": [],
   "source": [
    "# Project totals by each category\n",
    "style(metrics.equipment_labor_cost_breakdowns(frequency=\"project\", by_category=True))"
   ]
  },
  {
   "cell_type": "markdown",
   "id": "e248001a",
   "metadata": {},
   "source": [
    "## Emissions\n",
    "\n",
    "Emissions (tons or other provided units) of all servicing equipment activity, except overnight waiting periods between shifts. For further documentation, see the API docs here: {py:meth}`wombat.core.post_processor.Metrics.emissions`.\n",
    "\n",
    "**Inputs**:\n",
    "\n",
    "- `emissions_factors`: Dictionary of servicing equipment names and the emissions per hour of the following activities: `transit`, `maneuvering`, `idle at site`, and `idle at port`, where port is stand-in for wherever the servicing equipment might be based when not at site.\n",
    "- `maneuvering_factor`: The proportion of transit time that can generally be associated with positioning servicing, by default 10%.\n",
    "- `port_engine_on_factor`: The proportion of the idling at port time where the engine is running and producing emissions, by default 25%."
   ]
  },
  {
   "cell_type": "code",
   "execution_count": null,
   "id": "40d20c43",
   "metadata": {},
   "outputs": [],
   "source": [
    "# Create the emissions factors, in tons per hour\n",
    "emissions_factors = {\n",
    "    \"Crew Transfer Vessel 1\": {\n",
    "        \"transit\": 4,\n",
    "        \"maneuvering\": 3,\n",
    "        \"idle at site\": 0.5,\n",
    "        \"idle at port\": 0.25,\n",
    "    },\n",
    "    \"Crew Transfer Vessel 2\": {\n",
    "        \"transit\": 4,\n",
    "        \"maneuvering\": 3,\n",
    "        \"idle at site\": 0.5,\n",
    "        \"idle at port\": 0.25,\n",
    "    },\n",
    "    \"Crew Transfer Vessel 3\": {\n",
    "        \"transit\": 4,\n",
    "        \"maneuvering\": 3,\n",
    "        \"idle at site\": 0.5,\n",
    "        \"idle at port\": 0.25,\n",
    "    },\n",
    "    \"Field Support Vessel\": {\n",
    "        \"transit\": 6,\n",
    "        \"maneuvering\": 4,\n",
    "        \"idle at site\": 1,\n",
    "        \"idle at port\": 0.5,\n",
    "    },\n",
    "    \"Heavy Lift Vessel\": {\n",
    "        \"transit\": 12,\n",
    "        \"maneuvering\": 7,\n",
    "        \"idle at site\": 1,\n",
    "        \"idle at port\": 0.5,\n",
    "    },\n",
    "}\n",
    "\n",
    "style(metrics.emissions(emissions_factors=emissions_factors, maneuvering_factor=0.075, port_engine_on_factor=0.20))"
   ]
  },
  {
   "cell_type": "markdown",
   "id": "60f6433a",
   "metadata": {},
   "source": [
    "## Component Costs\n",
    "\n",
    "All of the costs associated with maintenance and failure events during the simulation, including delays incurred during the repair process, but excluding costs not directly tied to a repair. For further documentation, see the API docs here: {py:meth}`wombat.core.post_processor.Metrics.component_costs`.\n",
    "\n",
    "**Inputs**:\n",
    "\n",
    "- `frequency`, as explained [above](#common-parameter-explanations), options: \"project\", \"annual\", \"monthly\", and \"month-year\"\n",
    "- `by_category`\n",
    "  - `True`: Computed across each cost category\n",
    "  - `False`: Aggregated to the sum of all categories\n",
    "- `by_action`\n",
    "  - `True`: Computed by each of \"repair\", \"maintenance\", and \"delay\", and is included in the MultiIndex\n",
    "  - `False`: Aggregated as the sum of all actions\n",
    "\n",
    "`action` definitions:\n",
    " - maintenance: routine maintenance\n",
    " - repair: unscheduled maintenance, ranging from inspections to replacements\n",
    " - delay: Any delays caused by unsafe weather conditions or not being able to finish a process within a single shift\n",
    "\n",
    "**Example Usage**:"
   ]
  },
  {
   "cell_type": "code",
   "execution_count": null,
   "id": "a8a390a3",
   "metadata": {
    "tags": [
     "output_scroll"
    ]
   },
   "outputs": [],
   "source": [
    "# Project totals by component\n",
    "style(metrics.component_costs(frequency=\"project\", by_category=False, by_action=False))"
   ]
  },
  {
   "cell_type": "code",
   "execution_count": null,
   "id": "be295c81",
   "metadata": {
    "tags": [
     "output_scroll"
    ]
   },
   "outputs": [],
   "source": [
    "# Project totals by each category and action type\n",
    "style(metrics.component_costs(frequency=\"project\", by_category=True, by_action=True))"
   ]
  },
  {
   "cell_type": "markdown",
   "id": "3ff1c7b8",
   "metadata": {},
   "source": [
    "## Fixed Cost Impacts\n",
    "\n",
    "Computes the total costs of the fixed costs categories. For further documentation, see the defintion docs, here: {py:class}`wombat.core.data_classes.FixedCosts`, or the API docs here: {py:meth}`wombat.core.post_processor.Metrics.fixed_costs`.\n",
    "\n",
    "**Inputs**:\n",
    "\n",
    "- `frequency`, as explained [above](#common-parameter-explanations), options: \"project\", \"annual\", \"monthly\", and \"month-year\"\n",
    "- `resolution` (also, demonstrated below)\n",
    "  - \"high\": Computed across the most granular cost levels\n",
    "  - \"medium\": Computed for each general cost category\n",
    "  - \"low\": Aggregated to a single sum of costs"
   ]
  },
  {
   "cell_type": "code",
   "execution_count": null,
   "id": "d3a3c5f6",
   "metadata": {
    "tags": [
     "output_scroll"
    ]
   },
   "outputs": [],
   "source": [
    "pprint(metrics.fixed_costs.hierarchy)"
   ]
  },
  {
   "cell_type": "markdown",
   "id": "5addd6dd",
   "metadata": {},
   "source": [
    "**Example Usage**:"
   ]
  },
  {
   "cell_type": "code",
   "execution_count": null,
   "id": "01fd0af3",
   "metadata": {
    "tags": [
     "output_scroll"
    ]
   },
   "outputs": [],
   "source": [
    "# Project totals at the highest level\n",
    "# NOTE: there were no fixed costs defined in this example, so all values will be 0, so\n",
    "#       this will just be demonstrating the output format\n",
    "style(metrics.project_fixed_costs(frequency=\"project\", resolution=\"low\"))"
   ]
  },
  {
   "cell_type": "code",
   "execution_count": null,
   "id": "e0055e5e",
   "metadata": {
    "tags": [
     "output_scroll"
    ]
   },
   "outputs": [],
   "source": [
    "# Project totals at the medium level\n",
    "style(metrics.project_fixed_costs(frequency=\"project\", resolution=\"medium\"))"
   ]
  },
  {
   "cell_type": "code",
   "execution_count": null,
   "id": "1a71ac31",
   "metadata": {
    "tags": [
     "output_scroll"
    ]
   },
   "outputs": [],
   "source": [
    "# Project totals at the lowest level\n",
    "style(metrics.project_fixed_costs(frequency=\"project\", resolution=\"high\"))"
   ]
  },
  {
   "cell_type": "markdown",
   "id": "1c84bf42",
   "metadata": {},
   "source": [
    "## OpEx\n",
    "\n",
    "Computes the total cost of all operating expenditures for the duration of the simulation, including fixed costs. For further documentation, see the API docs here: {py:meth}`wombat.core.post_processor.Metrics.opex`.\n",
    "**Inputs**:\n",
    "\n",
    "- `frequency`, as explained [above](#common-parameter-explanations), options: \"project\", \"annual\", \"monthly\", and \"month-year\"\n",
    "\n",
    "**Example Usage**:"
   ]
  },
  {
   "cell_type": "code",
   "execution_count": null,
   "id": "95097eba",
   "metadata": {
    "tags": [
     "output_scroll"
    ]
   },
   "outputs": [],
   "source": [
    "style(metrics.opex(\"annual\"))"
   ]
  },
  {
   "cell_type": "markdown",
   "id": "e5a28d2f",
   "metadata": {},
   "source": [
    "## Process Times\n",
    "\n",
    "Computes the total number of hours spent from repair request submission to completion, performing repairs, and the number of rquest for each repair category. For further documentation, see the API docs here: {py:meth}`wombat.core.post_processor.Metrics.process_times`.\n",
    "\n",
    "**Example Usage**:"
   ]
  },
  {
   "cell_type": "code",
   "execution_count": null,
   "id": "6eaad411",
   "metadata": {
    "tags": [
     "output_scroll"
    ]
   },
   "outputs": [],
   "source": [
    "style(metrics.process_times())"
   ]
  },
  {
   "cell_type": "markdown",
   "id": "e6d751c3",
   "metadata": {},
   "source": [
    "## Power Production\n",
    "\n",
    "Computes the total power production for the wind farm. For further documentation, see the API docs here: {py:meth}`wombat.core.post_processor.Metrics.power_production`.\n",
    "**Inputs**:\n",
    "\n",
    "- `frequency`, as explained [above](#common-parameter-explanations), options: \"project\", \"annual\", \"monthly\", and \"month-year\"\n",
    "- `by`, as explained [above](#common-parameter-explanations) options: \"windfarm\" and \"turbine\"\n",
    "- `units`\n",
    "  - \"kwh\": kilowatt-hours (kWh)\n",
    "  - \"mwh\": megawatt-hours (MWh)\n",
    "  - \"gwh\": gigawatt-hours (GWh)\n",
    "\n",
    "**Example Usage**:"
   ]
  },
  {
   "cell_type": "code",
   "execution_count": null,
   "id": "faaa8d2d",
   "metadata": {
    "tags": [
     "output_scroll"
    ]
   },
   "outputs": [],
   "source": [
    "# Project totals, in kWh, at the wind farm level\n",
    "style(metrics.power_production(frequency=\"project\", by=\"windfarm\", units=\"kwh\"))"
   ]
  },
  {
   "cell_type": "code",
   "execution_count": null,
   "id": "557ab296",
   "metadata": {
    "tags": [
     "output_scroll"
    ]
   },
   "outputs": [],
   "source": [
    "# Project totals, in MWh, at the wind farm level\n",
    "style(metrics.power_production(frequency=\"project\", units=\"mwh\"))"
   ]
  },
  {
   "cell_type": "code",
   "execution_count": null,
   "id": "28f5fdf0",
   "metadata": {
    "tags": [
     "output_scroll"
    ]
   },
   "outputs": [],
   "source": [
    "# Project totals, in GWh, at the wind farm level\n",
    "style(metrics.power_production(frequency=\"project\"))"
   ]
  },
  {
   "cell_type": "markdown",
   "id": "9e52263b",
   "metadata": {},
   "source": [
    "## Net Present Value\n",
    "\n",
    "Calcualtes the net present value (NPV) for the project, as $NPV = (Power * OfftakePrice - OpEx) / (1 + DiscountRate)$.\n",
    "\n",
    "For further documentation, see the API docs here: {py:meth}`wombat.core.post_processor.Metrics.npv`.\n",
    "\n",
    "**Inputs**:\n",
    "\n",
    "- `frequency`, as explained [above](#common-parameter-explanations), options: \"project\", \"annual\", \"monthly\", and \"month-year\"\n",
    "- `discount_rate`: The rate of return that could be earned on alternative investments, by default 0.025.\n",
    "- `offtake_price`: Price of energy, per MWh, by default 80."
   ]
  },
  {
   "cell_type": "code",
   "execution_count": null,
   "id": "0168b932",
   "metadata": {
    "tags": [
     "output_scroll"
    ]
   },
   "outputs": [],
   "source": [
    "style(metrics.opex(\"annual\"))"
   ]
  },
  {
   "cell_type": "markdown",
   "id": "0df96cd6",
   "metadata": {},
   "source": [
    "## PySAM-Powered Results\n",
    "\n",
    "For a number of project financial metrics, the PySAM library is utilized.\n",
    "\n",
    "```{warning}\n",
    "If a \"SAM_settings\" file is not provided to the simulation, then the following metrics will not be able to be calculated and will raise a `NotImplementedError`.\n",
    "```\n",
    "```{warning}\n",
    "All PySAM integrations will raise a `NotImplementedError` because the API needs to be re-mapped for PySAM v3.0+.\n",
    "```\n",
    "\n",
    "### Net Present Value (NPV)"
   ]
  },
  {
   "cell_type": "code",
   "execution_count": null,
   "id": "2567df2d",
   "metadata": {
    "tags": [
     "raises-exception"
    ]
   },
   "outputs": [],
   "source": [
    "metrics.pysam_npv()"
   ]
  },
  {
   "cell_type": "markdown",
   "id": "698e1745",
   "metadata": {},
   "source": [
    "### Real Levelized Cost of Energy (LCOE)"
   ]
  },
  {
   "cell_type": "code",
   "execution_count": null,
   "id": "1407616b",
   "metadata": {
    "tags": [
     "raises-exception"
    ]
   },
   "outputs": [],
   "source": [
    "metrics.pysam_lcoe_real()"
   ]
  },
  {
   "cell_type": "markdown",
   "id": "397e5220",
   "metadata": {},
   "source": [
    "### Nominal Levelized Cost of Energy (LCOE)"
   ]
  },
  {
   "cell_type": "code",
   "execution_count": null,
   "id": "0d60bcdb",
   "metadata": {
    "tags": [
     "raises-exception"
    ]
   },
   "outputs": [],
   "source": [
    "metrics.pysam_lcoe_nominal()"
   ]
  },
  {
   "cell_type": "markdown",
   "id": "917bce52",
   "metadata": {},
   "source": [
    "### After-tax Internal Return Rate (IRR)"
   ]
  },
  {
   "cell_type": "code",
   "execution_count": null,
   "id": "69bd1e90",
   "metadata": {
    "tags": [
     "raises-exception"
    ]
   },
   "outputs": [],
   "source": [
    "metrics.pysam_irr()"
   ]
  },
  {
   "cell_type": "markdown",
   "id": "49366301",
   "metadata": {},
   "source": [
    "### Combined PySAM Outputs"
   ]
  },
  {
   "cell_type": "code",
   "execution_count": null,
   "id": "c1267bd8",
   "metadata": {
    "tags": [
     "raises-exception"
    ]
   },
   "outputs": [],
   "source": [
    "metrics.pysam_all_outputs()"
   ]
  }
 ],
 "metadata": {
  "jupytext": {
   "formats": "md:myst",
   "text_representation": {
    "extension": ".md",
    "format_name": "myst"
   }
  },
  "kernelspec": {
   "display_name": "Python 3",
   "language": "python",
   "name": "python3"
  },
  "source_map": [
   11,
   20,
   39,
   78,
   96,
   142,
   147,
   150,
   155,
   160,
   165,
   170,
   174,
   192,
   198,
   214,
   222,
   237,
   242,
   246,
   258,
   262,
   278,
   283,
   287,
   305,
   310,
   325,
   332,
   337,
   362,
   367,
   371,
   383,
   419,
   442,
   447,
   451,
   465,
   468,
   472,
   479,
   484,
   488,
   499,
   502,
   510,
   513,
   529,
   534,
   539,
   543,
   558,
   561,
   576,
   580,
   584,
   588,
   592,
   596,
   600,
   604,
   607
  ]
 },
 "nbformat": 4,
 "nbformat_minor": 5
}