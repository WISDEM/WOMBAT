{
 "cells": [
  {
   "cell_type": "markdown",
   "metadata": {},
   "source": [
    "# Servicing Strategies\n",
    "\n",
    "In this example, we'll demonstrate the essential differences in scheduled servicing, unscheduled servicing, and tow-to-port repair repair strategies. Each of the examples demonstrated below will be based on the 2015 Dinwoodie, et al. paper, though the the variations will be for demonstration purposes only.\n",
    "\n",
    "\n",
    "## WOMBAT Setup and Variables\n",
    "\n",
    "The vessels that will be changed in this demonstration are the field support vessel (FSV) with capability: \"SCN\", the heavy lift vessel (HLV) with capability: \"LCN\", and the tugboats, which have capability: \"TOW\".\n",
    "\n",
    "<div class=\"alert alert-block alert-info\">\n",
    "<b>Note:</b>\n",
    "When running tow-to-port a `Port` configuration is also required, which will control the tugboats. However, the port costs will still be accounted for in the \n",
    "`FixedCosts` class as port fees are assumed to be constant. These costs are not considered in this example, so differences in cost should be taken with a grain\n",
    "of salt given the reduction of HLV and FSV operational and mobilization costs.\n",
    "</div>\n",
    "\n",
    "\n",
    "Scenario descriptions:\n",
    " - **Scheduled**: exactly the same as the base case (fsv_scheduled.yaml and hlv_scheduled.yaml)\n",
    " - **Unscheduled: requests**: the FSV and HLV are called to site when 10 requests that they can service are logged (fsv_requests.yaml and hlv_requests.yaml)\n",
    " - **Unscheduled: downtime**: the FSV and HLV are called to site once the windfarm's operating level hits 90% or lower (fsv_downtime.yaml and hlv_downtime.yaml)\n",
    " - **Unscheduled: tow-to-port**: the FSV and HLV will be replaced with three identical tugboats (tugboat1.yaml, tugboat2.yaml, tugboat3.yaml), and all the failures associated with the FSV and HLV will be changed to capability \"TOW\" to trigger the tow-to-port repairs. These processes will be triggered on the first request (WOMBAT base assumption that can't be changed for now).\n",
    "\n",
    "In this example, we will demonstrate how the results for the base case for the Dinwoodie, et al. example vary based on how each of the vessels are scheduled. The configuration details all remain the same, regardless of details, except for the strategy information, which is defined as follows:\n",
    " \n",
    "This example is set up similarly to that of the validation cases to show how the results differ, and not a step-by-step guide for setting up the analyses. We refer the reader to the exensive [documentation](../API/index.md) and [How To example](how_to.md) for more information.\n",
    "\n",
    "## Imports and notebook configuration"
   ]
  },
  {
   "cell_type": "code",
   "execution_count": 1,
   "metadata": {},
   "outputs": [],
   "source": [
    "from copy import deepcopy\n",
    "from time import perf_counter\n",
    "\n",
    "import pandas as pd\n",
    "\n",
    "from wombat.core import Simulation\n",
    "from wombat.core.library import DINWOODIE\n",
    "\n",
    "pd.set_option(\"display.max_rows\", 1000)\n",
    "pd.set_option(\"display.max_columns\", 1000)\n",
    "pd.options.display.float_format = '{:,.2f}'.format"
   ]
  },
  {
   "cell_type": "markdown",
   "metadata": {},
   "source": [
    "## Simulation and results setup\n",
    "\n",
    "Here we're providing the names of the configuration files (found at: dinwoodie / config) without their .yaml extensions (added in later) and the results that we want to compare between simulations to understand some of the timing and cost trade offs between simulations."
   ]
  },
  {
   "cell_type": "code",
   "execution_count": 2,
   "metadata": {},
   "outputs": [],
   "source": [
    "configs = [\n",
    "    \"base_scheduled\",\n",
    "    \"base_requests\",\n",
    "    \"base_downtime\",\n",
    "    \"base_tow_to_port\",\n",
    "]"
   ]
  },
  {
   "cell_type": "markdown",
   "metadata": {},
   "source": [
    "The dictionary of keys and lists will be used to create the results data frame where the keys will be the indices and the lists will be the row values for each of the above configurations."
   ]
  },
  {
   "cell_type": "code",
   "execution_count": 3,
   "metadata": {},
   "outputs": [],
   "source": [
    "columns = deepcopy(configs) # Create a unique copy of the config names for column naming\n",
    "results = {\n",
    "    \"availability - time based\": [],\n",
    "    \"availability - production based\": [],\n",
    "    \"capacity factor - net\": [],\n",
    "    \"capacity factor - gross\": [],\n",
    "    \"power production\": [],\n",
    "    \"task completion rate\": [],\n",
    "    \"annual direct O&M cost\": [],\n",
    "    \"annual vessel cost\": [],\n",
    "    \"ctv cost\": [],\n",
    "    \"fsv cost\": [],\n",
    "    \"hlv cost\": [],\n",
    "    \"tow cost\": [],\n",
    "    \"annual repair cost\": [],\n",
    "    \"annual technician cost\": [],\n",
    "    \"ctv utilization\": [],\n",
    "    \"fsv utilization\": [],\n",
    "    \"hlv utilization\": [],\n",
    "    \"tow utilization\": [],\n",
    "}"
   ]
  },
  {
   "cell_type": "markdown",
   "metadata": {},
   "source": [
    "## Run the simulations and display the results"
   ]
  },
  {
   "cell_type": "code",
   "execution_count": 4,
   "metadata": {},
   "outputs": [
    {
     "name": "stderr",
     "output_type": "stream",
     "text": [
      "WARNING:root:DeprecationWarning: In v0.7, all project configurations must be located in: '<library>/project/config/\n"
     ]
    },
    {
     "name": "stdout",
     "output_type": "stream",
     "text": [
      "                        name | loading | running\n",
      "              base_scheduled | "
     ]
    },
    {
     "name": "stderr",
     "output_type": "stream",
     "text": [
      "WARNING:root:DeprecationWarning: In v0.7, all substation configurations must be located in: '<library>/substations\n"
     ]
    },
    {
     "name": "stderr",
     "output_type": "stream",
     "text": [
      "WARNING:root:DeprecationWarning: In v0.7, all turbine configurations must be located in: '<library>/turbines\n"
     ]
    },
    {
     "name": "stderr",
     "output_type": "stream",
     "text": [
      "WARNING:root:DeprecationWarning: In v0.7, all cable configurations must be located in: '<library>/cables/\n"
     ]
    },
    {
     "name": "stderr",
     "output_type": "stream",
     "text": [
      "WARNING:root:DeprecationWarning: In v0.7, all servicing equipment configurations must be located in: '<library>/vessels/\n"
     ]
    },
    {
     "name": "stderr",
     "output_type": "stream",
     "text": [
      "WARNING:root:DeprecationWarning: In v0.7, all servicing equipment configurations must be located in: '<library>/vessels/\n"
     ]
    },
    {
     "name": "stderr",
     "output_type": "stream",
     "text": [
      "WARNING:root:DeprecationWarning: In v0.7, all servicing equipment configurations must be located in: '<library>/vessels/\n"
     ]
    },
    {
     "name": "stderr",
     "output_type": "stream",
     "text": [
      "WARNING:root:DeprecationWarning: In v0.7, all servicing equipment configurations must be located in: '<library>/vessels/\n"
     ]
    },
    {
     "name": "stderr",
     "output_type": "stream",
     "text": [
      "WARNING:root:DeprecationWarning: In v0.7, all servicing equipment configurations must be located in: '<library>/vessels/\n"
     ]
    },
    {
     "name": "stderr",
     "output_type": "stream",
     "text": [
      "WARNING:root:DeprecationWarning: In v0.7, all servicing equipment configurations must be located in: '<library>/vessels/\n"
     ]
    },
    {
     "name": "stderr",
     "output_type": "stream",
     "text": [
      "WARNING:root:DeprecationWarning: In v0.7, all servicing equipment configurations must be located in: '<library>/vessels/\n"
     ]
    },
    {
     "name": "stdout",
     "output_type": "stream",
     "text": [
      " 0.06 m | "
     ]
    },
    {
     "name": "stdout",
     "output_type": "stream",
     "text": [
      "0.84 m\n"
     ]
    },
    {
     "name": "stderr",
     "output_type": "stream",
     "text": [
      "WARNING:root:DeprecationWarning: In v0.7, all project configurations must be located in: '<library>/project/config/\n"
     ]
    },
    {
     "name": "stdout",
     "output_type": "stream",
     "text": [
      "               base_requests | "
     ]
    },
    {
     "name": "stderr",
     "output_type": "stream",
     "text": [
      "WARNING:root:DeprecationWarning: In v0.7, all substation configurations must be located in: '<library>/substations\n"
     ]
    },
    {
     "name": "stderr",
     "output_type": "stream",
     "text": [
      "WARNING:root:DeprecationWarning: In v0.7, all turbine configurations must be located in: '<library>/turbines\n"
     ]
    },
    {
     "name": "stderr",
     "output_type": "stream",
     "text": [
      "WARNING:root:DeprecationWarning: In v0.7, all cable configurations must be located in: '<library>/cables/\n"
     ]
    },
    {
     "name": "stderr",
     "output_type": "stream",
     "text": [
      "WARNING:root:DeprecationWarning: In v0.7, all servicing equipment configurations must be located in: '<library>/vessels/\n"
     ]
    },
    {
     "name": "stderr",
     "output_type": "stream",
     "text": [
      "WARNING:root:DeprecationWarning: In v0.7, all servicing equipment configurations must be located in: '<library>/vessels/\n"
     ]
    },
    {
     "name": "stderr",
     "output_type": "stream",
     "text": [
      "WARNING:root:DeprecationWarning: In v0.7, all servicing equipment configurations must be located in: '<library>/vessels/\n"
     ]
    },
    {
     "name": "stderr",
     "output_type": "stream",
     "text": [
      "WARNING:root:DeprecationWarning: In v0.7, all servicing equipment configurations must be located in: '<library>/vessels/\n"
     ]
    },
    {
     "name": "stderr",
     "output_type": "stream",
     "text": [
      "WARNING:root:DeprecationWarning: In v0.7, all servicing equipment configurations must be located in: '<library>/vessels/\n"
     ]
    },
    {
     "name": "stdout",
     "output_type": "stream",
     "text": [
      " 0.08 m | "
     ]
    },
    {
     "name": "stdout",
     "output_type": "stream",
     "text": [
      "0.99 m\n"
     ]
    },
    {
     "name": "stderr",
     "output_type": "stream",
     "text": [
      "WARNING:root:DeprecationWarning: In v0.7, all project configurations must be located in: '<library>/project/config/\n"
     ]
    },
    {
     "name": "stdout",
     "output_type": "stream",
     "text": [
      "               base_downtime | "
     ]
    },
    {
     "name": "stderr",
     "output_type": "stream",
     "text": [
      "WARNING:root:DeprecationWarning: In v0.7, all substation configurations must be located in: '<library>/substations\n"
     ]
    },
    {
     "name": "stderr",
     "output_type": "stream",
     "text": [
      "WARNING:root:DeprecationWarning: In v0.7, all turbine configurations must be located in: '<library>/turbines\n"
     ]
    },
    {
     "name": "stderr",
     "output_type": "stream",
     "text": [
      "WARNING:root:DeprecationWarning: In v0.7, all cable configurations must be located in: '<library>/cables/\n"
     ]
    },
    {
     "name": "stderr",
     "output_type": "stream",
     "text": [
      "WARNING:root:DeprecationWarning: In v0.7, all servicing equipment configurations must be located in: '<library>/vessels/\n"
     ]
    },
    {
     "name": "stderr",
     "output_type": "stream",
     "text": [
      "WARNING:root:DeprecationWarning: In v0.7, all servicing equipment configurations must be located in: '<library>/vessels/\n"
     ]
    },
    {
     "name": "stderr",
     "output_type": "stream",
     "text": [
      "WARNING:root:DeprecationWarning: In v0.7, all servicing equipment configurations must be located in: '<library>/vessels/\n"
     ]
    },
    {
     "name": "stderr",
     "output_type": "stream",
     "text": [
      "WARNING:root:DeprecationWarning: In v0.7, all servicing equipment configurations must be located in: '<library>/vessels/\n"
     ]
    },
    {
     "name": "stderr",
     "output_type": "stream",
     "text": [
      "WARNING:root:DeprecationWarning: In v0.7, all servicing equipment configurations must be located in: '<library>/vessels/\n"
     ]
    },
    {
     "name": "stdout",
     "output_type": "stream",
     "text": [
      " 0.06 m | "
     ]
    },
    {
     "name": "stdout",
     "output_type": "stream",
     "text": [
      "0.83 m\n"
     ]
    },
    {
     "name": "stderr",
     "output_type": "stream",
     "text": [
      "WARNING:root:DeprecationWarning: In v0.7, all project configurations must be located in: '<library>/project/config/\n"
     ]
    },
    {
     "name": "stdout",
     "output_type": "stream",
     "text": [
      "            base_tow_to_port | "
     ]
    },
    {
     "name": "stderr",
     "output_type": "stream",
     "text": [
      "WARNING:root:DeprecationWarning: In v0.7, all substation configurations must be located in: '<library>/substations\n"
     ]
    },
    {
     "name": "stderr",
     "output_type": "stream",
     "text": [
      "WARNING:root:DeprecationWarning: In v0.7, all turbine configurations must be located in: '<library>/turbines\n"
     ]
    },
    {
     "name": "stderr",
     "output_type": "stream",
     "text": [
      "WARNING:root:DeprecationWarning: In v0.7, all cable configurations must be located in: '<library>/cables/\n"
     ]
    },
    {
     "name": "stderr",
     "output_type": "stream",
     "text": [
      "WARNING:root:DeprecationWarning: In v0.7, all servicing equipment configurations must be located in: '<library>/vessels/\n"
     ]
    },
    {
     "name": "stderr",
     "output_type": "stream",
     "text": [
      "WARNING:root:DeprecationWarning: In v0.7, all servicing equipment configurations must be located in: '<library>/vessels/\n"
     ]
    },
    {
     "name": "stderr",
     "output_type": "stream",
     "text": [
      "WARNING:root:DeprecationWarning: In v0.7, all servicing equipment configurations must be located in: '<library>/vessels/\n"
     ]
    },
    {
     "name": "stderr",
     "output_type": "stream",
     "text": [
      "WARNING:root:DeprecationWarning: In v0.7, all port configurations must be located in: '<library>/project/port/\n"
     ]
    },
    {
     "name": "stderr",
     "output_type": "stream",
     "text": [
      "WARNING:root:DeprecationWarning: In v0.7, all servicing equipment configurations must be located in: '<library>/vessels/\n"
     ]
    },
    {
     "name": "stderr",
     "output_type": "stream",
     "text": [
      "WARNING:root:DeprecationWarning: In v0.7, all servicing equipment configurations must be located in: '<library>/vessels/\n"
     ]
    },
    {
     "name": "stderr",
     "output_type": "stream",
     "text": [
      "WARNING:root:DeprecationWarning: In v0.7, all servicing equipment configurations must be located in: '<library>/vessels/\n"
     ]
    },
    {
     "name": "stdout",
     "output_type": "stream",
     "text": [
      " 0.06 m | "
     ]
    },
    {
     "name": "stdout",
     "output_type": "stream",
     "text": [
      "0.71 m\n"
     ]
    }
   ],
   "source": [
    "print(f\"{'name'.rjust(28)} | {'loading'} | running\")\n",
    "for config in configs:\n",
    "    print(f\"{config.rjust(28)}\", end = \" | \")\n",
    "    \n",
    "    # Load the simulation\n",
    "    start = perf_counter()\n",
    "    sim = Simulation(DINWOODIE , f\"{config}.yaml\")\n",
    "    end = perf_counter()\n",
    "    print(f\"{(end - start) / 60:5.2f} m\", end = \" | \")\n",
    "    \n",
    "    # Run the simulation\n",
    "    start = perf_counter()\n",
    "    sim.run()\n",
    "    end = perf_counter()\n",
    "    print(f\"{(end - start) / 60:2.2f} m\")\n",
    "\n",
    "    # Gather the results of interest\n",
    "    years = sim.metrics.events.year.unique().shape[0]\n",
    "    mil = 1000000\n",
    "    \n",
    "    # Gather the high-level results for the simulation\n",
    "    availability_time = sim.metrics.time_based_availability(frequency=\"project\", by=\"windfarm\").values[0][0]\n",
    "    availability_production = sim.metrics.production_based_availability(frequency=\"project\", by=\"windfarm\").values[0][0]\n",
    "    cf_net = sim.metrics.capacity_factor(which=\"net\", frequency=\"project\", by=\"windfarm\").values[0][0]\n",
    "    cf_gross = sim.metrics.capacity_factor(which=\"gross\", frequency=\"project\", by=\"windfarm\").values[0][0]\n",
    "    power_production = sim.metrics.power_production(frequency=\"project\", by_turbine=False).values[0][0]\n",
    "    completion_rate = sim.metrics.task_completion_rate(which=\"both\", frequency=\"project\").values[0][0]\n",
    "    parts = sim.metrics.events[[\"materials_cost\"]].sum().sum()\n",
    "    techs = sim.metrics.project_fixed_costs(frequency=\"project\", resolution=\"low\").operations[0]\n",
    "    total = sim.metrics.events[[\"total_cost\"]].sum().sum()\n",
    "    \n",
    "    # Gather the equipment costs and separate the results by equipment type\n",
    "    equipment = sim.metrics.equipment_costs(frequency=\"project\", by_equipment=True)\n",
    "    equipment_sum = equipment.sum().sum()\n",
    "    hlv = equipment[[el for el in equipment.columns if \"Heavy Lift Vessel\" in el]].sum().sum()\n",
    "    fsv = equipment[[el for el in equipment.columns if \"Field Support Vessel\" in el]].sum().sum()\n",
    "    ctv = equipment[[el for el in equipment.columns if \"Crew Transfer Vessel\" in el]].sum().sum()\n",
    "    tow = equipment[[el for el in equipment.columns if \"Tugboat\" in el]].sum().sum()\n",
    "    \n",
    "    # Gather the equipment utilization data frame and separate the results by equipment type\n",
    "    utilization = sim.metrics.service_equipment_utilization(frequency=\"project\")\n",
    "    hlv_ur = utilization[[el for el in utilization.columns if \"Heavy Lift Vessel\" in el]].mean().mean()\n",
    "    fsv_ur = utilization[[el for el in utilization.columns if \"Field Support Vessel\" in el]].mean().mean()\n",
    "    ctv_ur = utilization[[el for el in utilization.columns if \"Crew Transfer Vessel\" in el]].mean().mean()\n",
    "    tow_ur = utilization[[el for el in utilization.columns if \"Tugboat\" in el]].mean().mean()\n",
    "    \n",
    "    # Log the results of interest\n",
    "    results[\"availability - time based\"].append(availability_time)\n",
    "    results[\"availability - production based\"].append(availability_production)\n",
    "    results[\"capacity factor - net\"].append(cf_net)\n",
    "    results[\"capacity factor - gross\"].append(cf_gross)\n",
    "    results[\"power production\"].append(power_production)\n",
    "    results[\"task completion rate\"].append(completion_rate)\n",
    "    results[\"annual direct O&M cost\"].append((total + techs) / mil / years)\n",
    "    results[\"annual vessel cost\"].append(equipment_sum / mil / years)\n",
    "    results[\"ctv cost\"].append(ctv / mil / years)\n",
    "    results[\"fsv cost\"].append(fsv / mil / years)\n",
    "    results[\"hlv cost\"].append(hlv / mil / years)\n",
    "    results[\"tow cost\"].append(tow / mil / years)\n",
    "    results[\"annual repair cost\"].append(parts / mil / years)\n",
    "    results[\"annual technician cost\"].append(techs / mil / years)\n",
    "    results[\"ctv utilization\"].append(ctv_ur)\n",
    "    results[\"fsv utilization\"].append(fsv_ur)\n",
    "    results[\"hlv utilization\"].append(hlv_ur)\n",
    "    results[\"tow utilization\"].append(tow_ur)\n",
    "    \n",
    "    # Clear the logs\n",
    "    sim.env.cleanup_log_files(log_only=False)"
   ]
  },
  {
   "cell_type": "code",
   "execution_count": 5,
   "metadata": {},
   "outputs": [
    {
     "data": {
      "text/html": [
       "<div>\n",
       "<style scoped>\n",
       "    .dataframe tbody tr th:only-of-type {\n",
       "        vertical-align: middle;\n",
       "    }\n",
       "\n",
       "    .dataframe tbody tr th {\n",
       "        vertical-align: top;\n",
       "    }\n",
       "\n",
       "    .dataframe thead th {\n",
       "        text-align: right;\n",
       "    }\n",
       "</style>\n",
       "<table border=\"1\" class=\"dataframe\">\n",
       "  <thead>\n",
       "    <tr style=\"text-align: right;\">\n",
       "      <th></th>\n",
       "      <th>base_scheduled</th>\n",
       "      <th>base_requests</th>\n",
       "      <th>base_downtime</th>\n",
       "      <th>base_tow_to_port</th>\n",
       "    </tr>\n",
       "  </thead>\n",
       "  <tbody>\n",
       "    <tr>\n",
       "      <th>availability - time based</th>\n",
       "      <td>0.92</td>\n",
       "      <td>0.94</td>\n",
       "      <td>0.89</td>\n",
       "      <td>0.98</td>\n",
       "    </tr>\n",
       "    <tr>\n",
       "      <th>availability - production based</th>\n",
       "      <td>0.92</td>\n",
       "      <td>0.94</td>\n",
       "      <td>0.89</td>\n",
       "      <td>0.98</td>\n",
       "    </tr>\n",
       "    <tr>\n",
       "      <th>capacity factor - net</th>\n",
       "      <td>0.44</td>\n",
       "      <td>0.45</td>\n",
       "      <td>0.42</td>\n",
       "      <td>0.47</td>\n",
       "    </tr>\n",
       "    <tr>\n",
       "      <th>capacity factor - gross</th>\n",
       "      <td>0.48</td>\n",
       "      <td>0.48</td>\n",
       "      <td>0.48</td>\n",
       "      <td>0.48</td>\n",
       "    </tr>\n",
       "    <tr>\n",
       "      <th>power production</th>\n",
       "      <td>9,211,745,205.00</td>\n",
       "      <td>9,403,775,990.50</td>\n",
       "      <td>8,896,887,706.50</td>\n",
       "      <td>9,817,678,370.50</td>\n",
       "    </tr>\n",
       "    <tr>\n",
       "      <th>task completion rate</th>\n",
       "      <td>1.00</td>\n",
       "      <td>1.00</td>\n",
       "      <td>1.00</td>\n",
       "      <td>1.00</td>\n",
       "    </tr>\n",
       "    <tr>\n",
       "      <th>annual direct O&amp;M cost</th>\n",
       "      <td>16.94</td>\n",
       "      <td>16.30</td>\n",
       "      <td>15.12</td>\n",
       "      <td>8.73</td>\n",
       "    </tr>\n",
       "    <tr>\n",
       "      <th>annual vessel cost</th>\n",
       "      <td>11.48</td>\n",
       "      <td>10.50</td>\n",
       "      <td>9.75</td>\n",
       "      <td>1.92</td>\n",
       "    </tr>\n",
       "    <tr>\n",
       "      <th>ctv cost</th>\n",
       "      <td>1.83</td>\n",
       "      <td>1.83</td>\n",
       "      <td>1.84</td>\n",
       "      <td>1.84</td>\n",
       "    </tr>\n",
       "    <tr>\n",
       "      <th>fsv cost</th>\n",
       "      <td>0.26</td>\n",
       "      <td>0.28</td>\n",
       "      <td>0.40</td>\n",
       "      <td>0.00</td>\n",
       "    </tr>\n",
       "    <tr>\n",
       "      <th>hlv cost</th>\n",
       "      <td>9.38</td>\n",
       "      <td>8.40</td>\n",
       "      <td>7.52</td>\n",
       "      <td>0.00</td>\n",
       "    </tr>\n",
       "    <tr>\n",
       "      <th>tow cost</th>\n",
       "      <td>0.00</td>\n",
       "      <td>0.00</td>\n",
       "      <td>0.00</td>\n",
       "      <td>0.07</td>\n",
       "    </tr>\n",
       "    <tr>\n",
       "      <th>annual repair cost</th>\n",
       "      <td>3.86</td>\n",
       "      <td>4.20</td>\n",
       "      <td>3.77</td>\n",
       "      <td>3.21</td>\n",
       "    </tr>\n",
       "    <tr>\n",
       "      <th>annual technician cost</th>\n",
       "      <td>1.60</td>\n",
       "      <td>1.60</td>\n",
       "      <td>1.60</td>\n",
       "      <td>1.60</td>\n",
       "    </tr>\n",
       "    <tr>\n",
       "      <th>ctv utilization</th>\n",
       "      <td>1.00</td>\n",
       "      <td>1.00</td>\n",
       "      <td>1.00</td>\n",
       "      <td>1.00</td>\n",
       "    </tr>\n",
       "    <tr>\n",
       "      <th>fsv utilization</th>\n",
       "      <td>1.00</td>\n",
       "      <td>0.93</td>\n",
       "      <td>0.93</td>\n",
       "      <td>0.00</td>\n",
       "    </tr>\n",
       "    <tr>\n",
       "      <th>hlv utilization</th>\n",
       "      <td>0.99</td>\n",
       "      <td>0.95</td>\n",
       "      <td>0.96</td>\n",
       "      <td>0.00</td>\n",
       "    </tr>\n",
       "    <tr>\n",
       "      <th>tow utilization</th>\n",
       "      <td>0.00</td>\n",
       "      <td>0.00</td>\n",
       "      <td>0.00</td>\n",
       "      <td>0.82</td>\n",
       "    </tr>\n",
       "  </tbody>\n",
       "</table>\n",
       "</div>"
      ],
      "text/plain": [
       "                                  base_scheduled    base_requests  \\\n",
       "availability - time based                   0.92             0.94   \n",
       "availability - production based             0.92             0.94   \n",
       "capacity factor - net                       0.44             0.45   \n",
       "capacity factor - gross                     0.48             0.48   \n",
       "power production                9,211,745,205.00 9,403,775,990.50   \n",
       "task completion rate                        1.00             1.00   \n",
       "annual direct O&M cost                     16.94            16.30   \n",
       "annual vessel cost                         11.48            10.50   \n",
       "ctv cost                                    1.83             1.83   \n",
       "fsv cost                                    0.26             0.28   \n",
       "hlv cost                                    9.38             8.40   \n",
       "tow cost                                    0.00             0.00   \n",
       "annual repair cost                          3.86             4.20   \n",
       "annual technician cost                      1.60             1.60   \n",
       "ctv utilization                             1.00             1.00   \n",
       "fsv utilization                             1.00             0.93   \n",
       "hlv utilization                             0.99             0.95   \n",
       "tow utilization                             0.00             0.00   \n",
       "\n",
       "                                   base_downtime  base_tow_to_port  \n",
       "availability - time based                   0.89              0.98  \n",
       "availability - production based             0.89              0.98  \n",
       "capacity factor - net                       0.42              0.47  \n",
       "capacity factor - gross                     0.48              0.48  \n",
       "power production                8,896,887,706.50  9,817,678,370.50  \n",
       "task completion rate                        1.00              1.00  \n",
       "annual direct O&M cost                     15.12              8.73  \n",
       "annual vessel cost                          9.75              1.92  \n",
       "ctv cost                                    1.84              1.84  \n",
       "fsv cost                                    0.40              0.00  \n",
       "hlv cost                                    7.52              0.00  \n",
       "tow cost                                    0.00              0.07  \n",
       "annual repair cost                          3.77              3.21  \n",
       "annual technician cost                      1.60              1.60  \n",
       "ctv utilization                             1.00              1.00  \n",
       "fsv utilization                             0.93              0.00  \n",
       "hlv utilization                             0.96              0.00  \n",
       "tow utilization                             0.00              0.82  "
      ]
     },
     "execution_count": 5,
     "metadata": {},
     "output_type": "execute_result"
    }
   ],
   "source": [
    "results_df = pd.DataFrame(results.values(), columns=columns, index=results.keys()).fillna(0)\n",
    "results_df"
   ]
  },
  {
   "cell_type": "code",
   "execution_count": null,
   "metadata": {},
   "outputs": [],
   "source": []
  }
 ],
 "metadata": {
  "kernelspec": {
   "display_name": "Python 3.8.8 ('wombat')",
   "language": "python",
   "name": "python3"
  },
  "language_info": {
   "codemirror_mode": {
    "name": "ipython",
    "version": 3
   },
   "file_extension": ".py",
   "mimetype": "text/x-python",
   "name": "python",
   "nbconvert_exporter": "python",
   "pygments_lexer": "ipython3",
   "version": "3.8.8"
  },
  "vscode": {
   "interpreter": {
    "hash": "58b7c990a851cca75b34d34d56ba7121ba7d2063ecbf86f6ef85bae168de1bae"
   }
  }
 },
 "nbformat": 4,
 "nbformat_minor": 4
}
