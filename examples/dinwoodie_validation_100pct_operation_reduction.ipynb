{
  "cells": [
    {
      "cell_type": "markdown",
      "metadata": {},
      "source": [
        "# Code-to-Code Comparison: Dinwoodie with all events as 100% operation reduction\n",
        "\n",
        "National Renewable Energy Laboratory\\\n",
        "Rob Hammond\\\n",
        "26 October 2023\n",
        "\n",
        "**Note**: As of v0.7, this notebook is no longer advised to be considered due to the more accurate downtime modeling, that render this example invalid. With the full extent of bug fixes in v0.7, the availability in all of the below hover at ~1% because every failure shuts down the turbine/substation."
      ]
    },
    {
      "cell_type": "code",
      "execution_count": 1,
      "metadata": {},
      "outputs": [],
      "source": [
        "from copy import deepcopy\n",
        "from time import perf_counter\n",
        "from pprint import pprint\n",
        "\n",
        "import yaml\n",
        "import numpy as np\n",
        "import pandas as pd\n",
        "import networkx as nx\n",
        "import matplotlib.pyplot as plt\n",
        "\n",
        "from wombat.core import Simulation\n",
        "from wombat.core.library import DINWOODIE, load_yaml\n",
        "\n",
        "pd.set_option(\"display.max_rows\", 1000)\n",
        "pd.set_option(\"display.max_columns\", 1000)\n",
        "pd.options.display.float_format = '{:,.2f}'.format\n",
        "%matplotlib inline"
      ]
    },
    {
      "cell_type": "code",
      "execution_count": 2,
      "metadata": {},
      "outputs": [
        {
          "data": {
            "text/plain": [
              "'6.6667'"
            ]
          },
          "execution_count": 2,
          "metadata": {},
          "output_type": "execute_result"
        }
      ],
      "source": [
        "# Converting Labor values to fixed cost input for the base case\n",
        "tech_salary_annual = 80000\n",
        "techs = 20\n",
        "capacity = 240 * 1000  # 240 -> kW\n",
        "f\"{tech_salary_annual * techs / capacity:.4f}\""
      ]
    },
    {
      "cell_type": "code",
      "execution_count": 3,
      "metadata": {},
      "outputs": [],
      "source": [
        "configs = [\n",
        "    \"base_100pct_reduction\",\n",
        "    \"more_ctvs_100pct_reduction\",\n",
        "    \"fewer_ctvs_100pct_reduction\",\n",
        "    \"more_techs_100pct_reduction\",\n",
        "    \"fewer_techs_100pct_reduction\",\n",
        "    \"failure_50_100pct_reduction\",\n",
        "    \"failure_200_100pct_reduction\",\n",
        "    \"no_hlvs_100pct_reduction\",\n",
        "    \"no_weather_100pct_reduction\",\n",
        "    \"historic_weather_100pct_reduction\",\n",
        "    \"manual_resets_only_100pct_reduction\",\n",
        "    \"minor_repairs_only_100pct_reduction\",\n",
        "    \"medium_repairs_only_100pct_reduction\",\n",
        "    \"major_repairs_only_100pct_reduction\",\n",
        "    \"major_replacements_only_100pct_reduction\",\n",
        "    \"annual_service_only_100pct_reduction\",\n",
        "]\n",
        "columns = deepcopy(configs)\n",
        "results = {\n",
        "    \"availability - time based\": [],\n",
        "    \"availability - production based\": [],\n",
        "    \"capacity factor - net\": [],\n",
        "    \"capacity factor - gross\": [],\n",
        "    \"power production\": [],\n",
        "    \"task completion rate\": [],\n",
        "    \"annual direct O&M cost\": [],\n",
        "    \"annual vessel cost\": [],\n",
        "    \"ctv cost\": [],\n",
        "    \"fsv cost\": [],\n",
        "    \"hlv cost\": [],\n",
        "    \"annual repair cost\": [],\n",
        "    \"annual technician cost\": [],\n",
        "    \"ctv utilization\": [],\n",
        "    \"fsv utilization\": [],\n",
        "    \"hlv utilization\": [],\n",
        "    \n",
        "}\n",
        "metrics_dict = {}"
      ]
    },
    {
      "cell_type": "code",
      "execution_count": null,
      "metadata": {},
      "outputs": [],
      "source": [
        "for config in configs:\n",
        "    # Run the simulation\n",
        "    start = perf_counter()\n",
        "    sim = Simulation(DINWOODIE, f\"{config}.yaml\", random_seed=2023)\n",
        "    sim.run()\n",
        "    end = perf_counter()\n",
        "    print(f\"{sim.config.name.rjust(50)} | {(end - start) / 60:.2f} m\")\n",
        "    metrics_dict[config] = sim.metrics"
      ]
    },
    {
      "cell_type": "code",
      "execution_count": null,
      "metadata": {},
      "outputs": [],
      "source": [
        "for config, metrics in metrics_dict.items():\n",
        "    # Gather the results of interest\n",
        "    years = metrics.events.year.unique().shape[0]\n",
        "    mil = 1000000\n",
        "    \n",
        "    availability_time = metrics.time_based_availability(frequency=\"project\", by=\"windfarm\").values[0][0]\n",
        "    availability_production = metrics.production_based_availability(frequency=\"project\", by=\"windfarm\").values[0][0]\n",
        "    cf_net = metrics.capacity_factor(which=\"net\", frequency=\"project\", by=\"windfarm\").values[0][0]\n",
        "    cf_gross = metrics.capacity_factor(which=\"gross\", frequency=\"project\", by=\"windfarm\").values[0][0]\n",
        "    power_production = metrics.power_production(frequency=\"project\", by=\"windfarm\").values[0][0]\n",
        "    completion_rate = metrics.task_completion_rate(which=\"both\", frequency=\"project\").values[0][0]\n",
        "    parts = metrics.events[[\"materials_cost\"]].sum().sum()\n",
        "    techs = metrics.project_fixed_costs(frequency=\"project\", resolution=\"low\").operations[0]\n",
        "    total = metrics.events[[\"total_cost\"]].sum().sum()\n",
        "    \n",
        "    equipment = metrics.equipment_costs(frequency=\"project\", by_equipment=True)\n",
        "    equipment_sum = equipment.sum().sum()\n",
        "    hlv = equipment[[el for el in equipment.columns if \"Heavy Lift Vessel\" in el]].sum().sum()\n",
        "    fsv = equipment[[el for el in equipment.columns if \"Field Support Vessel\" in el]].sum().sum()\n",
        "    ctv = equipment[[el for el in equipment.columns if \"Crew Transfer Vessel\" in el]].sum().sum()\n",
        "    \n",
        "    utilization = metrics.service_equipment_utilization(frequency=\"project\")\n",
        "    hlv_ur = utilization[[el for el in utilization.columns if \"Heavy Lift Vessel\" in el]].mean().mean()\n",
        "    fsv_ur = utilization[[el for el in utilization.columns if \"Field Support Vessel\" in el]].mean().mean()\n",
        "    ctv_ur = utilization[[el for el in utilization.columns if \"Crew Transfer Vessel\" in el]].mean().mean()\n",
        "    \n",
        "    # Log the results of interest\n",
        "    results[\"availability - time based\"].append(availability_time)\n",
        "    results[\"availability - production based\"].append(availability_production)\n",
        "    results[\"capacity factor - net\"].append(cf_net)\n",
        "    results[\"capacity factor - gross\"].append(cf_gross)\n",
        "    results[\"power production\"].append(power_production)\n",
        "    results[\"task completion rate\"].append(completion_rate)\n",
        "    results[\"annual direct O&M cost\"].append((total + techs) / mil / years)\n",
        "    results[\"annual vessel cost\"].append(equipment_sum / mil / years)\n",
        "    results[\"ctv cost\"].append(ctv / mil / years)\n",
        "    results[\"fsv cost\"].append(fsv / mil / years)\n",
        "    results[\"hlv cost\"].append(hlv / mil / years)\n",
        "    results[\"annual repair cost\"].append(parts / mil / years)\n",
        "    results[\"annual technician cost\"].append(techs / mil / years)\n",
        "    results[\"ctv utilization\"].append(ctv_ur)\n",
        "    results[\"fsv utilization\"].append(fsv_ur)\n",
        "    results[\"hlv utilization\"].append(hlv_ur)"
      ]
    },
    {
      "cell_type": "code",
      "execution_count": null,
      "metadata": {},
      "outputs": [],
      "source": [
        "# Save the results\n",
        "# pickled dictionary format\n",
        "with open(DINWOODIE / \"results\" / \"results_dict_100pct_reduction_v0.9.0.yaml\", \"w\") as f:\n",
        "    yaml.dump(results, f, default_flow_style=False, sort_keys=False)\n",
        "\n",
        "# dataframe/csv format\n",
        "results_df = pd.DataFrame(results.values(), columns=columns, index=results.keys()).fillna(0)\n",
        "results_df.to_csv(DINWOODIE / \"results\" / \"results_data_100pct_reduction_v0.9.0.csv\", index_label=\"result\")"
      ]
    },
    {
      "cell_type": "code",
      "execution_count": null,
      "metadata": {},
      "outputs": [],
      "source": [
        "results_df"
      ]
    },
    {
      "cell_type": "code",
      "execution_count": null,
      "metadata": {},
      "outputs": [],
      "source": []
    }
  ],
  "metadata": {
    "kernelspec": {
      "display_name": "Python 3 (ipykernel)",
      "language": "python",
      "name": "python3"
    },
    "language_info": {
      "codemirror_mode": {
        "name": "ipython",
        "version": 3
      },
      "file_extension": ".py",
      "mimetype": "text/x-python",
      "name": "python",
      "nbconvert_exporter": "python",
      "pygments_lexer": "ipython3",
      "version": "3.10.9"
    },
    "vscode": {
      "interpreter": {
        "hash": "58b7c990a851cca75b34d34d56ba7121ba7d2063ecbf86f6ef85bae168de1bae"
      }
    }
  },
  "nbformat": 4,
  "nbformat_minor": 4
}
