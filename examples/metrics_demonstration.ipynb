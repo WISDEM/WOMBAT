{
  "cells": [
    {
      "cell_type": "markdown",
      "id": "3a03b512",
      "metadata": {},
      "source": [
        "# Demonstration of the Available Metrics\n",
        "\n",
        "For a complete list of metrics and their documentation, please see the API Metrics [documentation](../API/simulation_api.md#metrics-computation).\n",
        "\n",
        "This demonstration will rely on the results produced in the \"How To\" notebook and serves as an extension of the API documentation to show what the results will look like depending on what inputs are provided."
      ]
    },
    {
      "cell_type": "code",
      "execution_count": 1,
      "id": "8d671945",
      "metadata": {
        "tags": [
          "output_scroll"
        ]
      },
      "outputs": [],
      "source": [
        "from pprint import pprint\n",
        "from functools import partial\n",
        "\n",
        "import pandas as pd\n",
        "from pandas.io.formats.style import Styler\n",
        "\n",
        "from wombat.core import Simulation, Metrics\n",
        "\n",
        "# Clean up the aesthetics for the pandas outputs\n",
        "pd.set_option(\"display.max_rows\", 30)\n",
        "pd.set_option(\"display.max_columns\", 10)\n",
        "style = partial(\n",
        "  Styler,\n",
        "  table_attributes='style=\"font-size: 14px; grid-column-count: 6\"',\n",
        "  precision=2,\n",
        "  thousands=\",\",\n",
        ")"
      ]
    },
    {
      "cell_type": "markdown",
      "id": "dbfa9a49",
      "metadata": {},
      "source": [
        "## Table of Contents\n",
        "\n",
        "Below is a list of top-level sections to demonstrate how to use WOMBAT's `Metrics` class methods and an explanation of each individual metric.\n",
        "\n",
        "If you don't see a metric or result computation that is core to your work, please submit\n",
        "an [issue](https://github.com/WISDEM/WOMBAT/issues/new) with details on what the metric\n",
        "is, and how it should be computed.\n",
        "\n",
        " - [Setup](#setup): Running a simulation to gather the results\n",
        " - [Common Parameters](#common-parameter-explanations): Explanation of frequently used parameter settings\n",
        " - [Availability](#availability): Time-based and energy-based availability\n",
        " - [Capacity Factor](#capacity-factor): Gross and net capacity factor\n",
        " - [Task Completion Rate](#task-completion-rate): Task completion metrics\n",
        " - [Equipment Costs](#equipment-costs): Cost breakdowns by servicing equipment\n",
        " - [Service Equipment Utilization Rate](#service-equipment-utilization-rate): Utilization of servicing equipment\n",
        " - [Vessel-Crew Hours at Sea](#vessel-crew-hours-at-sea): Number of crew or vessel hours spent at sea\n",
        " - [Number of Tows](#number-of-tows): Number of tows breakdowns\n",
        " - [Labor Costs](#labor-costs): Breakdown of labor costs\n",
        " - [Equipment and Labor Costs](#equipment-and-labor-costs): Combined servicing equipment and labor cost breakdown\n",
        " - [Emissions](#emissions): Emissions of servicing equipment based on activity\n",
        " - [Component Costs](#component-costs): Materials costs\n",
        " - [Fixed Cost Impacts](#fixed-cost-impacts): Total fixed costs\n",
        " - [OpEx](#opex): Project OpEx\n",
        " - [Process Times](#process-times): Timing of various stages of repair and maintenance\n",
        " - [Power Production](#power-production): Potential and actually produced power\n",
        " - [Net Present Value](#net-present-value): Project NPV calculator\n",
        "\n",
        "(setup)=\n",
        "## Setup\n",
        "\n",
        "The simulations from the How To notebook are going to be rerun as it is not recommended to create a Metrics class from scratch due to the\n",
        "large number of inputs that are required and the initialization is provided in the simulation API's run method.\n",
        "\n",
        "To simplify this process, a feature has been added to save the simulation outputs required to generate the Metrics inputs and a method to reload those outputs as inputs."
      ]
    },
    {
      "cell_type": "code",
      "execution_count": 2,
      "id": "194e5f91",
      "metadata": {
        "tags": [
          "output_scroll"
        ]
      },
      "outputs": [],
      "source": [
        "sim = Simulation(\"DINWOODIE\", \"base.yaml\")\n",
        "\n",
        "# Both of these parameters are True by default for convenience\n",
        "sim.run(create_metrics=True, save_metrics_inputs=True)\n",
        "\n",
        "# Load the metrics data\n",
        "fpath = sim.env.metrics_input_fname.parent\n",
        "fname = sim.env.metrics_input_fname.name\n",
        "metrics = Metrics.from_simulation_outputs(fpath, fname)\n",
        "\n",
        "# Delete the log files now that they're loaded in\n",
        "sim.env.cleanup_log_files()\n",
        "\n",
        "# Alternatively, in this case because the simulation was run, we can use the\n",
        "# following for convenience convenience only\n",
        "metrics = sim.metrics"
      ]
    },
    {
      "cell_type": "markdown",
      "id": "874b1871",
      "metadata": {},
      "source": [
        "## Common Parameter Explanations\n",
        "\n",
        "Before diving into each and every metric, and how they can be customized, it is is worth noting some of the most common parameters used throughout, and their meanings to reduce redundancy. The varying output forms are demonstrated in the [availability](#availability) section below.\n",
        "\n",
        "### `frequency`\n",
        "\n",
        "  project\n",
        "  : Computed across the whole simulation, with the resulting `DataFrame` having an empty index.\n",
        "\n",
        "  annual\n",
        "  : Summary of each year in the simulation, with the resulting `DataFrame` having \"year\" as the index.\n",
        "\n",
        "  monthly\n",
        "  : Summary of each month of the year, aggregated across years, with the resulting `DataFrame` having \"month\" as the index.\n",
        "\n",
        "  month-year\n",
        "  : computed on a month-by-year basis, producing the results for every month of the simulation, with the resulting `DataFrame` having \"year\" and \"month\" as the index.\n",
        "\n",
        "### `by`\n",
        "\n",
        "  windfarm\n",
        "  : Aggregated across all turbines, with the resulting `DataFrame` having only \"windfarm\" as a column\n",
        "\n",
        "  turbine\n",
        "  : Computed for each turbine, with the resulting `DataFrame` having a column for each turbine\n",
        "\n",
        "## Availability\n",
        "\n",
        "There are two methods to produce availability, which have their own function calls:\n",
        " - energy: actual power produced divided by potential power produced\n",
        "   - {py:meth}`wombat.core.post_processor.Metrics.production_based_availability`\n",
        " - time: The ratio of all non-zero hours to all hours in the simulation, or the proportion of the simulation where turbines are operating\n",
        "   - {py:meth}`wombat.core.post_processor.Metrics.time_based_availability`\n",
        "\n",
        "Here, we will go through the various input definitions to get time-based availability data as both methods use the same inputs, and provide outputs in the same format.\n",
        "\n",
        "**Inputs**:\n",
        "\n",
        "- `frequency`, as explained [above](#common-parameter-explanations) options: \"project\", \"annual\", \"monthly\", and \"month-year\"\n",
        "- `by`, as explained [above](#common-parameter-explanations) options: \"windfarm\" and \"turbine\"\n",
        "\n",
        "\n",
        "Below is a demonstration of the variations on `frequency` and `by` for `time_based_availability`."
      ]
    },
    {
      "cell_type": "code",
      "execution_count": 3,
      "id": "c64219c0",
      "metadata": {
        "tags": [
          "output_scroll"
        ]
      },
      "outputs": [
        {
          "data": {
            "text/html": [
              "<style type=\"text/css\">\n",
              "</style>\n",
              "<table id=\"T_a123b\" style=\"font-size: 14px; grid-column-count: 6\">\n",
              "  <thead>\n",
              "    <tr>\n",
              "      <th class=\"blank level0\" >&nbsp;</th>\n",
              "      <th id=\"T_a123b_level0_col0\" class=\"col_heading level0 col0\" >windfarm</th>\n",
              "    </tr>\n",
              "  </thead>\n",
              "  <tbody>\n",
              "    <tr>\n",
              "      <th id=\"T_a123b_level0_row0\" class=\"row_heading level0 row0\" >0</th>\n",
              "      <td id=\"T_a123b_row0_col0\" class=\"data row0 col0\" >1.00</td>\n",
              "    </tr>\n",
              "  </tbody>\n",
              "</table>\n"
            ],
            "text/plain": [
              "<pandas.io.formats.style.Styler at 0x1446cf8e0>"
            ]
          },
          "execution_count": 3,
          "metadata": {},
          "output_type": "execute_result"
        }
      ],
      "source": [
        "style(metrics.time_based_availability(frequency=\"project\", by=\"windfarm\"))"
      ]
    },
    {
      "cell_type": "code",
      "execution_count": 4,
      "id": "d6a3bd1c",
      "metadata": {
        "tags": [
          "output_scroll"
        ]
      },
      "outputs": [
        {
          "data": {
            "text/html": [
              "<style type=\"text/css\">\n",
              "</style>\n",
              "<table id=\"T_d4564\" style=\"font-size: 14px; grid-column-count: 6\">\n",
              "  <thead>\n",
              "    <tr>\n",
              "      <th class=\"blank level0\" >&nbsp;</th>\n",
              "      <th id=\"T_d4564_level0_col0\" class=\"col_heading level0 col0\" >windfarm</th>\n",
              "    </tr>\n",
              "  </thead>\n",
              "  <tbody>\n",
              "    <tr>\n",
              "      <th id=\"T_d4564_level0_row0\" class=\"row_heading level0 row0\" >0</th>\n",
              "      <td id=\"T_d4564_row0_col0\" class=\"data row0 col0\" >0.97</td>\n",
              "    </tr>\n",
              "  </tbody>\n",
              "</table>\n"
            ],
            "text/plain": [
              "<pandas.io.formats.style.Styler at 0x142264700>"
            ]
          },
          "execution_count": 4,
          "metadata": {},
          "output_type": "execute_result"
        }
      ],
      "source": [
        "style(metrics.production_based_availability(frequency=\"project\", by=\"windfarm\"))"
      ]
    },
    {
      "cell_type": "markdown",
      "id": "c4df17c8",
      "metadata": {},
      "source": [
        "Note that in the two above examples, that the values are equal. This is due to the fact that the example simulation does not have any operating reduction applied to failures, unless it's a catastrophic failure, so\n",
        "there is be no expected difference."
      ]
    },
    {
      "cell_type": "code",
      "execution_count": 5,
      "id": "e4e3a055",
      "metadata": {
        "tags": [
          "output_scroll"
        ]
      },
      "outputs": [
        {
          "data": {
            "text/html": [
              "<style type=\"text/css\">\n",
              "</style>\n",
              "<table id=\"T_dda4d\" style=\"font-size: 14px; grid-column-count: 6\">\n",
              "  <thead>\n",
              "    <tr>\n",
              "      <th class=\"blank level0\" >&nbsp;</th>\n",
              "      <th id=\"T_dda4d_level0_col0\" class=\"col_heading level0 col0\" >S00T1</th>\n",
              "      <th id=\"T_dda4d_level0_col1\" class=\"col_heading level0 col1\" >S00T2</th>\n",
              "      <th id=\"T_dda4d_level0_col2\" class=\"col_heading level0 col2\" >S00T3</th>\n",
              "      <th id=\"T_dda4d_level0_col3\" class=\"col_heading level0 col3\" >S00T4</th>\n",
              "      <th id=\"T_dda4d_level0_col4\" class=\"col_heading level0 col4\" >S00T5</th>\n",
              "      <th id=\"T_dda4d_level0_col5\" class=\"col_heading level0 col5\" >S00T6</th>\n",
              "      <th id=\"T_dda4d_level0_col6\" class=\"col_heading level0 col6\" >S00T7</th>\n",
              "      <th id=\"T_dda4d_level0_col7\" class=\"col_heading level0 col7\" >S00T8</th>\n",
              "      <th id=\"T_dda4d_level0_col8\" class=\"col_heading level0 col8\" >S00T9</th>\n",
              "      <th id=\"T_dda4d_level0_col9\" class=\"col_heading level0 col9\" >S00T10</th>\n",
              "      <th id=\"T_dda4d_level0_col10\" class=\"col_heading level0 col10\" >S00T11</th>\n",
              "      <th id=\"T_dda4d_level0_col11\" class=\"col_heading level0 col11\" >S00T12</th>\n",
              "      <th id=\"T_dda4d_level0_col12\" class=\"col_heading level0 col12\" >S00T13</th>\n",
              "      <th id=\"T_dda4d_level0_col13\" class=\"col_heading level0 col13\" >S00T14</th>\n",
              "      <th id=\"T_dda4d_level0_col14\" class=\"col_heading level0 col14\" >S00T15</th>\n",
              "      <th id=\"T_dda4d_level0_col15\" class=\"col_heading level0 col15\" >S00T16</th>\n",
              "      <th id=\"T_dda4d_level0_col16\" class=\"col_heading level0 col16\" >S00T17</th>\n",
              "      <th id=\"T_dda4d_level0_col17\" class=\"col_heading level0 col17\" >S00T18</th>\n",
              "      <th id=\"T_dda4d_level0_col18\" class=\"col_heading level0 col18\" >S00T19</th>\n",
              "      <th id=\"T_dda4d_level0_col19\" class=\"col_heading level0 col19\" >S00T20</th>\n",
              "      <th id=\"T_dda4d_level0_col20\" class=\"col_heading level0 col20\" >S00T21</th>\n",
              "      <th id=\"T_dda4d_level0_col21\" class=\"col_heading level0 col21\" >S00T22</th>\n",
              "      <th id=\"T_dda4d_level0_col22\" class=\"col_heading level0 col22\" >S00T23</th>\n",
              "      <th id=\"T_dda4d_level0_col23\" class=\"col_heading level0 col23\" >S00T24</th>\n",
              "      <th id=\"T_dda4d_level0_col24\" class=\"col_heading level0 col24\" >S00T25</th>\n",
              "      <th id=\"T_dda4d_level0_col25\" class=\"col_heading level0 col25\" >S00T26</th>\n",
              "      <th id=\"T_dda4d_level0_col26\" class=\"col_heading level0 col26\" >S00T27</th>\n",
              "      <th id=\"T_dda4d_level0_col27\" class=\"col_heading level0 col27\" >S00T28</th>\n",
              "      <th id=\"T_dda4d_level0_col28\" class=\"col_heading level0 col28\" >S00T29</th>\n",
              "      <th id=\"T_dda4d_level0_col29\" class=\"col_heading level0 col29\" >S00T30</th>\n",
              "      <th id=\"T_dda4d_level0_col30\" class=\"col_heading level0 col30\" >S00T31</th>\n",
              "      <th id=\"T_dda4d_level0_col31\" class=\"col_heading level0 col31\" >S00T32</th>\n",
              "      <th id=\"T_dda4d_level0_col32\" class=\"col_heading level0 col32\" >S00T33</th>\n",
              "      <th id=\"T_dda4d_level0_col33\" class=\"col_heading level0 col33\" >S00T34</th>\n",
              "      <th id=\"T_dda4d_level0_col34\" class=\"col_heading level0 col34\" >S00T35</th>\n",
              "      <th id=\"T_dda4d_level0_col35\" class=\"col_heading level0 col35\" >S00T36</th>\n",
              "      <th id=\"T_dda4d_level0_col36\" class=\"col_heading level0 col36\" >S00T37</th>\n",
              "      <th id=\"T_dda4d_level0_col37\" class=\"col_heading level0 col37\" >S00T38</th>\n",
              "      <th id=\"T_dda4d_level0_col38\" class=\"col_heading level0 col38\" >S00T39</th>\n",
              "      <th id=\"T_dda4d_level0_col39\" class=\"col_heading level0 col39\" >S00T40</th>\n",
              "      <th id=\"T_dda4d_level0_col40\" class=\"col_heading level0 col40\" >S00T41</th>\n",
              "      <th id=\"T_dda4d_level0_col41\" class=\"col_heading level0 col41\" >S00T42</th>\n",
              "      <th id=\"T_dda4d_level0_col42\" class=\"col_heading level0 col42\" >S00T43</th>\n",
              "      <th id=\"T_dda4d_level0_col43\" class=\"col_heading level0 col43\" >S00T44</th>\n",
              "      <th id=\"T_dda4d_level0_col44\" class=\"col_heading level0 col44\" >S00T45</th>\n",
              "      <th id=\"T_dda4d_level0_col45\" class=\"col_heading level0 col45\" >S00T46</th>\n",
              "      <th id=\"T_dda4d_level0_col46\" class=\"col_heading level0 col46\" >S00T47</th>\n",
              "      <th id=\"T_dda4d_level0_col47\" class=\"col_heading level0 col47\" >S00T48</th>\n",
              "      <th id=\"T_dda4d_level0_col48\" class=\"col_heading level0 col48\" >S00T49</th>\n",
              "      <th id=\"T_dda4d_level0_col49\" class=\"col_heading level0 col49\" >S00T50</th>\n",
              "      <th id=\"T_dda4d_level0_col50\" class=\"col_heading level0 col50\" >S00T51</th>\n",
              "      <th id=\"T_dda4d_level0_col51\" class=\"col_heading level0 col51\" >S00T52</th>\n",
              "      <th id=\"T_dda4d_level0_col52\" class=\"col_heading level0 col52\" >S00T53</th>\n",
              "      <th id=\"T_dda4d_level0_col53\" class=\"col_heading level0 col53\" >S00T54</th>\n",
              "      <th id=\"T_dda4d_level0_col54\" class=\"col_heading level0 col54\" >S00T55</th>\n",
              "      <th id=\"T_dda4d_level0_col55\" class=\"col_heading level0 col55\" >S00T56</th>\n",
              "      <th id=\"T_dda4d_level0_col56\" class=\"col_heading level0 col56\" >S00T57</th>\n",
              "      <th id=\"T_dda4d_level0_col57\" class=\"col_heading level0 col57\" >S00T58</th>\n",
              "      <th id=\"T_dda4d_level0_col58\" class=\"col_heading level0 col58\" >S00T59</th>\n",
              "      <th id=\"T_dda4d_level0_col59\" class=\"col_heading level0 col59\" >S00T60</th>\n",
              "      <th id=\"T_dda4d_level0_col60\" class=\"col_heading level0 col60\" >S00T61</th>\n",
              "      <th id=\"T_dda4d_level0_col61\" class=\"col_heading level0 col61\" >S00T62</th>\n",
              "      <th id=\"T_dda4d_level0_col62\" class=\"col_heading level0 col62\" >S00T63</th>\n",
              "      <th id=\"T_dda4d_level0_col63\" class=\"col_heading level0 col63\" >S00T64</th>\n",
              "      <th id=\"T_dda4d_level0_col64\" class=\"col_heading level0 col64\" >S00T65</th>\n",
              "      <th id=\"T_dda4d_level0_col65\" class=\"col_heading level0 col65\" >S00T66</th>\n",
              "      <th id=\"T_dda4d_level0_col66\" class=\"col_heading level0 col66\" >S00T67</th>\n",
              "      <th id=\"T_dda4d_level0_col67\" class=\"col_heading level0 col67\" >S00T68</th>\n",
              "      <th id=\"T_dda4d_level0_col68\" class=\"col_heading level0 col68\" >S00T69</th>\n",
              "      <th id=\"T_dda4d_level0_col69\" class=\"col_heading level0 col69\" >S00T70</th>\n",
              "      <th id=\"T_dda4d_level0_col70\" class=\"col_heading level0 col70\" >S00T71</th>\n",
              "      <th id=\"T_dda4d_level0_col71\" class=\"col_heading level0 col71\" >S00T72</th>\n",
              "      <th id=\"T_dda4d_level0_col72\" class=\"col_heading level0 col72\" >S00T73</th>\n",
              "      <th id=\"T_dda4d_level0_col73\" class=\"col_heading level0 col73\" >S00T74</th>\n",
              "      <th id=\"T_dda4d_level0_col74\" class=\"col_heading level0 col74\" >S00T75</th>\n",
              "      <th id=\"T_dda4d_level0_col75\" class=\"col_heading level0 col75\" >S00T76</th>\n",
              "      <th id=\"T_dda4d_level0_col76\" class=\"col_heading level0 col76\" >S00T77</th>\n",
              "      <th id=\"T_dda4d_level0_col77\" class=\"col_heading level0 col77\" >S00T78</th>\n",
              "      <th id=\"T_dda4d_level0_col78\" class=\"col_heading level0 col78\" >S00T79</th>\n",
              "      <th id=\"T_dda4d_level0_col79\" class=\"col_heading level0 col79\" >S00T80</th>\n",
              "    </tr>\n",
              "  </thead>\n",
              "  <tbody>\n",
              "    <tr>\n",
              "      <th id=\"T_dda4d_level0_row0\" class=\"row_heading level0 row0\" >0</th>\n",
              "      <td id=\"T_dda4d_row0_col0\" class=\"data row0 col0\" >0.98</td>\n",
              "      <td id=\"T_dda4d_row0_col1\" class=\"data row0 col1\" >0.96</td>\n",
              "      <td id=\"T_dda4d_row0_col2\" class=\"data row0 col2\" >0.98</td>\n",
              "      <td id=\"T_dda4d_row0_col3\" class=\"data row0 col3\" >0.97</td>\n",
              "      <td id=\"T_dda4d_row0_col4\" class=\"data row0 col4\" >0.97</td>\n",
              "      <td id=\"T_dda4d_row0_col5\" class=\"data row0 col5\" >0.97</td>\n",
              "      <td id=\"T_dda4d_row0_col6\" class=\"data row0 col6\" >0.95</td>\n",
              "      <td id=\"T_dda4d_row0_col7\" class=\"data row0 col7\" >0.97</td>\n",
              "      <td id=\"T_dda4d_row0_col8\" class=\"data row0 col8\" >0.95</td>\n",
              "      <td id=\"T_dda4d_row0_col9\" class=\"data row0 col9\" >0.98</td>\n",
              "      <td id=\"T_dda4d_row0_col10\" class=\"data row0 col10\" >0.95</td>\n",
              "      <td id=\"T_dda4d_row0_col11\" class=\"data row0 col11\" >0.95</td>\n",
              "      <td id=\"T_dda4d_row0_col12\" class=\"data row0 col12\" >0.98</td>\n",
              "      <td id=\"T_dda4d_row0_col13\" class=\"data row0 col13\" >0.95</td>\n",
              "      <td id=\"T_dda4d_row0_col14\" class=\"data row0 col14\" >0.96</td>\n",
              "      <td id=\"T_dda4d_row0_col15\" class=\"data row0 col15\" >0.98</td>\n",
              "      <td id=\"T_dda4d_row0_col16\" class=\"data row0 col16\" >0.96</td>\n",
              "      <td id=\"T_dda4d_row0_col17\" class=\"data row0 col17\" >0.93</td>\n",
              "      <td id=\"T_dda4d_row0_col18\" class=\"data row0 col18\" >0.95</td>\n",
              "      <td id=\"T_dda4d_row0_col19\" class=\"data row0 col19\" >0.95</td>\n",
              "      <td id=\"T_dda4d_row0_col20\" class=\"data row0 col20\" >0.97</td>\n",
              "      <td id=\"T_dda4d_row0_col21\" class=\"data row0 col21\" >0.97</td>\n",
              "      <td id=\"T_dda4d_row0_col22\" class=\"data row0 col22\" >0.96</td>\n",
              "      <td id=\"T_dda4d_row0_col23\" class=\"data row0 col23\" >0.97</td>\n",
              "      <td id=\"T_dda4d_row0_col24\" class=\"data row0 col24\" >0.95</td>\n",
              "      <td id=\"T_dda4d_row0_col25\" class=\"data row0 col25\" >0.98</td>\n",
              "      <td id=\"T_dda4d_row0_col26\" class=\"data row0 col26\" >0.94</td>\n",
              "      <td id=\"T_dda4d_row0_col27\" class=\"data row0 col27\" >0.97</td>\n",
              "      <td id=\"T_dda4d_row0_col28\" class=\"data row0 col28\" >0.95</td>\n",
              "      <td id=\"T_dda4d_row0_col29\" class=\"data row0 col29\" >0.96</td>\n",
              "      <td id=\"T_dda4d_row0_col30\" class=\"data row0 col30\" >0.97</td>\n",
              "      <td id=\"T_dda4d_row0_col31\" class=\"data row0 col31\" >0.97</td>\n",
              "      <td id=\"T_dda4d_row0_col32\" class=\"data row0 col32\" >0.97</td>\n",
              "      <td id=\"T_dda4d_row0_col33\" class=\"data row0 col33\" >0.95</td>\n",
              "      <td id=\"T_dda4d_row0_col34\" class=\"data row0 col34\" >0.97</td>\n",
              "      <td id=\"T_dda4d_row0_col35\" class=\"data row0 col35\" >0.97</td>\n",
              "      <td id=\"T_dda4d_row0_col36\" class=\"data row0 col36\" >0.98</td>\n",
              "      <td id=\"T_dda4d_row0_col37\" class=\"data row0 col37\" >0.96</td>\n",
              "      <td id=\"T_dda4d_row0_col38\" class=\"data row0 col38\" >0.97</td>\n",
              "      <td id=\"T_dda4d_row0_col39\" class=\"data row0 col39\" >0.98</td>\n",
              "      <td id=\"T_dda4d_row0_col40\" class=\"data row0 col40\" >0.96</td>\n",
              "      <td id=\"T_dda4d_row0_col41\" class=\"data row0 col41\" >0.97</td>\n",
              "      <td id=\"T_dda4d_row0_col42\" class=\"data row0 col42\" >0.97</td>\n",
              "      <td id=\"T_dda4d_row0_col43\" class=\"data row0 col43\" >0.96</td>\n",
              "      <td id=\"T_dda4d_row0_col44\" class=\"data row0 col44\" >0.97</td>\n",
              "      <td id=\"T_dda4d_row0_col45\" class=\"data row0 col45\" >0.98</td>\n",
              "      <td id=\"T_dda4d_row0_col46\" class=\"data row0 col46\" >0.97</td>\n",
              "      <td id=\"T_dda4d_row0_col47\" class=\"data row0 col47\" >0.97</td>\n",
              "      <td id=\"T_dda4d_row0_col48\" class=\"data row0 col48\" >0.97</td>\n",
              "      <td id=\"T_dda4d_row0_col49\" class=\"data row0 col49\" >0.98</td>\n",
              "      <td id=\"T_dda4d_row0_col50\" class=\"data row0 col50\" >0.97</td>\n",
              "      <td id=\"T_dda4d_row0_col51\" class=\"data row0 col51\" >0.91</td>\n",
              "      <td id=\"T_dda4d_row0_col52\" class=\"data row0 col52\" >0.97</td>\n",
              "      <td id=\"T_dda4d_row0_col53\" class=\"data row0 col53\" >0.97</td>\n",
              "      <td id=\"T_dda4d_row0_col54\" class=\"data row0 col54\" >0.97</td>\n",
              "      <td id=\"T_dda4d_row0_col55\" class=\"data row0 col55\" >0.97</td>\n",
              "      <td id=\"T_dda4d_row0_col56\" class=\"data row0 col56\" >0.96</td>\n",
              "      <td id=\"T_dda4d_row0_col57\" class=\"data row0 col57\" >0.98</td>\n",
              "      <td id=\"T_dda4d_row0_col58\" class=\"data row0 col58\" >0.96</td>\n",
              "      <td id=\"T_dda4d_row0_col59\" class=\"data row0 col59\" >0.94</td>\n",
              "      <td id=\"T_dda4d_row0_col60\" class=\"data row0 col60\" >0.97</td>\n",
              "      <td id=\"T_dda4d_row0_col61\" class=\"data row0 col61\" >0.96</td>\n",
              "      <td id=\"T_dda4d_row0_col62\" class=\"data row0 col62\" >0.97</td>\n",
              "      <td id=\"T_dda4d_row0_col63\" class=\"data row0 col63\" >0.96</td>\n",
              "      <td id=\"T_dda4d_row0_col64\" class=\"data row0 col64\" >0.94</td>\n",
              "      <td id=\"T_dda4d_row0_col65\" class=\"data row0 col65\" >0.98</td>\n",
              "      <td id=\"T_dda4d_row0_col66\" class=\"data row0 col66\" >0.98</td>\n",
              "      <td id=\"T_dda4d_row0_col67\" class=\"data row0 col67\" >0.97</td>\n",
              "      <td id=\"T_dda4d_row0_col68\" class=\"data row0 col68\" >0.96</td>\n",
              "      <td id=\"T_dda4d_row0_col69\" class=\"data row0 col69\" >0.97</td>\n",
              "      <td id=\"T_dda4d_row0_col70\" class=\"data row0 col70\" >0.95</td>\n",
              "      <td id=\"T_dda4d_row0_col71\" class=\"data row0 col71\" >0.97</td>\n",
              "      <td id=\"T_dda4d_row0_col72\" class=\"data row0 col72\" >0.97</td>\n",
              "      <td id=\"T_dda4d_row0_col73\" class=\"data row0 col73\" >0.98</td>\n",
              "      <td id=\"T_dda4d_row0_col74\" class=\"data row0 col74\" >0.97</td>\n",
              "      <td id=\"T_dda4d_row0_col75\" class=\"data row0 col75\" >0.98</td>\n",
              "      <td id=\"T_dda4d_row0_col76\" class=\"data row0 col76\" >0.96</td>\n",
              "      <td id=\"T_dda4d_row0_col77\" class=\"data row0 col77\" >0.97</td>\n",
              "      <td id=\"T_dda4d_row0_col78\" class=\"data row0 col78\" >0.98</td>\n",
              "      <td id=\"T_dda4d_row0_col79\" class=\"data row0 col79\" >0.98</td>\n",
              "    </tr>\n",
              "  </tbody>\n",
              "</table>\n"
            ],
            "text/plain": [
              "<pandas.io.formats.style.Styler at 0x142247d60>"
            ]
          },
          "execution_count": 5,
          "metadata": {},
          "output_type": "execute_result"
        }
      ],
      "source": [
        "# Demonstrate the by turbine granularity\n",
        "style(metrics.time_based_availability(frequency=\"project\", by=\"turbine\"))"
      ]
    },
    {
      "cell_type": "code",
      "execution_count": 6,
      "id": "63349b71",
      "metadata": {
        "tags": [
          "output_scroll"
        ]
      },
      "outputs": [
        {
          "data": {
            "text/html": [
              "<style type=\"text/css\">\n",
              "</style>\n",
              "<table id=\"T_9f1a0\" style=\"font-size: 14px; grid-column-count: 6\">\n",
              "  <thead>\n",
              "    <tr>\n",
              "      <th class=\"blank level0\" >&nbsp;</th>\n",
              "      <th id=\"T_9f1a0_level0_col0\" class=\"col_heading level0 col0\" >windfarm</th>\n",
              "    </tr>\n",
              "    <tr>\n",
              "      <th class=\"index_name level0\" >year</th>\n",
              "      <th class=\"blank col0\" >&nbsp;</th>\n",
              "    </tr>\n",
              "  </thead>\n",
              "  <tbody>\n",
              "    <tr>\n",
              "      <th id=\"T_9f1a0_level0_row0\" class=\"row_heading level0 row0\" >2003</th>\n",
              "      <td id=\"T_9f1a0_row0_col0\" class=\"data row0 col0\" >1.00</td>\n",
              "    </tr>\n",
              "    <tr>\n",
              "      <th id=\"T_9f1a0_level0_row1\" class=\"row_heading level0 row1\" >2004</th>\n",
              "      <td id=\"T_9f1a0_row1_col0\" class=\"data row1 col0\" >1.00</td>\n",
              "    </tr>\n",
              "    <tr>\n",
              "      <th id=\"T_9f1a0_level0_row2\" class=\"row_heading level0 row2\" >2005</th>\n",
              "      <td id=\"T_9f1a0_row2_col0\" class=\"data row2 col0\" >1.00</td>\n",
              "    </tr>\n",
              "    <tr>\n",
              "      <th id=\"T_9f1a0_level0_row3\" class=\"row_heading level0 row3\" >2006</th>\n",
              "      <td id=\"T_9f1a0_row3_col0\" class=\"data row3 col0\" >1.00</td>\n",
              "    </tr>\n",
              "    <tr>\n",
              "      <th id=\"T_9f1a0_level0_row4\" class=\"row_heading level0 row4\" >2007</th>\n",
              "      <td id=\"T_9f1a0_row4_col0\" class=\"data row4 col0\" >1.00</td>\n",
              "    </tr>\n",
              "    <tr>\n",
              "      <th id=\"T_9f1a0_level0_row5\" class=\"row_heading level0 row5\" >2008</th>\n",
              "      <td id=\"T_9f1a0_row5_col0\" class=\"data row5 col0\" >1.00</td>\n",
              "    </tr>\n",
              "    <tr>\n",
              "      <th id=\"T_9f1a0_level0_row6\" class=\"row_heading level0 row6\" >2009</th>\n",
              "      <td id=\"T_9f1a0_row6_col0\" class=\"data row6 col0\" >1.00</td>\n",
              "    </tr>\n",
              "    <tr>\n",
              "      <th id=\"T_9f1a0_level0_row7\" class=\"row_heading level0 row7\" >2010</th>\n",
              "      <td id=\"T_9f1a0_row7_col0\" class=\"data row7 col0\" >1.00</td>\n",
              "    </tr>\n",
              "    <tr>\n",
              "      <th id=\"T_9f1a0_level0_row8\" class=\"row_heading level0 row8\" >2011</th>\n",
              "      <td id=\"T_9f1a0_row8_col0\" class=\"data row8 col0\" >1.00</td>\n",
              "    </tr>\n",
              "    <tr>\n",
              "      <th id=\"T_9f1a0_level0_row9\" class=\"row_heading level0 row9\" >2012</th>\n",
              "      <td id=\"T_9f1a0_row9_col0\" class=\"data row9 col0\" >1.00</td>\n",
              "    </tr>\n",
              "  </tbody>\n",
              "</table>\n"
            ],
            "text/plain": [
              "<pandas.io.formats.style.Styler at 0x1556b4940>"
            ]
          },
          "execution_count": 6,
          "metadata": {},
          "output_type": "execute_result"
        }
      ],
      "source": [
        "# Demonstrate the annualized outputs\n",
        "style(metrics.time_based_availability(frequency=\"annual\", by=\"windfarm\"))"
      ]
    },
    {
      "cell_type": "code",
      "execution_count": 7,
      "id": "341c88e7",
      "metadata": {
        "tags": [
          "output_scroll"
        ]
      },
      "outputs": [
        {
          "data": {
            "text/html": [
              "<style type=\"text/css\">\n",
              "</style>\n",
              "<table id=\"T_b30a9\" style=\"font-size: 14px; grid-column-count: 6\">\n",
              "  <thead>\n",
              "    <tr>\n",
              "      <th class=\"blank level0\" >&nbsp;</th>\n",
              "      <th id=\"T_b30a9_level0_col0\" class=\"col_heading level0 col0\" >windfarm</th>\n",
              "    </tr>\n",
              "    <tr>\n",
              "      <th class=\"index_name level0\" >month</th>\n",
              "      <th class=\"blank col0\" >&nbsp;</th>\n",
              "    </tr>\n",
              "  </thead>\n",
              "  <tbody>\n",
              "    <tr>\n",
              "      <th id=\"T_b30a9_level0_row0\" class=\"row_heading level0 row0\" >1</th>\n",
              "      <td id=\"T_b30a9_row0_col0\" class=\"data row0 col0\" >1.00</td>\n",
              "    </tr>\n",
              "    <tr>\n",
              "      <th id=\"T_b30a9_level0_row1\" class=\"row_heading level0 row1\" >2</th>\n",
              "      <td id=\"T_b30a9_row1_col0\" class=\"data row1 col0\" >1.00</td>\n",
              "    </tr>\n",
              "    <tr>\n",
              "      <th id=\"T_b30a9_level0_row2\" class=\"row_heading level0 row2\" >3</th>\n",
              "      <td id=\"T_b30a9_row2_col0\" class=\"data row2 col0\" >1.00</td>\n",
              "    </tr>\n",
              "    <tr>\n",
              "      <th id=\"T_b30a9_level0_row3\" class=\"row_heading level0 row3\" >4</th>\n",
              "      <td id=\"T_b30a9_row3_col0\" class=\"data row3 col0\" >1.00</td>\n",
              "    </tr>\n",
              "    <tr>\n",
              "      <th id=\"T_b30a9_level0_row4\" class=\"row_heading level0 row4\" >5</th>\n",
              "      <td id=\"T_b30a9_row4_col0\" class=\"data row4 col0\" >1.00</td>\n",
              "    </tr>\n",
              "    <tr>\n",
              "      <th id=\"T_b30a9_level0_row5\" class=\"row_heading level0 row5\" >6</th>\n",
              "      <td id=\"T_b30a9_row5_col0\" class=\"data row5 col0\" >1.00</td>\n",
              "    </tr>\n",
              "    <tr>\n",
              "      <th id=\"T_b30a9_level0_row6\" class=\"row_heading level0 row6\" >7</th>\n",
              "      <td id=\"T_b30a9_row6_col0\" class=\"data row6 col0\" >1.00</td>\n",
              "    </tr>\n",
              "    <tr>\n",
              "      <th id=\"T_b30a9_level0_row7\" class=\"row_heading level0 row7\" >8</th>\n",
              "      <td id=\"T_b30a9_row7_col0\" class=\"data row7 col0\" >1.00</td>\n",
              "    </tr>\n",
              "    <tr>\n",
              "      <th id=\"T_b30a9_level0_row8\" class=\"row_heading level0 row8\" >9</th>\n",
              "      <td id=\"T_b30a9_row8_col0\" class=\"data row8 col0\" >1.00</td>\n",
              "    </tr>\n",
              "    <tr>\n",
              "      <th id=\"T_b30a9_level0_row9\" class=\"row_heading level0 row9\" >10</th>\n",
              "      <td id=\"T_b30a9_row9_col0\" class=\"data row9 col0\" >1.00</td>\n",
              "    </tr>\n",
              "    <tr>\n",
              "      <th id=\"T_b30a9_level0_row10\" class=\"row_heading level0 row10\" >11</th>\n",
              "      <td id=\"T_b30a9_row10_col0\" class=\"data row10 col0\" >1.00</td>\n",
              "    </tr>\n",
              "    <tr>\n",
              "      <th id=\"T_b30a9_level0_row11\" class=\"row_heading level0 row11\" >12</th>\n",
              "      <td id=\"T_b30a9_row11_col0\" class=\"data row11 col0\" >1.00</td>\n",
              "    </tr>\n",
              "  </tbody>\n",
              "</table>\n"
            ],
            "text/plain": [
              "<pandas.io.formats.style.Styler at 0x145819030>"
            ]
          },
          "execution_count": 7,
          "metadata": {},
          "output_type": "execute_result"
        }
      ],
      "source": [
        "# Demonstrate the month aggregations\n",
        "style(metrics.time_based_availability(frequency=\"monthly\", by=\"windfarm\"))"
      ]
    },
    {
      "cell_type": "code",
      "execution_count": 8,
      "id": "9f584ceb",
      "metadata": {
        "tags": [
          "output_scroll"
        ]
      },
      "outputs": [
        {
          "data": {
            "text/html": [
              "<style type=\"text/css\">\n",
              "</style>\n",
              "<table id=\"T_19023\" style=\"font-size: 14px; grid-column-count: 6\">\n",
              "  <thead>\n",
              "    <tr>\n",
              "      <th class=\"blank\" >&nbsp;</th>\n",
              "      <th class=\"blank level0\" >&nbsp;</th>\n",
              "      <th id=\"T_19023_level0_col0\" class=\"col_heading level0 col0\" >windfarm</th>\n",
              "    </tr>\n",
              "    <tr>\n",
              "      <th class=\"index_name level0\" >year</th>\n",
              "      <th class=\"index_name level1\" >month</th>\n",
              "      <th class=\"blank col0\" >&nbsp;</th>\n",
              "    </tr>\n",
              "  </thead>\n",
              "  <tbody>\n",
              "    <tr>\n",
              "      <th id=\"T_19023_level0_row0\" class=\"row_heading level0 row0\" rowspan=\"12\">2003</th>\n",
              "      <th id=\"T_19023_level1_row0\" class=\"row_heading level1 row0\" >1</th>\n",
              "      <td id=\"T_19023_row0_col0\" class=\"data row0 col0\" >1.00</td>\n",
              "    </tr>\n",
              "    <tr>\n",
              "      <th id=\"T_19023_level1_row1\" class=\"row_heading level1 row1\" >2</th>\n",
              "      <td id=\"T_19023_row1_col0\" class=\"data row1 col0\" >1.00</td>\n",
              "    </tr>\n",
              "    <tr>\n",
              "      <th id=\"T_19023_level1_row2\" class=\"row_heading level1 row2\" >3</th>\n",
              "      <td id=\"T_19023_row2_col0\" class=\"data row2 col0\" >1.00</td>\n",
              "    </tr>\n",
              "    <tr>\n",
              "      <th id=\"T_19023_level1_row3\" class=\"row_heading level1 row3\" >4</th>\n",
              "      <td id=\"T_19023_row3_col0\" class=\"data row3 col0\" >1.00</td>\n",
              "    </tr>\n",
              "    <tr>\n",
              "      <th id=\"T_19023_level1_row4\" class=\"row_heading level1 row4\" >5</th>\n",
              "      <td id=\"T_19023_row4_col0\" class=\"data row4 col0\" >1.00</td>\n",
              "    </tr>\n",
              "    <tr>\n",
              "      <th id=\"T_19023_level1_row5\" class=\"row_heading level1 row5\" >6</th>\n",
              "      <td id=\"T_19023_row5_col0\" class=\"data row5 col0\" >1.00</td>\n",
              "    </tr>\n",
              "    <tr>\n",
              "      <th id=\"T_19023_level1_row6\" class=\"row_heading level1 row6\" >7</th>\n",
              "      <td id=\"T_19023_row6_col0\" class=\"data row6 col0\" >1.00</td>\n",
              "    </tr>\n",
              "    <tr>\n",
              "      <th id=\"T_19023_level1_row7\" class=\"row_heading level1 row7\" >8</th>\n",
              "      <td id=\"T_19023_row7_col0\" class=\"data row7 col0\" >1.00</td>\n",
              "    </tr>\n",
              "    <tr>\n",
              "      <th id=\"T_19023_level1_row8\" class=\"row_heading level1 row8\" >9</th>\n",
              "      <td id=\"T_19023_row8_col0\" class=\"data row8 col0\" >1.00</td>\n",
              "    </tr>\n",
              "    <tr>\n",
              "      <th id=\"T_19023_level1_row9\" class=\"row_heading level1 row9\" >10</th>\n",
              "      <td id=\"T_19023_row9_col0\" class=\"data row9 col0\" >1.00</td>\n",
              "    </tr>\n",
              "    <tr>\n",
              "      <th id=\"T_19023_level1_row10\" class=\"row_heading level1 row10\" >11</th>\n",
              "      <td id=\"T_19023_row10_col0\" class=\"data row10 col0\" >1.00</td>\n",
              "    </tr>\n",
              "    <tr>\n",
              "      <th id=\"T_19023_level1_row11\" class=\"row_heading level1 row11\" >12</th>\n",
              "      <td id=\"T_19023_row11_col0\" class=\"data row11 col0\" >1.00</td>\n",
              "    </tr>\n",
              "    <tr>\n",
              "      <th id=\"T_19023_level0_row12\" class=\"row_heading level0 row12\" rowspan=\"12\">2004</th>\n",
              "      <th id=\"T_19023_level1_row12\" class=\"row_heading level1 row12\" >1</th>\n",
              "      <td id=\"T_19023_row12_col0\" class=\"data row12 col0\" >1.00</td>\n",
              "    </tr>\n",
              "    <tr>\n",
              "      <th id=\"T_19023_level1_row13\" class=\"row_heading level1 row13\" >2</th>\n",
              "      <td id=\"T_19023_row13_col0\" class=\"data row13 col0\" >1.00</td>\n",
              "    </tr>\n",
              "    <tr>\n",
              "      <th id=\"T_19023_level1_row14\" class=\"row_heading level1 row14\" >3</th>\n",
              "      <td id=\"T_19023_row14_col0\" class=\"data row14 col0\" >1.00</td>\n",
              "    </tr>\n",
              "    <tr>\n",
              "      <th id=\"T_19023_level1_row15\" class=\"row_heading level1 row15\" >4</th>\n",
              "      <td id=\"T_19023_row15_col0\" class=\"data row15 col0\" >1.00</td>\n",
              "    </tr>\n",
              "    <tr>\n",
              "      <th id=\"T_19023_level1_row16\" class=\"row_heading level1 row16\" >5</th>\n",
              "      <td id=\"T_19023_row16_col0\" class=\"data row16 col0\" >1.00</td>\n",
              "    </tr>\n",
              "    <tr>\n",
              "      <th id=\"T_19023_level1_row17\" class=\"row_heading level1 row17\" >6</th>\n",
              "      <td id=\"T_19023_row17_col0\" class=\"data row17 col0\" >1.00</td>\n",
              "    </tr>\n",
              "    <tr>\n",
              "      <th id=\"T_19023_level1_row18\" class=\"row_heading level1 row18\" >7</th>\n",
              "      <td id=\"T_19023_row18_col0\" class=\"data row18 col0\" >1.00</td>\n",
              "    </tr>\n",
              "    <tr>\n",
              "      <th id=\"T_19023_level1_row19\" class=\"row_heading level1 row19\" >8</th>\n",
              "      <td id=\"T_19023_row19_col0\" class=\"data row19 col0\" >1.00</td>\n",
              "    </tr>\n",
              "    <tr>\n",
              "      <th id=\"T_19023_level1_row20\" class=\"row_heading level1 row20\" >9</th>\n",
              "      <td id=\"T_19023_row20_col0\" class=\"data row20 col0\" >1.00</td>\n",
              "    </tr>\n",
              "    <tr>\n",
              "      <th id=\"T_19023_level1_row21\" class=\"row_heading level1 row21\" >10</th>\n",
              "      <td id=\"T_19023_row21_col0\" class=\"data row21 col0\" >1.00</td>\n",
              "    </tr>\n",
              "    <tr>\n",
              "      <th id=\"T_19023_level1_row22\" class=\"row_heading level1 row22\" >11</th>\n",
              "      <td id=\"T_19023_row22_col0\" class=\"data row22 col0\" >1.00</td>\n",
              "    </tr>\n",
              "    <tr>\n",
              "      <th id=\"T_19023_level1_row23\" class=\"row_heading level1 row23\" >12</th>\n",
              "      <td id=\"T_19023_row23_col0\" class=\"data row23 col0\" >1.00</td>\n",
              "    </tr>\n",
              "    <tr>\n",
              "      <th id=\"T_19023_level0_row24\" class=\"row_heading level0 row24\" rowspan=\"12\">2005</th>\n",
              "      <th id=\"T_19023_level1_row24\" class=\"row_heading level1 row24\" >1</th>\n",
              "      <td id=\"T_19023_row24_col0\" class=\"data row24 col0\" >1.00</td>\n",
              "    </tr>\n",
              "    <tr>\n",
              "      <th id=\"T_19023_level1_row25\" class=\"row_heading level1 row25\" >2</th>\n",
              "      <td id=\"T_19023_row25_col0\" class=\"data row25 col0\" >1.00</td>\n",
              "    </tr>\n",
              "    <tr>\n",
              "      <th id=\"T_19023_level1_row26\" class=\"row_heading level1 row26\" >3</th>\n",
              "      <td id=\"T_19023_row26_col0\" class=\"data row26 col0\" >1.00</td>\n",
              "    </tr>\n",
              "    <tr>\n",
              "      <th id=\"T_19023_level1_row27\" class=\"row_heading level1 row27\" >4</th>\n",
              "      <td id=\"T_19023_row27_col0\" class=\"data row27 col0\" >1.00</td>\n",
              "    </tr>\n",
              "    <tr>\n",
              "      <th id=\"T_19023_level1_row28\" class=\"row_heading level1 row28\" >5</th>\n",
              "      <td id=\"T_19023_row28_col0\" class=\"data row28 col0\" >1.00</td>\n",
              "    </tr>\n",
              "    <tr>\n",
              "      <th id=\"T_19023_level1_row29\" class=\"row_heading level1 row29\" >6</th>\n",
              "      <td id=\"T_19023_row29_col0\" class=\"data row29 col0\" >1.00</td>\n",
              "    </tr>\n",
              "    <tr>\n",
              "      <th id=\"T_19023_level1_row30\" class=\"row_heading level1 row30\" >7</th>\n",
              "      <td id=\"T_19023_row30_col0\" class=\"data row30 col0\" >1.00</td>\n",
              "    </tr>\n",
              "    <tr>\n",
              "      <th id=\"T_19023_level1_row31\" class=\"row_heading level1 row31\" >8</th>\n",
              "      <td id=\"T_19023_row31_col0\" class=\"data row31 col0\" >1.00</td>\n",
              "    </tr>\n",
              "    <tr>\n",
              "      <th id=\"T_19023_level1_row32\" class=\"row_heading level1 row32\" >9</th>\n",
              "      <td id=\"T_19023_row32_col0\" class=\"data row32 col0\" >1.00</td>\n",
              "    </tr>\n",
              "    <tr>\n",
              "      <th id=\"T_19023_level1_row33\" class=\"row_heading level1 row33\" >10</th>\n",
              "      <td id=\"T_19023_row33_col0\" class=\"data row33 col0\" >1.00</td>\n",
              "    </tr>\n",
              "    <tr>\n",
              "      <th id=\"T_19023_level1_row34\" class=\"row_heading level1 row34\" >11</th>\n",
              "      <td id=\"T_19023_row34_col0\" class=\"data row34 col0\" >1.00</td>\n",
              "    </tr>\n",
              "    <tr>\n",
              "      <th id=\"T_19023_level1_row35\" class=\"row_heading level1 row35\" >12</th>\n",
              "      <td id=\"T_19023_row35_col0\" class=\"data row35 col0\" >1.00</td>\n",
              "    </tr>\n",
              "    <tr>\n",
              "      <th id=\"T_19023_level0_row36\" class=\"row_heading level0 row36\" rowspan=\"12\">2006</th>\n",
              "      <th id=\"T_19023_level1_row36\" class=\"row_heading level1 row36\" >1</th>\n",
              "      <td id=\"T_19023_row36_col0\" class=\"data row36 col0\" >1.00</td>\n",
              "    </tr>\n",
              "    <tr>\n",
              "      <th id=\"T_19023_level1_row37\" class=\"row_heading level1 row37\" >2</th>\n",
              "      <td id=\"T_19023_row37_col0\" class=\"data row37 col0\" >1.00</td>\n",
              "    </tr>\n",
              "    <tr>\n",
              "      <th id=\"T_19023_level1_row38\" class=\"row_heading level1 row38\" >3</th>\n",
              "      <td id=\"T_19023_row38_col0\" class=\"data row38 col0\" >1.00</td>\n",
              "    </tr>\n",
              "    <tr>\n",
              "      <th id=\"T_19023_level1_row39\" class=\"row_heading level1 row39\" >4</th>\n",
              "      <td id=\"T_19023_row39_col0\" class=\"data row39 col0\" >1.00</td>\n",
              "    </tr>\n",
              "    <tr>\n",
              "      <th id=\"T_19023_level1_row40\" class=\"row_heading level1 row40\" >5</th>\n",
              "      <td id=\"T_19023_row40_col0\" class=\"data row40 col0\" >1.00</td>\n",
              "    </tr>\n",
              "    <tr>\n",
              "      <th id=\"T_19023_level1_row41\" class=\"row_heading level1 row41\" >6</th>\n",
              "      <td id=\"T_19023_row41_col0\" class=\"data row41 col0\" >1.00</td>\n",
              "    </tr>\n",
              "    <tr>\n",
              "      <th id=\"T_19023_level1_row42\" class=\"row_heading level1 row42\" >7</th>\n",
              "      <td id=\"T_19023_row42_col0\" class=\"data row42 col0\" >1.00</td>\n",
              "    </tr>\n",
              "    <tr>\n",
              "      <th id=\"T_19023_level1_row43\" class=\"row_heading level1 row43\" >8</th>\n",
              "      <td id=\"T_19023_row43_col0\" class=\"data row43 col0\" >1.00</td>\n",
              "    </tr>\n",
              "    <tr>\n",
              "      <th id=\"T_19023_level1_row44\" class=\"row_heading level1 row44\" >9</th>\n",
              "      <td id=\"T_19023_row44_col0\" class=\"data row44 col0\" >1.00</td>\n",
              "    </tr>\n",
              "    <tr>\n",
              "      <th id=\"T_19023_level1_row45\" class=\"row_heading level1 row45\" >10</th>\n",
              "      <td id=\"T_19023_row45_col0\" class=\"data row45 col0\" >1.00</td>\n",
              "    </tr>\n",
              "    <tr>\n",
              "      <th id=\"T_19023_level1_row46\" class=\"row_heading level1 row46\" >11</th>\n",
              "      <td id=\"T_19023_row46_col0\" class=\"data row46 col0\" >1.00</td>\n",
              "    </tr>\n",
              "    <tr>\n",
              "      <th id=\"T_19023_level1_row47\" class=\"row_heading level1 row47\" >12</th>\n",
              "      <td id=\"T_19023_row47_col0\" class=\"data row47 col0\" >1.00</td>\n",
              "    </tr>\n",
              "    <tr>\n",
              "      <th id=\"T_19023_level0_row48\" class=\"row_heading level0 row48\" rowspan=\"12\">2007</th>\n",
              "      <th id=\"T_19023_level1_row48\" class=\"row_heading level1 row48\" >1</th>\n",
              "      <td id=\"T_19023_row48_col0\" class=\"data row48 col0\" >1.00</td>\n",
              "    </tr>\n",
              "    <tr>\n",
              "      <th id=\"T_19023_level1_row49\" class=\"row_heading level1 row49\" >2</th>\n",
              "      <td id=\"T_19023_row49_col0\" class=\"data row49 col0\" >1.00</td>\n",
              "    </tr>\n",
              "    <tr>\n",
              "      <th id=\"T_19023_level1_row50\" class=\"row_heading level1 row50\" >3</th>\n",
              "      <td id=\"T_19023_row50_col0\" class=\"data row50 col0\" >1.00</td>\n",
              "    </tr>\n",
              "    <tr>\n",
              "      <th id=\"T_19023_level1_row51\" class=\"row_heading level1 row51\" >4</th>\n",
              "      <td id=\"T_19023_row51_col0\" class=\"data row51 col0\" >1.00</td>\n",
              "    </tr>\n",
              "    <tr>\n",
              "      <th id=\"T_19023_level1_row52\" class=\"row_heading level1 row52\" >5</th>\n",
              "      <td id=\"T_19023_row52_col0\" class=\"data row52 col0\" >1.00</td>\n",
              "    </tr>\n",
              "    <tr>\n",
              "      <th id=\"T_19023_level1_row53\" class=\"row_heading level1 row53\" >6</th>\n",
              "      <td id=\"T_19023_row53_col0\" class=\"data row53 col0\" >1.00</td>\n",
              "    </tr>\n",
              "    <tr>\n",
              "      <th id=\"T_19023_level1_row54\" class=\"row_heading level1 row54\" >7</th>\n",
              "      <td id=\"T_19023_row54_col0\" class=\"data row54 col0\" >1.00</td>\n",
              "    </tr>\n",
              "    <tr>\n",
              "      <th id=\"T_19023_level1_row55\" class=\"row_heading level1 row55\" >8</th>\n",
              "      <td id=\"T_19023_row55_col0\" class=\"data row55 col0\" >1.00</td>\n",
              "    </tr>\n",
              "    <tr>\n",
              "      <th id=\"T_19023_level1_row56\" class=\"row_heading level1 row56\" >9</th>\n",
              "      <td id=\"T_19023_row56_col0\" class=\"data row56 col0\" >1.00</td>\n",
              "    </tr>\n",
              "    <tr>\n",
              "      <th id=\"T_19023_level1_row57\" class=\"row_heading level1 row57\" >10</th>\n",
              "      <td id=\"T_19023_row57_col0\" class=\"data row57 col0\" >1.00</td>\n",
              "    </tr>\n",
              "    <tr>\n",
              "      <th id=\"T_19023_level1_row58\" class=\"row_heading level1 row58\" >11</th>\n",
              "      <td id=\"T_19023_row58_col0\" class=\"data row58 col0\" >1.00</td>\n",
              "    </tr>\n",
              "    <tr>\n",
              "      <th id=\"T_19023_level1_row59\" class=\"row_heading level1 row59\" >12</th>\n",
              "      <td id=\"T_19023_row59_col0\" class=\"data row59 col0\" >1.00</td>\n",
              "    </tr>\n",
              "    <tr>\n",
              "      <th id=\"T_19023_level0_row60\" class=\"row_heading level0 row60\" rowspan=\"12\">2008</th>\n",
              "      <th id=\"T_19023_level1_row60\" class=\"row_heading level1 row60\" >1</th>\n",
              "      <td id=\"T_19023_row60_col0\" class=\"data row60 col0\" >1.00</td>\n",
              "    </tr>\n",
              "    <tr>\n",
              "      <th id=\"T_19023_level1_row61\" class=\"row_heading level1 row61\" >2</th>\n",
              "      <td id=\"T_19023_row61_col0\" class=\"data row61 col0\" >1.00</td>\n",
              "    </tr>\n",
              "    <tr>\n",
              "      <th id=\"T_19023_level1_row62\" class=\"row_heading level1 row62\" >3</th>\n",
              "      <td id=\"T_19023_row62_col0\" class=\"data row62 col0\" >1.00</td>\n",
              "    </tr>\n",
              "    <tr>\n",
              "      <th id=\"T_19023_level1_row63\" class=\"row_heading level1 row63\" >4</th>\n",
              "      <td id=\"T_19023_row63_col0\" class=\"data row63 col0\" >1.00</td>\n",
              "    </tr>\n",
              "    <tr>\n",
              "      <th id=\"T_19023_level1_row64\" class=\"row_heading level1 row64\" >5</th>\n",
              "      <td id=\"T_19023_row64_col0\" class=\"data row64 col0\" >1.00</td>\n",
              "    </tr>\n",
              "    <tr>\n",
              "      <th id=\"T_19023_level1_row65\" class=\"row_heading level1 row65\" >6</th>\n",
              "      <td id=\"T_19023_row65_col0\" class=\"data row65 col0\" >1.00</td>\n",
              "    </tr>\n",
              "    <tr>\n",
              "      <th id=\"T_19023_level1_row66\" class=\"row_heading level1 row66\" >7</th>\n",
              "      <td id=\"T_19023_row66_col0\" class=\"data row66 col0\" >1.00</td>\n",
              "    </tr>\n",
              "    <tr>\n",
              "      <th id=\"T_19023_level1_row67\" class=\"row_heading level1 row67\" >8</th>\n",
              "      <td id=\"T_19023_row67_col0\" class=\"data row67 col0\" >1.00</td>\n",
              "    </tr>\n",
              "    <tr>\n",
              "      <th id=\"T_19023_level1_row68\" class=\"row_heading level1 row68\" >9</th>\n",
              "      <td id=\"T_19023_row68_col0\" class=\"data row68 col0\" >1.00</td>\n",
              "    </tr>\n",
              "    <tr>\n",
              "      <th id=\"T_19023_level1_row69\" class=\"row_heading level1 row69\" >10</th>\n",
              "      <td id=\"T_19023_row69_col0\" class=\"data row69 col0\" >1.00</td>\n",
              "    </tr>\n",
              "    <tr>\n",
              "      <th id=\"T_19023_level1_row70\" class=\"row_heading level1 row70\" >11</th>\n",
              "      <td id=\"T_19023_row70_col0\" class=\"data row70 col0\" >1.00</td>\n",
              "    </tr>\n",
              "    <tr>\n",
              "      <th id=\"T_19023_level1_row71\" class=\"row_heading level1 row71\" >12</th>\n",
              "      <td id=\"T_19023_row71_col0\" class=\"data row71 col0\" >1.00</td>\n",
              "    </tr>\n",
              "    <tr>\n",
              "      <th id=\"T_19023_level0_row72\" class=\"row_heading level0 row72\" rowspan=\"12\">2009</th>\n",
              "      <th id=\"T_19023_level1_row72\" class=\"row_heading level1 row72\" >1</th>\n",
              "      <td id=\"T_19023_row72_col0\" class=\"data row72 col0\" >1.00</td>\n",
              "    </tr>\n",
              "    <tr>\n",
              "      <th id=\"T_19023_level1_row73\" class=\"row_heading level1 row73\" >2</th>\n",
              "      <td id=\"T_19023_row73_col0\" class=\"data row73 col0\" >1.00</td>\n",
              "    </tr>\n",
              "    <tr>\n",
              "      <th id=\"T_19023_level1_row74\" class=\"row_heading level1 row74\" >3</th>\n",
              "      <td id=\"T_19023_row74_col0\" class=\"data row74 col0\" >1.00</td>\n",
              "    </tr>\n",
              "    <tr>\n",
              "      <th id=\"T_19023_level1_row75\" class=\"row_heading level1 row75\" >4</th>\n",
              "      <td id=\"T_19023_row75_col0\" class=\"data row75 col0\" >1.00</td>\n",
              "    </tr>\n",
              "    <tr>\n",
              "      <th id=\"T_19023_level1_row76\" class=\"row_heading level1 row76\" >5</th>\n",
              "      <td id=\"T_19023_row76_col0\" class=\"data row76 col0\" >1.00</td>\n",
              "    </tr>\n",
              "    <tr>\n",
              "      <th id=\"T_19023_level1_row77\" class=\"row_heading level1 row77\" >6</th>\n",
              "      <td id=\"T_19023_row77_col0\" class=\"data row77 col0\" >1.00</td>\n",
              "    </tr>\n",
              "    <tr>\n",
              "      <th id=\"T_19023_level1_row78\" class=\"row_heading level1 row78\" >7</th>\n",
              "      <td id=\"T_19023_row78_col0\" class=\"data row78 col0\" >1.00</td>\n",
              "    </tr>\n",
              "    <tr>\n",
              "      <th id=\"T_19023_level1_row79\" class=\"row_heading level1 row79\" >8</th>\n",
              "      <td id=\"T_19023_row79_col0\" class=\"data row79 col0\" >1.00</td>\n",
              "    </tr>\n",
              "    <tr>\n",
              "      <th id=\"T_19023_level1_row80\" class=\"row_heading level1 row80\" >9</th>\n",
              "      <td id=\"T_19023_row80_col0\" class=\"data row80 col0\" >1.00</td>\n",
              "    </tr>\n",
              "    <tr>\n",
              "      <th id=\"T_19023_level1_row81\" class=\"row_heading level1 row81\" >10</th>\n",
              "      <td id=\"T_19023_row81_col0\" class=\"data row81 col0\" >1.00</td>\n",
              "    </tr>\n",
              "    <tr>\n",
              "      <th id=\"T_19023_level1_row82\" class=\"row_heading level1 row82\" >11</th>\n",
              "      <td id=\"T_19023_row82_col0\" class=\"data row82 col0\" >1.00</td>\n",
              "    </tr>\n",
              "    <tr>\n",
              "      <th id=\"T_19023_level1_row83\" class=\"row_heading level1 row83\" >12</th>\n",
              "      <td id=\"T_19023_row83_col0\" class=\"data row83 col0\" >1.00</td>\n",
              "    </tr>\n",
              "    <tr>\n",
              "      <th id=\"T_19023_level0_row84\" class=\"row_heading level0 row84\" rowspan=\"12\">2010</th>\n",
              "      <th id=\"T_19023_level1_row84\" class=\"row_heading level1 row84\" >1</th>\n",
              "      <td id=\"T_19023_row84_col0\" class=\"data row84 col0\" >1.00</td>\n",
              "    </tr>\n",
              "    <tr>\n",
              "      <th id=\"T_19023_level1_row85\" class=\"row_heading level1 row85\" >2</th>\n",
              "      <td id=\"T_19023_row85_col0\" class=\"data row85 col0\" >1.00</td>\n",
              "    </tr>\n",
              "    <tr>\n",
              "      <th id=\"T_19023_level1_row86\" class=\"row_heading level1 row86\" >3</th>\n",
              "      <td id=\"T_19023_row86_col0\" class=\"data row86 col0\" >1.00</td>\n",
              "    </tr>\n",
              "    <tr>\n",
              "      <th id=\"T_19023_level1_row87\" class=\"row_heading level1 row87\" >4</th>\n",
              "      <td id=\"T_19023_row87_col0\" class=\"data row87 col0\" >1.00</td>\n",
              "    </tr>\n",
              "    <tr>\n",
              "      <th id=\"T_19023_level1_row88\" class=\"row_heading level1 row88\" >5</th>\n",
              "      <td id=\"T_19023_row88_col0\" class=\"data row88 col0\" >1.00</td>\n",
              "    </tr>\n",
              "    <tr>\n",
              "      <th id=\"T_19023_level1_row89\" class=\"row_heading level1 row89\" >6</th>\n",
              "      <td id=\"T_19023_row89_col0\" class=\"data row89 col0\" >1.00</td>\n",
              "    </tr>\n",
              "    <tr>\n",
              "      <th id=\"T_19023_level1_row90\" class=\"row_heading level1 row90\" >7</th>\n",
              "      <td id=\"T_19023_row90_col0\" class=\"data row90 col0\" >1.00</td>\n",
              "    </tr>\n",
              "    <tr>\n",
              "      <th id=\"T_19023_level1_row91\" class=\"row_heading level1 row91\" >8</th>\n",
              "      <td id=\"T_19023_row91_col0\" class=\"data row91 col0\" >1.00</td>\n",
              "    </tr>\n",
              "    <tr>\n",
              "      <th id=\"T_19023_level1_row92\" class=\"row_heading level1 row92\" >9</th>\n",
              "      <td id=\"T_19023_row92_col0\" class=\"data row92 col0\" >1.00</td>\n",
              "    </tr>\n",
              "    <tr>\n",
              "      <th id=\"T_19023_level1_row93\" class=\"row_heading level1 row93\" >10</th>\n",
              "      <td id=\"T_19023_row93_col0\" class=\"data row93 col0\" >1.00</td>\n",
              "    </tr>\n",
              "    <tr>\n",
              "      <th id=\"T_19023_level1_row94\" class=\"row_heading level1 row94\" >11</th>\n",
              "      <td id=\"T_19023_row94_col0\" class=\"data row94 col0\" >1.00</td>\n",
              "    </tr>\n",
              "    <tr>\n",
              "      <th id=\"T_19023_level1_row95\" class=\"row_heading level1 row95\" >12</th>\n",
              "      <td id=\"T_19023_row95_col0\" class=\"data row95 col0\" >1.00</td>\n",
              "    </tr>\n",
              "    <tr>\n",
              "      <th id=\"T_19023_level0_row96\" class=\"row_heading level0 row96\" rowspan=\"12\">2011</th>\n",
              "      <th id=\"T_19023_level1_row96\" class=\"row_heading level1 row96\" >1</th>\n",
              "      <td id=\"T_19023_row96_col0\" class=\"data row96 col0\" >1.00</td>\n",
              "    </tr>\n",
              "    <tr>\n",
              "      <th id=\"T_19023_level1_row97\" class=\"row_heading level1 row97\" >2</th>\n",
              "      <td id=\"T_19023_row97_col0\" class=\"data row97 col0\" >1.00</td>\n",
              "    </tr>\n",
              "    <tr>\n",
              "      <th id=\"T_19023_level1_row98\" class=\"row_heading level1 row98\" >3</th>\n",
              "      <td id=\"T_19023_row98_col0\" class=\"data row98 col0\" >1.00</td>\n",
              "    </tr>\n",
              "    <tr>\n",
              "      <th id=\"T_19023_level1_row99\" class=\"row_heading level1 row99\" >4</th>\n",
              "      <td id=\"T_19023_row99_col0\" class=\"data row99 col0\" >1.00</td>\n",
              "    </tr>\n",
              "    <tr>\n",
              "      <th id=\"T_19023_level1_row100\" class=\"row_heading level1 row100\" >5</th>\n",
              "      <td id=\"T_19023_row100_col0\" class=\"data row100 col0\" >1.00</td>\n",
              "    </tr>\n",
              "    <tr>\n",
              "      <th id=\"T_19023_level1_row101\" class=\"row_heading level1 row101\" >6</th>\n",
              "      <td id=\"T_19023_row101_col0\" class=\"data row101 col0\" >1.00</td>\n",
              "    </tr>\n",
              "    <tr>\n",
              "      <th id=\"T_19023_level1_row102\" class=\"row_heading level1 row102\" >7</th>\n",
              "      <td id=\"T_19023_row102_col0\" class=\"data row102 col0\" >1.00</td>\n",
              "    </tr>\n",
              "    <tr>\n",
              "      <th id=\"T_19023_level1_row103\" class=\"row_heading level1 row103\" >8</th>\n",
              "      <td id=\"T_19023_row103_col0\" class=\"data row103 col0\" >1.00</td>\n",
              "    </tr>\n",
              "    <tr>\n",
              "      <th id=\"T_19023_level1_row104\" class=\"row_heading level1 row104\" >9</th>\n",
              "      <td id=\"T_19023_row104_col0\" class=\"data row104 col0\" >1.00</td>\n",
              "    </tr>\n",
              "    <tr>\n",
              "      <th id=\"T_19023_level1_row105\" class=\"row_heading level1 row105\" >10</th>\n",
              "      <td id=\"T_19023_row105_col0\" class=\"data row105 col0\" >1.00</td>\n",
              "    </tr>\n",
              "    <tr>\n",
              "      <th id=\"T_19023_level1_row106\" class=\"row_heading level1 row106\" >11</th>\n",
              "      <td id=\"T_19023_row106_col0\" class=\"data row106 col0\" >1.00</td>\n",
              "    </tr>\n",
              "    <tr>\n",
              "      <th id=\"T_19023_level1_row107\" class=\"row_heading level1 row107\" >12</th>\n",
              "      <td id=\"T_19023_row107_col0\" class=\"data row107 col0\" >1.00</td>\n",
              "    </tr>\n",
              "    <tr>\n",
              "      <th id=\"T_19023_level0_row108\" class=\"row_heading level0 row108\" rowspan=\"12\">2012</th>\n",
              "      <th id=\"T_19023_level1_row108\" class=\"row_heading level1 row108\" >1</th>\n",
              "      <td id=\"T_19023_row108_col0\" class=\"data row108 col0\" >1.00</td>\n",
              "    </tr>\n",
              "    <tr>\n",
              "      <th id=\"T_19023_level1_row109\" class=\"row_heading level1 row109\" >2</th>\n",
              "      <td id=\"T_19023_row109_col0\" class=\"data row109 col0\" >1.00</td>\n",
              "    </tr>\n",
              "    <tr>\n",
              "      <th id=\"T_19023_level1_row110\" class=\"row_heading level1 row110\" >3</th>\n",
              "      <td id=\"T_19023_row110_col0\" class=\"data row110 col0\" >1.00</td>\n",
              "    </tr>\n",
              "    <tr>\n",
              "      <th id=\"T_19023_level1_row111\" class=\"row_heading level1 row111\" >4</th>\n",
              "      <td id=\"T_19023_row111_col0\" class=\"data row111 col0\" >1.00</td>\n",
              "    </tr>\n",
              "    <tr>\n",
              "      <th id=\"T_19023_level1_row112\" class=\"row_heading level1 row112\" >5</th>\n",
              "      <td id=\"T_19023_row112_col0\" class=\"data row112 col0\" >1.00</td>\n",
              "    </tr>\n",
              "    <tr>\n",
              "      <th id=\"T_19023_level1_row113\" class=\"row_heading level1 row113\" >6</th>\n",
              "      <td id=\"T_19023_row113_col0\" class=\"data row113 col0\" >1.00</td>\n",
              "    </tr>\n",
              "    <tr>\n",
              "      <th id=\"T_19023_level1_row114\" class=\"row_heading level1 row114\" >7</th>\n",
              "      <td id=\"T_19023_row114_col0\" class=\"data row114 col0\" >1.00</td>\n",
              "    </tr>\n",
              "    <tr>\n",
              "      <th id=\"T_19023_level1_row115\" class=\"row_heading level1 row115\" >8</th>\n",
              "      <td id=\"T_19023_row115_col0\" class=\"data row115 col0\" >1.00</td>\n",
              "    </tr>\n",
              "    <tr>\n",
              "      <th id=\"T_19023_level1_row116\" class=\"row_heading level1 row116\" >9</th>\n",
              "      <td id=\"T_19023_row116_col0\" class=\"data row116 col0\" >1.00</td>\n",
              "    </tr>\n",
              "    <tr>\n",
              "      <th id=\"T_19023_level1_row117\" class=\"row_heading level1 row117\" >10</th>\n",
              "      <td id=\"T_19023_row117_col0\" class=\"data row117 col0\" >1.00</td>\n",
              "    </tr>\n",
              "    <tr>\n",
              "      <th id=\"T_19023_level1_row118\" class=\"row_heading level1 row118\" >11</th>\n",
              "      <td id=\"T_19023_row118_col0\" class=\"data row118 col0\" >1.00</td>\n",
              "    </tr>\n",
              "    <tr>\n",
              "      <th id=\"T_19023_level1_row119\" class=\"row_heading level1 row119\" >12</th>\n",
              "      <td id=\"T_19023_row119_col0\" class=\"data row119 col0\" >1.00</td>\n",
              "    </tr>\n",
              "  </tbody>\n",
              "</table>\n"
            ],
            "text/plain": [
              "<pandas.io.formats.style.Styler at 0x145a16260>"
            ]
          },
          "execution_count": 8,
          "metadata": {},
          "output_type": "execute_result"
        }
      ],
      "source": [
        "# Demonstrate the granular monthly reporting\n",
        "style(metrics.time_based_availability(frequency=\"month-year\", by=\"windfarm\"))"
      ]
    },
    {
      "cell_type": "markdown",
      "id": "8805379a",
      "metadata": {},
      "source": [
        "## Capacity Factor\n",
        "\n",
        "The capacity factor is the ratio of actual (net) or potential (gross) energy production divided by the project's capacity. For further documentation, see the API docs here: {py:meth}`wombat.core.post_processor.Metrics.capacity_factor`.\n",
        "\n",
        "**Inputs**:\n",
        "\n",
        "- `which`\n",
        "  - \"net\": net capcity factor, actual production divided by the plant capacity\n",
        "  - \"gross\": gross capacity factor, potential production divided by the plant capacity\n",
        "- `frequency`, as explained [above](#common-parameter-explanations), options: \"project\", \"annual\", \"monthly\", and \"month-year\"\n",
        "- `by`, as explained [above](#common-parameter-explanations), options: \"windfarm\" and \"turbine\"\n",
        "\n",
        "**Example Usage**:"
      ]
    },
    {
      "cell_type": "code",
      "execution_count": 9,
      "id": "95fc2d46",
      "metadata": {
        "tags": [
          "output_scroll"
        ]
      },
      "outputs": [
        {
          "name": "stdout",
          "output_type": "stream",
          "text": [
            "  Net capacity factor: 46.02%\n",
            "Gross capacity factor: 47.67%\n"
          ]
        }
      ],
      "source": [
        "net_cf = metrics.capacity_factor(which=\"net\", frequency=\"project\", by=\"windfarm\").values[0][0]\n",
        "gross_cf = metrics.capacity_factor(which=\"gross\", frequency=\"project\", by=\"windfarm\").values[0][0]\n",
        "print(f\"  Net capacity factor: {net_cf:.2%}\")\n",
        "print(f\"Gross capacity factor: {gross_cf:.2%}\")"
      ]
    },
    {
      "cell_type": "markdown",
      "id": "fbe01c9c",
      "metadata": {},
      "source": [
        "## Task Completion Rate\n",
        "\n",
        "The task completion rate is the ratio of tasks completed aggregated to the desired `frequency`. It is possible to have a >100% completion rate if all maintenance and failure requests submitted in a time period were completed in addition to those that went unfinished in prior time periods. For further documentation, see the API docs here: {py:meth}`wombat.core.post_processor.Metrics.task_completion_rate`.\n",
        "\n",
        "**Inputs**:\n",
        "\n",
        "- `which`\n",
        "  - \"scheduled\": scheduled maintenance only (classified as maintenace tasks in inputs)\n",
        "  - \"unscheduled\": unscheduled maintenance only (classified as failure events in inputs)\n",
        "  - \"both\": Combined completion rate for all tasks\n",
        "- `frequency`, as explained [above](#common-parameter-explanations), options: \"project\", \"annual\", \"monthly\", and \"month-year\"\n",
        "\n",
        "**Example Usage**:"
      ]
    },
    {
      "cell_type": "code",
      "execution_count": 10,
      "id": "cf3f795c",
      "metadata": {
        "tags": [
          "output_scroll"
        ]
      },
      "outputs": [
        {
          "name": "stdout",
          "output_type": "stream",
          "text": [
            "  Scheduled Task Completion Rate: 70.82%\n",
            "Unscheduled Task Completion Rate: 99.80%\n",
            "    Overall Task Completion Rate: 97.60%\n"
          ]
        }
      ],
      "source": [
        "scheduled = metrics.task_completion_rate(which=\"scheduled\", frequency=\"project\").values[0][0]\n",
        "unscheduled = metrics.task_completion_rate(which=\"unscheduled\", frequency=\"project\").values[0][0]\n",
        "combined = metrics.task_completion_rate(which=\"both\", frequency=\"project\").values[0][0]\n",
        "print(f\"  Scheduled Task Completion Rate: {scheduled:.2%}\")\n",
        "print(f\"Unscheduled Task Completion Rate: {unscheduled:.2%}\")\n",
        "print(f\"    Overall Task Completion Rate: {combined:.2%}\")"
      ]
    },
    {
      "cell_type": "markdown",
      "id": "b8a7f884",
      "metadata": {},
      "source": [
        "## Equipment Costs\n",
        "\n",
        "Sum of the costs associated with a simulation's servicing equipment, which excludes materials, downtime, etc. For further documentation, see the API docs here: {py:meth}`wombat.core.post_processor.Metrics.equipment_costs`.\n",
        "\n",
        "**Inputs**:\n",
        "\n",
        "- `frequency`, as explained [above](#common-parameter-explanations), options: \"project\", \"annual\", \"monthly\", and \"month-year\"\n",
        "- `by_equipment`\n",
        "  - `True`: Aggregates all equipment into a single cost\n",
        "  - `False`: Computes for each unit of servicing equipment\n",
        "\n",
        "**Example Usage**:"
      ]
    },
    {
      "cell_type": "code",
      "execution_count": 11,
      "id": "d4af8408",
      "metadata": {
        "tags": [
          "output_scroll"
        ]
      },
      "outputs": [
        {
          "data": {
            "text/html": [
              "<style type=\"text/css\">\n",
              "</style>\n",
              "<table id=\"T_8b2e7\" style=\"font-size: 14px; grid-column-count: 6\">\n",
              "  <thead>\n",
              "    <tr>\n",
              "      <th class=\"blank level0\" >&nbsp;</th>\n",
              "      <th id=\"T_8b2e7_level0_col0\" class=\"col_heading level0 col0\" >equipment_cost</th>\n",
              "    </tr>\n",
              "  </thead>\n",
              "  <tbody>\n",
              "    <tr>\n",
              "      <th id=\"T_8b2e7_level0_row0\" class=\"row_heading level0 row0\" >0</th>\n",
              "      <td id=\"T_8b2e7_row0_col0\" class=\"data row0 col0\" >124,530,775.68</td>\n",
              "    </tr>\n",
              "  </tbody>\n",
              "</table>\n"
            ],
            "text/plain": [
              "<pandas.io.formats.style.Styler at 0x145a178b0>"
            ]
          },
          "execution_count": 11,
          "metadata": {},
          "output_type": "execute_result"
        }
      ],
      "source": [
        "# Project total at the whole wind farm level\n",
        "style(metrics.equipment_costs(frequency=\"project\", by_equipment=False))"
      ]
    },
    {
      "cell_type": "code",
      "execution_count": 12,
      "id": "248c3deb",
      "metadata": {
        "tags": [
          "output_scroll"
        ]
      },
      "outputs": [
        {
          "name": "stderr",
          "output_type": "stream",
          "text": [
            "/Users/rhammond/miniforge3/envs/wombat/lib/python3.10/site-packages/wombat/core/post_processor.py:740: FutureWarning: <class 'pandas.core.arrays.string_.StringArray'>._reduce will require a `keepdims` parameter in the future\n",
            "  costs = costs.fillna(costs.max(axis=0)).T\n"
          ]
        },
        {
          "data": {
            "text/html": [
              "<style type=\"text/css\">\n",
              "</style>\n",
              "<table id=\"T_77562\" style=\"font-size: 14px; grid-column-count: 6\">\n",
              "  <thead>\n",
              "    <tr>\n",
              "      <th class=\"blank level0\" >&nbsp;</th>\n",
              "      <th id=\"T_77562_level0_col0\" class=\"col_heading level0 col0\" >Crew Transfer Vessel 1</th>\n",
              "      <th id=\"T_77562_level0_col1\" class=\"col_heading level0 col1\" >Crew Transfer Vessel 2</th>\n",
              "      <th id=\"T_77562_level0_col2\" class=\"col_heading level0 col2\" >Crew Transfer Vessel 3</th>\n",
              "      <th id=\"T_77562_level0_col3\" class=\"col_heading level0 col3\" >Field Support Vessel</th>\n",
              "      <th id=\"T_77562_level0_col4\" class=\"col_heading level0 col4\" >Heavy Lift Vessel</th>\n",
              "    </tr>\n",
              "  </thead>\n",
              "  <tbody>\n",
              "    <tr>\n",
              "      <th id=\"T_77562_level0_row0\" class=\"row_heading level0 row0\" >0</th>\n",
              "      <td id=\"T_77562_row0_col0\" class=\"data row0 col0\" >6,390,492.32</td>\n",
              "      <td id=\"T_77562_row0_col1\" class=\"data row0 col1\" >6,390,507.47</td>\n",
              "      <td id=\"T_77562_row0_col2\" class=\"data row0 col2\" >6,390,493.98</td>\n",
              "      <td id=\"T_77562_row0_col3\" class=\"data row0 col3\" >2,983,866.98</td>\n",
              "      <td id=\"T_77562_row0_col4\" class=\"data row0 col4\" >102,375,414.93</td>\n",
              "    </tr>\n",
              "  </tbody>\n",
              "</table>\n"
            ],
            "text/plain": [
              "<pandas.io.formats.style.Styler at 0x1558a21d0>"
            ]
          },
          "execution_count": 12,
          "metadata": {},
          "output_type": "execute_result"
        }
      ],
      "source": [
        "# Project totals at servicing equipment level\n",
        "style(metrics.equipment_costs(frequency=\"project\", by_equipment=True))"
      ]
    },
    {
      "cell_type": "markdown",
      "id": "0a7bddae",
      "metadata": {},
      "source": [
        "## Service Equipment Utilization Rate\n",
        "\n",
        "Ratio of days when the servicing equipment is in use (not delayed for a whole day due to either weather or lack of repairs to be completed) to the number of days it's present in the simulation. For further documentation, see the API docs here: {py:meth}`wombat.core.post_processor.Metrics.service_equipment_utilization`.\n",
        "\n",
        "**Inputs**:\n",
        "\n",
        "- `frequency`, as explained [above](#common-parameter-explanations), options: \"project\" and \"annual\"\n",
        "\n",
        "**Example Usage**:"
      ]
    },
    {
      "cell_type": "code",
      "execution_count": 13,
      "id": "b70af0a3",
      "metadata": {
        "tags": [
          "output_scroll"
        ]
      },
      "outputs": [
        {
          "data": {
            "text/html": [
              "<style type=\"text/css\">\n",
              "</style>\n",
              "<table id=\"T_da6e6\" style=\"font-size: 14px; grid-column-count: 6\">\n",
              "  <thead>\n",
              "    <tr>\n",
              "      <th class=\"blank level0\" >&nbsp;</th>\n",
              "      <th id=\"T_da6e6_level0_col0\" class=\"col_heading level0 col0\" >Crew Transfer Vessel 1</th>\n",
              "      <th id=\"T_da6e6_level0_col1\" class=\"col_heading level0 col1\" >Crew Transfer Vessel 2</th>\n",
              "      <th id=\"T_da6e6_level0_col2\" class=\"col_heading level0 col2\" >Crew Transfer Vessel 3</th>\n",
              "      <th id=\"T_da6e6_level0_col3\" class=\"col_heading level0 col3\" >Field Support Vessel</th>\n",
              "      <th id=\"T_da6e6_level0_col4\" class=\"col_heading level0 col4\" >Heavy Lift Vessel</th>\n",
              "    </tr>\n",
              "  </thead>\n",
              "  <tbody>\n",
              "    <tr>\n",
              "      <th id=\"T_da6e6_level0_row0\" class=\"row_heading level0 row0\" >0</th>\n",
              "      <td id=\"T_da6e6_row0_col0\" class=\"data row0 col0\" >1.00</td>\n",
              "      <td id=\"T_da6e6_row0_col1\" class=\"data row0 col1\" >1.00</td>\n",
              "      <td id=\"T_da6e6_row0_col2\" class=\"data row0 col2\" >1.00</td>\n",
              "      <td id=\"T_da6e6_row0_col3\" class=\"data row0 col3\" >0.93</td>\n",
              "      <td id=\"T_da6e6_row0_col4\" class=\"data row0 col4\" >0.93</td>\n",
              "    </tr>\n",
              "  </tbody>\n",
              "</table>\n"
            ],
            "text/plain": [
              "<pandas.io.formats.style.Styler at 0x1556b7130>"
            ]
          },
          "execution_count": 13,
          "metadata": {},
          "output_type": "execute_result"
        }
      ],
      "source": [
        "# Project totals\n",
        "style(metrics.service_equipment_utilization(frequency=\"project\"))"
      ]
    },
    {
      "cell_type": "markdown",
      "id": "f5942a74",
      "metadata": {},
      "source": [
        "## Vessel-Crew Hours at Sea\n",
        "\n",
        "The number of vessel hours or crew hours at sea for offshore wind power plant simulations. For further documentation, see the API docs here: {py:meth}`wombat.core.post_processor.Metrics.vessel_crew_hours_at_sea`.\n",
        "\n",
        "**Inputs**:\n",
        "\n",
        "- `frequency`, as explained [above](#common-parameter-explanations), options: \"project\", \"annual\", \"monthly\", and \"month-year\"\n",
        "- `by_equipment`\n",
        "  - `True`: Aggregates all equipment into a single cost\n",
        "  - `False`: Computes for each unit of servicing equipment\n",
        "- `vessel_crew_assumption`: A dictionary of vessel names (`ServiceEquipment.settings.name`, but also found at `Metrics.service_equipment_names`) and the number of crew onboard at any given time. The application of this assumption transforms the results from vessel hours at sea to crew hours at sea.\n",
        "\n",
        "**Example Usage**:"
      ]
    },
    {
      "cell_type": "code",
      "execution_count": 14,
      "id": "9daf7915",
      "metadata": {
        "tags": [
          "output_scroll"
        ]
      },
      "outputs": [
        {
          "data": {
            "text/html": [
              "<style type=\"text/css\">\n",
              "</style>\n",
              "<table id=\"T_6d208\" style=\"font-size: 14px; grid-column-count: 6\">\n",
              "  <thead>\n",
              "    <tr>\n",
              "      <th class=\"blank level0\" >&nbsp;</th>\n",
              "      <th id=\"T_6d208_level0_col0\" class=\"col_heading level0 col0\" >Total Crew Hours at Sea</th>\n",
              "    </tr>\n",
              "  </thead>\n",
              "  <tbody>\n",
              "    <tr>\n",
              "      <th id=\"T_6d208_level0_row0\" class=\"row_heading level0 row0\" >0</th>\n",
              "      <td id=\"T_6d208_row0_col0\" class=\"data row0 col0\" >165,998.29</td>\n",
              "    </tr>\n",
              "  </tbody>\n",
              "</table>\n"
            ],
            "text/plain": [
              "<pandas.io.formats.style.Styler at 0x1558a3370>"
            ]
          },
          "execution_count": 14,
          "metadata": {},
          "output_type": "execute_result"
        }
      ],
      "source": [
        "# Project total, not broken out by vessel\n",
        "style(metrics.vessel_crew_hours_at_sea(frequency=\"project\", by_equipment=False))"
      ]
    },
    {
      "cell_type": "code",
      "execution_count": 15,
      "id": "a12f9676",
      "metadata": {
        "tags": [
          "output_scroll"
        ]
      },
      "outputs": [
        {
          "data": {
            "text/html": [
              "<style type=\"text/css\">\n",
              "</style>\n",
              "<table id=\"T_cfe2d\" style=\"font-size: 14px; grid-column-count: 6\">\n",
              "  <thead>\n",
              "    <tr>\n",
              "      <th class=\"blank level0\" >&nbsp;</th>\n",
              "      <th id=\"T_cfe2d_level0_col0\" class=\"col_heading level0 col0\" >Total Crew Hours at Sea</th>\n",
              "      <th id=\"T_cfe2d_level0_col1\" class=\"col_heading level0 col1\" >Crew Transfer Vessel 1</th>\n",
              "      <th id=\"T_cfe2d_level0_col2\" class=\"col_heading level0 col2\" >Crew Transfer Vessel 2</th>\n",
              "      <th id=\"T_cfe2d_level0_col3\" class=\"col_heading level0 col3\" >Crew Transfer Vessel 3</th>\n",
              "      <th id=\"T_cfe2d_level0_col4\" class=\"col_heading level0 col4\" >Heavy Lift Vessel</th>\n",
              "      <th id=\"T_cfe2d_level0_col5\" class=\"col_heading level0 col5\" >Field Support Vessel</th>\n",
              "    </tr>\n",
              "    <tr>\n",
              "      <th class=\"index_name level0\" >year</th>\n",
              "      <th class=\"blank col0\" >&nbsp;</th>\n",
              "      <th class=\"blank col1\" >&nbsp;</th>\n",
              "      <th class=\"blank col2\" >&nbsp;</th>\n",
              "      <th class=\"blank col3\" >&nbsp;</th>\n",
              "      <th class=\"blank col4\" >&nbsp;</th>\n",
              "      <th class=\"blank col5\" >&nbsp;</th>\n",
              "    </tr>\n",
              "  </thead>\n",
              "  <tbody>\n",
              "    <tr>\n",
              "      <th id=\"T_cfe2d_level0_row0\" class=\"row_heading level0 row0\" >2003</th>\n",
              "      <td id=\"T_cfe2d_row0_col0\" class=\"data row0 col0\" >8,347.21</td>\n",
              "      <td id=\"T_cfe2d_row0_col1\" class=\"data row0 col1\" >2,016.74</td>\n",
              "      <td id=\"T_cfe2d_row0_col2\" class=\"data row0 col2\" >2,025.48</td>\n",
              "      <td id=\"T_cfe2d_row0_col3\" class=\"data row0 col3\" >1,901.49</td>\n",
              "      <td id=\"T_cfe2d_row0_col4\" class=\"data row0 col4\" >1,754.50</td>\n",
              "      <td id=\"T_cfe2d_row0_col5\" class=\"data row0 col5\" >649.00</td>\n",
              "    </tr>\n",
              "    <tr>\n",
              "      <th id=\"T_cfe2d_level0_row1\" class=\"row_heading level0 row1\" >2004</th>\n",
              "      <td id=\"T_cfe2d_row1_col0\" class=\"data row1 col0\" >16,411.45</td>\n",
              "      <td id=\"T_cfe2d_row1_col1\" class=\"data row1 col1\" >4,204.47</td>\n",
              "      <td id=\"T_cfe2d_row1_col2\" class=\"data row1 col2\" >4,197.49</td>\n",
              "      <td id=\"T_cfe2d_row1_col3\" class=\"data row1 col3\" >4,178.48</td>\n",
              "      <td id=\"T_cfe2d_row1_col4\" class=\"data row1 col4\" >3,224.00</td>\n",
              "      <td id=\"T_cfe2d_row1_col5\" class=\"data row1 col5\" >607.00</td>\n",
              "    </tr>\n",
              "    <tr>\n",
              "      <th id=\"T_cfe2d_level0_row2\" class=\"row_heading level0 row2\" >2005</th>\n",
              "      <td id=\"T_cfe2d_row2_col0\" class=\"data row2 col0\" >16,674.42</td>\n",
              "      <td id=\"T_cfe2d_row2_col1\" class=\"data row2 col1\" >4,114.98</td>\n",
              "      <td id=\"T_cfe2d_row2_col2\" class=\"data row2 col2\" >4,092.96</td>\n",
              "      <td id=\"T_cfe2d_row2_col3\" class=\"data row2 col3\" >4,100.49</td>\n",
              "      <td id=\"T_cfe2d_row2_col4\" class=\"data row2 col4\" >3,797.00</td>\n",
              "      <td id=\"T_cfe2d_row2_col5\" class=\"data row2 col5\" >569.00</td>\n",
              "    </tr>\n",
              "    <tr>\n",
              "      <th id=\"T_cfe2d_level0_row3\" class=\"row_heading level0 row3\" >2006</th>\n",
              "      <td id=\"T_cfe2d_row3_col0\" class=\"data row3 col0\" >14,821.65</td>\n",
              "      <td id=\"T_cfe2d_row3_col1\" class=\"data row3 col1\" >4,164.47</td>\n",
              "      <td id=\"T_cfe2d_row3_col2\" class=\"data row3 col2\" >4,200.42</td>\n",
              "      <td id=\"T_cfe2d_row3_col3\" class=\"data row3 col3\" >4,132.76</td>\n",
              "      <td id=\"T_cfe2d_row3_col4\" class=\"data row3 col4\" >1,723.00</td>\n",
              "      <td id=\"T_cfe2d_row3_col5\" class=\"data row3 col5\" >601.00</td>\n",
              "    </tr>\n",
              "    <tr>\n",
              "      <th id=\"T_cfe2d_level0_row4\" class=\"row_heading level0 row4\" >2007</th>\n",
              "      <td id=\"T_cfe2d_row4_col0\" class=\"data row4 col0\" >17,765.61</td>\n",
              "      <td id=\"T_cfe2d_row4_col1\" class=\"data row4 col1\" >4,189.69</td>\n",
              "      <td id=\"T_cfe2d_row4_col2\" class=\"data row4 col2\" >4,197.65</td>\n",
              "      <td id=\"T_cfe2d_row4_col3\" class=\"data row4 col3\" >4,201.40</td>\n",
              "      <td id=\"T_cfe2d_row4_col4\" class=\"data row4 col4\" >4,672.86</td>\n",
              "      <td id=\"T_cfe2d_row4_col5\" class=\"data row4 col5\" >504.00</td>\n",
              "    </tr>\n",
              "    <tr>\n",
              "      <th id=\"T_cfe2d_level0_row5\" class=\"row_heading level0 row5\" >2008</th>\n",
              "      <td id=\"T_cfe2d_row5_col0\" class=\"data row5 col0\" >18,901.41</td>\n",
              "      <td id=\"T_cfe2d_row5_col1\" class=\"data row5 col1\" >4,263.95</td>\n",
              "      <td id=\"T_cfe2d_row5_col2\" class=\"data row5 col2\" >4,165.45</td>\n",
              "      <td id=\"T_cfe2d_row5_col3\" class=\"data row5 col3\" >4,256.70</td>\n",
              "      <td id=\"T_cfe2d_row5_col4\" class=\"data row5 col4\" >5,568.08</td>\n",
              "      <td id=\"T_cfe2d_row5_col5\" class=\"data row5 col5\" >647.24</td>\n",
              "    </tr>\n",
              "    <tr>\n",
              "      <th id=\"T_cfe2d_level0_row6\" class=\"row_heading level0 row6\" >2009</th>\n",
              "      <td id=\"T_cfe2d_row6_col0\" class=\"data row6 col0\" >17,249.54</td>\n",
              "      <td id=\"T_cfe2d_row6_col1\" class=\"data row6 col1\" >4,241.45</td>\n",
              "      <td id=\"T_cfe2d_row6_col2\" class=\"data row6 col2\" >4,257.26</td>\n",
              "      <td id=\"T_cfe2d_row6_col3\" class=\"data row6 col3\" >4,267.70</td>\n",
              "      <td id=\"T_cfe2d_row6_col4\" class=\"data row6 col4\" >3,765.87</td>\n",
              "      <td id=\"T_cfe2d_row6_col5\" class=\"data row6 col5\" >717.26</td>\n",
              "    </tr>\n",
              "    <tr>\n",
              "      <th id=\"T_cfe2d_level0_row7\" class=\"row_heading level0 row7\" >2010</th>\n",
              "      <td id=\"T_cfe2d_row7_col0\" class=\"data row7 col0\" >18,167.74</td>\n",
              "      <td id=\"T_cfe2d_row7_col1\" class=\"data row7 col1\" >4,148.27</td>\n",
              "      <td id=\"T_cfe2d_row7_col2\" class=\"data row7 col2\" >4,133.24</td>\n",
              "      <td id=\"T_cfe2d_row7_col3\" class=\"data row7 col3\" >4,116.73</td>\n",
              "      <td id=\"T_cfe2d_row7_col4\" class=\"data row7 col4\" >4,502.50</td>\n",
              "      <td id=\"T_cfe2d_row7_col5\" class=\"data row7 col5\" >1,267.00</td>\n",
              "    </tr>\n",
              "    <tr>\n",
              "      <th id=\"T_cfe2d_level0_row8\" class=\"row_heading level0 row8\" >2011</th>\n",
              "      <td id=\"T_cfe2d_row8_col0\" class=\"data row8 col0\" >17,666.04</td>\n",
              "      <td id=\"T_cfe2d_row8_col1\" class=\"data row8 col1\" >4,132.97</td>\n",
              "      <td id=\"T_cfe2d_row8_col2\" class=\"data row8 col2\" >4,129.74</td>\n",
              "      <td id=\"T_cfe2d_row8_col3\" class=\"data row8 col3\" >4,173.47</td>\n",
              "      <td id=\"T_cfe2d_row8_col4\" class=\"data row8 col4\" >5,229.85</td>\n",
              "      <td id=\"T_cfe2d_row8_col5\" class=\"data row8 col5\" >0.00</td>\n",
              "    </tr>\n",
              "    <tr>\n",
              "      <th id=\"T_cfe2d_level0_row9\" class=\"row_heading level0 row9\" >2012</th>\n",
              "      <td id=\"T_cfe2d_row9_col0\" class=\"data row9 col0\" >19,993.22</td>\n",
              "      <td id=\"T_cfe2d_row9_col1\" class=\"data row9 col1\" >4,178.24</td>\n",
              "      <td id=\"T_cfe2d_row9_col2\" class=\"data row9 col2\" >4,191.49</td>\n",
              "      <td id=\"T_cfe2d_row9_col3\" class=\"data row9 col3\" >4,184.68</td>\n",
              "      <td id=\"T_cfe2d_row9_col4\" class=\"data row9 col4\" >6,164.31</td>\n",
              "      <td id=\"T_cfe2d_row9_col5\" class=\"data row9 col5\" >1,274.50</td>\n",
              "    </tr>\n",
              "  </tbody>\n",
              "</table>\n"
            ],
            "text/plain": [
              "<pandas.io.formats.style.Styler at 0x1556b6b60>"
            ]
          },
          "execution_count": 15,
          "metadata": {},
          "output_type": "execute_result"
        }
      ],
      "source": [
        "# Annual project totals, broken out by vessel\n",
        "style(metrics.vessel_crew_hours_at_sea(frequency=\"annual\", by_equipment=True))"
      ]
    },
    {
      "cell_type": "markdown",
      "id": "424f6fa2",
      "metadata": {},
      "source": [
        "## Number of Tows\n",
        "\n",
        "The number of tows performed during the simulation. If tow-to-port was not used in the simulation, a DataFrame with a single value of 0 will be returned. For further documentation, see the API docs here: {py:meth}`wombat.core.post_processor.Metrics.number_of_tows`.\n",
        "\n",
        "**Inputs**:\n",
        "\n",
        "- `frequency`, as explained [above](#common-parameter-explanations), options: \"project\", \"annual\", \"monthly\", and \"month-year\"\n",
        "- `by_tug`\n",
        "  - `True`: Computed for each tugboat (towing vessel)\n",
        "  - `False`: Aggregates all the tugboats\n",
        "- `by_direction`\n",
        "  - `True`: Computed for each direction a tow was performed (to port or to site)\n",
        "  - `False`: Aggregates to the total number of tows\n",
        "\n",
        "**Example Usage**:"
      ]
    },
    {
      "cell_type": "code",
      "execution_count": 16,
      "id": "a1d6a39b",
      "metadata": {
        "tags": [
          "output_scroll"
        ]
      },
      "outputs": [
        {
          "data": {
            "text/html": [
              "<style type=\"text/css\">\n",
              "</style>\n",
              "<table id=\"T_6ff1f\" style=\"font-size: 14px; grid-column-count: 6\">\n",
              "  <thead>\n",
              "    <tr>\n",
              "      <th class=\"blank level0\" >&nbsp;</th>\n",
              "      <th id=\"T_6ff1f_level0_col0\" class=\"col_heading level0 col0\" >total_tows</th>\n",
              "    </tr>\n",
              "  </thead>\n",
              "  <tbody>\n",
              "    <tr>\n",
              "      <th id=\"T_6ff1f_level0_row0\" class=\"row_heading level0 row0\" >0</th>\n",
              "      <td id=\"T_6ff1f_row0_col0\" class=\"data row0 col0\" >0</td>\n",
              "    </tr>\n",
              "  </tbody>\n",
              "</table>\n"
            ],
            "text/plain": [
              "<pandas.io.formats.style.Styler at 0x1447181c0>"
            ]
          },
          "execution_count": 16,
          "metadata": {},
          "output_type": "execute_result"
        }
      ],
      "source": [
        "# Project Total\n",
        "# NOTE: This example has no towing, so it will return 0\n",
        "style(metrics.number_of_tows(frequency=\"project\"))"
      ]
    },
    {
      "cell_type": "markdown",
      "id": "1bbb2c78",
      "metadata": {},
      "source": [
        "## Labor Costs\n",
        "\n",
        "Sum of all labor costs associated with servicing equipment, excluding the labor defined in the fixed costs, which can be broken out by type. For further documentation, see the API docs here: {py:meth}`wombat.core.post_processor.Metrics.labor_costs`.\n",
        "\n",
        "**Inputs**:\n",
        "\n",
        "- `frequency`, as explained [above](#common-parameter-explanations), options: \"project\", \"annual\", \"monthly\", and \"month-year\"\n",
        "- `by_type`\n",
        "  - `True`: Computed for each labor type (salary and hourly)\n",
        "  - `False`: Aggregates all the labor costs\n",
        "\n",
        "**Example Usage**:"
      ]
    },
    {
      "cell_type": "code",
      "execution_count": 17,
      "id": "2a8fa26d",
      "metadata": {
        "tags": [
          "output_scroll"
        ]
      },
      "outputs": [
        {
          "name": "stdout",
          "output_type": "stream",
          "text": [
            "Project total: $0.00/MW\n"
          ]
        }
      ],
      "source": [
        "# Project total at the whole wind farm level\n",
        "total = metrics.labor_costs(frequency=\"project\", by_type=False)\n",
        "print(f\"Project total: ${total.values[0][0] / metrics.project_capacity:,.2f}/MW\")"
      ]
    },
    {
      "cell_type": "code",
      "execution_count": 18,
      "id": "d634cf54",
      "metadata": {
        "tags": [
          "output_scroll"
        ]
      },
      "outputs": [
        {
          "data": {
            "text/html": [
              "<style type=\"text/css\">\n",
              "</style>\n",
              "<table id=\"T_e1d74\" style=\"font-size: 14px; grid-column-count: 6\">\n",
              "  <thead>\n",
              "    <tr>\n",
              "      <th class=\"blank level0\" >&nbsp;</th>\n",
              "      <th id=\"T_e1d74_level0_col0\" class=\"col_heading level0 col0\" >hourly_labor_cost</th>\n",
              "      <th id=\"T_e1d74_level0_col1\" class=\"col_heading level0 col1\" >salary_labor_cost</th>\n",
              "      <th id=\"T_e1d74_level0_col2\" class=\"col_heading level0 col2\" >total_labor_cost</th>\n",
              "    </tr>\n",
              "  </thead>\n",
              "  <tbody>\n",
              "    <tr>\n",
              "      <th id=\"T_e1d74_level0_row0\" class=\"row_heading level0 row0\" >0</th>\n",
              "      <td id=\"T_e1d74_row0_col0\" class=\"data row0 col0\" >0</td>\n",
              "      <td id=\"T_e1d74_row0_col1\" class=\"data row0 col1\" >0</td>\n",
              "      <td id=\"T_e1d74_row0_col2\" class=\"data row0 col2\" >0</td>\n",
              "    </tr>\n",
              "  </tbody>\n",
              "</table>\n"
            ],
            "text/plain": [
              "<pandas.io.formats.style.Styler at 0x145a14ac0>"
            ]
          },
          "execution_count": 18,
          "metadata": {},
          "output_type": "execute_result"
        }
      ],
      "source": [
        "# Project totals for each type of labor\n",
        "# NOTE: this simulation relies on using a fixed labor cost, so this is still $0\n",
        "style(metrics.labor_costs(frequency=\"project\", by_type=True))"
      ]
    },
    {
      "cell_type": "markdown",
      "id": "3c5e68b0",
      "metadata": {},
      "source": [
        "## Equipment and Labor Costs\n",
        "\n",
        "Sum of all labor and servicing equipment costs, excluding the labor defined in the fixed costs, which can be broken out by each category. For further documentation, see the API docs here: {py:meth}`wombat.core.post_processor.Metrics.equipment_labor_cost_breakdown`.\n",
        "\n",
        "**Inputs**:\n",
        "\n",
        "- `frequency`, as explained [above](#common-parameter-explanations), options: \"project\", \"annual\", \"monthly\", and \"month-year\"\n",
        "- `by_category`\n",
        "  - `True`: Computed for each unit servicing equipment and labor category\n",
        "  - `False`: Aggregated to the sum of all costs\n",
        "\n",
        "`reason` definitions:\n",
        " - Maintenance: routine maintenance, or events defined as a {py:class}`wombat.core.data_classes.Maintenance`\n",
        " - Repair: unscheduled maintenance, ranging from inspections to replacements, or events defined as a {py:class}`wombat.core.data_classes.Failure`\n",
        " - Mobilization: Cost of mobilizing servicing equipment\n",
        " - Crew Transfer: Costs incurred while crew are transfering between a turbine or substation and the servicing equipment\n",
        " - Site Travel: Costs incurred while transiting to/from the site and while at the site\n",
        " - Weather Delay: Any delays caused by unsafe weather conditions\n",
        " - No Requests: Equipment and labor is active, but there are no repairs or maintenance tasks to be completed\n",
        " - Not in Shift: Any time outside of the operating hours of the wind farm (or the servicing equipment's specific operating hours)\n",
        "\n",
        "**Example Usage**:"
      ]
    },
    {
      "cell_type": "code",
      "execution_count": 19,
      "id": "c460c98d",
      "metadata": {
        "tags": [
          "output_scroll"
        ]
      },
      "outputs": [
        {
          "data": {
            "text/html": [
              "<style type=\"text/css\">\n",
              "</style>\n",
              "<table id=\"T_89d1a\" style=\"font-size: 14px; grid-column-count: 6\">\n",
              "  <thead>\n",
              "    <tr>\n",
              "      <th class=\"blank level0\" >&nbsp;</th>\n",
              "      <th id=\"T_89d1a_level0_col0\" class=\"col_heading level0 col0\" >total_cost</th>\n",
              "      <th id=\"T_89d1a_level0_col1\" class=\"col_heading level0 col1\" >total_hours</th>\n",
              "    </tr>\n",
              "    <tr>\n",
              "      <th class=\"index_name level0\" >reason</th>\n",
              "      <th class=\"blank col0\" >&nbsp;</th>\n",
              "      <th class=\"blank col1\" >&nbsp;</th>\n",
              "    </tr>\n",
              "  </thead>\n",
              "  <tbody>\n",
              "    <tr>\n",
              "      <th id=\"T_89d1a_level0_row0\" class=\"row_heading level0 row0\" >Maintenance</th>\n",
              "      <td id=\"T_89d1a_row0_col0\" class=\"data row0 col0\" >2,191,875.00</td>\n",
              "      <td id=\"T_89d1a_row0_col1\" class=\"data row0 col1\" >30,060.00</td>\n",
              "    </tr>\n",
              "    <tr>\n",
              "      <th id=\"T_89d1a_level0_row1\" class=\"row_heading level0 row1\" >Repair</th>\n",
              "      <td id=\"T_89d1a_row1_col0\" class=\"data row1 col0\" >35,798,100.07</td>\n",
              "      <td id=\"T_89d1a_row1_col1\" class=\"data row1 col1\" >63,734.31</td>\n",
              "    </tr>\n",
              "    <tr>\n",
              "      <th id=\"T_89d1a_level0_row2\" class=\"row_heading level0 row2\" >Crew Transfer</th>\n",
              "      <td id=\"T_89d1a_row2_col0\" class=\"data row2 col0\" >1,238,270.83</td>\n",
              "      <td id=\"T_89d1a_row2_col1\" class=\"data row2 col1\" >10,398.50</td>\n",
              "    </tr>\n",
              "    <tr>\n",
              "      <th id=\"T_89d1a_level0_row3\" class=\"row_heading level0 row3\" >Site Travel</th>\n",
              "      <td id=\"T_89d1a_row3_col0\" class=\"data row3 col0\" >0.00</td>\n",
              "      <td id=\"T_89d1a_row3_col1\" class=\"data row3 col1\" >0.00</td>\n",
              "    </tr>\n",
              "    <tr>\n",
              "      <th id=\"T_89d1a_level0_row4\" class=\"row_heading level0 row4\" >Mobilization</th>\n",
              "      <td id=\"T_89d1a_row4_col0\" class=\"data row4 col0\" >10,000,000.00</td>\n",
              "      <td id=\"T_89d1a_row4_col1\" class=\"data row4 col1\" >35,784.00</td>\n",
              "    </tr>\n",
              "    <tr>\n",
              "      <th id=\"T_89d1a_level0_row5\" class=\"row_heading level0 row5\" >Weather Delay</th>\n",
              "      <td id=\"T_89d1a_row5_col0\" class=\"data row5 col0\" >35,661,068.85</td>\n",
              "      <td id=\"T_89d1a_row5_col1\" class=\"data row5 col1\" >36,811.46</td>\n",
              "    </tr>\n",
              "    <tr>\n",
              "      <th id=\"T_89d1a_level0_row6\" class=\"row_heading level0 row6\" >No Requests</th>\n",
              "      <td id=\"T_89d1a_row6_col0\" class=\"data row6 col0\" >30,552,373.77</td>\n",
              "      <td id=\"T_89d1a_row6_col1\" class=\"data row6 col1\" >26,427.44</td>\n",
              "    </tr>\n",
              "    <tr>\n",
              "      <th id=\"T_89d1a_level0_row7\" class=\"row_heading level0 row7\" >Not in Shift</th>\n",
              "      <td id=\"T_89d1a_row7_col0\" class=\"data row7 col0\" >9,089,087.15</td>\n",
              "      <td id=\"T_89d1a_row7_col1\" class=\"data row7 col1\" >117,902.89</td>\n",
              "    </tr>\n",
              "  </tbody>\n",
              "</table>\n"
            ],
            "text/plain": [
              "<pandas.io.formats.style.Styler at 0x145a16c50>"
            ]
          },
          "execution_count": 19,
          "metadata": {},
          "output_type": "execute_result"
        }
      ],
      "source": [
        "# Project totals\n",
        "style(metrics.equipment_labor_cost_breakdowns(frequency=\"project\", by_category=False))"
      ]
    },
    {
      "cell_type": "code",
      "execution_count": 20,
      "id": "edd1337b",
      "metadata": {
        "tags": [
          "output_scroll"
        ]
      },
      "outputs": [
        {
          "data": {
            "text/html": [
              "<style type=\"text/css\">\n",
              "</style>\n",
              "<table id=\"T_a1cd9\" style=\"font-size: 14px; grid-column-count: 6\">\n",
              "  <thead>\n",
              "    <tr>\n",
              "      <th class=\"blank level0\" >&nbsp;</th>\n",
              "      <th id=\"T_a1cd9_level0_col0\" class=\"col_heading level0 col0\" >hourly_labor_cost</th>\n",
              "      <th id=\"T_a1cd9_level0_col1\" class=\"col_heading level0 col1\" >salary_labor_cost</th>\n",
              "      <th id=\"T_a1cd9_level0_col2\" class=\"col_heading level0 col2\" >total_labor_cost</th>\n",
              "      <th id=\"T_a1cd9_level0_col3\" class=\"col_heading level0 col3\" >equipment_cost</th>\n",
              "      <th id=\"T_a1cd9_level0_col4\" class=\"col_heading level0 col4\" >total_cost</th>\n",
              "      <th id=\"T_a1cd9_level0_col5\" class=\"col_heading level0 col5\" >total_hours</th>\n",
              "    </tr>\n",
              "    <tr>\n",
              "      <th class=\"index_name level0\" >reason</th>\n",
              "      <th class=\"blank col0\" >&nbsp;</th>\n",
              "      <th class=\"blank col1\" >&nbsp;</th>\n",
              "      <th class=\"blank col2\" >&nbsp;</th>\n",
              "      <th class=\"blank col3\" >&nbsp;</th>\n",
              "      <th class=\"blank col4\" >&nbsp;</th>\n",
              "      <th class=\"blank col5\" >&nbsp;</th>\n",
              "    </tr>\n",
              "  </thead>\n",
              "  <tbody>\n",
              "    <tr>\n",
              "      <th id=\"T_a1cd9_level0_row0\" class=\"row_heading level0 row0\" >Maintenance</th>\n",
              "      <td id=\"T_a1cd9_row0_col0\" class=\"data row0 col0\" >0</td>\n",
              "      <td id=\"T_a1cd9_row0_col1\" class=\"data row0 col1\" >0</td>\n",
              "      <td id=\"T_a1cd9_row0_col2\" class=\"data row0 col2\" >0</td>\n",
              "      <td id=\"T_a1cd9_row0_col3\" class=\"data row0 col3\" >2,191,875.00</td>\n",
              "      <td id=\"T_a1cd9_row0_col4\" class=\"data row0 col4\" >2,191,875.00</td>\n",
              "      <td id=\"T_a1cd9_row0_col5\" class=\"data row0 col5\" >30,060.00</td>\n",
              "    </tr>\n",
              "    <tr>\n",
              "      <th id=\"T_a1cd9_level0_row1\" class=\"row_heading level0 row1\" >Repair</th>\n",
              "      <td id=\"T_a1cd9_row1_col0\" class=\"data row1 col0\" >0</td>\n",
              "      <td id=\"T_a1cd9_row1_col1\" class=\"data row1 col1\" >0</td>\n",
              "      <td id=\"T_a1cd9_row1_col2\" class=\"data row1 col2\" >0</td>\n",
              "      <td id=\"T_a1cd9_row1_col3\" class=\"data row1 col3\" >35,798,100.07</td>\n",
              "      <td id=\"T_a1cd9_row1_col4\" class=\"data row1 col4\" >35,798,100.07</td>\n",
              "      <td id=\"T_a1cd9_row1_col5\" class=\"data row1 col5\" >63,734.31</td>\n",
              "    </tr>\n",
              "    <tr>\n",
              "      <th id=\"T_a1cd9_level0_row2\" class=\"row_heading level0 row2\" >Crew Transfer</th>\n",
              "      <td id=\"T_a1cd9_row2_col0\" class=\"data row2 col0\" >0</td>\n",
              "      <td id=\"T_a1cd9_row2_col1\" class=\"data row2 col1\" >0</td>\n",
              "      <td id=\"T_a1cd9_row2_col2\" class=\"data row2 col2\" >0</td>\n",
              "      <td id=\"T_a1cd9_row2_col3\" class=\"data row2 col3\" >1,238,270.83</td>\n",
              "      <td id=\"T_a1cd9_row2_col4\" class=\"data row2 col4\" >1,238,270.83</td>\n",
              "      <td id=\"T_a1cd9_row2_col5\" class=\"data row2 col5\" >10,398.50</td>\n",
              "    </tr>\n",
              "    <tr>\n",
              "      <th id=\"T_a1cd9_level0_row3\" class=\"row_heading level0 row3\" >Site Travel</th>\n",
              "      <td id=\"T_a1cd9_row3_col0\" class=\"data row3 col0\" >0</td>\n",
              "      <td id=\"T_a1cd9_row3_col1\" class=\"data row3 col1\" >0</td>\n",
              "      <td id=\"T_a1cd9_row3_col2\" class=\"data row3 col2\" >0</td>\n",
              "      <td id=\"T_a1cd9_row3_col3\" class=\"data row3 col3\" >0.00</td>\n",
              "      <td id=\"T_a1cd9_row3_col4\" class=\"data row3 col4\" >0.00</td>\n",
              "      <td id=\"T_a1cd9_row3_col5\" class=\"data row3 col5\" >0.00</td>\n",
              "    </tr>\n",
              "    <tr>\n",
              "      <th id=\"T_a1cd9_level0_row4\" class=\"row_heading level0 row4\" >Mobilization</th>\n",
              "      <td id=\"T_a1cd9_row4_col0\" class=\"data row4 col0\" >0</td>\n",
              "      <td id=\"T_a1cd9_row4_col1\" class=\"data row4 col1\" >0</td>\n",
              "      <td id=\"T_a1cd9_row4_col2\" class=\"data row4 col2\" >0</td>\n",
              "      <td id=\"T_a1cd9_row4_col3\" class=\"data row4 col3\" >10,000,000.00</td>\n",
              "      <td id=\"T_a1cd9_row4_col4\" class=\"data row4 col4\" >10,000,000.00</td>\n",
              "      <td id=\"T_a1cd9_row4_col5\" class=\"data row4 col5\" >35,784.00</td>\n",
              "    </tr>\n",
              "    <tr>\n",
              "      <th id=\"T_a1cd9_level0_row5\" class=\"row_heading level0 row5\" >Weather Delay</th>\n",
              "      <td id=\"T_a1cd9_row5_col0\" class=\"data row5 col0\" >0</td>\n",
              "      <td id=\"T_a1cd9_row5_col1\" class=\"data row5 col1\" >0</td>\n",
              "      <td id=\"T_a1cd9_row5_col2\" class=\"data row5 col2\" >0</td>\n",
              "      <td id=\"T_a1cd9_row5_col3\" class=\"data row5 col3\" >35,661,068.85</td>\n",
              "      <td id=\"T_a1cd9_row5_col4\" class=\"data row5 col4\" >35,661,068.85</td>\n",
              "      <td id=\"T_a1cd9_row5_col5\" class=\"data row5 col5\" >36,811.46</td>\n",
              "    </tr>\n",
              "    <tr>\n",
              "      <th id=\"T_a1cd9_level0_row6\" class=\"row_heading level0 row6\" >No Requests</th>\n",
              "      <td id=\"T_a1cd9_row6_col0\" class=\"data row6 col0\" >0</td>\n",
              "      <td id=\"T_a1cd9_row6_col1\" class=\"data row6 col1\" >0</td>\n",
              "      <td id=\"T_a1cd9_row6_col2\" class=\"data row6 col2\" >0</td>\n",
              "      <td id=\"T_a1cd9_row6_col3\" class=\"data row6 col3\" >30,552,373.77</td>\n",
              "      <td id=\"T_a1cd9_row6_col4\" class=\"data row6 col4\" >30,552,373.77</td>\n",
              "      <td id=\"T_a1cd9_row6_col5\" class=\"data row6 col5\" >26,427.44</td>\n",
              "    </tr>\n",
              "    <tr>\n",
              "      <th id=\"T_a1cd9_level0_row7\" class=\"row_heading level0 row7\" >Not in Shift</th>\n",
              "      <td id=\"T_a1cd9_row7_col0\" class=\"data row7 col0\" >0</td>\n",
              "      <td id=\"T_a1cd9_row7_col1\" class=\"data row7 col1\" >0</td>\n",
              "      <td id=\"T_a1cd9_row7_col2\" class=\"data row7 col2\" >0</td>\n",
              "      <td id=\"T_a1cd9_row7_col3\" class=\"data row7 col3\" >9,089,087.15</td>\n",
              "      <td id=\"T_a1cd9_row7_col4\" class=\"data row7 col4\" >9,089,087.15</td>\n",
              "      <td id=\"T_a1cd9_row7_col5\" class=\"data row7 col5\" >117,902.89</td>\n",
              "    </tr>\n",
              "  </tbody>\n",
              "</table>\n"
            ],
            "text/plain": [
              "<pandas.io.formats.style.Styler at 0x145a173d0>"
            ]
          },
          "execution_count": 20,
          "metadata": {},
          "output_type": "execute_result"
        }
      ],
      "source": [
        "# Project totals by each category\n",
        "style(metrics.equipment_labor_cost_breakdowns(frequency=\"project\", by_category=True))"
      ]
    },
    {
      "cell_type": "markdown",
      "id": "3448ccc7",
      "metadata": {},
      "source": [
        "## Emissions\n",
        "\n",
        "Emissions (tons or other provided units) of all servicing equipment activity, except overnight waiting periods between shifts. For further documentation, see the API docs here: {py:meth}`wombat.core.post_processor.Metrics.emissions`.\n",
        "\n",
        "**Inputs**:\n",
        "\n",
        "- `emissions_factors`: Dictionary of servicing equipment names and the emissions per hour of the following activities: `transit`, `maneuvering`, `idle at site`, and `idle at port`, where port is stand-in for wherever the servicing equipment might be based when not at site.\n",
        "- `maneuvering_factor`: The proportion of transit time that can generally be associated with positioning servicing, by default 10%.\n",
        "- `port_engine_on_factor`: The proportion of the idling at port time where the engine is running and producing emissions, by default 25%."
      ]
    },
    {
      "cell_type": "code",
      "execution_count": 21,
      "id": "ab5f22c1",
      "metadata": {},
      "outputs": [
        {
          "data": {
            "text/html": [
              "<style type=\"text/css\">\n",
              "</style>\n",
              "<table id=\"T_5dadb\" style=\"font-size: 14px; grid-column-count: 6\">\n",
              "  <thead>\n",
              "    <tr>\n",
              "      <th class=\"blank\" >&nbsp;</th>\n",
              "      <th class=\"blank level0\" >&nbsp;</th>\n",
              "      <th id=\"T_5dadb_level0_col0\" class=\"col_heading level0 col0\" >duration</th>\n",
              "      <th id=\"T_5dadb_level0_col1\" class=\"col_heading level0 col1\" >distance_km</th>\n",
              "      <th id=\"T_5dadb_level0_col2\" class=\"col_heading level0 col2\" >emissions</th>\n",
              "    </tr>\n",
              "    <tr>\n",
              "      <th class=\"index_name level0\" >agent</th>\n",
              "      <th class=\"index_name level1\" >category</th>\n",
              "      <th class=\"blank col0\" >&nbsp;</th>\n",
              "      <th class=\"blank col1\" >&nbsp;</th>\n",
              "      <th class=\"blank col2\" >&nbsp;</th>\n",
              "    </tr>\n",
              "  </thead>\n",
              "  <tbody>\n",
              "    <tr>\n",
              "      <th id=\"T_5dadb_level0_row0\" class=\"row_heading level0 row0\" rowspan=\"4\">Crew Transfer Vessel 1</th>\n",
              "      <th id=\"T_5dadb_level1_row0\" class=\"row_heading level1 row0\" >idle at port</th>\n",
              "      <td id=\"T_5dadb_row0_col0\" class=\"data row0 col0\" >0.00</td>\n",
              "      <td id=\"T_5dadb_row0_col1\" class=\"data row0 col1\" >0.00</td>\n",
              "      <td id=\"T_5dadb_row0_col2\" class=\"data row0 col2\" >0.00</td>\n",
              "    </tr>\n",
              "    <tr>\n",
              "      <th id=\"T_5dadb_level1_row1\" class=\"row_heading level1 row1\" >idle at site</th>\n",
              "      <td id=\"T_5dadb_row1_col0\" class=\"data row1 col0\" >39,624.23</td>\n",
              "      <td id=\"T_5dadb_row1_col1\" class=\"data row1 col1\" >0.00</td>\n",
              "      <td id=\"T_5dadb_row1_col2\" class=\"data row1 col2\" >19,812.12</td>\n",
              "    </tr>\n",
              "    <tr>\n",
              "      <th id=\"T_5dadb_level1_row2\" class=\"row_heading level1 row2\" >maneuvering</th>\n",
              "      <td id=\"T_5dadb_row2_col0\" class=\"data row2 col0\" >0.00</td>\n",
              "      <td id=\"T_5dadb_row2_col1\" class=\"data row2 col1\" >0.00</td>\n",
              "      <td id=\"T_5dadb_row2_col2\" class=\"data row2 col2\" >0.00</td>\n",
              "    </tr>\n",
              "    <tr>\n",
              "      <th id=\"T_5dadb_level1_row3\" class=\"row_heading level1 row3\" >transit</th>\n",
              "      <td id=\"T_5dadb_row3_col0\" class=\"data row3 col0\" >0.00</td>\n",
              "      <td id=\"T_5dadb_row3_col1\" class=\"data row3 col1\" >inf</td>\n",
              "      <td id=\"T_5dadb_row3_col2\" class=\"data row3 col2\" >0.00</td>\n",
              "    </tr>\n",
              "    <tr>\n",
              "      <th id=\"T_5dadb_level0_row4\" class=\"row_heading level0 row4\" rowspan=\"4\">Crew Transfer Vessel 2</th>\n",
              "      <th id=\"T_5dadb_level1_row4\" class=\"row_heading level1 row4\" >idle at port</th>\n",
              "      <td id=\"T_5dadb_row4_col0\" class=\"data row4 col0\" >0.00</td>\n",
              "      <td id=\"T_5dadb_row4_col1\" class=\"data row4 col1\" >0.00</td>\n",
              "      <td id=\"T_5dadb_row4_col2\" class=\"data row4 col2\" >0.00</td>\n",
              "    </tr>\n",
              "    <tr>\n",
              "      <th id=\"T_5dadb_level1_row5\" class=\"row_heading level1 row5\" >idle at site</th>\n",
              "      <td id=\"T_5dadb_row5_col0\" class=\"data row5 col0\" >39,560.18</td>\n",
              "      <td id=\"T_5dadb_row5_col1\" class=\"data row5 col1\" >0.00</td>\n",
              "      <td id=\"T_5dadb_row5_col2\" class=\"data row5 col2\" >19,780.09</td>\n",
              "    </tr>\n",
              "    <tr>\n",
              "      <th id=\"T_5dadb_level1_row6\" class=\"row_heading level1 row6\" >maneuvering</th>\n",
              "      <td id=\"T_5dadb_row6_col0\" class=\"data row6 col0\" >0.00</td>\n",
              "      <td id=\"T_5dadb_row6_col1\" class=\"data row6 col1\" >0.00</td>\n",
              "      <td id=\"T_5dadb_row6_col2\" class=\"data row6 col2\" >0.00</td>\n",
              "    </tr>\n",
              "    <tr>\n",
              "      <th id=\"T_5dadb_level1_row7\" class=\"row_heading level1 row7\" >transit</th>\n",
              "      <td id=\"T_5dadb_row7_col0\" class=\"data row7 col0\" >0.00</td>\n",
              "      <td id=\"T_5dadb_row7_col1\" class=\"data row7 col1\" >inf</td>\n",
              "      <td id=\"T_5dadb_row7_col2\" class=\"data row7 col2\" >0.00</td>\n",
              "    </tr>\n",
              "    <tr>\n",
              "      <th id=\"T_5dadb_level0_row8\" class=\"row_heading level0 row8\" rowspan=\"4\">Crew Transfer Vessel 3</th>\n",
              "      <th id=\"T_5dadb_level1_row8\" class=\"row_heading level1 row8\" >idle at port</th>\n",
              "      <td id=\"T_5dadb_row8_col0\" class=\"data row8 col0\" >0.00</td>\n",
              "      <td id=\"T_5dadb_row8_col1\" class=\"data row8 col1\" >0.00</td>\n",
              "      <td id=\"T_5dadb_row8_col2\" class=\"data row8 col2\" >0.00</td>\n",
              "    </tr>\n",
              "    <tr>\n",
              "      <th id=\"T_5dadb_level1_row9\" class=\"row_heading level1 row9\" >idle at site</th>\n",
              "      <td id=\"T_5dadb_row9_col0\" class=\"data row9 col0\" >39,482.90</td>\n",
              "      <td id=\"T_5dadb_row9_col1\" class=\"data row9 col1\" >0.00</td>\n",
              "      <td id=\"T_5dadb_row9_col2\" class=\"data row9 col2\" >19,741.45</td>\n",
              "    </tr>\n",
              "    <tr>\n",
              "      <th id=\"T_5dadb_level1_row10\" class=\"row_heading level1 row10\" >maneuvering</th>\n",
              "      <td id=\"T_5dadb_row10_col0\" class=\"data row10 col0\" >0.00</td>\n",
              "      <td id=\"T_5dadb_row10_col1\" class=\"data row10 col1\" >0.00</td>\n",
              "      <td id=\"T_5dadb_row10_col2\" class=\"data row10 col2\" >0.00</td>\n",
              "    </tr>\n",
              "    <tr>\n",
              "      <th id=\"T_5dadb_level1_row11\" class=\"row_heading level1 row11\" >transit</th>\n",
              "      <td id=\"T_5dadb_row11_col0\" class=\"data row11 col0\" >0.00</td>\n",
              "      <td id=\"T_5dadb_row11_col1\" class=\"data row11 col1\" >inf</td>\n",
              "      <td id=\"T_5dadb_row11_col2\" class=\"data row11 col2\" >0.00</td>\n",
              "    </tr>\n",
              "    <tr>\n",
              "      <th id=\"T_5dadb_level0_row12\" class=\"row_heading level0 row12\" rowspan=\"4\">Field Support Vessel</th>\n",
              "      <th id=\"T_5dadb_level1_row12\" class=\"row_heading level1 row12\" >idle at port</th>\n",
              "      <td id=\"T_5dadb_row12_col0\" class=\"data row12 col0\" >1,025.64</td>\n",
              "      <td id=\"T_5dadb_row12_col1\" class=\"data row12 col1\" >0.00</td>\n",
              "      <td id=\"T_5dadb_row12_col2\" class=\"data row12 col2\" >512.82</td>\n",
              "    </tr>\n",
              "    <tr>\n",
              "      <th id=\"T_5dadb_level1_row13\" class=\"row_heading level1 row13\" >idle at site</th>\n",
              "      <td id=\"T_5dadb_row13_col0\" class=\"data row13 col0\" >1,292.00</td>\n",
              "      <td id=\"T_5dadb_row13_col1\" class=\"data row13 col1\" >0.00</td>\n",
              "      <td id=\"T_5dadb_row13_col2\" class=\"data row13 col2\" >1,292.00</td>\n",
              "    </tr>\n",
              "    <tr>\n",
              "      <th id=\"T_5dadb_level1_row14\" class=\"row_heading level1 row14\" >maneuvering</th>\n",
              "      <td id=\"T_5dadb_row14_col0\" class=\"data row14 col0\" >415.80</td>\n",
              "      <td id=\"T_5dadb_row14_col1\" class=\"data row14 col1\" >0.00</td>\n",
              "      <td id=\"T_5dadb_row14_col2\" class=\"data row14 col2\" >1,663.20</td>\n",
              "    </tr>\n",
              "    <tr>\n",
              "      <th id=\"T_5dadb_level1_row15\" class=\"row_heading level1 row15\" >transit</th>\n",
              "      <td id=\"T_5dadb_row15_col0\" class=\"data row15 col0\" >5,128.20</td>\n",
              "      <td id=\"T_5dadb_row15_col1\" class=\"data row15 col1\" >0.00</td>\n",
              "      <td id=\"T_5dadb_row15_col2\" class=\"data row15 col2\" >30,769.20</td>\n",
              "    </tr>\n",
              "    <tr>\n",
              "      <th id=\"T_5dadb_level0_row16\" class=\"row_heading level0 row16\" rowspan=\"4\">Heavy Lift Vessel</th>\n",
              "      <th id=\"T_5dadb_level1_row16\" class=\"row_heading level1 row16\" >idle at port</th>\n",
              "      <td id=\"T_5dadb_row16_col0\" class=\"data row16 col0\" >5,594.40</td>\n",
              "      <td id=\"T_5dadb_row16_col1\" class=\"data row16 col1\" >0.00</td>\n",
              "      <td id=\"T_5dadb_row16_col2\" class=\"data row16 col2\" >2,797.20</td>\n",
              "    </tr>\n",
              "    <tr>\n",
              "      <th id=\"T_5dadb_level1_row17\" class=\"row_heading level1 row17\" >idle at site</th>\n",
              "      <td id=\"T_5dadb_row17_col0\" class=\"data row17 col0\" >10,161.98</td>\n",
              "      <td id=\"T_5dadb_row17_col1\" class=\"data row17 col1\" >0.00</td>\n",
              "      <td id=\"T_5dadb_row17_col2\" class=\"data row17 col2\" >10,161.98</td>\n",
              "    </tr>\n",
              "    <tr>\n",
              "      <th id=\"T_5dadb_level1_row18\" class=\"row_heading level1 row18\" >maneuvering</th>\n",
              "      <td id=\"T_5dadb_row18_col0\" class=\"data row18 col0\" >2,268.00</td>\n",
              "      <td id=\"T_5dadb_row18_col1\" class=\"data row18 col1\" >0.00</td>\n",
              "      <td id=\"T_5dadb_row18_col2\" class=\"data row18 col2\" >15,876.00</td>\n",
              "    </tr>\n",
              "    <tr>\n",
              "      <th id=\"T_5dadb_level1_row19\" class=\"row_heading level1 row19\" >transit</th>\n",
              "      <td id=\"T_5dadb_row19_col0\" class=\"data row19 col0\" >27,972.00</td>\n",
              "      <td id=\"T_5dadb_row19_col1\" class=\"data row19 col1\" >inf</td>\n",
              "      <td id=\"T_5dadb_row19_col2\" class=\"data row19 col2\" >335,664.00</td>\n",
              "    </tr>\n",
              "  </tbody>\n",
              "</table>\n"
            ],
            "text/plain": [
              "<pandas.io.formats.style.Styler at 0x145a14460>"
            ]
          },
          "execution_count": 21,
          "metadata": {},
          "output_type": "execute_result"
        }
      ],
      "source": [
        "# Create the emissions factors, in tons per hour\n",
        "emissions_factors = {\n",
        "    \"Crew Transfer Vessel 1\": {\n",
        "        \"transit\": 4,\n",
        "        \"maneuvering\": 3,\n",
        "        \"idle at site\": 0.5,\n",
        "        \"idle at port\": 0.25,\n",
        "    },\n",
        "    \"Crew Transfer Vessel 2\": {\n",
        "        \"transit\": 4,\n",
        "        \"maneuvering\": 3,\n",
        "        \"idle at site\": 0.5,\n",
        "        \"idle at port\": 0.25,\n",
        "    },\n",
        "    \"Crew Transfer Vessel 3\": {\n",
        "        \"transit\": 4,\n",
        "        \"maneuvering\": 3,\n",
        "        \"idle at site\": 0.5,\n",
        "        \"idle at port\": 0.25,\n",
        "    },\n",
        "    \"Field Support Vessel\": {\n",
        "        \"transit\": 6,\n",
        "        \"maneuvering\": 4,\n",
        "        \"idle at site\": 1,\n",
        "        \"idle at port\": 0.5,\n",
        "    },\n",
        "    \"Heavy Lift Vessel\": {\n",
        "        \"transit\": 12,\n",
        "        \"maneuvering\": 7,\n",
        "        \"idle at site\": 1,\n",
        "        \"idle at port\": 0.5,\n",
        "    },\n",
        "}\n",
        "\n",
        "style(metrics.emissions(emissions_factors=emissions_factors, maneuvering_factor=0.075, port_engine_on_factor=0.20))"
      ]
    },
    {
      "cell_type": "markdown",
      "id": "a0f4f90b",
      "metadata": {},
      "source": [
        "## Component Costs\n",
        "\n",
        "All of the costs associated with maintenance and failure events during the simulation, including delays incurred during the repair process, but excluding costs not directly tied to a repair. For further documentation, see the API docs here: {py:meth}`wombat.core.post_processor.Metrics.component_costs`.\n",
        "\n",
        "**Inputs**:\n",
        "\n",
        "- `frequency`, as explained [above](#common-parameter-explanations), options: \"project\", \"annual\", \"monthly\", and \"month-year\"\n",
        "- `by_category`\n",
        "  - `True`: Computed across each cost category\n",
        "  - `False`: Aggregated to the sum of all categories\n",
        "- `by_action`\n",
        "  - `True`: Computed by each of \"repair\", \"maintenance\", and \"delay\", and is included in the MultiIndex\n",
        "  - `False`: Aggregated as the sum of all actions\n",
        "\n",
        "`action` definitions:\n",
        " - maintenance: routine maintenance\n",
        " - repair: unscheduled maintenance, ranging from inspections to replacements\n",
        " - delay: Any delays caused by unsafe weather conditions or not being able to finish a process within a single shift\n",
        "\n",
        "**Example Usage**:"
      ]
    },
    {
      "cell_type": "code",
      "execution_count": 22,
      "id": "26fa0ed9",
      "metadata": {
        "tags": [
          "output_scroll"
        ]
      },
      "outputs": [
        {
          "data": {
            "text/html": [
              "<style type=\"text/css\">\n",
              "</style>\n",
              "<table id=\"T_5ceeb\" style=\"font-size: 14px; grid-column-count: 6\">\n",
              "  <thead>\n",
              "    <tr>\n",
              "      <th class=\"blank level0\" >&nbsp;</th>\n",
              "      <th id=\"T_5ceeb_level0_col0\" class=\"col_heading level0 col0\" >total_cost</th>\n",
              "    </tr>\n",
              "    <tr>\n",
              "      <th class=\"index_name level0\" >component</th>\n",
              "      <th class=\"blank col0\" >&nbsp;</th>\n",
              "    </tr>\n",
              "  </thead>\n",
              "  <tbody>\n",
              "    <tr>\n",
              "      <th id=\"T_5ceeb_level0_row0\" class=\"row_heading level0 row0\" >turbine</th>\n",
              "      <td id=\"T_5ceeb_row0_col0\" class=\"data row0 col0\" >136,775,387.96</td>\n",
              "    </tr>\n",
              "  </tbody>\n",
              "</table>\n"
            ],
            "text/plain": [
              "<pandas.io.formats.style.Styler at 0x145a17970>"
            ]
          },
          "execution_count": 22,
          "metadata": {},
          "output_type": "execute_result"
        }
      ],
      "source": [
        "# Project totals by component\n",
        "style(metrics.component_costs(frequency=\"project\", by_category=False, by_action=False))"
      ]
    },
    {
      "cell_type": "code",
      "execution_count": 23,
      "id": "65db6d10",
      "metadata": {
        "tags": [
          "output_scroll"
        ]
      },
      "outputs": [
        {
          "data": {
            "text/html": [
              "<style type=\"text/css\">\n",
              "</style>\n",
              "<table id=\"T_f6d1f\" style=\"font-size: 14px; grid-column-count: 6\">\n",
              "  <thead>\n",
              "    <tr>\n",
              "      <th class=\"blank\" >&nbsp;</th>\n",
              "      <th class=\"blank level0\" >&nbsp;</th>\n",
              "      <th id=\"T_f6d1f_level0_col0\" class=\"col_heading level0 col0\" >materials_cost</th>\n",
              "      <th id=\"T_f6d1f_level0_col1\" class=\"col_heading level0 col1\" >total_labor_cost</th>\n",
              "      <th id=\"T_f6d1f_level0_col2\" class=\"col_heading level0 col2\" >equipment_cost</th>\n",
              "      <th id=\"T_f6d1f_level0_col3\" class=\"col_heading level0 col3\" >total_cost</th>\n",
              "    </tr>\n",
              "    <tr>\n",
              "      <th class=\"index_name level0\" >component</th>\n",
              "      <th class=\"index_name level1\" >action</th>\n",
              "      <th class=\"blank col0\" >&nbsp;</th>\n",
              "      <th class=\"blank col1\" >&nbsp;</th>\n",
              "      <th class=\"blank col2\" >&nbsp;</th>\n",
              "      <th class=\"blank col3\" >&nbsp;</th>\n",
              "    </tr>\n",
              "  </thead>\n",
              "  <tbody>\n",
              "    <tr>\n",
              "      <th id=\"T_f6d1f_level0_row0\" class=\"row_heading level0 row0\" rowspan=\"3\">turbine</th>\n",
              "      <th id=\"T_f6d1f_level1_row0\" class=\"row_heading level1 row0\" >delay</th>\n",
              "      <td id=\"T_f6d1f_row0_col0\" class=\"data row0 col0\" >0</td>\n",
              "      <td id=\"T_f6d1f_row0_col1\" class=\"data row0 col1\" >0</td>\n",
              "      <td id=\"T_f6d1f_row0_col2\" class=\"data row0 col2\" >44,744,142.06</td>\n",
              "      <td id=\"T_f6d1f_row0_col3\" class=\"data row0 col3\" >44,744,142.06</td>\n",
              "    </tr>\n",
              "    <tr>\n",
              "      <th id=\"T_f6d1f_level1_row1\" class=\"row_heading level1 row1\" >maintenance</th>\n",
              "      <td id=\"T_f6d1f_row1_col0\" class=\"data row1 col0\" >0</td>\n",
              "      <td id=\"T_f6d1f_row1_col1\" class=\"data row1 col1\" >0</td>\n",
              "      <td id=\"T_f6d1f_row1_col2\" class=\"data row1 col2\" >2,191,875.00</td>\n",
              "      <td id=\"T_f6d1f_row1_col3\" class=\"data row1 col3\" >2,191,875.00</td>\n",
              "    </tr>\n",
              "    <tr>\n",
              "      <th id=\"T_f6d1f_level1_row2\" class=\"row_heading level1 row2\" >repair</th>\n",
              "      <td id=\"T_f6d1f_row2_col0\" class=\"data row2 col0\" >0</td>\n",
              "      <td id=\"T_f6d1f_row2_col1\" class=\"data row2 col1\" >0</td>\n",
              "      <td id=\"T_f6d1f_row2_col2\" class=\"data row2 col2\" >35,798,100.07</td>\n",
              "      <td id=\"T_f6d1f_row2_col3\" class=\"data row2 col3\" >35,798,100.07</td>\n",
              "    </tr>\n",
              "  </tbody>\n",
              "</table>\n"
            ],
            "text/plain": [
              "<pandas.io.formats.style.Styler at 0x145b093c0>"
            ]
          },
          "execution_count": 23,
          "metadata": {},
          "output_type": "execute_result"
        }
      ],
      "source": [
        "# Project totals by each category and action type\n",
        "style(metrics.component_costs(frequency=\"project\", by_category=True, by_action=True))"
      ]
    },
    {
      "cell_type": "markdown",
      "id": "9413851f",
      "metadata": {},
      "source": [
        "## Fixed Cost Impacts\n",
        "\n",
        "Computes the total costs of the fixed costs categories. For further documentation, see the defintion docs, here: {py:class}`wombat.core.data_classes.FixedCosts`, or the API docs here: {py:meth}`wombat.core.post_processor.Metrics.fixed_costs`.\n",
        "\n",
        "**Inputs**:\n",
        "\n",
        "- `frequency`, as explained [above](#common-parameter-explanations), options: \"project\", \"annual\", \"monthly\", and \"month-year\"\n",
        "- `resolution` (also, demonstrated below)\n",
        "  - \"high\": Computed across the most granular cost levels\n",
        "  - \"medium\": Computed for each general cost category\n",
        "  - \"low\": Aggregated to a single sum of costs"
      ]
    },
    {
      "cell_type": "code",
      "execution_count": 24,
      "id": "cf21a32b",
      "metadata": {
        "tags": [
          "output_scroll"
        ]
      },
      "outputs": [
        {
          "name": "stdout",
          "output_type": "stream",
          "text": [
            "{'operations': {'annual_leases_fees': ['submerge_land_lease_costs',\n",
            "                                       'transmission_charges_rights'],\n",
            "                'environmental_health_safety_monitoring': [],\n",
            "                'insurance': ['brokers_fee',\n",
            "                              'operations_all_risk',\n",
            "                              'business_interruption',\n",
            "                              'third_party_liability',\n",
            "                              'storm_coverage'],\n",
            "                'labor': [],\n",
            "                'onshore_electrical_maintenance': [],\n",
            "                'operating_facilities': [],\n",
            "                'operations_management_administration': ['project_management_administration',\n",
            "                                                         'marine_management',\n",
            "                                                         'weather_forecasting',\n",
            "                                                         'condition_monitoring']}}\n"
          ]
        }
      ],
      "source": [
        "pprint(metrics.fixed_costs.hierarchy)"
      ]
    },
    {
      "cell_type": "markdown",
      "id": "c618120a",
      "metadata": {},
      "source": [
        "**Example Usage**:"
      ]
    },
    {
      "cell_type": "code",
      "execution_count": 25,
      "id": "6de0b63d",
      "metadata": {
        "tags": [
          "output_scroll"
        ]
      },
      "outputs": [
        {
          "data": {
            "text/html": [
              "<style type=\"text/css\">\n",
              "</style>\n",
              "<table id=\"T_9c28d\" style=\"font-size: 14px; grid-column-count: 6\">\n",
              "  <thead>\n",
              "    <tr>\n",
              "      <th class=\"blank level0\" >&nbsp;</th>\n",
              "      <th id=\"T_9c28d_level0_col0\" class=\"col_heading level0 col0\" >operations</th>\n",
              "    </tr>\n",
              "  </thead>\n",
              "  <tbody>\n",
              "    <tr>\n",
              "      <th id=\"T_9c28d_level0_row0\" class=\"row_heading level0 row0\" >0</th>\n",
              "      <td id=\"T_9c28d_row0_col0\" class=\"data row0 col0\" >16,013,230.75</td>\n",
              "    </tr>\n",
              "  </tbody>\n",
              "</table>\n"
            ],
            "text/plain": [
              "<pandas.io.formats.style.Styler at 0x1558b1330>"
            ]
          },
          "execution_count": 25,
          "metadata": {},
          "output_type": "execute_result"
        }
      ],
      "source": [
        "# Project totals at the highest level\n",
        "# NOTE: there were no fixed costs defined in this example, so all values will be 0, so\n",
        "#       this will just be demonstrating the output format\n",
        "style(metrics.project_fixed_costs(frequency=\"project\", resolution=\"low\"))"
      ]
    },
    {
      "cell_type": "code",
      "execution_count": 26,
      "id": "d028ccdc",
      "metadata": {
        "tags": [
          "output_scroll"
        ]
      },
      "outputs": [
        {
          "data": {
            "text/html": [
              "<style type=\"text/css\">\n",
              "</style>\n",
              "<table id=\"T_1e5b7\" style=\"font-size: 14px; grid-column-count: 6\">\n",
              "  <thead>\n",
              "    <tr>\n",
              "      <th class=\"blank level0\" >&nbsp;</th>\n",
              "      <th id=\"T_1e5b7_level0_col0\" class=\"col_heading level0 col0\" >operations_management_administration</th>\n",
              "      <th id=\"T_1e5b7_level0_col1\" class=\"col_heading level0 col1\" >insurance</th>\n",
              "      <th id=\"T_1e5b7_level0_col2\" class=\"col_heading level0 col2\" >annual_leases_fees</th>\n",
              "      <th id=\"T_1e5b7_level0_col3\" class=\"col_heading level0 col3\" >operating_facilities</th>\n",
              "      <th id=\"T_1e5b7_level0_col4\" class=\"col_heading level0 col4\" >environmental_health_safety_monitoring</th>\n",
              "      <th id=\"T_1e5b7_level0_col5\" class=\"col_heading level0 col5\" >onshore_electrical_maintenance</th>\n",
              "      <th id=\"T_1e5b7_level0_col6\" class=\"col_heading level0 col6\" >labor</th>\n",
              "    </tr>\n",
              "  </thead>\n",
              "  <tbody>\n",
              "    <tr>\n",
              "      <th id=\"T_1e5b7_level0_row0\" class=\"row_heading level0 row0\" >0</th>\n",
              "      <td id=\"T_1e5b7_row0_col0\" class=\"data row0 col0\" >0.00</td>\n",
              "      <td id=\"T_1e5b7_row0_col1\" class=\"data row0 col1\" >0.00</td>\n",
              "      <td id=\"T_1e5b7_row0_col2\" class=\"data row0 col2\" >0.00</td>\n",
              "      <td id=\"T_1e5b7_row0_col3\" class=\"data row0 col3\" >0.00</td>\n",
              "      <td id=\"T_1e5b7_row0_col4\" class=\"data row0 col4\" >0.00</td>\n",
              "      <td id=\"T_1e5b7_row0_col5\" class=\"data row0 col5\" >0.00</td>\n",
              "      <td id=\"T_1e5b7_row0_col6\" class=\"data row0 col6\" >16,013,230.75</td>\n",
              "    </tr>\n",
              "  </tbody>\n",
              "</table>\n"
            ],
            "text/plain": [
              "<pandas.io.formats.style.Styler at 0x1558a1540>"
            ]
          },
          "execution_count": 26,
          "metadata": {},
          "output_type": "execute_result"
        }
      ],
      "source": [
        "# Project totals at the medium level\n",
        "style(metrics.project_fixed_costs(frequency=\"project\", resolution=\"medium\"))"
      ]
    },
    {
      "cell_type": "code",
      "execution_count": 27,
      "id": "32384dd3",
      "metadata": {
        "tags": [
          "output_scroll"
        ]
      },
      "outputs": [
        {
          "data": {
            "text/html": [
              "<style type=\"text/css\">\n",
              "</style>\n",
              "<table id=\"T_35745\" style=\"font-size: 14px; grid-column-count: 6\">\n",
              "  <thead>\n",
              "    <tr>\n",
              "      <th class=\"blank level0\" >&nbsp;</th>\n",
              "      <th id=\"T_35745_level0_col0\" class=\"col_heading level0 col0\" >project_management_administration</th>\n",
              "      <th id=\"T_35745_level0_col1\" class=\"col_heading level0 col1\" >marine_management</th>\n",
              "      <th id=\"T_35745_level0_col2\" class=\"col_heading level0 col2\" >weather_forecasting</th>\n",
              "      <th id=\"T_35745_level0_col3\" class=\"col_heading level0 col3\" >condition_monitoring</th>\n",
              "      <th id=\"T_35745_level0_col4\" class=\"col_heading level0 col4\" >brokers_fee</th>\n",
              "      <th id=\"T_35745_level0_col5\" class=\"col_heading level0 col5\" >operations_all_risk</th>\n",
              "      <th id=\"T_35745_level0_col6\" class=\"col_heading level0 col6\" >business_interruption</th>\n",
              "      <th id=\"T_35745_level0_col7\" class=\"col_heading level0 col7\" >third_party_liability</th>\n",
              "      <th id=\"T_35745_level0_col8\" class=\"col_heading level0 col8\" >storm_coverage</th>\n",
              "      <th id=\"T_35745_level0_col9\" class=\"col_heading level0 col9\" >submerge_land_lease_costs</th>\n",
              "      <th id=\"T_35745_level0_col10\" class=\"col_heading level0 col10\" >transmission_charges_rights</th>\n",
              "      <th id=\"T_35745_level0_col11\" class=\"col_heading level0 col11\" >operating_facilities</th>\n",
              "      <th id=\"T_35745_level0_col12\" class=\"col_heading level0 col12\" >environmental_health_safety_monitoring</th>\n",
              "      <th id=\"T_35745_level0_col13\" class=\"col_heading level0 col13\" >onshore_electrical_maintenance</th>\n",
              "      <th id=\"T_35745_level0_col14\" class=\"col_heading level0 col14\" >labor</th>\n",
              "    </tr>\n",
              "  </thead>\n",
              "  <tbody>\n",
              "    <tr>\n",
              "      <th id=\"T_35745_level0_row0\" class=\"row_heading level0 row0\" >0</th>\n",
              "      <td id=\"T_35745_row0_col0\" class=\"data row0 col0\" >0.00</td>\n",
              "      <td id=\"T_35745_row0_col1\" class=\"data row0 col1\" >0.00</td>\n",
              "      <td id=\"T_35745_row0_col2\" class=\"data row0 col2\" >0.00</td>\n",
              "      <td id=\"T_35745_row0_col3\" class=\"data row0 col3\" >0.00</td>\n",
              "      <td id=\"T_35745_row0_col4\" class=\"data row0 col4\" >0.00</td>\n",
              "      <td id=\"T_35745_row0_col5\" class=\"data row0 col5\" >0.00</td>\n",
              "      <td id=\"T_35745_row0_col6\" class=\"data row0 col6\" >0.00</td>\n",
              "      <td id=\"T_35745_row0_col7\" class=\"data row0 col7\" >0.00</td>\n",
              "      <td id=\"T_35745_row0_col8\" class=\"data row0 col8\" >0.00</td>\n",
              "      <td id=\"T_35745_row0_col9\" class=\"data row0 col9\" >0.00</td>\n",
              "      <td id=\"T_35745_row0_col10\" class=\"data row0 col10\" >0.00</td>\n",
              "      <td id=\"T_35745_row0_col11\" class=\"data row0 col11\" >0.00</td>\n",
              "      <td id=\"T_35745_row0_col12\" class=\"data row0 col12\" >0.00</td>\n",
              "      <td id=\"T_35745_row0_col13\" class=\"data row0 col13\" >0.00</td>\n",
              "      <td id=\"T_35745_row0_col14\" class=\"data row0 col14\" >16,013,230.75</td>\n",
              "    </tr>\n",
              "  </tbody>\n",
              "</table>\n"
            ],
            "text/plain": [
              "<pandas.io.formats.style.Styler at 0x1458a52d0>"
            ]
          },
          "execution_count": 27,
          "metadata": {},
          "output_type": "execute_result"
        }
      ],
      "source": [
        "# Project totals at the lowest level\n",
        "style(metrics.project_fixed_costs(frequency=\"project\", resolution=\"high\"))"
      ]
    },
    {
      "cell_type": "markdown",
      "id": "aefe0b7a",
      "metadata": {},
      "source": [
        "## OpEx\n",
        "\n",
        "Computes the total cost of all operating expenditures for the duration of the simulation, including fixed costs. For further documentation, see the API docs here: {py:meth}`wombat.core.post_processor.Metrics.opex`.\n",
        "**Inputs**:\n",
        "\n",
        "- `frequency`, as explained [above](#common-parameter-explanations), options: \"project\", \"annual\", \"monthly\", and \"month-year\"\n",
        "\n",
        "- `by_category`\n",
        "  - `True` shows the port fees, fixed costs, labor costs, equipment costs, and materials costs in addition the total OpEx\n",
        "  - `False` shows only the total OpEx\n",
        "\n",
        "**Example Usage**:"
      ]
    },
    {
      "cell_type": "code",
      "execution_count": 28,
      "id": "b3ed912c",
      "metadata": {
        "tags": [
          "output_scroll"
        ]
      },
      "outputs": [
        {
          "data": {
            "text/html": [
              "<style type=\"text/css\">\n",
              "</style>\n",
              "<table id=\"T_1d8d0\" style=\"font-size: 14px; grid-column-count: 6\">\n",
              "  <thead>\n",
              "    <tr>\n",
              "      <th class=\"blank level0\" >&nbsp;</th>\n",
              "      <th id=\"T_1d8d0_level0_col0\" class=\"col_heading level0 col0\" >OpEx</th>\n",
              "    </tr>\n",
              "    <tr>\n",
              "      <th class=\"index_name level0\" >year</th>\n",
              "      <th class=\"blank col0\" >&nbsp;</th>\n",
              "    </tr>\n",
              "  </thead>\n",
              "  <tbody>\n",
              "    <tr>\n",
              "      <th id=\"T_1d8d0_level0_row0\" class=\"row_heading level0 row0\" >2003</th>\n",
              "      <td id=\"T_1d8d0_row0_col0\" class=\"data row0 col0\" >11,190,043.81</td>\n",
              "    </tr>\n",
              "    <tr>\n",
              "      <th id=\"T_1d8d0_level0_row1\" class=\"row_heading level0 row1\" >2004</th>\n",
              "      <td id=\"T_1d8d0_row1_col0\" class=\"data row1 col0\" >12,578,198.45</td>\n",
              "    </tr>\n",
              "    <tr>\n",
              "      <th id=\"T_1d8d0_level0_row2\" class=\"row_heading level0 row2\" >2005</th>\n",
              "      <td id=\"T_1d8d0_row2_col0\" class=\"data row2 col0\" >18,973,083.27</td>\n",
              "    </tr>\n",
              "    <tr>\n",
              "      <th id=\"T_1d8d0_level0_row3\" class=\"row_heading level0 row3\" >2006</th>\n",
              "      <td id=\"T_1d8d0_row3_col0\" class=\"data row3 col0\" >12,238,075.03</td>\n",
              "    </tr>\n",
              "    <tr>\n",
              "      <th id=\"T_1d8d0_level0_row4\" class=\"row_heading level0 row4\" >2007</th>\n",
              "      <td id=\"T_1d8d0_row4_col0\" class=\"data row4 col0\" >24,657,109.64</td>\n",
              "    </tr>\n",
              "    <tr>\n",
              "      <th id=\"T_1d8d0_level0_row5\" class=\"row_heading level0 row5\" >2008</th>\n",
              "      <td id=\"T_1d8d0_row5_col0\" class=\"data row5 col0\" >19,938,091.18</td>\n",
              "    </tr>\n",
              "    <tr>\n",
              "      <th id=\"T_1d8d0_level0_row6\" class=\"row_heading level0 row6\" >2009</th>\n",
              "      <td id=\"T_1d8d0_row6_col0\" class=\"data row6 col0\" >20,101,009.33</td>\n",
              "    </tr>\n",
              "    <tr>\n",
              "      <th id=\"T_1d8d0_level0_row7\" class=\"row_heading level0 row7\" >2010</th>\n",
              "      <td id=\"T_1d8d0_row7_col0\" class=\"data row7 col0\" >28,449,354.37</td>\n",
              "    </tr>\n",
              "    <tr>\n",
              "      <th id=\"T_1d8d0_level0_row8\" class=\"row_heading level0 row8\" >2011</th>\n",
              "      <td id=\"T_1d8d0_row8_col0\" class=\"data row8 col0\" >18,003,485.12</td>\n",
              "    </tr>\n",
              "    <tr>\n",
              "      <th id=\"T_1d8d0_level0_row9\" class=\"row_heading level0 row9\" >2012</th>\n",
              "      <td id=\"T_1d8d0_row9_col0\" class=\"data row9 col0\" >27,218,556.22</td>\n",
              "    </tr>\n",
              "  </tbody>\n",
              "</table>\n"
            ],
            "text/plain": [
              "<pandas.io.formats.style.Styler at 0x145b0a2c0>"
            ]
          },
          "execution_count": 28,
          "metadata": {},
          "output_type": "execute_result"
        }
      ],
      "source": [
        "style(metrics.opex(\"annual\"))"
      ]
    },
    {
      "cell_type": "code",
      "execution_count": 29,
      "id": "b13913a1",
      "metadata": {
        "tags": [
          "output_scroll"
        ]
      },
      "outputs": [
        {
          "data": {
            "text/html": [
              "<style type=\"text/css\">\n",
              "</style>\n",
              "<table id=\"T_35116\" style=\"font-size: 14px; grid-column-count: 6\">\n",
              "  <thead>\n",
              "    <tr>\n",
              "      <th class=\"blank level0\" >&nbsp;</th>\n",
              "      <th id=\"T_35116_level0_col0\" class=\"col_heading level0 col0\" >operations</th>\n",
              "      <th id=\"T_35116_level0_col1\" class=\"col_heading level0 col1\" >port_fees</th>\n",
              "      <th id=\"T_35116_level0_col2\" class=\"col_heading level0 col2\" >equipment_cost</th>\n",
              "      <th id=\"T_35116_level0_col3\" class=\"col_heading level0 col3\" >total_labor_cost</th>\n",
              "      <th id=\"T_35116_level0_col4\" class=\"col_heading level0 col4\" >materials_cost</th>\n",
              "      <th id=\"T_35116_level0_col5\" class=\"col_heading level0 col5\" >OpEx</th>\n",
              "    </tr>\n",
              "    <tr>\n",
              "      <th class=\"index_name level0\" >year</th>\n",
              "      <th class=\"blank col0\" >&nbsp;</th>\n",
              "      <th class=\"blank col1\" >&nbsp;</th>\n",
              "      <th class=\"blank col2\" >&nbsp;</th>\n",
              "      <th class=\"blank col3\" >&nbsp;</th>\n",
              "      <th class=\"blank col4\" >&nbsp;</th>\n",
              "      <th class=\"blank col5\" >&nbsp;</th>\n",
              "    </tr>\n",
              "  </thead>\n",
              "  <tbody>\n",
              "    <tr>\n",
              "      <th id=\"T_35116_level0_row0\" class=\"row_heading level0 row0\" >2003</th>\n",
              "      <td id=\"T_35116_row0_col0\" class=\"data row0 col0\" >1,600,008.00</td>\n",
              "      <td id=\"T_35116_row0_col1\" class=\"data row0 col1\" >0</td>\n",
              "      <td id=\"T_35116_row0_col2\" class=\"data row0 col2\" >7,235,535.81</td>\n",
              "      <td id=\"T_35116_row0_col3\" class=\"data row0 col3\" >0</td>\n",
              "      <td id=\"T_35116_row0_col4\" class=\"data row0 col4\" >2,354,500</td>\n",
              "      <td id=\"T_35116_row0_col5\" class=\"data row0 col5\" >11,190,043.81</td>\n",
              "    </tr>\n",
              "    <tr>\n",
              "      <th id=\"T_35116_level0_row1\" class=\"row_heading level0 row1\" >2004</th>\n",
              "      <td id=\"T_35116_row1_col0\" class=\"data row1 col0\" >1,604,391.58</td>\n",
              "      <td id=\"T_35116_row1_col1\" class=\"data row1 col1\" >0</td>\n",
              "      <td id=\"T_35116_row1_col2\" class=\"data row1 col2\" >7,306,806.87</td>\n",
              "      <td id=\"T_35116_row1_col3\" class=\"data row1 col3\" >0</td>\n",
              "      <td id=\"T_35116_row1_col4\" class=\"data row1 col4\" >3,667,000</td>\n",
              "      <td id=\"T_35116_row1_col5\" class=\"data row1 col5\" >12,578,198.45</td>\n",
              "    </tr>\n",
              "    <tr>\n",
              "      <th id=\"T_35116_level0_row2\" class=\"row_heading level0 row2\" >2005</th>\n",
              "      <td id=\"T_35116_row2_col0\" class=\"data row2 col0\" >1,600,008.00</td>\n",
              "      <td id=\"T_35116_row2_col1\" class=\"data row2 col1\" >0</td>\n",
              "      <td id=\"T_35116_row2_col2\" class=\"data row2 col2\" >12,359,075.27</td>\n",
              "      <td id=\"T_35116_row2_col3\" class=\"data row2 col3\" >0</td>\n",
              "      <td id=\"T_35116_row2_col4\" class=\"data row2 col4\" >5,014,000</td>\n",
              "      <td id=\"T_35116_row2_col5\" class=\"data row2 col5\" >18,973,083.27</td>\n",
              "    </tr>\n",
              "    <tr>\n",
              "      <th id=\"T_35116_level0_row3\" class=\"row_heading level0 row3\" >2006</th>\n",
              "      <td id=\"T_35116_row3_col0\" class=\"data row3 col0\" >1,600,008.00</td>\n",
              "      <td id=\"T_35116_row3_col1\" class=\"data row3 col1\" >0</td>\n",
              "      <td id=\"T_35116_row3_col2\" class=\"data row3 col2\" >7,239,567.03</td>\n",
              "      <td id=\"T_35116_row3_col3\" class=\"data row3 col3\" >0</td>\n",
              "      <td id=\"T_35116_row3_col4\" class=\"data row3 col4\" >3,398,500</td>\n",
              "      <td id=\"T_35116_row3_col5\" class=\"data row3 col5\" >12,238,075.03</td>\n",
              "    </tr>\n",
              "    <tr>\n",
              "      <th id=\"T_35116_level0_row4\" class=\"row_heading level0 row4\" >2007</th>\n",
              "      <td id=\"T_35116_row4_col0\" class=\"data row4 col0\" >1,600,008.00</td>\n",
              "      <td id=\"T_35116_row4_col1\" class=\"data row4 col1\" >0</td>\n",
              "      <td id=\"T_35116_row4_col2\" class=\"data row4 col2\" >17,203,101.64</td>\n",
              "      <td id=\"T_35116_row4_col3\" class=\"data row4 col3\" >0</td>\n",
              "      <td id=\"T_35116_row4_col4\" class=\"data row4 col4\" >5,854,000</td>\n",
              "      <td id=\"T_35116_row4_col5\" class=\"data row4 col5\" >24,657,109.64</td>\n",
              "    </tr>\n",
              "    <tr>\n",
              "      <th id=\"T_35116_level0_row5\" class=\"row_heading level0 row5\" >2008</th>\n",
              "      <td id=\"T_35116_row5_col0\" class=\"data row5 col0\" >1,604,391.58</td>\n",
              "      <td id=\"T_35116_row5_col1\" class=\"data row5 col1\" >0</td>\n",
              "      <td id=\"T_35116_row5_col2\" class=\"data row5 col2\" >12,361,199.60</td>\n",
              "      <td id=\"T_35116_row5_col3\" class=\"data row5 col3\" >0</td>\n",
              "      <td id=\"T_35116_row5_col4\" class=\"data row5 col4\" >5,972,500</td>\n",
              "      <td id=\"T_35116_row5_col5\" class=\"data row5 col5\" >19,938,091.18</td>\n",
              "    </tr>\n",
              "    <tr>\n",
              "      <th id=\"T_35116_level0_row6\" class=\"row_heading level0 row6\" >2009</th>\n",
              "      <td id=\"T_35116_row6_col0\" class=\"data row6 col0\" >1,600,008.00</td>\n",
              "      <td id=\"T_35116_row6_col1\" class=\"data row6 col1\" >0</td>\n",
              "      <td id=\"T_35116_row6_col2\" class=\"data row6 col2\" >12,637,501.33</td>\n",
              "      <td id=\"T_35116_row6_col3\" class=\"data row6 col3\" >0</td>\n",
              "      <td id=\"T_35116_row6_col4\" class=\"data row6 col4\" >5,863,500</td>\n",
              "      <td id=\"T_35116_row6_col5\" class=\"data row6 col5\" >20,101,009.33</td>\n",
              "    </tr>\n",
              "    <tr>\n",
              "      <th id=\"T_35116_level0_row7\" class=\"row_heading level0 row7\" >2010</th>\n",
              "      <td id=\"T_35116_row7_col0\" class=\"data row7 col0\" >1,600,008.00</td>\n",
              "      <td id=\"T_35116_row7_col1\" class=\"data row7 col1\" >0</td>\n",
              "      <td id=\"T_35116_row7_col2\" class=\"data row7 col2\" >18,320,846.37</td>\n",
              "      <td id=\"T_35116_row7_col3\" class=\"data row7 col3\" >0</td>\n",
              "      <td id=\"T_35116_row7_col4\" class=\"data row7 col4\" >8,528,500</td>\n",
              "      <td id=\"T_35116_row7_col5\" class=\"data row7 col5\" >28,449,354.37</td>\n",
              "    </tr>\n",
              "    <tr>\n",
              "      <th id=\"T_35116_level0_row8\" class=\"row_heading level0 row8\" >2011</th>\n",
              "      <td id=\"T_35116_row8_col0\" class=\"data row8 col0\" >1,600,008.00</td>\n",
              "      <td id=\"T_35116_row8_col1\" class=\"data row8 col1\" >0</td>\n",
              "      <td id=\"T_35116_row8_col2\" class=\"data row8 col2\" >12,080,977.12</td>\n",
              "      <td id=\"T_35116_row8_col3\" class=\"data row8 col3\" >0</td>\n",
              "      <td id=\"T_35116_row8_col4\" class=\"data row8 col4\" >4,322,500</td>\n",
              "      <td id=\"T_35116_row8_col5\" class=\"data row8 col5\" >18,003,485.12</td>\n",
              "    </tr>\n",
              "    <tr>\n",
              "      <th id=\"T_35116_level0_row9\" class=\"row_heading level0 row9\" >2012</th>\n",
              "      <td id=\"T_35116_row9_col0\" class=\"data row9 col0\" >1,604,391.58</td>\n",
              "      <td id=\"T_35116_row9_col1\" class=\"data row9 col1\" >0</td>\n",
              "      <td id=\"T_35116_row9_col2\" class=\"data row9 col2\" >17,786,164.64</td>\n",
              "      <td id=\"T_35116_row9_col3\" class=\"data row9 col3\" >0</td>\n",
              "      <td id=\"T_35116_row9_col4\" class=\"data row9 col4\" >7,828,000</td>\n",
              "      <td id=\"T_35116_row9_col5\" class=\"data row9 col5\" >27,218,556.22</td>\n",
              "    </tr>\n",
              "  </tbody>\n",
              "</table>\n"
            ],
            "text/plain": [
              "<pandas.io.formats.style.Styler at 0x1458a6770>"
            ]
          },
          "execution_count": 29,
          "metadata": {},
          "output_type": "execute_result"
        }
      ],
      "source": [
        "style(metrics.opex(\"annual\", by_category=True))"
      ]
    },
    {
      "cell_type": "markdown",
      "id": "95435c78",
      "metadata": {},
      "source": [
        "## Process Times\n",
        "\n",
        "Computes the total number of hours spent from repair request submission to completion, performing repairs, and the number of rquest for each repair category. For further documentation, see the API docs here: {py:meth}`wombat.core.post_processor.Metrics.process_times`.\n",
        "\n",
        "**Example Usage**:"
      ]
    },
    {
      "cell_type": "code",
      "execution_count": 30,
      "id": "9094990c",
      "metadata": {
        "tags": [
          "output_scroll"
        ]
      },
      "outputs": [
        {
          "data": {
            "text/html": [
              "<style type=\"text/css\">\n",
              "</style>\n",
              "<table id=\"T_5720b\" style=\"font-size: 14px; grid-column-count: 6\">\n",
              "  <thead>\n",
              "    <tr>\n",
              "      <th class=\"blank level0\" >&nbsp;</th>\n",
              "      <th id=\"T_5720b_level0_col0\" class=\"col_heading level0 col0\" >time_to_completion</th>\n",
              "      <th id=\"T_5720b_level0_col1\" class=\"col_heading level0 col1\" >process_time</th>\n",
              "      <th id=\"T_5720b_level0_col2\" class=\"col_heading level0 col2\" >downtime</th>\n",
              "      <th id=\"T_5720b_level0_col3\" class=\"col_heading level0 col3\" >time_to_start</th>\n",
              "      <th id=\"T_5720b_level0_col4\" class=\"col_heading level0 col4\" >N</th>\n",
              "    </tr>\n",
              "    <tr>\n",
              "      <th class=\"index_name level0\" >category</th>\n",
              "      <th class=\"blank col0\" >&nbsp;</th>\n",
              "      <th class=\"blank col1\" >&nbsp;</th>\n",
              "      <th class=\"blank col2\" >&nbsp;</th>\n",
              "      <th class=\"blank col3\" >&nbsp;</th>\n",
              "      <th class=\"blank col4\" >&nbsp;</th>\n",
              "    </tr>\n",
              "  </thead>\n",
              "  <tbody>\n",
              "    <tr>\n",
              "      <th id=\"T_5720b_level0_row0\" class=\"row_heading level0 row0\" >annual service</th>\n",
              "      <td id=\"T_5720b_row0_col0\" class=\"data row0 col0\" >5,117,309.00</td>\n",
              "      <td id=\"T_5720b_row0_col1\" class=\"data row0 col1\" >80,028.63</td>\n",
              "      <td id=\"T_5720b_row0_col2\" class=\"data row0 col2\" >110,947.92</td>\n",
              "      <td id=\"T_5720b_row0_col3\" class=\"data row0 col3\" >3,460,152.83</td>\n",
              "      <td id=\"T_5720b_row0_col4\" class=\"data row0 col4\" >1,028</td>\n",
              "    </tr>\n",
              "    <tr>\n",
              "      <th id=\"T_5720b_level0_row1\" class=\"row_heading level0 row1\" >major repair</th>\n",
              "      <td id=\"T_5720b_row1_col0\" class=\"data row1 col0\" >111,654.40</td>\n",
              "      <td id=\"T_5720b_row1_col1\" class=\"data row1 col1\" >2,645.50</td>\n",
              "      <td id=\"T_5720b_row1_col2\" class=\"data row1 col2\" >2,582.00</td>\n",
              "      <td id=\"T_5720b_row1_col3\" class=\"data row1 col3\" >108,530.72</td>\n",
              "      <td id=\"T_5720b_row1_col4\" class=\"data row1 col4\" >39</td>\n",
              "    </tr>\n",
              "    <tr>\n",
              "      <th id=\"T_5720b_level0_row2\" class=\"row_heading level0 row2\" >major replacement</th>\n",
              "      <td id=\"T_5720b_row2_col0\" class=\"data row2 col0\" >176,561.68</td>\n",
              "      <td id=\"T_5720b_row2_col1\" class=\"data row2 col1\" >10,401.71</td>\n",
              "      <td id=\"T_5720b_row2_col2\" class=\"data row2 col2\" >16,813.93</td>\n",
              "      <td id=\"T_5720b_row2_col3\" class=\"data row2 col3\" >164,935.51</td>\n",
              "      <td id=\"T_5720b_row2_col4\" class=\"data row2 col4\" >99</td>\n",
              "    </tr>\n",
              "    <tr>\n",
              "      <th id=\"T_5720b_level0_row3\" class=\"row_heading level0 row3\" >manual reset</th>\n",
              "      <td id=\"T_5720b_row3_col0\" class=\"data row3 col0\" >1,539,657.19</td>\n",
              "      <td id=\"T_5720b_row3_col1\" class=\"data row3 col1\" >82,260.01</td>\n",
              "      <td id=\"T_5720b_row3_col2\" class=\"data row3 col2\" >104,677.13</td>\n",
              "      <td id=\"T_5720b_row3_col3\" class=\"data row3 col3\" >1,399,064.45</td>\n",
              "      <td id=\"T_5720b_row3_col4\" class=\"data row3 col4\" >8,637</td>\n",
              "    </tr>\n",
              "    <tr>\n",
              "      <th id=\"T_5720b_level0_row4\" class=\"row_heading level0 row4\" >medium repair</th>\n",
              "      <td id=\"T_5720b_row4_col0\" class=\"data row4 col0\" >26,637.81</td>\n",
              "      <td id=\"T_5720b_row4_col1\" class=\"data row4 col1\" >19,125.85</td>\n",
              "      <td id=\"T_5720b_row4_col2\" class=\"data row4 col2\" >19,260.78</td>\n",
              "      <td id=\"T_5720b_row4_col3\" class=\"data row4 col3\" >7,977.81</td>\n",
              "      <td id=\"T_5720b_row4_col4\" class=\"data row4 col4\" >321</td>\n",
              "    </tr>\n",
              "    <tr>\n",
              "      <th id=\"T_5720b_level0_row5\" class=\"row_heading level0 row5\" >minor repair</th>\n",
              "      <td id=\"T_5720b_row5_col0\" class=\"data row5 col0\" >196,138.95</td>\n",
              "      <td id=\"T_5720b_row5_col1\" class=\"data row5 col1\" >64,269.97</td>\n",
              "      <td id=\"T_5720b_row5_col2\" class=\"data row5 col2\" >62,925.82</td>\n",
              "      <td id=\"T_5720b_row5_col3\" class=\"data row5 col3\" >115,206.43</td>\n",
              "      <td id=\"T_5720b_row5_col4\" class=\"data row5 col4\" >3,391</td>\n",
              "    </tr>\n",
              "  </tbody>\n",
              "</table>\n"
            ],
            "text/plain": [
              "<pandas.io.formats.style.Styler at 0x145a17700>"
            ]
          },
          "execution_count": 30,
          "metadata": {},
          "output_type": "execute_result"
        }
      ],
      "source": [
        "style(metrics.process_times())"
      ]
    },
    {
      "cell_type": "markdown",
      "id": "891639e2",
      "metadata": {},
      "source": [
        "## Power Production\n",
        "\n",
        "Computes the total power production for the wind farm. For further documentation, see the API docs here: {py:meth}`wombat.core.post_processor.Metrics.power_production`.\n",
        "**Inputs**:\n",
        "\n",
        "- `frequency`, as explained [above](#common-parameter-explanations), options: \"project\", \"annual\", \"monthly\", and \"month-year\"\n",
        "- `by`, as explained [above](#common-parameter-explanations) options: \"windfarm\" and \"turbine\"\n",
        "- `units`\n",
        "  - \"kwh\": kilowatt-hours (kWh)\n",
        "  - \"mwh\": megawatt-hours (MWh)\n",
        "  - \"gwh\": gigawatt-hours (GWh)\n",
        "\n",
        "**Example Usage**:"
      ]
    },
    {
      "cell_type": "code",
      "execution_count": 31,
      "id": "9e43557c",
      "metadata": {
        "tags": [
          "output_scroll"
        ]
      },
      "outputs": [
        {
          "data": {
            "text/html": [
              "<style type=\"text/css\">\n",
              "</style>\n",
              "<table id=\"T_7a917\" style=\"font-size: 14px; grid-column-count: 6\">\n",
              "  <thead>\n",
              "    <tr>\n",
              "      <th class=\"blank level0\" >&nbsp;</th>\n",
              "      <th id=\"T_7a917_level0_col0\" class=\"col_heading level0 col0\" >windfarm</th>\n",
              "    </tr>\n",
              "  </thead>\n",
              "  <tbody>\n",
              "    <tr>\n",
              "      <th id=\"T_7a917_level0_row0\" class=\"row_heading level0 row0\" >Project Energy Production (kWh)</th>\n",
              "      <td id=\"T_7a917_row0_col0\" class=\"data row0 col0\" >9,683,839,445.50</td>\n",
              "    </tr>\n",
              "  </tbody>\n",
              "</table>\n"
            ],
            "text/plain": [
              "<pandas.io.formats.style.Styler at 0x1558b27d0>"
            ]
          },
          "execution_count": 31,
          "metadata": {},
          "output_type": "execute_result"
        }
      ],
      "source": [
        "# Project totals, in kWh, at the wind farm level\n",
        "style(metrics.power_production(frequency=\"project\", by=\"windfarm\", units=\"kwh\"))"
      ]
    },
    {
      "cell_type": "code",
      "execution_count": 32,
      "id": "28f4030b",
      "metadata": {
        "tags": [
          "output_scroll"
        ]
      },
      "outputs": [
        {
          "data": {
            "text/html": [
              "<style type=\"text/css\">\n",
              "</style>\n",
              "<table id=\"T_14925\" style=\"font-size: 14px; grid-column-count: 6\">\n",
              "  <thead>\n",
              "    <tr>\n",
              "      <th class=\"blank level0\" >&nbsp;</th>\n",
              "      <th id=\"T_14925_level0_col0\" class=\"col_heading level0 col0\" >windfarm</th>\n",
              "    </tr>\n",
              "  </thead>\n",
              "  <tbody>\n",
              "    <tr>\n",
              "      <th id=\"T_14925_level0_row0\" class=\"row_heading level0 row0\" >Project Energy Production (MWh)</th>\n",
              "      <td id=\"T_14925_row0_col0\" class=\"data row0 col0\" >9,683,839.45</td>\n",
              "    </tr>\n",
              "  </tbody>\n",
              "</table>\n"
            ],
            "text/plain": [
              "<pandas.io.formats.style.Styler at 0x1459b19f0>"
            ]
          },
          "execution_count": 32,
          "metadata": {},
          "output_type": "execute_result"
        }
      ],
      "source": [
        "# Project totals, in MWh, at the wind farm level\n",
        "style(metrics.power_production(frequency=\"project\", units=\"mwh\"))"
      ]
    },
    {
      "cell_type": "code",
      "execution_count": 33,
      "id": "478e9e29",
      "metadata": {
        "tags": [
          "output_scroll"
        ]
      },
      "outputs": [
        {
          "data": {
            "text/html": [
              "<style type=\"text/css\">\n",
              "</style>\n",
              "<table id=\"T_9be24\" style=\"font-size: 14px; grid-column-count: 6\">\n",
              "  <thead>\n",
              "    <tr>\n",
              "      <th class=\"blank level0\" >&nbsp;</th>\n",
              "      <th id=\"T_9be24_level0_col0\" class=\"col_heading level0 col0\" >windfarm</th>\n",
              "    </tr>\n",
              "  </thead>\n",
              "  <tbody>\n",
              "    <tr>\n",
              "      <th id=\"T_9be24_level0_row0\" class=\"row_heading level0 row0\" >Project Energy Production (GWh)</th>\n",
              "      <td id=\"T_9be24_row0_col0\" class=\"data row0 col0\" >9,683.84</td>\n",
              "    </tr>\n",
              "  </tbody>\n",
              "</table>\n"
            ],
            "text/plain": [
              "<pandas.io.formats.style.Styler at 0x1558b3070>"
            ]
          },
          "execution_count": 33,
          "metadata": {},
          "output_type": "execute_result"
        }
      ],
      "source": [
        "# Project totals, in GWh, at the wind farm level\n",
        "style(metrics.power_production(frequency=\"project\"))"
      ]
    },
    {
      "cell_type": "markdown",
      "id": "d2bbcd68",
      "metadata": {},
      "source": [
        "## Net Present Value\n",
        "\n",
        "Calcualtes the net present value (NPV) for the project, as $NPV = (Power * OfftakePrice - OpEx) / (1 + DiscountRate)$.\n",
        "\n",
        "For further documentation, see the API docs here: {py:meth}`wombat.core.post_processor.Metrics.npv`.\n",
        "\n",
        "**Inputs**:\n",
        "\n",
        "- `frequency`, as explained [above](#common-parameter-explanations), options: \"project\", \"annual\", \"monthly\", and \"month-year\"\n",
        "- `discount_rate`: The rate of return that could be earned on alternative investments, by default 0.025.\n",
        "- `offtake_price`: Price of energy, per MWh, by default 80."
      ]
    },
    {
      "cell_type": "code",
      "execution_count": 34,
      "id": "54a210bc",
      "metadata": {
        "tags": [
          "output_scroll"
        ]
      },
      "outputs": [
        {
          "data": {
            "text/html": [
              "<style type=\"text/css\">\n",
              "</style>\n",
              "<table id=\"T_48f90\" style=\"font-size: 14px; grid-column-count: 6\">\n",
              "  <thead>\n",
              "    <tr>\n",
              "      <th class=\"blank level0\" >&nbsp;</th>\n",
              "      <th id=\"T_48f90_level0_col0\" class=\"col_heading level0 col0\" >OpEx</th>\n",
              "    </tr>\n",
              "    <tr>\n",
              "      <th class=\"index_name level0\" >year</th>\n",
              "      <th class=\"blank col0\" >&nbsp;</th>\n",
              "    </tr>\n",
              "  </thead>\n",
              "  <tbody>\n",
              "    <tr>\n",
              "      <th id=\"T_48f90_level0_row0\" class=\"row_heading level0 row0\" >2003</th>\n",
              "      <td id=\"T_48f90_row0_col0\" class=\"data row0 col0\" >11,190,043.81</td>\n",
              "    </tr>\n",
              "    <tr>\n",
              "      <th id=\"T_48f90_level0_row1\" class=\"row_heading level0 row1\" >2004</th>\n",
              "      <td id=\"T_48f90_row1_col0\" class=\"data row1 col0\" >12,578,198.45</td>\n",
              "    </tr>\n",
              "    <tr>\n",
              "      <th id=\"T_48f90_level0_row2\" class=\"row_heading level0 row2\" >2005</th>\n",
              "      <td id=\"T_48f90_row2_col0\" class=\"data row2 col0\" >18,973,083.27</td>\n",
              "    </tr>\n",
              "    <tr>\n",
              "      <th id=\"T_48f90_level0_row3\" class=\"row_heading level0 row3\" >2006</th>\n",
              "      <td id=\"T_48f90_row3_col0\" class=\"data row3 col0\" >12,238,075.03</td>\n",
              "    </tr>\n",
              "    <tr>\n",
              "      <th id=\"T_48f90_level0_row4\" class=\"row_heading level0 row4\" >2007</th>\n",
              "      <td id=\"T_48f90_row4_col0\" class=\"data row4 col0\" >24,657,109.64</td>\n",
              "    </tr>\n",
              "    <tr>\n",
              "      <th id=\"T_48f90_level0_row5\" class=\"row_heading level0 row5\" >2008</th>\n",
              "      <td id=\"T_48f90_row5_col0\" class=\"data row5 col0\" >19,938,091.18</td>\n",
              "    </tr>\n",
              "    <tr>\n",
              "      <th id=\"T_48f90_level0_row6\" class=\"row_heading level0 row6\" >2009</th>\n",
              "      <td id=\"T_48f90_row6_col0\" class=\"data row6 col0\" >20,101,009.33</td>\n",
              "    </tr>\n",
              "    <tr>\n",
              "      <th id=\"T_48f90_level0_row7\" class=\"row_heading level0 row7\" >2010</th>\n",
              "      <td id=\"T_48f90_row7_col0\" class=\"data row7 col0\" >28,449,354.37</td>\n",
              "    </tr>\n",
              "    <tr>\n",
              "      <th id=\"T_48f90_level0_row8\" class=\"row_heading level0 row8\" >2011</th>\n",
              "      <td id=\"T_48f90_row8_col0\" class=\"data row8 col0\" >18,003,485.12</td>\n",
              "    </tr>\n",
              "    <tr>\n",
              "      <th id=\"T_48f90_level0_row9\" class=\"row_heading level0 row9\" >2012</th>\n",
              "      <td id=\"T_48f90_row9_col0\" class=\"data row9 col0\" >27,218,556.22</td>\n",
              "    </tr>\n",
              "  </tbody>\n",
              "</table>\n"
            ],
            "text/plain": [
              "<pandas.io.formats.style.Styler at 0x145a147c0>"
            ]
          },
          "execution_count": 34,
          "metadata": {},
          "output_type": "execute_result"
        }
      ],
      "source": [
        "style(metrics.opex(\"annual\"))"
      ]
    }
  ],
  "metadata": {
    "jupytext": {
      "formats": "md:myst",
      "text_representation": {
        "extension": ".md",
        "format_name": "myst"
      }
    },
    "kernelspec": {
      "display_name": "Python 3",
      "language": "python",
      "name": "python3"
    },
    "language_info": {
      "codemirror_mode": {
        "name": "ipython",
        "version": 3
      },
      "file_extension": ".py",
      "mimetype": "text/x-python",
      "name": "python",
      "nbconvert_exporter": "python",
      "pygments_lexer": "ipython3",
      "version": "3.10.9"
    },
    "source_map": [
      11,
      20,
      39,
      76,
      94,
      140,
      145,
      148,
      153,
      158,
      163,
      168,
      172,
      190,
      196,
      212,
      220,
      235,
      240,
      244,
      256,
      260,
      276,
      281,
      285,
      303,
      308,
      323,
      330,
      335,
      360,
      365,
      369,
      381,
      417,
      440,
      445,
      449,
      463,
      466,
      470,
      477,
      482,
      486,
      501,
      506,
      509,
      517,
      520,
      536,
      541,
      546,
      550,
      565
    ]
  },
  "nbformat": 4,
  "nbformat_minor": 5
}
