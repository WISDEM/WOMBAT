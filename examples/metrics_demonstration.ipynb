{
  "cells": [
    {
      "cell_type": "markdown",
      "id": "e1a7bcf6",
      "metadata": {},
      "source": [
        "(metrics-demo)=\n",
        "# Demonstration of the Available Metrics\n",
        "\n",
        "[![Binder](https://mybinder.org/badge_logo.svg)](https://mybinder.org/v2/gh/WISDEM/WOMBAT/main?filepath=examples)\n",
        "\n",
        "For a complete list of metrics and their documentation, please see the API Metrics\n",
        "[documentation](simulation-api:metrics).\n",
        "\n",
        "This demonstration will rely on the results produced in the \"How To\" notebook and serves\n",
        "as an extension of the API documentation to show what the results will look like\n",
        "depending on what inputs are provided.\n",
        "\n",
        "A Jupyter notebook of this tutorial can be run from\n",
        "`examples/metrics_demonstration.ipynb` locally, or through\n",
        "[binder](https://mybinder.org/v2/gh/WISDEM/WOMBAT/main?filepath=examples)."
      ]
    },
    {
      "cell_type": "code",
      "execution_count": null,
      "id": "8d75805f",
      "metadata": {
        "tags": [
          "output_scroll"
        ]
      },
      "outputs": [],
      "source": [
        "from pprint import pprint\n",
        "from functools import partial\n",
        "\n",
        "import pandas as pd\n",
        "from pandas.io.formats.style import Styler\n",
        "\n",
        "from wombat.core import Simulation, Metrics\n",
        "from wombat.utilities import plot\n",
        "\n",
        "# Clean up the aesthetics for the pandas outputs\n",
        "pd.set_option(\"display.max_rows\", 30)\n",
        "pd.set_option(\"display.max_columns\", 10)\n",
        "style = partial(\n",
        "    Styler,\n",
        "    table_attributes='style=\"font-size: 14px; grid-column-count: 6\"',\n",
        "    precision=2,\n",
        "    thousands=\",\",\n",
        ")"
      ]
    },
    {
      "cell_type": "markdown",
      "id": "fe9240f8",
      "metadata": {},
      "source": [
        "(metrics-demo:toc)=\n",
        "## Table of Contents\n",
        "\n",
        "Below is a list of top-level sections to demonstrate how to use WOMBAT's `Metrics`\n",
        "class methods and an explanation of each individual metric.\n",
        "\n",
        "If you don't see a metric or result computation that is core to your work, please submit\n",
        "an [issue](https://github.com/WISDEM/WOMBAT/issues/new) with details on what the metric\n",
        "is, and how it should be computed.\n",
        "\n",
        "- [Setup](metrics-demo:setup): Running a simulation to gather the results\n",
        "- [Common Parameters](metrics-demo:common-parameters): Explanation of frequently used\n",
        "  parameter settings\n",
        "- [Availability](metrics-demo:availability): Time-based and energy-based availability\n",
        "- [Capacity Factor](metrics-demo:cf): Gross and net capacity factor\n",
        "- [Task Completion Rate](metrics-demo:task-completion): Task completion metrics\n",
        "- [Equipment Costs](metrics-demo:equipment-costs): Cost breakdowns by servicing equipment\n",
        "- [Service Equipment Utilization Rate](metrics-demo:utilization-rate): Utilization\n",
        "  of servicing equipment\n",
        "- [Vessel-Crew Hours at Sea](metrics-demo:vessel-crew-hours): Number of crew or vessel hours\n",
        "  spent at sea\n",
        "- [Number of Tows](metrics-demo:n-tows): Number of tows breakdowns\n",
        "- [Labor Costs](metrics-demo:labor-costs): Breakdown of labor costs\n",
        "- [Equipment and Labor Costs](metrics-demo:equipment-labor-costs): Combined servicing equipment\n",
        "  and labor cost breakdown\n",
        "- [Emissions](metrics-demo:emissions): Emissions of servicing equipment based on activity\n",
        "- [Component Costs](metrics-demo:component-costs): Materials costs\n",
        "- [Fixed Cost Impacts](metrics-demo:fixed-costs): Total fixed costs\n",
        "- [OpEx](metrics-demo:opex): Project OpEx\n",
        "- [Process Times](metrics-demo:process-times): Timing of various stages of repair and maintenance\n",
        "- [Power Production](metrics-demo:power-production): Potential and actually produced power\n",
        "- [Net Present Value](metrics-demo:npv): Project NPV calculator\n",
        "\n",
        "(metrics-demo:setup)=\n",
        "## Setup\n",
        "\n",
        "The simulations from the *How To* notebook are going to be rerun as it is not\n",
        "recommended to create a Metrics class from scratch due to the large number of inputs\n",
        "that are required, and the initialization is provided in the simulation API's run method.\n",
        "\n",
        "To simplify this process, a feature has been added to save the simulation outputs\n",
        "required to generate the Metrics inputs and a method to reload those outputs as inputs."
      ]
    },
    {
      "cell_type": "code",
      "execution_count": null,
      "id": "f9d29c35",
      "metadata": {
        "tags": [
          "output_scroll"
        ]
      },
      "outputs": [],
      "source": [
        "sim = Simulation(\"COREWIND\", \"morro_bay_in_situ.yaml\")\n",
        "\n",
        "# Both of these parameters are True by default for convenience\n",
        "sim.run(create_metrics=True, save_metrics_inputs=True)\n",
        "\n",
        "# Load the metrics data\n",
        "fpath = sim.env.metrics_input_fname.parent\n",
        "fname = sim.env.metrics_input_fname.name\n",
        "metrics = Metrics.from_simulation_outputs(fpath, fname)\n",
        "\n",
        "# Delete the log files now that they're loaded in\n",
        "sim.env.cleanup_log_files()\n",
        "\n",
        "# Alternatively, in this case because the simulation was run, we can use the\n",
        "# following for convenience convenience only\n",
        "metrics = sim.metrics"
      ]
    },
    {
      "cell_type": "markdown",
      "id": "597587b1",
      "metadata": {},
      "source": [
        "(metrics-demo:common-parameters)=\n",
        "## Common Parameter Explanations\n",
        "\n",
        "Before diving into each and every metric, and how they can be customized, it is worth\n",
        "noting some of the most common parameters used throughout, and their meanings to reduce\n",
        "redundancy. The varying output forms are demonstrated in the\n",
        "[availability](metrics-demo:availability) section below.\n",
        "\n",
        "### `frequency`\n",
        "\n",
        "  project\n",
        "  : Computed across the whole simulation, with the resulting `DataFrame` having an empty\n",
        "    index.\n",
        "\n",
        "  annual\n",
        "  : Summary of each year in the simulation, with the resulting `DataFrame` having \"year\"\n",
        "    as the index.\n",
        "\n",
        "  monthly\n",
        "  : Summary of each month of the year, aggregated across years, with the resulting\n",
        "    `DataFrame` having \"month\" as the index.\n",
        "\n",
        "  month-year\n",
        "  : computed on a month-by-year basis, producing the results for every month of the\n",
        "    simulation, with the resulting `DataFrame` having \"year\" and \"month\" as the index.\n",
        "\n",
        "### `by`\n",
        "\n",
        "  windfarm\n",
        "  : Aggregated across all turbines, with the resulting `DataFrame` having only\n",
        "    \"windfarm\" as a column\n",
        "\n",
        "  turbine\n",
        "  : Computed for each turbine, with the resulting `DataFrame` having a column for each\n",
        "    turbine\n",
        "\n",
        "(metrics-demo:availability)=\n",
        "## Availability\n",
        "\n",
        "There are two methods to produce availability, which have their own function calls:\n",
        "\n",
        "- energy: actual power produced divided by potential power produced\n",
        "  - {py:meth}`wombat.core.post_processor.Metrics.production_based_availability`\n",
        "- time: The ratio of all non-zero hours to all hours in the simulation, or the\n",
        "  proportion of the simulation where turbines are operating\n",
        "  - {py:meth}`wombat.core.post_processor.Metrics.time_based_availability`\n",
        "\n",
        "Here, we will go through the various input definitions to get time-based availability data as both methods use the same inputs, and provide outputs in the same format.\n",
        "\n",
        "**Inputs**:\n",
        "\n",
        "- `frequency`, as explained [above](metrics-demo:common-parameters) options: \"project\",\n",
        "  \"annual\", \"monthly\", and \"month-year\"\n",
        "- `by`, as explained [above](metrics-demo:common-parameters) options: \"windfarm\" and\n",
        "  \"turbine\"\n",
        "\n",
        "Below is a demonstration of the variations on `frequency` and `by` for\n",
        "`time_based_availability`."
      ]
    },
    {
      "cell_type": "code",
      "execution_count": null,
      "id": "5dfae77c",
      "metadata": {
        "tags": [
          "output_scroll"
        ]
      },
      "outputs": [],
      "source": [
        "style(metrics.time_based_availability(frequency=\"project\", by=\"windfarm\"))"
      ]
    },
    {
      "cell_type": "code",
      "execution_count": null,
      "id": "09743b79",
      "metadata": {
        "tags": [
          "output_scroll"
        ]
      },
      "outputs": [],
      "source": [
        "style(metrics.production_based_availability(frequency=\"project\", by=\"windfarm\"))"
      ]
    },
    {
      "cell_type": "markdown",
      "id": "281e984a",
      "metadata": {},
      "source": [
        "Note that in the two above examples, that the values are equal. This is due to the fact\n",
        "that the example simulation does not have any operating reduction applied to failures,\n",
        "unless it's a catastrophic failure, so there is no expected difference."
      ]
    },
    {
      "cell_type": "code",
      "execution_count": null,
      "id": "68a6fd2e",
      "metadata": {
        "tags": [
          "output_scroll"
        ]
      },
      "outputs": [],
      "source": [
        "# Demonstrate the by turbine granularity\n",
        "style(metrics.time_based_availability(frequency=\"project\", by=\"turbine\"))"
      ]
    },
    {
      "cell_type": "code",
      "execution_count": null,
      "id": "0c0cef9c",
      "metadata": {
        "tags": [
          "output_scroll"
        ]
      },
      "outputs": [],
      "source": [
        "# Demonstrate the annualized outputs\n",
        "style(metrics.time_based_availability(frequency=\"annual\", by=\"windfarm\"))"
      ]
    },
    {
      "cell_type": "code",
      "execution_count": null,
      "id": "953ee41b",
      "metadata": {
        "tags": [
          "output_scroll"
        ]
      },
      "outputs": [],
      "source": [
        "# Demonstrate the month aggregations\n",
        "style(metrics.time_based_availability(frequency=\"monthly\", by=\"windfarm\"))"
      ]
    },
    {
      "cell_type": "code",
      "execution_count": null,
      "id": "94d88932",
      "metadata": {
        "tags": [
          "output_scroll"
        ]
      },
      "outputs": [],
      "source": [
        "# Demonstrate the granular monthly reporting\n",
        "style(metrics.time_based_availability(frequency=\"month-year\", by=\"windfarm\"))"
      ]
    },
    {
      "cell_type": "markdown",
      "id": "8cde68f9",
      "metadata": {},
      "source": [
        "### Plotting Availability\n",
        "\n",
        "As of v0.9, the ability to plot the wind farm and turbine availability has been enabled\n",
        "as an experimental feature. Please see the [plotting API documentation](plotting) for more details."
      ]
    },
    {
      "cell_type": "code",
      "execution_count": null,
      "id": "3511cf7c",
      "metadata": {
        "tags": [
          "output_scroll"
        ]
      },
      "outputs": [],
      "source": [
        "# Demonstrate the granular monthly reporting\n",
        "plot.plot_farm_availability(sim=sim, which=\"energy\", farm_95_CI=True)"
      ]
    },
    {
      "cell_type": "markdown",
      "id": "23c7ac22",
      "metadata": {},
      "source": [
        "(metrics-demo:cf)=\n",
        "## Capacity Factor\n",
        "\n",
        "The capacity factor is the ratio of actual (net) or potential (gross) energy production\n",
        "divided by the project's capacity. For further documentation, see the API docs here:\n",
        "{py:meth}`wombat.core.post_processor.Metrics.capacity_factor`.\n",
        "\n",
        "**Inputs**:\n",
        "\n",
        "- `which`\n",
        "  - \"net\": net capacity factor, actual production divided by the plant capacity\n",
        "  - \"gross\": gross capacity factor, potential production divided by the plant capacity\n",
        "- `frequency`, as explained [above](metrics-demo:common-parameters), options: \"project\",\n",
        "  \"annual\", \"monthly\", and \"month-year\"\n",
        "- `by`, as explained [above](metrics-demo:common-parameters), options: \"windfarm\" and\n",
        "  \"turbine\"\n",
        "\n",
        "**Example Usage**:"
      ]
    },
    {
      "cell_type": "code",
      "execution_count": null,
      "id": "209e18c9",
      "metadata": {
        "tags": [
          "output_scroll"
        ]
      },
      "outputs": [],
      "source": [
        "net_cf = metrics.capacity_factor(\n",
        "    which=\"net\", frequency=\"project\", by=\"windfarm\"\n",
        ").values[0][0]\n",
        "gross_cf = metrics.capacity_factor(\n",
        "    which=\"gross\", frequency=\"project\", by=\"windfarm\"\n",
        ").values[0][0]\n",
        "print(f\"  Net capacity factor: {net_cf:.2%}\")\n",
        "print(f\"Gross capacity factor: {gross_cf:.2%}\")"
      ]
    },
    {
      "cell_type": "markdown",
      "id": "395de2e1",
      "metadata": {},
      "source": [
        "(metrics-demo:task-completion)=\n",
        "## Task Completion Rate\n",
        "\n",
        "The task completion rate is the ratio of tasks completed aggregated to the desired\n",
        "`frequency`. It is possible to have a >100% completion rate if all maintenance and\n",
        "failure requests submitted in a time period were completed in addition to those that\n",
        "went unfinished in prior time periods. For further documentation, see the API docs here:\n",
        "{py:meth}`wombat.core.post_processor.Metrics.task_completion_rate`.\n",
        "\n",
        "**Inputs**:\n",
        "\n",
        "- `which`\n",
        "  - \"scheduled\": scheduled maintenance only (classified as maintenance tasks in inputs)\n",
        "  - \"unscheduled\": unscheduled maintenance only (classified as failure events in inputs)\n",
        "  - \"both\": Combined completion rate for all tasks\n",
        "- `frequency`, as explained [above](metrics-demo:common-parameters), options: \"project\",\n",
        "  \"annual\", \"monthly\", and \"month-year\"\n",
        "\n",
        "**Example Usage**:"
      ]
    },
    {
      "cell_type": "code",
      "execution_count": null,
      "id": "a7fa8af0",
      "metadata": {
        "tags": [
          "output_scroll"
        ]
      },
      "outputs": [],
      "source": [
        "scheduled = metrics.task_completion_rate(which=\"scheduled\", frequency=\"project\").values[\n",
        "    0\n",
        "][0]\n",
        "unscheduled = metrics.task_completion_rate(\n",
        "    which=\"unscheduled\", frequency=\"project\"\n",
        ").values[0][0]\n",
        "combined = metrics.task_completion_rate(which=\"both\", frequency=\"project\").values[0][0]\n",
        "print(f\"  Scheduled Task Completion Rate: {scheduled:.2%}\")\n",
        "print(f\"Unscheduled Task Completion Rate: {unscheduled:.2%}\")\n",
        "print(f\"    Overall Task Completion Rate: {combined:.2%}\")"
      ]
    },
    {
      "cell_type": "markdown",
      "id": "ca0bc256",
      "metadata": {},
      "source": [
        "(metrics-demo:equipment-costs)=\n",
        "## Equipment Costs\n",
        "\n",
        "Sum of the costs associated with a simulation's servicing equipment, which excludes\n",
        "materials, downtime, etc. For further documentation, see the API docs here:\n",
        "{py:meth}`wombat.core.post_processor.Metrics.equipment_costs`.\n",
        "\n",
        "**Inputs**:\n",
        "\n",
        "- `frequency`, as explained [above](metrics-demo:common-parameters), options: \"project\",\n",
        "  \"annual\", \"monthly\", and \"month-year\"\n",
        "- `by_equipment`\n",
        "  - `True`: Aggregates all equipment into a single cost\n",
        "  - `False`: Computes for each unit of servicing equipment\n",
        "\n",
        "**Example Usage**:"
      ]
    },
    {
      "cell_type": "code",
      "execution_count": null,
      "id": "efa22edb",
      "metadata": {
        "tags": [
          "output_scroll"
        ]
      },
      "outputs": [],
      "source": [
        "# Project total at the whole wind farm level\n",
        "style(metrics.equipment_costs(frequency=\"project\", by_equipment=False))"
      ]
    },
    {
      "cell_type": "code",
      "execution_count": null,
      "id": "d06e2bb1",
      "metadata": {
        "tags": [
          "output_scroll"
        ]
      },
      "outputs": [],
      "source": [
        "# Project totals at servicing equipment level\n",
        "style(metrics.equipment_costs(frequency=\"project\", by_equipment=True))"
      ]
    },
    {
      "cell_type": "markdown",
      "id": "f83bb9dd",
      "metadata": {},
      "source": [
        "(metrics-demo:utilization-rate)=\n",
        "## Service Equipment Utilization Rate\n",
        "\n",
        "Ratio of days when the servicing equipment is in use (not delayed for a whole day due to\n",
        "either weather or lack of repairs to be completed) to the number of days it's present in\n",
        "the simulation. For further documentation, see the API docs here:\n",
        "{py:meth}`wombat.core.post_processor.Metrics.service_equipment_utilization`.\n",
        "\n",
        "**Inputs**:\n",
        "\n",
        "- `frequency`, as explained [above](metrics-demo:common-parameters), options: \"project\"\n",
        "  and \"annual\"\n",
        "\n",
        "**Example Usage**:"
      ]
    },
    {
      "cell_type": "code",
      "execution_count": null,
      "id": "fa20522e",
      "metadata": {
        "tags": [
          "output_scroll"
        ]
      },
      "outputs": [],
      "source": [
        "# Project totals\n",
        "style(metrics.service_equipment_utilization(frequency=\"project\"))"
      ]
    },
    {
      "cell_type": "markdown",
      "id": "5e6887b7",
      "metadata": {},
      "source": [
        "(metrics-demo:vessel-crew-hours)=\n",
        "## Vessel-Crew Hours at Sea\n",
        "\n",
        "The number of vessel hours or crew hours at sea for offshore wind power plant\n",
        "simulations. For further documentation, see the API docs here:\n",
        "{py:meth}`wombat.core.post_processor.Metrics.vessel_crew_hours_at_sea`.\n",
        "\n",
        "**Inputs**:\n",
        "\n",
        "- `frequency`, as explained [above](metrics-demo:common-parameters), options: \"project\",\n",
        "  \"annual\", \"monthly\", and \"month-year\"\n",
        "- `by_equipment`\n",
        "  - `True`: Aggregates all equipment into a single cost\n",
        "  - `False`: Computes for each unit of servicing equipment\n",
        "- `vessel_crew_assumption`: A dictionary of vessel names\n",
        "  (`ServiceEquipment.settings.name`, but also found at `Metrics.service_equipment_names`)\n",
        "  and the number of crew onboard at any given time. The application of this assumption\n",
        "  transforms the results from vessel hours at sea to crew hours at sea.\n",
        "\n",
        "**Example Usage**:"
      ]
    },
    {
      "cell_type": "code",
      "execution_count": null,
      "id": "c4c9c128",
      "metadata": {
        "tags": [
          "output_scroll"
        ]
      },
      "outputs": [],
      "source": [
        "# Project total, not broken out by vessel\n",
        "style(metrics.vessel_crew_hours_at_sea(frequency=\"project\", by_equipment=False))"
      ]
    },
    {
      "cell_type": "code",
      "execution_count": null,
      "id": "0a10e50e",
      "metadata": {
        "tags": [
          "output_scroll"
        ]
      },
      "outputs": [],
      "source": [
        "# Annual project totals, broken out by vessel\n",
        "style(metrics.vessel_crew_hours_at_sea(frequency=\"annual\", by_equipment=True))"
      ]
    },
    {
      "cell_type": "markdown",
      "id": "2b32f071",
      "metadata": {},
      "source": [
        "(metrics-demo:n-tows)=\n",
        "## Number of Tows\n",
        "\n",
        "The number of tows performed during the simulation. If tow-to-port was not used in the\n",
        "simulation, a DataFrame with a single value of 0 will be returned. For further\n",
        "documentation, see the API docs here:\n",
        "{py:meth}`wombat.core.post_processor.Metrics.number_of_tows`.\n",
        "\n",
        "**Inputs**:\n",
        "\n",
        "- `frequency`, as explained [above](metrics-demo:common-parameters), options: \"project\",\n",
        "  \"annual\", \"monthly\", and \"month-year\"\n",
        "- `by_tug`\n",
        "  - `True`: Computed for each tugboat (towing vessel)\n",
        "  - `False`: Aggregates all the tugboats\n",
        "- `by_direction`\n",
        "  - `True`: Computed for each direction a tow was performed (to port or to site)\n",
        "  - `False`: Aggregates to the total number of tows\n",
        "\n",
        "**Example Usage**:"
      ]
    },
    {
      "cell_type": "code",
      "execution_count": null,
      "id": "9529f94c",
      "metadata": {
        "tags": [
          "output_scroll"
        ]
      },
      "outputs": [],
      "source": [
        "# Project Total\n",
        "# NOTE: This example has no towing, so it will return 0\n",
        "style(metrics.number_of_tows(frequency=\"project\"))"
      ]
    },
    {
      "cell_type": "markdown",
      "id": "5342bbb9",
      "metadata": {},
      "source": [
        "(metrics-demo:labor-costs)=\n",
        "## Labor Costs\n",
        "\n",
        "Sum of all labor costs associated with servicing equipment, excluding the labor defined\n",
        "in the fixed costs, which can be broken out by type. For further documentation, see the\n",
        "API docs here: {py:meth}`wombat.core.post_processor.Metrics.labor_costs`.\n",
        "\n",
        "**Inputs**:\n",
        "\n",
        "- `frequency`, as explained [above](metrics-demo:common-parameters), options: \"project\",\n",
        "  \"annual\", \"monthly\", and \"month-year\"\n",
        "- `by_type`\n",
        "  - `True`: Computed for each labor type (salary and hourly)\n",
        "  - `False`: Aggregates all the labor costs\n",
        "\n",
        "**Example Usage**:"
      ]
    },
    {
      "cell_type": "code",
      "execution_count": null,
      "id": "0157ec31",
      "metadata": {
        "tags": [
          "output_scroll"
        ]
      },
      "outputs": [],
      "source": [
        "# Project total at the whole wind farm level\n",
        "total = metrics.labor_costs(frequency=\"project\", by_type=False)\n",
        "print(f\"Project total: ${total.values[0][0] / metrics.project_capacity:,.2f}/MW\")"
      ]
    },
    {
      "cell_type": "code",
      "execution_count": null,
      "id": "8b59f009",
      "metadata": {
        "tags": [
          "output_scroll"
        ]
      },
      "outputs": [],
      "source": [
        "# Project totals for each type of labor\n",
        "style(metrics.labor_costs(frequency=\"project\", by_type=True))"
      ]
    },
    {
      "cell_type": "markdown",
      "id": "443a9fa8",
      "metadata": {},
      "source": [
        "(metrics-demo:equipment-labor-costs)=\n",
        "## Equipment and Labor Costs\n",
        "\n",
        "Sum of all labor and servicing equipment costs, excluding the labor defined in the fixed\n",
        "costs, which can be broken out by each category. For further documentation, see the API\n",
        "docs here: {py:meth}`wombat.core.post_processor.Metrics.equipment_labor_cost_breakdown`.\n",
        "\n",
        "**Inputs**:\n",
        "\n",
        "- `frequency`, as explained [above](metrics-demo:common-parameters), options: \"project\",\n",
        "  \"annual\", \"monthly\", and \"month-year\"\n",
        "- `by_category`\n",
        "  - `True`: Computed for each unit servicing equipment and labor category\n",
        "  - `False`: Aggregated to the sum of all costs\n",
        "\n",
        "`reason` definitions:\n",
        "\n",
        "- Maintenance: routine maintenance, or events defined as a\n",
        "  {py:class}`wombat.core.data_classes.Maintenance`\n",
        "- Repair: unscheduled maintenance, ranging from inspections to replacements, or events\n",
        "  defined as a {py:class}`wombat.core.data_classes.Failure`\n",
        "- Mobilization: Cost of mobilizing servicing equipment\n",
        "- Crew Transfer: Costs incurred while crew are transferring between a turbine or\n",
        "  substation and the servicing equipment\n",
        "- Site Travel: Costs incurred while transiting to/from the site and while at the site\n",
        "- Weather Delay: Any delays caused by unsafe weather conditions\n",
        "- No Requests: Equipment and labor is active, but there are no repairs or maintenance\n",
        "  tasks to be completed\n",
        "- Not in Shift: Any time outside the operating hours of the wind farm (or the\n",
        "  servicing equipment's specific operating hours)\n",
        "\n",
        "**Example Usage**:"
      ]
    },
    {
      "cell_type": "code",
      "execution_count": null,
      "id": "315dc9a1",
      "metadata": {
        "tags": [
          "output_scroll"
        ]
      },
      "outputs": [],
      "source": [
        "# Project totals\n",
        "style(metrics.equipment_labor_cost_breakdowns(frequency=\"project\", by_category=False))"
      ]
    },
    {
      "cell_type": "code",
      "execution_count": null,
      "id": "57c73474",
      "metadata": {
        "tags": [
          "output_scroll"
        ]
      },
      "outputs": [],
      "source": [
        "# Project totals by each category\n",
        "style(metrics.equipment_labor_cost_breakdowns(frequency=\"project\", by_category=True))"
      ]
    },
    {
      "cell_type": "markdown",
      "id": "384ee44a",
      "metadata": {},
      "source": [
        "(metrics-demo:emissions)=\n",
        "## Emissions\n",
        "\n",
        "Emissions (tons or other provided units) of all servicing equipment activity, except\n",
        "overnight waiting periods between shifts. For further documentation, see the API docs\n",
        "here: {py:meth}`wombat.core.post_processor.Metrics.emissions`.\n",
        "\n",
        "**Inputs**:\n",
        "\n",
        "- `emissions_factors`: Dictionary of servicing equipment names and the emissions per\n",
        "  hour of the following activities: `transit`, `maneuvering`, `idle at site`, and\n",
        "  `idle at port`, where port is stand-in for wherever the servicing equipment might be\n",
        "  based when not at site.\n",
        "- `maneuvering_factor`: The proportion of transit time that can generally be associated\n",
        "  with positioning servicing, by default 10%.\n",
        "- `port_engine_on_factor`: The proportion of the idling at port time when the engine is\n",
        "  running and producing emissions, by default 25%."
      ]
    },
    {
      "cell_type": "code",
      "execution_count": null,
      "id": "c5e4db95",
      "metadata": {},
      "outputs": [],
      "source": [
        "# Create the emissions factors, in tons per hour\n",
        "emissions_factors = {\n",
        "    \"Crew Transfer Vessel 1\": {\n",
        "        \"transit\": 4,\n",
        "        \"maneuvering\": 3,\n",
        "        \"idle at site\": 0.5,\n",
        "        \"idle at port\": 0.25,\n",
        "    },\n",
        "    \"Field Support Vessel\": {\n",
        "        \"transit\": 6,\n",
        "        \"maneuvering\": 4,\n",
        "        \"idle at site\": 1,\n",
        "        \"idle at port\": 0.5,\n",
        "    },\n",
        "    \"Heavy Lift Vessel\": {\n",
        "        \"transit\": 12,\n",
        "        \"maneuvering\": 7,\n",
        "        \"idle at site\": 1,\n",
        "        \"idle at port\": 0.5,\n",
        "    },\n",
        "    \"Diving Support Vessel\": {\n",
        "        \"transit\": 4,\n",
        "        \"maneuvering\": 7,\n",
        "        \"idle at site\": 0.2,\n",
        "        \"idle at port\": 0.2,\n",
        "    },\n",
        "    \"Anchor Handling Vessel\": {\n",
        "        \"transit\": 4,\n",
        "        \"maneuvering\": 3,\n",
        "        \"idle at site\": 1,\n",
        "        \"idle at port\": 0.25,\n",
        "    },\n",
        "}\n",
        "\n",
        "# Add in CTVs 2 through 7\n",
        "for i in range(2, 8):\n",
        "    emissions_factors[f\"Crew Transfer Vessel {i}\"] = emissions_factors[\n",
        "        \"Crew Transfer Vessel 1\"\n",
        "    ]\n",
        "\n",
        "style(\n",
        "    metrics.emissions(\n",
        "        emissions_factors=emissions_factors,\n",
        "        maneuvering_factor=0.075,\n",
        "        port_engine_on_factor=0.20,\n",
        "    )\n",
        ")"
      ]
    },
    {
      "cell_type": "markdown",
      "id": "8eab2b70",
      "metadata": {},
      "source": [
        "(metrics-demo:component-costs)=\n",
        "## Component Costs\n",
        "\n",
        "All the costs associated with maintenance and failure events during the simulation,\n",
        "including delays incurred during the repair process, but excluding costs not directly\n",
        "tied to a repair. For further documentation, see the API docs here:\n",
        "{py:meth}`wombat.core.post_processor.Metrics.component_costs`.\n",
        "\n",
        "**Inputs**:\n",
        "\n",
        "- `frequency`, as explained [above](metrics-demo:common-parameters), options: \"project\",\n",
        "  \"annual\", \"monthly\", and \"month-year\"\n",
        "- `by_category`\n",
        "  - `True`: Computed across each cost category\n",
        "  - `False`: Aggregated to the sum of all categories\n",
        "- `by_action`\n",
        "  - `True`: Computed by each of \"repair\", \"maintenance\", and \"delay\", and is included in\n",
        "    the MultiIndex\n",
        "  - `False`: Aggregated as the sum of all actions\n",
        "\n",
        "`action` definitions:\n",
        "\n",
        "- maintenance: routine maintenance\n",
        "- repair: unscheduled maintenance, ranging from inspections to replacements\n",
        "- delay: Any delays caused by unsafe weather conditions or not being able to finish a\n",
        "  process within a single shift\n",
        "\n",
        "**Example Usage**:"
      ]
    },
    {
      "cell_type": "code",
      "execution_count": null,
      "id": "cc3b9b1a",
      "metadata": {
        "tags": [
          "output_scroll"
        ]
      },
      "outputs": [],
      "source": [
        "# Project totals by component\n",
        "style(metrics.component_costs(frequency=\"project\", by_category=False, by_action=False))"
      ]
    },
    {
      "cell_type": "code",
      "execution_count": null,
      "id": "7dda17ed",
      "metadata": {
        "tags": [
          "output_scroll"
        ]
      },
      "outputs": [],
      "source": [
        "# Project totals by each category and action type\n",
        "style(metrics.component_costs(frequency=\"project\", by_category=True, by_action=True))"
      ]
    },
    {
      "cell_type": "markdown",
      "id": "8fdc2e63",
      "metadata": {},
      "source": [
        "(metrics-demo:fixed-costs)=\n",
        "## Fixed Cost Impacts\n",
        "\n",
        "Computes the total costs of the fixed costs categories. For further documentation, see\n",
        "the definition docs, here: {py:class}`wombat.core.data_classes.FixedCosts`, or the API\n",
        "docs here: {py:meth}`wombat.core.post_processor.Metrics.fixed_costs`.\n",
        "\n",
        "**Inputs**:\n",
        "\n",
        "- `frequency`, as explained [above](metrics-demo:common-parameters), options: \"project\",\n",
        "  \"annual\", \"monthly\", and \"month-year\"\n",
        "- `resolution` (also, demonstrated below)\n",
        "  - \"high\": Computed across the most granular cost levels\n",
        "  - \"medium\": Computed for each general cost category\n",
        "  - \"low\": Aggregated to a single sum of costs"
      ]
    },
    {
      "cell_type": "code",
      "execution_count": null,
      "id": "7854f4bb",
      "metadata": {
        "tags": [
          "output_scroll"
        ]
      },
      "outputs": [],
      "source": [
        "pprint(metrics.fixed_costs.hierarchy)"
      ]
    },
    {
      "cell_type": "markdown",
      "id": "6e45d53e",
      "metadata": {},
      "source": [
        "**Example Usage**:"
      ]
    },
    {
      "cell_type": "code",
      "execution_count": null,
      "id": "0e229350",
      "metadata": {
        "tags": [
          "output_scroll"
        ]
      },
      "outputs": [],
      "source": [
        "# Project totals at the highest level\n",
        "# NOTE: there were no fixed costs defined in this example, so all values will be 0, so\n",
        "#       this will just be demonstrating the output format\n",
        "style(metrics.project_fixed_costs(frequency=\"project\", resolution=\"low\"))"
      ]
    },
    {
      "cell_type": "code",
      "execution_count": null,
      "id": "d2260be5",
      "metadata": {
        "tags": [
          "output_scroll"
        ]
      },
      "outputs": [],
      "source": [
        "# Project totals at the medium level\n",
        "style(metrics.project_fixed_costs(frequency=\"project\", resolution=\"medium\"))"
      ]
    },
    {
      "cell_type": "code",
      "execution_count": null,
      "id": "49f782cc",
      "metadata": {
        "tags": [
          "output_scroll"
        ]
      },
      "outputs": [],
      "source": [
        "# Project totals at the lowest level\n",
        "style(metrics.project_fixed_costs(frequency=\"project\", resolution=\"high\"))"
      ]
    },
    {
      "cell_type": "markdown",
      "id": "e6a3ed08",
      "metadata": {},
      "source": [
        "(metrics-demo:opex)=\n",
        "## OpEx\n",
        "\n",
        "Computes the total cost of all operating expenditures for the duration of the\n",
        "simulation, including fixed costs. For further documentation, see the API docs here:\n",
        "{py:meth}`wombat.core.post_processor.Metrics.opex`.\n",
        "\n",
        "**Inputs**:\n",
        "\n",
        "- `frequency`, as explained [above](metrics-demo:common-parameters), options: \"project\",\n",
        "  \"annual\", \"monthly\", and \"month-year\"\n",
        "\n",
        "- `by_category`\n",
        "  - `True` shows the port fees, fixed costs, labor costs, equipment costs, and materials\n",
        "    costs in addition the total OpEx\n",
        "  - `False` shows only the total OpEx\n",
        "\n",
        "**Example Usage**:"
      ]
    },
    {
      "cell_type": "code",
      "execution_count": null,
      "id": "d794973f",
      "metadata": {
        "tags": [
          "output_scroll"
        ]
      },
      "outputs": [],
      "source": [
        "style(metrics.opex(\"annual\"))"
      ]
    },
    {
      "cell_type": "code",
      "execution_count": null,
      "id": "8b26599f",
      "metadata": {
        "tags": [
          "output_scroll"
        ]
      },
      "outputs": [],
      "source": [
        "style(metrics.opex(\"annual\", by_category=True))"
      ]
    },
    {
      "cell_type": "markdown",
      "id": "0e1b52ca",
      "metadata": {},
      "source": [
        "(metrics-demo:process-times)=\n",
        "## Process Times\n",
        "\n",
        "Computes the total number of hours spent from repair request submission to completion,\n",
        "performing repairs, and the number of request for each repair category. For further\n",
        "documentation, see the API docs here:\n",
        "{py:meth}`wombat.core.post_processor.Metrics.process_times`.\n",
        "\n",
        "**Example Usage**:"
      ]
    },
    {
      "cell_type": "code",
      "execution_count": null,
      "id": "c8f8fdef",
      "metadata": {
        "tags": [
          "output_scroll"
        ]
      },
      "outputs": [],
      "source": [
        "style(metrics.process_times())"
      ]
    },
    {
      "cell_type": "markdown",
      "id": "c9104769",
      "metadata": {},
      "source": [
        "(metrics-demo:power-production)=\n",
        "## Power Production\n",
        "\n",
        "Computes the total power production for the wind farm. For further documentation, see\n",
        "the API docs here: {py:meth}`wombat.core.post_processor.Metrics.power_production`.\n",
        "\n",
        "**Inputs**:\n",
        "\n",
        "- `frequency`, as explained [above](metrics-demo:common-parameters), options: \"project\",\n",
        "  \"annual\", \"monthly\", and \"month-year\"\n",
        "- `by`, as explained [above](metrics-demo:common-parameters) options: \"windfarm\" and \"turbine\"\n",
        "- `units`\n",
        "  - \"kwh\": kilowatt-hours (kWh)\n",
        "  - \"mwh\": megawatt-hours (MWh)\n",
        "  - \"gwh\": gigawatt-hours (GWh)\n",
        "\n",
        "**Example Usage**:"
      ]
    },
    {
      "cell_type": "code",
      "execution_count": null,
      "id": "8ee1d3b1",
      "metadata": {
        "tags": [
          "output_scroll"
        ]
      },
      "outputs": [],
      "source": [
        "# Project totals, in kWh, at the wind farm level\n",
        "style(metrics.power_production(frequency=\"project\", by=\"windfarm\", units=\"kwh\"))"
      ]
    },
    {
      "cell_type": "code",
      "execution_count": null,
      "id": "0325f7e0",
      "metadata": {
        "tags": [
          "output_scroll"
        ]
      },
      "outputs": [],
      "source": [
        "# Project totals, in MWh, at the wind farm level\n",
        "style(metrics.power_production(frequency=\"project\", units=\"mwh\"))"
      ]
    },
    {
      "cell_type": "code",
      "execution_count": null,
      "id": "82dd6edb",
      "metadata": {
        "tags": [
          "output_scroll"
        ]
      },
      "outputs": [],
      "source": [
        "# Project totals, in GWh, at the wind farm level\n",
        "style(metrics.power_production(frequency=\"project\"))"
      ]
    },
    {
      "cell_type": "markdown",
      "id": "b7bc1387",
      "metadata": {},
      "source": [
        "(metrics-demo:npv)=\n",
        "## Net Present Value\n",
        "\n",
        "Calcualtes the net present value (NPV) for the project, as\n",
        "$NPV = (Power * OfftakePrice - OpEx) / (1 + DiscountRate)$.\n",
        "\n",
        "For further documentation, see the API docs here: {py:meth}`wombat.core.post_processor.Metrics.npv`.\n",
        "\n",
        "**Inputs**:\n",
        "\n",
        "- `frequency`, as explained [above](metrics-demo:common-parameters), options: \"project\",\n",
        "  \"annual\", \"monthly\", and \"month-year\"\n",
        "- `discount_rate`: The rate of return that could be earned on alternative investments,\n",
        "  by default 0.025.\n",
        "- `offtake_price`: Price of energy, per MWh, by default 80."
      ]
    },
    {
      "cell_type": "code",
      "execution_count": null,
      "id": "9e4ecf74",
      "metadata": {
        "tags": [
          "output_scroll"
        ]
      },
      "outputs": [],
      "source": [
        "style(metrics.opex(\"annual\"))"
      ]
    }
  ],
  "metadata": {
    "kernelspec": {
      "display_name": "Python 3",
      "language": "python",
      "name": "python3"
    }
  },
  "nbformat": 4,
  "nbformat_minor": 5
}
