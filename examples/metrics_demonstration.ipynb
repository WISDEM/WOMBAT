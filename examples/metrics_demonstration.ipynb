{
 "cells": [
  {
   "cell_type": "markdown",
   "id": "ba41123c",
   "metadata": {},
   "source": [
    "# Demonstration of the Available Metrics\n",
    "\n",
    "For a complete list of metrics and their documentation, please see the API Metrics [documentation](../API/simulation_api.md#metrics-computation).\n",
    "\n",
    "This demonstration will rely on the results produced in the \"How To\" notebook and serves as an extension of the API documentation to show what the results will look like depending on what inputs are provided."
   ]
  },
  {
   "cell_type": "code",
   "execution_count": 1,
   "id": "c91c1818",
   "metadata": {
    "tags": [
     "output_scroll"
    ]
   },
   "outputs": [],
   "source": [
    "from pprint import pprint\n",
    "from functools import partial\n",
    "\n",
    "import pandas as pd\n",
    "from pandas.io.formats.style import Styler\n",
    "\n",
    "from wombat.core import Simulation, Metrics\n",
    "\n",
    "# Clean up the aesthetics for the pandas outputs\n",
    "pd.set_option(\"display.max_rows\", 30)\n",
    "pd.set_option(\"display.max_columns\", 10)\n",
    "style = partial(\n",
    "  Styler,\n",
    "  table_attributes='style=\"font-size: 14px; grid-column-count: 6\"',\n",
    "  precision=2,\n",
    "  thousands=\",\",\n",
    ")"
   ]
  },
  {
   "cell_type": "markdown",
   "id": "c92bfb8f",
   "metadata": {},
   "source": [
    "## Table of Contents\n",
    "\n",
    "Below is a list of top-level sections to demonstrate how to use WOMBAT's `Metrics` class methods and an explanation of each individual metric.\n",
    "\n",
    "If you don't see a metric or result computation that is core to your work, please submit\n",
    "an [issue](https://github.com/WISDEM/WOMBAT/issues/new) with details on what the metric\n",
    "is, and how it should be computed.\n",
    "\n",
    " - [Setup](#setup): Running a simulation to gather the results\n",
    " - [Common Parameters](#common-parameter-explanations): Explanation of frequently used parameter settings\n",
    " - [Availability](#availability): Time-based and energy-based availability\n",
    " - [Capacity Factor](#capacity-factor): Gross and net capacity factor\n",
    " - [Task Completion Rate](#task-completion-rate): Task completion metrics\n",
    " - [Equipment Costs](#equipment-costs): Cost breakdowns by servicing equipment\n",
    " - [Service Equipment Utilization Rate](#service-equipment-utilization-rate): Utilization of servicing equipment\n",
    " - [Vessel-Crew Hours at Sea](#vessel-crew-hours-at-sea): Number of crew or vessel hours spent at sea\n",
    " - [Number of Tows](#number-of-tows): Number of tows breakdowns\n",
    " - [Labor Costs](#labor-costs): Breakdown of labor costs\n",
    " - [Equipment and Labor Costs](#equipment-and-labor-costs): Combined servicing equipment and labor cost breakdown\n",
    " - [Emissions](#emissions): Emissions of servicing equipment based on activity\n",
    " - [Component Costs](#component-costs): Materials costs\n",
    " - [Fixed Cost Impacts](#fixed-cost-impacts): Total fixed costs\n",
    " - [OpEx](#opex): Project OpEx\n",
    " - [Process Times](#process-times): Timing of various stages of repair and maintenance\n",
    " - [Power Production](#power-production): Potential and actually produced power\n",
    " - [Net Present Value](#net-present-value): Project NPV calculator\n",
    " - [PySAM-Powered Results](#pysam-powered-results): PySAM results, if configuration is provided--currently unavailable\n",
    "\n",
    "\n",
    "(setup)=\n",
    "## Setup\n",
    "\n",
    "The simulations from the How To notebook are going to be rerun as it is not recommended to create a Metrics class from scratch due to the\n",
    "large number of inputs that are required and the initialization is provided in the simulation API's run method.\n",
    "\n",
    "To simplify this process, a feature has been added to save the simulation outputs required to generate the Metrics inputs and a method to reload those outputs as inputs."
   ]
  },
  {
   "cell_type": "code",
   "execution_count": 2,
   "id": "ad7c6965",
   "metadata": {
    "tags": [
     "output_scroll"
    ]
   },
   "outputs": [],
   "source": [
    "sim = Simulation(\"DINWOODIE\", \"base.yaml\")\n",
    "\n",
    "# Both of these parameters are True by default for convenience\n",
    "sim.run(create_metrics=True, save_metrics_inputs=True)\n",
    "\n",
    "# Load the metrics data\n",
    "fpath = sim.env.metrics_input_fname.parent\n",
    "fname = sim.env.metrics_input_fname.name\n",
    "metrics = Metrics.from_simulation_outputs(fpath, fname)\n",
    "\n",
    "# Delete the log files now that they're loaded in\n",
    "sim.env.cleanup_log_files()\n",
    "\n",
    "# Alternatively, in this case because the simulation was run, we can use the\n",
    "# following for convenience convenience only\n",
    "metrics = sim.metrics"
   ]
  },
  {
   "cell_type": "markdown",
   "id": "90b7a78e",
   "metadata": {},
   "source": [
    "## Common Parameter Explanations\n",
    "\n",
    "Before diving into each and every metric, and how they can be customized, it is is worth noting some of the most common parameters used throughout, and their meanings to reduce redundancy. The varying output forms are demonstrated in the [availability](#availability) section below.\n",
    "\n",
    "### `frequency`\n",
    "\n",
    "  project\n",
    "  : Computed across the whole simulation, with the resulting `DataFrame` having an empty index.\n",
    "\n",
    "  annual\n",
    "  : Summary of each year in the simulation, with the resulting `DataFrame` having \"year\" as the index.\n",
    "\n",
    "  monthly\n",
    "  : Summary of each month of the year, aggregated across years, with the resulting `DataFrame` having \"month\" as the index.\n",
    "\n",
    "  month-year\n",
    "  : computed on a month-by-year basis, producing the results for every month of the simulation, with the resulting `DataFrame` having \"year\" and \"month\" as the index.\n",
    "\n",
    "### `by`\n",
    "\n",
    "  windfarm\n",
    "  : Aggregated across all turbines, with the resulting `DataFrame` having only \"windfarm\" as a column\n",
    "\n",
    "  turbine\n",
    "  : Computed for each turbine, with the resulting `DataFrame` having a column for each turbine\n",
    "\n",
    "## Availability\n",
    "\n",
    "There are two methods to produce availability, which have their own function calls:\n",
    " - energy: actual power produced divided by potential power produced\n",
    "   - {py:meth}`wombat.core.post_processor.Metrics.production_based_availability`\n",
    " - time: The ratio of all non-zero hours to all hours in the simulation, or the proportion of the simulation where turbines are operating\n",
    "   - {py:meth}`wombat.core.post_processor.Metrics.time_based_availability`\n",
    "\n",
    "Here, we will go through the various input definitions to get time-based availability data as both methods use the same inputs, and provide outputs in the same format.\n",
    "\n",
    "**Inputs**:\n",
    "\n",
    "- `frequency`, as explained [above](#common-parameter-explanations) options: \"project\", \"annual\", \"monthly\", and \"month-year\"\n",
    "- `by`, as explained [above](#common-parameter-explanations) options: \"windfarm\" and \"turbine\"\n",
    "\n",
    "\n",
    "Below is a demonstration of the variations on `frequency` and `by` for `time_based_availability`."
   ]
  },
  {
   "cell_type": "code",
   "execution_count": 3,
   "id": "1ef0a974",
   "metadata": {
    "tags": [
     "output_scroll"
    ]
   },
   "outputs": [
    {
     "data": {
      "text/html": [
       "<style type=\"text/css\">\n",
       "</style>\n",
       "<table id=\"T_8c189\" style=\"font-size: 14px; grid-column-count: 6\">\n",
       "  <thead>\n",
       "    <tr>\n",
       "      <th class=\"blank level0\" >&nbsp;</th>\n",
       "      <th id=\"T_8c189_level0_col0\" class=\"col_heading level0 col0\" >windfarm</th>\n",
       "    </tr>\n",
       "  </thead>\n",
       "  <tbody>\n",
       "    <tr>\n",
       "      <th id=\"T_8c189_level0_row0\" class=\"row_heading level0 row0\" >0</th>\n",
       "      <td id=\"T_8c189_row0_col0\" class=\"data row0 col0\" >0.97</td>\n",
       "    </tr>\n",
       "  </tbody>\n",
       "</table>\n"
      ],
      "text/plain": [
       "<pandas.io.formats.style.Styler at 0x11ebb2e60>"
      ]
     },
     "execution_count": 3,
     "metadata": {},
     "output_type": "execute_result"
    }
   ],
   "source": [
    "style(metrics.time_based_availability(frequency=\"project\", by=\"windfarm\"))"
   ]
  },
  {
   "cell_type": "code",
   "execution_count": 4,
   "id": "d4d9b9d5",
   "metadata": {
    "tags": [
     "output_scroll"
    ]
   },
   "outputs": [
    {
     "data": {
      "text/html": [
       "<style type=\"text/css\">\n",
       "</style>\n",
       "<table id=\"T_e3791\" style=\"font-size: 14px; grid-column-count: 6\">\n",
       "  <thead>\n",
       "    <tr>\n",
       "      <th class=\"blank level0\" >&nbsp;</th>\n",
       "      <th id=\"T_e3791_level0_col0\" class=\"col_heading level0 col0\" >windfarm</th>\n",
       "    </tr>\n",
       "  </thead>\n",
       "  <tbody>\n",
       "    <tr>\n",
       "      <th id=\"T_e3791_level0_row0\" class=\"row_heading level0 row0\" >0</th>\n",
       "      <td id=\"T_e3791_row0_col0\" class=\"data row0 col0\" >0.97</td>\n",
       "    </tr>\n",
       "  </tbody>\n",
       "</table>\n"
      ],
      "text/plain": [
       "<pandas.io.formats.style.Styler at 0x119cabdf0>"
      ]
     },
     "execution_count": 4,
     "metadata": {},
     "output_type": "execute_result"
    }
   ],
   "source": [
    "style(metrics.production_based_availability(frequency=\"project\", by=\"windfarm\"))"
   ]
  },
  {
   "cell_type": "markdown",
   "id": "c4c64c96",
   "metadata": {},
   "source": [
    "Note that in the two above examples, that the values are equal. This is due to the fact that the example simulation does not have any operating reduction applied to failures, unless it's a catastrophic failure, so\n",
    "there is be no expected difference."
   ]
  },
  {
   "cell_type": "code",
   "execution_count": 5,
   "id": "364bce72",
   "metadata": {
    "tags": [
     "output_scroll"
    ]
   },
   "outputs": [
    {
     "data": {
      "text/html": [
       "<style type=\"text/css\">\n",
       "</style>\n",
       "<table id=\"T_0aff3\" style=\"font-size: 14px; grid-column-count: 6\">\n",
       "  <thead>\n",
       "    <tr>\n",
       "      <th class=\"blank level0\" >&nbsp;</th>\n",
       "      <th id=\"T_0aff3_level0_col0\" class=\"col_heading level0 col0\" >S00T1</th>\n",
       "      <th id=\"T_0aff3_level0_col1\" class=\"col_heading level0 col1\" >S00T2</th>\n",
       "      <th id=\"T_0aff3_level0_col2\" class=\"col_heading level0 col2\" >S00T3</th>\n",
       "      <th id=\"T_0aff3_level0_col3\" class=\"col_heading level0 col3\" >S00T4</th>\n",
       "      <th id=\"T_0aff3_level0_col4\" class=\"col_heading level0 col4\" >S00T5</th>\n",
       "      <th id=\"T_0aff3_level0_col5\" class=\"col_heading level0 col5\" >S00T6</th>\n",
       "      <th id=\"T_0aff3_level0_col6\" class=\"col_heading level0 col6\" >S00T7</th>\n",
       "      <th id=\"T_0aff3_level0_col7\" class=\"col_heading level0 col7\" >S00T8</th>\n",
       "      <th id=\"T_0aff3_level0_col8\" class=\"col_heading level0 col8\" >S00T9</th>\n",
       "      <th id=\"T_0aff3_level0_col9\" class=\"col_heading level0 col9\" >S00T10</th>\n",
       "      <th id=\"T_0aff3_level0_col10\" class=\"col_heading level0 col10\" >S00T11</th>\n",
       "      <th id=\"T_0aff3_level0_col11\" class=\"col_heading level0 col11\" >S00T12</th>\n",
       "      <th id=\"T_0aff3_level0_col12\" class=\"col_heading level0 col12\" >S00T13</th>\n",
       "      <th id=\"T_0aff3_level0_col13\" class=\"col_heading level0 col13\" >S00T14</th>\n",
       "      <th id=\"T_0aff3_level0_col14\" class=\"col_heading level0 col14\" >S00T15</th>\n",
       "      <th id=\"T_0aff3_level0_col15\" class=\"col_heading level0 col15\" >S00T16</th>\n",
       "      <th id=\"T_0aff3_level0_col16\" class=\"col_heading level0 col16\" >S00T17</th>\n",
       "      <th id=\"T_0aff3_level0_col17\" class=\"col_heading level0 col17\" >S00T18</th>\n",
       "      <th id=\"T_0aff3_level0_col18\" class=\"col_heading level0 col18\" >S00T19</th>\n",
       "      <th id=\"T_0aff3_level0_col19\" class=\"col_heading level0 col19\" >S00T20</th>\n",
       "      <th id=\"T_0aff3_level0_col20\" class=\"col_heading level0 col20\" >S00T21</th>\n",
       "      <th id=\"T_0aff3_level0_col21\" class=\"col_heading level0 col21\" >S00T22</th>\n",
       "      <th id=\"T_0aff3_level0_col22\" class=\"col_heading level0 col22\" >S00T23</th>\n",
       "      <th id=\"T_0aff3_level0_col23\" class=\"col_heading level0 col23\" >S00T24</th>\n",
       "      <th id=\"T_0aff3_level0_col24\" class=\"col_heading level0 col24\" >S00T25</th>\n",
       "      <th id=\"T_0aff3_level0_col25\" class=\"col_heading level0 col25\" >S00T26</th>\n",
       "      <th id=\"T_0aff3_level0_col26\" class=\"col_heading level0 col26\" >S00T27</th>\n",
       "      <th id=\"T_0aff3_level0_col27\" class=\"col_heading level0 col27\" >S00T28</th>\n",
       "      <th id=\"T_0aff3_level0_col28\" class=\"col_heading level0 col28\" >S00T29</th>\n",
       "      <th id=\"T_0aff3_level0_col29\" class=\"col_heading level0 col29\" >S00T30</th>\n",
       "      <th id=\"T_0aff3_level0_col30\" class=\"col_heading level0 col30\" >S00T31</th>\n",
       "      <th id=\"T_0aff3_level0_col31\" class=\"col_heading level0 col31\" >S00T32</th>\n",
       "      <th id=\"T_0aff3_level0_col32\" class=\"col_heading level0 col32\" >S00T33</th>\n",
       "      <th id=\"T_0aff3_level0_col33\" class=\"col_heading level0 col33\" >S00T34</th>\n",
       "      <th id=\"T_0aff3_level0_col34\" class=\"col_heading level0 col34\" >S00T35</th>\n",
       "      <th id=\"T_0aff3_level0_col35\" class=\"col_heading level0 col35\" >S00T36</th>\n",
       "      <th id=\"T_0aff3_level0_col36\" class=\"col_heading level0 col36\" >S00T37</th>\n",
       "      <th id=\"T_0aff3_level0_col37\" class=\"col_heading level0 col37\" >S00T38</th>\n",
       "      <th id=\"T_0aff3_level0_col38\" class=\"col_heading level0 col38\" >S00T39</th>\n",
       "      <th id=\"T_0aff3_level0_col39\" class=\"col_heading level0 col39\" >S00T40</th>\n",
       "      <th id=\"T_0aff3_level0_col40\" class=\"col_heading level0 col40\" >S00T41</th>\n",
       "      <th id=\"T_0aff3_level0_col41\" class=\"col_heading level0 col41\" >S00T42</th>\n",
       "      <th id=\"T_0aff3_level0_col42\" class=\"col_heading level0 col42\" >S00T43</th>\n",
       "      <th id=\"T_0aff3_level0_col43\" class=\"col_heading level0 col43\" >S00T44</th>\n",
       "      <th id=\"T_0aff3_level0_col44\" class=\"col_heading level0 col44\" >S00T45</th>\n",
       "      <th id=\"T_0aff3_level0_col45\" class=\"col_heading level0 col45\" >S00T46</th>\n",
       "      <th id=\"T_0aff3_level0_col46\" class=\"col_heading level0 col46\" >S00T47</th>\n",
       "      <th id=\"T_0aff3_level0_col47\" class=\"col_heading level0 col47\" >S00T48</th>\n",
       "      <th id=\"T_0aff3_level0_col48\" class=\"col_heading level0 col48\" >S00T49</th>\n",
       "      <th id=\"T_0aff3_level0_col49\" class=\"col_heading level0 col49\" >S00T50</th>\n",
       "      <th id=\"T_0aff3_level0_col50\" class=\"col_heading level0 col50\" >S00T51</th>\n",
       "      <th id=\"T_0aff3_level0_col51\" class=\"col_heading level0 col51\" >S00T52</th>\n",
       "      <th id=\"T_0aff3_level0_col52\" class=\"col_heading level0 col52\" >S00T53</th>\n",
       "      <th id=\"T_0aff3_level0_col53\" class=\"col_heading level0 col53\" >S00T54</th>\n",
       "      <th id=\"T_0aff3_level0_col54\" class=\"col_heading level0 col54\" >S00T55</th>\n",
       "      <th id=\"T_0aff3_level0_col55\" class=\"col_heading level0 col55\" >S00T56</th>\n",
       "      <th id=\"T_0aff3_level0_col56\" class=\"col_heading level0 col56\" >S00T57</th>\n",
       "      <th id=\"T_0aff3_level0_col57\" class=\"col_heading level0 col57\" >S00T58</th>\n",
       "      <th id=\"T_0aff3_level0_col58\" class=\"col_heading level0 col58\" >S00T59</th>\n",
       "      <th id=\"T_0aff3_level0_col59\" class=\"col_heading level0 col59\" >S00T60</th>\n",
       "      <th id=\"T_0aff3_level0_col60\" class=\"col_heading level0 col60\" >S00T61</th>\n",
       "      <th id=\"T_0aff3_level0_col61\" class=\"col_heading level0 col61\" >S00T62</th>\n",
       "      <th id=\"T_0aff3_level0_col62\" class=\"col_heading level0 col62\" >S00T63</th>\n",
       "      <th id=\"T_0aff3_level0_col63\" class=\"col_heading level0 col63\" >S00T64</th>\n",
       "      <th id=\"T_0aff3_level0_col64\" class=\"col_heading level0 col64\" >S00T65</th>\n",
       "      <th id=\"T_0aff3_level0_col65\" class=\"col_heading level0 col65\" >S00T66</th>\n",
       "      <th id=\"T_0aff3_level0_col66\" class=\"col_heading level0 col66\" >S00T67</th>\n",
       "      <th id=\"T_0aff3_level0_col67\" class=\"col_heading level0 col67\" >S00T68</th>\n",
       "      <th id=\"T_0aff3_level0_col68\" class=\"col_heading level0 col68\" >S00T69</th>\n",
       "      <th id=\"T_0aff3_level0_col69\" class=\"col_heading level0 col69\" >S00T70</th>\n",
       "      <th id=\"T_0aff3_level0_col70\" class=\"col_heading level0 col70\" >S00T71</th>\n",
       "      <th id=\"T_0aff3_level0_col71\" class=\"col_heading level0 col71\" >S00T72</th>\n",
       "      <th id=\"T_0aff3_level0_col72\" class=\"col_heading level0 col72\" >S00T73</th>\n",
       "      <th id=\"T_0aff3_level0_col73\" class=\"col_heading level0 col73\" >S00T74</th>\n",
       "      <th id=\"T_0aff3_level0_col74\" class=\"col_heading level0 col74\" >S00T75</th>\n",
       "      <th id=\"T_0aff3_level0_col75\" class=\"col_heading level0 col75\" >S00T76</th>\n",
       "      <th id=\"T_0aff3_level0_col76\" class=\"col_heading level0 col76\" >S00T77</th>\n",
       "      <th id=\"T_0aff3_level0_col77\" class=\"col_heading level0 col77\" >S00T78</th>\n",
       "      <th id=\"T_0aff3_level0_col78\" class=\"col_heading level0 col78\" >S00T79</th>\n",
       "      <th id=\"T_0aff3_level0_col79\" class=\"col_heading level0 col79\" >S00T80</th>\n",
       "    </tr>\n",
       "  </thead>\n",
       "  <tbody>\n",
       "    <tr>\n",
       "      <th id=\"T_0aff3_level0_row0\" class=\"row_heading level0 row0\" >0</th>\n",
       "      <td id=\"T_0aff3_row0_col0\" class=\"data row0 col0\" >0.97</td>\n",
       "      <td id=\"T_0aff3_row0_col1\" class=\"data row0 col1\" >0.95</td>\n",
       "      <td id=\"T_0aff3_row0_col2\" class=\"data row0 col2\" >0.97</td>\n",
       "      <td id=\"T_0aff3_row0_col3\" class=\"data row0 col3\" >0.97</td>\n",
       "      <td id=\"T_0aff3_row0_col4\" class=\"data row0 col4\" >0.97</td>\n",
       "      <td id=\"T_0aff3_row0_col5\" class=\"data row0 col5\" >0.97</td>\n",
       "      <td id=\"T_0aff3_row0_col6\" class=\"data row0 col6\" >0.97</td>\n",
       "      <td id=\"T_0aff3_row0_col7\" class=\"data row0 col7\" >0.97</td>\n",
       "      <td id=\"T_0aff3_row0_col8\" class=\"data row0 col8\" >0.97</td>\n",
       "      <td id=\"T_0aff3_row0_col9\" class=\"data row0 col9\" >0.95</td>\n",
       "      <td id=\"T_0aff3_row0_col10\" class=\"data row0 col10\" >0.98</td>\n",
       "      <td id=\"T_0aff3_row0_col11\" class=\"data row0 col11\" >0.96</td>\n",
       "      <td id=\"T_0aff3_row0_col12\" class=\"data row0 col12\" >0.97</td>\n",
       "      <td id=\"T_0aff3_row0_col13\" class=\"data row0 col13\" >0.97</td>\n",
       "      <td id=\"T_0aff3_row0_col14\" class=\"data row0 col14\" >0.97</td>\n",
       "      <td id=\"T_0aff3_row0_col15\" class=\"data row0 col15\" >0.97</td>\n",
       "      <td id=\"T_0aff3_row0_col16\" class=\"data row0 col16\" >0.97</td>\n",
       "      <td id=\"T_0aff3_row0_col17\" class=\"data row0 col17\" >0.97</td>\n",
       "      <td id=\"T_0aff3_row0_col18\" class=\"data row0 col18\" >0.96</td>\n",
       "      <td id=\"T_0aff3_row0_col19\" class=\"data row0 col19\" >0.97</td>\n",
       "      <td id=\"T_0aff3_row0_col20\" class=\"data row0 col20\" >0.97</td>\n",
       "      <td id=\"T_0aff3_row0_col21\" class=\"data row0 col21\" >0.97</td>\n",
       "      <td id=\"T_0aff3_row0_col22\" class=\"data row0 col22\" >0.97</td>\n",
       "      <td id=\"T_0aff3_row0_col23\" class=\"data row0 col23\" >0.97</td>\n",
       "      <td id=\"T_0aff3_row0_col24\" class=\"data row0 col24\" >0.97</td>\n",
       "      <td id=\"T_0aff3_row0_col25\" class=\"data row0 col25\" >0.98</td>\n",
       "      <td id=\"T_0aff3_row0_col26\" class=\"data row0 col26\" >0.97</td>\n",
       "      <td id=\"T_0aff3_row0_col27\" class=\"data row0 col27\" >0.97</td>\n",
       "      <td id=\"T_0aff3_row0_col28\" class=\"data row0 col28\" >0.97</td>\n",
       "      <td id=\"T_0aff3_row0_col29\" class=\"data row0 col29\" >0.97</td>\n",
       "      <td id=\"T_0aff3_row0_col30\" class=\"data row0 col30\" >0.97</td>\n",
       "      <td id=\"T_0aff3_row0_col31\" class=\"data row0 col31\" >0.97</td>\n",
       "      <td id=\"T_0aff3_row0_col32\" class=\"data row0 col32\" >0.97</td>\n",
       "      <td id=\"T_0aff3_row0_col33\" class=\"data row0 col33\" >0.97</td>\n",
       "      <td id=\"T_0aff3_row0_col34\" class=\"data row0 col34\" >0.97</td>\n",
       "      <td id=\"T_0aff3_row0_col35\" class=\"data row0 col35\" >0.96</td>\n",
       "      <td id=\"T_0aff3_row0_col36\" class=\"data row0 col36\" >0.97</td>\n",
       "      <td id=\"T_0aff3_row0_col37\" class=\"data row0 col37\" >0.97</td>\n",
       "      <td id=\"T_0aff3_row0_col38\" class=\"data row0 col38\" >0.95</td>\n",
       "      <td id=\"T_0aff3_row0_col39\" class=\"data row0 col39\" >0.97</td>\n",
       "      <td id=\"T_0aff3_row0_col40\" class=\"data row0 col40\" >0.97</td>\n",
       "      <td id=\"T_0aff3_row0_col41\" class=\"data row0 col41\" >0.95</td>\n",
       "      <td id=\"T_0aff3_row0_col42\" class=\"data row0 col42\" >0.97</td>\n",
       "      <td id=\"T_0aff3_row0_col43\" class=\"data row0 col43\" >0.97</td>\n",
       "      <td id=\"T_0aff3_row0_col44\" class=\"data row0 col44\" >0.97</td>\n",
       "      <td id=\"T_0aff3_row0_col45\" class=\"data row0 col45\" >0.97</td>\n",
       "      <td id=\"T_0aff3_row0_col46\" class=\"data row0 col46\" >0.97</td>\n",
       "      <td id=\"T_0aff3_row0_col47\" class=\"data row0 col47\" >0.97</td>\n",
       "      <td id=\"T_0aff3_row0_col48\" class=\"data row0 col48\" >0.97</td>\n",
       "      <td id=\"T_0aff3_row0_col49\" class=\"data row0 col49\" >0.95</td>\n",
       "      <td id=\"T_0aff3_row0_col50\" class=\"data row0 col50\" >0.97</td>\n",
       "      <td id=\"T_0aff3_row0_col51\" class=\"data row0 col51\" >0.95</td>\n",
       "      <td id=\"T_0aff3_row0_col52\" class=\"data row0 col52\" >0.97</td>\n",
       "      <td id=\"T_0aff3_row0_col53\" class=\"data row0 col53\" >0.97</td>\n",
       "      <td id=\"T_0aff3_row0_col54\" class=\"data row0 col54\" >0.97</td>\n",
       "      <td id=\"T_0aff3_row0_col55\" class=\"data row0 col55\" >0.95</td>\n",
       "      <td id=\"T_0aff3_row0_col56\" class=\"data row0 col56\" >0.95</td>\n",
       "      <td id=\"T_0aff3_row0_col57\" class=\"data row0 col57\" >0.97</td>\n",
       "      <td id=\"T_0aff3_row0_col58\" class=\"data row0 col58\" >0.97</td>\n",
       "      <td id=\"T_0aff3_row0_col59\" class=\"data row0 col59\" >0.97</td>\n",
       "      <td id=\"T_0aff3_row0_col60\" class=\"data row0 col60\" >0.97</td>\n",
       "      <td id=\"T_0aff3_row0_col61\" class=\"data row0 col61\" >0.97</td>\n",
       "      <td id=\"T_0aff3_row0_col62\" class=\"data row0 col62\" >0.97</td>\n",
       "      <td id=\"T_0aff3_row0_col63\" class=\"data row0 col63\" >0.97</td>\n",
       "      <td id=\"T_0aff3_row0_col64\" class=\"data row0 col64\" >0.97</td>\n",
       "      <td id=\"T_0aff3_row0_col65\" class=\"data row0 col65\" >0.98</td>\n",
       "      <td id=\"T_0aff3_row0_col66\" class=\"data row0 col66\" >0.98</td>\n",
       "      <td id=\"T_0aff3_row0_col67\" class=\"data row0 col67\" >0.95</td>\n",
       "      <td id=\"T_0aff3_row0_col68\" class=\"data row0 col68\" >0.97</td>\n",
       "      <td id=\"T_0aff3_row0_col69\" class=\"data row0 col69\" >0.96</td>\n",
       "      <td id=\"T_0aff3_row0_col70\" class=\"data row0 col70\" >0.95</td>\n",
       "      <td id=\"T_0aff3_row0_col71\" class=\"data row0 col71\" >0.97</td>\n",
       "      <td id=\"T_0aff3_row0_col72\" class=\"data row0 col72\" >0.97</td>\n",
       "      <td id=\"T_0aff3_row0_col73\" class=\"data row0 col73\" >0.97</td>\n",
       "      <td id=\"T_0aff3_row0_col74\" class=\"data row0 col74\" >0.96</td>\n",
       "      <td id=\"T_0aff3_row0_col75\" class=\"data row0 col75\" >0.97</td>\n",
       "      <td id=\"T_0aff3_row0_col76\" class=\"data row0 col76\" >0.97</td>\n",
       "      <td id=\"T_0aff3_row0_col77\" class=\"data row0 col77\" >0.97</td>\n",
       "      <td id=\"T_0aff3_row0_col78\" class=\"data row0 col78\" >0.96</td>\n",
       "      <td id=\"T_0aff3_row0_col79\" class=\"data row0 col79\" >0.98</td>\n",
       "    </tr>\n",
       "  </tbody>\n",
       "</table>\n"
      ],
      "text/plain": [
       "<pandas.io.formats.style.Styler at 0x11a54a020>"
      ]
     },
     "execution_count": 5,
     "metadata": {},
     "output_type": "execute_result"
    }
   ],
   "source": [
    "# Demonstrate the by turbine granularity\n",
    "style(metrics.time_based_availability(frequency=\"project\", by=\"turbine\"))"
   ]
  },
  {
   "cell_type": "code",
   "execution_count": 6,
   "id": "0c8236be",
   "metadata": {
    "tags": [
     "output_scroll"
    ]
   },
   "outputs": [
    {
     "data": {
      "text/html": [
       "<style type=\"text/css\">\n",
       "</style>\n",
       "<table id=\"T_cab8f\" style=\"font-size: 14px; grid-column-count: 6\">\n",
       "  <thead>\n",
       "    <tr>\n",
       "      <th class=\"blank level0\" >&nbsp;</th>\n",
       "      <th id=\"T_cab8f_level0_col0\" class=\"col_heading level0 col0\" >windfarm</th>\n",
       "    </tr>\n",
       "    <tr>\n",
       "      <th class=\"index_name level0\" >year</th>\n",
       "      <th class=\"blank col0\" >&nbsp;</th>\n",
       "    </tr>\n",
       "  </thead>\n",
       "  <tbody>\n",
       "    <tr>\n",
       "      <th id=\"T_cab8f_level0_row0\" class=\"row_heading level0 row0\" >2003</th>\n",
       "      <td id=\"T_cab8f_row0_col0\" class=\"data row0 col0\" >0.99</td>\n",
       "    </tr>\n",
       "    <tr>\n",
       "      <th id=\"T_cab8f_level0_row1\" class=\"row_heading level0 row1\" >2004</th>\n",
       "      <td id=\"T_cab8f_row1_col0\" class=\"data row1 col0\" >0.97</td>\n",
       "    </tr>\n",
       "    <tr>\n",
       "      <th id=\"T_cab8f_level0_row2\" class=\"row_heading level0 row2\" >2005</th>\n",
       "      <td id=\"T_cab8f_row2_col0\" class=\"data row2 col0\" >0.97</td>\n",
       "    </tr>\n",
       "    <tr>\n",
       "      <th id=\"T_cab8f_level0_row3\" class=\"row_heading level0 row3\" >2006</th>\n",
       "      <td id=\"T_cab8f_row3_col0\" class=\"data row3 col0\" >0.97</td>\n",
       "    </tr>\n",
       "    <tr>\n",
       "      <th id=\"T_cab8f_level0_row4\" class=\"row_heading level0 row4\" >2007</th>\n",
       "      <td id=\"T_cab8f_row4_col0\" class=\"data row4 col0\" >0.97</td>\n",
       "    </tr>\n",
       "    <tr>\n",
       "      <th id=\"T_cab8f_level0_row5\" class=\"row_heading level0 row5\" >2008</th>\n",
       "      <td id=\"T_cab8f_row5_col0\" class=\"data row5 col0\" >0.97</td>\n",
       "    </tr>\n",
       "    <tr>\n",
       "      <th id=\"T_cab8f_level0_row6\" class=\"row_heading level0 row6\" >2009</th>\n",
       "      <td id=\"T_cab8f_row6_col0\" class=\"data row6 col0\" >0.97</td>\n",
       "    </tr>\n",
       "    <tr>\n",
       "      <th id=\"T_cab8f_level0_row7\" class=\"row_heading level0 row7\" >2010</th>\n",
       "      <td id=\"T_cab8f_row7_col0\" class=\"data row7 col0\" >0.96</td>\n",
       "    </tr>\n",
       "    <tr>\n",
       "      <th id=\"T_cab8f_level0_row8\" class=\"row_heading level0 row8\" >2011</th>\n",
       "      <td id=\"T_cab8f_row8_col0\" class=\"data row8 col0\" >0.97</td>\n",
       "    </tr>\n",
       "    <tr>\n",
       "      <th id=\"T_cab8f_level0_row9\" class=\"row_heading level0 row9\" >2012</th>\n",
       "      <td id=\"T_cab8f_row9_col0\" class=\"data row9 col0\" >0.97</td>\n",
       "    </tr>\n",
       "  </tbody>\n",
       "</table>\n"
      ],
      "text/plain": [
       "<pandas.io.formats.style.Styler at 0x11871e350>"
      ]
     },
     "execution_count": 6,
     "metadata": {},
     "output_type": "execute_result"
    }
   ],
   "source": [
    "# Demonstrate the annualized outputs\n",
    "style(metrics.time_based_availability(frequency=\"annual\", by=\"windfarm\"))"
   ]
  },
  {
   "cell_type": "code",
   "execution_count": 7,
   "id": "daba8e93",
   "metadata": {
    "tags": [
     "output_scroll"
    ]
   },
   "outputs": [
    {
     "data": {
      "text/html": [
       "<style type=\"text/css\">\n",
       "</style>\n",
       "<table id=\"T_c72a0\" style=\"font-size: 14px; grid-column-count: 6\">\n",
       "  <thead>\n",
       "    <tr>\n",
       "      <th class=\"blank level0\" >&nbsp;</th>\n",
       "      <th id=\"T_c72a0_level0_col0\" class=\"col_heading level0 col0\" >windfarm</th>\n",
       "    </tr>\n",
       "    <tr>\n",
       "      <th class=\"index_name level0\" >month</th>\n",
       "      <th class=\"blank col0\" >&nbsp;</th>\n",
       "    </tr>\n",
       "  </thead>\n",
       "  <tbody>\n",
       "    <tr>\n",
       "      <th id=\"T_c72a0_level0_row0\" class=\"row_heading level0 row0\" >1</th>\n",
       "      <td id=\"T_c72a0_row0_col0\" class=\"data row0 col0\" >0.98</td>\n",
       "    </tr>\n",
       "    <tr>\n",
       "      <th id=\"T_c72a0_level0_row1\" class=\"row_heading level0 row1\" >2</th>\n",
       "      <td id=\"T_c72a0_row1_col0\" class=\"data row1 col0\" >0.97</td>\n",
       "    </tr>\n",
       "    <tr>\n",
       "      <th id=\"T_c72a0_level0_row2\" class=\"row_heading level0 row2\" >3</th>\n",
       "      <td id=\"T_c72a0_row2_col0\" class=\"data row2 col0\" >0.96</td>\n",
       "    </tr>\n",
       "    <tr>\n",
       "      <th id=\"T_c72a0_level0_row3\" class=\"row_heading level0 row3\" >4</th>\n",
       "      <td id=\"T_c72a0_row3_col0\" class=\"data row3 col0\" >0.96</td>\n",
       "    </tr>\n",
       "    <tr>\n",
       "      <th id=\"T_c72a0_level0_row4\" class=\"row_heading level0 row4\" >5</th>\n",
       "      <td id=\"T_c72a0_row4_col0\" class=\"data row4 col0\" >0.96</td>\n",
       "    </tr>\n",
       "    <tr>\n",
       "      <th id=\"T_c72a0_level0_row5\" class=\"row_heading level0 row5\" >6</th>\n",
       "      <td id=\"T_c72a0_row5_col0\" class=\"data row5 col0\" >0.96</td>\n",
       "    </tr>\n",
       "    <tr>\n",
       "      <th id=\"T_c72a0_level0_row6\" class=\"row_heading level0 row6\" >7</th>\n",
       "      <td id=\"T_c72a0_row6_col0\" class=\"data row6 col0\" >0.96</td>\n",
       "    </tr>\n",
       "    <tr>\n",
       "      <th id=\"T_c72a0_level0_row7\" class=\"row_heading level0 row7\" >8</th>\n",
       "      <td id=\"T_c72a0_row7_col0\" class=\"data row7 col0\" >0.96</td>\n",
       "    </tr>\n",
       "    <tr>\n",
       "      <th id=\"T_c72a0_level0_row8\" class=\"row_heading level0 row8\" >9</th>\n",
       "      <td id=\"T_c72a0_row8_col0\" class=\"data row8 col0\" >0.96</td>\n",
       "    </tr>\n",
       "    <tr>\n",
       "      <th id=\"T_c72a0_level0_row9\" class=\"row_heading level0 row9\" >10</th>\n",
       "      <td id=\"T_c72a0_row9_col0\" class=\"data row9 col0\" >0.98</td>\n",
       "    </tr>\n",
       "    <tr>\n",
       "      <th id=\"T_c72a0_level0_row10\" class=\"row_heading level0 row10\" >11</th>\n",
       "      <td id=\"T_c72a0_row10_col0\" class=\"data row10 col0\" >0.98</td>\n",
       "    </tr>\n",
       "    <tr>\n",
       "      <th id=\"T_c72a0_level0_row11\" class=\"row_heading level0 row11\" >12</th>\n",
       "      <td id=\"T_c72a0_row11_col0\" class=\"data row11 col0\" >0.98</td>\n",
       "    </tr>\n",
       "  </tbody>\n",
       "</table>\n"
      ],
      "text/plain": [
       "<pandas.io.formats.style.Styler at 0x119cfa440>"
      ]
     },
     "execution_count": 7,
     "metadata": {},
     "output_type": "execute_result"
    }
   ],
   "source": [
    "# Demonstrate the month aggregations\n",
    "style(metrics.time_based_availability(frequency=\"monthly\", by=\"windfarm\"))"
   ]
  },
  {
   "cell_type": "code",
   "execution_count": 8,
   "id": "ecdfe972",
   "metadata": {
    "tags": [
     "output_scroll"
    ]
   },
   "outputs": [
    {
     "data": {
      "text/html": [
       "<style type=\"text/css\">\n",
       "</style>\n",
       "<table id=\"T_05225\" style=\"font-size: 14px; grid-column-count: 6\">\n",
       "  <thead>\n",
       "    <tr>\n",
       "      <th class=\"blank\" >&nbsp;</th>\n",
       "      <th class=\"blank level0\" >&nbsp;</th>\n",
       "      <th id=\"T_05225_level0_col0\" class=\"col_heading level0 col0\" >windfarm</th>\n",
       "    </tr>\n",
       "    <tr>\n",
       "      <th class=\"index_name level0\" >year</th>\n",
       "      <th class=\"index_name level1\" >month</th>\n",
       "      <th class=\"blank col0\" >&nbsp;</th>\n",
       "    </tr>\n",
       "  </thead>\n",
       "  <tbody>\n",
       "    <tr>\n",
       "      <th id=\"T_05225_level0_row0\" class=\"row_heading level0 row0\" rowspan=\"12\">2003</th>\n",
       "      <th id=\"T_05225_level1_row0\" class=\"row_heading level1 row0\" >1</th>\n",
       "      <td id=\"T_05225_row0_col0\" class=\"data row0 col0\" >0.99</td>\n",
       "    </tr>\n",
       "    <tr>\n",
       "      <th id=\"T_05225_level1_row1\" class=\"row_heading level1 row1\" >2</th>\n",
       "      <td id=\"T_05225_row1_col0\" class=\"data row1 col0\" >0.99</td>\n",
       "    </tr>\n",
       "    <tr>\n",
       "      <th id=\"T_05225_level1_row2\" class=\"row_heading level1 row2\" >3</th>\n",
       "      <td id=\"T_05225_row2_col0\" class=\"data row2 col0\" >0.99</td>\n",
       "    </tr>\n",
       "    <tr>\n",
       "      <th id=\"T_05225_level1_row3\" class=\"row_heading level1 row3\" >4</th>\n",
       "      <td id=\"T_05225_row3_col0\" class=\"data row3 col0\" >0.99</td>\n",
       "    </tr>\n",
       "    <tr>\n",
       "      <th id=\"T_05225_level1_row4\" class=\"row_heading level1 row4\" >5</th>\n",
       "      <td id=\"T_05225_row4_col0\" class=\"data row4 col0\" >0.99</td>\n",
       "    </tr>\n",
       "    <tr>\n",
       "      <th id=\"T_05225_level1_row5\" class=\"row_heading level1 row5\" >6</th>\n",
       "      <td id=\"T_05225_row5_col0\" class=\"data row5 col0\" >0.99</td>\n",
       "    </tr>\n",
       "    <tr>\n",
       "      <th id=\"T_05225_level1_row6\" class=\"row_heading level1 row6\" >7</th>\n",
       "      <td id=\"T_05225_row6_col0\" class=\"data row6 col0\" >0.98</td>\n",
       "    </tr>\n",
       "    <tr>\n",
       "      <th id=\"T_05225_level1_row7\" class=\"row_heading level1 row7\" >8</th>\n",
       "      <td id=\"T_05225_row7_col0\" class=\"data row7 col0\" >0.97</td>\n",
       "    </tr>\n",
       "    <tr>\n",
       "      <th id=\"T_05225_level1_row8\" class=\"row_heading level1 row8\" >9</th>\n",
       "      <td id=\"T_05225_row8_col0\" class=\"data row8 col0\" >0.99</td>\n",
       "    </tr>\n",
       "    <tr>\n",
       "      <th id=\"T_05225_level1_row9\" class=\"row_heading level1 row9\" >10</th>\n",
       "      <td id=\"T_05225_row9_col0\" class=\"data row9 col0\" >0.99</td>\n",
       "    </tr>\n",
       "    <tr>\n",
       "      <th id=\"T_05225_level1_row10\" class=\"row_heading level1 row10\" >11</th>\n",
       "      <td id=\"T_05225_row10_col0\" class=\"data row10 col0\" >0.99</td>\n",
       "    </tr>\n",
       "    <tr>\n",
       "      <th id=\"T_05225_level1_row11\" class=\"row_heading level1 row11\" >12</th>\n",
       "      <td id=\"T_05225_row11_col0\" class=\"data row11 col0\" >0.98</td>\n",
       "    </tr>\n",
       "    <tr>\n",
       "      <th id=\"T_05225_level0_row12\" class=\"row_heading level0 row12\" rowspan=\"12\">2004</th>\n",
       "      <th id=\"T_05225_level1_row12\" class=\"row_heading level1 row12\" >1</th>\n",
       "      <td id=\"T_05225_row12_col0\" class=\"data row12 col0\" >0.96</td>\n",
       "    </tr>\n",
       "    <tr>\n",
       "      <th id=\"T_05225_level1_row13\" class=\"row_heading level1 row13\" >2</th>\n",
       "      <td id=\"T_05225_row13_col0\" class=\"data row13 col0\" >0.96</td>\n",
       "    </tr>\n",
       "    <tr>\n",
       "      <th id=\"T_05225_level1_row14\" class=\"row_heading level1 row14\" >3</th>\n",
       "      <td id=\"T_05225_row14_col0\" class=\"data row14 col0\" >0.96</td>\n",
       "    </tr>\n",
       "    <tr>\n",
       "      <th id=\"T_05225_level1_row15\" class=\"row_heading level1 row15\" >4</th>\n",
       "      <td id=\"T_05225_row15_col0\" class=\"data row15 col0\" >0.96</td>\n",
       "    </tr>\n",
       "    <tr>\n",
       "      <th id=\"T_05225_level1_row16\" class=\"row_heading level1 row16\" >5</th>\n",
       "      <td id=\"T_05225_row16_col0\" class=\"data row16 col0\" >0.96</td>\n",
       "    </tr>\n",
       "    <tr>\n",
       "      <th id=\"T_05225_level1_row17\" class=\"row_heading level1 row17\" >6</th>\n",
       "      <td id=\"T_05225_row17_col0\" class=\"data row17 col0\" >0.96</td>\n",
       "    </tr>\n",
       "    <tr>\n",
       "      <th id=\"T_05225_level1_row18\" class=\"row_heading level1 row18\" >7</th>\n",
       "      <td id=\"T_05225_row18_col0\" class=\"data row18 col0\" >0.96</td>\n",
       "    </tr>\n",
       "    <tr>\n",
       "      <th id=\"T_05225_level1_row19\" class=\"row_heading level1 row19\" >8</th>\n",
       "      <td id=\"T_05225_row19_col0\" class=\"data row19 col0\" >0.96</td>\n",
       "    </tr>\n",
       "    <tr>\n",
       "      <th id=\"T_05225_level1_row20\" class=\"row_heading level1 row20\" >9</th>\n",
       "      <td id=\"T_05225_row20_col0\" class=\"data row20 col0\" >0.96</td>\n",
       "    </tr>\n",
       "    <tr>\n",
       "      <th id=\"T_05225_level1_row21\" class=\"row_heading level1 row21\" >10</th>\n",
       "      <td id=\"T_05225_row21_col0\" class=\"data row21 col0\" >0.98</td>\n",
       "    </tr>\n",
       "    <tr>\n",
       "      <th id=\"T_05225_level1_row22\" class=\"row_heading level1 row22\" >11</th>\n",
       "      <td id=\"T_05225_row22_col0\" class=\"data row22 col0\" >0.99</td>\n",
       "    </tr>\n",
       "    <tr>\n",
       "      <th id=\"T_05225_level1_row23\" class=\"row_heading level1 row23\" >12</th>\n",
       "      <td id=\"T_05225_row23_col0\" class=\"data row23 col0\" >0.99</td>\n",
       "    </tr>\n",
       "    <tr>\n",
       "      <th id=\"T_05225_level0_row24\" class=\"row_heading level0 row24\" rowspan=\"12\">2005</th>\n",
       "      <th id=\"T_05225_level1_row24\" class=\"row_heading level1 row24\" >1</th>\n",
       "      <td id=\"T_05225_row24_col0\" class=\"data row24 col0\" >0.97</td>\n",
       "    </tr>\n",
       "    <tr>\n",
       "      <th id=\"T_05225_level1_row25\" class=\"row_heading level1 row25\" >2</th>\n",
       "      <td id=\"T_05225_row25_col0\" class=\"data row25 col0\" >0.96</td>\n",
       "    </tr>\n",
       "    <tr>\n",
       "      <th id=\"T_05225_level1_row26\" class=\"row_heading level1 row26\" >3</th>\n",
       "      <td id=\"T_05225_row26_col0\" class=\"data row26 col0\" >0.96</td>\n",
       "    </tr>\n",
       "    <tr>\n",
       "      <th id=\"T_05225_level1_row27\" class=\"row_heading level1 row27\" >4</th>\n",
       "      <td id=\"T_05225_row27_col0\" class=\"data row27 col0\" >0.96</td>\n",
       "    </tr>\n",
       "    <tr>\n",
       "      <th id=\"T_05225_level1_row28\" class=\"row_heading level1 row28\" >5</th>\n",
       "      <td id=\"T_05225_row28_col0\" class=\"data row28 col0\" >0.96</td>\n",
       "    </tr>\n",
       "    <tr>\n",
       "      <th id=\"T_05225_level1_row29\" class=\"row_heading level1 row29\" >6</th>\n",
       "      <td id=\"T_05225_row29_col0\" class=\"data row29 col0\" >0.96</td>\n",
       "    </tr>\n",
       "    <tr>\n",
       "      <th id=\"T_05225_level1_row30\" class=\"row_heading level1 row30\" >7</th>\n",
       "      <td id=\"T_05225_row30_col0\" class=\"data row30 col0\" >0.96</td>\n",
       "    </tr>\n",
       "    <tr>\n",
       "      <th id=\"T_05225_level1_row31\" class=\"row_heading level1 row31\" >8</th>\n",
       "      <td id=\"T_05225_row31_col0\" class=\"data row31 col0\" >0.95</td>\n",
       "    </tr>\n",
       "    <tr>\n",
       "      <th id=\"T_05225_level1_row32\" class=\"row_heading level1 row32\" >9</th>\n",
       "      <td id=\"T_05225_row32_col0\" class=\"data row32 col0\" >0.96</td>\n",
       "    </tr>\n",
       "    <tr>\n",
       "      <th id=\"T_05225_level1_row33\" class=\"row_heading level1 row33\" >10</th>\n",
       "      <td id=\"T_05225_row33_col0\" class=\"data row33 col0\" >0.98</td>\n",
       "    </tr>\n",
       "    <tr>\n",
       "      <th id=\"T_05225_level1_row34\" class=\"row_heading level1 row34\" >11</th>\n",
       "      <td id=\"T_05225_row34_col0\" class=\"data row34 col0\" >0.99</td>\n",
       "    </tr>\n",
       "    <tr>\n",
       "      <th id=\"T_05225_level1_row35\" class=\"row_heading level1 row35\" >12</th>\n",
       "      <td id=\"T_05225_row35_col0\" class=\"data row35 col0\" >0.98</td>\n",
       "    </tr>\n",
       "    <tr>\n",
       "      <th id=\"T_05225_level0_row36\" class=\"row_heading level0 row36\" rowspan=\"12\">2006</th>\n",
       "      <th id=\"T_05225_level1_row36\" class=\"row_heading level1 row36\" >1</th>\n",
       "      <td id=\"T_05225_row36_col0\" class=\"data row36 col0\" >0.98</td>\n",
       "    </tr>\n",
       "    <tr>\n",
       "      <th id=\"T_05225_level1_row37\" class=\"row_heading level1 row37\" >2</th>\n",
       "      <td id=\"T_05225_row37_col0\" class=\"data row37 col0\" >0.96</td>\n",
       "    </tr>\n",
       "    <tr>\n",
       "      <th id=\"T_05225_level1_row38\" class=\"row_heading level1 row38\" >3</th>\n",
       "      <td id=\"T_05225_row38_col0\" class=\"data row38 col0\" >0.96</td>\n",
       "    </tr>\n",
       "    <tr>\n",
       "      <th id=\"T_05225_level1_row39\" class=\"row_heading level1 row39\" >4</th>\n",
       "      <td id=\"T_05225_row39_col0\" class=\"data row39 col0\" >0.96</td>\n",
       "    </tr>\n",
       "    <tr>\n",
       "      <th id=\"T_05225_level1_row40\" class=\"row_heading level1 row40\" >5</th>\n",
       "      <td id=\"T_05225_row40_col0\" class=\"data row40 col0\" >0.96</td>\n",
       "    </tr>\n",
       "    <tr>\n",
       "      <th id=\"T_05225_level1_row41\" class=\"row_heading level1 row41\" >6</th>\n",
       "      <td id=\"T_05225_row41_col0\" class=\"data row41 col0\" >0.96</td>\n",
       "    </tr>\n",
       "    <tr>\n",
       "      <th id=\"T_05225_level1_row42\" class=\"row_heading level1 row42\" >7</th>\n",
       "      <td id=\"T_05225_row42_col0\" class=\"data row42 col0\" >0.96</td>\n",
       "    </tr>\n",
       "    <tr>\n",
       "      <th id=\"T_05225_level1_row43\" class=\"row_heading level1 row43\" >8</th>\n",
       "      <td id=\"T_05225_row43_col0\" class=\"data row43 col0\" >0.95</td>\n",
       "    </tr>\n",
       "    <tr>\n",
       "      <th id=\"T_05225_level1_row44\" class=\"row_heading level1 row44\" >9</th>\n",
       "      <td id=\"T_05225_row44_col0\" class=\"data row44 col0\" >0.97</td>\n",
       "    </tr>\n",
       "    <tr>\n",
       "      <th id=\"T_05225_level1_row45\" class=\"row_heading level1 row45\" >10</th>\n",
       "      <td id=\"T_05225_row45_col0\" class=\"data row45 col0\" >0.99</td>\n",
       "    </tr>\n",
       "    <tr>\n",
       "      <th id=\"T_05225_level1_row46\" class=\"row_heading level1 row46\" >11</th>\n",
       "      <td id=\"T_05225_row46_col0\" class=\"data row46 col0\" >0.99</td>\n",
       "    </tr>\n",
       "    <tr>\n",
       "      <th id=\"T_05225_level1_row47\" class=\"row_heading level1 row47\" >12</th>\n",
       "      <td id=\"T_05225_row47_col0\" class=\"data row47 col0\" >0.99</td>\n",
       "    </tr>\n",
       "    <tr>\n",
       "      <th id=\"T_05225_level0_row48\" class=\"row_heading level0 row48\" rowspan=\"12\">2007</th>\n",
       "      <th id=\"T_05225_level1_row48\" class=\"row_heading level1 row48\" >1</th>\n",
       "      <td id=\"T_05225_row48_col0\" class=\"data row48 col0\" >0.97</td>\n",
       "    </tr>\n",
       "    <tr>\n",
       "      <th id=\"T_05225_level1_row49\" class=\"row_heading level1 row49\" >2</th>\n",
       "      <td id=\"T_05225_row49_col0\" class=\"data row49 col0\" >0.94</td>\n",
       "    </tr>\n",
       "    <tr>\n",
       "      <th id=\"T_05225_level1_row50\" class=\"row_heading level1 row50\" >3</th>\n",
       "      <td id=\"T_05225_row50_col0\" class=\"data row50 col0\" >0.95</td>\n",
       "    </tr>\n",
       "    <tr>\n",
       "      <th id=\"T_05225_level1_row51\" class=\"row_heading level1 row51\" >4</th>\n",
       "      <td id=\"T_05225_row51_col0\" class=\"data row51 col0\" >0.96</td>\n",
       "    </tr>\n",
       "    <tr>\n",
       "      <th id=\"T_05225_level1_row52\" class=\"row_heading level1 row52\" >5</th>\n",
       "      <td id=\"T_05225_row52_col0\" class=\"data row52 col0\" >0.96</td>\n",
       "    </tr>\n",
       "    <tr>\n",
       "      <th id=\"T_05225_level1_row53\" class=\"row_heading level1 row53\" >6</th>\n",
       "      <td id=\"T_05225_row53_col0\" class=\"data row53 col0\" >0.96</td>\n",
       "    </tr>\n",
       "    <tr>\n",
       "      <th id=\"T_05225_level1_row54\" class=\"row_heading level1 row54\" >7</th>\n",
       "      <td id=\"T_05225_row54_col0\" class=\"data row54 col0\" >0.96</td>\n",
       "    </tr>\n",
       "    <tr>\n",
       "      <th id=\"T_05225_level1_row55\" class=\"row_heading level1 row55\" >8</th>\n",
       "      <td id=\"T_05225_row55_col0\" class=\"data row55 col0\" >0.96</td>\n",
       "    </tr>\n",
       "    <tr>\n",
       "      <th id=\"T_05225_level1_row56\" class=\"row_heading level1 row56\" >9</th>\n",
       "      <td id=\"T_05225_row56_col0\" class=\"data row56 col0\" >0.97</td>\n",
       "    </tr>\n",
       "    <tr>\n",
       "      <th id=\"T_05225_level1_row57\" class=\"row_heading level1 row57\" >10</th>\n",
       "      <td id=\"T_05225_row57_col0\" class=\"data row57 col0\" >0.99</td>\n",
       "    </tr>\n",
       "    <tr>\n",
       "      <th id=\"T_05225_level1_row58\" class=\"row_heading level1 row58\" >11</th>\n",
       "      <td id=\"T_05225_row58_col0\" class=\"data row58 col0\" >0.98</td>\n",
       "    </tr>\n",
       "    <tr>\n",
       "      <th id=\"T_05225_level1_row59\" class=\"row_heading level1 row59\" >12</th>\n",
       "      <td id=\"T_05225_row59_col0\" class=\"data row59 col0\" >0.98</td>\n",
       "    </tr>\n",
       "    <tr>\n",
       "      <th id=\"T_05225_level0_row60\" class=\"row_heading level0 row60\" rowspan=\"12\">2008</th>\n",
       "      <th id=\"T_05225_level1_row60\" class=\"row_heading level1 row60\" >1</th>\n",
       "      <td id=\"T_05225_row60_col0\" class=\"data row60 col0\" >0.98</td>\n",
       "    </tr>\n",
       "    <tr>\n",
       "      <th id=\"T_05225_level1_row61\" class=\"row_heading level1 row61\" >2</th>\n",
       "      <td id=\"T_05225_row61_col0\" class=\"data row61 col0\" >0.96</td>\n",
       "    </tr>\n",
       "    <tr>\n",
       "      <th id=\"T_05225_level1_row62\" class=\"row_heading level1 row62\" >3</th>\n",
       "      <td id=\"T_05225_row62_col0\" class=\"data row62 col0\" >0.96</td>\n",
       "    </tr>\n",
       "    <tr>\n",
       "      <th id=\"T_05225_level1_row63\" class=\"row_heading level1 row63\" >4</th>\n",
       "      <td id=\"T_05225_row63_col0\" class=\"data row63 col0\" >0.96</td>\n",
       "    </tr>\n",
       "    <tr>\n",
       "      <th id=\"T_05225_level1_row64\" class=\"row_heading level1 row64\" >5</th>\n",
       "      <td id=\"T_05225_row64_col0\" class=\"data row64 col0\" >0.96</td>\n",
       "    </tr>\n",
       "    <tr>\n",
       "      <th id=\"T_05225_level1_row65\" class=\"row_heading level1 row65\" >6</th>\n",
       "      <td id=\"T_05225_row65_col0\" class=\"data row65 col0\" >0.96</td>\n",
       "    </tr>\n",
       "    <tr>\n",
       "      <th id=\"T_05225_level1_row66\" class=\"row_heading level1 row66\" >7</th>\n",
       "      <td id=\"T_05225_row66_col0\" class=\"data row66 col0\" >0.96</td>\n",
       "    </tr>\n",
       "    <tr>\n",
       "      <th id=\"T_05225_level1_row67\" class=\"row_heading level1 row67\" >8</th>\n",
       "      <td id=\"T_05225_row67_col0\" class=\"data row67 col0\" >0.96</td>\n",
       "    </tr>\n",
       "    <tr>\n",
       "      <th id=\"T_05225_level1_row68\" class=\"row_heading level1 row68\" >9</th>\n",
       "      <td id=\"T_05225_row68_col0\" class=\"data row68 col0\" >0.95</td>\n",
       "    </tr>\n",
       "    <tr>\n",
       "      <th id=\"T_05225_level1_row69\" class=\"row_heading level1 row69\" >10</th>\n",
       "      <td id=\"T_05225_row69_col0\" class=\"data row69 col0\" >0.96</td>\n",
       "    </tr>\n",
       "    <tr>\n",
       "      <th id=\"T_05225_level1_row70\" class=\"row_heading level1 row70\" >11</th>\n",
       "      <td id=\"T_05225_row70_col0\" class=\"data row70 col0\" >0.97</td>\n",
       "    </tr>\n",
       "    <tr>\n",
       "      <th id=\"T_05225_level1_row71\" class=\"row_heading level1 row71\" >12</th>\n",
       "      <td id=\"T_05225_row71_col0\" class=\"data row71 col0\" >0.99</td>\n",
       "    </tr>\n",
       "    <tr>\n",
       "      <th id=\"T_05225_level0_row72\" class=\"row_heading level0 row72\" rowspan=\"12\">2009</th>\n",
       "      <th id=\"T_05225_level1_row72\" class=\"row_heading level1 row72\" >1</th>\n",
       "      <td id=\"T_05225_row72_col0\" class=\"data row72 col0\" >0.99</td>\n",
       "    </tr>\n",
       "    <tr>\n",
       "      <th id=\"T_05225_level1_row73\" class=\"row_heading level1 row73\" >2</th>\n",
       "      <td id=\"T_05225_row73_col0\" class=\"data row73 col0\" >0.98</td>\n",
       "    </tr>\n",
       "    <tr>\n",
       "      <th id=\"T_05225_level1_row74\" class=\"row_heading level1 row74\" >3</th>\n",
       "      <td id=\"T_05225_row74_col0\" class=\"data row74 col0\" >0.96</td>\n",
       "    </tr>\n",
       "    <tr>\n",
       "      <th id=\"T_05225_level1_row75\" class=\"row_heading level1 row75\" >4</th>\n",
       "      <td id=\"T_05225_row75_col0\" class=\"data row75 col0\" >0.95</td>\n",
       "    </tr>\n",
       "    <tr>\n",
       "      <th id=\"T_05225_level1_row76\" class=\"row_heading level1 row76\" >5</th>\n",
       "      <td id=\"T_05225_row76_col0\" class=\"data row76 col0\" >0.96</td>\n",
       "    </tr>\n",
       "    <tr>\n",
       "      <th id=\"T_05225_level1_row77\" class=\"row_heading level1 row77\" >6</th>\n",
       "      <td id=\"T_05225_row77_col0\" class=\"data row77 col0\" >0.95</td>\n",
       "    </tr>\n",
       "    <tr>\n",
       "      <th id=\"T_05225_level1_row78\" class=\"row_heading level1 row78\" >7</th>\n",
       "      <td id=\"T_05225_row78_col0\" class=\"data row78 col0\" >0.95</td>\n",
       "    </tr>\n",
       "    <tr>\n",
       "      <th id=\"T_05225_level1_row79\" class=\"row_heading level1 row79\" >8</th>\n",
       "      <td id=\"T_05225_row79_col0\" class=\"data row79 col0\" >0.96</td>\n",
       "    </tr>\n",
       "    <tr>\n",
       "      <th id=\"T_05225_level1_row80\" class=\"row_heading level1 row80\" >9</th>\n",
       "      <td id=\"T_05225_row80_col0\" class=\"data row80 col0\" >0.96</td>\n",
       "    </tr>\n",
       "    <tr>\n",
       "      <th id=\"T_05225_level1_row81\" class=\"row_heading level1 row81\" >10</th>\n",
       "      <td id=\"T_05225_row81_col0\" class=\"data row81 col0\" >0.99</td>\n",
       "    </tr>\n",
       "    <tr>\n",
       "      <th id=\"T_05225_level1_row82\" class=\"row_heading level1 row82\" >11</th>\n",
       "      <td id=\"T_05225_row82_col0\" class=\"data row82 col0\" >0.99</td>\n",
       "    </tr>\n",
       "    <tr>\n",
       "      <th id=\"T_05225_level1_row83\" class=\"row_heading level1 row83\" >12</th>\n",
       "      <td id=\"T_05225_row83_col0\" class=\"data row83 col0\" >0.99</td>\n",
       "    </tr>\n",
       "    <tr>\n",
       "      <th id=\"T_05225_level0_row84\" class=\"row_heading level0 row84\" rowspan=\"12\">2010</th>\n",
       "      <th id=\"T_05225_level1_row84\" class=\"row_heading level1 row84\" >1</th>\n",
       "      <td id=\"T_05225_row84_col0\" class=\"data row84 col0\" >0.98</td>\n",
       "    </tr>\n",
       "    <tr>\n",
       "      <th id=\"T_05225_level1_row85\" class=\"row_heading level1 row85\" >2</th>\n",
       "      <td id=\"T_05225_row85_col0\" class=\"data row85 col0\" >0.98</td>\n",
       "    </tr>\n",
       "    <tr>\n",
       "      <th id=\"T_05225_level1_row86\" class=\"row_heading level1 row86\" >3</th>\n",
       "      <td id=\"T_05225_row86_col0\" class=\"data row86 col0\" >0.95</td>\n",
       "    </tr>\n",
       "    <tr>\n",
       "      <th id=\"T_05225_level1_row87\" class=\"row_heading level1 row87\" >4</th>\n",
       "      <td id=\"T_05225_row87_col0\" class=\"data row87 col0\" >0.96</td>\n",
       "    </tr>\n",
       "    <tr>\n",
       "      <th id=\"T_05225_level1_row88\" class=\"row_heading level1 row88\" >5</th>\n",
       "      <td id=\"T_05225_row88_col0\" class=\"data row88 col0\" >0.96</td>\n",
       "    </tr>\n",
       "    <tr>\n",
       "      <th id=\"T_05225_level1_row89\" class=\"row_heading level1 row89\" >6</th>\n",
       "      <td id=\"T_05225_row89_col0\" class=\"data row89 col0\" >0.95</td>\n",
       "    </tr>\n",
       "    <tr>\n",
       "      <th id=\"T_05225_level1_row90\" class=\"row_heading level1 row90\" >7</th>\n",
       "      <td id=\"T_05225_row90_col0\" class=\"data row90 col0\" >0.95</td>\n",
       "    </tr>\n",
       "    <tr>\n",
       "      <th id=\"T_05225_level1_row91\" class=\"row_heading level1 row91\" >8</th>\n",
       "      <td id=\"T_05225_row91_col0\" class=\"data row91 col0\" >0.96</td>\n",
       "    </tr>\n",
       "    <tr>\n",
       "      <th id=\"T_05225_level1_row92\" class=\"row_heading level1 row92\" >9</th>\n",
       "      <td id=\"T_05225_row92_col0\" class=\"data row92 col0\" >0.96</td>\n",
       "    </tr>\n",
       "    <tr>\n",
       "      <th id=\"T_05225_level1_row93\" class=\"row_heading level1 row93\" >10</th>\n",
       "      <td id=\"T_05225_row93_col0\" class=\"data row93 col0\" >0.97</td>\n",
       "    </tr>\n",
       "    <tr>\n",
       "      <th id=\"T_05225_level1_row94\" class=\"row_heading level1 row94\" >11</th>\n",
       "      <td id=\"T_05225_row94_col0\" class=\"data row94 col0\" >0.98</td>\n",
       "    </tr>\n",
       "    <tr>\n",
       "      <th id=\"T_05225_level1_row95\" class=\"row_heading level1 row95\" >12</th>\n",
       "      <td id=\"T_05225_row95_col0\" class=\"data row95 col0\" >0.98</td>\n",
       "    </tr>\n",
       "    <tr>\n",
       "      <th id=\"T_05225_level0_row96\" class=\"row_heading level0 row96\" rowspan=\"12\">2011</th>\n",
       "      <th id=\"T_05225_level1_row96\" class=\"row_heading level1 row96\" >1</th>\n",
       "      <td id=\"T_05225_row96_col0\" class=\"data row96 col0\" >0.98</td>\n",
       "    </tr>\n",
       "    <tr>\n",
       "      <th id=\"T_05225_level1_row97\" class=\"row_heading level1 row97\" >2</th>\n",
       "      <td id=\"T_05225_row97_col0\" class=\"data row97 col0\" >0.99</td>\n",
       "    </tr>\n",
       "    <tr>\n",
       "      <th id=\"T_05225_level1_row98\" class=\"row_heading level1 row98\" >3</th>\n",
       "      <td id=\"T_05225_row98_col0\" class=\"data row98 col0\" >0.97</td>\n",
       "    </tr>\n",
       "    <tr>\n",
       "      <th id=\"T_05225_level1_row99\" class=\"row_heading level1 row99\" >4</th>\n",
       "      <td id=\"T_05225_row99_col0\" class=\"data row99 col0\" >0.95</td>\n",
       "    </tr>\n",
       "    <tr>\n",
       "      <th id=\"T_05225_level1_row100\" class=\"row_heading level1 row100\" >5</th>\n",
       "      <td id=\"T_05225_row100_col0\" class=\"data row100 col0\" >0.96</td>\n",
       "    </tr>\n",
       "    <tr>\n",
       "      <th id=\"T_05225_level1_row101\" class=\"row_heading level1 row101\" >6</th>\n",
       "      <td id=\"T_05225_row101_col0\" class=\"data row101 col0\" >0.95</td>\n",
       "    </tr>\n",
       "    <tr>\n",
       "      <th id=\"T_05225_level1_row102\" class=\"row_heading level1 row102\" >7</th>\n",
       "      <td id=\"T_05225_row102_col0\" class=\"data row102 col0\" >0.95</td>\n",
       "    </tr>\n",
       "    <tr>\n",
       "      <th id=\"T_05225_level1_row103\" class=\"row_heading level1 row103\" >8</th>\n",
       "      <td id=\"T_05225_row103_col0\" class=\"data row103 col0\" >0.96</td>\n",
       "    </tr>\n",
       "    <tr>\n",
       "      <th id=\"T_05225_level1_row104\" class=\"row_heading level1 row104\" >9</th>\n",
       "      <td id=\"T_05225_row104_col0\" class=\"data row104 col0\" >0.96</td>\n",
       "    </tr>\n",
       "    <tr>\n",
       "      <th id=\"T_05225_level1_row105\" class=\"row_heading level1 row105\" >10</th>\n",
       "      <td id=\"T_05225_row105_col0\" class=\"data row105 col0\" >0.96</td>\n",
       "    </tr>\n",
       "    <tr>\n",
       "      <th id=\"T_05225_level1_row106\" class=\"row_heading level1 row106\" >11</th>\n",
       "      <td id=\"T_05225_row106_col0\" class=\"data row106 col0\" >0.98</td>\n",
       "    </tr>\n",
       "    <tr>\n",
       "      <th id=\"T_05225_level1_row107\" class=\"row_heading level1 row107\" >12</th>\n",
       "      <td id=\"T_05225_row107_col0\" class=\"data row107 col0\" >0.98</td>\n",
       "    </tr>\n",
       "    <tr>\n",
       "      <th id=\"T_05225_level0_row108\" class=\"row_heading level0 row108\" rowspan=\"12\">2012</th>\n",
       "      <th id=\"T_05225_level1_row108\" class=\"row_heading level1 row108\" >1</th>\n",
       "      <td id=\"T_05225_row108_col0\" class=\"data row108 col0\" >0.99</td>\n",
       "    </tr>\n",
       "    <tr>\n",
       "      <th id=\"T_05225_level1_row109\" class=\"row_heading level1 row109\" >2</th>\n",
       "      <td id=\"T_05225_row109_col0\" class=\"data row109 col0\" >0.98</td>\n",
       "    </tr>\n",
       "    <tr>\n",
       "      <th id=\"T_05225_level1_row110\" class=\"row_heading level1 row110\" >3</th>\n",
       "      <td id=\"T_05225_row110_col0\" class=\"data row110 col0\" >0.97</td>\n",
       "    </tr>\n",
       "    <tr>\n",
       "      <th id=\"T_05225_level1_row111\" class=\"row_heading level1 row111\" >4</th>\n",
       "      <td id=\"T_05225_row111_col0\" class=\"data row111 col0\" >0.95</td>\n",
       "    </tr>\n",
       "    <tr>\n",
       "      <th id=\"T_05225_level1_row112\" class=\"row_heading level1 row112\" >5</th>\n",
       "      <td id=\"T_05225_row112_col0\" class=\"data row112 col0\" >0.96</td>\n",
       "    </tr>\n",
       "    <tr>\n",
       "      <th id=\"T_05225_level1_row113\" class=\"row_heading level1 row113\" >6</th>\n",
       "      <td id=\"T_05225_row113_col0\" class=\"data row113 col0\" >0.96</td>\n",
       "    </tr>\n",
       "    <tr>\n",
       "      <th id=\"T_05225_level1_row114\" class=\"row_heading level1 row114\" >7</th>\n",
       "      <td id=\"T_05225_row114_col0\" class=\"data row114 col0\" >0.96</td>\n",
       "    </tr>\n",
       "    <tr>\n",
       "      <th id=\"T_05225_level1_row115\" class=\"row_heading level1 row115\" >8</th>\n",
       "      <td id=\"T_05225_row115_col0\" class=\"data row115 col0\" >0.96</td>\n",
       "    </tr>\n",
       "    <tr>\n",
       "      <th id=\"T_05225_level1_row116\" class=\"row_heading level1 row116\" >9</th>\n",
       "      <td id=\"T_05225_row116_col0\" class=\"data row116 col0\" >0.95</td>\n",
       "    </tr>\n",
       "    <tr>\n",
       "      <th id=\"T_05225_level1_row117\" class=\"row_heading level1 row117\" >10</th>\n",
       "      <td id=\"T_05225_row117_col0\" class=\"data row117 col0\" >0.95</td>\n",
       "    </tr>\n",
       "    <tr>\n",
       "      <th id=\"T_05225_level1_row118\" class=\"row_heading level1 row118\" >11</th>\n",
       "      <td id=\"T_05225_row118_col0\" class=\"data row118 col0\" >0.97</td>\n",
       "    </tr>\n",
       "    <tr>\n",
       "      <th id=\"T_05225_level1_row119\" class=\"row_heading level1 row119\" >12</th>\n",
       "      <td id=\"T_05225_row119_col0\" class=\"data row119 col0\" >0.99</td>\n",
       "    </tr>\n",
       "  </tbody>\n",
       "</table>\n"
      ],
      "text/plain": [
       "<pandas.io.formats.style.Styler at 0x119cfa830>"
      ]
     },
     "execution_count": 8,
     "metadata": {},
     "output_type": "execute_result"
    }
   ],
   "source": [
    "# Demonstrate the granular monthly reporting\n",
    "style(metrics.time_based_availability(frequency=\"month-year\", by=\"windfarm\"))"
   ]
  },
  {
   "cell_type": "markdown",
   "id": "c0201758",
   "metadata": {},
   "source": [
    "## Capacity Factor\n",
    "\n",
    "The capacity factor is the ratio of actual (net) or potential (gross) energy production divided by the project's capacity. For further documentation, see the API docs here: {py:meth}`wombat.core.post_processor.Metrics.capacity_factor`.\n",
    "\n",
    "**Inputs**:\n",
    "\n",
    "- `which`\n",
    "  - \"net\": net capcity factor, actual production divided by the plant capacity\n",
    "  - \"gross\": gross capacity factor, potential production divided by the plant capacity\n",
    "- `frequency`, as explained [above](#common-parameter-explanations), options: \"project\", \"annual\", \"monthly\", and \"month-year\"\n",
    "- `by`, as explained [above](#common-parameter-explanations), options: \"windfarm\" and \"turbine\"\n",
    "\n",
    "**Example Usage**:"
   ]
  },
  {
   "cell_type": "code",
   "execution_count": 9,
   "id": "8f66e0c2",
   "metadata": {
    "tags": [
     "output_scroll"
    ]
   },
   "outputs": [
    {
     "name": "stdout",
     "output_type": "stream",
     "text": [
      "  Net capacity factor: 46.27%\n",
      "Gross capacity factor: 47.67%\n"
     ]
    }
   ],
   "source": [
    "net_cf = metrics.capacity_factor(which=\"net\", frequency=\"project\", by=\"windfarm\").values[0][0]\n",
    "gross_cf = metrics.capacity_factor(which=\"gross\", frequency=\"project\", by=\"windfarm\").values[0][0]\n",
    "print(f\"  Net capacity factor: {net_cf:.2%}\")\n",
    "print(f\"Gross capacity factor: {gross_cf:.2%}\")"
   ]
  },
  {
   "cell_type": "markdown",
   "id": "2f42e881",
   "metadata": {},
   "source": [
    "## Task Completion Rate\n",
    "\n",
    "The task completion rate is the ratio of tasks completed aggregated to the desired `frequency`. It is possible to have a >100% completion rate if all maintenance and failure requests submitted in a time period were completed in addition to those that went unfinished in prior time periods. For further documentation, see the API docs here: {py:meth}`wombat.core.post_processor.Metrics.task_completion_rate`.\n",
    "\n",
    "**Inputs**:\n",
    "\n",
    "- `which`\n",
    "  - \"scheduled\": scheduled maintenance only (classified as maintenace tasks in inputs)\n",
    "  - \"unscheduled\": unscheduled maintenance only (classified as failure events in inputs)\n",
    "  - \"both\": Combined completion rate for all tasks\n",
    "- `frequency`, as explained [above](#common-parameter-explanations), options: \"project\", \"annual\", \"monthly\", and \"month-year\"\n",
    "\n",
    "**Example Usage**:"
   ]
  },
  {
   "cell_type": "code",
   "execution_count": 10,
   "id": "fe5188b5",
   "metadata": {
    "tags": [
     "output_scroll"
    ]
   },
   "outputs": [
    {
     "name": "stdout",
     "output_type": "stream",
     "text": [
      "  Scheduled Task Completion Rate: 96.53%\n",
      "Unscheduled Task Completion Rate: 99.81%\n",
      "    Overall Task Completion Rate: 99.55%\n"
     ]
    }
   ],
   "source": [
    "scheduled = metrics.task_completion_rate(which=\"scheduled\", frequency=\"project\").values[0][0]\n",
    "unscheduled = metrics.task_completion_rate(which=\"unscheduled\", frequency=\"project\").values[0][0]\n",
    "combined = metrics.task_completion_rate(which=\"both\", frequency=\"project\").values[0][0]\n",
    "print(f\"  Scheduled Task Completion Rate: {scheduled:.2%}\")\n",
    "print(f\"Unscheduled Task Completion Rate: {unscheduled:.2%}\")\n",
    "print(f\"    Overall Task Completion Rate: {combined:.2%}\")"
   ]
  },
  {
   "cell_type": "markdown",
   "id": "ad0cfd2c",
   "metadata": {},
   "source": [
    "## Equipment Costs\n",
    "\n",
    "Sum of the costs associated with a simulation's servicing equipment, which excludes materials, downtime, etc. For further documentation, see the API docs here: {py:meth}`wombat.core.post_processor.Metrics.equipment_costs`.\n",
    "\n",
    "**Inputs**:\n",
    "\n",
    "- `frequency`, as explained [above](#common-parameter-explanations), options: \"project\", \"annual\", \"monthly\", and \"month-year\"\n",
    "- `by_equipment`\n",
    "  - `True`: Aggregates all equipment into a single cost\n",
    "  - `False`: Computes for each unit of servicing equipment\n",
    "\n",
    "**Example Usage**:"
   ]
  },
  {
   "cell_type": "code",
   "execution_count": 11,
   "id": "96cb3add",
   "metadata": {
    "tags": [
     "output_scroll"
    ]
   },
   "outputs": [
    {
     "data": {
      "text/html": [
       "<style type=\"text/css\">\n",
       "</style>\n",
       "<table id=\"T_fb650\" style=\"font-size: 14px; grid-column-count: 6\">\n",
       "  <thead>\n",
       "    <tr>\n",
       "      <th class=\"blank level0\" >&nbsp;</th>\n",
       "      <th id=\"T_fb650_level0_col0\" class=\"col_heading level0 col0\" >equipment_cost</th>\n",
       "    </tr>\n",
       "  </thead>\n",
       "  <tbody>\n",
       "    <tr>\n",
       "      <th id=\"T_fb650_level0_row0\" class=\"row_heading level0 row0\" >0</th>\n",
       "      <td id=\"T_fb650_row0_col0\" class=\"data row0 col0\" >92,002,894.09</td>\n",
       "    </tr>\n",
       "  </tbody>\n",
       "</table>\n"
      ],
      "text/plain": [
       "<pandas.io.formats.style.Styler at 0x11b5dac20>"
      ]
     },
     "execution_count": 11,
     "metadata": {},
     "output_type": "execute_result"
    }
   ],
   "source": [
    "# Project total at the whole wind farm level\n",
    "style(metrics.equipment_costs(frequency=\"project\", by_equipment=False))"
   ]
  },
  {
   "cell_type": "code",
   "execution_count": 12,
   "id": "9b151363",
   "metadata": {
    "tags": [
     "output_scroll"
    ]
   },
   "outputs": [
    {
     "data": {
      "text/html": [
       "<style type=\"text/css\">\n",
       "</style>\n",
       "<table id=\"T_907a8\" style=\"font-size: 14px; grid-column-count: 6\">\n",
       "  <thead>\n",
       "    <tr>\n",
       "      <th class=\"blank level0\" >&nbsp;</th>\n",
       "      <th id=\"T_907a8_level0_col0\" class=\"col_heading level0 col0\" >Crew Transfer Vessel 1</th>\n",
       "      <th id=\"T_907a8_level0_col1\" class=\"col_heading level0 col1\" >Crew Transfer Vessel 2</th>\n",
       "      <th id=\"T_907a8_level0_col2\" class=\"col_heading level0 col2\" >Crew Transfer Vessel 3</th>\n",
       "      <th id=\"T_907a8_level0_col3\" class=\"col_heading level0 col3\" >Field Support Vessel</th>\n",
       "      <th id=\"T_907a8_level0_col4\" class=\"col_heading level0 col4\" >Heavy Lift Vessel</th>\n",
       "    </tr>\n",
       "  </thead>\n",
       "  <tbody>\n",
       "    <tr>\n",
       "      <th id=\"T_907a8_level0_row0\" class=\"row_heading level0 row0\" >0</th>\n",
       "      <td id=\"T_907a8_row0_col0\" class=\"data row0 col0\" >6,391,000.00</td>\n",
       "      <td id=\"T_907a8_row0_col1\" class=\"data row0 col1\" >6,391,000.00</td>\n",
       "      <td id=\"T_907a8_row0_col2\" class=\"data row0 col2\" >6,391,000.00</td>\n",
       "      <td id=\"T_907a8_row0_col3\" class=\"data row0 col3\" >1,898,300.34</td>\n",
       "      <td id=\"T_907a8_row0_col4\" class=\"data row0 col4\" >70,931,593.75</td>\n",
       "    </tr>\n",
       "  </tbody>\n",
       "</table>\n"
      ],
      "text/plain": [
       "<pandas.io.formats.style.Styler at 0x119cabb80>"
      ]
     },
     "execution_count": 12,
     "metadata": {},
     "output_type": "execute_result"
    }
   ],
   "source": [
    "# Project totals at servicing equipment level\n",
    "style(metrics.equipment_costs(frequency=\"project\", by_equipment=True))"
   ]
  },
  {
   "cell_type": "markdown",
   "id": "50edccc0",
   "metadata": {},
   "source": [
    "## Service Equipment Utilization Rate\n",
    "\n",
    "Ratio of days when the servicing equipment is in use (not delayed for a whole day due to either weather or lack of repairs to be completed) to the number of days it's present in the simulation. For further documentation, see the API docs here: {py:meth}`wombat.core.post_processor.Metrics.service_equipment_utilization`.\n",
    "\n",
    "**Inputs**:\n",
    "\n",
    "- `frequency`, as explained [above](#common-parameter-explanations), options: \"project\" and \"annual\"\n",
    "\n",
    "**Example Usage**:"
   ]
  },
  {
   "cell_type": "code",
   "execution_count": 13,
   "id": "4aa3aa34",
   "metadata": {
    "tags": [
     "output_scroll"
    ]
   },
   "outputs": [
    {
     "data": {
      "text/html": [
       "<style type=\"text/css\">\n",
       "</style>\n",
       "<table id=\"T_a2bf9\" style=\"font-size: 14px; grid-column-count: 6\">\n",
       "  <thead>\n",
       "    <tr>\n",
       "      <th class=\"blank level0\" >&nbsp;</th>\n",
       "      <th id=\"T_a2bf9_level0_col0\" class=\"col_heading level0 col0\" >Crew Transfer Vessel 1</th>\n",
       "      <th id=\"T_a2bf9_level0_col1\" class=\"col_heading level0 col1\" >Crew Transfer Vessel 2</th>\n",
       "      <th id=\"T_a2bf9_level0_col2\" class=\"col_heading level0 col2\" >Crew Transfer Vessel 3</th>\n",
       "      <th id=\"T_a2bf9_level0_col3\" class=\"col_heading level0 col3\" >Field Support Vessel</th>\n",
       "      <th id=\"T_a2bf9_level0_col4\" class=\"col_heading level0 col4\" >Heavy Lift Vessel</th>\n",
       "    </tr>\n",
       "  </thead>\n",
       "  <tbody>\n",
       "    <tr>\n",
       "      <th id=\"T_a2bf9_level0_row0\" class=\"row_heading level0 row0\" >0</th>\n",
       "      <td id=\"T_a2bf9_row0_col0\" class=\"data row0 col0\" >1.00</td>\n",
       "      <td id=\"T_a2bf9_row0_col1\" class=\"data row0 col1\" >1.00</td>\n",
       "      <td id=\"T_a2bf9_row0_col2\" class=\"data row0 col2\" >1.00</td>\n",
       "      <td id=\"T_a2bf9_row0_col3\" class=\"data row0 col3\" >0.92</td>\n",
       "      <td id=\"T_a2bf9_row0_col4\" class=\"data row0 col4\" >0.93</td>\n",
       "    </tr>\n",
       "  </tbody>\n",
       "</table>\n"
      ],
      "text/plain": [
       "<pandas.io.formats.style.Styler at 0x11a58de70>"
      ]
     },
     "execution_count": 13,
     "metadata": {},
     "output_type": "execute_result"
    }
   ],
   "source": [
    "# Project totals\n",
    "style(metrics.service_equipment_utilization(frequency=\"project\"))"
   ]
  },
  {
   "cell_type": "markdown",
   "id": "893bea61",
   "metadata": {},
   "source": [
    "## Vessel-Crew Hours at Sea\n",
    "\n",
    "The number of vessel hours or crew hours at sea for offshore wind power plant simulations. For further documentation, see the API docs here: {py:meth}`wombat.core.post_processor.Metrics.vessel_crew_hours_at_sea`.\n",
    "\n",
    "**Inputs**:\n",
    "\n",
    "- `frequency`, as explained [above](#common-parameter-explanations), options: \"project\", \"annual\", \"monthly\", and \"month-year\"\n",
    "- `by_equipment`\n",
    "  - `True`: Aggregates all equipment into a single cost\n",
    "  - `False`: Computes for each unit of servicing equipment\n",
    "- `vessel_crew_assumption`: A dictionary of vessel names (`ServiceEquipment.settings.name`, but also found at `Metrics.service_equipment_names`) and the number of crew onboard at any given time. The application of this assumption transforms the results from vessel hours at sea to crew hours at sea.\n",
    "\n",
    "**Example Usage**:"
   ]
  },
  {
   "cell_type": "code",
   "execution_count": 14,
   "id": "a6fe151c",
   "metadata": {
    "tags": [
     "output_scroll"
    ]
   },
   "outputs": [
    {
     "data": {
      "text/html": [
       "<style type=\"text/css\">\n",
       "</style>\n",
       "<table id=\"T_2145a\" style=\"font-size: 14px; grid-column-count: 6\">\n",
       "  <thead>\n",
       "    <tr>\n",
       "      <th class=\"blank level0\" >&nbsp;</th>\n",
       "      <th id=\"T_2145a_level0_col0\" class=\"col_heading level0 col0\" >Total Crew Hours at Sea</th>\n",
       "    </tr>\n",
       "  </thead>\n",
       "  <tbody>\n",
       "    <tr>\n",
       "      <th id=\"T_2145a_level0_row0\" class=\"row_heading level0 row0\" >0</th>\n",
       "      <td id=\"T_2145a_row0_col0\" class=\"data row0 col0\" >126,713.32</td>\n",
       "    </tr>\n",
       "  </tbody>\n",
       "</table>\n"
      ],
      "text/plain": [
       "<pandas.io.formats.style.Styler at 0x119cabdc0>"
      ]
     },
     "execution_count": 14,
     "metadata": {},
     "output_type": "execute_result"
    }
   ],
   "source": [
    "# Project total, not broken out by vessel\n",
    "style(metrics.vessel_crew_hours_at_sea(frequency=\"project\", by_equipment=False))"
   ]
  },
  {
   "cell_type": "code",
   "execution_count": 15,
   "id": "d24396fb",
   "metadata": {
    "tags": [
     "output_scroll"
    ]
   },
   "outputs": [
    {
     "data": {
      "text/html": [
       "<style type=\"text/css\">\n",
       "</style>\n",
       "<table id=\"T_2cd34\" style=\"font-size: 14px; grid-column-count: 6\">\n",
       "  <thead>\n",
       "    <tr>\n",
       "      <th class=\"blank level0\" >&nbsp;</th>\n",
       "      <th id=\"T_2cd34_level0_col0\" class=\"col_heading level0 col0\" >Total Crew Hours at Sea</th>\n",
       "      <th id=\"T_2cd34_level0_col1\" class=\"col_heading level0 col1\" >Crew Transfer Vessel 1</th>\n",
       "      <th id=\"T_2cd34_level0_col2\" class=\"col_heading level0 col2\" >Crew Transfer Vessel 2</th>\n",
       "      <th id=\"T_2cd34_level0_col3\" class=\"col_heading level0 col3\" >Crew Transfer Vessel 3</th>\n",
       "      <th id=\"T_2cd34_level0_col4\" class=\"col_heading level0 col4\" >Heavy Lift Vessel</th>\n",
       "      <th id=\"T_2cd34_level0_col5\" class=\"col_heading level0 col5\" >Field Support Vessel</th>\n",
       "    </tr>\n",
       "    <tr>\n",
       "      <th class=\"index_name level0\" >year</th>\n",
       "      <th class=\"blank col0\" >&nbsp;</th>\n",
       "      <th class=\"blank col1\" >&nbsp;</th>\n",
       "      <th class=\"blank col2\" >&nbsp;</th>\n",
       "      <th class=\"blank col3\" >&nbsp;</th>\n",
       "      <th class=\"blank col4\" >&nbsp;</th>\n",
       "      <th class=\"blank col5\" >&nbsp;</th>\n",
       "    </tr>\n",
       "  </thead>\n",
       "  <tbody>\n",
       "    <tr>\n",
       "      <th id=\"T_2cd34_level0_row0\" class=\"row_heading level0 row0\" >2003</th>\n",
       "      <td id=\"T_2cd34_row0_col0\" class=\"data row0 col0\" >7,536.25</td>\n",
       "      <td id=\"T_2cd34_row0_col1\" class=\"data row0 col1\" >1,774.50</td>\n",
       "      <td id=\"T_2cd34_row0_col2\" class=\"data row0 col2\" >1,803.50</td>\n",
       "      <td id=\"T_2cd34_row0_col3\" class=\"data row0 col3\" >1,671.25</td>\n",
       "      <td id=\"T_2cd34_row0_col4\" class=\"data row0 col4\" >1,671.50</td>\n",
       "      <td id=\"T_2cd34_row0_col5\" class=\"data row0 col5\" >615.50</td>\n",
       "    </tr>\n",
       "    <tr>\n",
       "      <th id=\"T_2cd34_level0_row1\" class=\"row_heading level0 row1\" >2004</th>\n",
       "      <td id=\"T_2cd34_row1_col0\" class=\"data row1 col0\" >12,214.00</td>\n",
       "      <td id=\"T_2cd34_row1_col1\" class=\"data row1 col1\" >3,563.00</td>\n",
       "      <td id=\"T_2cd34_row1_col2\" class=\"data row1 col2\" >3,486.00</td>\n",
       "      <td id=\"T_2cd34_row1_col3\" class=\"data row1 col3\" >3,517.50</td>\n",
       "      <td id=\"T_2cd34_row1_col4\" class=\"data row1 col4\" >1,647.50</td>\n",
       "      <td id=\"T_2cd34_row1_col5\" class=\"data row1 col5\" >0.00</td>\n",
       "    </tr>\n",
       "    <tr>\n",
       "      <th id=\"T_2cd34_level0_row2\" class=\"row_heading level0 row2\" >2005</th>\n",
       "      <td id=\"T_2cd34_row2_col0\" class=\"data row2 col0\" >13,078.93</td>\n",
       "      <td id=\"T_2cd34_row2_col1\" class=\"data row2 col1\" >3,465.25</td>\n",
       "      <td id=\"T_2cd34_row2_col2\" class=\"data row2 col2\" >3,513.00</td>\n",
       "      <td id=\"T_2cd34_row2_col3\" class=\"data row2 col3\" >3,464.75</td>\n",
       "      <td id=\"T_2cd34_row2_col4\" class=\"data row2 col4\" >2,033.93</td>\n",
       "      <td id=\"T_2cd34_row2_col5\" class=\"data row2 col5\" >602.00</td>\n",
       "    </tr>\n",
       "    <tr>\n",
       "      <th id=\"T_2cd34_level0_row3\" class=\"row_heading level0 row3\" >2006</th>\n",
       "      <td id=\"T_2cd34_row3_col0\" class=\"data row3 col0\" >11,509.92</td>\n",
       "      <td id=\"T_2cd34_row3_col1\" class=\"data row3 col1\" >3,175.50</td>\n",
       "      <td id=\"T_2cd34_row3_col2\" class=\"data row3 col2\" >3,261.25</td>\n",
       "      <td id=\"T_2cd34_row3_col3\" class=\"data row3 col3\" >3,256.50</td>\n",
       "      <td id=\"T_2cd34_row3_col4\" class=\"data row3 col4\" >1,816.67</td>\n",
       "      <td id=\"T_2cd34_row3_col5\" class=\"data row3 col5\" >0.00</td>\n",
       "    </tr>\n",
       "    <tr>\n",
       "      <th id=\"T_2cd34_level0_row4\" class=\"row_heading level0 row4\" >2007</th>\n",
       "      <td id=\"T_2cd34_row4_col0\" class=\"data row4 col0\" >14,039.25</td>\n",
       "      <td id=\"T_2cd34_row4_col1\" class=\"data row4 col1\" >3,420.75</td>\n",
       "      <td id=\"T_2cd34_row4_col2\" class=\"data row4 col2\" >3,468.75</td>\n",
       "      <td id=\"T_2cd34_row4_col3\" class=\"data row4 col3\" >3,412.50</td>\n",
       "      <td id=\"T_2cd34_row4_col4\" class=\"data row4 col4\" >3,137.25</td>\n",
       "      <td id=\"T_2cd34_row4_col5\" class=\"data row4 col5\" >600.00</td>\n",
       "    </tr>\n",
       "    <tr>\n",
       "      <th id=\"T_2cd34_level0_row5\" class=\"row_heading level0 row5\" >2008</th>\n",
       "      <td id=\"T_2cd34_row5_col0\" class=\"data row5 col0\" >13,677.33</td>\n",
       "      <td id=\"T_2cd34_row5_col1\" class=\"data row5 col1\" >3,521.50</td>\n",
       "      <td id=\"T_2cd34_row5_col2\" class=\"data row5 col2\" >3,609.75</td>\n",
       "      <td id=\"T_2cd34_row5_col3\" class=\"data row5 col3\" >3,567.50</td>\n",
       "      <td id=\"T_2cd34_row5_col4\" class=\"data row5 col4\" >2,345.58</td>\n",
       "      <td id=\"T_2cd34_row5_col5\" class=\"data row5 col5\" >633.00</td>\n",
       "    </tr>\n",
       "    <tr>\n",
       "      <th id=\"T_2cd34_level0_row6\" class=\"row_heading level0 row6\" >2009</th>\n",
       "      <td id=\"T_2cd34_row6_col0\" class=\"data row6 col0\" >12,051.50</td>\n",
       "      <td id=\"T_2cd34_row6_col1\" class=\"data row6 col1\" >3,142.00</td>\n",
       "      <td id=\"T_2cd34_row6_col2\" class=\"data row6 col2\" >3,248.00</td>\n",
       "      <td id=\"T_2cd34_row6_col3\" class=\"data row6 col3\" >3,273.00</td>\n",
       "      <td id=\"T_2cd34_row6_col4\" class=\"data row6 col4\" >1,744.50</td>\n",
       "      <td id=\"T_2cd34_row6_col5\" class=\"data row6 col5\" >644.00</td>\n",
       "    </tr>\n",
       "    <tr>\n",
       "      <th id=\"T_2cd34_level0_row7\" class=\"row_heading level0 row7\" >2010</th>\n",
       "      <td id=\"T_2cd34_row7_col0\" class=\"data row7 col0\" >15,371.03</td>\n",
       "      <td id=\"T_2cd34_row7_col1\" class=\"data row7 col1\" >3,351.25</td>\n",
       "      <td id=\"T_2cd34_row7_col2\" class=\"data row7 col2\" >3,285.00</td>\n",
       "      <td id=\"T_2cd34_row7_col3\" class=\"data row7 col3\" >3,287.25</td>\n",
       "      <td id=\"T_2cd34_row7_col4\" class=\"data row7 col4\" >5,447.53</td>\n",
       "      <td id=\"T_2cd34_row7_col5\" class=\"data row7 col5\" >0.00</td>\n",
       "    </tr>\n",
       "    <tr>\n",
       "      <th id=\"T_2cd34_level0_row8\" class=\"row_heading level0 row8\" >2011</th>\n",
       "      <td id=\"T_2cd34_row8_col0\" class=\"data row8 col0\" >12,949.14</td>\n",
       "      <td id=\"T_2cd34_row8_col1\" class=\"data row8 col1\" >3,561.50</td>\n",
       "      <td id=\"T_2cd34_row8_col2\" class=\"data row8 col2\" >3,526.00</td>\n",
       "      <td id=\"T_2cd34_row8_col3\" class=\"data row8 col3\" >3,506.00</td>\n",
       "      <td id=\"T_2cd34_row8_col4\" class=\"data row8 col4\" >1,724.64</td>\n",
       "      <td id=\"T_2cd34_row8_col5\" class=\"data row8 col5\" >631.00</td>\n",
       "    </tr>\n",
       "    <tr>\n",
       "      <th id=\"T_2cd34_level0_row9\" class=\"row_heading level0 row9\" >2012</th>\n",
       "      <td id=\"T_2cd34_row9_col0\" class=\"data row9 col0\" >14,285.97</td>\n",
       "      <td id=\"T_2cd34_row9_col1\" class=\"data row9 col1\" >3,391.75</td>\n",
       "      <td id=\"T_2cd34_row9_col2\" class=\"data row9 col2\" >3,437.00</td>\n",
       "      <td id=\"T_2cd34_row9_col3\" class=\"data row9 col3\" >3,358.00</td>\n",
       "      <td id=\"T_2cd34_row9_col4\" class=\"data row9 col4\" >3,498.22</td>\n",
       "      <td id=\"T_2cd34_row9_col5\" class=\"data row9 col5\" >601.00</td>\n",
       "    </tr>\n",
       "  </tbody>\n",
       "</table>\n"
      ],
      "text/plain": [
       "<pandas.io.formats.style.Styler at 0x11b5d9750>"
      ]
     },
     "execution_count": 15,
     "metadata": {},
     "output_type": "execute_result"
    }
   ],
   "source": [
    "# Annual project totals, broken out by vessel\n",
    "style(metrics.vessel_crew_hours_at_sea(frequency=\"annual\", by_equipment=True))"
   ]
  },
  {
   "cell_type": "markdown",
   "id": "17bd908e",
   "metadata": {},
   "source": [
    "## Number of Tows\n",
    "\n",
    "The number of tows performed during the simulation. If tow-to-port was not used in the simulation, a DataFrame with a single value of 0 will be returned. For further documentation, see the API docs here: {py:meth}`wombat.core.post_processor.Metrics.number_of_tows`.\n",
    "\n",
    "**Inputs**:\n",
    "\n",
    "- `frequency`, as explained [above](#common-parameter-explanations), options: \"project\", \"annual\", \"monthly\", and \"month-year\"\n",
    "- `by_tug`\n",
    "  - `True`: Computed for each tugboat (towing vessel)\n",
    "  - `False`: Aggregates all the tugboats\n",
    "- `by_direction`\n",
    "  - `True`: Computed for each direction a tow was performed (to port or to site)\n",
    "  - `False`: Aggregates to the total number of tows\n",
    "\n",
    "**Example Usage**:"
   ]
  },
  {
   "cell_type": "code",
   "execution_count": 16,
   "id": "28c43b21",
   "metadata": {
    "tags": [
     "output_scroll"
    ]
   },
   "outputs": [
    {
     "data": {
      "text/html": [
       "<style type=\"text/css\">\n",
       "</style>\n",
       "<table id=\"T_3635b\" style=\"font-size: 14px; grid-column-count: 6\">\n",
       "  <thead>\n",
       "    <tr>\n",
       "      <th class=\"blank level0\" >&nbsp;</th>\n",
       "      <th id=\"T_3635b_level0_col0\" class=\"col_heading level0 col0\" >total_tows</th>\n",
       "    </tr>\n",
       "  </thead>\n",
       "  <tbody>\n",
       "    <tr>\n",
       "      <th id=\"T_3635b_level0_row0\" class=\"row_heading level0 row0\" >0</th>\n",
       "      <td id=\"T_3635b_row0_col0\" class=\"data row0 col0\" >0</td>\n",
       "    </tr>\n",
       "  </tbody>\n",
       "</table>\n"
      ],
      "text/plain": [
       "<pandas.io.formats.style.Styler at 0x11a58d300>"
      ]
     },
     "execution_count": 16,
     "metadata": {},
     "output_type": "execute_result"
    }
   ],
   "source": [
    "# Project Total\n",
    "# NOTE: This example has no towing, so it will return 0\n",
    "style(metrics.number_of_tows(frequency=\"project\"))"
   ]
  },
  {
   "cell_type": "markdown",
   "id": "e95d515b",
   "metadata": {},
   "source": [
    "## Labor Costs\n",
    "\n",
    "Sum of all labor costs associated with servicing equipment, excluding the labor defined in the fixed costs, which can be broken out by type. For further documentation, see the API docs here: {py:meth}`wombat.core.post_processor.Metrics.labor_costs`.\n",
    "\n",
    "**Inputs**:\n",
    "\n",
    "- `frequency`, as explained [above](#common-parameter-explanations), options: \"project\", \"annual\", \"monthly\", and \"month-year\"\n",
    "- `by_type`\n",
    "  - `True`: Computed for each labor type (salary and hourly)\n",
    "  - `False`: Aggregates all the labor costs\n",
    "\n",
    "**Example Usage**:"
   ]
  },
  {
   "cell_type": "code",
   "execution_count": 17,
   "id": "58818bd8",
   "metadata": {
    "tags": [
     "output_scroll"
    ]
   },
   "outputs": [
    {
     "name": "stdout",
     "output_type": "stream",
     "text": [
      "Project total: $0.00/MW\n"
     ]
    }
   ],
   "source": [
    "# Project total at the whole wind farm level\n",
    "total = metrics.labor_costs(frequency=\"project\", by_type=False)\n",
    "print(f\"Project total: ${total.values[0][0] / metrics.project_capacity:,.2f}/MW\")"
   ]
  },
  {
   "cell_type": "code",
   "execution_count": 18,
   "id": "efb488e8",
   "metadata": {
    "tags": [
     "output_scroll"
    ]
   },
   "outputs": [
    {
     "data": {
      "text/html": [
       "<style type=\"text/css\">\n",
       "</style>\n",
       "<table id=\"T_d365e\" style=\"font-size: 14px; grid-column-count: 6\">\n",
       "  <thead>\n",
       "    <tr>\n",
       "      <th class=\"blank level0\" >&nbsp;</th>\n",
       "      <th id=\"T_d365e_level0_col0\" class=\"col_heading level0 col0\" >hourly_labor_cost</th>\n",
       "      <th id=\"T_d365e_level0_col1\" class=\"col_heading level0 col1\" >salary_labor_cost</th>\n",
       "      <th id=\"T_d365e_level0_col2\" class=\"col_heading level0 col2\" >total_labor_cost</th>\n",
       "    </tr>\n",
       "  </thead>\n",
       "  <tbody>\n",
       "    <tr>\n",
       "      <th id=\"T_d365e_level0_row0\" class=\"row_heading level0 row0\" >0</th>\n",
       "      <td id=\"T_d365e_row0_col0\" class=\"data row0 col0\" >0</td>\n",
       "      <td id=\"T_d365e_row0_col1\" class=\"data row0 col1\" >0</td>\n",
       "      <td id=\"T_d365e_row0_col2\" class=\"data row0 col2\" >0</td>\n",
       "    </tr>\n",
       "  </tbody>\n",
       "</table>\n"
      ],
      "text/plain": [
       "<pandas.io.formats.style.Styler at 0x11b6d7ac0>"
      ]
     },
     "execution_count": 18,
     "metadata": {},
     "output_type": "execute_result"
    }
   ],
   "source": [
    "# Project totals for each type of labor\n",
    "# NOTE: this simulation relies on using a fixed labor cost, so this is still $0\n",
    "style(metrics.labor_costs(frequency=\"project\", by_type=True))"
   ]
  },
  {
   "cell_type": "markdown",
   "id": "e73e5238",
   "metadata": {},
   "source": [
    "## Equipment and Labor Costs\n",
    "\n",
    "Sum of all labor and servicing equipment costs, excluding the labor defined in the fixed costs, which can be broken out by each category. For further documentation, see the API docs here: {py:meth}`wombat.core.post_processor.Metrics.equipment_labor_cost_breakdown`.\n",
    "\n",
    "**Inputs**:\n",
    "\n",
    "- `frequency`, as explained [above](#common-parameter-explanations), options: \"project\", \"annual\", \"monthly\", and \"month-year\"\n",
    "- `by_category`\n",
    "  - `True`: Computed for each unit servicing equipment and labor category\n",
    "  - `False`: Aggregated to the sum of all costs\n",
    "\n",
    "`reason` definitions:\n",
    " - Maintenance: routine maintenance, or events defined as a {py:class}`wombat.core.data_classes.Maintenance`\n",
    " - Repair: unscheduled maintenance, ranging from inspections to replacements, or events defined as a {py:class}`wombat.core.data_classes.Failure`\n",
    " - Mobilization: Cost of mobilizing servicing equipment\n",
    " - Crew Transfer: Costs incurred while crew are transfering between a turbine or substation and the servicing equipment\n",
    " - Site Travel: Costs incurred while transiting to/from the site and while at the site\n",
    " - Weather Delay: Any delays caused by unsafe weather conditions\n",
    " - No Requests: Equipment and labor is active, but there are no repairs or maintenance tasks to be completed\n",
    " - Not in Shift: Any time outside of the operating hours of the wind farm (or the servicing equipment's specific operating hours)\n",
    "\n",
    "**Example Usage**:"
   ]
  },
  {
   "cell_type": "code",
   "execution_count": 19,
   "id": "b0c5649a",
   "metadata": {
    "tags": [
     "output_scroll"
    ]
   },
   "outputs": [
    {
     "data": {
      "text/html": [
       "<style type=\"text/css\">\n",
       "</style>\n",
       "<table id=\"T_3ad19\" style=\"font-size: 14px; grid-column-count: 6\">\n",
       "  <thead>\n",
       "    <tr>\n",
       "      <th class=\"blank level0\" >&nbsp;</th>\n",
       "      <th id=\"T_3ad19_level0_col0\" class=\"col_heading level0 col0\" >total_cost</th>\n",
       "    </tr>\n",
       "    <tr>\n",
       "      <th class=\"index_name level0\" >reason</th>\n",
       "      <th class=\"blank col0\" >&nbsp;</th>\n",
       "    </tr>\n",
       "  </thead>\n",
       "  <tbody>\n",
       "    <tr>\n",
       "      <th id=\"T_3ad19_level0_row0\" class=\"row_heading level0 row0\" >Maintenance</th>\n",
       "      <td id=\"T_3ad19_row0_col0\" class=\"data row0 col0\" >3,035,958.33</td>\n",
       "    </tr>\n",
       "    <tr>\n",
       "      <th id=\"T_3ad19_level0_row1\" class=\"row_heading level0 row1\" >Repair</th>\n",
       "      <td id=\"T_3ad19_row1_col0\" class=\"data row1 col0\" >20,699,092.01</td>\n",
       "    </tr>\n",
       "    <tr>\n",
       "      <th id=\"T_3ad19_level0_row2\" class=\"row_heading level0 row2\" >Crew Transfer</th>\n",
       "      <td id=\"T_3ad19_row2_col0\" class=\"data row2 col0\" >760,661.46</td>\n",
       "    </tr>\n",
       "    <tr>\n",
       "      <th id=\"T_3ad19_level0_row3\" class=\"row_heading level0 row3\" >Site Travel</th>\n",
       "      <td id=\"T_3ad19_row3_col0\" class=\"data row3 col0\" >0.00</td>\n",
       "    </tr>\n",
       "    <tr>\n",
       "      <th id=\"T_3ad19_level0_row4\" class=\"row_heading level0 row4\" >Mobilization</th>\n",
       "      <td id=\"T_3ad19_row4_col0\" class=\"data row4 col0\" >7,000,000.00</td>\n",
       "    </tr>\n",
       "    <tr>\n",
       "      <th id=\"T_3ad19_level0_row5\" class=\"row_heading level0 row5\" >Weather Delay</th>\n",
       "      <td id=\"T_3ad19_row5_col0\" class=\"data row5 col0\" >17,964,663.19</td>\n",
       "    </tr>\n",
       "    <tr>\n",
       "      <th id=\"T_3ad19_level0_row6\" class=\"row_heading level0 row6\" >No Requests</th>\n",
       "      <td id=\"T_3ad19_row6_col0\" class=\"data row6 col0\" >36,228,873.04</td>\n",
       "    </tr>\n",
       "    <tr>\n",
       "      <th id=\"T_3ad19_level0_row7\" class=\"row_heading level0 row7\" >Not in Shift</th>\n",
       "      <td id=\"T_3ad19_row7_col0\" class=\"data row7 col0\" >6,313,646.05</td>\n",
       "    </tr>\n",
       "  </tbody>\n",
       "</table>\n"
      ],
      "text/plain": [
       "<pandas.io.formats.style.Styler at 0x11b176110>"
      ]
     },
     "execution_count": 19,
     "metadata": {},
     "output_type": "execute_result"
    }
   ],
   "source": [
    "# Project totals\n",
    "style(metrics.equipment_labor_cost_breakdowns(frequency=\"project\", by_category=False))"
   ]
  },
  {
   "cell_type": "code",
   "execution_count": 20,
   "id": "ddd4e58a",
   "metadata": {
    "tags": [
     "output_scroll"
    ]
   },
   "outputs": [
    {
     "data": {
      "text/html": [
       "<style type=\"text/css\">\n",
       "</style>\n",
       "<table id=\"T_a6936\" style=\"font-size: 14px; grid-column-count: 6\">\n",
       "  <thead>\n",
       "    <tr>\n",
       "      <th class=\"blank level0\" >&nbsp;</th>\n",
       "      <th id=\"T_a6936_level0_col0\" class=\"col_heading level0 col0\" >hourly_labor_cost</th>\n",
       "      <th id=\"T_a6936_level0_col1\" class=\"col_heading level0 col1\" >salary_labor_cost</th>\n",
       "      <th id=\"T_a6936_level0_col2\" class=\"col_heading level0 col2\" >total_labor_cost</th>\n",
       "      <th id=\"T_a6936_level0_col3\" class=\"col_heading level0 col3\" >equipment_cost</th>\n",
       "      <th id=\"T_a6936_level0_col4\" class=\"col_heading level0 col4\" >total_cost</th>\n",
       "    </tr>\n",
       "    <tr>\n",
       "      <th class=\"index_name level0\" >reason</th>\n",
       "      <th class=\"blank col0\" >&nbsp;</th>\n",
       "      <th class=\"blank col1\" >&nbsp;</th>\n",
       "      <th class=\"blank col2\" >&nbsp;</th>\n",
       "      <th class=\"blank col3\" >&nbsp;</th>\n",
       "      <th class=\"blank col4\" >&nbsp;</th>\n",
       "    </tr>\n",
       "  </thead>\n",
       "  <tbody>\n",
       "    <tr>\n",
       "      <th id=\"T_a6936_level0_row0\" class=\"row_heading level0 row0\" >Maintenance</th>\n",
       "      <td id=\"T_a6936_row0_col0\" class=\"data row0 col0\" >0</td>\n",
       "      <td id=\"T_a6936_row0_col1\" class=\"data row0 col1\" >0</td>\n",
       "      <td id=\"T_a6936_row0_col2\" class=\"data row0 col2\" >0</td>\n",
       "      <td id=\"T_a6936_row0_col3\" class=\"data row0 col3\" >3,035,958.33</td>\n",
       "      <td id=\"T_a6936_row0_col4\" class=\"data row0 col4\" >3,035,958.33</td>\n",
       "    </tr>\n",
       "    <tr>\n",
       "      <th id=\"T_a6936_level0_row1\" class=\"row_heading level0 row1\" >Repair</th>\n",
       "      <td id=\"T_a6936_row1_col0\" class=\"data row1 col0\" >0</td>\n",
       "      <td id=\"T_a6936_row1_col1\" class=\"data row1 col1\" >0</td>\n",
       "      <td id=\"T_a6936_row1_col2\" class=\"data row1 col2\" >0</td>\n",
       "      <td id=\"T_a6936_row1_col3\" class=\"data row1 col3\" >20,699,092.01</td>\n",
       "      <td id=\"T_a6936_row1_col4\" class=\"data row1 col4\" >20,699,092.01</td>\n",
       "    </tr>\n",
       "    <tr>\n",
       "      <th id=\"T_a6936_level0_row2\" class=\"row_heading level0 row2\" >Crew Transfer</th>\n",
       "      <td id=\"T_a6936_row2_col0\" class=\"data row2 col0\" >0</td>\n",
       "      <td id=\"T_a6936_row2_col1\" class=\"data row2 col1\" >0</td>\n",
       "      <td id=\"T_a6936_row2_col2\" class=\"data row2 col2\" >0</td>\n",
       "      <td id=\"T_a6936_row2_col3\" class=\"data row2 col3\" >760,661.46</td>\n",
       "      <td id=\"T_a6936_row2_col4\" class=\"data row2 col4\" >760,661.46</td>\n",
       "    </tr>\n",
       "    <tr>\n",
       "      <th id=\"T_a6936_level0_row3\" class=\"row_heading level0 row3\" >Site Travel</th>\n",
       "      <td id=\"T_a6936_row3_col0\" class=\"data row3 col0\" >0</td>\n",
       "      <td id=\"T_a6936_row3_col1\" class=\"data row3 col1\" >0</td>\n",
       "      <td id=\"T_a6936_row3_col2\" class=\"data row3 col2\" >0</td>\n",
       "      <td id=\"T_a6936_row3_col3\" class=\"data row3 col3\" >0.00</td>\n",
       "      <td id=\"T_a6936_row3_col4\" class=\"data row3 col4\" >0.00</td>\n",
       "    </tr>\n",
       "    <tr>\n",
       "      <th id=\"T_a6936_level0_row4\" class=\"row_heading level0 row4\" >Mobilization</th>\n",
       "      <td id=\"T_a6936_row4_col0\" class=\"data row4 col0\" >0</td>\n",
       "      <td id=\"T_a6936_row4_col1\" class=\"data row4 col1\" >0</td>\n",
       "      <td id=\"T_a6936_row4_col2\" class=\"data row4 col2\" >0</td>\n",
       "      <td id=\"T_a6936_row4_col3\" class=\"data row4 col3\" >7,000,000.00</td>\n",
       "      <td id=\"T_a6936_row4_col4\" class=\"data row4 col4\" >7,000,000.00</td>\n",
       "    </tr>\n",
       "    <tr>\n",
       "      <th id=\"T_a6936_level0_row5\" class=\"row_heading level0 row5\" >Weather Delay</th>\n",
       "      <td id=\"T_a6936_row5_col0\" class=\"data row5 col0\" >0</td>\n",
       "      <td id=\"T_a6936_row5_col1\" class=\"data row5 col1\" >0</td>\n",
       "      <td id=\"T_a6936_row5_col2\" class=\"data row5 col2\" >0</td>\n",
       "      <td id=\"T_a6936_row5_col3\" class=\"data row5 col3\" >17,964,663.19</td>\n",
       "      <td id=\"T_a6936_row5_col4\" class=\"data row5 col4\" >17,964,663.19</td>\n",
       "    </tr>\n",
       "    <tr>\n",
       "      <th id=\"T_a6936_level0_row6\" class=\"row_heading level0 row6\" >No Requests</th>\n",
       "      <td id=\"T_a6936_row6_col0\" class=\"data row6 col0\" >0</td>\n",
       "      <td id=\"T_a6936_row6_col1\" class=\"data row6 col1\" >0</td>\n",
       "      <td id=\"T_a6936_row6_col2\" class=\"data row6 col2\" >0</td>\n",
       "      <td id=\"T_a6936_row6_col3\" class=\"data row6 col3\" >36,228,873.04</td>\n",
       "      <td id=\"T_a6936_row6_col4\" class=\"data row6 col4\" >36,228,873.04</td>\n",
       "    </tr>\n",
       "    <tr>\n",
       "      <th id=\"T_a6936_level0_row7\" class=\"row_heading level0 row7\" >Not in Shift</th>\n",
       "      <td id=\"T_a6936_row7_col0\" class=\"data row7 col0\" >0</td>\n",
       "      <td id=\"T_a6936_row7_col1\" class=\"data row7 col1\" >0</td>\n",
       "      <td id=\"T_a6936_row7_col2\" class=\"data row7 col2\" >0</td>\n",
       "      <td id=\"T_a6936_row7_col3\" class=\"data row7 col3\" >6,313,646.05</td>\n",
       "      <td id=\"T_a6936_row7_col4\" class=\"data row7 col4\" >6,313,646.05</td>\n",
       "    </tr>\n",
       "  </tbody>\n",
       "</table>\n"
      ],
      "text/plain": [
       "<pandas.io.formats.style.Styler at 0x11b5dae90>"
      ]
     },
     "execution_count": 20,
     "metadata": {},
     "output_type": "execute_result"
    }
   ],
   "source": [
    "# Project totals by each category\n",
    "style(metrics.equipment_labor_cost_breakdowns(frequency=\"project\", by_category=True))"
   ]
  },
  {
   "cell_type": "markdown",
   "id": "699bb36f",
   "metadata": {},
   "source": [
    "## Emissions\n",
    "\n",
    "Emissions (tons or other provided units) of all servicing equipment activity, except overnight waiting periods between shifts. For further documentation, see the API docs here: {py:meth}`wombat.core.post_processor.Metrics.emissions`.\n",
    "\n",
    "**Inputs**:\n",
    "\n",
    "- `emissions_factors`: Dictionary of servicing equipment names and the emissions per hour of the following activities: `transit`, `maneuvering`, `idle at site`, and `idle at port`, where port is stand-in for wherever the servicing equipment might be based when not at site.\n",
    "- `maneuvering_factor`: The proportion of transit time that can generally be associated with positioning servicing, by default 10%.\n",
    "- `port_engine_on_factor`: The proportion of the idling at port time where the engine is running and producing emissions, by default 25%."
   ]
  },
  {
   "cell_type": "code",
   "execution_count": 21,
   "id": "05ae5d83",
   "metadata": {},
   "outputs": [
    {
     "data": {
      "text/html": [
       "<style type=\"text/css\">\n",
       "</style>\n",
       "<table id=\"T_ebf44\" style=\"font-size: 14px; grid-column-count: 6\">\n",
       "  <thead>\n",
       "    <tr>\n",
       "      <th class=\"blank\" >&nbsp;</th>\n",
       "      <th class=\"blank level0\" >&nbsp;</th>\n",
       "      <th id=\"T_ebf44_level0_col0\" class=\"col_heading level0 col0\" >duration</th>\n",
       "      <th id=\"T_ebf44_level0_col1\" class=\"col_heading level0 col1\" >distance_km</th>\n",
       "      <th id=\"T_ebf44_level0_col2\" class=\"col_heading level0 col2\" >emissions</th>\n",
       "    </tr>\n",
       "    <tr>\n",
       "      <th class=\"index_name level0\" >agent</th>\n",
       "      <th class=\"index_name level1\" >category</th>\n",
       "      <th class=\"blank col0\" >&nbsp;</th>\n",
       "      <th class=\"blank col1\" >&nbsp;</th>\n",
       "      <th class=\"blank col2\" >&nbsp;</th>\n",
       "    </tr>\n",
       "  </thead>\n",
       "  <tbody>\n",
       "    <tr>\n",
       "      <th id=\"T_ebf44_level0_row0\" class=\"row_heading level0 row0\" rowspan=\"4\">Crew Transfer Vessel 1</th>\n",
       "      <th id=\"T_ebf44_level1_row0\" class=\"row_heading level1 row0\" >idle at port</th>\n",
       "      <td id=\"T_ebf44_row0_col0\" class=\"data row0 col0\" >0.00</td>\n",
       "      <td id=\"T_ebf44_row0_col1\" class=\"data row0 col1\" >0.00</td>\n",
       "      <td id=\"T_ebf44_row0_col2\" class=\"data row0 col2\" >0.00</td>\n",
       "    </tr>\n",
       "    <tr>\n",
       "      <th id=\"T_ebf44_level1_row1\" class=\"row_heading level1 row1\" >idle at site</th>\n",
       "      <td id=\"T_ebf44_row1_col0\" class=\"data row1 col0\" >32,336.00</td>\n",
       "      <td id=\"T_ebf44_row1_col1\" class=\"data row1 col1\" >0.00</td>\n",
       "      <td id=\"T_ebf44_row1_col2\" class=\"data row1 col2\" >16,168.00</td>\n",
       "    </tr>\n",
       "    <tr>\n",
       "      <th id=\"T_ebf44_level1_row2\" class=\"row_heading level1 row2\" >maneuvering</th>\n",
       "      <td id=\"T_ebf44_row2_col0\" class=\"data row2 col0\" >0.00</td>\n",
       "      <td id=\"T_ebf44_row2_col1\" class=\"data row2 col1\" >0.00</td>\n",
       "      <td id=\"T_ebf44_row2_col2\" class=\"data row2 col2\" >0.00</td>\n",
       "    </tr>\n",
       "    <tr>\n",
       "      <th id=\"T_ebf44_level1_row3\" class=\"row_heading level1 row3\" >transit</th>\n",
       "      <td id=\"T_ebf44_row3_col0\" class=\"data row3 col0\" >0.00</td>\n",
       "      <td id=\"T_ebf44_row3_col1\" class=\"data row3 col1\" >0.00</td>\n",
       "      <td id=\"T_ebf44_row3_col2\" class=\"data row3 col2\" >0.00</td>\n",
       "    </tr>\n",
       "    <tr>\n",
       "      <th id=\"T_ebf44_level0_row4\" class=\"row_heading level0 row4\" rowspan=\"4\">Crew Transfer Vessel 2</th>\n",
       "      <th id=\"T_ebf44_level1_row4\" class=\"row_heading level1 row4\" >idle at port</th>\n",
       "      <td id=\"T_ebf44_row4_col0\" class=\"data row4 col0\" >0.00</td>\n",
       "      <td id=\"T_ebf44_row4_col1\" class=\"data row4 col1\" >0.00</td>\n",
       "      <td id=\"T_ebf44_row4_col2\" class=\"data row4 col2\" >0.00</td>\n",
       "    </tr>\n",
       "    <tr>\n",
       "      <th id=\"T_ebf44_level1_row5\" class=\"row_heading level1 row5\" >idle at site</th>\n",
       "      <td id=\"T_ebf44_row5_col0\" class=\"data row5 col0\" >32,607.25</td>\n",
       "      <td id=\"T_ebf44_row5_col1\" class=\"data row5 col1\" >0.00</td>\n",
       "      <td id=\"T_ebf44_row5_col2\" class=\"data row5 col2\" >16,303.62</td>\n",
       "    </tr>\n",
       "    <tr>\n",
       "      <th id=\"T_ebf44_level1_row6\" class=\"row_heading level1 row6\" >maneuvering</th>\n",
       "      <td id=\"T_ebf44_row6_col0\" class=\"data row6 col0\" >0.00</td>\n",
       "      <td id=\"T_ebf44_row6_col1\" class=\"data row6 col1\" >0.00</td>\n",
       "      <td id=\"T_ebf44_row6_col2\" class=\"data row6 col2\" >0.00</td>\n",
       "    </tr>\n",
       "    <tr>\n",
       "      <th id=\"T_ebf44_level1_row7\" class=\"row_heading level1 row7\" >transit</th>\n",
       "      <td id=\"T_ebf44_row7_col0\" class=\"data row7 col0\" >0.00</td>\n",
       "      <td id=\"T_ebf44_row7_col1\" class=\"data row7 col1\" >0.00</td>\n",
       "      <td id=\"T_ebf44_row7_col2\" class=\"data row7 col2\" >0.00</td>\n",
       "    </tr>\n",
       "    <tr>\n",
       "      <th id=\"T_ebf44_level0_row8\" class=\"row_heading level0 row8\" rowspan=\"4\">Crew Transfer Vessel 3</th>\n",
       "      <th id=\"T_ebf44_level1_row8\" class=\"row_heading level1 row8\" >idle at port</th>\n",
       "      <td id=\"T_ebf44_row8_col0\" class=\"data row8 col0\" >0.00</td>\n",
       "      <td id=\"T_ebf44_row8_col1\" class=\"data row8 col1\" >0.00</td>\n",
       "      <td id=\"T_ebf44_row8_col2\" class=\"data row8 col2\" >0.00</td>\n",
       "    </tr>\n",
       "    <tr>\n",
       "      <th id=\"T_ebf44_level1_row9\" class=\"row_heading level1 row9\" >idle at site</th>\n",
       "      <td id=\"T_ebf44_row9_col0\" class=\"data row9 col0\" >32,283.25</td>\n",
       "      <td id=\"T_ebf44_row9_col1\" class=\"data row9 col1\" >0.00</td>\n",
       "      <td id=\"T_ebf44_row9_col2\" class=\"data row9 col2\" >16,141.62</td>\n",
       "    </tr>\n",
       "    <tr>\n",
       "      <th id=\"T_ebf44_level1_row10\" class=\"row_heading level1 row10\" >maneuvering</th>\n",
       "      <td id=\"T_ebf44_row10_col0\" class=\"data row10 col0\" >0.00</td>\n",
       "      <td id=\"T_ebf44_row10_col1\" class=\"data row10 col1\" >0.00</td>\n",
       "      <td id=\"T_ebf44_row10_col2\" class=\"data row10 col2\" >0.00</td>\n",
       "    </tr>\n",
       "    <tr>\n",
       "      <th id=\"T_ebf44_level1_row11\" class=\"row_heading level1 row11\" >transit</th>\n",
       "      <td id=\"T_ebf44_row11_col0\" class=\"data row11 col0\" >0.00</td>\n",
       "      <td id=\"T_ebf44_row11_col1\" class=\"data row11 col1\" >0.00</td>\n",
       "      <td id=\"T_ebf44_row11_col2\" class=\"data row11 col2\" >0.00</td>\n",
       "    </tr>\n",
       "    <tr>\n",
       "      <th id=\"T_ebf44_level0_row12\" class=\"row_heading level0 row12\" rowspan=\"4\">Field Support Vessel</th>\n",
       "      <th id=\"T_ebf44_level1_row12\" class=\"row_heading level1 row12\" >idle at port</th>\n",
       "      <td id=\"T_ebf44_row12_col0\" class=\"data row12 col0\" >652.68</td>\n",
       "      <td id=\"T_ebf44_row12_col1\" class=\"data row12 col1\" >0.00</td>\n",
       "      <td id=\"T_ebf44_row12_col2\" class=\"data row12 col2\" >326.34</td>\n",
       "    </tr>\n",
       "    <tr>\n",
       "      <th id=\"T_ebf44_level1_row13\" class=\"row_heading level1 row13\" >idle at site</th>\n",
       "      <td id=\"T_ebf44_row13_col0\" class=\"data row13 col0\" >798.50</td>\n",
       "      <td id=\"T_ebf44_row13_col1\" class=\"data row13 col1\" >0.00</td>\n",
       "      <td id=\"T_ebf44_row13_col2\" class=\"data row13 col2\" >798.50</td>\n",
       "    </tr>\n",
       "    <tr>\n",
       "      <th id=\"T_ebf44_level1_row14\" class=\"row_heading level1 row14\" >maneuvering</th>\n",
       "      <td id=\"T_ebf44_row14_col0\" class=\"data row14 col0\" >264.60</td>\n",
       "      <td id=\"T_ebf44_row14_col1\" class=\"data row14 col1\" >0.00</td>\n",
       "      <td id=\"T_ebf44_row14_col2\" class=\"data row14 col2\" >1,058.40</td>\n",
       "    </tr>\n",
       "    <tr>\n",
       "      <th id=\"T_ebf44_level1_row15\" class=\"row_heading level1 row15\" >transit</th>\n",
       "      <td id=\"T_ebf44_row15_col0\" class=\"data row15 col0\" >3,263.40</td>\n",
       "      <td id=\"T_ebf44_row15_col1\" class=\"data row15 col1\" >0.00</td>\n",
       "      <td id=\"T_ebf44_row15_col2\" class=\"data row15 col2\" >19,580.40</td>\n",
       "    </tr>\n",
       "    <tr>\n",
       "      <th id=\"T_ebf44_level0_row16\" class=\"row_heading level0 row16\" rowspan=\"4\">Heavy Lift Vessel</th>\n",
       "      <th id=\"T_ebf44_level1_row16\" class=\"row_heading level1 row16\" >idle at port</th>\n",
       "      <td id=\"T_ebf44_row16_col0\" class=\"data row16 col0\" >3,729.60</td>\n",
       "      <td id=\"T_ebf44_row16_col1\" class=\"data row16 col1\" >0.00</td>\n",
       "      <td id=\"T_ebf44_row16_col2\" class=\"data row16 col2\" >1,864.80</td>\n",
       "    </tr>\n",
       "    <tr>\n",
       "      <th id=\"T_ebf44_level1_row17\" class=\"row_heading level1 row17\" >idle at site</th>\n",
       "      <td id=\"T_ebf44_row17_col0\" class=\"data row17 col0\" >4,907.32</td>\n",
       "      <td id=\"T_ebf44_row17_col1\" class=\"data row17 col1\" >0.00</td>\n",
       "      <td id=\"T_ebf44_row17_col2\" class=\"data row17 col2\" >4,907.32</td>\n",
       "    </tr>\n",
       "    <tr>\n",
       "      <th id=\"T_ebf44_level1_row18\" class=\"row_heading level1 row18\" >maneuvering</th>\n",
       "      <td id=\"T_ebf44_row18_col0\" class=\"data row18 col0\" >1,512.00</td>\n",
       "      <td id=\"T_ebf44_row18_col1\" class=\"data row18 col1\" >0.00</td>\n",
       "      <td id=\"T_ebf44_row18_col2\" class=\"data row18 col2\" >10,584.00</td>\n",
       "    </tr>\n",
       "    <tr>\n",
       "      <th id=\"T_ebf44_level1_row19\" class=\"row_heading level1 row19\" >transit</th>\n",
       "      <td id=\"T_ebf44_row19_col0\" class=\"data row19 col0\" >18,648.00</td>\n",
       "      <td id=\"T_ebf44_row19_col1\" class=\"data row19 col1\" >0.00</td>\n",
       "      <td id=\"T_ebf44_row19_col2\" class=\"data row19 col2\" >223,776.00</td>\n",
       "    </tr>\n",
       "  </tbody>\n",
       "</table>\n"
      ],
      "text/plain": [
       "<pandas.io.formats.style.Styler at 0x11b5db070>"
      ]
     },
     "execution_count": 21,
     "metadata": {},
     "output_type": "execute_result"
    }
   ],
   "source": [
    "# Create the emissions factors, in tons per hour\n",
    "emissions_factors = {\n",
    "    \"Crew Transfer Vessel 1\": {\n",
    "        \"transit\": 4,\n",
    "        \"maneuvering\": 3,\n",
    "        \"idle at site\": 0.5,\n",
    "        \"idle at port\": 0.25,\n",
    "    },\n",
    "    \"Crew Transfer Vessel 2\": {\n",
    "        \"transit\": 4,\n",
    "        \"maneuvering\": 3,\n",
    "        \"idle at site\": 0.5,\n",
    "        \"idle at port\": 0.25,\n",
    "    },\n",
    "    \"Crew Transfer Vessel 3\": {\n",
    "        \"transit\": 4,\n",
    "        \"maneuvering\": 3,\n",
    "        \"idle at site\": 0.5,\n",
    "        \"idle at port\": 0.25,\n",
    "    },\n",
    "    \"Field Support Vessel\": {\n",
    "        \"transit\": 6,\n",
    "        \"maneuvering\": 4,\n",
    "        \"idle at site\": 1,\n",
    "        \"idle at port\": 0.5,\n",
    "    },\n",
    "    \"Heavy Lift Vessel\": {\n",
    "        \"transit\": 12,\n",
    "        \"maneuvering\": 7,\n",
    "        \"idle at site\": 1,\n",
    "        \"idle at port\": 0.5,\n",
    "    },\n",
    "}\n",
    "\n",
    "style(metrics.emissions(emissions_factors=emissions_factors, maneuvering_factor=0.075, port_engine_on_factor=0.20))"
   ]
  },
  {
   "cell_type": "markdown",
   "id": "868eb730",
   "metadata": {},
   "source": [
    "## Component Costs\n",
    "\n",
    "All of the costs associated with maintenance and failure events during the simulation, including delays incurred during the repair process, but excluding costs not directly tied to a repair. For further documentation, see the API docs here: {py:meth}`wombat.core.post_processor.Metrics.component_costs`.\n",
    "\n",
    "**Inputs**:\n",
    "\n",
    "- `frequency`, as explained [above](#common-parameter-explanations), options: \"project\", \"annual\", \"monthly\", and \"month-year\"\n",
    "- `by_category`\n",
    "  - `True`: Computed across each cost category\n",
    "  - `False`: Aggregated to the sum of all categories\n",
    "- `by_action`\n",
    "  - `True`: Computed by each of \"repair\", \"maintenance\", and \"delay\", and is included in the MultiIndex\n",
    "  - `False`: Aggregated as the sum of all actions\n",
    "\n",
    "`action` definitions:\n",
    " - maintenance: routine maintenance\n",
    " - repair: unscheduled maintenance, ranging from inspections to replacements\n",
    " - delay: Any delays caused by unsafe weather conditions or not being able to finish a process within a single shift\n",
    "\n",
    "**Example Usage**:"
   ]
  },
  {
   "cell_type": "code",
   "execution_count": 22,
   "id": "6287685d",
   "metadata": {
    "tags": [
     "output_scroll"
    ]
   },
   "outputs": [
    {
     "data": {
      "text/html": [
       "<style type=\"text/css\">\n",
       "</style>\n",
       "<table id=\"T_95b3b\" style=\"font-size: 14px; grid-column-count: 6\">\n",
       "  <thead>\n",
       "    <tr>\n",
       "      <th class=\"blank level0\" >&nbsp;</th>\n",
       "      <th id=\"T_95b3b_level0_col0\" class=\"col_heading level0 col0\" >total_cost</th>\n",
       "    </tr>\n",
       "    <tr>\n",
       "      <th class=\"index_name level0\" >component</th>\n",
       "      <th class=\"blank col0\" >&nbsp;</th>\n",
       "    </tr>\n",
       "  </thead>\n",
       "  <tbody>\n",
       "    <tr>\n",
       "      <th id=\"T_95b3b_level0_row0\" class=\"row_heading level0 row0\" >turbine</th>\n",
       "      <td id=\"T_95b3b_row0_col0\" class=\"data row0 col0\" >89,473,896.05</td>\n",
       "    </tr>\n",
       "  </tbody>\n",
       "</table>\n"
      ],
      "text/plain": [
       "<pandas.io.formats.style.Styler at 0x11b6a3610>"
      ]
     },
     "execution_count": 22,
     "metadata": {},
     "output_type": "execute_result"
    }
   ],
   "source": [
    "# Project totals by component\n",
    "style(metrics.component_costs(frequency=\"project\", by_category=False, by_action=False))"
   ]
  },
  {
   "cell_type": "code",
   "execution_count": 23,
   "id": "471f0b96",
   "metadata": {
    "tags": [
     "output_scroll"
    ]
   },
   "outputs": [
    {
     "data": {
      "text/html": [
       "<style type=\"text/css\">\n",
       "</style>\n",
       "<table id=\"T_1adfd\" style=\"font-size: 14px; grid-column-count: 6\">\n",
       "  <thead>\n",
       "    <tr>\n",
       "      <th class=\"blank\" >&nbsp;</th>\n",
       "      <th class=\"blank level0\" >&nbsp;</th>\n",
       "      <th id=\"T_1adfd_level0_col0\" class=\"col_heading level0 col0\" >materials_cost</th>\n",
       "      <th id=\"T_1adfd_level0_col1\" class=\"col_heading level0 col1\" >total_labor_cost</th>\n",
       "      <th id=\"T_1adfd_level0_col2\" class=\"col_heading level0 col2\" >equipment_cost</th>\n",
       "      <th id=\"T_1adfd_level0_col3\" class=\"col_heading level0 col3\" >total_cost</th>\n",
       "    </tr>\n",
       "    <tr>\n",
       "      <th class=\"index_name level0\" >component</th>\n",
       "      <th class=\"index_name level1\" >action</th>\n",
       "      <th class=\"blank col0\" >&nbsp;</th>\n",
       "      <th class=\"blank col1\" >&nbsp;</th>\n",
       "      <th class=\"blank col2\" >&nbsp;</th>\n",
       "      <th class=\"blank col3\" >&nbsp;</th>\n",
       "    </tr>\n",
       "  </thead>\n",
       "  <tbody>\n",
       "    <tr>\n",
       "      <th id=\"T_1adfd_level0_row0\" class=\"row_heading level0 row0\" rowspan=\"3\">turbine</th>\n",
       "      <th id=\"T_1adfd_level1_row0\" class=\"row_heading level1 row0\" >delay</th>\n",
       "      <td id=\"T_1adfd_row0_col0\" class=\"data row0 col0\" >0</td>\n",
       "      <td id=\"T_1adfd_row0_col1\" class=\"data row0 col1\" >0</td>\n",
       "      <td id=\"T_1adfd_row0_col2\" class=\"data row0 col2\" >24,125,184.24</td>\n",
       "      <td id=\"T_1adfd_row0_col3\" class=\"data row0 col3\" >24,125,184.24</td>\n",
       "    </tr>\n",
       "    <tr>\n",
       "      <th id=\"T_1adfd_level1_row1\" class=\"row_heading level1 row1\" >maintenance</th>\n",
       "      <td id=\"T_1adfd_row1_col0\" class=\"data row1 col0\" >0</td>\n",
       "      <td id=\"T_1adfd_row1_col1\" class=\"data row1 col1\" >0</td>\n",
       "      <td id=\"T_1adfd_row1_col2\" class=\"data row1 col2\" >3,035,958.33</td>\n",
       "      <td id=\"T_1adfd_row1_col3\" class=\"data row1 col3\" >3,035,958.33</td>\n",
       "    </tr>\n",
       "    <tr>\n",
       "      <th id=\"T_1adfd_level1_row2\" class=\"row_heading level1 row2\" >repair</th>\n",
       "      <td id=\"T_1adfd_row2_col0\" class=\"data row2 col0\" >0</td>\n",
       "      <td id=\"T_1adfd_row2_col1\" class=\"data row2 col1\" >0</td>\n",
       "      <td id=\"T_1adfd_row2_col2\" class=\"data row2 col2\" >20,699,092.01</td>\n",
       "      <td id=\"T_1adfd_row2_col3\" class=\"data row2 col3\" >20,699,092.01</td>\n",
       "    </tr>\n",
       "  </tbody>\n",
       "</table>\n"
      ],
      "text/plain": [
       "<pandas.io.formats.style.Styler at 0x11b378460>"
      ]
     },
     "execution_count": 23,
     "metadata": {},
     "output_type": "execute_result"
    }
   ],
   "source": [
    "# Project totals by each category and action type\n",
    "style(metrics.component_costs(frequency=\"project\", by_category=True, by_action=True))"
   ]
  },
  {
   "cell_type": "markdown",
   "id": "1fdd6a9f",
   "metadata": {},
   "source": [
    "## Fixed Cost Impacts\n",
    "\n",
    "Computes the total costs of the fixed costs categories. For further documentation, see the defintion docs, here: {py:class}`wombat.core.data_classes.FixedCosts`, or the API docs here: {py:meth}`wombat.core.post_processor.Metrics.fixed_costs`.\n",
    "\n",
    "**Inputs**:\n",
    "\n",
    "- `frequency`, as explained [above](#common-parameter-explanations), options: \"project\", \"annual\", \"monthly\", and \"month-year\"\n",
    "- `resolution` (also, demonstrated below)\n",
    "  - \"high\": Computed across the most granular cost levels\n",
    "  - \"medium\": Computed for each general cost category\n",
    "  - \"low\": Aggregated to a single sum of costs"
   ]
  },
  {
   "cell_type": "code",
   "execution_count": 24,
   "id": "039e252a",
   "metadata": {
    "tags": [
     "output_scroll"
    ]
   },
   "outputs": [
    {
     "name": "stdout",
     "output_type": "stream",
     "text": [
      "{'operations': {'annual_leases_fees': ['submerge_land_lease_costs',\n",
      "                                       'transmission_charges_rights'],\n",
      "                'environmental_health_safety_monitoring': [],\n",
      "                'insurance': ['brokers_fee',\n",
      "                              'operations_all_risk',\n",
      "                              'business_interruption',\n",
      "                              'third_party_liability',\n",
      "                              'storm_coverage'],\n",
      "                'labor': [],\n",
      "                'onshore_electrical_maintenance': [],\n",
      "                'operating_facilities': [],\n",
      "                'operations_management_administration': ['project_management_administration',\n",
      "                                                         'marine_management',\n",
      "                                                         'weather_forecasting',\n",
      "                                                         'condition_monitoring']}}\n"
     ]
    }
   ],
   "source": [
    "pprint(metrics.fixed_costs.hierarchy)"
   ]
  },
  {
   "cell_type": "markdown",
   "id": "70fb582a",
   "metadata": {},
   "source": [
    "**Example Usage**:"
   ]
  },
  {
   "cell_type": "code",
   "execution_count": 25,
   "id": "99ef226e",
   "metadata": {
    "tags": [
     "output_scroll"
    ]
   },
   "outputs": [
    {
     "data": {
      "text/html": [
       "<style type=\"text/css\">\n",
       "</style>\n",
       "<table id=\"T_afd34\" style=\"font-size: 14px; grid-column-count: 6\">\n",
       "  <thead>\n",
       "    <tr>\n",
       "      <th class=\"blank level0\" >&nbsp;</th>\n",
       "      <th id=\"T_afd34_level0_col0\" class=\"col_heading level0 col0\" >operations</th>\n",
       "    </tr>\n",
       "  </thead>\n",
       "  <tbody>\n",
       "    <tr>\n",
       "      <th id=\"T_afd34_level0_row0\" class=\"row_heading level0 row0\" >0</th>\n",
       "      <td id=\"T_afd34_row0_col0\" class=\"data row0 col0\" >16,013,230.75</td>\n",
       "    </tr>\n",
       "  </tbody>\n",
       "</table>\n"
      ],
      "text/plain": [
       "<pandas.io.formats.style.Styler at 0x11ebb2530>"
      ]
     },
     "execution_count": 25,
     "metadata": {},
     "output_type": "execute_result"
    }
   ],
   "source": [
    "# Project totals at the highest level\n",
    "# NOTE: there were no fixed costs defined in this example, so all values will be 0, so\n",
    "#       this will just be demonstrating the output format\n",
    "style(metrics.project_fixed_costs(frequency=\"project\", resolution=\"low\"))"
   ]
  },
  {
   "cell_type": "code",
   "execution_count": 26,
   "id": "96cc326e",
   "metadata": {
    "tags": [
     "output_scroll"
    ]
   },
   "outputs": [
    {
     "data": {
      "text/html": [
       "<style type=\"text/css\">\n",
       "</style>\n",
       "<table id=\"T_f5008\" style=\"font-size: 14px; grid-column-count: 6\">\n",
       "  <thead>\n",
       "    <tr>\n",
       "      <th class=\"blank level0\" >&nbsp;</th>\n",
       "      <th id=\"T_f5008_level0_col0\" class=\"col_heading level0 col0\" >operations_management_administration</th>\n",
       "      <th id=\"T_f5008_level0_col1\" class=\"col_heading level0 col1\" >insurance</th>\n",
       "      <th id=\"T_f5008_level0_col2\" class=\"col_heading level0 col2\" >annual_leases_fees</th>\n",
       "      <th id=\"T_f5008_level0_col3\" class=\"col_heading level0 col3\" >operating_facilities</th>\n",
       "      <th id=\"T_f5008_level0_col4\" class=\"col_heading level0 col4\" >environmental_health_safety_monitoring</th>\n",
       "      <th id=\"T_f5008_level0_col5\" class=\"col_heading level0 col5\" >onshore_electrical_maintenance</th>\n",
       "      <th id=\"T_f5008_level0_col6\" class=\"col_heading level0 col6\" >labor</th>\n",
       "    </tr>\n",
       "  </thead>\n",
       "  <tbody>\n",
       "    <tr>\n",
       "      <th id=\"T_f5008_level0_row0\" class=\"row_heading level0 row0\" >0</th>\n",
       "      <td id=\"T_f5008_row0_col0\" class=\"data row0 col0\" >0.00</td>\n",
       "      <td id=\"T_f5008_row0_col1\" class=\"data row0 col1\" >0.00</td>\n",
       "      <td id=\"T_f5008_row0_col2\" class=\"data row0 col2\" >0.00</td>\n",
       "      <td id=\"T_f5008_row0_col3\" class=\"data row0 col3\" >0.00</td>\n",
       "      <td id=\"T_f5008_row0_col4\" class=\"data row0 col4\" >0.00</td>\n",
       "      <td id=\"T_f5008_row0_col5\" class=\"data row0 col5\" >0.00</td>\n",
       "      <td id=\"T_f5008_row0_col6\" class=\"data row0 col6\" >16,013,230.75</td>\n",
       "    </tr>\n",
       "  </tbody>\n",
       "</table>\n"
      ],
      "text/plain": [
       "<pandas.io.formats.style.Styler at 0x11b378580>"
      ]
     },
     "execution_count": 26,
     "metadata": {},
     "output_type": "execute_result"
    }
   ],
   "source": [
    "# Project totals at the medium level\n",
    "style(metrics.project_fixed_costs(frequency=\"project\", resolution=\"medium\"))"
   ]
  },
  {
   "cell_type": "code",
   "execution_count": 27,
   "id": "07d9547f",
   "metadata": {
    "tags": [
     "output_scroll"
    ]
   },
   "outputs": [
    {
     "data": {
      "text/html": [
       "<style type=\"text/css\">\n",
       "</style>\n",
       "<table id=\"T_7e6b3\" style=\"font-size: 14px; grid-column-count: 6\">\n",
       "  <thead>\n",
       "    <tr>\n",
       "      <th class=\"blank level0\" >&nbsp;</th>\n",
       "      <th id=\"T_7e6b3_level0_col0\" class=\"col_heading level0 col0\" >project_management_administration</th>\n",
       "      <th id=\"T_7e6b3_level0_col1\" class=\"col_heading level0 col1\" >marine_management</th>\n",
       "      <th id=\"T_7e6b3_level0_col2\" class=\"col_heading level0 col2\" >weather_forecasting</th>\n",
       "      <th id=\"T_7e6b3_level0_col3\" class=\"col_heading level0 col3\" >condition_monitoring</th>\n",
       "      <th id=\"T_7e6b3_level0_col4\" class=\"col_heading level0 col4\" >brokers_fee</th>\n",
       "      <th id=\"T_7e6b3_level0_col5\" class=\"col_heading level0 col5\" >operations_all_risk</th>\n",
       "      <th id=\"T_7e6b3_level0_col6\" class=\"col_heading level0 col6\" >business_interruption</th>\n",
       "      <th id=\"T_7e6b3_level0_col7\" class=\"col_heading level0 col7\" >third_party_liability</th>\n",
       "      <th id=\"T_7e6b3_level0_col8\" class=\"col_heading level0 col8\" >storm_coverage</th>\n",
       "      <th id=\"T_7e6b3_level0_col9\" class=\"col_heading level0 col9\" >submerge_land_lease_costs</th>\n",
       "      <th id=\"T_7e6b3_level0_col10\" class=\"col_heading level0 col10\" >transmission_charges_rights</th>\n",
       "      <th id=\"T_7e6b3_level0_col11\" class=\"col_heading level0 col11\" >operating_facilities</th>\n",
       "      <th id=\"T_7e6b3_level0_col12\" class=\"col_heading level0 col12\" >environmental_health_safety_monitoring</th>\n",
       "      <th id=\"T_7e6b3_level0_col13\" class=\"col_heading level0 col13\" >onshore_electrical_maintenance</th>\n",
       "      <th id=\"T_7e6b3_level0_col14\" class=\"col_heading level0 col14\" >labor</th>\n",
       "    </tr>\n",
       "  </thead>\n",
       "  <tbody>\n",
       "    <tr>\n",
       "      <th id=\"T_7e6b3_level0_row0\" class=\"row_heading level0 row0\" >0</th>\n",
       "      <td id=\"T_7e6b3_row0_col0\" class=\"data row0 col0\" >0.00</td>\n",
       "      <td id=\"T_7e6b3_row0_col1\" class=\"data row0 col1\" >0.00</td>\n",
       "      <td id=\"T_7e6b3_row0_col2\" class=\"data row0 col2\" >0.00</td>\n",
       "      <td id=\"T_7e6b3_row0_col3\" class=\"data row0 col3\" >0.00</td>\n",
       "      <td id=\"T_7e6b3_row0_col4\" class=\"data row0 col4\" >0.00</td>\n",
       "      <td id=\"T_7e6b3_row0_col5\" class=\"data row0 col5\" >0.00</td>\n",
       "      <td id=\"T_7e6b3_row0_col6\" class=\"data row0 col6\" >0.00</td>\n",
       "      <td id=\"T_7e6b3_row0_col7\" class=\"data row0 col7\" >0.00</td>\n",
       "      <td id=\"T_7e6b3_row0_col8\" class=\"data row0 col8\" >0.00</td>\n",
       "      <td id=\"T_7e6b3_row0_col9\" class=\"data row0 col9\" >0.00</td>\n",
       "      <td id=\"T_7e6b3_row0_col10\" class=\"data row0 col10\" >0.00</td>\n",
       "      <td id=\"T_7e6b3_row0_col11\" class=\"data row0 col11\" >0.00</td>\n",
       "      <td id=\"T_7e6b3_row0_col12\" class=\"data row0 col12\" >0.00</td>\n",
       "      <td id=\"T_7e6b3_row0_col13\" class=\"data row0 col13\" >0.00</td>\n",
       "      <td id=\"T_7e6b3_row0_col14\" class=\"data row0 col14\" >16,013,230.75</td>\n",
       "    </tr>\n",
       "  </tbody>\n",
       "</table>\n"
      ],
      "text/plain": [
       "<pandas.io.formats.style.Styler at 0x11b37a050>"
      ]
     },
     "execution_count": 27,
     "metadata": {},
     "output_type": "execute_result"
    }
   ],
   "source": [
    "# Project totals at the lowest level\n",
    "style(metrics.project_fixed_costs(frequency=\"project\", resolution=\"high\"))"
   ]
  },
  {
   "cell_type": "markdown",
   "id": "9550d961",
   "metadata": {},
   "source": [
    "## OpEx\n",
    "\n",
    "Computes the total cost of all operating expenditures for the duration of the simulation, including fixed costs. For further documentation, see the API docs here: {py:meth}`wombat.core.post_processor.Metrics.opex`.\n",
    "**Inputs**:\n",
    "\n",
    "- `frequency`, as explained [above](#common-parameter-explanations), options: \"project\", \"annual\", \"monthly\", and \"month-year\"\n",
    "\n",
    "**Example Usage**:"
   ]
  },
  {
   "cell_type": "code",
   "execution_count": 28,
   "id": "8f41a4a6",
   "metadata": {
    "tags": [
     "output_scroll"
    ]
   },
   "outputs": [
    {
     "data": {
      "text/html": [
       "<style type=\"text/css\">\n",
       "</style>\n",
       "<table id=\"T_7b305\" style=\"font-size: 14px; grid-column-count: 6\">\n",
       "  <thead>\n",
       "    <tr>\n",
       "      <th class=\"blank level0\" >&nbsp;</th>\n",
       "      <th id=\"T_7b305_level0_col0\" class=\"col_heading level0 col0\" >OpEx</th>\n",
       "    </tr>\n",
       "    <tr>\n",
       "      <th class=\"index_name level0\" >year</th>\n",
       "      <th class=\"blank col0\" >&nbsp;</th>\n",
       "    </tr>\n",
       "  </thead>\n",
       "  <tbody>\n",
       "    <tr>\n",
       "      <th id=\"T_7b305_level0_row0\" class=\"row_heading level0 row0\" >2003</th>\n",
       "      <td id=\"T_7b305_row0_col0\" class=\"data row0 col0\" >10,790,044.72</td>\n",
       "    </tr>\n",
       "    <tr>\n",
       "      <th id=\"T_7b305_level0_row1\" class=\"row_heading level0 row1\" >2004</th>\n",
       "      <td id=\"T_7b305_row1_col0\" class=\"data row1 col0\" >11,744,330.82</td>\n",
       "    </tr>\n",
       "    <tr>\n",
       "      <th id=\"T_7b305_level0_row2\" class=\"row_heading level0 row2\" >2005</th>\n",
       "      <td id=\"T_7b305_row2_col0\" class=\"data row2 col0\" >13,293,770.94</td>\n",
       "    </tr>\n",
       "    <tr>\n",
       "      <th id=\"T_7b305_level0_row3\" class=\"row_heading level0 row3\" >2006</th>\n",
       "      <td id=\"T_7b305_row3_col0\" class=\"data row3 col0\" >12,198,874.32</td>\n",
       "    </tr>\n",
       "    <tr>\n",
       "      <th id=\"T_7b305_level0_row4\" class=\"row_heading level0 row4\" >2007</th>\n",
       "      <td id=\"T_7b305_row4_col0\" class=\"data row4 col0\" >12,057,714.39</td>\n",
       "    </tr>\n",
       "    <tr>\n",
       "      <th id=\"T_7b305_level0_row5\" class=\"row_heading level0 row5\" >2008</th>\n",
       "      <td id=\"T_7b305_row5_col0\" class=\"data row5 col0\" >19,344,536.18</td>\n",
       "    </tr>\n",
       "    <tr>\n",
       "      <th id=\"T_7b305_level0_row6\" class=\"row_heading level0 row6\" >2009</th>\n",
       "      <td id=\"T_7b305_row6_col0\" class=\"data row6 col0\" >12,866,672.10</td>\n",
       "    </tr>\n",
       "    <tr>\n",
       "      <th id=\"T_7b305_level0_row7\" class=\"row_heading level0 row7\" >2010</th>\n",
       "      <td id=\"T_7b305_row7_col0\" class=\"data row7 col0\" >24,453,549.67</td>\n",
       "    </tr>\n",
       "    <tr>\n",
       "      <th id=\"T_7b305_level0_row8\" class=\"row_heading level0 row8\" >2011</th>\n",
       "      <td id=\"T_7b305_row8_col0\" class=\"data row8 col0\" >13,282,380.45</td>\n",
       "    </tr>\n",
       "    <tr>\n",
       "      <th id=\"T_7b305_level0_row9\" class=\"row_heading level0 row9\" >2012</th>\n",
       "      <td id=\"T_7b305_row9_col0\" class=\"data row9 col0\" >18,837,251.24</td>\n",
       "    </tr>\n",
       "  </tbody>\n",
       "</table>\n"
      ],
      "text/plain": [
       "<pandas.io.formats.style.Styler at 0x11ebb1a80>"
      ]
     },
     "execution_count": 28,
     "metadata": {},
     "output_type": "execute_result"
    }
   ],
   "source": [
    "style(metrics.opex(\"annual\"))"
   ]
  },
  {
   "cell_type": "markdown",
   "id": "8f3049ba",
   "metadata": {},
   "source": [
    "## Process Times\n",
    "\n",
    "Computes the total number of hours spent from repair request submission to completion, performing repairs, and the number of rquest for each repair category. For further documentation, see the API docs here: {py:meth}`wombat.core.post_processor.Metrics.process_times`.\n",
    "\n",
    "**Example Usage**:"
   ]
  },
  {
   "cell_type": "code",
   "execution_count": 29,
   "id": "639bea4c",
   "metadata": {
    "tags": [
     "output_scroll"
    ]
   },
   "outputs": [
    {
     "data": {
      "text/html": [
       "<style type=\"text/css\">\n",
       "</style>\n",
       "<table id=\"T_609c4\" style=\"font-size: 14px; grid-column-count: 6\">\n",
       "  <thead>\n",
       "    <tr>\n",
       "      <th class=\"blank level0\" >&nbsp;</th>\n",
       "      <th id=\"T_609c4_level0_col0\" class=\"col_heading level0 col0\" >time_to_completion</th>\n",
       "      <th id=\"T_609c4_level0_col1\" class=\"col_heading level0 col1\" >process_time</th>\n",
       "      <th id=\"T_609c4_level0_col2\" class=\"col_heading level0 col2\" >downtime</th>\n",
       "      <th id=\"T_609c4_level0_col3\" class=\"col_heading level0 col3\" >time_to_start</th>\n",
       "      <th id=\"T_609c4_level0_col4\" class=\"col_heading level0 col4\" >N</th>\n",
       "    </tr>\n",
       "    <tr>\n",
       "      <th class=\"index_name level0\" >category</th>\n",
       "      <th class=\"blank col0\" >&nbsp;</th>\n",
       "      <th class=\"blank col1\" >&nbsp;</th>\n",
       "      <th class=\"blank col2\" >&nbsp;</th>\n",
       "      <th class=\"blank col3\" >&nbsp;</th>\n",
       "      <th class=\"blank col4\" >&nbsp;</th>\n",
       "    </tr>\n",
       "  </thead>\n",
       "  <tbody>\n",
       "    <tr>\n",
       "      <th id=\"T_609c4_level0_row0\" class=\"row_heading level0 row0\" >annual service</th>\n",
       "      <td id=\"T_609c4_row0_col0\" class=\"data row0 col0\" >1,869,616.97</td>\n",
       "      <td id=\"T_609c4_row0_col1\" class=\"data row0 col1\" >96,111.50</td>\n",
       "      <td id=\"T_609c4_row0_col2\" class=\"data row0 col2\" >96,111.50</td>\n",
       "      <td id=\"T_609c4_row0_col3\" class=\"data row0 col3\" >1,739,998.01</td>\n",
       "      <td id=\"T_609c4_row0_col4\" class=\"data row0 col4\" >720</td>\n",
       "    </tr>\n",
       "    <tr>\n",
       "      <th id=\"T_609c4_level0_row1\" class=\"row_heading level0 row1\" >major repair</th>\n",
       "      <td id=\"T_609c4_row1_col0\" class=\"data row1 col0\" >101,761.49</td>\n",
       "      <td id=\"T_609c4_row1_col1\" class=\"data row1 col1\" >1,678.77</td>\n",
       "      <td id=\"T_609c4_row1_col2\" class=\"data row1 col2\" >1,678.77</td>\n",
       "      <td id=\"T_609c4_row1_col3\" class=\"data row1 col3\" >86,735.84</td>\n",
       "      <td id=\"T_609c4_row1_col4\" class=\"data row1 col4\" >27</td>\n",
       "    </tr>\n",
       "    <tr>\n",
       "      <th id=\"T_609c4_level0_row2\" class=\"row_heading level0 row2\" >major replacement</th>\n",
       "      <td id=\"T_609c4_row2_col0\" class=\"data row2 col0\" >140,811.62</td>\n",
       "      <td id=\"T_609c4_row2_col1\" class=\"data row2 col1\" >5,504.21</td>\n",
       "      <td id=\"T_609c4_row2_col2\" class=\"data row2 col2\" >5,504.21</td>\n",
       "      <td id=\"T_609c4_row2_col3\" class=\"data row2 col3\" >135,925.30</td>\n",
       "      <td id=\"T_609c4_row2_col4\" class=\"data row2 col4\" >60</td>\n",
       "    </tr>\n",
       "    <tr>\n",
       "      <th id=\"T_609c4_level0_row3\" class=\"row_heading level0 row3\" >manual reset</th>\n",
       "      <td id=\"T_609c4_row3_col0\" class=\"data row3 col0\" >329,571.84</td>\n",
       "      <td id=\"T_609c4_row3_col1\" class=\"data row3 col1\" >42,553.00</td>\n",
       "      <td id=\"T_609c4_row3_col2\" class=\"data row3 col2\" >42,553.00</td>\n",
       "      <td id=\"T_609c4_row3_col3\" class=\"data row3 col3\" >291,340.69</td>\n",
       "      <td id=\"T_609c4_row3_col4\" class=\"data row3 col4\" >5,833</td>\n",
       "    </tr>\n",
       "    <tr>\n",
       "      <th id=\"T_609c4_level0_row4\" class=\"row_heading level0 row4\" >medium repair</th>\n",
       "      <td id=\"T_609c4_row4_col0\" class=\"data row4 col0\" >16,621.27</td>\n",
       "      <td id=\"T_609c4_row4_col1\" class=\"data row4 col1\" >11,622.00</td>\n",
       "      <td id=\"T_609c4_row4_col2\" class=\"data row4 col2\" >11,622.00</td>\n",
       "      <td id=\"T_609c4_row4_col3\" class=\"data row4 col3\" >5,518.77</td>\n",
       "      <td id=\"T_609c4_row4_col4\" class=\"data row4 col4\" >226</td>\n",
       "    </tr>\n",
       "    <tr>\n",
       "      <th id=\"T_609c4_level0_row5\" class=\"row_heading level0 row5\" >minor repair</th>\n",
       "      <td id=\"T_609c4_row5_col0\" class=\"data row5 col0\" >104,088.22</td>\n",
       "      <td id=\"T_609c4_row5_col1\" class=\"data row5 col1\" >35,611.25</td>\n",
       "      <td id=\"T_609c4_row5_col2\" class=\"data row5 col2\" >35,611.25</td>\n",
       "      <td id=\"T_609c4_row5_col3\" class=\"data row5 col3\" >72,146.63</td>\n",
       "      <td id=\"T_609c4_row5_col4\" class=\"data row5 col4\" >2,318</td>\n",
       "    </tr>\n",
       "  </tbody>\n",
       "</table>\n"
      ],
      "text/plain": [
       "<pandas.io.formats.style.Styler at 0x11b6d4d90>"
      ]
     },
     "execution_count": 29,
     "metadata": {},
     "output_type": "execute_result"
    }
   ],
   "source": [
    "style(metrics.process_times())"
   ]
  },
  {
   "cell_type": "markdown",
   "id": "65edee9f",
   "metadata": {},
   "source": [
    "## Power Production\n",
    "\n",
    "Computes the total power production for the wind farm. For further documentation, see the API docs here: {py:meth}`wombat.core.post_processor.Metrics.power_production`.\n",
    "**Inputs**:\n",
    "\n",
    "- `frequency`, as explained [above](#common-parameter-explanations), options: \"project\", \"annual\", \"monthly\", and \"month-year\"\n",
    "- `by`, as explained [above](#common-parameter-explanations) options: \"windfarm\" and \"turbine\"\n",
    "- `units`\n",
    "  - \"kwh\": kilowatt-hours (kWh)\n",
    "  - \"mwh\": megawatt-hours (MWh)\n",
    "  - \"gwh\": gigawatt-hours (GWh)\n",
    "\n",
    "**Example Usage**:"
   ]
  },
  {
   "cell_type": "code",
   "execution_count": 30,
   "id": "f066d98a",
   "metadata": {
    "tags": [
     "output_scroll"
    ]
   },
   "outputs": [
    {
     "data": {
      "text/html": [
       "<style type=\"text/css\">\n",
       "</style>\n",
       "<table id=\"T_12fe2\" style=\"font-size: 14px; grid-column-count: 6\">\n",
       "  <thead>\n",
       "    <tr>\n",
       "      <th class=\"blank level0\" >&nbsp;</th>\n",
       "      <th id=\"T_12fe2_level0_col0\" class=\"col_heading level0 col0\" >windfarm</th>\n",
       "    </tr>\n",
       "  </thead>\n",
       "  <tbody>\n",
       "    <tr>\n",
       "      <th id=\"T_12fe2_level0_row0\" class=\"row_heading level0 row0\" >Project Energy Production (kWh)</th>\n",
       "      <td id=\"T_12fe2_row0_col0\" class=\"data row0 col0\" >9,734,748,524.50</td>\n",
       "    </tr>\n",
       "  </tbody>\n",
       "</table>\n"
      ],
      "text/plain": [
       "<pandas.io.formats.style.Styler at 0x11ebb1750>"
      ]
     },
     "execution_count": 30,
     "metadata": {},
     "output_type": "execute_result"
    }
   ],
   "source": [
    "# Project totals, in kWh, at the wind farm level\n",
    "style(metrics.power_production(frequency=\"project\", by=\"windfarm\", units=\"kwh\"))"
   ]
  },
  {
   "cell_type": "code",
   "execution_count": 31,
   "id": "0418e9c4",
   "metadata": {
    "tags": [
     "output_scroll"
    ]
   },
   "outputs": [
    {
     "data": {
      "text/html": [
       "<style type=\"text/css\">\n",
       "</style>\n",
       "<table id=\"T_8ed9e\" style=\"font-size: 14px; grid-column-count: 6\">\n",
       "  <thead>\n",
       "    <tr>\n",
       "      <th class=\"blank level0\" >&nbsp;</th>\n",
       "      <th id=\"T_8ed9e_level0_col0\" class=\"col_heading level0 col0\" >windfarm</th>\n",
       "    </tr>\n",
       "  </thead>\n",
       "  <tbody>\n",
       "    <tr>\n",
       "      <th id=\"T_8ed9e_level0_row0\" class=\"row_heading level0 row0\" >Project Energy Production (MWh)</th>\n",
       "      <td id=\"T_8ed9e_row0_col0\" class=\"data row0 col0\" >9,734,748.52</td>\n",
       "    </tr>\n",
       "  </tbody>\n",
       "</table>\n"
      ],
      "text/plain": [
       "<pandas.io.formats.style.Styler at 0x11ebb15a0>"
      ]
     },
     "execution_count": 31,
     "metadata": {},
     "output_type": "execute_result"
    }
   ],
   "source": [
    "# Project totals, in MWh, at the wind farm level\n",
    "style(metrics.power_production(frequency=\"project\", units=\"mwh\"))"
   ]
  },
  {
   "cell_type": "code",
   "execution_count": 32,
   "id": "f42ef71e",
   "metadata": {
    "tags": [
     "output_scroll"
    ]
   },
   "outputs": [
    {
     "data": {
      "text/html": [
       "<style type=\"text/css\">\n",
       "</style>\n",
       "<table id=\"T_389b8\" style=\"font-size: 14px; grid-column-count: 6\">\n",
       "  <thead>\n",
       "    <tr>\n",
       "      <th class=\"blank level0\" >&nbsp;</th>\n",
       "      <th id=\"T_389b8_level0_col0\" class=\"col_heading level0 col0\" >windfarm</th>\n",
       "    </tr>\n",
       "  </thead>\n",
       "  <tbody>\n",
       "    <tr>\n",
       "      <th id=\"T_389b8_level0_row0\" class=\"row_heading level0 row0\" >Project Energy Production (GWh)</th>\n",
       "      <td id=\"T_389b8_row0_col0\" class=\"data row0 col0\" >9,734.75</td>\n",
       "    </tr>\n",
       "  </tbody>\n",
       "</table>\n"
      ],
      "text/plain": [
       "<pandas.io.formats.style.Styler at 0x11b6d4b50>"
      ]
     },
     "execution_count": 32,
     "metadata": {},
     "output_type": "execute_result"
    }
   ],
   "source": [
    "# Project totals, in GWh, at the wind farm level\n",
    "style(metrics.power_production(frequency=\"project\"))"
   ]
  },
  {
   "cell_type": "markdown",
   "id": "499c83e8",
   "metadata": {},
   "source": [
    "## Net Present Value\n",
    "\n",
    "Calcualtes the net present value (NPV) for the project, as $NPV = (Power * OfftakePrice - OpEx) / (1 + DiscountRate)$.\n",
    "\n",
    "For further documentation, see the API docs here: {py:meth}`wombat.core.post_processor.Metrics.npv`.\n",
    "\n",
    "**Inputs**:\n",
    "\n",
    "- `frequency`, as explained [above](#common-parameter-explanations), options: \"project\", \"annual\", \"monthly\", and \"month-year\"\n",
    "- `discount_rate`: The rate of return that could be earned on alternative investments, by default 0.025.\n",
    "- `offtake_price`: Price of energy, per MWh, by default 80."
   ]
  },
  {
   "cell_type": "code",
   "execution_count": 33,
   "id": "83f1e78f",
   "metadata": {
    "tags": [
     "output_scroll"
    ]
   },
   "outputs": [
    {
     "data": {
      "text/html": [
       "<style type=\"text/css\">\n",
       "</style>\n",
       "<table id=\"T_2c988\" style=\"font-size: 14px; grid-column-count: 6\">\n",
       "  <thead>\n",
       "    <tr>\n",
       "      <th class=\"blank level0\" >&nbsp;</th>\n",
       "      <th id=\"T_2c988_level0_col0\" class=\"col_heading level0 col0\" >OpEx</th>\n",
       "    </tr>\n",
       "    <tr>\n",
       "      <th class=\"index_name level0\" >year</th>\n",
       "      <th class=\"blank col0\" >&nbsp;</th>\n",
       "    </tr>\n",
       "  </thead>\n",
       "  <tbody>\n",
       "    <tr>\n",
       "      <th id=\"T_2c988_level0_row0\" class=\"row_heading level0 row0\" >2003</th>\n",
       "      <td id=\"T_2c988_row0_col0\" class=\"data row0 col0\" >10,790,044.72</td>\n",
       "    </tr>\n",
       "    <tr>\n",
       "      <th id=\"T_2c988_level0_row1\" class=\"row_heading level0 row1\" >2004</th>\n",
       "      <td id=\"T_2c988_row1_col0\" class=\"data row1 col0\" >11,744,330.82</td>\n",
       "    </tr>\n",
       "    <tr>\n",
       "      <th id=\"T_2c988_level0_row2\" class=\"row_heading level0 row2\" >2005</th>\n",
       "      <td id=\"T_2c988_row2_col0\" class=\"data row2 col0\" >13,293,770.94</td>\n",
       "    </tr>\n",
       "    <tr>\n",
       "      <th id=\"T_2c988_level0_row3\" class=\"row_heading level0 row3\" >2006</th>\n",
       "      <td id=\"T_2c988_row3_col0\" class=\"data row3 col0\" >12,198,874.32</td>\n",
       "    </tr>\n",
       "    <tr>\n",
       "      <th id=\"T_2c988_level0_row4\" class=\"row_heading level0 row4\" >2007</th>\n",
       "      <td id=\"T_2c988_row4_col0\" class=\"data row4 col0\" >12,057,714.39</td>\n",
       "    </tr>\n",
       "    <tr>\n",
       "      <th id=\"T_2c988_level0_row5\" class=\"row_heading level0 row5\" >2008</th>\n",
       "      <td id=\"T_2c988_row5_col0\" class=\"data row5 col0\" >19,344,536.18</td>\n",
       "    </tr>\n",
       "    <tr>\n",
       "      <th id=\"T_2c988_level0_row6\" class=\"row_heading level0 row6\" >2009</th>\n",
       "      <td id=\"T_2c988_row6_col0\" class=\"data row6 col0\" >12,866,672.10</td>\n",
       "    </tr>\n",
       "    <tr>\n",
       "      <th id=\"T_2c988_level0_row7\" class=\"row_heading level0 row7\" >2010</th>\n",
       "      <td id=\"T_2c988_row7_col0\" class=\"data row7 col0\" >24,453,549.67</td>\n",
       "    </tr>\n",
       "    <tr>\n",
       "      <th id=\"T_2c988_level0_row8\" class=\"row_heading level0 row8\" >2011</th>\n",
       "      <td id=\"T_2c988_row8_col0\" class=\"data row8 col0\" >13,282,380.45</td>\n",
       "    </tr>\n",
       "    <tr>\n",
       "      <th id=\"T_2c988_level0_row9\" class=\"row_heading level0 row9\" >2012</th>\n",
       "      <td id=\"T_2c988_row9_col0\" class=\"data row9 col0\" >18,837,251.24</td>\n",
       "    </tr>\n",
       "  </tbody>\n",
       "</table>\n"
      ],
      "text/plain": [
       "<pandas.io.formats.style.Styler at 0x11b6d5de0>"
      ]
     },
     "execution_count": 33,
     "metadata": {},
     "output_type": "execute_result"
    }
   ],
   "source": [
    "style(metrics.opex(\"annual\"))"
   ]
  },
  {
   "cell_type": "markdown",
   "id": "c5e4bbde",
   "metadata": {},
   "source": [
    "## PySAM-Powered Results\n",
    "\n",
    "For a number of project financial metrics, the PySAM library is utilized.\n",
    "\n",
    "```{warning}\n",
    "If a \"SAM_settings\" file is not provided to the simulation, then the following metrics will not be able to be calculated and will raise a `NotImplementedError`.\n",
    "```\n",
    "```{warning}\n",
    "All PySAM integrations will raise a `NotImplementedError` because the API needs to be re-mapped for PySAM v3.0+.\n",
    "```\n",
    "\n",
    "### Net Present Value (NPV)"
   ]
  },
  {
   "cell_type": "code",
   "execution_count": 34,
   "id": "b32f2846",
   "metadata": {
    "tags": [
     "raises-exception"
    ]
   },
   "outputs": [
    {
     "ename": "NotImplementedError",
     "evalue": "No SAM inputs were provided, and 'pysam_npv()' cannot be calculated!",
     "output_type": "error",
     "traceback": [
      "\u001b[0;31m---------------------------------------------------------------------------\u001b[0m",
      "\u001b[0;31mNotImplementedError\u001b[0m                       Traceback (most recent call last)",
      "Cell \u001b[0;32mIn[34], line 1\u001b[0m\n\u001b[0;32m----> 1\u001b[0m \u001b[43mmetrics\u001b[49m\u001b[38;5;241;43m.\u001b[39;49m\u001b[43mpysam_npv\u001b[49m\u001b[43m(\u001b[49m\u001b[43m)\u001b[49m\n",
      "File \u001b[0;32m~/GitHub_Public/WOMBAT/wombat/core/post_processor.py:2285\u001b[0m, in \u001b[0;36mMetrics.pysam_npv\u001b[0;34m(self)\u001b[0m\n\u001b[1;32m   2265\u001b[0m \u001b[38;5;250m\u001b[39m\u001b[38;5;124;03m\"\"\"Returns the project-level after-tax net present values (NPV).\u001b[39;00m\n\u001b[1;32m   2266\u001b[0m \n\u001b[1;32m   2267\u001b[0m \u001b[38;5;124;03mSee here for more:\u001b[39;00m\n\u001b[0;32m   (...)\u001b[0m\n\u001b[1;32m   2282\u001b[0m \u001b[38;5;124;03m    Final, project-level NPV, in $.\u001b[39;00m\n\u001b[1;32m   2283\u001b[0m \u001b[38;5;124;03m\"\"\"\u001b[39;00m\n\u001b[1;32m   2284\u001b[0m \u001b[38;5;28;01mif\u001b[39;00m \u001b[38;5;28mself\u001b[39m\u001b[38;5;241m.\u001b[39mfinancial_model \u001b[38;5;129;01mis\u001b[39;00m \u001b[38;5;28;01mNone\u001b[39;00m:\n\u001b[0;32m-> 2285\u001b[0m     \u001b[38;5;28;01mraise\u001b[39;00m \u001b[38;5;167;01mNotImplementedError\u001b[39;00m(\n\u001b[1;32m   2286\u001b[0m         \u001b[38;5;124m\"\u001b[39m\u001b[38;5;124mNo SAM inputs were provided, and \u001b[39m\u001b[38;5;124m'\u001b[39m\u001b[38;5;124mpysam_npv()\u001b[39m\u001b[38;5;124m'\u001b[39m\u001b[38;5;124m cannot be calculated!\u001b[39m\u001b[38;5;124m\"\u001b[39m\n\u001b[1;32m   2287\u001b[0m     )\n\u001b[1;32m   2288\u001b[0m npv \u001b[38;5;241m=\u001b[39m \u001b[38;5;28mself\u001b[39m\u001b[38;5;241m.\u001b[39mfinancial_model\u001b[38;5;241m.\u001b[39mOutputs\u001b[38;5;241m.\u001b[39mcf_project_return_aftertax_npv\n\u001b[1;32m   2289\u001b[0m npv \u001b[38;5;241m=\u001b[39m npv[\u001b[38;5;28mlen\u001b[39m(\u001b[38;5;28mself\u001b[39m\u001b[38;5;241m.\u001b[39myears)]\n",
      "\u001b[0;31mNotImplementedError\u001b[0m: No SAM inputs were provided, and 'pysam_npv()' cannot be calculated!"
     ]
    }
   ],
   "source": [
    "metrics.pysam_npv()"
   ]
  },
  {
   "cell_type": "markdown",
   "id": "7f2d49b9",
   "metadata": {},
   "source": [
    "### Real Levelized Cost of Energy (LCOE)"
   ]
  },
  {
   "cell_type": "code",
   "execution_count": 35,
   "id": "40ae8c73",
   "metadata": {
    "tags": [
     "raises-exception"
    ]
   },
   "outputs": [
    {
     "ename": "NotImplementedError",
     "evalue": "No SAM inputs were provided, and 'pysam_lcoe_real()' cannot be calculated!",
     "output_type": "error",
     "traceback": [
      "\u001b[0;31m---------------------------------------------------------------------------\u001b[0m",
      "\u001b[0;31mNotImplementedError\u001b[0m                       Traceback (most recent call last)",
      "Cell \u001b[0;32mIn[35], line 1\u001b[0m\n\u001b[0;32m----> 1\u001b[0m \u001b[43mmetrics\u001b[49m\u001b[38;5;241;43m.\u001b[39;49m\u001b[43mpysam_lcoe_real\u001b[49m\u001b[43m(\u001b[49m\u001b[43m)\u001b[49m\n",
      "File \u001b[0;32m~/GitHub_Public/WOMBAT/wombat/core/post_processor.py:2313\u001b[0m, in \u001b[0;36mMetrics.pysam_lcoe_real\u001b[0;34m(self)\u001b[0m\n\u001b[1;32m   2293\u001b[0m \u001b[38;5;250m\u001b[39m\u001b[38;5;124;03m\"\"\"Returns the real levelized cost of energy (LCOE) from PySAM.\u001b[39;00m\n\u001b[1;32m   2294\u001b[0m \n\u001b[1;32m   2295\u001b[0m \u001b[38;5;124;03mSee here for more:\u001b[39;00m\n\u001b[0;32m   (...)\u001b[0m\n\u001b[1;32m   2310\u001b[0m \u001b[38;5;124;03m    Real LCOE, in $/kW.\u001b[39;00m\n\u001b[1;32m   2311\u001b[0m \u001b[38;5;124;03m\"\"\"\u001b[39;00m\n\u001b[1;32m   2312\u001b[0m \u001b[38;5;28;01mif\u001b[39;00m \u001b[38;5;28mself\u001b[39m\u001b[38;5;241m.\u001b[39mfinancial_model \u001b[38;5;129;01mis\u001b[39;00m \u001b[38;5;28;01mNone\u001b[39;00m:\n\u001b[0;32m-> 2313\u001b[0m     \u001b[38;5;28;01mraise\u001b[39;00m \u001b[38;5;167;01mNotImplementedError\u001b[39;00m(\n\u001b[1;32m   2314\u001b[0m         \u001b[38;5;124m\"\u001b[39m\u001b[38;5;124mNo SAM inputs were provided, and \u001b[39m\u001b[38;5;124m'\u001b[39m\u001b[38;5;124mpysam_lcoe_real()\u001b[39m\u001b[38;5;124m'\u001b[39m\u001b[38;5;124m cannot be\u001b[39m\u001b[38;5;124m\"\u001b[39m\n\u001b[1;32m   2315\u001b[0m         \u001b[38;5;124m\"\u001b[39m\u001b[38;5;124m calculated!\u001b[39m\u001b[38;5;124m\"\u001b[39m\n\u001b[1;32m   2316\u001b[0m     )\n\u001b[1;32m   2317\u001b[0m \u001b[38;5;28;01mreturn\u001b[39;00m \u001b[38;5;28mself\u001b[39m\u001b[38;5;241m.\u001b[39mfinancial_model\u001b[38;5;241m.\u001b[39mOutputs\u001b[38;5;241m.\u001b[39mlcoe_real \u001b[38;5;241m/\u001b[39m \u001b[38;5;241m100.0\u001b[39m\n",
      "\u001b[0;31mNotImplementedError\u001b[0m: No SAM inputs were provided, and 'pysam_lcoe_real()' cannot be calculated!"
     ]
    }
   ],
   "source": [
    "metrics.pysam_lcoe_real()"
   ]
  },
  {
   "cell_type": "markdown",
   "id": "9da95f0f",
   "metadata": {},
   "source": [
    "### Nominal Levelized Cost of Energy (LCOE)"
   ]
  },
  {
   "cell_type": "code",
   "execution_count": 36,
   "id": "88fca674",
   "metadata": {
    "tags": [
     "raises-exception"
    ]
   },
   "outputs": [
    {
     "ename": "NotImplementedError",
     "evalue": "No SAM inputs were provided, and 'pysam_lcoe_nominal()' cannot be calculated!",
     "output_type": "error",
     "traceback": [
      "\u001b[0;31m---------------------------------------------------------------------------\u001b[0m",
      "\u001b[0;31mNotImplementedError\u001b[0m                       Traceback (most recent call last)",
      "Cell \u001b[0;32mIn[36], line 1\u001b[0m\n\u001b[0;32m----> 1\u001b[0m \u001b[43mmetrics\u001b[49m\u001b[38;5;241;43m.\u001b[39;49m\u001b[43mpysam_lcoe_nominal\u001b[49m\u001b[43m(\u001b[49m\u001b[43m)\u001b[49m\n",
      "File \u001b[0;32m~/GitHub_Public/WOMBAT/wombat/core/post_processor.py:2340\u001b[0m, in \u001b[0;36mMetrics.pysam_lcoe_nominal\u001b[0;34m(self)\u001b[0m\n\u001b[1;32m   2320\u001b[0m \u001b[38;5;250m\u001b[39m\u001b[38;5;124;03m\"\"\"Returns the nominal levelized cost of energy (LCOE) from PySAM.\u001b[39;00m\n\u001b[1;32m   2321\u001b[0m \n\u001b[1;32m   2322\u001b[0m \u001b[38;5;124;03mSee here for more:\u001b[39;00m\n\u001b[0;32m   (...)\u001b[0m\n\u001b[1;32m   2337\u001b[0m \u001b[38;5;124;03m    Nominal LCOE, in $/kW.\u001b[39;00m\n\u001b[1;32m   2338\u001b[0m \u001b[38;5;124;03m\"\"\"\u001b[39;00m\n\u001b[1;32m   2339\u001b[0m \u001b[38;5;28;01mif\u001b[39;00m \u001b[38;5;28mself\u001b[39m\u001b[38;5;241m.\u001b[39mfinancial_model \u001b[38;5;129;01mis\u001b[39;00m \u001b[38;5;28;01mNone\u001b[39;00m:\n\u001b[0;32m-> 2340\u001b[0m     \u001b[38;5;28;01mraise\u001b[39;00m \u001b[38;5;167;01mNotImplementedError\u001b[39;00m(\n\u001b[1;32m   2341\u001b[0m         \u001b[38;5;124m\"\u001b[39m\u001b[38;5;124mNo SAM inputs were provided, and \u001b[39m\u001b[38;5;124m'\u001b[39m\u001b[38;5;124mpysam_lcoe_nominal()\u001b[39m\u001b[38;5;124m'\u001b[39m\u001b[38;5;124m cannot\u001b[39m\u001b[38;5;124m\"\u001b[39m\n\u001b[1;32m   2342\u001b[0m         \u001b[38;5;124m\"\u001b[39m\u001b[38;5;124m be calculated!\u001b[39m\u001b[38;5;124m\"\u001b[39m\n\u001b[1;32m   2343\u001b[0m     )\n\u001b[1;32m   2344\u001b[0m \u001b[38;5;28;01mreturn\u001b[39;00m \u001b[38;5;28mself\u001b[39m\u001b[38;5;241m.\u001b[39mfinancial_model\u001b[38;5;241m.\u001b[39mOutputs\u001b[38;5;241m.\u001b[39mlcoe_nom \u001b[38;5;241m/\u001b[39m \u001b[38;5;241m100.0\u001b[39m\n",
      "\u001b[0;31mNotImplementedError\u001b[0m: No SAM inputs were provided, and 'pysam_lcoe_nominal()' cannot be calculated!"
     ]
    }
   ],
   "source": [
    "metrics.pysam_lcoe_nominal()"
   ]
  },
  {
   "cell_type": "markdown",
   "id": "a52f7480",
   "metadata": {},
   "source": [
    "### After-tax Internal Return Rate (IRR)"
   ]
  },
  {
   "cell_type": "code",
   "execution_count": 37,
   "id": "221e1f09",
   "metadata": {
    "tags": [
     "raises-exception"
    ]
   },
   "outputs": [
    {
     "ename": "NotImplementedError",
     "evalue": "No SAM inputs were provided, and 'pysam_irr()' cannot be calculated!",
     "output_type": "error",
     "traceback": [
      "\u001b[0;31m---------------------------------------------------------------------------\u001b[0m",
      "\u001b[0;31mNotImplementedError\u001b[0m                       Traceback (most recent call last)",
      "Cell \u001b[0;32mIn[37], line 1\u001b[0m\n\u001b[0;32m----> 1\u001b[0m \u001b[43mmetrics\u001b[49m\u001b[38;5;241;43m.\u001b[39;49m\u001b[43mpysam_irr\u001b[49m\u001b[43m(\u001b[49m\u001b[43m)\u001b[49m\n",
      "File \u001b[0;32m~/GitHub_Public/WOMBAT/wombat/core/post_processor.py:2367\u001b[0m, in \u001b[0;36mMetrics.pysam_irr\u001b[0;34m(self)\u001b[0m\n\u001b[1;32m   2347\u001b[0m \u001b[38;5;250m\u001b[39m\u001b[38;5;124;03m\"\"\"Returns the project-level after-tax internal return rate (IRR).\u001b[39;00m\n\u001b[1;32m   2348\u001b[0m \n\u001b[1;32m   2349\u001b[0m \u001b[38;5;124;03mSee here for more:\u001b[39;00m\n\u001b[0;32m   (...)\u001b[0m\n\u001b[1;32m   2364\u001b[0m \u001b[38;5;124;03m    Annual after-tax IRR value, in %.\u001b[39;00m\n\u001b[1;32m   2365\u001b[0m \u001b[38;5;124;03m\"\"\"\u001b[39;00m\n\u001b[1;32m   2366\u001b[0m \u001b[38;5;28;01mif\u001b[39;00m \u001b[38;5;28mself\u001b[39m\u001b[38;5;241m.\u001b[39mfinancial_model \u001b[38;5;129;01mis\u001b[39;00m \u001b[38;5;28;01mNone\u001b[39;00m:\n\u001b[0;32m-> 2367\u001b[0m     \u001b[38;5;28;01mraise\u001b[39;00m \u001b[38;5;167;01mNotImplementedError\u001b[39;00m(\n\u001b[1;32m   2368\u001b[0m         \u001b[38;5;124m\"\u001b[39m\u001b[38;5;124mNo SAM inputs were provided, and \u001b[39m\u001b[38;5;124m'\u001b[39m\u001b[38;5;124mpysam_irr()\u001b[39m\u001b[38;5;124m'\u001b[39m\u001b[38;5;124m cannot be calculated!\u001b[39m\u001b[38;5;124m\"\u001b[39m\n\u001b[1;32m   2369\u001b[0m     )\n\u001b[1;32m   2370\u001b[0m irr \u001b[38;5;241m=\u001b[39m \u001b[38;5;28mself\u001b[39m\u001b[38;5;241m.\u001b[39mfinancial_model\u001b[38;5;241m.\u001b[39mOutputs\u001b[38;5;241m.\u001b[39mcf_project_return_aftertax_irr\n\u001b[1;32m   2371\u001b[0m irr \u001b[38;5;241m=\u001b[39m irr[\u001b[38;5;28mlen\u001b[39m(\u001b[38;5;28mself\u001b[39m\u001b[38;5;241m.\u001b[39myears)]\n",
      "\u001b[0;31mNotImplementedError\u001b[0m: No SAM inputs were provided, and 'pysam_irr()' cannot be calculated!"
     ]
    }
   ],
   "source": [
    "metrics.pysam_irr()"
   ]
  },
  {
   "cell_type": "markdown",
   "id": "738f16a4",
   "metadata": {},
   "source": [
    "### Combined PySAM Outputs"
   ]
  },
  {
   "cell_type": "code",
   "execution_count": 38,
   "id": "99c5224b",
   "metadata": {
    "tags": [
     "raises-exception"
    ]
   },
   "outputs": [
    {
     "ename": "NotImplementedError",
     "evalue": "No SAM inputs were provided, and 'pysam_all_outputs()' cannot be calculated!",
     "output_type": "error",
     "traceback": [
      "\u001b[0;31m---------------------------------------------------------------------------\u001b[0m",
      "\u001b[0;31mNotImplementedError\u001b[0m                       Traceback (most recent call last)",
      "Cell \u001b[0;32mIn[38], line 1\u001b[0m\n\u001b[0;32m----> 1\u001b[0m \u001b[43mmetrics\u001b[49m\u001b[38;5;241;43m.\u001b[39;49m\u001b[43mpysam_all_outputs\u001b[49m\u001b[43m(\u001b[49m\u001b[43m)\u001b[49m\n",
      "File \u001b[0;32m~/GitHub_Public/WOMBAT/wombat/core/post_processor.py:2398\u001b[0m, in \u001b[0;36mMetrics.pysam_all_outputs\u001b[0;34m(self)\u001b[0m\n\u001b[1;32m   2375\u001b[0m \u001b[38;5;250m\u001b[39m\u001b[38;5;124;03m\"\"\"Returns all the possible PySAM outputs that are included in this module as\u001b[39;00m\n\u001b[1;32m   2376\u001b[0m \u001b[38;5;124;03mcolumns in the following order.\u001b[39;00m\n\u001b[1;32m   2377\u001b[0m \n\u001b[0;32m   (...)\u001b[0m\n\u001b[1;32m   2395\u001b[0m \u001b[38;5;124;03m    Project financial values values.\u001b[39;00m\n\u001b[1;32m   2396\u001b[0m \u001b[38;5;124;03m\"\"\"\u001b[39;00m\n\u001b[1;32m   2397\u001b[0m \u001b[38;5;28;01mif\u001b[39;00m \u001b[38;5;28mself\u001b[39m\u001b[38;5;241m.\u001b[39mfinancial_model \u001b[38;5;129;01mis\u001b[39;00m \u001b[38;5;28;01mNone\u001b[39;00m:\n\u001b[0;32m-> 2398\u001b[0m     \u001b[38;5;28;01mraise\u001b[39;00m \u001b[38;5;167;01mNotImplementedError\u001b[39;00m(\n\u001b[1;32m   2399\u001b[0m         \u001b[38;5;124m\"\u001b[39m\u001b[38;5;124mNo SAM inputs were provided, and \u001b[39m\u001b[38;5;124m'\u001b[39m\u001b[38;5;124mpysam_all_outputs()\u001b[39m\u001b[38;5;124m'\u001b[39m\u001b[38;5;124m cannot\u001b[39m\u001b[38;5;124m\"\u001b[39m\n\u001b[1;32m   2400\u001b[0m         \u001b[38;5;124m\"\u001b[39m\u001b[38;5;124m be calculated!\u001b[39m\u001b[38;5;124m\"\u001b[39m\n\u001b[1;32m   2401\u001b[0m     )\n\u001b[1;32m   2402\u001b[0m financials \u001b[38;5;241m=\u001b[39m [\n\u001b[1;32m   2403\u001b[0m     \u001b[38;5;28mself\u001b[39m\u001b[38;5;241m.\u001b[39mpysam_npv(),\n\u001b[1;32m   2404\u001b[0m     \u001b[38;5;28mself\u001b[39m\u001b[38;5;241m.\u001b[39mpysam_lcoe_nominal(),\n\u001b[1;32m   2405\u001b[0m     \u001b[38;5;28mself\u001b[39m\u001b[38;5;241m.\u001b[39mpysam_lcoe_real(),\n\u001b[1;32m   2406\u001b[0m     \u001b[38;5;28mself\u001b[39m\u001b[38;5;241m.\u001b[39mpysam_irr(),\n\u001b[1;32m   2407\u001b[0m ]\n\u001b[1;32m   2408\u001b[0m descriptions \u001b[38;5;241m=\u001b[39m [\n\u001b[1;32m   2409\u001b[0m     \u001b[38;5;124m\"\u001b[39m\u001b[38;5;124mAfter Tax NPV ($)\u001b[39m\u001b[38;5;124m\"\u001b[39m,\n\u001b[1;32m   2410\u001b[0m     \u001b[38;5;124m\"\u001b[39m\u001b[38;5;124mNominal LCOE ($/kW)\u001b[39m\u001b[38;5;124m\"\u001b[39m,\n\u001b[1;32m   2411\u001b[0m     \u001b[38;5;124m\"\u001b[39m\u001b[38;5;124mReal LCOE ($/kW)\u001b[39m\u001b[38;5;124m\"\u001b[39m,\n\u001b[1;32m   2412\u001b[0m     \u001b[38;5;124m\"\u001b[39m\u001b[38;5;124mAfter Tax IRR (\u001b[39m\u001b[38;5;124m%\u001b[39m\u001b[38;5;124m)\u001b[39m\u001b[38;5;124m\"\u001b[39m,\n\u001b[1;32m   2413\u001b[0m ]\n",
      "\u001b[0;31mNotImplementedError\u001b[0m: No SAM inputs were provided, and 'pysam_all_outputs()' cannot be calculated!"
     ]
    }
   ],
   "source": [
    "metrics.pysam_all_outputs()"
   ]
  }
 ],
 "metadata": {
  "jupytext": {
   "formats": "md:myst",
   "text_representation": {
    "extension": ".md",
    "format_name": "myst"
   }
  },
  "kernelspec": {
   "display_name": "Python 3",
   "language": "python",
   "name": "python3"
  },
  "language_info": {
   "codemirror_mode": {
    "name": "ipython",
    "version": 3
   },
   "file_extension": ".py",
   "mimetype": "text/x-python",
   "name": "python",
   "nbconvert_exporter": "python",
   "pygments_lexer": "ipython3",
   "version": "3.10.12"
  },
  "source_map": [
   11,
   20,
   39,
   78,
   96,
   142,
   147,
   150,
   155,
   160,
   165,
   170,
   174,
   192,
   198,
   214,
   222,
   237,
   242,
   246,
   258,
   262,
   278,
   283,
   287,
   305,
   310,
   325,
   332,
   337,
   362,
   367,
   371,
   383,
   419,
   442,
   447,
   451,
   465,
   468,
   472,
   479,
   484,
   488,
   499,
   502,
   510,
   513,
   529,
   534,
   539,
   543,
   558,
   561,
   576,
   580,
   584,
   588,
   592,
   596,
   600,
   604,
   607
  ]
 },
 "nbformat": 4,
 "nbformat_minor": 5
}
