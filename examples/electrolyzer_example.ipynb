{
  "cells": [
    {
      "cell_type": "markdown",
      "id": "bad0e987-e08f-4484-85ba-ba4a422802a4",
      "metadata": {},
      "source": [
        "# Example Electrolyzer Usage\n",
        "\n",
        "This notebook demonstrates how to set up a working electrolyzer example based on a\n",
        "heavily modified version of the COREWIND *in situ* model."
      ]
    },
    {
      "cell_type": "code",
      "execution_count": 1,
      "id": "4961fc09-e4c8-4da1-9690-353ba24ef89d",
      "metadata": {},
      "outputs": [],
      "source": [
        "import pandas as pd\n",
        "\n",
        "from wombat import Simulation, load_yaml\n",
        "from wombat.core.library import COREWIND"
      ]
    },
    {
      "cell_type": "markdown",
      "id": "48d64b69-1e70-4a07-9a66-c18848119303",
      "metadata": {},
      "source": [
        "## Defining the simulation\n",
        "\n",
        "This example will be a fictionalized offshore electrolyzer in Morro Bay with a single\n",
        "15 MW turbine and substation, and a 1 MW PEM Electrolyzer. We will also model a single\n",
        "CTV for servicing at the site.\n",
        "\n",
        "### Primary configuration\n",
        "\n",
        "First, we will set up the primary inputs for the model by loading the original inputs,\n",
        "then modifying the necessary fields, or creating any placeholders for later sections."
      ]
    },
    {
      "cell_type": "code",
      "execution_count": 2,
      "id": "6b304a9e-73ce-4cfe-a39b-14d90ff97b14",
      "metadata": {},
      "outputs": [],
      "source": [
        "config = load_yaml(COREWIND / \"project/config\", \"morro_bay_in_situ.yaml\")\n",
        "\n",
        "config[\"name\"] = \"PEM Test\"\n",
        "config[\"service_equipment\"] = [\"ctv\"]\n",
        "config[\"project_capacity\"] = 15\n",
        "\n",
        "config[\"turbines\"] = {}\n",
        "config[\"substations\"] = {}\n",
        "config[\"cables\"] = {}\n",
        "config[\"electrolyzers\"] = {}\n",
        "config[\"vessels\"] = {}"
      ]
    },
    {
      "cell_type": "markdown",
      "id": "2e37adb8-97ff-497d-83eb-ff9ec376c73d",
      "metadata": {},
      "source": [
        "### Customizing the layout\n",
        "\n",
        "Since a barebones site is being modeled in this example, we will create a custom data set\n",
        "by dropping all the substations and turbines, except for the required one of each.\n",
        "Additionally, we will have to update a the \"string\" and \"order\" columns to ensure they\n",
        "comply with the 0-indexing that WOMBAT expects\n",
        "\n",
        "It's worth noting that we are using the \"_consolidated\" version of the layout so that we\n",
        "can later embed the turbine and substation configurations in the primary configuration\n",
        "instead of creating a new data in this example.\n",
        "\n",
        "We wil also be inputting the electrolyzer information in the row for the substation \"SS1\"\n",
        "as it already connects to the substation \"SS2\", b"
      ]
    },
    {
      "cell_type": "code",
      "execution_count": 3,
      "id": "33f25201-3de8-49f8-af08-d93ad8575366",
      "metadata": {},
      "outputs": [
        {
          "data": {
            "text/html": [
              "<div>\n",
              "<style scoped>\n",
              "    .dataframe tbody tr th:only-of-type {\n",
              "        vertical-align: middle;\n",
              "    }\n",
              "\n",
              "    .dataframe tbody tr th {\n",
              "        vertical-align: top;\n",
              "    }\n",
              "\n",
              "    .dataframe thead th {\n",
              "        text-align: right;\n",
              "    }\n",
              "</style>\n",
              "<table border=\"1\" class=\"dataframe\">\n",
              "  <thead>\n",
              "    <tr style=\"text-align: right;\">\n",
              "      <th></th>\n",
              "      <th>id</th>\n",
              "      <th>substation_id</th>\n",
              "      <th>name</th>\n",
              "      <th>type</th>\n",
              "      <th>x</th>\n",
              "      <th>y</th>\n",
              "      <th>easting</th>\n",
              "      <th>northing</th>\n",
              "      <th>longitude</th>\n",
              "      <th>latitude</th>\n",
              "      <th>string</th>\n",
              "      <th>order</th>\n",
              "      <th>distance</th>\n",
              "      <th>subassembly</th>\n",
              "      <th>upstream_cable</th>\n",
              "      <th>upstream_cable_name</th>\n",
              "    </tr>\n",
              "  </thead>\n",
              "  <tbody>\n",
              "    <tr>\n",
              "      <th>0</th>\n",
              "      <td>SS1</td>\n",
              "      <td>SS2</td>\n",
              "      <td>SS1</td>\n",
              "      <td>substation</td>\n",
              "      <td>0</td>\n",
              "      <td>4320</td>\n",
              "      <td>623080.06</td>\n",
              "      <td>3918930.21</td>\n",
              "      <td>-121.644512</td>\n",
              "      <td>35.406164</td>\n",
              "      <td>9</td>\n",
              "      <td>0</td>\n",
              "      <td>NaN</td>\n",
              "      <td>corewind_substation</td>\n",
              "      <td>corewind_export</td>\n",
              "      <td>EXP00</td>\n",
              "    </tr>\n",
              "    <tr>\n",
              "      <th>1</th>\n",
              "      <td>SS2</td>\n",
              "      <td>SS2</td>\n",
              "      <td>SS2</td>\n",
              "      <td>substation</td>\n",
              "      <td>0</td>\n",
              "      <td>-4320</td>\n",
              "      <td>623080.06</td>\n",
              "      <td>3910290.21</td>\n",
              "      <td>-121.645813</td>\n",
              "      <td>35.328280</td>\n",
              "      <td>9</td>\n",
              "      <td>1</td>\n",
              "      <td>NaN</td>\n",
              "      <td>corewind_substation</td>\n",
              "      <td>corewind_export</td>\n",
              "      <td>EXP01</td>\n",
              "    </tr>\n",
              "    <tr>\n",
              "      <th>2</th>\n",
              "      <td>WTG_0400</td>\n",
              "      <td>SS2</td>\n",
              "      <td>WTG_0400</td>\n",
              "      <td>turbine</td>\n",
              "      <td>-2160</td>\n",
              "      <td>-1080</td>\n",
              "      <td>620920.06</td>\n",
              "      <td>3913530.21</td>\n",
              "      <td>-121.669094</td>\n",
              "      <td>35.357751</td>\n",
              "      <td>4</td>\n",
              "      <td>0</td>\n",
              "      <td>NaN</td>\n",
              "      <td>corewind_15MW</td>\n",
              "      <td>corewind_array</td>\n",
              "      <td>ARR40</td>\n",
              "    </tr>\n",
              "  </tbody>\n",
              "</table>\n",
              "</div>"
            ],
            "text/plain": [
              "         id substation_id      name        type     x     y    easting  \\\n",
              "0       SS1           SS2       SS1  substation     0  4320  623080.06   \n",
              "1       SS2           SS2       SS2  substation     0 -4320  623080.06   \n",
              "2  WTG_0400           SS2  WTG_0400     turbine -2160 -1080  620920.06   \n",
              "\n",
              "     northing   longitude   latitude  string  order  distance  \\\n",
              "0  3918930.21 -121.644512  35.406164       9      0       NaN   \n",
              "1  3910290.21 -121.645813  35.328280       9      1       NaN   \n",
              "2  3913530.21 -121.669094  35.357751       4      0       NaN   \n",
              "\n",
              "           subassembly   upstream_cable upstream_cable_name  \n",
              "0  corewind_substation  corewind_export               EXP00  \n",
              "1  corewind_substation  corewind_export               EXP01  \n",
              "2        corewind_15MW   corewind_array               ARR40  "
            ]
          },
          "execution_count": 3,
          "metadata": {},
          "output_type": "execute_result"
        }
      ],
      "source": [
        "layout = pd.read_csv(COREWIND / \"project/plant/morro_bay_9D_layout_consolidated.csv\")\n",
        "layout = layout.loc[layout.id.isin((\"SS1\", \"SS2\", \"WTG_0400\"))].reset_index(drop=True)\n",
        "\n",
        "layout"
      ]
    },
    {
      "cell_type": "code",
      "execution_count": 4,
      "id": "587716d6-e17b-46ec-82bf-a51f7264310c",
      "metadata": {},
      "outputs": [
        {
          "data": {
            "text/html": [
              "<div>\n",
              "<style scoped>\n",
              "    .dataframe tbody tr th:only-of-type {\n",
              "        vertical-align: middle;\n",
              "    }\n",
              "\n",
              "    .dataframe tbody tr th {\n",
              "        vertical-align: top;\n",
              "    }\n",
              "\n",
              "    .dataframe thead th {\n",
              "        text-align: right;\n",
              "    }\n",
              "</style>\n",
              "<table border=\"1\" class=\"dataframe\">\n",
              "  <thead>\n",
              "    <tr style=\"text-align: right;\">\n",
              "      <th></th>\n",
              "      <th>id</th>\n",
              "      <th>substation_id</th>\n",
              "      <th>name</th>\n",
              "      <th>type</th>\n",
              "      <th>x</th>\n",
              "      <th>y</th>\n",
              "      <th>easting</th>\n",
              "      <th>northing</th>\n",
              "      <th>longitude</th>\n",
              "      <th>latitude</th>\n",
              "      <th>string</th>\n",
              "      <th>order</th>\n",
              "      <th>distance</th>\n",
              "      <th>subassembly</th>\n",
              "      <th>upstream_cable</th>\n",
              "      <th>upstream_cable_name</th>\n",
              "    </tr>\n",
              "  </thead>\n",
              "  <tbody>\n",
              "    <tr>\n",
              "      <th>0</th>\n",
              "      <td>ELC1</td>\n",
              "      <td>SS2</td>\n",
              "      <td>ELC1</td>\n",
              "      <td>electrolyzer</td>\n",
              "      <td>0</td>\n",
              "      <td>4320</td>\n",
              "      <td>623080.06</td>\n",
              "      <td>3918930.21</td>\n",
              "      <td>-121.644512</td>\n",
              "      <td>35.406164</td>\n",
              "      <td>1</td>\n",
              "      <td>0</td>\n",
              "      <td>NaN</td>\n",
              "      <td>electrolyzer_sample</td>\n",
              "      <td>corewind_export</td>\n",
              "      <td>EXP00</td>\n",
              "    </tr>\n",
              "    <tr>\n",
              "      <th>1</th>\n",
              "      <td>SS2</td>\n",
              "      <td>SS2</td>\n",
              "      <td>SS2</td>\n",
              "      <td>substation</td>\n",
              "      <td>0</td>\n",
              "      <td>-4320</td>\n",
              "      <td>623080.06</td>\n",
              "      <td>3910290.21</td>\n",
              "      <td>-121.645813</td>\n",
              "      <td>35.328280</td>\n",
              "      <td>1</td>\n",
              "      <td>0</td>\n",
              "      <td>NaN</td>\n",
              "      <td>corewind_substation</td>\n",
              "      <td>corewind_export</td>\n",
              "      <td>EXP01</td>\n",
              "    </tr>\n",
              "    <tr>\n",
              "      <th>2</th>\n",
              "      <td>WTG_0400</td>\n",
              "      <td>SS2</td>\n",
              "      <td>WTG_0400</td>\n",
              "      <td>turbine</td>\n",
              "      <td>-2160</td>\n",
              "      <td>-1080</td>\n",
              "      <td>620920.06</td>\n",
              "      <td>3913530.21</td>\n",
              "      <td>-121.669094</td>\n",
              "      <td>35.357751</td>\n",
              "      <td>0</td>\n",
              "      <td>0</td>\n",
              "      <td>NaN</td>\n",
              "      <td>corewind_15MW</td>\n",
              "      <td>corewind_array</td>\n",
              "      <td>ARR40</td>\n",
              "    </tr>\n",
              "  </tbody>\n",
              "</table>\n",
              "</div>"
            ],
            "text/plain": [
              "         id substation_id      name          type     x     y    easting  \\\n",
              "0      ELC1           SS2      ELC1  electrolyzer     0  4320  623080.06   \n",
              "1       SS2           SS2       SS2    substation     0 -4320  623080.06   \n",
              "2  WTG_0400           SS2  WTG_0400       turbine -2160 -1080  620920.06   \n",
              "\n",
              "     northing   longitude   latitude  string  order  distance  \\\n",
              "0  3918930.21 -121.644512  35.406164       1      0       NaN   \n",
              "1  3910290.21 -121.645813  35.328280       1      0       NaN   \n",
              "2  3913530.21 -121.669094  35.357751       0      0       NaN   \n",
              "\n",
              "           subassembly   upstream_cable upstream_cable_name  \n",
              "0  electrolyzer_sample  corewind_export               EXP00  \n",
              "1  corewind_substation  corewind_export               EXP01  \n",
              "2        corewind_15MW   corewind_array               ARR40  "
            ]
          },
          "execution_count": 4,
          "metadata": {},
          "output_type": "execute_result"
        }
      ],
      "source": [
        "# Update the string data to ensure compliance with expected 0-indexing\n",
        "layout.string = [1, 1, 0]\n",
        "layout.order = [0, 0, 0]\n",
        "\n",
        "fields = [\"ELC1\", \"ELC1\", \"electrolyzer\", \"electrolyzer_sample\"]\n",
        "cols = [\"id\", \"name\", \"type\", \"subassembly\"]\n",
        "layout.loc[layout.id.eq(\"SS1\"), cols] = fields\n",
        "\n",
        "# Replace the original layout file with the updated layout DataFrame\n",
        "config[\"layout\"] = layout\n",
        "\n",
        "layout"
      ]
    },
    {
      "cell_type": "markdown",
      "id": "d2443709-1684-48f9-a166-47847a131c70",
      "metadata": {},
      "source": [
        "### Creating the turbine, substation, and cable models\n",
        "\n",
        "Here, we will create a turbine, substation, and cable configuration that will have no\n",
        "failures or mainteance events for the purpose of highlighting the electrolyzer. While\n",
        "there are no events in the model, placeholders are still required to initialize a\n",
        "simulation."
      ]
    },
    {
      "cell_type": "code",
      "execution_count": 5,
      "id": "25f68565-afce-4ba0-a8e3-c76f738c1e6b",
      "metadata": {},
      "outputs": [],
      "source": [
        "no_fail_maintenance = [\n",
        "    {\n",
        "        \"description\": \"n/a\",\n",
        "        \"time\": 0,\n",
        "        \"materials\": 0,\n",
        "        \"service_equipment\": \"CTV\",\n",
        "        \"frequency\": 0,\n",
        "    }\n",
        "]\n",
        "no_fail_failures = [\n",
        "    {\n",
        "        \"description\": \"n/a\",\n",
        "        \"time\": 0,\n",
        "        \"materials\": 0,\n",
        "        \"service_equipment\": \"CTV\",\n",
        "        \"scale\": 0,\n",
        "        \"shape\": 0,\n",
        "        \"operation_reduction\": 0,\n",
        "        \"level\": 1,\n",
        "    }\n",
        "]\n",
        "\n",
        "turbine = {\n",
        "    \"capacity_kw\": 15000,\n",
        "    \"capex_kw\": 1300,\n",
        "    \"power_curve\": {\n",
        "        \"file\": \"2020ATB_NREL_Reference_15MW_240.csv\",\n",
        "        \"bin_width\": 0.25,\n",
        "    },\n",
        "    \"turbine\": {\n",
        "        \"name\": \"all subassemblies\",\n",
        "        \"maintenance\": no_fail_maintenance,\n",
        "        \"failures\": no_fail_failures,\n",
        "    },\n",
        "}\n",
        "\n",
        "substation = {\n",
        "    \"capacity_kw\": 600,\n",
        "    \"capex_kw\": 120,\n",
        "    \"substation\": {\n",
        "        \"name\": \"all subassemblies\",\n",
        "        \"maintenance\": no_fail_maintenance,\n",
        "        \"failures\": no_fail_failures,\n",
        "    },\n",
        "}\n",
        "substation[\"substation\"] = turbine[\"turbine\"]\n",
        "\n",
        "no_fail_array_cable = {\n",
        "    \"name\": \"array cable\",\n",
        "    \"maintenance\": no_fail_maintenance,\n",
        "    \"failures\": no_fail_failures,\n",
        "}\n",
        "no_fail_export_cable = {\n",
        "    \"name\": \"export cable\",\n",
        "    \"maintenance\": no_fail_maintenance,\n",
        "    \"failures\": no_fail_failures,\n",
        "}"
      ]
    },
    {
      "cell_type": "markdown",
      "id": "c574b07a-d1c3-470e-ad5c-96ebef8b0298",
      "metadata": {},
      "source": [
        "Now, we will add the above configurations to the configuration file, ensuring that the\n",
        "dictionary key matches the input to the \"subassembly\" or \"upstream_cable\" column."
      ]
    },
    {
      "cell_type": "code",
      "execution_count": 6,
      "id": "f8a3087e-f3ab-479c-a8cc-2ec15d3358be",
      "metadata": {},
      "outputs": [],
      "source": [
        "config[\"turbines\"][\"corewind_15MW\"] = turbine\n",
        "config[\"substations\"][\"corewind_substation\"] = substation\n",
        "config[\"cables\"][\"corewind_array\"] = no_fail_array_cable\n",
        "config[\"cables\"][\"corewind_export\"] = no_fail_export_cable"
      ]
    },
    {
      "cell_type": "markdown",
      "id": "1e05d874-dc9d-4051-a26f-a4bf153709d4",
      "metadata": {},
      "source": [
        "### Vessel configuration\n",
        "\n",
        "In this step, we will load and insert the CTV into the primary configuration without\n",
        "any modification."
      ]
    },
    {
      "cell_type": "code",
      "execution_count": 7,
      "id": "51b21a05-05c2-4cec-8181-55c29b8850f3",
      "metadata": {},
      "outputs": [],
      "source": [
        "ctv = load_yaml(COREWIND / \"vessels\", \"ctv1.yaml\")\n",
        "\n",
        "config[\"vessels\"][\"ctv\"] = ctv"
      ]
    },
    {
      "cell_type": "markdown",
      "id": "2e51805a-84f6-4be3-907e-8bdd743bae59",
      "metadata": {},
      "source": [
        "### Create the electrolyzer configuration\n",
        "\n",
        "Now we will create a fabricated electrolyzer example configuration (no publicly\n",
        "available cost and failure data to use). It will use a linear efficiency power curve\n",
        "and be assumed to be a single, 1 MW stack PEM electrolyzer.\n",
        "\n",
        "To model the power curve using a polynomial efficiency, we would replace\n",
        "`efficiency_rate` with `p1`, `p2`, `p3`, `p4`, and `p5` for the power to current\n",
        "conversion. For more information on the electrolyzer inputs, please the explanation in\n",
        "the `how_to.ipynb` example, or the documentation site version at\n",
        "https://wisdem.github.io/WOMBAT/examples/how_to.html#the-system-models."
      ]
    },
    {
      "cell_type": "code",
      "execution_count": 8,
      "id": "6d1dc50f-fad7-4325-8d9d-7f7e8c9e5db1",
      "metadata": {},
      "outputs": [],
      "source": [
        "config[\"electrolyzers\"][\"electrolyzer_sample\"] = {\n",
        "    \"stack_capacity_kw\": 1000,\n",
        "    \"capex_kw\": 800,\n",
        "    \"n_stacks\": 1,\n",
        "    \"power_curve\": {\n",
        "        \"efficiency_rate\": 39.44,\n",
        "        \"FE\": 0.9999999,\n",
        "        \"n_cells\": 135,\n",
        "        \"turndown_ratio\": 0.1,\n",
        "    },\n",
        "    \"cathode\": {\n",
        "        \"name\": \"Cathode\",\n",
        "        \"maintenance\": [\n",
        "            {\n",
        "                \"description\": \"annual cathode maintenance\",\n",
        "                \"service_equipment\": \"CTV\",\n",
        "                \"time\": 12,\n",
        "                \"materials\": 6000,\n",
        "                \"frequency\": 1,\n",
        "                \"frequency_basis\": \"years\",\n",
        "            }\n",
        "        ],\n",
        "        \"failures\": no_fail_failures,\n",
        "    },\n",
        "    \"cooling_system\": {\n",
        "        \"name\": \"cooling\",\n",
        "        \"maintenance\": [\n",
        "            {\n",
        "                \"description\": \"annual anode maintenance\",\n",
        "                \"service_equipment\": \"CTV\",\n",
        "                \"time\": 6,\n",
        "                \"materials\": 1000,\n",
        "                \"frequency\": 1,\n",
        "                \"frequency_basis\": \"years\",\n",
        "            }\n",
        "        ],\n",
        "        \"failures\": no_fail_failures,\n",
        "    },\n",
        "    \"anode\": {\n",
        "        \"name\": \"Anode\",\n",
        "        \"maintenance\": [\n",
        "            {\n",
        "                \"description\": \"cathode maintenance\",\n",
        "                \"service_equipment\": \"CTV\",\n",
        "                \"time\": 48,\n",
        "                \"materials\": 6000,\n",
        "                \"frequency\": 5,\n",
        "                \"frequency_basis\": \"years\",\n",
        "            }\n",
        "        ],\n",
        "        \"failures\": no_fail_failures,\n",
        "    },\n",
        "    \"power_system\": {\n",
        "        \"name\": \"DC Current Transducer\",\n",
        "        \"maintenance\": no_fail_maintenance,\n",
        "        \"failures\": [\n",
        "            {\n",
        "                \"description\": \"n/a\",\n",
        "                \"time\": 100,\n",
        "                \"materials\": 100000,\n",
        "                \"service_equipment\": \"CTV\",\n",
        "                \"scale\": 5,\n",
        "                \"shape\": 0,\n",
        "                \"operation_reduction\": 1,\n",
        "                \"level\": 2,\n",
        "            }\n",
        "        ],\n",
        "    },\n",
        "}"
      ]
    },
    {
      "cell_type": "markdown",
      "id": "4c4d23d9-ce78-46de-94ee-4b1bf8bdde2c",
      "metadata": {},
      "source": [
        "## Run the simulation\n",
        "\n",
        "Now, we can create the `Simulation` using the library path and modified configuration\n",
        "dictionary, and run a simulation.\n",
        "\n",
        "Note, that it's best to delete the logging files once completed. In this example we use\n",
        "`sim.run(delete_logs=True, save_metrics_inputs=False)` to ensure that al the created\n",
        "logging and output data deleted from the machine post-simulation."
      ]
    },
    {
      "cell_type": "code",
      "execution_count": 9,
      "id": "6d2222ec-c7a6-4127-bfb3-37819daae57f",
      "metadata": {},
      "outputs": [],
      "source": [
        "sim = Simulation(COREWIND, config)"
      ]
    },
    {
      "cell_type": "code",
      "execution_count": 11,
      "id": "bd4596ee-aa3d-447c-a8ad-36ae43b77785",
      "metadata": {
        "scrolled": true
      },
      "outputs": [],
      "source": [
        "sim.run(delete_logs=True, save_metrics_inputs=False)"
      ]
    },
    {
      "cell_type": "markdown",
      "id": "61741641-ca1c-46ed-a495-3e2a5620c88d",
      "metadata": {},
      "source": [
        "## Check the results"
      ]
    },
    {
      "cell_type": "code",
      "execution_count": 12,
      "id": "0ddda3f7-2e9d-4f24-aac0-0164bfa3451d",
      "metadata": {},
      "outputs": [],
      "source": [
        "metrics = sim.metrics"
      ]
    },
    {
      "cell_type": "code",
      "execution_count": 13,
      "id": "923d1f9c-6eb8-47c6-80c0-dc0b27894e9d",
      "metadata": {},
      "outputs": [
        {
          "data": {
            "text/html": [
              "<style type=\"text/css\">\n",
              "</style>\n",
              "<table id=\"T_041d0\">\n",
              "  <thead>\n",
              "    <tr>\n",
              "      <th class=\"blank level0\" >&nbsp;</th>\n",
              "      <th id=\"T_041d0_level0_col0\" class=\"col_heading level0 col0\" >operations</th>\n",
              "      <th id=\"T_041d0_level0_col1\" class=\"col_heading level0 col1\" >port_fees</th>\n",
              "      <th id=\"T_041d0_level0_col2\" class=\"col_heading level0 col2\" >equipment_cost</th>\n",
              "      <th id=\"T_041d0_level0_col3\" class=\"col_heading level0 col3\" >total_labor_cost</th>\n",
              "      <th id=\"T_041d0_level0_col4\" class=\"col_heading level0 col4\" >materials_cost</th>\n",
              "      <th id=\"T_041d0_level0_col5\" class=\"col_heading level0 col5\" >OpEx</th>\n",
              "    </tr>\n",
              "  </thead>\n",
              "  <tbody>\n",
              "    <tr>\n",
              "      <th id=\"T_041d0_level0_row0\" class=\"row_heading level0 row0\" >0</th>\n",
              "      <td id=\"T_041d0_row0_col0\" class=\"data row0 col0\" >$0.00</td>\n",
              "      <td id=\"T_041d0_row0_col1\" class=\"data row0 col1\" >$0.00</td>\n",
              "      <td id=\"T_041d0_row0_col2\" class=\"data row0 col2\" >$25,562,401.51</td>\n",
              "      <td id=\"T_041d0_row0_col3\" class=\"data row0 col3\" >$4,802,371.85</td>\n",
              "      <td id=\"T_041d0_row0_col4\" class=\"data row0 col4\" >$151,000.00</td>\n",
              "      <td id=\"T_041d0_row0_col5\" class=\"data row0 col5\" >$30,515,773.36</td>\n",
              "    </tr>\n",
              "  </tbody>\n",
              "</table>\n"
            ],
            "text/plain": [
              "<pandas.io.formats.style.Styler at 0x11cd80320>"
            ]
          },
          "execution_count": 13,
          "metadata": {},
          "output_type": "execute_result"
        }
      ],
      "source": [
        "metrics.opex(\"project\", by_category=True).style.format(\"${:,.2f}\")"
      ]
    },
    {
      "cell_type": "code",
      "execution_count": 14,
      "id": "46747b26-1065-4303-9344-cab2b5308817",
      "metadata": {},
      "outputs": [
        {
          "data": {
            "text/html": [
              "<style type=\"text/css\">\n",
              "</style>\n",
              "<table id=\"T_dcdd7\">\n",
              "  <thead>\n",
              "    <tr>\n",
              "      <th class=\"blank level0\" >&nbsp;</th>\n",
              "      <th id=\"T_dcdd7_level0_col0\" class=\"col_heading level0 col0\" >ELC1</th>\n",
              "    </tr>\n",
              "  </thead>\n",
              "  <tbody>\n",
              "    <tr>\n",
              "      <th id=\"T_dcdd7_level0_row0\" class=\"row_heading level0 row0\" >time_availability</th>\n",
              "      <td id=\"T_dcdd7_row0_col0\" class=\"data row0 col0\" >97.8%</td>\n",
              "    </tr>\n",
              "  </tbody>\n",
              "</table>\n"
            ],
            "text/plain": [
              "<pandas.io.formats.style.Styler at 0x11cd6ea80>"
            ]
          },
          "execution_count": 14,
          "metadata": {},
          "output_type": "execute_result"
        }
      ],
      "source": [
        "metrics.time_based_availability(\"project\", \"electrolyzer\").style.format(\"{:.1%}\")"
      ]
    },
    {
      "cell_type": "code",
      "execution_count": 15,
      "id": "c0ccf0f0-f307-42f2-8931-bdf2f276ed8d",
      "metadata": {},
      "outputs": [
        {
          "data": {
            "text/html": [
              "<style type=\"text/css\">\n",
              "</style>\n",
              "<table id=\"T_555ad\">\n",
              "  <thead>\n",
              "    <tr>\n",
              "      <th class=\"blank level0\" >&nbsp;</th>\n",
              "      <th id=\"T_555ad_level0_col0\" class=\"col_heading level0 col0\" >ELC1</th>\n",
              "    </tr>\n",
              "  </thead>\n",
              "  <tbody>\n",
              "    <tr>\n",
              "      <th id=\"T_555ad_level0_row0\" class=\"row_heading level0 row0\" >energy_availability</th>\n",
              "      <td id=\"T_555ad_row0_col0\" class=\"data row0 col0\" >97.8%</td>\n",
              "    </tr>\n",
              "  </tbody>\n",
              "</table>\n"
            ],
            "text/plain": [
              "<pandas.io.formats.style.Styler at 0x10e91b200>"
            ]
          },
          "execution_count": 15,
          "metadata": {},
          "output_type": "execute_result"
        }
      ],
      "source": [
        "metrics.production_based_availability(\"project\", \"electrolyzer\").style.format(\"{:.1%}\")"
      ]
    },
    {
      "cell_type": "code",
      "execution_count": 16,
      "id": "2424df7e-2548-4a20-a8d0-4a53bff9143f",
      "metadata": {},
      "outputs": [
        {
          "data": {
            "text/html": [
              "<style type=\"text/css\">\n",
              "</style>\n",
              "<table id=\"T_8916c\">\n",
              "  <thead>\n",
              "    <tr>\n",
              "      <th class=\"blank level0\" >&nbsp;</th>\n",
              "      <th id=\"T_8916c_level0_col0\" class=\"col_heading level0 col0\" >ELC1</th>\n",
              "    </tr>\n",
              "  </thead>\n",
              "  <tbody>\n",
              "    <tr>\n",
              "      <th id=\"T_8916c_level0_row0\" class=\"row_heading level0 row0\" >net_capacity_factor</th>\n",
              "      <td id=\"T_8916c_row0_col0\" class=\"data row0 col0\" >83.4%</td>\n",
              "    </tr>\n",
              "  </tbody>\n",
              "</table>\n"
            ],
            "text/plain": [
              "<pandas.io.formats.style.Styler at 0x129018c50>"
            ]
          },
          "execution_count": 16,
          "metadata": {},
          "output_type": "execute_result"
        }
      ],
      "source": [
        "metrics.capacity_factor(\"net\", \"project\", by=\"electrolyzer\").style.format(\"{:.1%}\")"
      ]
    },
    {
      "cell_type": "code",
      "execution_count": 17,
      "id": "699f3602-7e11-4996-9b80-43a230ff6938",
      "metadata": {},
      "outputs": [
        {
          "data": {
            "text/html": [
              "<style type=\"text/css\">\n",
              "</style>\n",
              "<table id=\"T_90dcf\">\n",
              "  <thead>\n",
              "    <tr>\n",
              "      <th class=\"blank level0\" >&nbsp;</th>\n",
              "      <th id=\"T_90dcf_level0_col0\" class=\"col_heading level0 col0\" >ELC1</th>\n",
              "    </tr>\n",
              "  </thead>\n",
              "  <tbody>\n",
              "    <tr>\n",
              "      <th id=\"T_90dcf_level0_row0\" class=\"row_heading level0 row0\" >gross_capacity_factor</th>\n",
              "      <td id=\"T_90dcf_row0_col0\" class=\"data row0 col0\" >85.3%</td>\n",
              "    </tr>\n",
              "  </tbody>\n",
              "</table>\n"
            ],
            "text/plain": [
              "<pandas.io.formats.style.Styler at 0x11fea8e30>"
            ]
          },
          "execution_count": 17,
          "metadata": {},
          "output_type": "execute_result"
        }
      ],
      "source": [
        "metrics.capacity_factor(\"gross\", \"project\", by=\"electrolyzer\").style.format(\"{:.1%}\")"
      ]
    },
    {
      "cell_type": "code",
      "execution_count": 18,
      "id": "85ba606c-022d-4617-a179-1f569be1d66b",
      "metadata": {},
      "outputs": [
        {
          "data": {
            "text/html": [
              "<style type=\"text/css\">\n",
              "</style>\n",
              "<table id=\"T_ab56c\">\n",
              "  <thead>\n",
              "    <tr>\n",
              "      <th class=\"blank level0\" >&nbsp;</th>\n",
              "      <th id=\"T_ab56c_level0_col0\" class=\"col_heading level0 col0\" >total</th>\n",
              "    </tr>\n",
              "  </thead>\n",
              "  <tbody>\n",
              "    <tr>\n",
              "      <th id=\"T_ab56c_level0_row0\" class=\"row_heading level0 row0\" >Project H2 Production (tonnes/hr)</th>\n",
              "      <td id=\"T_ab56c_row0_col0\" class=\"data row0 col0\" >3,708.6</td>\n",
              "    </tr>\n",
              "  </tbody>\n",
              "</table>\n"
            ],
            "text/plain": [
              "<pandas.io.formats.style.Styler at 0x128607890>"
            ]
          },
          "execution_count": 18,
          "metadata": {},
          "output_type": "execute_result"
        }
      ],
      "source": [
        "metrics.h2_production(\"project\", by=\"total\", units=\"tph\").style.format(\"{:,.1f}\")"
      ]
    },
    {
      "cell_type": "code",
      "execution_count": null,
      "id": "435c94b0-10b9-4ec9-8f61-67fb9ed53f69",
      "metadata": {},
      "outputs": [],
      "source": []
    }
  ],
  "metadata": {
    "kernelspec": {
      "display_name": "Python 3 (ipykernel)",
      "language": "python",
      "name": "python3"
    },
    "language_info": {
      "codemirror_mode": {
        "name": "ipython",
        "version": 3
      },
      "file_extension": ".py",
      "mimetype": "text/x-python",
      "name": "python",
      "nbconvert_exporter": "python",
      "pygments_lexer": "ipython3",
      "version": "3.12.9"
    }
  },
  "nbformat": 4,
  "nbformat_minor": 5
}
