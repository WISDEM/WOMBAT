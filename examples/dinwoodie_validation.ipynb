{
 "cells": [
  {
   "cell_type": "markdown",
   "metadata": {},
   "source": [
    "# Code-to-Code Comparison: Dinwoodie\n",
    "\n",
    "### National Renewable Energy Laboratory\n",
    "\n",
    "#### Rob Hammond\n",
    "\n",
    "##### 5 January 2023"
   ]
  },
  {
   "cell_type": "code",
   "execution_count": 1,
   "metadata": {},
   "outputs": [],
   "source": [
    "from copy import deepcopy\n",
    "from time import perf_counter\n",
    "from pprint import pprint\n",
    "\n",
    "import yaml\n",
    "import numpy as np\n",
    "import pandas as pd\n",
    "import networkx as nx\n",
    "import matplotlib.pyplot as plt\n",
    "\n",
    "from wombat.core import Simulation\n",
    "from wombat.core.library import DINWOODIE, load_yaml\n",
    "\n",
    "pd.set_option(\"display.max_rows\", 1000)\n",
    "pd.set_option(\"display.max_columns\", 1000)\n",
    "pd.options.display.float_format = '{:,.2f}'.format\n",
    "%matplotlib inline"
   ]
  },
  {
   "cell_type": "code",
   "execution_count": 2,
   "metadata": {},
   "outputs": [
    {
     "data": {
      "text/plain": [
       "'6.6667'"
      ]
     },
     "execution_count": 2,
     "metadata": {},
     "output_type": "execute_result"
    }
   ],
   "source": [
    "# Converting Labor values to fixed cost input for the base case\n",
    "tech_salary_annual = 80000\n",
    "techs = 20\n",
    "capacity = 240 * 1000  # 240 -> kW\n",
    "f\"{tech_salary_annual * techs / capacity:.4f}\""
   ]
  },
  {
   "cell_type": "code",
   "execution_count": 3,
   "metadata": {},
   "outputs": [],
   "source": [
    "configs = [\n",
    "    \"base\",\n",
    "    \"more_ctvs\",\n",
    "    \"fewer_ctvs\",\n",
    "    \"more_techs\",\n",
    "    \"fewer_techs\",\n",
    "    \"failure_50\",\n",
    "    \"failure_200\",\n",
    "    \"no_hlvs\",\n",
    "    \"no_weather\",\n",
    "    \"historic_weather\",\n",
    "    \"manual_resets_only\",\n",
    "    \"minor_repairs_only\",\n",
    "    \"medium_repairs_only\",\n",
    "    \"major_repairs_only\",\n",
    "    \"major_replacements_only\",\n",
    "    \"annual_service_only\",\n",
    "]\n",
    "columns = deepcopy(configs)\n",
    "results = {\n",
    "    \"availability - time based\": [],\n",
    "    \"availability - production based\": [],\n",
    "    \"capacity factor - net\": [],\n",
    "    \"capacity factor - gross\": [],\n",
    "    \"power production\": [],\n",
    "    \"task completion rate\": [],\n",
    "    \"annual direct O&M cost\": [],\n",
    "    \"annual vessel cost\": [],\n",
    "    \"ctv cost\": [],\n",
    "    \"fsv cost\": [],\n",
    "    \"hlv cost\": [],\n",
    "    \"annual repair cost\": [],\n",
    "    \"annual technician cost\": [],\n",
    "    \"ctv utilization\": [],\n",
    "    \"fsv utilization\": [],\n",
    "    \"hlv utilization\": [],\n",
    "    \n",
    "}\n",
    "metrics_dict = {}"
   ]
  },
  {
   "cell_type": "code",
   "execution_count": 4,
   "metadata": {
    "tags": []
   },
   "outputs": [
    {
     "name": "stdout",
     "output_type": "stream",
     "text": [
      "                    dinwoodie_base | 0.72 m\n",
      "               dinwoodie_more_ctvs | 0.81 m\n",
      "              dinwoodie_fewer_ctvs | 0.74 m\n",
      "              dinwoodie_more_techs | 0.74 m\n",
      "             dinwoodie_fewer_techs | 0.83 m\n",
      "              dinwoodie_failure_50 | 0.71 m\n",
      "             dinwoodie_failure_200 | 0.81 m\n",
      "                 dinwoodie_no_hlvs | 0.89 m\n",
      "              dinwoodie_no_weather | 1.03 m\n",
      "        dinwoodie_historic_weather | 0.68 m\n",
      "      dinwoodie_manual_resets_only | 0.68 m\n",
      "      dinwoodie_minor_repairs_only | 0.63 m\n",
      "     dinwoodie_medium_repairs_only | 0.55 m\n",
      "      dinwoodie_major_repairs_only | 0.54 m\n",
      " dinwoodie_major_replacements_only | 0.57 m\n",
      "     dinwoodie_annual_service_only | 0.68 m\n"
     ]
    }
   ],
   "source": [
    "for config in configs:\n",
    "    # Run the simulation\n",
    "    start = perf_counter()\n",
    "    sim = Simulation(DINWOODIE, f\"{config}.yaml\")\n",
    "    sim.run()\n",
    "    end = perf_counter()\n",
    "    print(f\"{sim.config.name.rjust(34)} | {(end - start) / 60:.2f} m\")\n",
    "    metrics_dict[config] = sim.metrics"
   ]
  },
  {
   "cell_type": "code",
   "execution_count": 10,
   "metadata": {
    "tags": []
   },
   "outputs": [],
   "source": [
    "for config, metrics in metrics_dict.items():\n",
    "    # Gather the results of interest\n",
    "    years = sim.metrics.events.year.unique().shape[0]\n",
    "    mil = 1000000\n",
    "    \n",
    "    availability_time = sim.metrics.time_based_availability(frequency=\"project\", by=\"windfarm\").values[0][0]\n",
    "    availability_production = sim.metrics.production_based_availability(frequency=\"project\", by=\"windfarm\").values[0][0]\n",
    "    cf_net = sim.metrics.capacity_factor(which=\"net\", frequency=\"project\", by=\"windfarm\").values[0][0]\n",
    "    cf_gross = sim.metrics.capacity_factor(which=\"gross\", frequency=\"project\", by=\"windfarm\").values[0][0]\n",
    "    power_production = sim.metrics.power_production(frequency=\"project\", by=\"windfarm\").values[0][0]\n",
    "    completion_rate = sim.metrics.task_completion_rate(which=\"both\", frequency=\"project\").values[0][0]\n",
    "    parts = sim.metrics.events[[\"materials_cost\"]].sum().sum()\n",
    "    techs = sim.metrics.project_fixed_costs(frequency=\"project\", resolution=\"low\").operations[0]\n",
    "    total = sim.metrics.events[[\"total_cost\"]].sum().sum()\n",
    "    \n",
    "    equipment = sim.metrics.equipment_costs(frequency=\"project\", by_equipment=True)\n",
    "    equipment_sum = equipment.sum().sum()\n",
    "    hlv = equipment[[el for el in equipment.columns if \"Heavy Lift Vessel\" in el]].sum().sum()\n",
    "    fsv = equipment[[el for el in equipment.columns if \"Field Support Vessel\" in el]].sum().sum()\n",
    "    ctv = equipment[[el for el in equipment.columns if \"Crew Transfer Vessel\" in el]].sum().sum()\n",
    "    \n",
    "    utilization = sim.metrics.service_equipment_utilization(frequency=\"project\")\n",
    "    hlv_ur = utilization[[el for el in utilization.columns if \"Heavy Lift Vessel\" in el]].mean().mean()\n",
    "    fsv_ur = utilization[[el for el in utilization.columns if \"Field Support Vessel\" in el]].mean().mean()\n",
    "    ctv_ur = utilization[[el for el in utilization.columns if \"Crew Transfer Vessel\" in el]].mean().mean()\n",
    "    \n",
    "    # Log the results of interest\n",
    "    results[\"availability - time based\"].append(availability_time)\n",
    "    results[\"availability - production based\"].append(availability_production)\n",
    "    results[\"capacity factor - net\"].append(cf_net)\n",
    "    results[\"capacity factor - gross\"].append(cf_gross)\n",
    "    results[\"power production\"].append(power_production)\n",
    "    results[\"task completion rate\"].append(completion_rate)\n",
    "    results[\"annual direct O&M cost\"].append((total + techs) / mil / years)\n",
    "    results[\"annual vessel cost\"].append(equipment_sum / mil / years)\n",
    "    results[\"ctv cost\"].append(ctv / mil / years)\n",
    "    results[\"fsv cost\"].append(fsv / mil / years)\n",
    "    results[\"hlv cost\"].append(hlv / mil / years)\n",
    "    results[\"annual repair cost\"].append(parts / mil / years)\n",
    "    results[\"annual technician cost\"].append(techs / mil / years)\n",
    "    results[\"ctv utilization\"].append(ctv_ur)\n",
    "    results[\"fsv utilization\"].append(fsv_ur)\n",
    "    results[\"hlv utilization\"].append(hlv_ur)"
   ]
  },
  {
   "cell_type": "code",
   "execution_count": 11,
   "metadata": {},
   "outputs": [],
   "source": [
    "# Save the results\n",
    "with open(DINWOODIE / \"results\" / \"results_dict_v0.6.0.yaml\", \"w\") as f:\n",
    "    yaml.dump(results, f, default_flow_style=False, sort_keys=False)\n",
    "\n",
    "# dataframe/csv format\n",
    "results_df = pd.DataFrame(results.values(), columns=columns, index=results.keys()).fillna(0)\n",
    "results_df.to_csv(DINWOODIE / \"results\" / \"results_data_v0.6.0.csv\", index_label=\"result\")"
   ]
  },
  {
   "cell_type": "code",
   "execution_count": null,
   "metadata": {},
   "outputs": [],
   "source": [
    "results_df"
   ]
  },
  {
   "cell_type": "code",
   "execution_count": null,
   "metadata": {},
   "outputs": [],
   "source": []
  }
 ],
 "metadata": {
  "kernelspec": {
   "display_name": "Python 3 (ipykernel)",
   "language": "python",
   "name": "python3"
  },
  "language_info": {
   "codemirror_mode": {
    "name": "ipython",
    "version": 3
   },
   "file_extension": ".py",
   "mimetype": "text/x-python",
   "name": "python",
   "nbconvert_exporter": "python",
   "pygments_lexer": "ipython3",
   "version": "3.8.8"
  },
  "vscode": {
   "interpreter": {
    "hash": "58b7c990a851cca75b34d34d56ba7121ba7d2063ecbf86f6ef85bae168de1bae"
   }
  }
 },
 "nbformat": 4,
 "nbformat_minor": 4
}
