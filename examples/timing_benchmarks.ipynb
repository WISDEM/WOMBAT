{
 "cells": [
  {
   "cell_type": "markdown",
   "id": "ba99fe3f-8d08-4812-932f-53d6c1ed22fc",
   "metadata": {},
   "source": [
    "# Performance Improvement Metrics\n",
    "\n",
    "Updates include changes from the following branches:\n",
    "- enhancement/if_to_event\n",
    "- feature/date_limits\n",
    "\n",
    "NOTE: Here, old refers to the main branch results at v0.5.1 and new refers to whatever the latest included branch happens to be"
   ]
  },
  {
   "cell_type": "code",
   "execution_count": 1,
   "id": "4cbf1303-d60e-4cdc-b853-9a5e160a9f85",
   "metadata": {},
   "outputs": [],
   "source": [
    "import numpy as np"
   ]
  },
  {
   "cell_type": "markdown",
   "id": "9074435d-07e7-42af-afe5-2e6db7b53ece",
   "metadata": {},
   "source": [
    "## Dinwoodie validation"
   ]
  },
  {
   "cell_type": "code",
   "execution_count": 2,
   "id": "394853bd-851a-4d3b-b9a4-a38e88ada29e",
   "metadata": {},
   "outputs": [],
   "source": [
    "old = {\n",
    "    \"dinwoodie_base\": 1.91,\n",
    "    \"dinwoodie_more_ctvs\": 2.25,\n",
    "    \"dinwoodie_fewer_ctvs\": 2.34,\n",
    "    \"dinwoodie_more_techs\": 2.28,\n",
    "    \"dinwoodie_fewer_techs\": 2.58,\n",
    "    \"dinwoodie_failure_50\": 2.33,\n",
    "    \"dinwoodie_failure_200\": 3.54,\n",
    "    \"dinwoodie_no_hlvs\": 2.78,\n",
    "    \"dinwoodie_no_weather\": 2.74,\n",
    "    \"dinwoodie_historic_weather\": 2.50,\n",
    "    \"dinwoodie_manual_resets_only\": 2.50,\n",
    "    \"dinwoodie_minor_repairs_only\": 2.01,\n",
    "    \"dinwoodie_medium_repairs_only\": 1.89,\n",
    "    \"dinwoodie_major_repairs_only\": 1.43,\n",
    "    \"dinwoodie_major_replacements_only\": 1.73,\n",
    "    \"dinwoodie_annual_service_only\": 2.28,\n",
    "}\n",
    "\n",
    "new = {\n",
    "    \"dinwoodie_base\": 1.22,\n",
    "    \"dinwoodie_more_ctvs\": 1.07,\n",
    "    \"dinwoodie_fewer_ctvs\": 1.14,\n",
    "    \"dinwoodie_more_techs\": 1.31,\n",
    "    \"dinwoodie_fewer_techs\": 1.27,\n",
    "    \"dinwoodie_failure_50\": 1.03,\n",
    "    \"dinwoodie_failure_200\": 1.57,\n",
    "    \"dinwoodie_no_hlvs\": 1.22,\n",
    "    \"dinwoodie_no_weather\": 1.24,\n",
    "    \"dinwoodie_historic_weather\": 1.06,\n",
    "    \"dinwoodie_manual_resets_only\": 0.88,\n",
    "    \"dinwoodie_minor_repairs_only\": 0.80,\n",
    "    \"dinwoodie_medium_repairs_only\": 0.65,\n",
    "    \"dinwoodie_major_repairs_only\": 0.65,\n",
    "    \"dinwoodie_major_replacements_only\": 0.63,\n",
    "    \"dinwoodie_annual_service_only\": 0.78,\n",
    "}"
   ]
  },
  {
   "cell_type": "markdown",
   "id": "ecb1f861-e922-4b91-98fe-b1256290fb64",
   "metadata": {},
   "source": [
    "## Dinwoodie 100% Reduction"
   ]
  },
  {
   "cell_type": "code",
   "execution_count": 3,
   "id": "98f1c4cb-74a2-410e-911e-163fb98fac05",
   "metadata": {
    "tags": []
   },
   "outputs": [],
   "source": [
    "old.update({\n",
    "    \"dinwoodie_base_100pct_reduction\": 1.99,\n",
    "    \"dinwoodie_more_ctvs_100pct_reduction\": 2.20,\n",
    "    \"dinwoodie_fewer_ctvs_100pct_reduction\": 2.14,\n",
    "    \"dinwoodie_more_techs_100pct_reduction\": 2.17,\n",
    "    \"dinwoodie_fewer_techs_100pct_reduction\": 2.25,\n",
    "    \"dinwoodie_failure_50_100pct_reduction\": 1.79,\n",
    "    \"dinwoodie_failure_200_100pct_reduction\": 3.35,\n",
    "    \"dinwoodie_no_hlvs_100pct_reduction\": 2.52,\n",
    "    \"dinwoodie_no_weather_100pct_reduction\": 2.55,\n",
    "    \"dinwoodie_historic_weather_100pct_reduction\": 2.17,\n",
    "    \"dinwoodie_manual_resets_only_100pct_reduction\": 2.32,\n",
    "    \"dinwoodie_minor_repairs_only_100pct_reduction\": 2.09,\n",
    "    \"dinwoodie_medium_repairs_only_100pct_reduction\": 1.81,\n",
    "    \"dinwoodie_major_repairs_only_100pct_reduction\": 1.57,\n",
    "    \"dinwoodie_major_replacements_only_100pct_reduction\": 1.71,\n",
    "    \"dinwoodie_annual_service_only_100pct_reduction\": 2.29,\n",
    "})\n",
    "\n",
    "new.update({\n",
    "    \"dinwoodie_base_100pct_reduction\": 1.20,\n",
    "    \"dinwoodie_more_ctvs_100pct_reduction\": 1.19,\n",
    "    \"dinwoodie_fewer_ctvs_100pct_reduction\": 1.20,\n",
    "    \"dinwoodie_more_techs_100pct_reduction\": 1.10,\n",
    "    \"dinwoodie_fewer_techs_100pct_reduction\": 1.11,\n",
    "    \"dinwoodie_failure_50_100pct_reduction\": 0.87,\n",
    "    \"dinwoodie_failure_200_100pct_reduction\": 1.61,\n",
    "    \"dinwoodie_no_hlvs_100pct_reduction\": 1.09,\n",
    "    \"dinwoodie_no_weather_100pct_reduction\": 1.11,\n",
    "    \"dinwoodie_historic_weather_100pct_reduction\": 1.00,\n",
    "    \"dinwoodie_manual_resets_only_100pct_reduction\": 1.03,\n",
    "    \"dinwoodie_minor_repairs_only_100pct_reduction\": 0.84,\n",
    "    \"dinwoodie_medium_repairs_only_100pct_reduction\": 0.73,\n",
    "    \"dinwoodie_major_repairs_only_100pct_reduction\": 0.72,\n",
    "    \"dinwoodie_major_replacements_only_100pct_reduction\": 0.69,\n",
    "    \"dinwoodie_annual_service_only_100pct_reduction\": 0.91,\n",
    "})"
   ]
  },
  {
   "cell_type": "markdown",
   "id": "f3db1c4d-d696-4cd1-aae7-99c331cc97a4",
   "metadata": {},
   "source": [
    "## IEA Task 26 Validation"
   ]
  },
  {
   "cell_type": "code",
   "execution_count": 4,
   "id": "86656019-bb5f-4236-a0d6-d26f6dcbb028",
   "metadata": {},
   "outputs": [],
   "source": [
    "old.update({\n",
    "    \"iea_26_requests\": 6.21,\n",
    "    \"iea_26_requests_100pct_reduction\": 5.81,\n",
    "    \"iea_26_one_mobilization\": 5.04,\n",
    "    \"iea_26_one_mobilization_100pct_reduction\": 5.18,\n",
    "    \"iea_26_two_mobilizations\": 5.84,\n",
    "    \"iea_26_two_mobilizations_100pct_reduction\": 5.51,\n",
    "    \"iea_26_three_mobilizations\": 6.08,\n",
    "    \"iea_26_three_mobilizations_100pct_reduction\": 6.39,\n",
    "})\n",
    "\n",
    "new.update({\n",
    "    \"iea_26_requests\": 4.21,\n",
    "    \"iea_26_requests_100pct_reduction\": 3.89,\n",
    "    \"iea_26_one_mobilization\": 3.90,\n",
    "    \"iea_26_one_mobilization_100pct_reduction\": 3.49,\n",
    "    \"iea_26_two_mobilizations\": 3.72,\n",
    "    \"iea_26_two_mobilizations_100pct_reduction\": 3.94,\n",
    "    \"iea_26_three_mobilizations\": 4.23,\n",
    "    \"iea_26_three_mobilizations_100pct_reduction\": 4.22,\n",
    "})"
   ]
  },
  {
   "cell_type": "code",
   "execution_count": 5,
   "id": "489a83a1-0a61-42e0-9a87-35aa54f2454f",
   "metadata": {},
   "outputs": [
    {
     "name": "stdout",
     "output_type": "stream",
     "text": [
      "                                        Simulation | v0.5.1 |  Develop |   %   | Multiplier\n",
      "                                    dinwoodie_base |   1.9m |     1.2m | 36.1% |  1.57x\n",
      "                               dinwoodie_more_ctvs |   2.2m |     1.1m | 52.4% |  2.10x\n",
      "                              dinwoodie_fewer_ctvs |   2.3m |     1.1m | 51.3% |  2.05x\n",
      "                              dinwoodie_more_techs |   2.3m |     1.3m | 42.5% |  1.74x\n",
      "                             dinwoodie_fewer_techs |   2.6m |     1.3m | 50.8% |  2.03x\n",
      "                              dinwoodie_failure_50 |   2.3m |     1.0m | 55.8% |  2.26x\n",
      "                             dinwoodie_failure_200 |   3.5m |     1.6m | 55.6% |  2.25x\n",
      "                                 dinwoodie_no_hlvs |   2.8m |     1.2m | 56.1% |  2.28x\n",
      "                              dinwoodie_no_weather |   2.7m |     1.2m | 54.7% |  2.21x\n",
      "                        dinwoodie_historic_weather |   2.5m |     1.1m | 57.6% |  2.36x\n",
      "                      dinwoodie_manual_resets_only |   2.5m |     0.9m | 64.8% |  2.84x\n",
      "                      dinwoodie_minor_repairs_only |   2.0m |     0.8m | 60.2% |  2.51x\n",
      "                     dinwoodie_medium_repairs_only |   1.9m |     0.7m | 65.6% |  2.91x\n",
      "                      dinwoodie_major_repairs_only |   1.4m |     0.7m | 54.5% |  2.20x\n",
      "                 dinwoodie_major_replacements_only |   1.7m |     0.6m | 63.6% |  2.75x\n",
      "                     dinwoodie_annual_service_only |   2.3m |     0.8m | 65.8% |  2.92x\n",
      "                   dinwoodie_base_100pct_reduction |   2.0m |     1.2m | 39.7% |  1.66x\n",
      "              dinwoodie_more_ctvs_100pct_reduction |   2.2m |     1.2m | 45.9% |  1.85x\n",
      "             dinwoodie_fewer_ctvs_100pct_reduction |   2.1m |     1.2m | 43.9% |  1.78x\n",
      "             dinwoodie_more_techs_100pct_reduction |   2.2m |     1.1m | 49.3% |  1.97x\n",
      "            dinwoodie_fewer_techs_100pct_reduction |   2.2m |     1.1m | 50.7% |  2.03x\n",
      "             dinwoodie_failure_50_100pct_reduction |   1.8m |     0.9m | 51.4% |  2.06x\n",
      "            dinwoodie_failure_200_100pct_reduction |   3.4m |     1.6m | 51.9% |  2.08x\n",
      "                dinwoodie_no_hlvs_100pct_reduction |   2.5m |     1.1m | 56.7% |  2.31x\n",
      "             dinwoodie_no_weather_100pct_reduction |   2.5m |     1.1m | 56.5% |  2.30x\n",
      "       dinwoodie_historic_weather_100pct_reduction |   2.2m |     1.0m | 53.9% |  2.17x\n",
      "     dinwoodie_manual_resets_only_100pct_reduction |   2.3m |     1.0m | 55.6% |  2.25x\n",
      "     dinwoodie_minor_repairs_only_100pct_reduction |   2.1m |     0.8m | 59.8% |  2.49x\n",
      "    dinwoodie_medium_repairs_only_100pct_reduction |   1.8m |     0.7m | 59.7% |  2.48x\n",
      "     dinwoodie_major_repairs_only_100pct_reduction |   1.6m |     0.7m | 54.1% |  2.18x\n",
      "dinwoodie_major_replacements_only_100pct_reduction |   1.7m |     0.7m | 59.6% |  2.48x\n",
      "    dinwoodie_annual_service_only_100pct_reduction |   2.3m |     0.9m | 60.3% |  2.52x\n",
      "                                   iea_26_requests |   6.2m |     4.2m | 32.2% |  1.48x\n",
      "                  iea_26_requests_100pct_reduction |   5.8m |     3.9m | 33.0% |  1.49x\n",
      "                           iea_26_one_mobilization |   5.0m |     3.9m | 22.6% |  1.29x\n",
      "          iea_26_one_mobilization_100pct_reduction |   5.2m |     3.5m | 32.6% |  1.48x\n",
      "                          iea_26_two_mobilizations |   5.8m |     3.7m | 36.3% |  1.57x\n",
      "         iea_26_two_mobilizations_100pct_reduction |   5.5m |     3.9m | 28.5% |  1.40x\n",
      "                        iea_26_three_mobilizations |   6.1m |     4.2m | 30.4% |  1.44x\n",
      "       iea_26_three_mobilizations_100pct_reduction |   6.4m |     4.2m | 34.0% |  1.51x\n"
     ]
    }
   ],
   "source": [
    "print(f\"{'Simulation'.rjust(50)} | v0.5.1 |  Develop |   %   | Multiplier\")\n",
    "for sim in old.keys():\n",
    "    o = old[sim]\n",
    "    n = new[sim]\n",
    "    pct_faster = (o - n) / o\n",
    "    mult_faster = 1 / (n / o)\n",
    "    print(f\"{sim.rjust(50)} | {o:5.1f}m | {n:7.1f}m | {pct_faster:5.1%} | {mult_faster:5.2f}x\")"
   ]
  },
  {
   "cell_type": "code",
   "execution_count": 6,
   "id": "dd1d2622-606c-4bb0-828a-2be94b4f0d85",
   "metadata": {},
   "outputs": [
    {
     "name": "stdout",
     "output_type": "stream",
     "text": [
      "Min: 1.29x\n",
      "Max: 2.92x\n",
      "Avg: 2.08x\n",
      "Med: 2.14x\n"
     ]
    }
   ],
   "source": [
    "speedup = np.array([1 / (n / o) for n, o in zip(new.values(), old.values())])\n",
    "print(f\"Min: {speedup.min():.2f}x\")\n",
    "print(f\"Max: {speedup.max():.2f}x\")\n",
    "print(f\"Avg: {speedup.mean():.2f}x\")\n",
    "print(f\"Med: {np.median(speedup):.2f}x\")"
   ]
  },
  {
   "cell_type": "code",
   "execution_count": null,
   "id": "178c84bd-2c05-49a4-97f1-e448703400e1",
   "metadata": {},
   "outputs": [],
   "source": []
  }
 ],
 "metadata": {
  "kernelspec": {
   "display_name": "Python 3 (ipykernel)",
   "language": "python",
   "name": "python3"
  },
  "language_info": {
   "codemirror_mode": {
    "name": "ipython",
    "version": 3
   },
   "file_extension": ".py",
   "mimetype": "text/x-python",
   "name": "python",
   "nbconvert_exporter": "python",
   "pygments_lexer": "ipython3",
   "version": "3.8.8"
  },
  "vscode": {
   "interpreter": {
    "hash": "58b7c990a851cca75b34d34d56ba7121ba7d2063ecbf86f6ef85bae168de1bae"
   }
  }
 },
 "nbformat": 4,
 "nbformat_minor": 5
}
