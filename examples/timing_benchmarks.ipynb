{
 "cells": [
  {
   "cell_type": "markdown",
   "id": "ba99fe3f-8d08-4812-932f-53d6c1ed22fc",
   "metadata": {},
   "source": [
    "# Performance Improvement Metrics\n",
    "\n",
    "Updates include changes from the following branches:\n",
    "- enhancement/if_to_event\n",
    "\n",
    "NOTE: Here, old refers to the main branch results at v0.5.1 and new refers to whatever the latest included branch happens to be"
   ]
  },
  {
   "cell_type": "code",
   "execution_count": 1,
   "id": "4cbf1303-d60e-4cdc-b853-9a5e160a9f85",
   "metadata": {},
   "outputs": [],
   "source": [
    "import numpy as np"
   ]
  },
  {
   "cell_type": "markdown",
   "id": "9074435d-07e7-42af-afe5-2e6db7b53ece",
   "metadata": {},
   "source": [
    "## Dinwoodie validation"
   ]
  },
  {
   "cell_type": "code",
   "execution_count": 2,
   "id": "394853bd-851a-4d3b-b9a4-a38e88ada29e",
   "metadata": {},
   "outputs": [],
   "source": [
    "old = {\n",
    "    \"dinwoodie_base\": 1.91,\n",
    "    \"dinwoodie_more_ctvs\": 2.25,\n",
    "    \"dinwoodie_fewer_ctvs\": 2.34,\n",
    "    \"dinwoodie_more_techs\": 2.28,\n",
    "    \"dinwoodie_fewer_techs\": 2.58,\n",
    "    \"dinwoodie_failure_50\": 2.33,\n",
    "    \"dinwoodie_failure_200\": 3.54,\n",
    "    \"dinwoodie_no_hlvs\": 2.78,\n",
    "    \"dinwoodie_no_weather\": 2.74,\n",
    "    \"dinwoodie_historic_weather\": 2.50,\n",
    "    \"dinwoodie_manual_resets_only\": 2.50,\n",
    "    \"dinwoodie_minor_repairs_only\": 2.01,\n",
    "    \"dinwoodie_medium_repairs_only\": 1.89,\n",
    "    \"dinwoodie_major_repairs_only\": 1.43,\n",
    "    \"dinwoodie_major_replacements_only\": 1.73,\n",
    "    \"dinwoodie_annual_service_only\": 2.28,\n",
    "}\n",
    "\n",
    "new = {\n",
    "    \"dinwoodie_base\": 1.07,\n",
    "    \"dinwoodie_more_ctvs\": 0.99,\n",
    "    \"dinwoodie_fewer_ctvs\": 1.05,\n",
    "    \"dinwoodie_more_techs\": 1.14,\n",
    "    \"dinwoodie_fewer_techs\": 1.10,\n",
    "    \"dinwoodie_failure_50\": 1.06,\n",
    "    \"dinwoodie_failure_200\": 1.24,\n",
    "    \"dinwoodie_no_hlvs\": 1.28,\n",
    "    \"dinwoodie_no_weather\": 1.08,\n",
    "    \"dinwoodie_historic_weather\": 1.06,\n",
    "    \"dinwoodie_manual_resets_only\": 0.97,\n",
    "    \"dinwoodie_minor_repairs_only\": 0.89,\n",
    "    \"dinwoodie_medium_repairs_only\": 0.74,\n",
    "    \"dinwoodie_major_repairs_only\": 0.68,\n",
    "    \"dinwoodie_major_replacements_only\": 0.72,\n",
    "    \"dinwoodie_annual_service_only\": 0.90,\n",
    "}"
   ]
  },
  {
   "cell_type": "markdown",
   "id": "ecb1f861-e922-4b91-98fe-b1256290fb64",
   "metadata": {},
   "source": [
    "## Dinwoodie 100% Reduction"
   ]
  },
  {
   "cell_type": "code",
   "execution_count": 3,
   "id": "98f1c4cb-74a2-410e-911e-163fb98fac05",
   "metadata": {
    "tags": []
   },
   "outputs": [],
   "source": [
    "old.update({\n",
    "    \"dinwoodie_base_100pct_reduction\": 1.99,\n",
    "    \"dinwoodie_more_ctvs_100pct_reduction\": 2.20,\n",
    "    \"dinwoodie_fewer_ctvs_100pct_reduction\": 2.14,\n",
    "    \"dinwoodie_more_techs_100pct_reduction\": 2.17,\n",
    "    \"dinwoodie_fewer_techs_100pct_reduction\": 2.25,\n",
    "    \"dinwoodie_failure_50_100pct_reduction\": 1.79,\n",
    "    \"dinwoodie_failure_200_100pct_reduction\": 3.35,\n",
    "    \"dinwoodie_no_hlvs_100pct_reduction\": 2.52,\n",
    "    \"dinwoodie_no_weather_100pct_reduction\": 2.55,\n",
    "    \"dinwoodie_historic_weather_100pct_reduction\": 2.17,\n",
    "    \"dinwoodie_manual_resets_only_100pct_reduction\": 2.32,\n",
    "    \"dinwoodie_minor_repairs_only_100pct_reduction\": 2.09,\n",
    "    \"dinwoodie_medium_repairs_only_100pct_reduction\": 1.81,\n",
    "    \"dinwoodie_major_repairs_only_100pct_reduction\": 1.57,\n",
    "    \"dinwoodie_major_replacements_only_100pct_reduction\": 1.71,\n",
    "    \"dinwoodie_annual_service_only_100pct_reduction\": 2.29,\n",
    "})\n",
    "\n",
    "new.update({\n",
    "    \"dinwoodie_base_100pct_reduction\": 0.57,\n",
    "    \"dinwoodie_more_ctvs_100pct_reduction\": 0.58,\n",
    "    \"dinwoodie_fewer_ctvs_100pct_reduction\": 0.57,\n",
    "    \"dinwoodie_more_techs_100pct_reduction\": 0.57,\n",
    "    \"dinwoodie_fewer_techs_100pct_reduction\": 0.58,\n",
    "    \"dinwoodie_failure_50_100pct_reduction\": 0.59,\n",
    "    \"dinwoodie_failure_200_100pct_reduction\": 0.58,\n",
    "    \"dinwoodie_no_hlvs_100pct_reduction\": 0.60,\n",
    "    \"dinwoodie_no_weather_100pct_reduction\": 0.57,\n",
    "    \"dinwoodie_historic_weather_100pct_reduction\": 0.51,\n",
    "    \"dinwoodie_manual_resets_only_100pct_reduction\": 0.60,\n",
    "    \"dinwoodie_minor_repairs_only_100pct_reduction\": 0.59,\n",
    "    \"dinwoodie_medium_repairs_only_100pct_reduction\": 0.62,\n",
    "    \"dinwoodie_major_repairs_only_100pct_reduction\": 0.62,\n",
    "    \"dinwoodie_major_replacements_only_100pct_reduction\": 0.64,\n",
    "    \"dinwoodie_annual_service_only_100pct_reduction\": 0.81,\n",
    "})"
   ]
  },
  {
   "cell_type": "markdown",
   "id": "f3db1c4d-d696-4cd1-aae7-99c331cc97a4",
   "metadata": {},
   "source": [
    "## IEA Task 26 Validation"
   ]
  },
  {
   "cell_type": "code",
   "execution_count": 4,
   "id": "86656019-bb5f-4236-a0d6-d26f6dcbb028",
   "metadata": {},
   "outputs": [],
   "source": [
    "old.update({\n",
    "    \"iea_26_requests\": 6.21,\n",
    "    \"iea_26_requests_100pct_reduction\": 5.81,\n",
    "    \"iea_26_one_mobilization\": 5.04,\n",
    "    \"iea_26_one_mobilization_100pct_reduction\": 5.18,\n",
    "    \"iea_26_two_mobilizations\": 5.84,\n",
    "    \"iea_26_two_mobilizations_100pct_reduction\": 5.51,\n",
    "    \"iea_26_three_mobilizations\": 6.08,\n",
    "    \"iea_26_three_mobilizations_100pct_reduction\": 6.39,\n",
    "})\n",
    "\n",
    "new.update({\n",
    "    \"iea_26_requests\": 3.58,\n",
    "    \"iea_26_requests_100pct_reduction\": 2.04,\n",
    "    \"iea_26_one_mobilization\": 3.14,\n",
    "    \"iea_26_one_mobilization_100pct_reduction\": 2.07,\n",
    "    \"iea_26_two_mobilizations\": 3.15,\n",
    "    \"iea_26_two_mobilizations_100pct_reduction\": 2.06,\n",
    "    \"iea_26_three_mobilizations\": 3.25,\n",
    "    \"iea_26_three_mobilizations_100pct_reduction\": 2.07,\n",
    "})"
   ]
  },
  {
   "cell_type": "code",
   "execution_count": 5,
   "id": "489a83a1-0a61-42e0-9a87-35aa54f2454f",
   "metadata": {},
   "outputs": [
    {
     "name": "stdout",
     "output_type": "stream",
     "text": [
      "                                        Simulation | v0.5.1 |  Develop |   %   | Multiplier\n",
      "                                    dinwoodie_base |   1.9m |     1.1m | 44.0% |  1.79x\n",
      "                               dinwoodie_more_ctvs |   2.2m |     1.0m | 56.0% |  2.27x\n",
      "                              dinwoodie_fewer_ctvs |   2.3m |     1.1m | 55.1% |  2.23x\n",
      "                              dinwoodie_more_techs |   2.3m |     1.1m | 50.0% |  2.00x\n",
      "                             dinwoodie_fewer_techs |   2.6m |     1.1m | 57.4% |  2.35x\n",
      "                              dinwoodie_failure_50 |   2.3m |     1.1m | 54.5% |  2.20x\n",
      "                             dinwoodie_failure_200 |   3.5m |     1.2m | 65.0% |  2.85x\n",
      "                                 dinwoodie_no_hlvs |   2.8m |     1.3m | 54.0% |  2.17x\n",
      "                              dinwoodie_no_weather |   2.7m |     1.1m | 60.6% |  2.54x\n",
      "                        dinwoodie_historic_weather |   2.5m |     1.1m | 57.6% |  2.36x\n",
      "                      dinwoodie_manual_resets_only |   2.5m |     1.0m | 61.2% |  2.58x\n",
      "                      dinwoodie_minor_repairs_only |   2.0m |     0.9m | 55.7% |  2.26x\n",
      "                     dinwoodie_medium_repairs_only |   1.9m |     0.7m | 60.8% |  2.55x\n",
      "                      dinwoodie_major_repairs_only |   1.4m |     0.7m | 52.4% |  2.10x\n",
      "                 dinwoodie_major_replacements_only |   1.7m |     0.7m | 58.4% |  2.40x\n",
      "                     dinwoodie_annual_service_only |   2.3m |     0.9m | 60.5% |  2.53x\n",
      "                   dinwoodie_base_100pct_reduction |   2.0m |     0.6m | 71.4% |  3.49x\n",
      "              dinwoodie_more_ctvs_100pct_reduction |   2.2m |     0.6m | 73.6% |  3.79x\n",
      "             dinwoodie_fewer_ctvs_100pct_reduction |   2.1m |     0.6m | 73.4% |  3.75x\n",
      "             dinwoodie_more_techs_100pct_reduction |   2.2m |     0.6m | 73.7% |  3.81x\n",
      "            dinwoodie_fewer_techs_100pct_reduction |   2.2m |     0.6m | 74.2% |  3.88x\n",
      "             dinwoodie_failure_50_100pct_reduction |   1.8m |     0.6m | 67.0% |  3.03x\n",
      "            dinwoodie_failure_200_100pct_reduction |   3.4m |     0.6m | 82.7% |  5.78x\n",
      "                dinwoodie_no_hlvs_100pct_reduction |   2.5m |     0.6m | 76.2% |  4.20x\n",
      "             dinwoodie_no_weather_100pct_reduction |   2.5m |     0.6m | 77.6% |  4.47x\n",
      "       dinwoodie_historic_weather_100pct_reduction |   2.2m |     0.5m | 76.5% |  4.25x\n",
      "     dinwoodie_manual_resets_only_100pct_reduction |   2.3m |     0.6m | 74.1% |  3.87x\n",
      "     dinwoodie_minor_repairs_only_100pct_reduction |   2.1m |     0.6m | 71.8% |  3.54x\n",
      "    dinwoodie_medium_repairs_only_100pct_reduction |   1.8m |     0.6m | 65.7% |  2.92x\n",
      "     dinwoodie_major_repairs_only_100pct_reduction |   1.6m |     0.6m | 60.5% |  2.53x\n",
      "dinwoodie_major_replacements_only_100pct_reduction |   1.7m |     0.6m | 62.6% |  2.67x\n",
      "    dinwoodie_annual_service_only_100pct_reduction |   2.3m |     0.8m | 64.6% |  2.83x\n",
      "                                   iea_26_requests |   6.2m |     3.6m | 42.4% |  1.73x\n",
      "                  iea_26_requests_100pct_reduction |   5.8m |     2.0m | 64.9% |  2.85x\n",
      "                           iea_26_one_mobilization |   5.0m |     3.1m | 37.7% |  1.61x\n",
      "          iea_26_one_mobilization_100pct_reduction |   5.2m |     2.1m | 60.0% |  2.50x\n",
      "                          iea_26_two_mobilizations |   5.8m |     3.1m | 46.1% |  1.85x\n",
      "         iea_26_two_mobilizations_100pct_reduction |   5.5m |     2.1m | 62.6% |  2.67x\n",
      "                        iea_26_three_mobilizations |   6.1m |     3.2m | 46.5% |  1.87x\n",
      "       iea_26_three_mobilizations_100pct_reduction |   6.4m |     2.1m | 67.6% |  3.09x\n"
     ]
    }
   ],
   "source": [
    "print(f\"{'Simulation'.rjust(50)} | v0.5.1 |  Develop |   %   | Multiplier\")\n",
    "for sim in old.keys():\n",
    "    o = old[sim]\n",
    "    n = new[sim]\n",
    "    pct_faster = (o - n) / o\n",
    "    mult_faster = 1 / (n / o)\n",
    "    print(f\"{sim.rjust(50)} | {o:5.1f}m | {n:7.1f}m | {pct_faster:5.1%} | {mult_faster:5.2f}x\")"
   ]
  },
  {
   "cell_type": "code",
   "execution_count": 6,
   "id": "dd1d2622-606c-4bb0-828a-2be94b4f0d85",
   "metadata": {},
   "outputs": [
    {
     "name": "stdout",
     "output_type": "stream",
     "text": [
      "Min: 1.61x\n",
      "Max: 5.78x\n",
      "Avg: 2.85x\n",
      "Med: 2.57x\n"
     ]
    }
   ],
   "source": [
    "speedup = np.array([1 / (n / o) for n, o in zip(new.values(), old.values())])\n",
    "print(f\"Min: {speedup.min():.2f}x\")\n",
    "print(f\"Max: {speedup.max():.2f}x\")\n",
    "print(f\"Avg: {speedup.mean():.2f}x\")\n",
    "print(f\"Med: {np.median(speedup):.2f}x\")"
   ]
  },
  {
   "cell_type": "code",
   "execution_count": null,
   "id": "178c84bd-2c05-49a4-97f1-e448703400e1",
   "metadata": {},
   "outputs": [],
   "source": []
  }
 ],
 "metadata": {
  "kernelspec": {
   "display_name": "Python 3 (ipykernel)",
   "language": "python",
   "name": "python3"
  },
  "language_info": {
   "codemirror_mode": {
    "name": "ipython",
    "version": 3
   },
   "file_extension": ".py",
   "mimetype": "text/x-python",
   "name": "python",
   "nbconvert_exporter": "python",
   "pygments_lexer": "ipython3",
   "version": "3.9.13"
  },
  "vscode": {
   "interpreter": {
    "hash": "58b7c990a851cca75b34d34d56ba7121ba7d2063ecbf86f6ef85bae168de1bae"
   }
  }
 },
 "nbformat": 4,
 "nbformat_minor": 5
}
