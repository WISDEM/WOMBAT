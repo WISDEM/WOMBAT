{
  "cells": [
    {
      "cell_type": "markdown",
      "id": "ba99fe3f-8d08-4812-932f-53d6c1ed22fc",
      "metadata": {},
      "source": [
        "# Performance Improvement Metrics\n",
        "\n",
        "This is a timing comparison for moving from v0.5.1 to v0.9.4"
      ]
    },
    {
      "cell_type": "code",
      "execution_count": 1,
      "id": "4cbf1303-d60e-4cdc-b853-9a5e160a9f85",
      "metadata": {},
      "outputs": [],
      "source": [
        "import numpy as np"
      ]
    },
    {
      "cell_type": "markdown",
      "id": "9074435d-07e7-42af-afe5-2e6db7b53ece",
      "metadata": {},
      "source": [
        "## Dinwoodie validation"
      ]
    },
    {
      "cell_type": "code",
      "execution_count": 2,
      "id": "394853bd-851a-4d3b-b9a4-a38e88ada29e",
      "metadata": {},
      "outputs": [],
      "source": [
        "old = {\n",
        "    \"dinwoodie_base\": 1.91,\n",
        "    \"dinwoodie_more_ctvs\": 2.25,\n",
        "    \"dinwoodie_fewer_ctvs\": 2.34,\n",
        "    \"dinwoodie_more_techs\": 2.28,\n",
        "    \"dinwoodie_fewer_techs\": 2.58,\n",
        "    \"dinwoodie_failure_50\": 2.33,\n",
        "    \"dinwoodie_failure_200\": 3.54,\n",
        "    \"dinwoodie_no_hlvs\": 2.78,\n",
        "    \"dinwoodie_no_weather\": 2.74,\n",
        "    \"dinwoodie_historic_weather\": 2.50,\n",
        "    \"dinwoodie_manual_resets_only\": 2.50,\n",
        "    \"dinwoodie_minor_repairs_only\": 2.01,\n",
        "    \"dinwoodie_medium_repairs_only\": 1.89,\n",
        "    \"dinwoodie_major_repairs_only\": 1.43,\n",
        "    \"dinwoodie_major_replacements_only\": 1.73,\n",
        "    \"dinwoodie_annual_service_only\": 2.28,\n",
        "}\n",
        "\n",
        "new = {\n",
        "    \"dinwoodie_base\": 0.35,\n",
        "    \"dinwoodie_more_ctvs\": 0.37,\n",
        "    \"dinwoodie_fewer_ctvs\": 0.36,\n",
        "    \"dinwoodie_more_techs\": 0.37,\n",
        "    \"dinwoodie_fewer_techs\": 0.37,\n",
        "    \"dinwoodie_failure_50\": 0.30,\n",
        "    \"dinwoodie_failure_200\": 0.47,\n",
        "    \"dinwoodie_no_hlvs\": 0.37,\n",
        "    \"dinwoodie_no_weather\": 0.35,\n",
        "    \"dinwoodie_historic_weather\": 0.30,\n",
        "    \"dinwoodie_manual_resets_only\": 0.27,\n",
        "    \"dinwoodie_minor_repairs_only\": 0.23,\n",
        "    \"dinwoodie_medium_repairs_only\": 0.20,\n",
        "    \"dinwoodie_major_repairs_only\": 0.19,\n",
        "    \"dinwoodie_major_replacements_only\": 0.19,\n",
        "    \"dinwoodie_annual_service_only\": 0.24,\n",
        "}"
      ]
    },
    {
      "cell_type": "markdown",
      "id": "ecb1f861-e922-4b91-98fe-b1256290fb64",
      "metadata": {},
      "source": [
        "## Dinwoodie 100% Reduction"
      ]
    },
    {
      "cell_type": "code",
      "execution_count": 3,
      "id": "98f1c4cb-74a2-410e-911e-163fb98fac05",
      "metadata": {
        "tags": []
      },
      "outputs": [],
      "source": [
        "# old.update({\n",
        "#     \"dinwoodie_base_100pct_reduction\": 1.99,\n",
        "#     \"dinwoodie_more_ctvs_100pct_reduction\": 2.20,\n",
        "#     \"dinwoodie_fewer_ctvs_100pct_reduction\": 2.14,\n",
        "#     \"dinwoodie_more_techs_100pct_reduction\": 2.17,\n",
        "#     \"dinwoodie_fewer_techs_100pct_reduction\": 2.25,\n",
        "#     \"dinwoodie_failure_50_100pct_reduction\": 1.79,\n",
        "#     \"dinwoodie_failure_200_100pct_reduction\": 3.35,\n",
        "#     \"dinwoodie_no_hlvs_100pct_reduction\": 2.52,\n",
        "#     \"dinwoodie_no_weather_100pct_reduction\": 2.55,\n",
        "#     \"dinwoodie_historic_weather_100pct_reduction\": 2.17,\n",
        "#     \"dinwoodie_manual_resets_only_100pct_reduction\": 2.32,\n",
        "#     \"dinwoodie_minor_repairs_only_100pct_reduction\": 2.09,\n",
        "#     \"dinwoodie_medium_repairs_only_100pct_reduction\": 1.81,\n",
        "#     \"dinwoodie_major_repairs_only_100pct_reduction\": 1.57,\n",
        "#     \"dinwoodie_major_replacements_only_100pct_reduction\": 1.71,\n",
        "#     \"dinwoodie_annual_service_only_100pct_reduction\": 2.29,\n",
        "# })\n",
        "\n",
        "# new.update({\n",
        "#     \"dinwoodie_base_100pct_reduction\": 0.30,\n",
        "#     \"dinwoodie_more_ctvs_100pct_reduction\": 0.31,\n",
        "#     \"dinwoodie_fewer_ctvs_100pct_reduction\": 0.30,\n",
        "#     \"dinwoodie_more_techs_100pct_reduction\": 0.30,\n",
        "#     \"dinwoodie_fewer_techs_100pct_reduction\": 0.30,\n",
        "#     \"dinwoodie_failure_50_100pct_reduction\": 0.26,\n",
        "#     \"dinwoodie_failure_200_100pct_reduction\": 0.36,\n",
        "#     \"dinwoodie_no_hlvs_100pct_reduction\": 0.24,\n",
        "#     \"dinwoodie_no_weather_100pct_reduction\": 0.30,\n",
        "#     \"dinwoodie_historic_weather_100pct_reduction\": 0.26,\n",
        "#     \"dinwoodie_manual_resets_only_100pct_reduction\": 0.29,\n",
        "#     \"dinwoodie_minor_repairs_only_100pct_reduction\": 0.24,\n",
        "#     \"dinwoodie_medium_repairs_only_100pct_reduction\": 0.20,\n",
        "#     \"dinwoodie_major_repairs_only_100pct_reduction\": 0.19,\n",
        "#     \"dinwoodie_major_replacements_only_100pct_reduction\": 0.20,\n",
        "#     \"dinwoodie_annual_service_only_100pct_reduction\": 0.25,\n",
        "# })"
      ]
    },
    {
      "cell_type": "markdown",
      "id": "f3db1c4d-d696-4cd1-aae7-99c331cc97a4",
      "metadata": {},
      "source": [
        "## IEA Task 26 Validation"
      ]
    },
    {
      "cell_type": "code",
      "execution_count": 4,
      "id": "86656019-bb5f-4236-a0d6-d26f6dcbb028",
      "metadata": {},
      "outputs": [],
      "source": [
        "old.update(\n",
        "    {\n",
        "        \"iea_26_requests\": 5.12,\n",
        "        \"iea_26_one_mobilization\": 2.89,\n",
        "        \"iea_26_two_mobilizations\": 4.32,\n",
        "        \"iea_26_three_mobilizations\": 4.77,\n",
        "        # \"iea_26_requests_100pct_reduction\": 5.81,\n",
        "        # \"iea_26_one_mobilization_100pct_reduction\": 5.18,\n",
        "        # \"iea_26_two_mobilizations_100pct_reduction\": 5.51,\n",
        "        # \"iea_26_three_mobilizations_100pct_reduction\": 6.39,\n",
        "    }\n",
        ")\n",
        "\n",
        "new.update(\n",
        "    {\n",
        "        \"iea_26_requests\": 1.19,\n",
        "        \"iea_26_one_mobilization\": 1.11,\n",
        "        \"iea_26_two_mobilizations\": 1.11,\n",
        "        \"iea_26_three_mobilizations\": 1.11,\n",
        "    }\n",
        ")"
      ]
    },
    {
      "cell_type": "code",
      "execution_count": 5,
      "id": "489a83a1-0a61-42e0-9a87-35aa54f2454f",
      "metadata": {},
      "outputs": [
        {
          "name": "stdout",
          "output_type": "stream",
          "text": [
            "                                        Simulation | v0.5.1 |  Develop |   %   | Multiplier\n",
            "                                    dinwoodie_base |   1.9m |     0.3m | 81.7% |  5.46x\n",
            "                               dinwoodie_more_ctvs |   2.2m |     0.4m | 83.6% |  6.08x\n",
            "                              dinwoodie_fewer_ctvs |   2.3m |     0.4m | 84.6% |  6.50x\n",
            "                              dinwoodie_more_techs |   2.3m |     0.4m | 83.8% |  6.16x\n",
            "                             dinwoodie_fewer_techs |   2.6m |     0.4m | 85.7% |  6.97x\n",
            "                              dinwoodie_failure_50 |   2.3m |     0.3m | 87.1% |  7.77x\n",
            "                             dinwoodie_failure_200 |   3.5m |     0.5m | 86.7% |  7.53x\n",
            "                                 dinwoodie_no_hlvs |   2.8m |     0.4m | 86.7% |  7.51x\n",
            "                              dinwoodie_no_weather |   2.7m |     0.3m | 87.2% |  7.83x\n",
            "                        dinwoodie_historic_weather |   2.5m |     0.3m | 88.0% |  8.33x\n",
            "                      dinwoodie_manual_resets_only |   2.5m |     0.3m | 89.2% |  9.26x\n",
            "                      dinwoodie_minor_repairs_only |   2.0m |     0.2m | 88.6% |  8.74x\n",
            "                     dinwoodie_medium_repairs_only |   1.9m |     0.2m | 89.4% |  9.45x\n",
            "                      dinwoodie_major_repairs_only |   1.4m |     0.2m | 86.7% |  7.53x\n",
            "                 dinwoodie_major_replacements_only |   1.7m |     0.2m | 89.0% |  9.11x\n",
            "                     dinwoodie_annual_service_only |   2.3m |     0.2m | 89.5% |  9.50x\n",
            "                                   iea_26_requests |   5.1m |     1.2m | 76.8% |  4.30x\n",
            "                           iea_26_one_mobilization |   2.9m |     1.1m | 61.6% |  2.60x\n",
            "                          iea_26_two_mobilizations |   4.3m |     1.1m | 74.3% |  3.89x\n",
            "                        iea_26_three_mobilizations |   4.8m |     1.1m | 76.7% |  4.30x\n"
          ]
        }
      ],
      "source": [
        "print(f\"{'Simulation'.rjust(50)} | v0.5.1 |  Develop |   %   | Multiplier\")\n",
        "for sim in old.keys():\n",
        "    o = old[sim]\n",
        "    n = new[sim]\n",
        "    pct_faster = (o - n) / o\n",
        "    mult_faster = 1 / (n / o)\n",
        "    print(\n",
        "        f\"{sim.rjust(50)} | {o:5.1f}m | {n:7.1f}m | {pct_faster:5.1%} | {mult_faster:5.2f}x\"\n",
        "    )"
      ]
    },
    {
      "cell_type": "code",
      "execution_count": 6,
      "id": "dd1d2622-606c-4bb0-828a-2be94b4f0d85",
      "metadata": {},
      "outputs": [
        {
          "name": "stdout",
          "output_type": "stream",
          "text": [
            "Min: 2.60x\n",
            "Max: 9.50x\n",
            "Avg: 6.94x\n",
            "Med: 7.52x\n"
          ]
        }
      ],
      "source": [
        "speedup = np.array([1 / (n / o) for n, o in zip(new.values(), old.values())])\n",
        "print(f\"Min: {speedup.min():.2f}x\")\n",
        "print(f\"Max: {speedup.max():.2f}x\")\n",
        "print(f\"Avg: {speedup.mean():.2f}x\")\n",
        "print(f\"Med: {np.median(speedup):.2f}x\")"
      ]
    },
    {
      "cell_type": "code",
      "execution_count": null,
      "id": "178c84bd-2c05-49a4-97f1-e448703400e1",
      "metadata": {},
      "outputs": [],
      "source": []
    }
  ],
  "metadata": {
    "kernelspec": {
      "display_name": "Python 3 (ipykernel)",
      "language": "python",
      "name": "python3"
    },
    "language_info": {
      "codemirror_mode": {
        "name": "ipython",
        "version": 3
      },
      "file_extension": ".py",
      "mimetype": "text/x-python",
      "name": "python",
      "nbconvert_exporter": "python",
      "pygments_lexer": "ipython3",
      "version": "3.10.13"
    },
    "vscode": {
      "interpreter": {
        "hash": "58b7c990a851cca75b34d34d56ba7121ba7d2063ecbf86f6ef85bae168de1bae"
      }
    }
  },
  "nbformat": 4,
  "nbformat_minor": 5
}
