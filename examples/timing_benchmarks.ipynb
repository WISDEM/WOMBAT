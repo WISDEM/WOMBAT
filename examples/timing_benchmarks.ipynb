{
 "cells": [
  {
   "cell_type": "markdown",
   "id": "ba99fe3f-8d08-4812-932f-53d6c1ed22fc",
   "metadata": {},
   "source": [
    "# Performance Improvement Metrics\n",
    "\n",
    "This is a timing comparison for moving from v0.5.1 to v0.6"
   ]
  },
  {
   "cell_type": "code",
   "execution_count": 1,
   "id": "4cbf1303-d60e-4cdc-b853-9a5e160a9f85",
   "metadata": {},
   "outputs": [],
   "source": [
    "import numpy as np"
   ]
  },
  {
   "cell_type": "markdown",
   "id": "9074435d-07e7-42af-afe5-2e6db7b53ece",
   "metadata": {},
   "source": [
    "## Dinwoodie validation"
   ]
  },
  {
   "cell_type": "code",
   "execution_count": 2,
   "id": "394853bd-851a-4d3b-b9a4-a38e88ada29e",
   "metadata": {},
   "outputs": [],
   "source": [
    "old = {\n",
    "    \"dinwoodie_base\": 1.91,\n",
    "    \"dinwoodie_more_ctvs\": 2.25,\n",
    "    \"dinwoodie_fewer_ctvs\": 2.34,\n",
    "    \"dinwoodie_more_techs\": 2.28,\n",
    "    \"dinwoodie_fewer_techs\": 2.58,\n",
    "    \"dinwoodie_failure_50\": 2.33,\n",
    "    \"dinwoodie_failure_200\": 3.54,\n",
    "    \"dinwoodie_no_hlvs\": 2.78,\n",
    "    \"dinwoodie_no_weather\": 2.74,\n",
    "    \"dinwoodie_historic_weather\": 2.50,\n",
    "    \"dinwoodie_manual_resets_only\": 2.50,\n",
    "    \"dinwoodie_minor_repairs_only\": 2.01,\n",
    "    \"dinwoodie_medium_repairs_only\": 1.89,\n",
    "    \"dinwoodie_major_repairs_only\": 1.43,\n",
    "    \"dinwoodie_major_replacements_only\": 1.73,\n",
    "    \"dinwoodie_annual_service_only\": 2.28,\n",
    "}\n",
    "\n",
    "new = {\n",
    "    \"dinwoodie_base\": 0.72,\n",
    "    \"dinwoodie_more_ctvs\": 0.81,\n",
    "    \"dinwoodie_fewer_ctvs\": 0.74,\n",
    "    \"dinwoodie_more_techs\": 0.74,\n",
    "    \"dinwoodie_fewer_techs\": 0.83,\n",
    "    \"dinwoodie_failure_50\": 0.71,\n",
    "    \"dinwoodie_failure_200\": 0.81,\n",
    "    \"dinwoodie_no_hlvs\": 0.89,\n",
    "    \"dinwoodie_no_weather\": 1.03,\n",
    "    \"dinwoodie_historic_weather\": 0.68,\n",
    "    \"dinwoodie_manual_resets_only\": 0.68,\n",
    "    \"dinwoodie_minor_repairs_only\": 0.63,\n",
    "    \"dinwoodie_medium_repairs_only\": 0.55,\n",
    "    \"dinwoodie_major_repairs_only\": 0.54,\n",
    "    \"dinwoodie_major_replacements_only\": 0.57,\n",
    "    \"dinwoodie_annual_service_only\": 0.68,\n",
    "}"
   ]
  },
  {
   "cell_type": "markdown",
   "id": "ecb1f861-e922-4b91-98fe-b1256290fb64",
   "metadata": {},
   "source": [
    "## Dinwoodie 100% Reduction"
   ]
  },
  {
   "cell_type": "code",
   "execution_count": 3,
   "id": "98f1c4cb-74a2-410e-911e-163fb98fac05",
   "metadata": {
    "tags": []
   },
   "outputs": [],
   "source": [
    "old.update({\n",
    "    \"dinwoodie_base_100pct_reduction\": 1.99,\n",
    "    \"dinwoodie_more_ctvs_100pct_reduction\": 2.20,\n",
    "    \"dinwoodie_fewer_ctvs_100pct_reduction\": 2.14,\n",
    "    \"dinwoodie_more_techs_100pct_reduction\": 2.17,\n",
    "    \"dinwoodie_fewer_techs_100pct_reduction\": 2.25,\n",
    "    \"dinwoodie_failure_50_100pct_reduction\": 1.79,\n",
    "    \"dinwoodie_failure_200_100pct_reduction\": 3.35,\n",
    "    \"dinwoodie_no_hlvs_100pct_reduction\": 2.52,\n",
    "    \"dinwoodie_no_weather_100pct_reduction\": 2.55,\n",
    "    \"dinwoodie_historic_weather_100pct_reduction\": 2.17,\n",
    "    \"dinwoodie_manual_resets_only_100pct_reduction\": 2.32,\n",
    "    \"dinwoodie_minor_repairs_only_100pct_reduction\": 2.09,\n",
    "    \"dinwoodie_medium_repairs_only_100pct_reduction\": 1.81,\n",
    "    \"dinwoodie_major_repairs_only_100pct_reduction\": 1.57,\n",
    "    \"dinwoodie_major_replacements_only_100pct_reduction\": 1.71,\n",
    "    \"dinwoodie_annual_service_only_100pct_reduction\": 2.29,\n",
    "})\n",
    "\n",
    "new.update({\n",
    "    \"dinwoodie_base_100pct_reduction\": 0.67,\n",
    "    \"dinwoodie_more_ctvs_100pct_reduction\": 0.76,\n",
    "    \"dinwoodie_fewer_ctvs_100pct_reduction\": 0.74,\n",
    "    \"dinwoodie_more_techs_100pct_reduction\": 0.73,\n",
    "    \"dinwoodie_fewer_techs_100pct_reduction\": 0.76,\n",
    "    \"dinwoodie_failure_50_100pct_reduction\": 0.69,\n",
    "    \"dinwoodie_failure_200_100pct_reduction\": 0.91,\n",
    "    \"dinwoodie_no_hlvs_100pct_reduction\": 0.62,\n",
    "    \"dinwoodie_no_weather_100pct_reduction\": 0.98,\n",
    "    \"dinwoodie_historic_weather_100pct_reduction\": 0.59,\n",
    "    \"dinwoodie_manual_resets_only_100pct_reduction\": 0.68,\n",
    "    \"dinwoodie_minor_repairs_only_100pct_reduction\": 0.54,\n",
    "    \"dinwoodie_medium_repairs_only_100pct_reduction\": 0.51,\n",
    "    \"dinwoodie_major_repairs_only_100pct_reduction\": 0.50,\n",
    "    \"dinwoodie_major_replacements_only_100pct_reduction\": 0.51,\n",
    "    \"dinwoodie_annual_service_only_100pct_reduction\": 0.58,\n",
    "})"
   ]
  },
  {
   "cell_type": "markdown",
   "id": "f3db1c4d-d696-4cd1-aae7-99c331cc97a4",
   "metadata": {},
   "source": [
    "## IEA Task 26 Validation"
   ]
  },
  {
   "cell_type": "code",
   "execution_count": 4,
   "id": "86656019-bb5f-4236-a0d6-d26f6dcbb028",
   "metadata": {},
   "outputs": [],
   "source": [
    "old.update({\n",
    "    \"iea_26_requests\": 6.21,\n",
    "    \"iea_26_requests_100pct_reduction\": 5.81,\n",
    "    \"iea_26_one_mobilization\": 5.04,\n",
    "    \"iea_26_one_mobilization_100pct_reduction\": 5.18,\n",
    "    \"iea_26_two_mobilizations\": 5.84,\n",
    "    \"iea_26_two_mobilizations_100pct_reduction\": 5.51,\n",
    "    \"iea_26_three_mobilizations\": 6.08,\n",
    "    \"iea_26_three_mobilizations_100pct_reduction\": 6.39,\n",
    "})\n",
    "\n",
    "new.update({\n",
    "    \"iea_26_requests\": 1.72,\n",
    "    \"iea_26_requests_100pct_reduction\": 1.78,\n",
    "    \"iea_26_one_mobilization\": 1.61,\n",
    "    \"iea_26_one_mobilization_100pct_reduction\": 1.82,\n",
    "    \"iea_26_two_mobilizations\": 1.74,\n",
    "    \"iea_26_two_mobilizations_100pct_reduction\": 1.79,\n",
    "    \"iea_26_three_mobilizations\": 1.76,\n",
    "    \"iea_26_three_mobilizations_100pct_reduction\": 1.82,\n",
    "})"
   ]
  },
  {
   "cell_type": "code",
   "execution_count": 5,
   "id": "489a83a1-0a61-42e0-9a87-35aa54f2454f",
   "metadata": {},
   "outputs": [
    {
     "name": "stdout",
     "output_type": "stream",
     "text": [
      "                                        Simulation | v0.5.1 |  Develop |   %   | Multiplier\n",
      "                                    dinwoodie_base |   1.9m |     0.7m | 62.3% |  2.65x\n",
      "                               dinwoodie_more_ctvs |   2.2m |     0.8m | 64.0% |  2.78x\n",
      "                              dinwoodie_fewer_ctvs |   2.3m |     0.7m | 68.4% |  3.16x\n",
      "                              dinwoodie_more_techs |   2.3m |     0.7m | 67.5% |  3.08x\n",
      "                             dinwoodie_fewer_techs |   2.6m |     0.8m | 67.8% |  3.11x\n",
      "                              dinwoodie_failure_50 |   2.3m |     0.7m | 69.5% |  3.28x\n",
      "                             dinwoodie_failure_200 |   3.5m |     0.8m | 77.1% |  4.37x\n",
      "                                 dinwoodie_no_hlvs |   2.8m |     0.9m | 68.0% |  3.12x\n",
      "                              dinwoodie_no_weather |   2.7m |     1.0m | 62.4% |  2.66x\n",
      "                        dinwoodie_historic_weather |   2.5m |     0.7m | 72.8% |  3.68x\n",
      "                      dinwoodie_manual_resets_only |   2.5m |     0.7m | 72.8% |  3.68x\n",
      "                      dinwoodie_minor_repairs_only |   2.0m |     0.6m | 68.7% |  3.19x\n",
      "                     dinwoodie_medium_repairs_only |   1.9m |     0.6m | 70.9% |  3.44x\n",
      "                      dinwoodie_major_repairs_only |   1.4m |     0.5m | 62.2% |  2.65x\n",
      "                 dinwoodie_major_replacements_only |   1.7m |     0.6m | 67.1% |  3.04x\n",
      "                     dinwoodie_annual_service_only |   2.3m |     0.7m | 70.2% |  3.35x\n",
      "                   dinwoodie_base_100pct_reduction |   2.0m |     0.7m | 66.3% |  2.97x\n",
      "              dinwoodie_more_ctvs_100pct_reduction |   2.2m |     0.8m | 65.5% |  2.89x\n",
      "             dinwoodie_fewer_ctvs_100pct_reduction |   2.1m |     0.7m | 65.4% |  2.89x\n",
      "             dinwoodie_more_techs_100pct_reduction |   2.2m |     0.7m | 66.4% |  2.97x\n",
      "            dinwoodie_fewer_techs_100pct_reduction |   2.2m |     0.8m | 66.2% |  2.96x\n",
      "             dinwoodie_failure_50_100pct_reduction |   1.8m |     0.7m | 61.5% |  2.59x\n",
      "            dinwoodie_failure_200_100pct_reduction |   3.4m |     0.9m | 72.8% |  3.68x\n",
      "                dinwoodie_no_hlvs_100pct_reduction |   2.5m |     0.6m | 75.4% |  4.06x\n",
      "             dinwoodie_no_weather_100pct_reduction |   2.5m |     1.0m | 61.6% |  2.60x\n",
      "       dinwoodie_historic_weather_100pct_reduction |   2.2m |     0.6m | 72.8% |  3.68x\n",
      "     dinwoodie_manual_resets_only_100pct_reduction |   2.3m |     0.7m | 70.7% |  3.41x\n",
      "     dinwoodie_minor_repairs_only_100pct_reduction |   2.1m |     0.5m | 74.2% |  3.87x\n",
      "    dinwoodie_medium_repairs_only_100pct_reduction |   1.8m |     0.5m | 71.8% |  3.55x\n",
      "     dinwoodie_major_repairs_only_100pct_reduction |   1.6m |     0.5m | 68.2% |  3.14x\n",
      "dinwoodie_major_replacements_only_100pct_reduction |   1.7m |     0.5m | 70.2% |  3.35x\n",
      "    dinwoodie_annual_service_only_100pct_reduction |   2.3m |     0.6m | 74.7% |  3.95x\n",
      "                                   iea_26_requests |   6.2m |     1.7m | 72.3% |  3.61x\n",
      "                  iea_26_requests_100pct_reduction |   5.8m |     1.8m | 69.4% |  3.26x\n",
      "                           iea_26_one_mobilization |   5.0m |     1.6m | 68.1% |  3.13x\n",
      "          iea_26_one_mobilization_100pct_reduction |   5.2m |     1.8m | 64.9% |  2.85x\n",
      "                          iea_26_two_mobilizations |   5.8m |     1.7m | 70.2% |  3.36x\n",
      "         iea_26_two_mobilizations_100pct_reduction |   5.5m |     1.8m | 67.5% |  3.08x\n",
      "                        iea_26_three_mobilizations |   6.1m |     1.8m | 71.1% |  3.45x\n",
      "       iea_26_three_mobilizations_100pct_reduction |   6.4m |     1.8m | 71.5% |  3.51x\n"
     ]
    }
   ],
   "source": [
    "print(f\"{'Simulation'.rjust(50)} | v0.5.1 |  Develop |   %   | Multiplier\")\n",
    "for sim in old.keys():\n",
    "    o = old[sim]\n",
    "    n = new[sim]\n",
    "    pct_faster = (o - n) / o\n",
    "    mult_faster = 1 / (n / o)\n",
    "    print(f\"{sim.rjust(50)} | {o:5.1f}m | {n:7.1f}m | {pct_faster:5.1%} | {mult_faster:5.2f}x\")"
   ]
  },
  {
   "cell_type": "code",
   "execution_count": 6,
   "id": "dd1d2622-606c-4bb0-828a-2be94b4f0d85",
   "metadata": {},
   "outputs": [
    {
     "name": "stdout",
     "output_type": "stream",
     "text": [
      "Min: 2.59x\n",
      "Max: 4.37x\n",
      "Avg: 3.25x\n",
      "Med: 3.18x\n"
     ]
    }
   ],
   "source": [
    "speedup = np.array([1 / (n / o) for n, o in zip(new.values(), old.values())])\n",
    "print(f\"Min: {speedup.min():.2f}x\")\n",
    "print(f\"Max: {speedup.max():.2f}x\")\n",
    "print(f\"Avg: {speedup.mean():.2f}x\")\n",
    "print(f\"Med: {np.median(speedup):.2f}x\")"
   ]
  },
  {
   "cell_type": "code",
   "execution_count": null,
   "id": "178c84bd-2c05-49a4-97f1-e448703400e1",
   "metadata": {},
   "outputs": [],
   "source": []
  }
 ],
 "metadata": {
  "kernelspec": {
   "display_name": "Python 3 (ipykernel)",
   "language": "python",
   "name": "python3"
  },
  "language_info": {
   "codemirror_mode": {
    "name": "ipython",
    "version": 3
   },
   "file_extension": ".py",
   "mimetype": "text/x-python",
   "name": "python",
   "nbconvert_exporter": "python",
   "pygments_lexer": "ipython3",
   "version": "3.8.8"
  },
  "vscode": {
   "interpreter": {
    "hash": "58b7c990a851cca75b34d34d56ba7121ba7d2063ecbf86f6ef85bae168de1bae"
   }
  }
 },
 "nbformat": 4,
 "nbformat_minor": 5
}
