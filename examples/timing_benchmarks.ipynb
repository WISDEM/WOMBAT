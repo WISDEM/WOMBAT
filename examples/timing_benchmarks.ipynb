{
 "cells": [
  {
   "cell_type": "markdown",
   "id": "ba99fe3f-8d08-4812-932f-53d6c1ed22fc",
   "metadata": {},
   "source": [
    "# Performance Improvement Metrics\n",
    "\n",
    "Updates include changes from the following branches:\n",
    "- enhancement/if_to_event\n",
    "- feature/date_limits\n",
    "- enhancement/library-restructure\n",
    "- enhancement/csv-logging\n",
    "\n",
    "NOTE: Here, old refers to the main branch results at v0.5.1 and new refers to whatever the latest included branch happens to be"
   ]
  },
  {
   "cell_type": "code",
   "execution_count": 1,
   "id": "4cbf1303-d60e-4cdc-b853-9a5e160a9f85",
   "metadata": {},
   "outputs": [],
   "source": [
    "import numpy as np"
   ]
  },
  {
   "cell_type": "markdown",
   "id": "9074435d-07e7-42af-afe5-2e6db7b53ece",
   "metadata": {},
   "source": [
    "## Dinwoodie validation"
   ]
  },
  {
   "cell_type": "code",
   "execution_count": 2,
   "id": "394853bd-851a-4d3b-b9a4-a38e88ada29e",
   "metadata": {},
   "outputs": [],
   "source": [
    "old = {\n",
    "    \"dinwoodie_base\": 1.91,\n",
    "    \"dinwoodie_more_ctvs\": 2.25,\n",
    "    \"dinwoodie_fewer_ctvs\": 2.34,\n",
    "    \"dinwoodie_more_techs\": 2.28,\n",
    "    \"dinwoodie_fewer_techs\": 2.58,\n",
    "    \"dinwoodie_failure_50\": 2.33,\n",
    "    \"dinwoodie_failure_200\": 3.54,\n",
    "    \"dinwoodie_no_hlvs\": 2.78,\n",
    "    \"dinwoodie_no_weather\": 2.74,\n",
    "    \"dinwoodie_historic_weather\": 2.50,\n",
    "    \"dinwoodie_manual_resets_only\": 2.50,\n",
    "    \"dinwoodie_minor_repairs_only\": 2.01,\n",
    "    \"dinwoodie_medium_repairs_only\": 1.89,\n",
    "    \"dinwoodie_major_repairs_only\": 1.43,\n",
    "    \"dinwoodie_major_replacements_only\": 1.73,\n",
    "    \"dinwoodie_annual_service_only\": 2.28,\n",
    "}\n",
    "\n",
    "new = {\n",
    "    \"dinwoodie_base\": 0.96,\n",
    "    \"dinwoodie_more_ctvs\": 0.95,\n",
    "    \"dinwoodie_fewer_ctvs\": 0.90,\n",
    "    \"dinwoodie_more_techs\": 0.96,\n",
    "    \"dinwoodie_fewer_techs\": 0.94,\n",
    "    \"dinwoodie_failure_50\": 0.82,\n",
    "    \"dinwoodie_failure_200\": 1.21,\n",
    "    \"dinwoodie_no_hlvs\": 0.99,\n",
    "    \"dinwoodie_no_weather\": 1.50,\n",
    "    \"dinwoodie_historic_weather\": 0.76,\n",
    "    \"dinwoodie_manual_resets_only\": 0.73,\n",
    "    \"dinwoodie_minor_repairs_only\": 0.62,\n",
    "    \"dinwoodie_medium_repairs_only\": 0.53,\n",
    "    \"dinwoodie_major_repairs_only\": 0.56,\n",
    "    \"dinwoodie_major_replacements_only\": 0.53,\n",
    "    \"dinwoodie_annual_service_only\": 0.63,\n",
    "}"
   ]
  },
  {
   "cell_type": "markdown",
   "id": "ecb1f861-e922-4b91-98fe-b1256290fb64",
   "metadata": {},
   "source": [
    "## Dinwoodie 100% Reduction"
   ]
  },
  {
   "cell_type": "code",
   "execution_count": 3,
   "id": "98f1c4cb-74a2-410e-911e-163fb98fac05",
   "metadata": {
    "tags": []
   },
   "outputs": [],
   "source": [
    "old.update({\n",
    "    \"dinwoodie_base_100pct_reduction\": 1.99,\n",
    "    \"dinwoodie_more_ctvs_100pct_reduction\": 2.20,\n",
    "    \"dinwoodie_fewer_ctvs_100pct_reduction\": 2.14,\n",
    "    \"dinwoodie_more_techs_100pct_reduction\": 2.17,\n",
    "    \"dinwoodie_fewer_techs_100pct_reduction\": 2.25,\n",
    "    \"dinwoodie_failure_50_100pct_reduction\": 1.79,\n",
    "    \"dinwoodie_failure_200_100pct_reduction\": 3.35,\n",
    "    \"dinwoodie_no_hlvs_100pct_reduction\": 2.52,\n",
    "    \"dinwoodie_no_weather_100pct_reduction\": 2.55,\n",
    "    \"dinwoodie_historic_weather_100pct_reduction\": 2.17,\n",
    "    \"dinwoodie_manual_resets_only_100pct_reduction\": 2.32,\n",
    "    \"dinwoodie_minor_repairs_only_100pct_reduction\": 2.09,\n",
    "    \"dinwoodie_medium_repairs_only_100pct_reduction\": 1.81,\n",
    "    \"dinwoodie_major_repairs_only_100pct_reduction\": 1.57,\n",
    "    \"dinwoodie_major_replacements_only_100pct_reduction\": 1.71,\n",
    "    \"dinwoodie_annual_service_only_100pct_reduction\": 2.29,\n",
    "})\n",
    "\n",
    "new.update({\n",
    "    \"dinwoodie_base_100pct_reduction\": 0.92,\n",
    "    \"dinwoodie_more_ctvs_100pct_reduction\": 1.00,\n",
    "    \"dinwoodie_fewer_ctvs_100pct_reduction\": 0.94,\n",
    "    \"dinwoodie_more_techs_100pct_reduction\": 0.95,\n",
    "    \"dinwoodie_fewer_techs_100pct_reduction\": 0.90,\n",
    "    \"dinwoodie_failure_50_100pct_reduction\": 0.76,\n",
    "    \"dinwoodie_failure_200_100pct_reduction\": 1.25,\n",
    "    \"dinwoodie_no_hlvs_100pct_reduction\": 0.88,\n",
    "    \"dinwoodie_no_weather_100pct_reduction\": 1.16,\n",
    "    \"dinwoodie_historic_weather_100pct_reduction\": 0.67,\n",
    "    \"dinwoodie_manual_resets_only_100pct_reduction\": 0.66,\n",
    "    \"dinwoodie_minor_repairs_only_100pct_reduction\": 0.59,\n",
    "    \"dinwoodie_medium_repairs_only_100pct_reduction\": 0.51,\n",
    "    \"dinwoodie_major_repairs_only_100pct_reduction\": 0.53,\n",
    "    \"dinwoodie_major_replacements_only_100pct_reduction\": 0.51,\n",
    "    \"dinwoodie_annual_service_only_100pct_reduction\": 0.62,\n",
    "})"
   ]
  },
  {
   "cell_type": "markdown",
   "id": "f3db1c4d-d696-4cd1-aae7-99c331cc97a4",
   "metadata": {},
   "source": [
    "## IEA Task 26 Validation"
   ]
  },
  {
   "cell_type": "code",
   "execution_count": 4,
   "id": "86656019-bb5f-4236-a0d6-d26f6dcbb028",
   "metadata": {},
   "outputs": [],
   "source": [
    "old.update({\n",
    "    \"iea_26_requests\": 6.21,\n",
    "    \"iea_26_requests_100pct_reduction\": 5.81,\n",
    "    \"iea_26_one_mobilization\": 5.04,\n",
    "    \"iea_26_one_mobilization_100pct_reduction\": 5.18,\n",
    "    \"iea_26_two_mobilizations\": 5.84,\n",
    "    \"iea_26_two_mobilizations_100pct_reduction\": 5.51,\n",
    "    \"iea_26_three_mobilizations\": 6.08,\n",
    "    \"iea_26_three_mobilizations_100pct_reduction\": 6.39,\n",
    "})\n",
    "\n",
    "new.update({\n",
    "    \"iea_26_requests\": 3.15,\n",
    "    \"iea_26_requests_100pct_reduction\": 3.32,\n",
    "    \"iea_26_one_mobilization\": 2.94,\n",
    "    \"iea_26_one_mobilization_100pct_reduction\": 3.12,\n",
    "    \"iea_26_two_mobilizations\": 3.53,\n",
    "    \"iea_26_two_mobilizations_100pct_reduction\": 4.04,\n",
    "    \"iea_26_three_mobilizations\": 3.96,\n",
    "    \"iea_26_three_mobilizations_100pct_reduction\": 3.94,\n",
    "})"
   ]
  },
  {
   "cell_type": "code",
   "execution_count": 5,
   "id": "489a83a1-0a61-42e0-9a87-35aa54f2454f",
   "metadata": {},
   "outputs": [
    {
     "name": "stdout",
     "output_type": "stream",
     "text": [
      "                                        Simulation | v0.5.1 |  Develop |   %   | Multiplier\n",
      "                                    dinwoodie_base |   1.9m |     1.0m | 49.7% |  1.99x\n",
      "                               dinwoodie_more_ctvs |   2.2m |     0.9m | 57.8% |  2.37x\n",
      "                              dinwoodie_fewer_ctvs |   2.3m |     0.9m | 61.5% |  2.60x\n",
      "                              dinwoodie_more_techs |   2.3m |     1.0m | 57.9% |  2.38x\n",
      "                             dinwoodie_fewer_techs |   2.6m |     0.9m | 63.6% |  2.74x\n",
      "                              dinwoodie_failure_50 |   2.3m |     0.8m | 64.8% |  2.84x\n",
      "                             dinwoodie_failure_200 |   3.5m |     1.2m | 65.8% |  2.93x\n",
      "                                 dinwoodie_no_hlvs |   2.8m |     1.0m | 64.4% |  2.81x\n",
      "                              dinwoodie_no_weather |   2.7m |     1.5m | 45.3% |  1.83x\n",
      "                        dinwoodie_historic_weather |   2.5m |     0.8m | 69.6% |  3.29x\n",
      "                      dinwoodie_manual_resets_only |   2.5m |     0.7m | 70.8% |  3.42x\n",
      "                      dinwoodie_minor_repairs_only |   2.0m |     0.6m | 69.2% |  3.24x\n",
      "                     dinwoodie_medium_repairs_only |   1.9m |     0.5m | 72.0% |  3.57x\n",
      "                      dinwoodie_major_repairs_only |   1.4m |     0.6m | 60.8% |  2.55x\n",
      "                 dinwoodie_major_replacements_only |   1.7m |     0.5m | 69.4% |  3.26x\n",
      "                     dinwoodie_annual_service_only |   2.3m |     0.6m | 72.4% |  3.62x\n",
      "                   dinwoodie_base_100pct_reduction |   2.0m |     0.9m | 53.8% |  2.16x\n",
      "              dinwoodie_more_ctvs_100pct_reduction |   2.2m |     1.0m | 54.5% |  2.20x\n",
      "             dinwoodie_fewer_ctvs_100pct_reduction |   2.1m |     0.9m | 56.1% |  2.28x\n",
      "             dinwoodie_more_techs_100pct_reduction |   2.2m |     0.9m | 56.2% |  2.28x\n",
      "            dinwoodie_fewer_techs_100pct_reduction |   2.2m |     0.9m | 60.0% |  2.50x\n",
      "             dinwoodie_failure_50_100pct_reduction |   1.8m |     0.8m | 57.5% |  2.36x\n",
      "            dinwoodie_failure_200_100pct_reduction |   3.4m |     1.2m | 62.7% |  2.68x\n",
      "                dinwoodie_no_hlvs_100pct_reduction |   2.5m |     0.9m | 65.1% |  2.86x\n",
      "             dinwoodie_no_weather_100pct_reduction |   2.5m |     1.2m | 54.5% |  2.20x\n",
      "       dinwoodie_historic_weather_100pct_reduction |   2.2m |     0.7m | 69.1% |  3.24x\n",
      "     dinwoodie_manual_resets_only_100pct_reduction |   2.3m |     0.7m | 71.6% |  3.52x\n",
      "     dinwoodie_minor_repairs_only_100pct_reduction |   2.1m |     0.6m | 71.8% |  3.54x\n",
      "    dinwoodie_medium_repairs_only_100pct_reduction |   1.8m |     0.5m | 71.8% |  3.55x\n",
      "     dinwoodie_major_repairs_only_100pct_reduction |   1.6m |     0.5m | 66.2% |  2.96x\n",
      "dinwoodie_major_replacements_only_100pct_reduction |   1.7m |     0.5m | 70.2% |  3.35x\n",
      "    dinwoodie_annual_service_only_100pct_reduction |   2.3m |     0.6m | 72.9% |  3.69x\n",
      "                                   iea_26_requests |   6.2m |     3.1m | 49.3% |  1.97x\n",
      "                  iea_26_requests_100pct_reduction |   5.8m |     3.3m | 42.9% |  1.75x\n",
      "                           iea_26_one_mobilization |   5.0m |     2.9m | 41.7% |  1.71x\n",
      "          iea_26_one_mobilization_100pct_reduction |   5.2m |     3.1m | 39.8% |  1.66x\n",
      "                          iea_26_two_mobilizations |   5.8m |     3.5m | 39.6% |  1.65x\n",
      "         iea_26_two_mobilizations_100pct_reduction |   5.5m |     4.0m | 26.7% |  1.36x\n",
      "                        iea_26_three_mobilizations |   6.1m |     4.0m | 34.9% |  1.54x\n",
      "       iea_26_three_mobilizations_100pct_reduction |   6.4m |     3.9m | 38.3% |  1.62x\n"
     ]
    }
   ],
   "source": [
    "print(f\"{'Simulation'.rjust(50)} | v0.5.1 |  Develop |   %   | Multiplier\")\n",
    "for sim in old.keys():\n",
    "    o = old[sim]\n",
    "    n = new[sim]\n",
    "    pct_faster = (o - n) / o\n",
    "    mult_faster = 1 / (n / o)\n",
    "    print(f\"{sim.rjust(50)} | {o:5.1f}m | {n:7.1f}m | {pct_faster:5.1%} | {mult_faster:5.2f}x\")"
   ]
  },
  {
   "cell_type": "code",
   "execution_count": 6,
   "id": "dd1d2622-606c-4bb0-828a-2be94b4f0d85",
   "metadata": {},
   "outputs": [
    {
     "name": "stdout",
     "output_type": "stream",
     "text": [
      "Min: 1.36x\n",
      "Max: 3.69x\n",
      "Avg: 2.60x\n",
      "Med: 2.58x\n"
     ]
    }
   ],
   "source": [
    "speedup = np.array([1 / (n / o) for n, o in zip(new.values(), old.values())])\n",
    "print(f\"Min: {speedup.min():.2f}x\")\n",
    "print(f\"Max: {speedup.max():.2f}x\")\n",
    "print(f\"Avg: {speedup.mean():.2f}x\")\n",
    "print(f\"Med: {np.median(speedup):.2f}x\")"
   ]
  },
  {
   "cell_type": "code",
   "execution_count": null,
   "id": "178c84bd-2c05-49a4-97f1-e448703400e1",
   "metadata": {},
   "outputs": [],
   "source": []
  }
 ],
 "metadata": {
  "kernelspec": {
   "display_name": "Python 3 (ipykernel)",
   "language": "python",
   "name": "python3"
  },
  "language_info": {
   "codemirror_mode": {
    "name": "ipython",
    "version": 3
   },
   "file_extension": ".py",
   "mimetype": "text/x-python",
   "name": "python",
   "nbconvert_exporter": "python",
   "pygments_lexer": "ipython3",
   "version": "3.8.8"
  },
  "vscode": {
   "interpreter": {
    "hash": "58b7c990a851cca75b34d34d56ba7121ba7d2063ecbf86f6ef85bae168de1bae"
   }
  }
 },
 "nbformat": 4,
 "nbformat_minor": 5
}
